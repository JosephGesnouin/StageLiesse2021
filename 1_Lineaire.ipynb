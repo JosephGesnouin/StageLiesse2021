{
  "nbformat": 4,
  "nbformat_minor": 0,
  "metadata": {
    "kernelspec": {
      "display_name": "Python 3",
      "language": "python",
      "name": "python3"
    },
    "language_info": {
      "codemirror_mode": {
        "name": "ipython",
        "version": 3
      },
      "file_extension": ".py",
      "mimetype": "text/x-python",
      "name": "python",
      "nbconvert_exporter": "python",
      "pygments_lexer": "ipython3",
      "version": "3.8.8"
    },
    "colab": {
      "name": "1-Lineaire.ipynb",
      "provenance": [],
      "collapsed_sections": [
        "BxWl8phecKFN",
        "exIj7kLKcKFa",
        "CHIIl9fHcKFb",
        "rOkmxxZ5cKFc",
        "Dt8sPLHtcKFd"
      ],
      "include_colab_link": true
    }
  },
  "cells": [
    {
      "cell_type": "markdown",
      "metadata": {
        "id": "view-in-github",
        "colab_type": "text"
      },
      "source": [
        "<a href=\"https://colab.research.google.com/github/JosephGesnouin/StageLiesse2021/blob/main/1_Lineaire.ipynb\" target=\"_parent\"><img src=\"https://colab.research.google.com/assets/colab-badge.svg\" alt=\"Open In Colab\"/></a>"
      ]
    },
    {
      "cell_type": "markdown",
      "metadata": {
        "id": "yGkD7pM0cKFC"
      },
      "source": [
        "# Stage LIESSE – TP 1 – Régressions linéaire et logistique"
      ]
    },
    {
      "cell_type": "markdown",
      "metadata": {
        "id": "aHf8Z00IcKFH"
      },
      "source": [
        "Le but de ce notebook est de présenter la régression linéaire et la régression logistique."
      ]
    },
    {
      "cell_type": "markdown",
      "metadata": {
        "id": "3D0He4excKFH"
      },
      "source": [
        "## Chargement des librairies"
      ]
    },
    {
      "cell_type": "markdown",
      "metadata": {
        "id": "AJRWpo8DcKFH"
      },
      "source": [
        "__Numpy, matplotlib et pandas__"
      ]
    },
    {
      "cell_type": "code",
      "metadata": {
        "colab": {
          "base_uri": "https://localhost:8080/"
        },
        "id": "ByE-r7uBcKFI",
        "outputId": "720c67a5-9ef9-4553-c394-3a3509b2cfec"
      },
      "source": [
        "%pylab inline "
      ],
      "execution_count": null,
      "outputs": [
        {
          "output_type": "stream",
          "text": [
            "Populating the interactive namespace from numpy and matplotlib\n"
          ],
          "name": "stdout"
        }
      ]
    },
    {
      "cell_type": "code",
      "metadata": {
        "id": "yCXWhRevcKFI"
      },
      "source": [
        "from IPython.display import set_matplotlib_formats\n",
        "set_matplotlib_formats('svg')"
      ],
      "execution_count": null,
      "outputs": []
    },
    {
      "cell_type": "code",
      "metadata": {
        "id": "yL2N6yuzcKFI"
      },
      "source": [
        "import pandas as pd"
      ],
      "execution_count": null,
      "outputs": []
    },
    {
      "cell_type": "markdown",
      "metadata": {
        "id": "wIUg7OsScKFJ"
      },
      "source": [
        "__Scikit-learn__\n",
        "\n",
        "[Scikit-learn](http://scikit-learn.org) est le module Python par excellence pour les algorithmes de machine learning classiques. "
      ]
    },
    {
      "cell_type": "code",
      "metadata": {
        "id": "toR1l8HQcKFJ"
      },
      "source": [
        "import sklearn"
      ],
      "execution_count": null,
      "outputs": []
    },
    {
      "cell_type": "markdown",
      "metadata": {
        "id": "C5IJFpO1cKFJ"
      },
      "source": [
        "## 1. Régression linéaire"
      ]
    },
    {
      "cell_type": "markdown",
      "metadata": {
        "id": "uHfQb4gkcKFJ"
      },
      "source": [
        "### Chargement des données"
      ]
    },
    {
      "cell_type": "markdown",
      "metadata": {
        "id": "N7bJXIwecKFJ"
      },
      "source": [
        "Nous allons travailler sur le Problème 1 défini dans le notebook `0-Donnees.ipynb`. Chargeons de nouveau les données, de la même manière que dans ce notebook."
      ]
    },
    {
      "cell_type": "code",
      "metadata": {
        "colab": {
          "base_uri": "https://localhost:8080/"
        },
        "id": "2G0CmBsxcKFK",
        "outputId": "813a51e5-e8f7-49be-9c2c-7fc2951cb1e0"
      },
      "source": [
        "import pandas as pd\n",
        "!wget https://raw.githubusercontent.com/chagaz/ml-notebooks/master/liesse/data/penguins.csv\n",
        "\n",
        "penguins = pd.read_csv(\"/content/penguins.csv\")"
      ],
      "execution_count": null,
      "outputs": [
        {
          "output_type": "stream",
          "text": [
            "--2021-04-29 07:13:02--  https://raw.githubusercontent.com/chagaz/ml-notebooks/master/liesse/data/penguins.csv\n",
            "Resolving raw.githubusercontent.com (raw.githubusercontent.com)... 185.199.108.133, 185.199.109.133, 185.199.110.133, ...\n",
            "Connecting to raw.githubusercontent.com (raw.githubusercontent.com)|185.199.108.133|:443... connected.\n",
            "HTTP request sent, awaiting response... 200 OK\n",
            "Length: 16286 (16K) [text/plain]\n",
            "Saving to: ‘penguins.csv.2’\n",
            "\n",
            "\rpenguins.csv.2        0%[                    ]       0  --.-KB/s               \rpenguins.csv.2      100%[===================>]  15.90K  --.-KB/s    in 0.001s  \n",
            "\n",
            "2021-04-29 07:13:02 (13.2 MB/s) - ‘penguins.csv.2’ saved [16286/16286]\n",
            "\n"
          ],
          "name": "stdout"
        }
      ]
    },
    {
      "cell_type": "code",
      "metadata": {
        "id": "aWPTP_cBcKFK"
      },
      "source": [
        "X = penguins[[\"bill_length_mm\", \"bill_depth_mm\", \"flipper_length_mm\"]].to_numpy()\n",
        "y_regress = penguins[\"body_mass_g\"]"
      ],
      "execution_count": null,
      "outputs": []
    },
    {
      "cell_type": "markdown",
      "metadata": {
        "id": "cA3-ybkZcKFK"
      },
      "source": [
        "### Formalisme \n",
        "\n",
        "Nous disposons de $n$ observations en $p$ dimensions, représentés par une matrice $X \\in \\mathbb{R}^{nxp}$ (ici, $p=3$), et d'un vecteur d'étiquettes $\\boldsymbol{y} \\in \\mathbb{R}^{n}$. Le but d'une régression linéaire est d'apprendre une fonction linéaire,\n",
        "\n",
        "$$f: \\boldsymbol{x} \\in \\mathbb{R}^p \\mapsto \\beta_0 + \\boldsymbol{\\beta}^\\top \\boldsymbol{x},$$\n",
        "\n",
        "où $\\beta_0 \\in \\mathbb{R}$ et $\\boldsymbol\\beta \\in \\mathbb{R}^p$.\n",
        "\n",
        "Pour ce faire, on __minimise le risque empirique__, calculé avec l'__erreur quadratique__ $(y, f(\\boldsymbol{x})) \\mapsto \\left(y - f(\\boldsymbol{x}) \\right)^2 $ comme fonction de perte. \n",
        "\n",
        "Il s'agit donc de trouver $\\beta_0, \\boldsymbol{\\beta}$ qui minimisent\n",
        "$$ J(\\beta_0, \\boldsymbol{\\beta}) = \\frac1n \\sum_{i=1}^n \\left(y_i - (\\beta_0 + \\boldsymbol{\\beta}^\\top \\boldsymbol{x}_i))\\right)^2.$$"
      ]
    },
    {
      "cell_type": "markdown",
      "metadata": {
        "id": "xtlpcM_xcKFL"
      },
      "source": [
        "Récupérons les valeurs de $n$ (`n_samples`) et $p$ (`n_features`) :"
      ]
    },
    {
      "cell_type": "code",
      "metadata": {
        "id": "T91SDYTDcKFL"
      },
      "source": [
        "n_samples, n_features = X.shape"
      ],
      "execution_count": null,
      "outputs": []
    },
    {
      "cell_type": "code",
      "metadata": {
        "colab": {
          "base_uri": "https://localhost:8080/"
        },
        "id": "8on6IUnycKFL",
        "outputId": "e6f5b9d3-bfb3-4f35-9863-0c8f7a763a55"
      },
      "source": [
        "print(\"Nous avons n=%d observations et p=%d variables.\" % (n_samples, n_features))"
      ],
      "execution_count": null,
      "outputs": [
        {
          "output_type": "stream",
          "text": [
            "Nous avons n=333 observations et p=3 variables.\n"
          ],
          "name": "stdout"
        }
      ]
    },
    {
      "cell_type": "markdown",
      "metadata": {
        "id": "eZjxEYUKcKFL"
      },
      "source": [
        "### Régression linéaire avec scikit-learn"
      ]
    },
    {
      "cell_type": "markdown",
      "metadata": {
        "id": "o12JTMEGcKFL"
      },
      "source": [
        "Nous allons maintenant utiliser `scikit-learn` pour trouver $\\beta_0, \\boldsymbol{\\beta}$ qui minimisent $J$.\n",
        "\n",
        "En machine learning, on parle d'__apprendre__ le modèle $f$.\n",
        "\n",
        "Les modèles linéaires sont implémentés dans le module [`linear_model`](https://scikit-learn.org/stable/modules/linear_model.html). La régression linéaire elle-même est implémentée dans la classe `linear_model.LinearRegression`. Vous pouvez consulter la documentation de cette classe [ici](https://scikit-learn.org/stable/modules/generated/sklearn.linear_model.LinearRegression.html#sklearn.linear_model.LinearRegression)."
      ]
    },
    {
      "cell_type": "code",
      "metadata": {
        "id": "YCxnlwLNcKFM"
      },
      "source": [
        "from sklearn import linear_model"
      ],
      "execution_count": null,
      "outputs": []
    },
    {
      "cell_type": "markdown",
      "metadata": {
        "id": "594rfU8ocKFM"
      },
      "source": [
        "L'entraînement d'un modèle d'apprentissage suit toujours la même logique dans `scikit-learn` : \n",
        "1. On instancie un objet de la classe de modèle qui nous intéresse, ici `LinearRegression`"
      ]
    },
    {
      "cell_type": "code",
      "metadata": {
        "id": "XM0BlqbucKFM"
      },
      "source": [
        "linreg = linear_model.LinearRegression()"
      ],
      "execution_count": null,
      "outputs": []
    },
    {
      "cell_type": "markdown",
      "metadata": {
        "id": "YJtiV0W1cKFM"
      },
      "source": [
        "2. Puis on entraîne cet objet sur les données avec la méthode `fit` :"
      ]
    },
    {
      "cell_type": "code",
      "metadata": {
        "colab": {
          "base_uri": "https://localhost:8080/"
        },
        "id": "V8r8RNK1cKFM",
        "outputId": "b7391a06-03d9-410c-8bc5-4070104fd7f9"
      },
      "source": [
        "linreg.fit(X, y_regress)"
      ],
      "execution_count": null,
      "outputs": [
        {
          "output_type": "execute_result",
          "data": {
            "text/plain": [
              "LinearRegression(copy_X=True, fit_intercept=True, n_jobs=None, normalize=False)"
            ]
          },
          "metadata": {
            "tags": []
          },
          "execution_count": 162
        }
      ]
    },
    {
      "cell_type": "markdown",
      "metadata": {
        "id": "JdX4uRlRcKFM"
      },
      "source": [
        "3. On peut accéder au modèle entraîné via des attributs de cet objet. Ici, les paramètres du modèle appris sont accessibles via les attributs `intercept_` (pour $\\beta_0$) et `coef_` (pour $\\boldsymbol{\\beta}$) :"
      ]
    },
    {
      "cell_type": "code",
      "metadata": {
        "colab": {
          "base_uri": "https://localhost:8080/"
        },
        "id": "ayLGeFrWcKFN",
        "outputId": "5cf813d0-764d-4c87-9ad4-fb22b1e3dae9"
      },
      "source": [
        "print(\"Le poids (g) d'un manchot est prédit par %.2f \" % linreg.intercept_, end='')\n",
        "print(\"+ %.2f x bill_length_mm + %.2f x bill_depth_mm + %.2f x flipper_length_mm\" % (tuple(linreg.coef_)))"
      ],
      "execution_count": null,
      "outputs": [
        {
          "output_type": "stream",
          "text": [
            "Le poids (g) d'un manchot est prédit par -6445.48 + 3.29 x bill_length_mm + 17.84 x bill_depth_mm + 50.76 x flipper_length_mm\n"
          ],
          "name": "stdout"
        }
      ]
    },
    {
      "cell_type": "markdown",
      "metadata": {
        "id": "1vxrDD9TcKFN"
      },
      "source": [
        "4. Enfin, on peut utiliser le modèle entraîné pour faire des prédictions en utilisant la méthode `predict` :"
      ]
    },
    {
      "cell_type": "code",
      "metadata": {
        "id": "AyEFJnFscKFN"
      },
      "source": [
        "y_pred = linreg.predict(X)"
      ],
      "execution_count": null,
      "outputs": []
    },
    {
      "cell_type": "markdown",
      "metadata": {
        "id": "BxWl8phecKFN"
      },
      "source": [
        "### Performance du modèle"
      ]
    },
    {
      "cell_type": "markdown",
      "metadata": {
        "id": "TtXMOYDycKFN"
      },
      "source": [
        "On peut maintenant s'intéresser à la qualité du modèle. Commençons par visualiser la corrélation entre les valeurs réelles et les valeurs prédites :"
      ]
    },
    {
      "cell_type": "code",
      "metadata": {
        "colab": {
          "base_uri": "https://localhost:8080/"
        },
        "id": "1kmGVcljcKFN",
        "outputId": "bd6accf4-1d5b-45f6-b084-524b4cc1c736"
      },
      "source": [
        "plt.scatter(y_regress, y_pred)\n",
        "\n",
        "plt.xlabel(\"Poids réel (g)\")\n",
        "plt.ylabel(\"Poids prédit (g)\")"
      ],
      "execution_count": null,
      "outputs": [
        {
          "output_type": "execute_result",
          "data": {
            "text/plain": [
              "Text(0, 0.5, 'Poids prédit (g)')"
            ]
          },
          "metadata": {
            "tags": []
          },
          "execution_count": 165
        },
        {
          "output_type": "display_data",
          "data": {
            "text/plain": [
              "<Figure size 432x288 with 1 Axes>"
            ],
            "image/svg+xml": "<?xml version=\"1.0\" encoding=\"utf-8\" standalone=\"no\"?>\n<!DOCTYPE svg PUBLIC \"-//W3C//DTD SVG 1.1//EN\"\n  \"http://www.w3.org/Graphics/SVG/1.1/DTD/svg11.dtd\">\n<!-- Created with matplotlib (https://matplotlib.org/) -->\n<svg height=\"262.59625pt\" version=\"1.1\" viewBox=\"0 0 395.728125 262.59625\" width=\"395.728125pt\" xmlns=\"http://www.w3.org/2000/svg\" xmlns:xlink=\"http://www.w3.org/1999/xlink\">\n <defs>\n  <style type=\"text/css\">\n*{stroke-linecap:butt;stroke-linejoin:round;}\n  </style>\n </defs>\n <g id=\"figure_1\">\n  <g id=\"patch_1\">\n   <path d=\"M 0 262.59625 \nL 395.728125 262.59625 \nL 395.728125 0 \nL 0 0 \nz\n\" style=\"fill:none;\"/>\n  </g>\n  <g id=\"axes_1\">\n   <g id=\"patch_2\">\n    <path d=\"M 53.728125 224.64 \nL 388.528125 224.64 \nL 388.528125 7.2 \nL 53.728125 7.2 \nz\n\" style=\"fill:#ffffff;\"/>\n   </g>\n   <g id=\"PathCollection_1\">\n    <defs>\n     <path d=\"M 0 3 \nC 0.795609 3 1.55874 2.683901 2.12132 2.12132 \nC 2.683901 1.55874 3 0.795609 3 0 \nC 3 -0.795609 2.683901 -1.55874 2.12132 -2.12132 \nC 1.55874 -2.683901 0.795609 -3 0 -3 \nC -0.795609 -3 -1.55874 -2.683901 -2.12132 -2.12132 \nC -2.683901 -1.55874 -3 -0.795609 -3 0 \nC -3 0.795609 -2.683901 1.55874 -2.12132 2.12132 \nC -1.55874 2.683901 -0.795609 3 0 3 \nz\n\" id=\"mba9a9dbc11\" style=\"stroke:#1f77b4;\"/>\n    </defs>\n    <g clip-path=\"url(#pd0e5fb7f52)\">\n     <use style=\"fill:#1f77b4;stroke:#1f77b4;\" x=\"157.719034\" xlink:href=\"#mba9a9dbc11\" y=\"184.247572\"/>\n     <use style=\"fill:#1f77b4;stroke:#1f77b4;\" x=\"161.946307\" xlink:href=\"#mba9a9dbc11\" y=\"168.950745\"/>\n     <use style=\"fill:#1f77b4;stroke:#1f77b4;\" x=\"115.446307\" xlink:href=\"#mba9a9dbc11\" y=\"137.940652\"/>\n     <use style=\"fill:#1f77b4;stroke:#1f77b4;\" x=\"132.355398\" xlink:href=\"#mba9a9dbc11\" y=\"143.888902\"/>\n     <use style=\"fill:#1f77b4;stroke:#1f77b4;\" x=\"149.264489\" xlink:href=\"#mba9a9dbc11\" y=\"151.838542\"/>\n     <use style=\"fill:#1f77b4;stroke:#1f77b4;\" x=\"147.150852\" xlink:href=\"#mba9a9dbc11\" y=\"185.349709\"/>\n     <use style=\"fill:#1f77b4;stroke:#1f77b4;\" x=\"235.92358\" xlink:href=\"#mba9a9dbc11\" y=\"136.297399\"/>\n     <use style=\"fill:#1f77b4;stroke:#1f77b4;\" x=\"111.219034\" xlink:href=\"#mba9a9dbc11\" y=\"181.759364\"/>\n     <use style=\"fill:#1f77b4;stroke:#1f77b4;\" x=\"161.946307\" xlink:href=\"#mba9a9dbc11\" y=\"147.936919\"/>\n     <use style=\"fill:#1f77b4;stroke:#1f77b4;\" x=\"212.67358\" xlink:href=\"#mba9a9dbc11\" y=\"125.488354\"/>\n     <use style=\"fill:#1f77b4;stroke:#1f77b4;\" x=\"153.491761\" xlink:href=\"#mba9a9dbc11\" y=\"172.45784\"/>\n     <use style=\"fill:#1f77b4;stroke:#1f77b4;\" x=\"132.355398\" xlink:href=\"#mba9a9dbc11\" y=\"137.111786\"/>\n     <use style=\"fill:#1f77b4;stroke:#1f77b4;\" x=\"221.128125\" xlink:href=\"#mba9a9dbc11\" y=\"127.591091\"/>\n     <use style=\"fill:#1f77b4;stroke:#1f77b4;\" x=\"121.787216\" xlink:href=\"#mba9a9dbc11\" y=\"175.57765\"/>\n     <use style=\"fill:#1f77b4;stroke:#1f77b4;\" x=\"195.764489\" xlink:href=\"#mba9a9dbc11\" y=\"135.933447\"/>\n     <use style=\"fill:#1f77b4;stroke:#1f77b4;\" x=\"128.128125\" xlink:href=\"#mba9a9dbc11\" y=\"208.435303\"/>\n     <use style=\"fill:#1f77b4;stroke:#1f77b4;\" x=\"145.037216\" xlink:href=\"#mba9a9dbc11\" y=\"187.899448\"/>\n     <use style=\"fill:#1f77b4;stroke:#1f77b4;\" x=\"161.946307\" xlink:href=\"#mba9a9dbc11\" y=\"157.571629\"/>\n     <use style=\"fill:#1f77b4;stroke:#1f77b4;\" x=\"174.628125\" xlink:href=\"#mba9a9dbc11\" y=\"171.757468\"/>\n     <use style=\"fill:#1f77b4;stroke:#1f77b4;\" x=\"161.946307\" xlink:href=\"#mba9a9dbc11\" y=\"189.425067\"/>\n     <use style=\"fill:#1f77b4;stroke:#1f77b4;\" x=\"161.946307\" xlink:href=\"#mba9a9dbc11\" y=\"164.750511\"/>\n     <use style=\"fill:#1f77b4;stroke:#1f77b4;\" x=\"140.809943\" xlink:href=\"#mba9a9dbc11\" y=\"177.343772\"/>\n     <use style=\"fill:#1f77b4;stroke:#1f77b4;\" x=\"111.219034\" xlink:href=\"#mba9a9dbc11\" y=\"164.797567\"/>\n     <use style=\"fill:#1f77b4;stroke:#1f77b4;\" x=\"106.991761\" xlink:href=\"#mba9a9dbc11\" y=\"214.756364\"/>\n     <use style=\"fill:#1f77b4;stroke:#1f77b4;\" x=\"174.628125\" xlink:href=\"#mba9a9dbc11\" y=\"187.056107\"/>\n     <use style=\"fill:#1f77b4;stroke:#1f77b4;\" x=\"115.446307\" xlink:href=\"#mba9a9dbc11\" y=\"196.556896\"/>\n     <use style=\"fill:#1f77b4;stroke:#1f77b4;\" x=\"170.400852\" xlink:href=\"#mba9a9dbc11\" y=\"195.409514\"/>\n     <use style=\"fill:#1f77b4;stroke:#1f77b4;\" x=\"119.67358\" xlink:href=\"#mba9a9dbc11\" y=\"161.784531\"/>\n     <use style=\"fill:#1f77b4;stroke:#1f77b4;\" x=\"170.400852\" xlink:href=\"#mba9a9dbc11\" y=\"173.577881\"/>\n     <use style=\"fill:#1f77b4;stroke:#1f77b4;\" x=\"121.787216\" xlink:href=\"#mba9a9dbc11\" y=\"139.963949\"/>\n     <use style=\"fill:#1f77b4;stroke:#1f77b4;\" x=\"191.537216\" xlink:href=\"#mba9a9dbc11\" y=\"131.185054\"/>\n     <use style=\"fill:#1f77b4;stroke:#1f77b4;\" x=\"174.628125\" xlink:href=\"#mba9a9dbc11\" y=\"152.652929\"/>\n     <use style=\"fill:#1f77b4;stroke:#1f77b4;\" x=\"140.809943\" xlink:href=\"#mba9a9dbc11\" y=\"187.157454\"/>\n     <use style=\"fill:#1f77b4;stroke:#1f77b4;\" x=\"119.67358\" xlink:href=\"#mba9a9dbc11\" y=\"183.867523\"/>\n     <use style=\"fill:#1f77b4;stroke:#1f77b4;\" x=\"233.809943\" xlink:href=\"#mba9a9dbc11\" y=\"173.5815\"/>\n     <use style=\"fill:#1f77b4;stroke:#1f77b4;\" x=\"106.991761\" xlink:href=\"#mba9a9dbc11\" y=\"182.287808\"/>\n     <use style=\"fill:#1f77b4;stroke:#1f77b4;\" x=\"170.400852\" xlink:href=\"#mba9a9dbc11\" y=\"137.361532\"/>\n     <use style=\"fill:#1f77b4;stroke:#1f77b4;\" x=\"102.764489\" xlink:href=\"#mba9a9dbc11\" y=\"168.416866\"/>\n     <use style=\"fill:#1f77b4;stroke:#1f77b4;\" x=\"212.67358\" xlink:href=\"#mba9a9dbc11\" y=\"131.767796\"/>\n     <use style=\"fill:#1f77b4;stroke:#1f77b4;\" x=\"94.309943\" xlink:href=\"#mba9a9dbc11\" y=\"173.429676\"/>\n     <use style=\"fill:#1f77b4;stroke:#1f77b4;\" x=\"229.58267\" xlink:href=\"#mba9a9dbc11\" y=\"153.890798\"/>\n     <use style=\"fill:#1f77b4;stroke:#1f77b4;\" x=\"130.241761\" xlink:href=\"#mba9a9dbc11\" y=\"180.112492\"/>\n     <use style=\"fill:#1f77b4;stroke:#1f77b4;\" x=\"132.355398\" xlink:href=\"#mba9a9dbc11\" y=\"155.731311\"/>\n     <use style=\"fill:#1f77b4;stroke:#1f77b4;\" x=\"191.537216\" xlink:href=\"#mba9a9dbc11\" y=\"147.133393\"/>\n     <use style=\"fill:#1f77b4;stroke:#1f77b4;\" x=\"136.58267\" xlink:href=\"#mba9a9dbc11\" y=\"168.576127\"/>\n     <use style=\"fill:#1f77b4;stroke:#1f77b4;\" x=\"204.219034\" xlink:href=\"#mba9a9dbc11\" y=\"160.360259\"/>\n     <use style=\"fill:#1f77b4;stroke:#1f77b4;\" x=\"132.355398\" xlink:href=\"#mba9a9dbc11\" y=\"155.94848\"/>\n     <use style=\"fill:#1f77b4;stroke:#1f77b4;\" x=\"183.08267\" xlink:href=\"#mba9a9dbc11\" y=\"119.067761\"/>\n     <use style=\"fill:#1f77b4;stroke:#1f77b4;\" x=\"85.855398\" xlink:href=\"#mba9a9dbc11\" y=\"165.865316\"/>\n     <use style=\"fill:#1f77b4;stroke:#1f77b4;\" x=\"153.491761\" xlink:href=\"#mba9a9dbc11\" y=\"150.387321\"/>\n     <use style=\"fill:#1f77b4;stroke:#1f77b4;\" x=\"140.809943\" xlink:href=\"#mba9a9dbc11\" y=\"168.941696\"/>\n     <use style=\"fill:#1f77b4;stroke:#1f77b4;\" x=\"161.946307\" xlink:href=\"#mba9a9dbc11\" y=\"143.63011\"/>\n     <use style=\"fill:#1f77b4;stroke:#1f77b4;\" x=\"81.628125\" xlink:href=\"#mba9a9dbc11\" y=\"187.282519\"/>\n     <use style=\"fill:#1f77b4;stroke:#1f77b4;\" x=\"157.719034\" xlink:href=\"#mba9a9dbc11\" y=\"140.580878\"/>\n     <use style=\"fill:#1f77b4;stroke:#1f77b4;\" x=\"106.991761\" xlink:href=\"#mba9a9dbc11\" y=\"173.711996\"/>\n     <use style=\"fill:#1f77b4;stroke:#1f77b4;\" x=\"212.67358\" xlink:href=\"#mba9a9dbc11\" y=\"134.076838\"/>\n     <use style=\"fill:#1f77b4;stroke:#1f77b4;\" x=\"145.037216\" xlink:href=\"#mba9a9dbc11\" y=\"173.181741\"/>\n     <use style=\"fill:#1f77b4;stroke:#1f77b4;\" x=\"183.08267\" xlink:href=\"#mba9a9dbc11\" y=\"147.575167\"/>\n     <use style=\"fill:#1f77b4;stroke:#1f77b4;\" x=\"81.628125\" xlink:href=\"#mba9a9dbc11\" y=\"176.672549\"/>\n     <use style=\"fill:#1f77b4;stroke:#1f77b4;\" x=\"174.628125\" xlink:href=\"#mba9a9dbc11\" y=\"147.70185\"/>\n     <use style=\"fill:#1f77b4;stroke:#1f77b4;\" x=\"123.900852\" xlink:href=\"#mba9a9dbc11\" y=\"141.100471\"/>\n     <use style=\"fill:#1f77b4;stroke:#1f77b4;\" x=\"187.309943\" xlink:href=\"#mba9a9dbc11\" y=\"159.907822\"/>\n     <use style=\"fill:#1f77b4;stroke:#1f77b4;\" x=\"98.537216\" xlink:href=\"#mba9a9dbc11\" y=\"157.282266\"/>\n     <use style=\"fill:#1f77b4;stroke:#1f77b4;\" x=\"216.900852\" xlink:href=\"#mba9a9dbc11\" y=\"125.924508\"/>\n     <use style=\"fill:#1f77b4;stroke:#1f77b4;\" x=\"145.037216\" xlink:href=\"#mba9a9dbc11\" y=\"154.980263\"/>\n     <use style=\"fill:#1f77b4;stroke:#1f77b4;\" x=\"170.400852\" xlink:href=\"#mba9a9dbc11\" y=\"154.339616\"/>\n     <use style=\"fill:#1f77b4;stroke:#1f77b4;\" x=\"140.809943\" xlink:href=\"#mba9a9dbc11\" y=\"135.6859\"/>\n     <use style=\"fill:#1f77b4;stroke:#1f77b4;\" x=\"191.537216\" xlink:href=\"#mba9a9dbc11\" y=\"128.991839\"/>\n     <use style=\"fill:#1f77b4;stroke:#1f77b4;\" x=\"153.491761\" xlink:href=\"#mba9a9dbc11\" y=\"156.31043\"/>\n     <use style=\"fill:#1f77b4;stroke:#1f77b4;\" x=\"199.991761\" xlink:href=\"#mba9a9dbc11\" y=\"136.80956\"/>\n     <use style=\"fill:#1f77b4;stroke:#1f77b4;\" x=\"153.491761\" xlink:href=\"#mba9a9dbc11\" y=\"152.613313\"/>\n     <use style=\"fill:#1f77b4;stroke:#1f77b4;\" x=\"170.400852\" xlink:href=\"#mba9a9dbc11\" y=\"173.793239\"/>\n     <use style=\"fill:#1f77b4;stroke:#1f77b4;\" x=\"140.809943\" xlink:href=\"#mba9a9dbc11\" y=\"167.848802\"/>\n     <use style=\"fill:#1f77b4;stroke:#1f77b4;\" x=\"178.855398\" xlink:href=\"#mba9a9dbc11\" y=\"136.255776\"/>\n     <use style=\"fill:#1f77b4;stroke:#1f77b4;\" x=\"111.219034\" xlink:href=\"#mba9a9dbc11\" y=\"160.206623\"/>\n     <use style=\"fill:#1f77b4;stroke:#1f77b4;\" x=\"238.037216\" xlink:href=\"#mba9a9dbc11\" y=\"134.498707\"/>\n     <use style=\"fill:#1f77b4;stroke:#1f77b4;\" x=\"161.946307\" xlink:href=\"#mba9a9dbc11\" y=\"164.564107\"/>\n     <use style=\"fill:#1f77b4;stroke:#1f77b4;\" x=\"195.764489\" xlink:href=\"#mba9a9dbc11\" y=\"144.118739\"/>\n     <use style=\"fill:#1f77b4;stroke:#1f77b4;\" x=\"123.900852\" xlink:href=\"#mba9a9dbc11\" y=\"152.218785\"/>\n     <use style=\"fill:#1f77b4;stroke:#1f77b4;\" x=\"140.809943\" xlink:href=\"#mba9a9dbc11\" y=\"138.365747\"/>\n     <use style=\"fill:#1f77b4;stroke:#1f77b4;\" x=\"161.946307\" xlink:href=\"#mba9a9dbc11\" y=\"153.784021\"/>\n     <use style=\"fill:#1f77b4;stroke:#1f77b4;\" x=\"136.58267\" xlink:href=\"#mba9a9dbc11\" y=\"158.060262\"/>\n     <use style=\"fill:#1f77b4;stroke:#1f77b4;\" x=\"174.628125\" xlink:href=\"#mba9a9dbc11\" y=\"157.050423\"/>\n     <use style=\"fill:#1f77b4;stroke:#1f77b4;\" x=\"145.037216\" xlink:href=\"#mba9a9dbc11\" y=\"154.042817\"/>\n     <use style=\"fill:#1f77b4;stroke:#1f77b4;\" x=\"140.809943\" xlink:href=\"#mba9a9dbc11\" y=\"115.504754\"/>\n     <use style=\"fill:#1f77b4;stroke:#1f77b4;\" x=\"204.219034\" xlink:href=\"#mba9a9dbc11\" y=\"104.170888\"/>\n     <use style=\"fill:#1f77b4;stroke:#1f77b4;\" x=\"128.128125\" xlink:href=\"#mba9a9dbc11\" y=\"173.845916\"/>\n     <use style=\"fill:#1f77b4;stroke:#1f77b4;\" x=\"216.900852\" xlink:href=\"#mba9a9dbc11\" y=\"168.105592\"/>\n     <use style=\"fill:#1f77b4;stroke:#1f77b4;\" x=\"119.67358\" xlink:href=\"#mba9a9dbc11\" y=\"166.437198\"/>\n     <use style=\"fill:#1f77b4;stroke:#1f77b4;\" x=\"204.219034\" xlink:href=\"#mba9a9dbc11\" y=\"93.251451\"/>\n     <use style=\"fill:#1f77b4;stroke:#1f77b4;\" x=\"153.491761\" xlink:href=\"#mba9a9dbc11\" y=\"154.451819\"/>\n     <use style=\"fill:#1f77b4;stroke:#1f77b4;\" x=\"208.446307\" xlink:href=\"#mba9a9dbc11\" y=\"134.004644\"/>\n     <use style=\"fill:#1f77b4;stroke:#1f77b4;\" x=\"85.855398\" xlink:href=\"#mba9a9dbc11\" y=\"198.652582\"/>\n     <use style=\"fill:#1f77b4;stroke:#1f77b4;\" x=\"187.309943\" xlink:href=\"#mba9a9dbc11\" y=\"146.766211\"/>\n     <use style=\"fill:#1f77b4;stroke:#1f77b4;\" x=\"155.605398\" xlink:href=\"#mba9a9dbc11\" y=\"149.252801\"/>\n     <use style=\"fill:#1f77b4;stroke:#1f77b4;\" x=\"240.150852\" xlink:href=\"#mba9a9dbc11\" y=\"108.653244\"/>\n     <use style=\"fill:#1f77b4;stroke:#1f77b4;\" x=\"100.650852\" xlink:href=\"#mba9a9dbc11\" y=\"181.03204\"/>\n     <use style=\"fill:#1f77b4;stroke:#1f77b4;\" x=\"199.991761\" xlink:href=\"#mba9a9dbc11\" y=\"152.870098\"/>\n     <use style=\"fill:#1f77b4;stroke:#1f77b4;\" x=\"87.969034\" xlink:href=\"#mba9a9dbc11\" y=\"144.451735\"/>\n     <use style=\"fill:#1f77b4;stroke:#1f77b4;\" x=\"140.809943\" xlink:href=\"#mba9a9dbc11\" y=\"173.838484\"/>\n     <use style=\"fill:#1f77b4;stroke:#1f77b4;\" x=\"157.719034\" xlink:href=\"#mba9a9dbc11\" y=\"125.859551\"/>\n     <use style=\"fill:#1f77b4;stroke:#1f77b4;\" x=\"170.400852\" xlink:href=\"#mba9a9dbc11\" y=\"152.783231\"/>\n     <use style=\"fill:#1f77b4;stroke:#1f77b4;\" x=\"109.105398\" xlink:href=\"#mba9a9dbc11\" y=\"186.464514\"/>\n     <use style=\"fill:#1f77b4;stroke:#1f77b4;\" x=\"244.378125\" xlink:href=\"#mba9a9dbc11\" y=\"129.438845\"/>\n     <use style=\"fill:#1f77b4;stroke:#1f77b4;\" x=\"164.059943\" xlink:href=\"#mba9a9dbc11\" y=\"130.139411\"/>\n     <use style=\"fill:#1f77b4;stroke:#1f77b4;\" x=\"229.58267\" xlink:href=\"#mba9a9dbc11\" y=\"147.475437\"/>\n     <use style=\"fill:#1f77b4;stroke:#1f77b4;\" x=\"111.219034\" xlink:href=\"#mba9a9dbc11\" y=\"145.119533\"/>\n     <use style=\"fill:#1f77b4;stroke:#1f77b4;\" x=\"202.105398\" xlink:href=\"#mba9a9dbc11\" y=\"129.067846\"/>\n     <use style=\"fill:#1f77b4;stroke:#1f77b4;\" x=\"170.400852\" xlink:href=\"#mba9a9dbc11\" y=\"148.307918\"/>\n     <use style=\"fill:#1f77b4;stroke:#1f77b4;\" x=\"185.196307\" xlink:href=\"#mba9a9dbc11\" y=\"133.718705\"/>\n     <use style=\"fill:#1f77b4;stroke:#1f77b4;\" x=\"85.855398\" xlink:href=\"#mba9a9dbc11\" y=\"162.921053\"/>\n     <use style=\"fill:#1f77b4;stroke:#1f77b4;\" x=\"159.83267\" xlink:href=\"#mba9a9dbc11\" y=\"122.259959\"/>\n     <use style=\"fill:#1f77b4;stroke:#1f77b4;\" x=\"123.900852\" xlink:href=\"#mba9a9dbc11\" y=\"160.203004\"/>\n     <use style=\"fill:#1f77b4;stroke:#1f77b4;\" x=\"121.787216\" xlink:href=\"#mba9a9dbc11\" y=\"157.148151\"/>\n     <use style=\"fill:#1f77b4;stroke:#1f77b4;\" x=\"106.991761\" xlink:href=\"#mba9a9dbc11\" y=\"166.554831\"/>\n     <use style=\"fill:#1f77b4;stroke:#1f77b4;\" x=\"136.58267\" xlink:href=\"#mba9a9dbc11\" y=\"126.344367\"/>\n     <use style=\"fill:#1f77b4;stroke:#1f77b4;\" x=\"132.355398\" xlink:href=\"#mba9a9dbc11\" y=\"202.747656\"/>\n     <use style=\"fill:#1f77b4;stroke:#1f77b4;\" x=\"168.287216\" xlink:href=\"#mba9a9dbc11\" y=\"113.678721\"/>\n     <use style=\"fill:#1f77b4;stroke:#1f77b4;\" x=\"98.537216\" xlink:href=\"#mba9a9dbc11\" y=\"171.649078\"/>\n     <use style=\"fill:#1f77b4;stroke:#1f77b4;\" x=\"178.855398\" xlink:href=\"#mba9a9dbc11\" y=\"123.307806\"/>\n     <use style=\"fill:#1f77b4;stroke:#1f77b4;\" x=\"117.559943\" xlink:href=\"#mba9a9dbc11\" y=\"152.128298\"/>\n     <use style=\"fill:#1f77b4;stroke:#1f77b4;\" x=\"204.219034\" xlink:href=\"#mba9a9dbc11\" y=\"137.327148\"/>\n     <use style=\"fill:#1f77b4;stroke:#1f77b4;\" x=\"98.537216\" xlink:href=\"#mba9a9dbc11\" y=\"152.673033\"/>\n     <use style=\"fill:#1f77b4;stroke:#1f77b4;\" x=\"178.855398\" xlink:href=\"#mba9a9dbc11\" y=\"86.897817\"/>\n     <use style=\"fill:#1f77b4;stroke:#1f77b4;\" x=\"121.787216\" xlink:href=\"#mba9a9dbc11\" y=\"155.188388\"/>\n     <use style=\"fill:#1f77b4;stroke:#1f77b4;\" x=\"136.58267\" xlink:href=\"#mba9a9dbc11\" y=\"129.225295\"/>\n     <use style=\"fill:#1f77b4;stroke:#1f77b4;\" x=\"136.58267\" xlink:href=\"#mba9a9dbc11\" y=\"144.808255\"/>\n     <use style=\"fill:#1f77b4;stroke:#1f77b4;\" x=\"219.014489\" xlink:href=\"#mba9a9dbc11\" y=\"124.569199\"/>\n     <use style=\"fill:#1f77b4;stroke:#1f77b4;\" x=\"130.241761\" xlink:href=\"#mba9a9dbc11\" y=\"165.671675\"/>\n     <use style=\"fill:#1f77b4;stroke:#1f77b4;\" x=\"170.400852\" xlink:href=\"#mba9a9dbc11\" y=\"155.094282\"/>\n     <use style=\"fill:#1f77b4;stroke:#1f77b4;\" x=\"109.105398\" xlink:href=\"#mba9a9dbc11\" y=\"152.940874\"/>\n     <use style=\"fill:#1f77b4;stroke:#1f77b4;\" x=\"176.741761\" xlink:href=\"#mba9a9dbc11\" y=\"118.752864\"/>\n     <use style=\"fill:#1f77b4;stroke:#1f77b4;\" x=\"128.128125\" xlink:href=\"#mba9a9dbc11\" y=\"173.900211\"/>\n     <use style=\"fill:#1f77b4;stroke:#1f77b4;\" x=\"199.991761\" xlink:href=\"#mba9a9dbc11\" y=\"144.884266\"/>\n     <use style=\"fill:#1f77b4;stroke:#1f77b4;\" x=\"128.128125\" xlink:href=\"#mba9a9dbc11\" y=\"145.716751\"/>\n     <use style=\"fill:#1f77b4;stroke:#1f77b4;\" x=\"134.469034\" xlink:href=\"#mba9a9dbc11\" y=\"165.599286\"/>\n     <use style=\"fill:#1f77b4;stroke:#1f77b4;\" x=\"98.537216\" xlink:href=\"#mba9a9dbc11\" y=\"166.097159\"/>\n     <use style=\"fill:#1f77b4;stroke:#1f77b4;\" x=\"155.605398\" xlink:href=\"#mba9a9dbc11\" y=\"155.769318\"/>\n     <use style=\"fill:#1f77b4;stroke:#1f77b4;\" x=\"94.309943\" xlink:href=\"#mba9a9dbc11\" y=\"150.047282\"/>\n     <use style=\"fill:#1f77b4;stroke:#1f77b4;\" x=\"149.264489\" xlink:href=\"#mba9a9dbc11\" y=\"170.877931\"/>\n     <use style=\"fill:#1f77b4;stroke:#1f77b4;\" x=\"199.991761\" xlink:href=\"#mba9a9dbc11\" y=\"154.212933\"/>\n     <use style=\"fill:#1f77b4;stroke:#1f77b4;\" x=\"134.469034\" xlink:href=\"#mba9a9dbc11\" y=\"175.099877\"/>\n     <use style=\"fill:#1f77b4;stroke:#1f77b4;\" x=\"132.355398\" xlink:href=\"#mba9a9dbc11\" y=\"139.109747\"/>\n     <use style=\"fill:#1f77b4;stroke:#1f77b4;\" x=\"157.719034\" xlink:href=\"#mba9a9dbc11\" y=\"145.06162\"/>\n     <use style=\"fill:#1f77b4;stroke:#1f77b4;\" x=\"153.491761\" xlink:href=\"#mba9a9dbc11\" y=\"166.715899\"/>\n     <use style=\"fill:#1f77b4;stroke:#1f77b4;\" x=\"178.855398\" xlink:href=\"#mba9a9dbc11\" y=\"117.004843\"/>\n     <use style=\"fill:#1f77b4;stroke:#1f77b4;\" x=\"221.128125\" xlink:href=\"#mba9a9dbc11\" y=\"88.762056\"/>\n     <use style=\"fill:#1f77b4;stroke:#1f77b4;\" x=\"322.58267\" xlink:href=\"#mba9a9dbc11\" y=\"20.659501\"/>\n     <use style=\"fill:#1f77b4;stroke:#1f77b4;\" x=\"216.900852\" xlink:href=\"#mba9a9dbc11\" y=\"90.486552\"/>\n     <use style=\"fill:#1f77b4;stroke:#1f77b4;\" x=\"322.58267\" xlink:href=\"#mba9a9dbc11\" y=\"62.127546\"/>\n     <use style=\"fill:#1f77b4;stroke:#1f77b4;\" x=\"297.219034\" xlink:href=\"#mba9a9dbc11\" y=\"73.515706\"/>\n     <use style=\"fill:#1f77b4;stroke:#1f77b4;\" x=\"225.355398\" xlink:href=\"#mba9a9dbc11\" y=\"91.670127\"/>\n     <use style=\"fill:#1f77b4;stroke:#1f77b4;\" x=\"246.491761\" xlink:href=\"#mba9a9dbc11\" y=\"87.267203\"/>\n     <use style=\"fill:#1f77b4;stroke:#1f77b4;\" x=\"280.309943\" xlink:href=\"#mba9a9dbc11\" y=\"59.378731\"/>\n     <use style=\"fill:#1f77b4;stroke:#1f77b4;\" x=\"212.67358\" xlink:href=\"#mba9a9dbc11\" y=\"95.830542\"/>\n     <use style=\"fill:#1f77b4;stroke:#1f77b4;\" x=\"276.08267\" xlink:href=\"#mba9a9dbc11\" y=\"72.630738\"/>\n     <use style=\"fill:#1f77b4;stroke:#1f77b4;\" x=\"233.809943\" xlink:href=\"#mba9a9dbc11\" y=\"79.25965\"/>\n     <use style=\"fill:#1f77b4;stroke:#1f77b4;\" x=\"309.900852\" xlink:href=\"#mba9a9dbc11\" y=\"67.981691\"/>\n     <use style=\"fill:#1f77b4;stroke:#1f77b4;\" x=\"233.809943\" xlink:href=\"#mba9a9dbc11\" y=\"78.260671\"/>\n     <use style=\"fill:#1f77b4;stroke:#1f77b4;\" x=\"335.264489\" xlink:href=\"#mba9a9dbc11\" y=\"79.920016\"/>\n     <use style=\"fill:#1f77b4;stroke:#1f77b4;\" x=\"195.764489\" xlink:href=\"#mba9a9dbc11\" y=\"90.528175\"/>\n     <use style=\"fill:#1f77b4;stroke:#1f77b4;\" x=\"335.264489\" xlink:href=\"#mba9a9dbc11\" y=\"65.039235\"/>\n     <use style=\"fill:#1f77b4;stroke:#1f77b4;\" x=\"191.537216\" xlink:href=\"#mba9a9dbc11\" y=\"92.647389\"/>\n     <use style=\"fill:#1f77b4;stroke:#1f77b4;\" x=\"373.309943\" xlink:href=\"#mba9a9dbc11\" y=\"52.257763\"/>\n     <use style=\"fill:#1f77b4;stroke:#1f77b4;\" x=\"246.491761\" xlink:href=\"#mba9a9dbc11\" y=\"93.90678\"/>\n     <use style=\"fill:#1f77b4;stroke:#1f77b4;\" x=\"292.991761\" xlink:href=\"#mba9a9dbc11\" y=\"49.136142\"/>\n     <use style=\"fill:#1f77b4;stroke:#1f77b4;\" x=\"322.58267\" xlink:href=\"#mba9a9dbc11\" y=\"63.142815\"/>\n     <use style=\"fill:#1f77b4;stroke:#1f77b4;\" x=\"263.400852\" xlink:href=\"#mba9a9dbc11\" y=\"74.05863\"/>\n     <use style=\"fill:#1f77b4;stroke:#1f77b4;\" x=\"212.67358\" xlink:href=\"#mba9a9dbc11\" y=\"80.450271\"/>\n     <use style=\"fill:#1f77b4;stroke:#1f77b4;\" x=\"267.628125\" xlink:href=\"#mba9a9dbc11\" y=\"72.268788\"/>\n     <use style=\"fill:#1f77b4;stroke:#1f77b4;\" x=\"263.400852\" xlink:href=\"#mba9a9dbc11\" y=\"76.183274\"/>\n     <use style=\"fill:#1f77b4;stroke:#1f77b4;\" x=\"271.855398\" xlink:href=\"#mba9a9dbc11\" y=\"73.135658\"/>\n     <use style=\"fill:#1f77b4;stroke:#1f77b4;\" x=\"318.355398\" xlink:href=\"#mba9a9dbc11\" y=\"72.884104\"/>\n     <use style=\"fill:#1f77b4;stroke:#1f77b4;\" x=\"229.58267\" xlink:href=\"#mba9a9dbc11\" y=\"90.35987\"/>\n     <use style=\"fill:#1f77b4;stroke:#1f77b4;\" x=\"309.900852\" xlink:href=\"#mba9a9dbc11\" y=\"55.314233\"/>\n     <use style=\"fill:#1f77b4;stroke:#1f77b4;\" x=\"284.537216\" xlink:href=\"#mba9a9dbc11\" y=\"49.204911\"/>\n     <use style=\"fill:#1f77b4;stroke:#1f77b4;\" x=\"238.037216\" xlink:href=\"#mba9a9dbc11\" y=\"94.998057\"/>\n     <use style=\"fill:#1f77b4;stroke:#1f77b4;\" x=\"267.628125\" xlink:href=\"#mba9a9dbc11\" y=\"100.841345\"/>\n     <use style=\"fill:#1f77b4;stroke:#1f77b4;\" x=\"352.17358\" xlink:href=\"#mba9a9dbc11\" y=\"17.751241\"/>\n     <use style=\"fill:#1f77b4;stroke:#1f77b4;\" x=\"276.08267\" xlink:href=\"#mba9a9dbc11\" y=\"56.097854\"/>\n     <use style=\"fill:#1f77b4;stroke:#1f77b4;\" x=\"297.219034\" xlink:href=\"#mba9a9dbc11\" y=\"54.485367\"/>\n     <use style=\"fill:#1f77b4;stroke:#1f77b4;\" x=\"259.17358\" xlink:href=\"#mba9a9dbc11\" y=\"82.238301\"/>\n     <use style=\"fill:#1f77b4;stroke:#1f77b4;\" x=\"284.537216\" xlink:href=\"#mba9a9dbc11\" y=\"57.525547\"/>\n     <use style=\"fill:#1f77b4;stroke:#1f77b4;\" x=\"208.446307\" xlink:href=\"#mba9a9dbc11\" y=\"98.791095\"/>\n     <use style=\"fill:#1f77b4;stroke:#1f77b4;\" x=\"292.991761\" xlink:href=\"#mba9a9dbc11\" y=\"95.300092\"/>\n     <use style=\"fill:#1f77b4;stroke:#1f77b4;\" x=\"174.628125\" xlink:href=\"#mba9a9dbc11\" y=\"98.955782\"/>\n     <use style=\"fill:#1f77b4;stroke:#1f77b4;\" x=\"322.58267\" xlink:href=\"#mba9a9dbc11\" y=\"37.838468\"/>\n     <use style=\"fill:#1f77b4;stroke:#1f77b4;\" x=\"204.219034\" xlink:href=\"#mba9a9dbc11\" y=\"91.695463\"/>\n     <use style=\"fill:#1f77b4;stroke:#1f77b4;\" x=\"242.264489\" xlink:href=\"#mba9a9dbc11\" y=\"69.14536\"/>\n     <use style=\"fill:#1f77b4;stroke:#1f77b4;\" x=\"309.900852\" xlink:href=\"#mba9a9dbc11\" y=\"47.804167\"/>\n     <use style=\"fill:#1f77b4;stroke:#1f77b4;\" x=\"254.946307\" xlink:href=\"#mba9a9dbc11\" y=\"68.394507\"/>\n     <use style=\"fill:#1f77b4;stroke:#1f77b4;\" x=\"195.764489\" xlink:href=\"#mba9a9dbc11\" y=\"91.416761\"/>\n     <use style=\"fill:#1f77b4;stroke:#1f77b4;\" x=\"297.219034\" xlink:href=\"#mba9a9dbc11\" y=\"37.760649\"/>\n     <use style=\"fill:#1f77b4;stroke:#1f77b4;\" x=\"271.855398\" xlink:href=\"#mba9a9dbc11\" y=\"82.209347\"/>\n     <use style=\"fill:#1f77b4;stroke:#1f77b4;\" x=\"288.764489\" xlink:href=\"#mba9a9dbc11\" y=\"72.507675\"/>\n     <use style=\"fill:#1f77b4;stroke:#1f77b4;\" x=\"250.719034\" xlink:href=\"#mba9a9dbc11\" y=\"90.824974\"/>\n     <use style=\"fill:#1f77b4;stroke:#1f77b4;\" x=\"288.764489\" xlink:href=\"#mba9a9dbc11\" y=\"57.051591\"/>\n     <use style=\"fill:#1f77b4;stroke:#1f77b4;\" x=\"212.67358\" xlink:href=\"#mba9a9dbc11\" y=\"90.915461\"/>\n     <use style=\"fill:#1f77b4;stroke:#1f77b4;\" x=\"263.400852\" xlink:href=\"#mba9a9dbc11\" y=\"38.90622\"/>\n     <use style=\"fill:#1f77b4;stroke:#1f77b4;\" x=\"254.946307\" xlink:href=\"#mba9a9dbc11\" y=\"67.176547\"/>\n     <use style=\"fill:#1f77b4;stroke:#1f77b4;\" x=\"267.628125\" xlink:href=\"#mba9a9dbc11\" y=\"56.282446\"/>\n     <use style=\"fill:#1f77b4;stroke:#1f77b4;\" x=\"204.219034\" xlink:href=\"#mba9a9dbc11\" y=\"98.481628\"/>\n     <use style=\"fill:#1f77b4;stroke:#1f77b4;\" x=\"263.400852\" xlink:href=\"#mba9a9dbc11\" y=\"56.644396\"/>\n     <use style=\"fill:#1f77b4;stroke:#1f77b4;\" x=\"216.900852\" xlink:href=\"#mba9a9dbc11\" y=\"97.906127\"/>\n     <use style=\"fill:#1f77b4;stroke:#1f77b4;\" x=\"309.900852\" xlink:href=\"#mba9a9dbc11\" y=\"41.836008\"/>\n     <use style=\"fill:#1f77b4;stroke:#1f77b4;\" x=\"195.764489\" xlink:href=\"#mba9a9dbc11\" y=\"98.273508\"/>\n     <use style=\"fill:#1f77b4;stroke:#1f77b4;\" x=\"288.764489\" xlink:href=\"#mba9a9dbc11\" y=\"53.262172\"/>\n     <use style=\"fill:#1f77b4;stroke:#1f77b4;\" x=\"212.67358\" xlink:href=\"#mba9a9dbc11\" y=\"77.98197\"/>\n     <use style=\"fill:#1f77b4;stroke:#1f77b4;\" x=\"318.355398\" xlink:href=\"#mba9a9dbc11\" y=\"17.083636\"/>\n     <use style=\"fill:#1f77b4;stroke:#1f77b4;\" x=\"238.037216\" xlink:href=\"#mba9a9dbc11\" y=\"60.868154\"/>\n     <use style=\"fill:#1f77b4;stroke:#1f77b4;\" x=\"322.58267\" xlink:href=\"#mba9a9dbc11\" y=\"20.114767\"/>\n     <use style=\"fill:#1f77b4;stroke:#1f77b4;\" x=\"331.037216\" xlink:href=\"#mba9a9dbc11\" y=\"24.233559\"/>\n     <use style=\"fill:#1f77b4;stroke:#1f77b4;\" x=\"238.037216\" xlink:href=\"#mba9a9dbc11\" y=\"58.019804\"/>\n     <use style=\"fill:#1f77b4;stroke:#1f77b4;\" x=\"309.900852\" xlink:href=\"#mba9a9dbc11\" y=\"45.471597\"/>\n     <use style=\"fill:#1f77b4;stroke:#1f77b4;\" x=\"242.264489\" xlink:href=\"#mba9a9dbc11\" y=\"69.557981\"/>\n     <use style=\"fill:#1f77b4;stroke:#1f77b4;\" x=\"263.400852\" xlink:href=\"#mba9a9dbc11\" y=\"52.395302\"/>\n     <use style=\"fill:#1f77b4;stroke:#1f77b4;\" x=\"271.855398\" xlink:href=\"#mba9a9dbc11\" y=\"52.004397\"/>\n     <use style=\"fill:#1f77b4;stroke:#1f77b4;\" x=\"280.309943\" xlink:href=\"#mba9a9dbc11\" y=\"66.706013\"/>\n     <use style=\"fill:#1f77b4;stroke:#1f77b4;\" x=\"238.037216\" xlink:href=\"#mba9a9dbc11\" y=\"69.840302\"/>\n     <use style=\"fill:#1f77b4;stroke:#1f77b4;\" x=\"331.037216\" xlink:href=\"#mba9a9dbc11\" y=\"21.31644\"/>\n     <use style=\"fill:#1f77b4;stroke:#1f77b4;\" x=\"229.58267\" xlink:href=\"#mba9a9dbc11\" y=\"93.977361\"/>\n     <use style=\"fill:#1f77b4;stroke:#1f77b4;\" x=\"347.946307\" xlink:href=\"#mba9a9dbc11\" y=\"53.89901\"/>\n     <use style=\"fill:#1f77b4;stroke:#1f77b4;\" x=\"242.264489\" xlink:href=\"#mba9a9dbc11\" y=\"74.860349\"/>\n     <use style=\"fill:#1f77b4;stroke:#1f77b4;\" x=\"343.719034\" xlink:href=\"#mba9a9dbc11\" y=\"45.019157\"/>\n     <use style=\"fill:#1f77b4;stroke:#1f77b4;\" x=\"231.696307\" xlink:href=\"#mba9a9dbc11\" y=\"83.233471\"/>\n     <use style=\"fill:#1f77b4;stroke:#1f77b4;\" x=\"301.446307\" xlink:href=\"#mba9a9dbc11\" y=\"51.070569\"/>\n     <use style=\"fill:#1f77b4;stroke:#1f77b4;\" x=\"240.150852\" xlink:href=\"#mba9a9dbc11\" y=\"83.485025\"/>\n     <use style=\"fill:#1f77b4;stroke:#1f77b4;\" x=\"292.991761\" xlink:href=\"#mba9a9dbc11\" y=\"41.217073\"/>\n     <use style=\"fill:#1f77b4;stroke:#1f77b4;\" x=\"242.264489\" xlink:href=\"#mba9a9dbc11\" y=\"84.969018\"/>\n     <use style=\"fill:#1f77b4;stroke:#1f77b4;\" x=\"314.128125\" xlink:href=\"#mba9a9dbc11\" y=\"26.005108\"/>\n     <use style=\"fill:#1f77b4;stroke:#1f77b4;\" x=\"229.58267\" xlink:href=\"#mba9a9dbc11\" y=\"64.501933\"/>\n     <use style=\"fill:#1f77b4;stroke:#1f77b4;\" x=\"288.764489\" xlink:href=\"#mba9a9dbc11\" y=\"63.021563\"/>\n     <use style=\"fill:#1f77b4;stroke:#1f77b4;\" x=\"252.83267\" xlink:href=\"#mba9a9dbc11\" y=\"84.16911\"/>\n     <use style=\"fill:#1f77b4;stroke:#1f77b4;\" x=\"309.900852\" xlink:href=\"#mba9a9dbc11\" y=\"19.38001\"/>\n     <use style=\"fill:#1f77b4;stroke:#1f77b4;\" x=\"259.17358\" xlink:href=\"#mba9a9dbc11\" y=\"62.905736\"/>\n     <use style=\"fill:#1f77b4;stroke:#1f77b4;\" x=\"297.219034\" xlink:href=\"#mba9a9dbc11\" y=\"25.936338\"/>\n     <use style=\"fill:#1f77b4;stroke:#1f77b4;\" x=\"242.264489\" xlink:href=\"#mba9a9dbc11\" y=\"84.01528\"/>\n     <use style=\"fill:#1f77b4;stroke:#1f77b4;\" x=\"318.355398\" xlink:href=\"#mba9a9dbc11\" y=\"41.09039\"/>\n     <use style=\"fill:#1f77b4;stroke:#1f77b4;\" x=\"250.719034\" xlink:href=\"#mba9a9dbc11\" y=\"77.301503\"/>\n     <use style=\"fill:#1f77b4;stroke:#1f77b4;\" x=\"280.309943\" xlink:href=\"#mba9a9dbc11\" y=\"34.582926\"/>\n     <use style=\"fill:#1f77b4;stroke:#1f77b4;\" x=\"257.059943\" xlink:href=\"#mba9a9dbc11\" y=\"68.247724\"/>\n     <use style=\"fill:#1f77b4;stroke:#1f77b4;\" x=\"252.83267\" xlink:href=\"#mba9a9dbc11\" y=\"50.115215\"/>\n     <use style=\"fill:#1f77b4;stroke:#1f77b4;\" x=\"231.696307\" xlink:href=\"#mba9a9dbc11\" y=\"113.633678\"/>\n     <use style=\"fill:#1f77b4;stroke:#1f77b4;\" x=\"284.537216\" xlink:href=\"#mba9a9dbc11\" y=\"36.924545\"/>\n     <use style=\"fill:#1f77b4;stroke:#1f77b4;\" x=\"250.719034\" xlink:href=\"#mba9a9dbc11\" y=\"59.340728\"/>\n     <use style=\"fill:#1f77b4;stroke:#1f77b4;\" x=\"314.128125\" xlink:href=\"#mba9a9dbc11\" y=\"25.250446\"/>\n     <use style=\"fill:#1f77b4;stroke:#1f77b4;\" x=\"261.287216\" xlink:href=\"#mba9a9dbc11\" y=\"72.426237\"/>\n     <use style=\"fill:#1f77b4;stroke:#1f77b4;\" x=\"305.67358\" xlink:href=\"#mba9a9dbc11\" y=\"29.079871\"/>\n     <use style=\"fill:#1f77b4;stroke:#1f77b4;\" x=\"305.67358\" xlink:href=\"#mba9a9dbc11\" y=\"71.807303\"/>\n     <use style=\"fill:#1f77b4;stroke:#1f77b4;\" x=\"238.037216\" xlink:href=\"#mba9a9dbc11\" y=\"91.300935\"/>\n     <use style=\"fill:#1f77b4;stroke:#1f77b4;\" x=\"305.67358\" xlink:href=\"#mba9a9dbc11\" y=\"57.335529\"/>\n     <use style=\"fill:#1f77b4;stroke:#1f77b4;\" x=\"227.469034\" xlink:href=\"#mba9a9dbc11\" y=\"98.472579\"/>\n     <use style=\"fill:#1f77b4;stroke:#1f77b4;\" x=\"305.67358\" xlink:href=\"#mba9a9dbc11\" y=\"92.788356\"/>\n     <use style=\"fill:#1f77b4;stroke:#1f77b4;\" x=\"263.400852\" xlink:href=\"#mba9a9dbc11\" y=\"68.71464\"/>\n     <use style=\"fill:#1f77b4;stroke:#1f77b4;\" x=\"343.719034\" xlink:href=\"#mba9a9dbc11\" y=\"24.52131\"/>\n     <use style=\"fill:#1f77b4;stroke:#1f77b4;\" x=\"233.809943\" xlink:href=\"#mba9a9dbc11\" y=\"80.278343\"/>\n     <use style=\"fill:#1f77b4;stroke:#1f77b4;\" x=\"305.67358\" xlink:href=\"#mba9a9dbc11\" y=\"20.333748\"/>\n     <use style=\"fill:#1f77b4;stroke:#1f77b4;\" x=\"210.559943\" xlink:href=\"#mba9a9dbc11\" y=\"67.594599\"/>\n     <use style=\"fill:#1f77b4;stroke:#1f77b4;\" x=\"335.264489\" xlink:href=\"#mba9a9dbc11\" y=\"19.904839\"/>\n     <use style=\"fill:#1f77b4;stroke:#1f77b4;\" x=\"347.946307\" xlink:href=\"#mba9a9dbc11\" y=\"47.820454\"/>\n     <use style=\"fill:#1f77b4;stroke:#1f77b4;\" x=\"257.059943\" xlink:href=\"#mba9a9dbc11\" y=\"77.891483\"/>\n     <use style=\"fill:#1f77b4;stroke:#1f77b4;\" x=\"250.719034\" xlink:href=\"#mba9a9dbc11\" y=\"73.924709\"/>\n     <use style=\"fill:#1f77b4;stroke:#1f77b4;\" x=\"326.809943\" xlink:href=\"#mba9a9dbc11\" y=\"48.061152\"/>\n     <use style=\"fill:#1f77b4;stroke:#1f77b4;\" x=\"280.309943\" xlink:href=\"#mba9a9dbc11\" y=\"83.72753\"/>\n     <use style=\"fill:#1f77b4;stroke:#1f77b4;\" x=\"297.219034\" xlink:href=\"#mba9a9dbc11\" y=\"77.829757\"/>\n     <use style=\"fill:#1f77b4;stroke:#1f77b4;\" x=\"136.58267\" xlink:href=\"#mba9a9dbc11\" y=\"146.755354\"/>\n     <use style=\"fill:#1f77b4;stroke:#1f77b4;\" x=\"170.400852\" xlink:href=\"#mba9a9dbc11\" y=\"130.721765\"/>\n     <use style=\"fill:#1f77b4;stroke:#1f77b4;\" x=\"149.264489\" xlink:href=\"#mba9a9dbc11\" y=\"140.835864\"/>\n     <use style=\"fill:#1f77b4;stroke:#1f77b4;\" x=\"138.696307\" xlink:href=\"#mba9a9dbc11\" y=\"159.444529\"/>\n     <use style=\"fill:#1f77b4;stroke:#1f77b4;\" x=\"155.605398\" xlink:href=\"#mba9a9dbc11\" y=\"126.434667\"/>\n     <use style=\"fill:#1f77b4;stroke:#1f77b4;\" x=\"174.628125\" xlink:href=\"#mba9a9dbc11\" y=\"127.068271\"/>\n     <use style=\"fill:#1f77b4;stroke:#1f77b4;\" x=\"115.446307\" xlink:href=\"#mba9a9dbc11\" y=\"193.359074\"/>\n     <use style=\"fill:#1f77b4;stroke:#1f77b4;\" x=\"157.719034\" xlink:href=\"#mba9a9dbc11\" y=\"128.620844\"/>\n     <use style=\"fill:#1f77b4;stroke:#1f77b4;\" x=\"191.537216\" xlink:href=\"#mba9a9dbc11\" y=\"135.644084\"/>\n     <use style=\"fill:#1f77b4;stroke:#1f77b4;\" x=\"153.491761\" xlink:href=\"#mba9a9dbc11\" y=\"123.273231\"/>\n     <use style=\"fill:#1f77b4;stroke:#1f77b4;\" x=\"161.946307\" xlink:href=\"#mba9a9dbc11\" y=\"143.503432\"/>\n     <use style=\"fill:#1f77b4;stroke:#1f77b4;\" x=\"159.83267\" xlink:href=\"#mba9a9dbc11\" y=\"136.107187\"/>\n     <use style=\"fill:#1f77b4;stroke:#1f77b4;\" x=\"153.491761\" xlink:href=\"#mba9a9dbc11\" y=\"170.787448\"/>\n     <use style=\"fill:#1f77b4;stroke:#1f77b4;\" x=\"183.08267\" xlink:href=\"#mba9a9dbc11\" y=\"115.195101\"/>\n     <use style=\"fill:#1f77b4;stroke:#1f77b4;\" x=\"142.92358\" xlink:href=\"#mba9a9dbc11\" y=\"154.522405\"/>\n     <use style=\"fill:#1f77b4;stroke:#1f77b4;\" x=\"183.08267\" xlink:href=\"#mba9a9dbc11\" y=\"113.756349\"/>\n     <use style=\"fill:#1f77b4;stroke:#1f77b4;\" x=\"119.67358\" xlink:href=\"#mba9a9dbc11\" y=\"126.720606\"/>\n     <use style=\"fill:#1f77b4;stroke:#1f77b4;\" x=\"153.491761\" xlink:href=\"#mba9a9dbc11\" y=\"181.201776\"/>\n     <use style=\"fill:#1f77b4;stroke:#1f77b4;\" x=\"132.355398\" xlink:href=\"#mba9a9dbc11\" y=\"152.649314\"/>\n     <use style=\"fill:#1f77b4;stroke:#1f77b4;\" x=\"212.67358\" xlink:href=\"#mba9a9dbc11\" y=\"135.772578\"/>\n     <use style=\"fill:#1f77b4;stroke:#1f77b4;\" x=\"145.037216\" xlink:href=\"#mba9a9dbc11\" y=\"185.177785\"/>\n     <use style=\"fill:#1f77b4;stroke:#1f77b4;\" x=\"128.128125\" xlink:href=\"#mba9a9dbc11\" y=\"150.13939\"/>\n     <use style=\"fill:#1f77b4;stroke:#1f77b4;\" x=\"85.855398\" xlink:href=\"#mba9a9dbc11\" y=\"165.740449\"/>\n     <use style=\"fill:#1f77b4;stroke:#1f77b4;\" x=\"161.946307\" xlink:href=\"#mba9a9dbc11\" y=\"140.752615\"/>\n     <use style=\"fill:#1f77b4;stroke:#1f77b4;\" x=\"119.67358\" xlink:href=\"#mba9a9dbc11\" y=\"136.668402\"/>\n     <use style=\"fill:#1f77b4;stroke:#1f77b4;\" x=\"191.537216\" xlink:href=\"#mba9a9dbc11\" y=\"127.527755\"/>\n     <use style=\"fill:#1f77b4;stroke:#1f77b4;\" x=\"128.128125\" xlink:href=\"#mba9a9dbc11\" y=\"118.515793\"/>\n     <use style=\"fill:#1f77b4;stroke:#1f77b4;\" x=\"161.946307\" xlink:href=\"#mba9a9dbc11\" y=\"118.02716\"/>\n     <use style=\"fill:#1f77b4;stroke:#1f77b4;\" x=\"153.491761\" xlink:href=\"#mba9a9dbc11\" y=\"150.242545\"/>\n     <use style=\"fill:#1f77b4;stroke:#1f77b4;\" x=\"225.355398\" xlink:href=\"#mba9a9dbc11\" y=\"99.394967\"/>\n     <use style=\"fill:#1f77b4;stroke:#1f77b4;\" x=\"111.219034\" xlink:href=\"#mba9a9dbc11\" y=\"166.239938\"/>\n     <use style=\"fill:#1f77b4;stroke:#1f77b4;\" x=\"204.219034\" xlink:href=\"#mba9a9dbc11\" y=\"111.541219\"/>\n     <use style=\"fill:#1f77b4;stroke:#1f77b4;\" x=\"123.900852\" xlink:href=\"#mba9a9dbc11\" y=\"165.774833\"/>\n     <use style=\"fill:#1f77b4;stroke:#1f77b4;\" x=\"187.309943\" xlink:href=\"#mba9a9dbc11\" y=\"107.893155\"/>\n     <use style=\"fill:#1f77b4;stroke:#1f77b4;\" x=\"145.037216\" xlink:href=\"#mba9a9dbc11\" y=\"135.193458\"/>\n     <use style=\"fill:#1f77b4;stroke:#1f77b4;\" x=\"170.400852\" xlink:href=\"#mba9a9dbc11\" y=\"124.39728\"/>\n     <use style=\"fill:#1f77b4;stroke:#1f77b4;\" x=\"166.17358\" xlink:href=\"#mba9a9dbc11\" y=\"136.002415\"/>\n     <use style=\"fill:#1f77b4;stroke:#1f77b4;\" x=\"246.491761\" xlink:href=\"#mba9a9dbc11\" y=\"82.006069\"/>\n     <use style=\"fill:#1f77b4;stroke:#1f77b4;\" x=\"68.946307\" xlink:href=\"#mba9a9dbc11\" y=\"148.197725\"/>\n     <use style=\"fill:#1f77b4;stroke:#1f77b4;\" x=\"221.128125\" xlink:href=\"#mba9a9dbc11\" y=\"99.360582\"/>\n     <use style=\"fill:#1f77b4;stroke:#1f77b4;\" x=\"174.628125\" xlink:href=\"#mba9a9dbc11\" y=\"84.069182\"/>\n     <use style=\"fill:#1f77b4;stroke:#1f77b4;\" x=\"149.264489\" xlink:href=\"#mba9a9dbc11\" y=\"164.030237\"/>\n     <use style=\"fill:#1f77b4;stroke:#1f77b4;\" x=\"140.809943\" xlink:href=\"#mba9a9dbc11\" y=\"130.996847\"/>\n     <use style=\"fill:#1f77b4;stroke:#1f77b4;\" x=\"136.58267\" xlink:href=\"#mba9a9dbc11\" y=\"134.639869\"/>\n     <use style=\"fill:#1f77b4;stroke:#1f77b4;\" x=\"151.378125\" xlink:href=\"#mba9a9dbc11\" y=\"132.408452\"/>\n     <use style=\"fill:#1f77b4;stroke:#1f77b4;\" x=\"216.900852\" xlink:href=\"#mba9a9dbc11\" y=\"114.985169\"/>\n     <use style=\"fill:#1f77b4;stroke:#1f77b4;\" x=\"128.128125\" xlink:href=\"#mba9a9dbc11\" y=\"152.669224\"/>\n     <use style=\"fill:#1f77b4;stroke:#1f77b4;\" x=\"204.219034\" xlink:href=\"#mba9a9dbc11\" y=\"77.255869\"/>\n     <use style=\"fill:#1f77b4;stroke:#1f77b4;\" x=\"115.446307\" xlink:href=\"#mba9a9dbc11\" y=\"161.467636\"/>\n     <use style=\"fill:#1f77b4;stroke:#1f77b4;\" x=\"151.378125\" xlink:href=\"#mba9a9dbc11\" y=\"126.657461\"/>\n     <use style=\"fill:#1f77b4;stroke:#1f77b4;\" x=\"121.787216\" xlink:href=\"#mba9a9dbc11\" y=\"124.737513\"/>\n     <use style=\"fill:#1f77b4;stroke:#1f77b4;\" x=\"174.628125\" xlink:href=\"#mba9a9dbc11\" y=\"114.266699\"/>\n     <use style=\"fill:#1f77b4;stroke:#1f77b4;\" x=\"145.037216\" xlink:href=\"#mba9a9dbc11\" y=\"144.287053\"/>\n     <use style=\"fill:#1f77b4;stroke:#1f77b4;\" x=\"183.08267\" xlink:href=\"#mba9a9dbc11\" y=\"106.899603\"/>\n     <use style=\"fill:#1f77b4;stroke:#1f77b4;\" x=\"123.900852\" xlink:href=\"#mba9a9dbc11\" y=\"165.069031\"/>\n     <use style=\"fill:#1f77b4;stroke:#1f77b4;\" x=\"132.355398\" xlink:href=\"#mba9a9dbc11\" y=\"127.719589\"/>\n     <use style=\"fill:#1f77b4;stroke:#1f77b4;\" x=\"115.446307\" xlink:href=\"#mba9a9dbc11\" y=\"151.914752\"/>\n     <use style=\"fill:#1f77b4;stroke:#1f77b4;\" x=\"183.08267\" xlink:href=\"#mba9a9dbc11\" y=\"106.968372\"/>\n     <use style=\"fill:#1f77b4;stroke:#1f77b4;\" x=\"161.946307\" xlink:href=\"#mba9a9dbc11\" y=\"111.41473\"/>\n     <use style=\"fill:#1f77b4;stroke:#1f77b4;\" x=\"138.696307\" xlink:href=\"#mba9a9dbc11\" y=\"138.490622\"/>\n     <use style=\"fill:#1f77b4;stroke:#1f77b4;\" x=\"174.628125\" xlink:href=\"#mba9a9dbc11\" y=\"96.830749\"/>\n     <use style=\"fill:#1f77b4;stroke:#1f77b4;\" x=\"149.264489\" xlink:href=\"#mba9a9dbc11\" y=\"158.380594\"/>\n     <use style=\"fill:#1f77b4;stroke:#1f77b4;\" x=\"149.264489\" xlink:href=\"#mba9a9dbc11\" y=\"137.944275\"/>\n     <use style=\"fill:#1f77b4;stroke:#1f77b4;\" x=\"178.855398\" xlink:href=\"#mba9a9dbc11\" y=\"92.283048\"/>\n     <use style=\"fill:#1f77b4;stroke:#1f77b4;\" x=\"128.128125\" xlink:href=\"#mba9a9dbc11\" y=\"113.6932\"/>\n     <use style=\"fill:#1f77b4;stroke:#1f77b4;\" x=\"159.83267\" xlink:href=\"#mba9a9dbc11\" y=\"142.381389\"/>\n     <use style=\"fill:#1f77b4;stroke:#1f77b4;\" x=\"187.309943\" xlink:href=\"#mba9a9dbc11\" y=\"84.266445\"/>\n     <use style=\"fill:#1f77b4;stroke:#1f77b4;\" x=\"159.83267\" xlink:href=\"#mba9a9dbc11\" y=\"124.923722\"/>\n    </g>\n   </g>\n   <g id=\"matplotlib.axis_1\">\n    <g id=\"xtick_1\">\n     <g id=\"line2d_1\">\n      <defs>\n       <path d=\"M 0 0 \nL 0 3.5 \n\" id=\"m33a601e148\" style=\"stroke:#000000;stroke-width:0.8;\"/>\n      </defs>\n      <g>\n       <use style=\"stroke:#000000;stroke-width:0.8;\" x=\"94.309943\" xlink:href=\"#m33a601e148\" y=\"224.64\"/>\n      </g>\n     </g>\n     <g id=\"text_1\">\n      <!-- 3000 -->\n      <defs>\n       <path d=\"M 40.578125 39.3125 \nQ 47.65625 37.796875 51.625 33 \nQ 55.609375 28.21875 55.609375 21.1875 \nQ 55.609375 10.40625 48.1875 4.484375 \nQ 40.765625 -1.421875 27.09375 -1.421875 \nQ 22.515625 -1.421875 17.65625 -0.515625 \nQ 12.796875 0.390625 7.625 2.203125 \nL 7.625 11.71875 \nQ 11.71875 9.328125 16.59375 8.109375 \nQ 21.484375 6.890625 26.8125 6.890625 \nQ 36.078125 6.890625 40.9375 10.546875 \nQ 45.796875 14.203125 45.796875 21.1875 \nQ 45.796875 27.640625 41.28125 31.265625 \nQ 36.765625 34.90625 28.71875 34.90625 \nL 20.21875 34.90625 \nL 20.21875 43.015625 \nL 29.109375 43.015625 \nQ 36.375 43.015625 40.234375 45.921875 \nQ 44.09375 48.828125 44.09375 54.296875 \nQ 44.09375 59.90625 40.109375 62.90625 \nQ 36.140625 65.921875 28.71875 65.921875 \nQ 24.65625 65.921875 20.015625 65.03125 \nQ 15.375 64.15625 9.8125 62.3125 \nL 9.8125 71.09375 \nQ 15.4375 72.65625 20.34375 73.4375 \nQ 25.25 74.21875 29.59375 74.21875 \nQ 40.828125 74.21875 47.359375 69.109375 \nQ 53.90625 64.015625 53.90625 55.328125 \nQ 53.90625 49.265625 50.4375 45.09375 \nQ 46.96875 40.921875 40.578125 39.3125 \nz\n\" id=\"DejaVuSans-51\"/>\n       <path d=\"M 31.78125 66.40625 \nQ 24.171875 66.40625 20.328125 58.90625 \nQ 16.5 51.421875 16.5 36.375 \nQ 16.5 21.390625 20.328125 13.890625 \nQ 24.171875 6.390625 31.78125 6.390625 \nQ 39.453125 6.390625 43.28125 13.890625 \nQ 47.125 21.390625 47.125 36.375 \nQ 47.125 51.421875 43.28125 58.90625 \nQ 39.453125 66.40625 31.78125 66.40625 \nz\nM 31.78125 74.21875 \nQ 44.046875 74.21875 50.515625 64.515625 \nQ 56.984375 54.828125 56.984375 36.375 \nQ 56.984375 17.96875 50.515625 8.265625 \nQ 44.046875 -1.421875 31.78125 -1.421875 \nQ 19.53125 -1.421875 13.0625 8.265625 \nQ 6.59375 17.96875 6.59375 36.375 \nQ 6.59375 54.828125 13.0625 64.515625 \nQ 19.53125 74.21875 31.78125 74.21875 \nz\n\" id=\"DejaVuSans-48\"/>\n      </defs>\n      <g transform=\"translate(81.584943 239.238437)scale(0.1 -0.1)\">\n       <use xlink:href=\"#DejaVuSans-51\"/>\n       <use x=\"63.623047\" xlink:href=\"#DejaVuSans-48\"/>\n       <use x=\"127.246094\" xlink:href=\"#DejaVuSans-48\"/>\n       <use x=\"190.869141\" xlink:href=\"#DejaVuSans-48\"/>\n      </g>\n     </g>\n    </g>\n    <g id=\"xtick_2\">\n     <g id=\"line2d_2\">\n      <g>\n       <use style=\"stroke:#000000;stroke-width:0.8;\" x=\"136.58267\" xlink:href=\"#m33a601e148\" y=\"224.64\"/>\n      </g>\n     </g>\n     <g id=\"text_2\">\n      <!-- 3500 -->\n      <defs>\n       <path d=\"M 10.796875 72.90625 \nL 49.515625 72.90625 \nL 49.515625 64.59375 \nL 19.828125 64.59375 \nL 19.828125 46.734375 \nQ 21.96875 47.46875 24.109375 47.828125 \nQ 26.265625 48.1875 28.421875 48.1875 \nQ 40.625 48.1875 47.75 41.5 \nQ 54.890625 34.8125 54.890625 23.390625 \nQ 54.890625 11.625 47.5625 5.09375 \nQ 40.234375 -1.421875 26.90625 -1.421875 \nQ 22.3125 -1.421875 17.546875 -0.640625 \nQ 12.796875 0.140625 7.71875 1.703125 \nL 7.71875 11.625 \nQ 12.109375 9.234375 16.796875 8.0625 \nQ 21.484375 6.890625 26.703125 6.890625 \nQ 35.15625 6.890625 40.078125 11.328125 \nQ 45.015625 15.765625 45.015625 23.390625 \nQ 45.015625 31 40.078125 35.4375 \nQ 35.15625 39.890625 26.703125 39.890625 \nQ 22.75 39.890625 18.8125 39.015625 \nQ 14.890625 38.140625 10.796875 36.28125 \nz\n\" id=\"DejaVuSans-53\"/>\n      </defs>\n      <g transform=\"translate(123.85767 239.238437)scale(0.1 -0.1)\">\n       <use xlink:href=\"#DejaVuSans-51\"/>\n       <use x=\"63.623047\" xlink:href=\"#DejaVuSans-53\"/>\n       <use x=\"127.246094\" xlink:href=\"#DejaVuSans-48\"/>\n       <use x=\"190.869141\" xlink:href=\"#DejaVuSans-48\"/>\n      </g>\n     </g>\n    </g>\n    <g id=\"xtick_3\">\n     <g id=\"line2d_3\">\n      <g>\n       <use style=\"stroke:#000000;stroke-width:0.8;\" x=\"178.855398\" xlink:href=\"#m33a601e148\" y=\"224.64\"/>\n      </g>\n     </g>\n     <g id=\"text_3\">\n      <!-- 4000 -->\n      <defs>\n       <path d=\"M 37.796875 64.3125 \nL 12.890625 25.390625 \nL 37.796875 25.390625 \nz\nM 35.203125 72.90625 \nL 47.609375 72.90625 \nL 47.609375 25.390625 \nL 58.015625 25.390625 \nL 58.015625 17.1875 \nL 47.609375 17.1875 \nL 47.609375 0 \nL 37.796875 0 \nL 37.796875 17.1875 \nL 4.890625 17.1875 \nL 4.890625 26.703125 \nz\n\" id=\"DejaVuSans-52\"/>\n      </defs>\n      <g transform=\"translate(166.130398 239.238437)scale(0.1 -0.1)\">\n       <use xlink:href=\"#DejaVuSans-52\"/>\n       <use x=\"63.623047\" xlink:href=\"#DejaVuSans-48\"/>\n       <use x=\"127.246094\" xlink:href=\"#DejaVuSans-48\"/>\n       <use x=\"190.869141\" xlink:href=\"#DejaVuSans-48\"/>\n      </g>\n     </g>\n    </g>\n    <g id=\"xtick_4\">\n     <g id=\"line2d_4\">\n      <g>\n       <use style=\"stroke:#000000;stroke-width:0.8;\" x=\"221.128125\" xlink:href=\"#m33a601e148\" y=\"224.64\"/>\n      </g>\n     </g>\n     <g id=\"text_4\">\n      <!-- 4500 -->\n      <g transform=\"translate(208.403125 239.238437)scale(0.1 -0.1)\">\n       <use xlink:href=\"#DejaVuSans-52\"/>\n       <use x=\"63.623047\" xlink:href=\"#DejaVuSans-53\"/>\n       <use x=\"127.246094\" xlink:href=\"#DejaVuSans-48\"/>\n       <use x=\"190.869141\" xlink:href=\"#DejaVuSans-48\"/>\n      </g>\n     </g>\n    </g>\n    <g id=\"xtick_5\">\n     <g id=\"line2d_5\">\n      <g>\n       <use style=\"stroke:#000000;stroke-width:0.8;\" x=\"263.400852\" xlink:href=\"#m33a601e148\" y=\"224.64\"/>\n      </g>\n     </g>\n     <g id=\"text_5\">\n      <!-- 5000 -->\n      <g transform=\"translate(250.675852 239.238437)scale(0.1 -0.1)\">\n       <use xlink:href=\"#DejaVuSans-53\"/>\n       <use x=\"63.623047\" xlink:href=\"#DejaVuSans-48\"/>\n       <use x=\"127.246094\" xlink:href=\"#DejaVuSans-48\"/>\n       <use x=\"190.869141\" xlink:href=\"#DejaVuSans-48\"/>\n      </g>\n     </g>\n    </g>\n    <g id=\"xtick_6\">\n     <g id=\"line2d_6\">\n      <g>\n       <use style=\"stroke:#000000;stroke-width:0.8;\" x=\"305.67358\" xlink:href=\"#m33a601e148\" y=\"224.64\"/>\n      </g>\n     </g>\n     <g id=\"text_6\">\n      <!-- 5500 -->\n      <g transform=\"translate(292.94858 239.238437)scale(0.1 -0.1)\">\n       <use xlink:href=\"#DejaVuSans-53\"/>\n       <use x=\"63.623047\" xlink:href=\"#DejaVuSans-53\"/>\n       <use x=\"127.246094\" xlink:href=\"#DejaVuSans-48\"/>\n       <use x=\"190.869141\" xlink:href=\"#DejaVuSans-48\"/>\n      </g>\n     </g>\n    </g>\n    <g id=\"xtick_7\">\n     <g id=\"line2d_7\">\n      <g>\n       <use style=\"stroke:#000000;stroke-width:0.8;\" x=\"347.946307\" xlink:href=\"#m33a601e148\" y=\"224.64\"/>\n      </g>\n     </g>\n     <g id=\"text_7\">\n      <!-- 6000 -->\n      <defs>\n       <path d=\"M 33.015625 40.375 \nQ 26.375 40.375 22.484375 35.828125 \nQ 18.609375 31.296875 18.609375 23.390625 \nQ 18.609375 15.53125 22.484375 10.953125 \nQ 26.375 6.390625 33.015625 6.390625 \nQ 39.65625 6.390625 43.53125 10.953125 \nQ 47.40625 15.53125 47.40625 23.390625 \nQ 47.40625 31.296875 43.53125 35.828125 \nQ 39.65625 40.375 33.015625 40.375 \nz\nM 52.59375 71.296875 \nL 52.59375 62.3125 \nQ 48.875 64.0625 45.09375 64.984375 \nQ 41.3125 65.921875 37.59375 65.921875 \nQ 27.828125 65.921875 22.671875 59.328125 \nQ 17.53125 52.734375 16.796875 39.40625 \nQ 19.671875 43.65625 24.015625 45.921875 \nQ 28.375 48.1875 33.59375 48.1875 \nQ 44.578125 48.1875 50.953125 41.515625 \nQ 57.328125 34.859375 57.328125 23.390625 \nQ 57.328125 12.15625 50.6875 5.359375 \nQ 44.046875 -1.421875 33.015625 -1.421875 \nQ 20.359375 -1.421875 13.671875 8.265625 \nQ 6.984375 17.96875 6.984375 36.375 \nQ 6.984375 53.65625 15.1875 63.9375 \nQ 23.390625 74.21875 37.203125 74.21875 \nQ 40.921875 74.21875 44.703125 73.484375 \nQ 48.484375 72.75 52.59375 71.296875 \nz\n\" id=\"DejaVuSans-54\"/>\n      </defs>\n      <g transform=\"translate(335.221307 239.238437)scale(0.1 -0.1)\">\n       <use xlink:href=\"#DejaVuSans-54\"/>\n       <use x=\"63.623047\" xlink:href=\"#DejaVuSans-48\"/>\n       <use x=\"127.246094\" xlink:href=\"#DejaVuSans-48\"/>\n       <use x=\"190.869141\" xlink:href=\"#DejaVuSans-48\"/>\n      </g>\n     </g>\n    </g>\n    <g id=\"text_8\">\n     <!-- Poids réel (g) -->\n     <defs>\n      <path d=\"M 19.671875 64.796875 \nL 19.671875 37.40625 \nL 32.078125 37.40625 \nQ 38.96875 37.40625 42.71875 40.96875 \nQ 46.484375 44.53125 46.484375 51.125 \nQ 46.484375 57.671875 42.71875 61.234375 \nQ 38.96875 64.796875 32.078125 64.796875 \nz\nM 9.8125 72.90625 \nL 32.078125 72.90625 \nQ 44.34375 72.90625 50.609375 67.359375 \nQ 56.890625 61.8125 56.890625 51.125 \nQ 56.890625 40.328125 50.609375 34.8125 \nQ 44.34375 29.296875 32.078125 29.296875 \nL 19.671875 29.296875 \nL 19.671875 0 \nL 9.8125 0 \nz\n\" id=\"DejaVuSans-80\"/>\n      <path d=\"M 30.609375 48.390625 \nQ 23.390625 48.390625 19.1875 42.75 \nQ 14.984375 37.109375 14.984375 27.296875 \nQ 14.984375 17.484375 19.15625 11.84375 \nQ 23.34375 6.203125 30.609375 6.203125 \nQ 37.796875 6.203125 41.984375 11.859375 \nQ 46.1875 17.53125 46.1875 27.296875 \nQ 46.1875 37.015625 41.984375 42.703125 \nQ 37.796875 48.390625 30.609375 48.390625 \nz\nM 30.609375 56 \nQ 42.328125 56 49.015625 48.375 \nQ 55.71875 40.765625 55.71875 27.296875 \nQ 55.71875 13.875 49.015625 6.21875 \nQ 42.328125 -1.421875 30.609375 -1.421875 \nQ 18.84375 -1.421875 12.171875 6.21875 \nQ 5.515625 13.875 5.515625 27.296875 \nQ 5.515625 40.765625 12.171875 48.375 \nQ 18.84375 56 30.609375 56 \nz\n\" id=\"DejaVuSans-111\"/>\n      <path d=\"M 9.421875 54.6875 \nL 18.40625 54.6875 \nL 18.40625 0 \nL 9.421875 0 \nz\nM 9.421875 75.984375 \nL 18.40625 75.984375 \nL 18.40625 64.59375 \nL 9.421875 64.59375 \nz\n\" id=\"DejaVuSans-105\"/>\n      <path d=\"M 45.40625 46.390625 \nL 45.40625 75.984375 \nL 54.390625 75.984375 \nL 54.390625 0 \nL 45.40625 0 \nL 45.40625 8.203125 \nQ 42.578125 3.328125 38.25 0.953125 \nQ 33.9375 -1.421875 27.875 -1.421875 \nQ 17.96875 -1.421875 11.734375 6.484375 \nQ 5.515625 14.40625 5.515625 27.296875 \nQ 5.515625 40.1875 11.734375 48.09375 \nQ 17.96875 56 27.875 56 \nQ 33.9375 56 38.25 53.625 \nQ 42.578125 51.265625 45.40625 46.390625 \nz\nM 14.796875 27.296875 \nQ 14.796875 17.390625 18.875 11.75 \nQ 22.953125 6.109375 30.078125 6.109375 \nQ 37.203125 6.109375 41.296875 11.75 \nQ 45.40625 17.390625 45.40625 27.296875 \nQ 45.40625 37.203125 41.296875 42.84375 \nQ 37.203125 48.484375 30.078125 48.484375 \nQ 22.953125 48.484375 18.875 42.84375 \nQ 14.796875 37.203125 14.796875 27.296875 \nz\n\" id=\"DejaVuSans-100\"/>\n      <path d=\"M 44.28125 53.078125 \nL 44.28125 44.578125 \nQ 40.484375 46.53125 36.375 47.5 \nQ 32.28125 48.484375 27.875 48.484375 \nQ 21.1875 48.484375 17.84375 46.4375 \nQ 14.5 44.390625 14.5 40.28125 \nQ 14.5 37.15625 16.890625 35.375 \nQ 19.28125 33.59375 26.515625 31.984375 \nL 29.59375 31.296875 \nQ 39.15625 29.25 43.1875 25.515625 \nQ 47.21875 21.78125 47.21875 15.09375 \nQ 47.21875 7.46875 41.1875 3.015625 \nQ 35.15625 -1.421875 24.609375 -1.421875 \nQ 20.21875 -1.421875 15.453125 -0.5625 \nQ 10.6875 0.296875 5.421875 2 \nL 5.421875 11.28125 \nQ 10.40625 8.6875 15.234375 7.390625 \nQ 20.0625 6.109375 24.8125 6.109375 \nQ 31.15625 6.109375 34.5625 8.28125 \nQ 37.984375 10.453125 37.984375 14.40625 \nQ 37.984375 18.0625 35.515625 20.015625 \nQ 33.0625 21.96875 24.703125 23.78125 \nL 21.578125 24.515625 \nQ 13.234375 26.265625 9.515625 29.90625 \nQ 5.8125 33.546875 5.8125 39.890625 \nQ 5.8125 47.609375 11.28125 51.796875 \nQ 16.75 56 26.8125 56 \nQ 31.78125 56 36.171875 55.265625 \nQ 40.578125 54.546875 44.28125 53.078125 \nz\n\" id=\"DejaVuSans-115\"/>\n      <path id=\"DejaVuSans-32\"/>\n      <path d=\"M 41.109375 46.296875 \nQ 39.59375 47.171875 37.8125 47.578125 \nQ 36.03125 48 33.890625 48 \nQ 26.265625 48 22.1875 43.046875 \nQ 18.109375 38.09375 18.109375 28.8125 \nL 18.109375 0 \nL 9.078125 0 \nL 9.078125 54.6875 \nL 18.109375 54.6875 \nL 18.109375 46.1875 \nQ 20.953125 51.171875 25.484375 53.578125 \nQ 30.03125 56 36.53125 56 \nQ 37.453125 56 38.578125 55.875 \nQ 39.703125 55.765625 41.0625 55.515625 \nz\n\" id=\"DejaVuSans-114\"/>\n      <path d=\"M 56.203125 29.59375 \nL 56.203125 25.203125 \nL 14.890625 25.203125 \nQ 15.484375 15.921875 20.484375 11.0625 \nQ 25.484375 6.203125 34.421875 6.203125 \nQ 39.59375 6.203125 44.453125 7.46875 \nQ 49.3125 8.734375 54.109375 11.28125 \nL 54.109375 2.78125 \nQ 49.265625 0.734375 44.1875 -0.34375 \nQ 39.109375 -1.421875 33.890625 -1.421875 \nQ 20.796875 -1.421875 13.15625 6.1875 \nQ 5.515625 13.8125 5.515625 26.8125 \nQ 5.515625 40.234375 12.765625 48.109375 \nQ 20.015625 56 32.328125 56 \nQ 43.359375 56 49.78125 48.890625 \nQ 56.203125 41.796875 56.203125 29.59375 \nz\nM 47.21875 32.234375 \nQ 47.125 39.59375 43.09375 43.984375 \nQ 39.0625 48.390625 32.421875 48.390625 \nQ 24.90625 48.390625 20.390625 44.140625 \nQ 15.875 39.890625 15.1875 32.171875 \nz\nM 38.53125 79.984375 \nL 48.25 79.984375 \nL 32.34375 61.625 \nL 24.859375 61.625 \nz\n\" id=\"DejaVuSans-233\"/>\n      <path d=\"M 56.203125 29.59375 \nL 56.203125 25.203125 \nL 14.890625 25.203125 \nQ 15.484375 15.921875 20.484375 11.0625 \nQ 25.484375 6.203125 34.421875 6.203125 \nQ 39.59375 6.203125 44.453125 7.46875 \nQ 49.3125 8.734375 54.109375 11.28125 \nL 54.109375 2.78125 \nQ 49.265625 0.734375 44.1875 -0.34375 \nQ 39.109375 -1.421875 33.890625 -1.421875 \nQ 20.796875 -1.421875 13.15625 6.1875 \nQ 5.515625 13.8125 5.515625 26.8125 \nQ 5.515625 40.234375 12.765625 48.109375 \nQ 20.015625 56 32.328125 56 \nQ 43.359375 56 49.78125 48.890625 \nQ 56.203125 41.796875 56.203125 29.59375 \nz\nM 47.21875 32.234375 \nQ 47.125 39.59375 43.09375 43.984375 \nQ 39.0625 48.390625 32.421875 48.390625 \nQ 24.90625 48.390625 20.390625 44.140625 \nQ 15.875 39.890625 15.1875 32.171875 \nz\n\" id=\"DejaVuSans-101\"/>\n      <path d=\"M 9.421875 75.984375 \nL 18.40625 75.984375 \nL 18.40625 0 \nL 9.421875 0 \nz\n\" id=\"DejaVuSans-108\"/>\n      <path d=\"M 31 75.875 \nQ 24.46875 64.65625 21.28125 53.65625 \nQ 18.109375 42.671875 18.109375 31.390625 \nQ 18.109375 20.125 21.3125 9.0625 \nQ 24.515625 -2 31 -13.1875 \nL 23.1875 -13.1875 \nQ 15.875 -1.703125 12.234375 9.375 \nQ 8.59375 20.453125 8.59375 31.390625 \nQ 8.59375 42.28125 12.203125 53.3125 \nQ 15.828125 64.359375 23.1875 75.875 \nz\n\" id=\"DejaVuSans-40\"/>\n      <path d=\"M 45.40625 27.984375 \nQ 45.40625 37.75 41.375 43.109375 \nQ 37.359375 48.484375 30.078125 48.484375 \nQ 22.859375 48.484375 18.828125 43.109375 \nQ 14.796875 37.75 14.796875 27.984375 \nQ 14.796875 18.265625 18.828125 12.890625 \nQ 22.859375 7.515625 30.078125 7.515625 \nQ 37.359375 7.515625 41.375 12.890625 \nQ 45.40625 18.265625 45.40625 27.984375 \nz\nM 54.390625 6.78125 \nQ 54.390625 -7.171875 48.1875 -13.984375 \nQ 42 -20.796875 29.203125 -20.796875 \nQ 24.46875 -20.796875 20.265625 -20.09375 \nQ 16.0625 -19.390625 12.109375 -17.921875 \nL 12.109375 -9.1875 \nQ 16.0625 -11.328125 19.921875 -12.34375 \nQ 23.78125 -13.375 27.78125 -13.375 \nQ 36.625 -13.375 41.015625 -8.765625 \nQ 45.40625 -4.15625 45.40625 5.171875 \nL 45.40625 9.625 \nQ 42.625 4.78125 38.28125 2.390625 \nQ 33.9375 0 27.875 0 \nQ 17.828125 0 11.671875 7.65625 \nQ 5.515625 15.328125 5.515625 27.984375 \nQ 5.515625 40.671875 11.671875 48.328125 \nQ 17.828125 56 27.875 56 \nQ 33.9375 56 38.28125 53.609375 \nQ 42.625 51.21875 45.40625 46.390625 \nL 45.40625 54.6875 \nL 54.390625 54.6875 \nz\n\" id=\"DejaVuSans-103\"/>\n      <path d=\"M 8.015625 75.875 \nL 15.828125 75.875 \nQ 23.140625 64.359375 26.78125 53.3125 \nQ 30.421875 42.28125 30.421875 31.390625 \nQ 30.421875 20.453125 26.78125 9.375 \nQ 23.140625 -1.703125 15.828125 -13.1875 \nL 8.015625 -13.1875 \nQ 14.5 -2 17.703125 9.0625 \nQ 20.90625 20.125 20.90625 31.390625 \nQ 20.90625 42.671875 17.703125 53.65625 \nQ 14.5 64.65625 8.015625 75.875 \nz\n\" id=\"DejaVuSans-41\"/>\n     </defs>\n     <g transform=\"translate(188.328125 253.316562)scale(0.1 -0.1)\">\n      <use xlink:href=\"#DejaVuSans-80\"/>\n      <use x=\"56.677734\" xlink:href=\"#DejaVuSans-111\"/>\n      <use x=\"117.859375\" xlink:href=\"#DejaVuSans-105\"/>\n      <use x=\"145.642578\" xlink:href=\"#DejaVuSans-100\"/>\n      <use x=\"209.119141\" xlink:href=\"#DejaVuSans-115\"/>\n      <use x=\"261.21875\" xlink:href=\"#DejaVuSans-32\"/>\n      <use x=\"293.005859\" xlink:href=\"#DejaVuSans-114\"/>\n      <use x=\"331.869141\" xlink:href=\"#DejaVuSans-233\"/>\n      <use x=\"393.392578\" xlink:href=\"#DejaVuSans-101\"/>\n      <use x=\"454.916016\" xlink:href=\"#DejaVuSans-108\"/>\n      <use x=\"482.699219\" xlink:href=\"#DejaVuSans-32\"/>\n      <use x=\"514.486328\" xlink:href=\"#DejaVuSans-40\"/>\n      <use x=\"553.5\" xlink:href=\"#DejaVuSans-103\"/>\n      <use x=\"616.976562\" xlink:href=\"#DejaVuSans-41\"/>\n     </g>\n    </g>\n   </g>\n   <g id=\"matplotlib.axis_2\">\n    <g id=\"ytick_1\">\n     <g id=\"line2d_8\">\n      <defs>\n       <path d=\"M 0 0 \nL -3.5 0 \n\" id=\"m3c6d2f8921\" style=\"stroke:#000000;stroke-width:0.8;\"/>\n      </defs>\n      <g>\n       <use style=\"stroke:#000000;stroke-width:0.8;\" x=\"53.728125\" xlink:href=\"#m3c6d2f8921\" y=\"197.751885\"/>\n      </g>\n     </g>\n     <g id=\"text_9\">\n      <!-- 3000 -->\n      <g transform=\"translate(21.278125 201.551103)scale(0.1 -0.1)\">\n       <use xlink:href=\"#DejaVuSans-51\"/>\n       <use x=\"63.623047\" xlink:href=\"#DejaVuSans-48\"/>\n       <use x=\"127.246094\" xlink:href=\"#DejaVuSans-48\"/>\n       <use x=\"190.869141\" xlink:href=\"#DejaVuSans-48\"/>\n      </g>\n     </g>\n    </g>\n    <g id=\"ytick_2\">\n     <g id=\"line2d_9\">\n      <g>\n       <use style=\"stroke:#000000;stroke-width:0.8;\" x=\"53.728125\" xlink:href=\"#m3c6d2f8921\" y=\"164.776127\"/>\n      </g>\n     </g>\n     <g id=\"text_10\">\n      <!-- 3500 -->\n      <g transform=\"translate(21.278125 168.575346)scale(0.1 -0.1)\">\n       <use xlink:href=\"#DejaVuSans-51\"/>\n       <use x=\"63.623047\" xlink:href=\"#DejaVuSans-53\"/>\n       <use x=\"127.246094\" xlink:href=\"#DejaVuSans-48\"/>\n       <use x=\"190.869141\" xlink:href=\"#DejaVuSans-48\"/>\n      </g>\n     </g>\n    </g>\n    <g id=\"ytick_3\">\n     <g id=\"line2d_10\">\n      <g>\n       <use style=\"stroke:#000000;stroke-width:0.8;\" x=\"53.728125\" xlink:href=\"#m3c6d2f8921\" y=\"131.80037\"/>\n      </g>\n     </g>\n     <g id=\"text_11\">\n      <!-- 4000 -->\n      <g transform=\"translate(21.278125 135.599589)scale(0.1 -0.1)\">\n       <use xlink:href=\"#DejaVuSans-52\"/>\n       <use x=\"63.623047\" xlink:href=\"#DejaVuSans-48\"/>\n       <use x=\"127.246094\" xlink:href=\"#DejaVuSans-48\"/>\n       <use x=\"190.869141\" xlink:href=\"#DejaVuSans-48\"/>\n      </g>\n     </g>\n    </g>\n    <g id=\"ytick_4\">\n     <g id=\"line2d_11\">\n      <g>\n       <use style=\"stroke:#000000;stroke-width:0.8;\" x=\"53.728125\" xlink:href=\"#m3c6d2f8921\" y=\"98.824613\"/>\n      </g>\n     </g>\n     <g id=\"text_12\">\n      <!-- 4500 -->\n      <g transform=\"translate(21.278125 102.623832)scale(0.1 -0.1)\">\n       <use xlink:href=\"#DejaVuSans-52\"/>\n       <use x=\"63.623047\" xlink:href=\"#DejaVuSans-53\"/>\n       <use x=\"127.246094\" xlink:href=\"#DejaVuSans-48\"/>\n       <use x=\"190.869141\" xlink:href=\"#DejaVuSans-48\"/>\n      </g>\n     </g>\n    </g>\n    <g id=\"ytick_5\">\n     <g id=\"line2d_12\">\n      <g>\n       <use style=\"stroke:#000000;stroke-width:0.8;\" x=\"53.728125\" xlink:href=\"#m3c6d2f8921\" y=\"65.848856\"/>\n      </g>\n     </g>\n     <g id=\"text_13\">\n      <!-- 5000 -->\n      <g transform=\"translate(21.278125 69.648074)scale(0.1 -0.1)\">\n       <use xlink:href=\"#DejaVuSans-53\"/>\n       <use x=\"63.623047\" xlink:href=\"#DejaVuSans-48\"/>\n       <use x=\"127.246094\" xlink:href=\"#DejaVuSans-48\"/>\n       <use x=\"190.869141\" xlink:href=\"#DejaVuSans-48\"/>\n      </g>\n     </g>\n    </g>\n    <g id=\"ytick_6\">\n     <g id=\"line2d_13\">\n      <g>\n       <use style=\"stroke:#000000;stroke-width:0.8;\" x=\"53.728125\" xlink:href=\"#m3c6d2f8921\" y=\"32.873098\"/>\n      </g>\n     </g>\n     <g id=\"text_14\">\n      <!-- 5500 -->\n      <g transform=\"translate(21.278125 36.672317)scale(0.1 -0.1)\">\n       <use xlink:href=\"#DejaVuSans-53\"/>\n       <use x=\"63.623047\" xlink:href=\"#DejaVuSans-53\"/>\n       <use x=\"127.246094\" xlink:href=\"#DejaVuSans-48\"/>\n       <use x=\"190.869141\" xlink:href=\"#DejaVuSans-48\"/>\n      </g>\n     </g>\n    </g>\n    <g id=\"text_15\">\n     <!-- Poids prédit (g) -->\n     <defs>\n      <path d=\"M 18.109375 8.203125 \nL 18.109375 -20.796875 \nL 9.078125 -20.796875 \nL 9.078125 54.6875 \nL 18.109375 54.6875 \nL 18.109375 46.390625 \nQ 20.953125 51.265625 25.265625 53.625 \nQ 29.59375 56 35.59375 56 \nQ 45.5625 56 51.78125 48.09375 \nQ 58.015625 40.1875 58.015625 27.296875 \nQ 58.015625 14.40625 51.78125 6.484375 \nQ 45.5625 -1.421875 35.59375 -1.421875 \nQ 29.59375 -1.421875 25.265625 0.953125 \nQ 20.953125 3.328125 18.109375 8.203125 \nz\nM 48.6875 27.296875 \nQ 48.6875 37.203125 44.609375 42.84375 \nQ 40.53125 48.484375 33.40625 48.484375 \nQ 26.265625 48.484375 22.1875 42.84375 \nQ 18.109375 37.203125 18.109375 27.296875 \nQ 18.109375 17.390625 22.1875 11.75 \nQ 26.265625 6.109375 33.40625 6.109375 \nQ 40.53125 6.109375 44.609375 11.75 \nQ 48.6875 17.390625 48.6875 27.296875 \nz\n\" id=\"DejaVuSans-112\"/>\n      <path d=\"M 18.3125 70.21875 \nL 18.3125 54.6875 \nL 36.8125 54.6875 \nL 36.8125 47.703125 \nL 18.3125 47.703125 \nL 18.3125 18.015625 \nQ 18.3125 11.328125 20.140625 9.421875 \nQ 21.96875 7.515625 27.59375 7.515625 \nL 36.8125 7.515625 \nL 36.8125 0 \nL 27.59375 0 \nQ 17.1875 0 13.234375 3.875 \nQ 9.28125 7.765625 9.28125 18.015625 \nL 9.28125 47.703125 \nL 2.6875 47.703125 \nL 2.6875 54.6875 \nL 9.28125 54.6875 \nL 9.28125 70.21875 \nz\n\" id=\"DejaVuSans-116\"/>\n     </defs>\n     <g transform=\"translate(15.198438 153.952031)rotate(-90)scale(0.1 -0.1)\">\n      <use xlink:href=\"#DejaVuSans-80\"/>\n      <use x=\"56.677734\" xlink:href=\"#DejaVuSans-111\"/>\n      <use x=\"117.859375\" xlink:href=\"#DejaVuSans-105\"/>\n      <use x=\"145.642578\" xlink:href=\"#DejaVuSans-100\"/>\n      <use x=\"209.119141\" xlink:href=\"#DejaVuSans-115\"/>\n      <use x=\"261.21875\" xlink:href=\"#DejaVuSans-32\"/>\n      <use x=\"293.005859\" xlink:href=\"#DejaVuSans-112\"/>\n      <use x=\"356.482422\" xlink:href=\"#DejaVuSans-114\"/>\n      <use x=\"395.345703\" xlink:href=\"#DejaVuSans-233\"/>\n      <use x=\"456.869141\" xlink:href=\"#DejaVuSans-100\"/>\n      <use x=\"520.345703\" xlink:href=\"#DejaVuSans-105\"/>\n      <use x=\"548.128906\" xlink:href=\"#DejaVuSans-116\"/>\n      <use x=\"587.337891\" xlink:href=\"#DejaVuSans-32\"/>\n      <use x=\"619.125\" xlink:href=\"#DejaVuSans-40\"/>\n      <use x=\"658.138672\" xlink:href=\"#DejaVuSans-103\"/>\n      <use x=\"721.615234\" xlink:href=\"#DejaVuSans-41\"/>\n     </g>\n    </g>\n   </g>\n   <g id=\"patch_3\">\n    <path d=\"M 53.728125 224.64 \nL 53.728125 7.2 \n\" style=\"fill:none;stroke:#000000;stroke-linecap:square;stroke-linejoin:miter;stroke-width:0.8;\"/>\n   </g>\n   <g id=\"patch_4\">\n    <path d=\"M 388.528125 224.64 \nL 388.528125 7.2 \n\" style=\"fill:none;stroke:#000000;stroke-linecap:square;stroke-linejoin:miter;stroke-width:0.8;\"/>\n   </g>\n   <g id=\"patch_5\">\n    <path d=\"M 53.728125 224.64 \nL 388.528125 224.64 \n\" style=\"fill:none;stroke:#000000;stroke-linecap:square;stroke-linejoin:miter;stroke-width:0.8;\"/>\n   </g>\n   <g id=\"patch_6\">\n    <path d=\"M 53.728125 7.2 \nL 388.528125 7.2 \n\" style=\"fill:none;stroke:#000000;stroke-linecap:square;stroke-linejoin:miter;stroke-width:0.8;\"/>\n   </g>\n  </g>\n </g>\n <defs>\n  <clipPath id=\"pd0e5fb7f52\">\n   <rect height=\"217.44\" width=\"334.8\" x=\"53.728125\" y=\"7.2\"/>\n  </clipPath>\n </defs>\n</svg>\n"
          },
          "metadata": {
            "tags": [],
            "needs_background": "light"
          }
        }
      ]
    },
    {
      "cell_type": "markdown",
      "metadata": {
        "id": "8mUoWx1xcKFO"
      },
      "source": [
        "`scikit-learn` nous permet aussi de quantifier la qualité du modèle grâce à différents scores, que l'on trouve dans le module `metrics`."
      ]
    },
    {
      "cell_type": "code",
      "metadata": {
        "id": "g9Wye-EacKFO"
      },
      "source": [
        "from sklearn import metrics"
      ],
      "execution_count": null,
      "outputs": []
    },
    {
      "cell_type": "markdown",
      "metadata": {
        "id": "nCZgbRKzcKFO"
      },
      "source": [
        "Pour un problème de régression, les métriques disponibles sont listées [ici](https://scikit-learn.org/stable/modules/model_evaluation.html#regression-metrics).\n",
        "\n",
        "Nous allons utiliser ici la racine carrée de l'erreur quadratique moyenne, ou _RMSE_ pour _Root Mean Squared Error_, implémentée dans [`mean_squared_error`](https://scikit-learn.org/stable/modules/generated/sklearn.metrics.mean_squared_error.html#sklearn.metrics.mean_squared_error) :"
      ]
    },
    {
      "cell_type": "code",
      "metadata": {
        "colab": {
          "base_uri": "https://localhost:8080/"
        },
        "id": "Lj2Z_gYLcKFO",
        "outputId": "bd332950-5996-4626-aec0-57d451c2af59"
      },
      "source": [
        "print(\"La RMSE de notre modèle est %.2f g\" % (metrics.mean_squared_error(y_regress, y_pred, squared=False)))"
      ],
      "execution_count": null,
      "outputs": [
        {
          "output_type": "stream",
          "text": [
            "La RMSE de notre modèle est 390.64 g\n"
          ],
          "name": "stdout"
        }
      ]
    },
    {
      "cell_type": "markdown",
      "metadata": {
        "id": "Tgrf4TRNcKFO"
      },
      "source": [
        "Attention ! Une erreur d'estimation de 400g n'a pas le même sens selon que l'on parle d'individus pesant plutôt 500g, 5kg ou 50kg."
      ]
    },
    {
      "cell_type": "markdown",
      "metadata": {
        "id": "P8vSzoaLcKFP"
      },
      "source": [
        "Nous pouvons aussi regarder la corrélation, donnée par le coefficient de détermination $R^2$, implémenté dans [`r2_score`](https://scikit-learn.org/stable/modules/generated/sklearn.metrics.r2_score.html#sklearn.metrics.r2_score)."
      ]
    },
    {
      "cell_type": "code",
      "metadata": {
        "colab": {
          "base_uri": "https://localhost:8080/"
        },
        "id": "J3WzcpJucKFP",
        "outputId": "46a8ad1a-6259-4381-a9a8-60d8d0fba094"
      },
      "source": [
        "print(\"Le coefficient de détermination de notre modèle est R2 = %.2f\" % (metrics.r2_score(y_regress, y_pred)))"
      ],
      "execution_count": null,
      "outputs": [
        {
          "output_type": "stream",
          "text": [
            "Le coefficient de détermination de notre modèle est R2 = 0.76\n"
          ],
          "name": "stdout"
        }
      ]
    },
    {
      "cell_type": "markdown",
      "metadata": {
        "id": "BhgoSV6NcKFP"
      },
      "source": [
        "## 2. Utilisation d'un jeu de test"
      ]
    },
    {
      "cell_type": "markdown",
      "metadata": {
        "id": "XUjDKDp7cKFP"
      },
      "source": [
        "Les mesures de performance calculées ci-dessus nous permettent de savoir à quel point le modèle « colle » bien aux données.\n",
        "\n",
        "Cependant, elles ne nous informent pas sur la __capacité du modèle à généraliser__, c'est-à-dire à prédire le poids d'un manchot qui ne fasse pas partie de ce jeu de données. C'est cependant ce qui nous intéresse en apprentissage. \n",
        "\n",
        "L'évaluation que nous venons de faire est analogue à poser un examen contenant uniquement des exercices déjà traités en classe : les élèves peuvent réussir cet examen et être tout à fait incapables de résoudre un nouveau problème faisant appel aux mêmes notions.\n",
        "\n",
        "C'est pourquoi on préfère évaluer la performance d'un modèle sur des données qu'il n'a jamais vues auparavant. Pour ce faire, nous allons mettre de côté une partie de nos données, appelées le __jeu de test__, que nous utiliserons uniquement pour l'évaluation. Pensez-y comme à un DS. Nous entraînerons le modèle sur le reste des données, appelé __jeu d'entraînement__."
      ]
    },
    {
      "cell_type": "markdown",
      "metadata": {
        "id": "Tw9phTgncKFQ"
      },
      "source": [
        "### Séparation des données en jeu d'entraînement et jeu de test"
      ]
    },
    {
      "cell_type": "markdown",
      "metadata": {
        "id": "uUsSXLBmcKFQ"
      },
      "source": [
        "Le module [`model_selection`](https://scikit-learn.org/dev/modules/classes.html?highlight=model_selection) de `scikit-learn` propose de nombreuses fonctionalités pour séparer des jeux de données en jeu d'entraînement et jeu de test (ainsi que des modes d'évaluation plus élaborés).\n",
        "\n",
        "Ici nous utilisons `train_test_split` pour séparer les données en un jeu d'entrainement `(X_train, y_train)` contenant 70% des données et un jeu de test `(X_test, y_test)` contenant les 30% restant."
      ]
    },
    {
      "cell_type": "code",
      "metadata": {
        "id": "X84HCPQ8cKFQ"
      },
      "source": [
        "from sklearn import model_selection"
      ],
      "execution_count": null,
      "outputs": []
    },
    {
      "cell_type": "code",
      "metadata": {
        "id": "F4Go6MH4cKFQ"
      },
      "source": [
        "(X_train, X_test, y_train, y_test) = model_selection.train_test_split(X, y_regress, \n",
        "                                                                      test_size=0.3, random_state=25)"
      ],
      "execution_count": null,
      "outputs": []
    },
    {
      "cell_type": "markdown",
      "metadata": {
        "id": "qYrBnwp3cKFQ"
      },
      "source": [
        "Le paramètre `random_state` nous permet de fixer la graine du générateur de nombres aléatoires. La valeur choisie n'a aucun intérêt, mais permet de garantir que si nous réutilisons cette graine à un autre endroit de notre session, nous obtiendrons de nouveau la même séparation en jeu d'entraînement et jeu de test."
      ]
    },
    {
      "cell_type": "code",
      "metadata": {
        "colab": {
          "base_uri": "https://localhost:8080/"
        },
        "id": "8at5oPOvcKFR",
        "outputId": "8dc791ed-9706-42d4-89f1-28d7ee0cb785"
      },
      "source": [
        "y_test"
      ],
      "execution_count": null,
      "outputs": [
        {
          "output_type": "execute_result",
          "data": {
            "text/plain": [
              "6      4675.0\n",
              "237    5650.0\n",
              "297    3350.0\n",
              "124    3325.0\n",
              "105    4600.0\n",
              "        ...  \n",
              "69     4250.0\n",
              "258    5850.0\n",
              "43     4150.0\n",
              "60     3350.0\n",
              "149    5700.0\n",
              "Name: body_mass_g, Length: 100, dtype: float64"
            ]
          },
          "metadata": {
            "tags": []
          },
          "execution_count": 171
        }
      ]
    },
    {
      "cell_type": "markdown",
      "metadata": {
        "id": "VJFLuOlXcKFR"
      },
      "source": [
        "Nous pouvons vérifier le nombre d'observations et de variables dans chacun de ces jeux :"
      ]
    },
    {
      "cell_type": "code",
      "metadata": {
        "colab": {
          "base_uri": "https://localhost:8080/"
        },
        "id": "HtSGobiycKFR",
        "outputId": "1b1ecbbe-5eab-40a2-b66c-5e132df785a4"
      },
      "source": [
        "X_train.shape, y_train.shape, X_test.shape, y_test.shape"
      ],
      "execution_count": null,
      "outputs": [
        {
          "output_type": "execute_result",
          "data": {
            "text/plain": [
              "((233, 3), (233,), (100, 3), (100,))"
            ]
          },
          "metadata": {
            "tags": []
          },
          "execution_count": 172
        }
      ]
    },
    {
      "cell_type": "code",
      "metadata": {
        "colab": {
          "base_uri": "https://localhost:8080/"
        },
        "id": "He1lKrevcKFR",
        "outputId": "eba41a5c-e512-4565-8f99-963a895c9833"
      },
      "source": [
        "print(\"Le jeu d'entraînement contient %d observations et le jeu de test %d observations.\" % (X_train.shape[0], X_test.shape[0]))"
      ],
      "execution_count": null,
      "outputs": [
        {
          "output_type": "stream",
          "text": [
            "Le jeu d'entraînement contient 233 observations et le jeu de test 100 observations.\n"
          ],
          "name": "stdout"
        }
      ]
    },
    {
      "cell_type": "markdown",
      "metadata": {
        "id": "pRz9EYAkcKFR"
      },
      "source": [
        "### Régression linéaire sur le jeu d'entraînement"
      ]
    },
    {
      "cell_type": "markdown",
      "metadata": {
        "id": "YL7kHHO4cKFR"
      },
      "source": [
        "Nous pouvons maintenant entraîner une régression linéaire sur le jeu d'entraînement uniquement :"
      ]
    },
    {
      "cell_type": "code",
      "metadata": {
        "colab": {
          "base_uri": "https://localhost:8080/"
        },
        "id": "n6jiiLM3cKFR",
        "outputId": "729758f5-6080-41ca-c7ba-ee07190cf10c"
      },
      "source": [
        "linreg.fit(X_train, y_train)"
      ],
      "execution_count": null,
      "outputs": [
        {
          "output_type": "execute_result",
          "data": {
            "text/plain": [
              "LinearRegression(copy_X=True, fit_intercept=True, n_jobs=None, normalize=False)"
            ]
          },
          "metadata": {
            "tags": []
          },
          "execution_count": 174
        }
      ]
    },
    {
      "cell_type": "markdown",
      "metadata": {
        "id": "q0ffeTv0cKFS"
      },
      "source": [
        "### Performance sur le jeu de test"
      ]
    },
    {
      "cell_type": "markdown",
      "metadata": {
        "id": "CK9Mv-8pcKFS"
      },
      "source": [
        "Nous évaluons maintenant la qualité de ce modèle sur le jeu de test :"
      ]
    },
    {
      "cell_type": "code",
      "metadata": {
        "id": "i6hr8MjNcKFS"
      },
      "source": [
        "y_test_pred = linreg.predict(X_test)"
      ],
      "execution_count": null,
      "outputs": []
    },
    {
      "cell_type": "code",
      "metadata": {
        "colab": {
          "base_uri": "https://localhost:8080/",
          "height": 409
        },
        "id": "9SQweN9VcKFS",
        "outputId": "e234d42c-5444-47cc-d9d2-82f862e8ec7b"
      },
      "source": [
        "plt.scatter(y_test, y_test_pred)\n",
        "\n",
        "plt.xlabel(\"Poids réel (g)\")\n",
        "plt.ylabel(\"Poids prédit (g)\")\n",
        "\n",
        "plt.title(\"Prédictions de la régression linéaire sur le jeu de test\")"
      ],
      "execution_count": null,
      "outputs": [
        {
          "output_type": "execute_result",
          "data": {
            "text/plain": [
              "Text(0.5, 1.0, 'Prédictions de la régression linéaire sur le jeu de test')"
            ]
          },
          "metadata": {
            "tags": []
          },
          "execution_count": 176
        },
        {
          "output_type": "display_data",
          "data": {
            "text/plain": [
              "<Figure size 432x288 with 1 Axes>"
            ],
            "image/svg+xml": "<?xml version=\"1.0\" encoding=\"utf-8\" standalone=\"no\"?>\n<!DOCTYPE svg PUBLIC \"-//W3C//DTD SVG 1.1//EN\"\n  \"http://www.w3.org/Graphics/SVG/1.1/DTD/svg11.dtd\">\n<!-- Created with matplotlib (https://matplotlib.org/) -->\n<svg height=\"278.194375pt\" version=\"1.1\" viewBox=\"0 0 398.144034 278.194375\" width=\"398.144034pt\" xmlns=\"http://www.w3.org/2000/svg\" xmlns:xlink=\"http://www.w3.org/1999/xlink\">\n <defs>\n  <style type=\"text/css\">\n*{stroke-linecap:butt;stroke-linejoin:round;}\n  </style>\n </defs>\n <g id=\"figure_1\">\n  <g id=\"patch_1\">\n   <path d=\"M 0 278.194375 \nL 398.144034 278.194375 \nL 398.144034 0 \nL 0 0 \nz\n\" style=\"fill:none;\"/>\n  </g>\n  <g id=\"axes_1\">\n   <g id=\"patch_2\">\n    <path d=\"M 53.728125 240.238125 \nL 388.528125 240.238125 \nL 388.528125 22.798125 \nL 53.728125 22.798125 \nz\n\" style=\"fill:#ffffff;\"/>\n   </g>\n   <g id=\"PathCollection_1\">\n    <defs>\n     <path d=\"M 0 3 \nC 0.795609 3 1.55874 2.683901 2.12132 2.12132 \nC 2.683901 1.55874 3 0.795609 3 0 \nC 3 -0.795609 2.683901 -1.55874 2.12132 -2.12132 \nC 1.55874 -2.683901 0.795609 -3 0 -3 \nC -0.795609 -3 -1.55874 -2.683901 -2.12132 -2.12132 \nC -2.683901 -1.55874 -3 -0.795609 -3 0 \nC -3 0.795609 -2.683901 1.55874 -2.12132 2.12132 \nC -1.55874 2.683901 -0.795609 3 0 3 \nz\n\" id=\"m9466c1adbf\" style=\"stroke:#1f77b4;\"/>\n    </defs>\n    <g clip-path=\"url(#p9730d41946)\">\n     <use style=\"fill:#1f77b4;stroke:#1f77b4;\" x=\"248.128125\" xlink:href=\"#m9466c1adbf\" y=\"150.511327\"/>\n     <use style=\"fill:#1f77b4;stroke:#1f77b4;\" x=\"343.855398\" xlink:href=\"#m9466c1adbf\" y=\"54.588559\"/>\n     <use style=\"fill:#1f77b4;stroke:#1f77b4;\" x=\"118.037216\" xlink:href=\"#m9466c1adbf\" y=\"180.943325\"/>\n     <use style=\"fill:#1f77b4;stroke:#1f77b4;\" x=\"115.58267\" xlink:href=\"#m9466c1adbf\" y=\"169.748293\"/>\n     <use style=\"fill:#1f77b4;stroke:#1f77b4;\" x=\"240.764489\" xlink:href=\"#m9466c1adbf\" y=\"162.467987\"/>\n     <use style=\"fill:#1f77b4;stroke:#1f77b4;\" x=\"338.946307\" xlink:href=\"#m9466c1adbf\" y=\"39.013947\"/>\n     <use style=\"fill:#1f77b4;stroke:#1f77b4;\" x=\"98.400852\" xlink:href=\"#m9466c1adbf\" y=\"181.1383\"/>\n     <use style=\"fill:#1f77b4;stroke:#1f77b4;\" x=\"284.946307\" xlink:href=\"#m9466c1adbf\" y=\"115.105959\"/>\n     <use style=\"fill:#1f77b4;stroke:#1f77b4;\" x=\"108.219034\" xlink:href=\"#m9466c1adbf\" y=\"167.076534\"/>\n     <use style=\"fill:#1f77b4;stroke:#1f77b4;\" x=\"255.491761\" xlink:href=\"#m9466c1adbf\" y=\"83.215438\"/>\n     <use style=\"fill:#1f77b4;stroke:#1f77b4;\" x=\"260.400852\" xlink:href=\"#m9466c1adbf\" y=\"108.143156\"/>\n     <use style=\"fill:#1f77b4;stroke:#1f77b4;\" x=\"137.67358\" xlink:href=\"#m9466c1adbf\" y=\"129.058066\"/>\n     <use style=\"fill:#1f77b4;stroke:#1f77b4;\" x=\"275.128125\" xlink:href=\"#m9466c1adbf\" y=\"76.664467\"/>\n     <use style=\"fill:#1f77b4;stroke:#1f77b4;\" x=\"152.400852\" xlink:href=\"#m9466c1adbf\" y=\"170.627042\"/>\n     <use style=\"fill:#1f77b4;stroke:#1f77b4;\" x=\"221.128125\" xlink:href=\"#m9466c1adbf\" y=\"109.871183\"/>\n     <use style=\"fill:#1f77b4;stroke:#1f77b4;\" x=\"211.309943\" xlink:href=\"#m9466c1adbf\" y=\"91.269584\"/>\n     <use style=\"fill:#1f77b4;stroke:#1f77b4;\" x=\"73.855398\" xlink:href=\"#m9466c1adbf\" y=\"180.976401\"/>\n     <use style=\"fill:#1f77b4;stroke:#1f77b4;\" x=\"250.58267\" xlink:href=\"#m9466c1adbf\" y=\"105.065349\"/>\n     <use style=\"fill:#1f77b4;stroke:#1f77b4;\" x=\"108.219034\" xlink:href=\"#m9466c1adbf\" y=\"177.321767\"/>\n     <use style=\"fill:#1f77b4;stroke:#1f77b4;\" x=\"122.946307\" xlink:href=\"#m9466c1adbf\" y=\"168.255402\"/>\n     <use style=\"fill:#1f77b4;stroke:#1f77b4;\" x=\"363.491761\" xlink:href=\"#m9466c1adbf\" y=\"78.981281\"/>\n     <use style=\"fill:#1f77b4;stroke:#1f77b4;\" x=\"176.946307\" xlink:href=\"#m9466c1adbf\" y=\"186.593665\"/>\n     <use style=\"fill:#1f77b4;stroke:#1f77b4;\" x=\"186.764489\" xlink:href=\"#m9466c1adbf\" y=\"128.593336\"/>\n     <use style=\"fill:#1f77b4;stroke:#1f77b4;\" x=\"142.58267\" xlink:href=\"#m9466c1adbf\" y=\"188.025687\"/>\n     <use style=\"fill:#1f77b4;stroke:#1f77b4;\" x=\"186.764489\" xlink:href=\"#m9466c1adbf\" y=\"121.557045\"/>\n     <use style=\"fill:#1f77b4;stroke:#1f77b4;\" x=\"265.309943\" xlink:href=\"#m9466c1adbf\" y=\"91.062523\"/>\n     <use style=\"fill:#1f77b4;stroke:#1f77b4;\" x=\"309.491761\" xlink:href=\"#m9466c1adbf\" y=\"66.723083\"/>\n     <use style=\"fill:#1f77b4;stroke:#1f77b4;\" x=\"115.58267\" xlink:href=\"#m9466c1adbf\" y=\"171.96215\"/>\n     <use style=\"fill:#1f77b4;stroke:#1f77b4;\" x=\"176.946307\" xlink:href=\"#m9466c1adbf\" y=\"111.483234\"/>\n     <use style=\"fill:#1f77b4;stroke:#1f77b4;\" x=\"245.67358\" xlink:href=\"#m9466c1adbf\" y=\"92.165466\"/>\n     <use style=\"fill:#1f77b4;stroke:#1f77b4;\" x=\"334.037216\" xlink:href=\"#m9466c1adbf\" y=\"61.527426\"/>\n     <use style=\"fill:#1f77b4;stroke:#1f77b4;\" x=\"334.037216\" xlink:href=\"#m9466c1adbf\" y=\"59.199544\"/>\n     <use style=\"fill:#1f77b4;stroke:#1f77b4;\" x=\"211.309943\" xlink:href=\"#m9466c1adbf\" y=\"126.639187\"/>\n     <use style=\"fill:#1f77b4;stroke:#1f77b4;\" x=\"83.67358\" xlink:href=\"#m9466c1adbf\" y=\"188.22607\"/>\n     <use style=\"fill:#1f77b4;stroke:#1f77b4;\" x=\"137.67358\" xlink:href=\"#m9466c1adbf\" y=\"146.210768\"/>\n     <use style=\"fill:#1f77b4;stroke:#1f77b4;\" x=\"240.764489\" xlink:href=\"#m9466c1adbf\" y=\"104.721471\"/>\n     <use style=\"fill:#1f77b4;stroke:#1f77b4;\" x=\"132.764489\" xlink:href=\"#m9466c1adbf\" y=\"143.680826\"/>\n     <use style=\"fill:#1f77b4;stroke:#1f77b4;\" x=\"221.128125\" xlink:href=\"#m9466c1adbf\" y=\"139.024021\"/>\n     <use style=\"fill:#1f77b4;stroke:#1f77b4;\" x=\"255.491761\" xlink:href=\"#m9466c1adbf\" y=\"88.670293\"/>\n     <use style=\"fill:#1f77b4;stroke:#1f77b4;\" x=\"176.946307\" xlink:href=\"#m9466c1adbf\" y=\"167.12324\"/>\n     <use style=\"fill:#1f77b4;stroke:#1f77b4;\" x=\"319.309943\" xlink:href=\"#m9466c1adbf\" y=\"68.126271\"/>\n     <use style=\"fill:#1f77b4;stroke:#1f77b4;\" x=\"159.764489\" xlink:href=\"#m9466c1adbf\" y=\"136.004904\"/>\n     <use style=\"fill:#1f77b4;stroke:#1f77b4;\" x=\"250.58267\" xlink:href=\"#m9466c1adbf\" y=\"149.087808\"/>\n     <use style=\"fill:#1f77b4;stroke:#1f77b4;\" x=\"230.946307\" xlink:href=\"#m9466c1adbf\" y=\"141.910585\"/>\n     <use style=\"fill:#1f77b4;stroke:#1f77b4;\" x=\"73.855398\" xlink:href=\"#m9466c1adbf\" y=\"180.24861\"/>\n     <use style=\"fill:#1f77b4;stroke:#1f77b4;\" x=\"172.037216\" xlink:href=\"#m9466c1adbf\" y=\"210.596689\"/>\n     <use style=\"fill:#1f77b4;stroke:#1f77b4;\" x=\"132.764489\" xlink:href=\"#m9466c1adbf\" y=\"149.492178\"/>\n     <use style=\"fill:#1f77b4;stroke:#1f77b4;\" x=\"147.491761\" xlink:href=\"#m9466c1adbf\" y=\"166.319907\"/>\n     <use style=\"fill:#1f77b4;stroke:#1f77b4;\" x=\"100.855398\" xlink:href=\"#m9466c1adbf\" y=\"201.603811\"/>\n     <use style=\"fill:#1f77b4;stroke:#1f77b4;\" x=\"329.128125\" xlink:href=\"#m9466c1adbf\" y=\"33.621128\"/>\n     <use style=\"fill:#1f77b4;stroke:#1f77b4;\" x=\"162.219034\" xlink:href=\"#m9466c1adbf\" y=\"204.678013\"/>\n     <use style=\"fill:#1f77b4;stroke:#1f77b4;\" x=\"152.400852\" xlink:href=\"#m9466c1adbf\" y=\"165.444129\"/>\n     <use style=\"fill:#1f77b4;stroke:#1f77b4;\" x=\"122.946307\" xlink:href=\"#m9466c1adbf\" y=\"160.282966\"/>\n     <use style=\"fill:#1f77b4;stroke:#1f77b4;\" x=\"172.037216\" xlink:href=\"#m9466c1adbf\" y=\"139.249257\"/>\n     <use style=\"fill:#1f77b4;stroke:#1f77b4;\" x=\"277.58267\" xlink:href=\"#m9466c1adbf\" y=\"86.31911\"/>\n     <use style=\"fill:#1f77b4;stroke:#1f77b4;\" x=\"211.309943\" xlink:href=\"#m9466c1adbf\" y=\"175.131973\"/>\n     <use style=\"fill:#1f77b4;stroke:#1f77b4;\" x=\"68.946307\" xlink:href=\"#m9466c1adbf\" y=\"191.467579\"/>\n     <use style=\"fill:#1f77b4;stroke:#1f77b4;\" x=\"211.309943\" xlink:href=\"#m9466c1adbf\" y=\"151.816455\"/>\n     <use style=\"fill:#1f77b4;stroke:#1f77b4;\" x=\"353.67358\" xlink:href=\"#m9466c1adbf\" y=\"61.786624\"/>\n     <use style=\"fill:#1f77b4;stroke:#1f77b4;\" x=\"260.400852\" xlink:href=\"#m9466c1adbf\" y=\"96.349924\"/>\n     <use style=\"fill:#1f77b4;stroke:#1f77b4;\" x=\"334.037216\" xlink:href=\"#m9466c1adbf\" y=\"32.681761\"/>\n     <use style=\"fill:#1f77b4;stroke:#1f77b4;\" x=\"253.037216\" xlink:href=\"#m9466c1adbf\" y=\"97.633701\"/>\n     <use style=\"fill:#1f77b4;stroke:#1f77b4;\" x=\"181.855398\" xlink:href=\"#m9466c1adbf\" y=\"150.753924\"/>\n     <use style=\"fill:#1f77b4;stroke:#1f77b4;\" x=\"304.58267\" xlink:href=\"#m9466c1adbf\" y=\"70.820039\"/>\n     <use style=\"fill:#1f77b4;stroke:#1f77b4;\" x=\"206.400852\" xlink:href=\"#m9466c1adbf\" y=\"159.362002\"/>\n     <use style=\"fill:#1f77b4;stroke:#1f77b4;\" x=\"115.58267\" xlink:href=\"#m9466c1adbf\" y=\"190.123842\"/>\n     <use style=\"fill:#1f77b4;stroke:#1f77b4;\" x=\"216.219034\" xlink:href=\"#m9466c1adbf\" y=\"148.313946\"/>\n     <use style=\"fill:#1f77b4;stroke:#1f77b4;\" x=\"334.037216\" xlink:href=\"#m9466c1adbf\" y=\"55.458044\"/>\n     <use style=\"fill:#1f77b4;stroke:#1f77b4;\" x=\"240.764489\" xlink:href=\"#m9466c1adbf\" y=\"168.49825\"/>\n     <use style=\"fill:#1f77b4;stroke:#1f77b4;\" x=\"98.400852\" xlink:href=\"#m9466c1adbf\" y=\"230.354489\"/>\n     <use style=\"fill:#1f77b4;stroke:#1f77b4;\" x=\"157.309943\" xlink:href=\"#m9466c1adbf\" y=\"139.902009\"/>\n     <use style=\"fill:#1f77b4;stroke:#1f77b4;\" x=\"132.764489\" xlink:href=\"#m9466c1adbf\" y=\"158.996241\"/>\n     <use style=\"fill:#1f77b4;stroke:#1f77b4;\" x=\"294.764489\" xlink:href=\"#m9466c1adbf\" y=\"69.883643\"/>\n     <use style=\"fill:#1f77b4;stroke:#1f77b4;\" x=\"304.58267\" xlink:href=\"#m9466c1adbf\" y=\"50.479369\"/>\n     <use style=\"fill:#1f77b4;stroke:#1f77b4;\" x=\"169.58267\" xlink:href=\"#m9466c1adbf\" y=\"127.70867\"/>\n     <use style=\"fill:#1f77b4;stroke:#1f77b4;\" x=\"373.309943\" xlink:href=\"#m9466c1adbf\" y=\"58.183085\"/>\n     <use style=\"fill:#1f77b4;stroke:#1f77b4;\" x=\"137.67358\" xlink:href=\"#m9466c1adbf\" y=\"150.005166\"/>\n     <use style=\"fill:#1f77b4;stroke:#1f77b4;\" x=\"304.58267\" xlink:href=\"#m9466c1adbf\" y=\"62.678242\"/>\n     <use style=\"fill:#1f77b4;stroke:#1f77b4;\" x=\"226.037216\" xlink:href=\"#m9466c1adbf\" y=\"111.939867\"/>\n     <use style=\"fill:#1f77b4;stroke:#1f77b4;\" x=\"132.764489\" xlink:href=\"#m9466c1adbf\" y=\"140.226191\"/>\n     <use style=\"fill:#1f77b4;stroke:#1f77b4;\" x=\"221.128125\" xlink:href=\"#m9466c1adbf\" y=\"91.893398\"/>\n     <use style=\"fill:#1f77b4;stroke:#1f77b4;\" x=\"314.400852\" xlink:href=\"#m9466c1adbf\" y=\"109.754062\"/>\n     <use style=\"fill:#1f77b4;stroke:#1f77b4;\" x=\"221.128125\" xlink:href=\"#m9466c1adbf\" y=\"94.462074\"/>\n     <use style=\"fill:#1f77b4;stroke:#1f77b4;\" x=\"132.764489\" xlink:href=\"#m9466c1adbf\" y=\"172.50268\"/>\n     <use style=\"fill:#1f77b4;stroke:#1f77b4;\" x=\"243.219034\" xlink:href=\"#m9466c1adbf\" y=\"97.538079\"/>\n     <use style=\"fill:#1f77b4;stroke:#1f77b4;\" x=\"162.219034\" xlink:href=\"#m9466c1adbf\" y=\"126.20664\"/>\n     <use style=\"fill:#1f77b4;stroke:#1f77b4;\" x=\"162.219034\" xlink:href=\"#m9466c1adbf\" y=\"183.877888\"/>\n     <use style=\"fill:#1f77b4;stroke:#1f77b4;\" x=\"162.219034\" xlink:href=\"#m9466c1adbf\" y=\"156.111739\"/>\n     <use style=\"fill:#1f77b4;stroke:#1f77b4;\" x=\"93.491761\" xlink:href=\"#m9466c1adbf\" y=\"182.973525\"/>\n     <use style=\"fill:#1f77b4;stroke:#1f77b4;\" x=\"181.855398\" xlink:href=\"#m9466c1adbf\" y=\"100.692062\"/>\n     <use style=\"fill:#1f77b4;stroke:#1f77b4;\" x=\"272.67358\" xlink:href=\"#m9466c1adbf\" y=\"91.94668\"/>\n     <use style=\"fill:#1f77b4;stroke:#1f77b4;\" x=\"127.855398\" xlink:href=\"#m9466c1adbf\" y=\"153.140111\"/>\n     <use style=\"fill:#1f77b4;stroke:#1f77b4;\" x=\"240.764489\" xlink:href=\"#m9466c1adbf\" y=\"77.931111\"/>\n     <use style=\"fill:#1f77b4;stroke:#1f77b4;\" x=\"132.764489\" xlink:href=\"#m9466c1adbf\" y=\"161.897477\"/>\n     <use style=\"fill:#1f77b4;stroke:#1f77b4;\" x=\"176.946307\" xlink:href=\"#m9466c1adbf\" y=\"202.365439\"/>\n     <use style=\"fill:#1f77b4;stroke:#1f77b4;\" x=\"206.400852\" xlink:href=\"#m9466c1adbf\" y=\"151.40282\"/>\n     <use style=\"fill:#1f77b4;stroke:#1f77b4;\" x=\"363.491761\" xlink:href=\"#m9466c1adbf\" y=\"33.527309\"/>\n     <use style=\"fill:#1f77b4;stroke:#1f77b4;\" x=\"196.58267\" xlink:href=\"#m9466c1adbf\" y=\"161.784213\"/>\n     <use style=\"fill:#1f77b4;stroke:#1f77b4;\" x=\"118.037216\" xlink:href=\"#m9466c1adbf\" y=\"155.175084\"/>\n     <use style=\"fill:#1f77b4;stroke:#1f77b4;\" x=\"348.764489\" xlink:href=\"#m9466c1adbf\" y=\"76.096395\"/>\n    </g>\n   </g>\n   <g id=\"matplotlib.axis_1\">\n    <g id=\"xtick_1\">\n     <g id=\"line2d_1\">\n      <defs>\n       <path d=\"M 0 0 \nL 0 3.5 \n\" id=\"m2a234e2b53\" style=\"stroke:#000000;stroke-width:0.8;\"/>\n      </defs>\n      <g>\n       <use style=\"stroke:#000000;stroke-width:0.8;\" x=\"83.67358\" xlink:href=\"#m2a234e2b53\" y=\"240.238125\"/>\n      </g>\n     </g>\n     <g id=\"text_1\">\n      <!-- 3000 -->\n      <defs>\n       <path d=\"M 40.578125 39.3125 \nQ 47.65625 37.796875 51.625 33 \nQ 55.609375 28.21875 55.609375 21.1875 \nQ 55.609375 10.40625 48.1875 4.484375 \nQ 40.765625 -1.421875 27.09375 -1.421875 \nQ 22.515625 -1.421875 17.65625 -0.515625 \nQ 12.796875 0.390625 7.625 2.203125 \nL 7.625 11.71875 \nQ 11.71875 9.328125 16.59375 8.109375 \nQ 21.484375 6.890625 26.8125 6.890625 \nQ 36.078125 6.890625 40.9375 10.546875 \nQ 45.796875 14.203125 45.796875 21.1875 \nQ 45.796875 27.640625 41.28125 31.265625 \nQ 36.765625 34.90625 28.71875 34.90625 \nL 20.21875 34.90625 \nL 20.21875 43.015625 \nL 29.109375 43.015625 \nQ 36.375 43.015625 40.234375 45.921875 \nQ 44.09375 48.828125 44.09375 54.296875 \nQ 44.09375 59.90625 40.109375 62.90625 \nQ 36.140625 65.921875 28.71875 65.921875 \nQ 24.65625 65.921875 20.015625 65.03125 \nQ 15.375 64.15625 9.8125 62.3125 \nL 9.8125 71.09375 \nQ 15.4375 72.65625 20.34375 73.4375 \nQ 25.25 74.21875 29.59375 74.21875 \nQ 40.828125 74.21875 47.359375 69.109375 \nQ 53.90625 64.015625 53.90625 55.328125 \nQ 53.90625 49.265625 50.4375 45.09375 \nQ 46.96875 40.921875 40.578125 39.3125 \nz\n\" id=\"DejaVuSans-51\"/>\n       <path d=\"M 31.78125 66.40625 \nQ 24.171875 66.40625 20.328125 58.90625 \nQ 16.5 51.421875 16.5 36.375 \nQ 16.5 21.390625 20.328125 13.890625 \nQ 24.171875 6.390625 31.78125 6.390625 \nQ 39.453125 6.390625 43.28125 13.890625 \nQ 47.125 21.390625 47.125 36.375 \nQ 47.125 51.421875 43.28125 58.90625 \nQ 39.453125 66.40625 31.78125 66.40625 \nz\nM 31.78125 74.21875 \nQ 44.046875 74.21875 50.515625 64.515625 \nQ 56.984375 54.828125 56.984375 36.375 \nQ 56.984375 17.96875 50.515625 8.265625 \nQ 44.046875 -1.421875 31.78125 -1.421875 \nQ 19.53125 -1.421875 13.0625 8.265625 \nQ 6.59375 17.96875 6.59375 36.375 \nQ 6.59375 54.828125 13.0625 64.515625 \nQ 19.53125 74.21875 31.78125 74.21875 \nz\n\" id=\"DejaVuSans-48\"/>\n      </defs>\n      <g transform=\"translate(70.94858 254.836562)scale(0.1 -0.1)\">\n       <use xlink:href=\"#DejaVuSans-51\"/>\n       <use x=\"63.623047\" xlink:href=\"#DejaVuSans-48\"/>\n       <use x=\"127.246094\" xlink:href=\"#DejaVuSans-48\"/>\n       <use x=\"190.869141\" xlink:href=\"#DejaVuSans-48\"/>\n      </g>\n     </g>\n    </g>\n    <g id=\"xtick_2\">\n     <g id=\"line2d_2\">\n      <g>\n       <use style=\"stroke:#000000;stroke-width:0.8;\" x=\"132.764489\" xlink:href=\"#m2a234e2b53\" y=\"240.238125\"/>\n      </g>\n     </g>\n     <g id=\"text_2\">\n      <!-- 3500 -->\n      <defs>\n       <path d=\"M 10.796875 72.90625 \nL 49.515625 72.90625 \nL 49.515625 64.59375 \nL 19.828125 64.59375 \nL 19.828125 46.734375 \nQ 21.96875 47.46875 24.109375 47.828125 \nQ 26.265625 48.1875 28.421875 48.1875 \nQ 40.625 48.1875 47.75 41.5 \nQ 54.890625 34.8125 54.890625 23.390625 \nQ 54.890625 11.625 47.5625 5.09375 \nQ 40.234375 -1.421875 26.90625 -1.421875 \nQ 22.3125 -1.421875 17.546875 -0.640625 \nQ 12.796875 0.140625 7.71875 1.703125 \nL 7.71875 11.625 \nQ 12.109375 9.234375 16.796875 8.0625 \nQ 21.484375 6.890625 26.703125 6.890625 \nQ 35.15625 6.890625 40.078125 11.328125 \nQ 45.015625 15.765625 45.015625 23.390625 \nQ 45.015625 31 40.078125 35.4375 \nQ 35.15625 39.890625 26.703125 39.890625 \nQ 22.75 39.890625 18.8125 39.015625 \nQ 14.890625 38.140625 10.796875 36.28125 \nz\n\" id=\"DejaVuSans-53\"/>\n      </defs>\n      <g transform=\"translate(120.039489 254.836562)scale(0.1 -0.1)\">\n       <use xlink:href=\"#DejaVuSans-51\"/>\n       <use x=\"63.623047\" xlink:href=\"#DejaVuSans-53\"/>\n       <use x=\"127.246094\" xlink:href=\"#DejaVuSans-48\"/>\n       <use x=\"190.869141\" xlink:href=\"#DejaVuSans-48\"/>\n      </g>\n     </g>\n    </g>\n    <g id=\"xtick_3\">\n     <g id=\"line2d_3\">\n      <g>\n       <use style=\"stroke:#000000;stroke-width:0.8;\" x=\"181.855398\" xlink:href=\"#m2a234e2b53\" y=\"240.238125\"/>\n      </g>\n     </g>\n     <g id=\"text_3\">\n      <!-- 4000 -->\n      <defs>\n       <path d=\"M 37.796875 64.3125 \nL 12.890625 25.390625 \nL 37.796875 25.390625 \nz\nM 35.203125 72.90625 \nL 47.609375 72.90625 \nL 47.609375 25.390625 \nL 58.015625 25.390625 \nL 58.015625 17.1875 \nL 47.609375 17.1875 \nL 47.609375 0 \nL 37.796875 0 \nL 37.796875 17.1875 \nL 4.890625 17.1875 \nL 4.890625 26.703125 \nz\n\" id=\"DejaVuSans-52\"/>\n      </defs>\n      <g transform=\"translate(169.130398 254.836562)scale(0.1 -0.1)\">\n       <use xlink:href=\"#DejaVuSans-52\"/>\n       <use x=\"63.623047\" xlink:href=\"#DejaVuSans-48\"/>\n       <use x=\"127.246094\" xlink:href=\"#DejaVuSans-48\"/>\n       <use x=\"190.869141\" xlink:href=\"#DejaVuSans-48\"/>\n      </g>\n     </g>\n    </g>\n    <g id=\"xtick_4\">\n     <g id=\"line2d_4\">\n      <g>\n       <use style=\"stroke:#000000;stroke-width:0.8;\" x=\"230.946307\" xlink:href=\"#m2a234e2b53\" y=\"240.238125\"/>\n      </g>\n     </g>\n     <g id=\"text_4\">\n      <!-- 4500 -->\n      <g transform=\"translate(218.221307 254.836562)scale(0.1 -0.1)\">\n       <use xlink:href=\"#DejaVuSans-52\"/>\n       <use x=\"63.623047\" xlink:href=\"#DejaVuSans-53\"/>\n       <use x=\"127.246094\" xlink:href=\"#DejaVuSans-48\"/>\n       <use x=\"190.869141\" xlink:href=\"#DejaVuSans-48\"/>\n      </g>\n     </g>\n    </g>\n    <g id=\"xtick_5\">\n     <g id=\"line2d_5\">\n      <g>\n       <use style=\"stroke:#000000;stroke-width:0.8;\" x=\"280.037216\" xlink:href=\"#m2a234e2b53\" y=\"240.238125\"/>\n      </g>\n     </g>\n     <g id=\"text_5\">\n      <!-- 5000 -->\n      <g transform=\"translate(267.312216 254.836562)scale(0.1 -0.1)\">\n       <use xlink:href=\"#DejaVuSans-53\"/>\n       <use x=\"63.623047\" xlink:href=\"#DejaVuSans-48\"/>\n       <use x=\"127.246094\" xlink:href=\"#DejaVuSans-48\"/>\n       <use x=\"190.869141\" xlink:href=\"#DejaVuSans-48\"/>\n      </g>\n     </g>\n    </g>\n    <g id=\"xtick_6\">\n     <g id=\"line2d_6\">\n      <g>\n       <use style=\"stroke:#000000;stroke-width:0.8;\" x=\"329.128125\" xlink:href=\"#m2a234e2b53\" y=\"240.238125\"/>\n      </g>\n     </g>\n     <g id=\"text_6\">\n      <!-- 5500 -->\n      <g transform=\"translate(316.403125 254.836562)scale(0.1 -0.1)\">\n       <use xlink:href=\"#DejaVuSans-53\"/>\n       <use x=\"63.623047\" xlink:href=\"#DejaVuSans-53\"/>\n       <use x=\"127.246094\" xlink:href=\"#DejaVuSans-48\"/>\n       <use x=\"190.869141\" xlink:href=\"#DejaVuSans-48\"/>\n      </g>\n     </g>\n    </g>\n    <g id=\"xtick_7\">\n     <g id=\"line2d_7\">\n      <g>\n       <use style=\"stroke:#000000;stroke-width:0.8;\" x=\"378.219034\" xlink:href=\"#m2a234e2b53\" y=\"240.238125\"/>\n      </g>\n     </g>\n     <g id=\"text_7\">\n      <!-- 6000 -->\n      <defs>\n       <path d=\"M 33.015625 40.375 \nQ 26.375 40.375 22.484375 35.828125 \nQ 18.609375 31.296875 18.609375 23.390625 \nQ 18.609375 15.53125 22.484375 10.953125 \nQ 26.375 6.390625 33.015625 6.390625 \nQ 39.65625 6.390625 43.53125 10.953125 \nQ 47.40625 15.53125 47.40625 23.390625 \nQ 47.40625 31.296875 43.53125 35.828125 \nQ 39.65625 40.375 33.015625 40.375 \nz\nM 52.59375 71.296875 \nL 52.59375 62.3125 \nQ 48.875 64.0625 45.09375 64.984375 \nQ 41.3125 65.921875 37.59375 65.921875 \nQ 27.828125 65.921875 22.671875 59.328125 \nQ 17.53125 52.734375 16.796875 39.40625 \nQ 19.671875 43.65625 24.015625 45.921875 \nQ 28.375 48.1875 33.59375 48.1875 \nQ 44.578125 48.1875 50.953125 41.515625 \nQ 57.328125 34.859375 57.328125 23.390625 \nQ 57.328125 12.15625 50.6875 5.359375 \nQ 44.046875 -1.421875 33.015625 -1.421875 \nQ 20.359375 -1.421875 13.671875 8.265625 \nQ 6.984375 17.96875 6.984375 36.375 \nQ 6.984375 53.65625 15.1875 63.9375 \nQ 23.390625 74.21875 37.203125 74.21875 \nQ 40.921875 74.21875 44.703125 73.484375 \nQ 48.484375 72.75 52.59375 71.296875 \nz\n\" id=\"DejaVuSans-54\"/>\n      </defs>\n      <g transform=\"translate(365.494034 254.836562)scale(0.1 -0.1)\">\n       <use xlink:href=\"#DejaVuSans-54\"/>\n       <use x=\"63.623047\" xlink:href=\"#DejaVuSans-48\"/>\n       <use x=\"127.246094\" xlink:href=\"#DejaVuSans-48\"/>\n       <use x=\"190.869141\" xlink:href=\"#DejaVuSans-48\"/>\n      </g>\n     </g>\n    </g>\n    <g id=\"text_8\">\n     <!-- Poids réel (g) -->\n     <defs>\n      <path d=\"M 19.671875 64.796875 \nL 19.671875 37.40625 \nL 32.078125 37.40625 \nQ 38.96875 37.40625 42.71875 40.96875 \nQ 46.484375 44.53125 46.484375 51.125 \nQ 46.484375 57.671875 42.71875 61.234375 \nQ 38.96875 64.796875 32.078125 64.796875 \nz\nM 9.8125 72.90625 \nL 32.078125 72.90625 \nQ 44.34375 72.90625 50.609375 67.359375 \nQ 56.890625 61.8125 56.890625 51.125 \nQ 56.890625 40.328125 50.609375 34.8125 \nQ 44.34375 29.296875 32.078125 29.296875 \nL 19.671875 29.296875 \nL 19.671875 0 \nL 9.8125 0 \nz\n\" id=\"DejaVuSans-80\"/>\n      <path d=\"M 30.609375 48.390625 \nQ 23.390625 48.390625 19.1875 42.75 \nQ 14.984375 37.109375 14.984375 27.296875 \nQ 14.984375 17.484375 19.15625 11.84375 \nQ 23.34375 6.203125 30.609375 6.203125 \nQ 37.796875 6.203125 41.984375 11.859375 \nQ 46.1875 17.53125 46.1875 27.296875 \nQ 46.1875 37.015625 41.984375 42.703125 \nQ 37.796875 48.390625 30.609375 48.390625 \nz\nM 30.609375 56 \nQ 42.328125 56 49.015625 48.375 \nQ 55.71875 40.765625 55.71875 27.296875 \nQ 55.71875 13.875 49.015625 6.21875 \nQ 42.328125 -1.421875 30.609375 -1.421875 \nQ 18.84375 -1.421875 12.171875 6.21875 \nQ 5.515625 13.875 5.515625 27.296875 \nQ 5.515625 40.765625 12.171875 48.375 \nQ 18.84375 56 30.609375 56 \nz\n\" id=\"DejaVuSans-111\"/>\n      <path d=\"M 9.421875 54.6875 \nL 18.40625 54.6875 \nL 18.40625 0 \nL 9.421875 0 \nz\nM 9.421875 75.984375 \nL 18.40625 75.984375 \nL 18.40625 64.59375 \nL 9.421875 64.59375 \nz\n\" id=\"DejaVuSans-105\"/>\n      <path d=\"M 45.40625 46.390625 \nL 45.40625 75.984375 \nL 54.390625 75.984375 \nL 54.390625 0 \nL 45.40625 0 \nL 45.40625 8.203125 \nQ 42.578125 3.328125 38.25 0.953125 \nQ 33.9375 -1.421875 27.875 -1.421875 \nQ 17.96875 -1.421875 11.734375 6.484375 \nQ 5.515625 14.40625 5.515625 27.296875 \nQ 5.515625 40.1875 11.734375 48.09375 \nQ 17.96875 56 27.875 56 \nQ 33.9375 56 38.25 53.625 \nQ 42.578125 51.265625 45.40625 46.390625 \nz\nM 14.796875 27.296875 \nQ 14.796875 17.390625 18.875 11.75 \nQ 22.953125 6.109375 30.078125 6.109375 \nQ 37.203125 6.109375 41.296875 11.75 \nQ 45.40625 17.390625 45.40625 27.296875 \nQ 45.40625 37.203125 41.296875 42.84375 \nQ 37.203125 48.484375 30.078125 48.484375 \nQ 22.953125 48.484375 18.875 42.84375 \nQ 14.796875 37.203125 14.796875 27.296875 \nz\n\" id=\"DejaVuSans-100\"/>\n      <path d=\"M 44.28125 53.078125 \nL 44.28125 44.578125 \nQ 40.484375 46.53125 36.375 47.5 \nQ 32.28125 48.484375 27.875 48.484375 \nQ 21.1875 48.484375 17.84375 46.4375 \nQ 14.5 44.390625 14.5 40.28125 \nQ 14.5 37.15625 16.890625 35.375 \nQ 19.28125 33.59375 26.515625 31.984375 \nL 29.59375 31.296875 \nQ 39.15625 29.25 43.1875 25.515625 \nQ 47.21875 21.78125 47.21875 15.09375 \nQ 47.21875 7.46875 41.1875 3.015625 \nQ 35.15625 -1.421875 24.609375 -1.421875 \nQ 20.21875 -1.421875 15.453125 -0.5625 \nQ 10.6875 0.296875 5.421875 2 \nL 5.421875 11.28125 \nQ 10.40625 8.6875 15.234375 7.390625 \nQ 20.0625 6.109375 24.8125 6.109375 \nQ 31.15625 6.109375 34.5625 8.28125 \nQ 37.984375 10.453125 37.984375 14.40625 \nQ 37.984375 18.0625 35.515625 20.015625 \nQ 33.0625 21.96875 24.703125 23.78125 \nL 21.578125 24.515625 \nQ 13.234375 26.265625 9.515625 29.90625 \nQ 5.8125 33.546875 5.8125 39.890625 \nQ 5.8125 47.609375 11.28125 51.796875 \nQ 16.75 56 26.8125 56 \nQ 31.78125 56 36.171875 55.265625 \nQ 40.578125 54.546875 44.28125 53.078125 \nz\n\" id=\"DejaVuSans-115\"/>\n      <path id=\"DejaVuSans-32\"/>\n      <path d=\"M 41.109375 46.296875 \nQ 39.59375 47.171875 37.8125 47.578125 \nQ 36.03125 48 33.890625 48 \nQ 26.265625 48 22.1875 43.046875 \nQ 18.109375 38.09375 18.109375 28.8125 \nL 18.109375 0 \nL 9.078125 0 \nL 9.078125 54.6875 \nL 18.109375 54.6875 \nL 18.109375 46.1875 \nQ 20.953125 51.171875 25.484375 53.578125 \nQ 30.03125 56 36.53125 56 \nQ 37.453125 56 38.578125 55.875 \nQ 39.703125 55.765625 41.0625 55.515625 \nz\n\" id=\"DejaVuSans-114\"/>\n      <path d=\"M 56.203125 29.59375 \nL 56.203125 25.203125 \nL 14.890625 25.203125 \nQ 15.484375 15.921875 20.484375 11.0625 \nQ 25.484375 6.203125 34.421875 6.203125 \nQ 39.59375 6.203125 44.453125 7.46875 \nQ 49.3125 8.734375 54.109375 11.28125 \nL 54.109375 2.78125 \nQ 49.265625 0.734375 44.1875 -0.34375 \nQ 39.109375 -1.421875 33.890625 -1.421875 \nQ 20.796875 -1.421875 13.15625 6.1875 \nQ 5.515625 13.8125 5.515625 26.8125 \nQ 5.515625 40.234375 12.765625 48.109375 \nQ 20.015625 56 32.328125 56 \nQ 43.359375 56 49.78125 48.890625 \nQ 56.203125 41.796875 56.203125 29.59375 \nz\nM 47.21875 32.234375 \nQ 47.125 39.59375 43.09375 43.984375 \nQ 39.0625 48.390625 32.421875 48.390625 \nQ 24.90625 48.390625 20.390625 44.140625 \nQ 15.875 39.890625 15.1875 32.171875 \nz\nM 38.53125 79.984375 \nL 48.25 79.984375 \nL 32.34375 61.625 \nL 24.859375 61.625 \nz\n\" id=\"DejaVuSans-233\"/>\n      <path d=\"M 56.203125 29.59375 \nL 56.203125 25.203125 \nL 14.890625 25.203125 \nQ 15.484375 15.921875 20.484375 11.0625 \nQ 25.484375 6.203125 34.421875 6.203125 \nQ 39.59375 6.203125 44.453125 7.46875 \nQ 49.3125 8.734375 54.109375 11.28125 \nL 54.109375 2.78125 \nQ 49.265625 0.734375 44.1875 -0.34375 \nQ 39.109375 -1.421875 33.890625 -1.421875 \nQ 20.796875 -1.421875 13.15625 6.1875 \nQ 5.515625 13.8125 5.515625 26.8125 \nQ 5.515625 40.234375 12.765625 48.109375 \nQ 20.015625 56 32.328125 56 \nQ 43.359375 56 49.78125 48.890625 \nQ 56.203125 41.796875 56.203125 29.59375 \nz\nM 47.21875 32.234375 \nQ 47.125 39.59375 43.09375 43.984375 \nQ 39.0625 48.390625 32.421875 48.390625 \nQ 24.90625 48.390625 20.390625 44.140625 \nQ 15.875 39.890625 15.1875 32.171875 \nz\n\" id=\"DejaVuSans-101\"/>\n      <path d=\"M 9.421875 75.984375 \nL 18.40625 75.984375 \nL 18.40625 0 \nL 9.421875 0 \nz\n\" id=\"DejaVuSans-108\"/>\n      <path d=\"M 31 75.875 \nQ 24.46875 64.65625 21.28125 53.65625 \nQ 18.109375 42.671875 18.109375 31.390625 \nQ 18.109375 20.125 21.3125 9.0625 \nQ 24.515625 -2 31 -13.1875 \nL 23.1875 -13.1875 \nQ 15.875 -1.703125 12.234375 9.375 \nQ 8.59375 20.453125 8.59375 31.390625 \nQ 8.59375 42.28125 12.203125 53.3125 \nQ 15.828125 64.359375 23.1875 75.875 \nz\n\" id=\"DejaVuSans-40\"/>\n      <path d=\"M 45.40625 27.984375 \nQ 45.40625 37.75 41.375 43.109375 \nQ 37.359375 48.484375 30.078125 48.484375 \nQ 22.859375 48.484375 18.828125 43.109375 \nQ 14.796875 37.75 14.796875 27.984375 \nQ 14.796875 18.265625 18.828125 12.890625 \nQ 22.859375 7.515625 30.078125 7.515625 \nQ 37.359375 7.515625 41.375 12.890625 \nQ 45.40625 18.265625 45.40625 27.984375 \nz\nM 54.390625 6.78125 \nQ 54.390625 -7.171875 48.1875 -13.984375 \nQ 42 -20.796875 29.203125 -20.796875 \nQ 24.46875 -20.796875 20.265625 -20.09375 \nQ 16.0625 -19.390625 12.109375 -17.921875 \nL 12.109375 -9.1875 \nQ 16.0625 -11.328125 19.921875 -12.34375 \nQ 23.78125 -13.375 27.78125 -13.375 \nQ 36.625 -13.375 41.015625 -8.765625 \nQ 45.40625 -4.15625 45.40625 5.171875 \nL 45.40625 9.625 \nQ 42.625 4.78125 38.28125 2.390625 \nQ 33.9375 0 27.875 0 \nQ 17.828125 0 11.671875 7.65625 \nQ 5.515625 15.328125 5.515625 27.984375 \nQ 5.515625 40.671875 11.671875 48.328125 \nQ 17.828125 56 27.875 56 \nQ 33.9375 56 38.28125 53.609375 \nQ 42.625 51.21875 45.40625 46.390625 \nL 45.40625 54.6875 \nL 54.390625 54.6875 \nz\n\" id=\"DejaVuSans-103\"/>\n      <path d=\"M 8.015625 75.875 \nL 15.828125 75.875 \nQ 23.140625 64.359375 26.78125 53.3125 \nQ 30.421875 42.28125 30.421875 31.390625 \nQ 30.421875 20.453125 26.78125 9.375 \nQ 23.140625 -1.703125 15.828125 -13.1875 \nL 8.015625 -13.1875 \nQ 14.5 -2 17.703125 9.0625 \nQ 20.90625 20.125 20.90625 31.390625 \nQ 20.90625 42.671875 17.703125 53.65625 \nQ 14.5 64.65625 8.015625 75.875 \nz\n\" id=\"DejaVuSans-41\"/>\n     </defs>\n     <g transform=\"translate(188.328125 268.914687)scale(0.1 -0.1)\">\n      <use xlink:href=\"#DejaVuSans-80\"/>\n      <use x=\"56.677734\" xlink:href=\"#DejaVuSans-111\"/>\n      <use x=\"117.859375\" xlink:href=\"#DejaVuSans-105\"/>\n      <use x=\"145.642578\" xlink:href=\"#DejaVuSans-100\"/>\n      <use x=\"209.119141\" xlink:href=\"#DejaVuSans-115\"/>\n      <use x=\"261.21875\" xlink:href=\"#DejaVuSans-32\"/>\n      <use x=\"293.005859\" xlink:href=\"#DejaVuSans-114\"/>\n      <use x=\"331.869141\" xlink:href=\"#DejaVuSans-233\"/>\n      <use x=\"393.392578\" xlink:href=\"#DejaVuSans-101\"/>\n      <use x=\"454.916016\" xlink:href=\"#DejaVuSans-108\"/>\n      <use x=\"482.699219\" xlink:href=\"#DejaVuSans-32\"/>\n      <use x=\"514.486328\" xlink:href=\"#DejaVuSans-40\"/>\n      <use x=\"553.5\" xlink:href=\"#DejaVuSans-103\"/>\n      <use x=\"616.976562\" xlink:href=\"#DejaVuSans-41\"/>\n     </g>\n    </g>\n   </g>\n   <g id=\"matplotlib.axis_2\">\n    <g id=\"ytick_1\">\n     <g id=\"line2d_8\">\n      <defs>\n       <path d=\"M 0 0 \nL -3.5 0 \n\" id=\"m2046ded7ce\" style=\"stroke:#000000;stroke-width:0.8;\"/>\n      </defs>\n      <g>\n       <use style=\"stroke:#000000;stroke-width:0.8;\" x=\"53.728125\" xlink:href=\"#m2046ded7ce\" y=\"212.543413\"/>\n      </g>\n     </g>\n     <g id=\"text_9\">\n      <!-- 3000 -->\n      <g transform=\"translate(21.278125 216.342632)scale(0.1 -0.1)\">\n       <use xlink:href=\"#DejaVuSans-51\"/>\n       <use x=\"63.623047\" xlink:href=\"#DejaVuSans-48\"/>\n       <use x=\"127.246094\" xlink:href=\"#DejaVuSans-48\"/>\n       <use x=\"190.869141\" xlink:href=\"#DejaVuSans-48\"/>\n      </g>\n     </g>\n    </g>\n    <g id=\"ytick_2\">\n     <g id=\"line2d_9\">\n      <g>\n       <use style=\"stroke:#000000;stroke-width:0.8;\" x=\"53.728125\" xlink:href=\"#m2046ded7ce\" y=\"179.357096\"/>\n      </g>\n     </g>\n     <g id=\"text_10\">\n      <!-- 3500 -->\n      <g transform=\"translate(21.278125 183.156315)scale(0.1 -0.1)\">\n       <use xlink:href=\"#DejaVuSans-51\"/>\n       <use x=\"63.623047\" xlink:href=\"#DejaVuSans-53\"/>\n       <use x=\"127.246094\" xlink:href=\"#DejaVuSans-48\"/>\n       <use x=\"190.869141\" xlink:href=\"#DejaVuSans-48\"/>\n      </g>\n     </g>\n    </g>\n    <g id=\"ytick_3\">\n     <g id=\"line2d_10\">\n      <g>\n       <use style=\"stroke:#000000;stroke-width:0.8;\" x=\"53.728125\" xlink:href=\"#m2046ded7ce\" y=\"146.170779\"/>\n      </g>\n     </g>\n     <g id=\"text_11\">\n      <!-- 4000 -->\n      <g transform=\"translate(21.278125 149.969997)scale(0.1 -0.1)\">\n       <use xlink:href=\"#DejaVuSans-52\"/>\n       <use x=\"63.623047\" xlink:href=\"#DejaVuSans-48\"/>\n       <use x=\"127.246094\" xlink:href=\"#DejaVuSans-48\"/>\n       <use x=\"190.869141\" xlink:href=\"#DejaVuSans-48\"/>\n      </g>\n     </g>\n    </g>\n    <g id=\"ytick_4\">\n     <g id=\"line2d_11\">\n      <g>\n       <use style=\"stroke:#000000;stroke-width:0.8;\" x=\"53.728125\" xlink:href=\"#m2046ded7ce\" y=\"112.984461\"/>\n      </g>\n     </g>\n     <g id=\"text_12\">\n      <!-- 4500 -->\n      <g transform=\"translate(21.278125 116.78368)scale(0.1 -0.1)\">\n       <use xlink:href=\"#DejaVuSans-52\"/>\n       <use x=\"63.623047\" xlink:href=\"#DejaVuSans-53\"/>\n       <use x=\"127.246094\" xlink:href=\"#DejaVuSans-48\"/>\n       <use x=\"190.869141\" xlink:href=\"#DejaVuSans-48\"/>\n      </g>\n     </g>\n    </g>\n    <g id=\"ytick_5\">\n     <g id=\"line2d_12\">\n      <g>\n       <use style=\"stroke:#000000;stroke-width:0.8;\" x=\"53.728125\" xlink:href=\"#m2046ded7ce\" y=\"79.798144\"/>\n      </g>\n     </g>\n     <g id=\"text_13\">\n      <!-- 5000 -->\n      <g transform=\"translate(21.278125 83.597363)scale(0.1 -0.1)\">\n       <use xlink:href=\"#DejaVuSans-53\"/>\n       <use x=\"63.623047\" xlink:href=\"#DejaVuSans-48\"/>\n       <use x=\"127.246094\" xlink:href=\"#DejaVuSans-48\"/>\n       <use x=\"190.869141\" xlink:href=\"#DejaVuSans-48\"/>\n      </g>\n     </g>\n    </g>\n    <g id=\"ytick_6\">\n     <g id=\"line2d_13\">\n      <g>\n       <use style=\"stroke:#000000;stroke-width:0.8;\" x=\"53.728125\" xlink:href=\"#m2046ded7ce\" y=\"46.611827\"/>\n      </g>\n     </g>\n     <g id=\"text_14\">\n      <!-- 5500 -->\n      <g transform=\"translate(21.278125 50.411046)scale(0.1 -0.1)\">\n       <use xlink:href=\"#DejaVuSans-53\"/>\n       <use x=\"63.623047\" xlink:href=\"#DejaVuSans-53\"/>\n       <use x=\"127.246094\" xlink:href=\"#DejaVuSans-48\"/>\n       <use x=\"190.869141\" xlink:href=\"#DejaVuSans-48\"/>\n      </g>\n     </g>\n    </g>\n    <g id=\"text_15\">\n     <!-- Poids prédit (g) -->\n     <defs>\n      <path d=\"M 18.109375 8.203125 \nL 18.109375 -20.796875 \nL 9.078125 -20.796875 \nL 9.078125 54.6875 \nL 18.109375 54.6875 \nL 18.109375 46.390625 \nQ 20.953125 51.265625 25.265625 53.625 \nQ 29.59375 56 35.59375 56 \nQ 45.5625 56 51.78125 48.09375 \nQ 58.015625 40.1875 58.015625 27.296875 \nQ 58.015625 14.40625 51.78125 6.484375 \nQ 45.5625 -1.421875 35.59375 -1.421875 \nQ 29.59375 -1.421875 25.265625 0.953125 \nQ 20.953125 3.328125 18.109375 8.203125 \nz\nM 48.6875 27.296875 \nQ 48.6875 37.203125 44.609375 42.84375 \nQ 40.53125 48.484375 33.40625 48.484375 \nQ 26.265625 48.484375 22.1875 42.84375 \nQ 18.109375 37.203125 18.109375 27.296875 \nQ 18.109375 17.390625 22.1875 11.75 \nQ 26.265625 6.109375 33.40625 6.109375 \nQ 40.53125 6.109375 44.609375 11.75 \nQ 48.6875 17.390625 48.6875 27.296875 \nz\n\" id=\"DejaVuSans-112\"/>\n      <path d=\"M 18.3125 70.21875 \nL 18.3125 54.6875 \nL 36.8125 54.6875 \nL 36.8125 47.703125 \nL 18.3125 47.703125 \nL 18.3125 18.015625 \nQ 18.3125 11.328125 20.140625 9.421875 \nQ 21.96875 7.515625 27.59375 7.515625 \nL 36.8125 7.515625 \nL 36.8125 0 \nL 27.59375 0 \nQ 17.1875 0 13.234375 3.875 \nQ 9.28125 7.765625 9.28125 18.015625 \nL 9.28125 47.703125 \nL 2.6875 47.703125 \nL 2.6875 54.6875 \nL 9.28125 54.6875 \nL 9.28125 70.21875 \nz\n\" id=\"DejaVuSans-116\"/>\n     </defs>\n     <g transform=\"translate(15.198438 169.550156)rotate(-90)scale(0.1 -0.1)\">\n      <use xlink:href=\"#DejaVuSans-80\"/>\n      <use x=\"56.677734\" xlink:href=\"#DejaVuSans-111\"/>\n      <use x=\"117.859375\" xlink:href=\"#DejaVuSans-105\"/>\n      <use x=\"145.642578\" xlink:href=\"#DejaVuSans-100\"/>\n      <use x=\"209.119141\" xlink:href=\"#DejaVuSans-115\"/>\n      <use x=\"261.21875\" xlink:href=\"#DejaVuSans-32\"/>\n      <use x=\"293.005859\" xlink:href=\"#DejaVuSans-112\"/>\n      <use x=\"356.482422\" xlink:href=\"#DejaVuSans-114\"/>\n      <use x=\"395.345703\" xlink:href=\"#DejaVuSans-233\"/>\n      <use x=\"456.869141\" xlink:href=\"#DejaVuSans-100\"/>\n      <use x=\"520.345703\" xlink:href=\"#DejaVuSans-105\"/>\n      <use x=\"548.128906\" xlink:href=\"#DejaVuSans-116\"/>\n      <use x=\"587.337891\" xlink:href=\"#DejaVuSans-32\"/>\n      <use x=\"619.125\" xlink:href=\"#DejaVuSans-40\"/>\n      <use x=\"658.138672\" xlink:href=\"#DejaVuSans-103\"/>\n      <use x=\"721.615234\" xlink:href=\"#DejaVuSans-41\"/>\n     </g>\n    </g>\n   </g>\n   <g id=\"patch_3\">\n    <path d=\"M 53.728125 240.238125 \nL 53.728125 22.798125 \n\" style=\"fill:none;stroke:#000000;stroke-linecap:square;stroke-linejoin:miter;stroke-width:0.8;\"/>\n   </g>\n   <g id=\"patch_4\">\n    <path d=\"M 388.528125 240.238125 \nL 388.528125 22.798125 \n\" style=\"fill:none;stroke:#000000;stroke-linecap:square;stroke-linejoin:miter;stroke-width:0.8;\"/>\n   </g>\n   <g id=\"patch_5\">\n    <path d=\"M 53.728125 240.238125 \nL 388.528125 240.238125 \n\" style=\"fill:none;stroke:#000000;stroke-linecap:square;stroke-linejoin:miter;stroke-width:0.8;\"/>\n   </g>\n   <g id=\"patch_6\">\n    <path d=\"M 53.728125 22.798125 \nL 388.528125 22.798125 \n\" style=\"fill:none;stroke:#000000;stroke-linecap:square;stroke-linejoin:miter;stroke-width:0.8;\"/>\n   </g>\n   <g id=\"text_16\">\n    <!-- Prédictions de la régression linéaire sur le jeu de test -->\n    <defs>\n     <path d=\"M 48.78125 52.59375 \nL 48.78125 44.1875 \nQ 44.96875 46.296875 41.140625 47.34375 \nQ 37.3125 48.390625 33.40625 48.390625 \nQ 24.65625 48.390625 19.8125 42.84375 \nQ 14.984375 37.3125 14.984375 27.296875 \nQ 14.984375 17.28125 19.8125 11.734375 \nQ 24.65625 6.203125 33.40625 6.203125 \nQ 37.3125 6.203125 41.140625 7.25 \nQ 44.96875 8.296875 48.78125 10.40625 \nL 48.78125 2.09375 \nQ 45.015625 0.34375 40.984375 -0.53125 \nQ 36.96875 -1.421875 32.421875 -1.421875 \nQ 20.0625 -1.421875 12.78125 6.34375 \nQ 5.515625 14.109375 5.515625 27.296875 \nQ 5.515625 40.671875 12.859375 48.328125 \nQ 20.21875 56 33.015625 56 \nQ 37.15625 56 41.109375 55.140625 \nQ 45.0625 54.296875 48.78125 52.59375 \nz\n\" id=\"DejaVuSans-99\"/>\n     <path d=\"M 54.890625 33.015625 \nL 54.890625 0 \nL 45.90625 0 \nL 45.90625 32.71875 \nQ 45.90625 40.484375 42.875 44.328125 \nQ 39.84375 48.1875 33.796875 48.1875 \nQ 26.515625 48.1875 22.3125 43.546875 \nQ 18.109375 38.921875 18.109375 30.90625 \nL 18.109375 0 \nL 9.078125 0 \nL 9.078125 54.6875 \nL 18.109375 54.6875 \nL 18.109375 46.1875 \nQ 21.34375 51.125 25.703125 53.5625 \nQ 30.078125 56 35.796875 56 \nQ 45.21875 56 50.046875 50.171875 \nQ 54.890625 44.34375 54.890625 33.015625 \nz\n\" id=\"DejaVuSans-110\"/>\n     <path d=\"M 34.28125 27.484375 \nQ 23.390625 27.484375 19.1875 25 \nQ 14.984375 22.515625 14.984375 16.5 \nQ 14.984375 11.71875 18.140625 8.90625 \nQ 21.296875 6.109375 26.703125 6.109375 \nQ 34.1875 6.109375 38.703125 11.40625 \nQ 43.21875 16.703125 43.21875 25.484375 \nL 43.21875 27.484375 \nz\nM 52.203125 31.203125 \nL 52.203125 0 \nL 43.21875 0 \nL 43.21875 8.296875 \nQ 40.140625 3.328125 35.546875 0.953125 \nQ 30.953125 -1.421875 24.3125 -1.421875 \nQ 15.921875 -1.421875 10.953125 3.296875 \nQ 6 8.015625 6 15.921875 \nQ 6 25.140625 12.171875 29.828125 \nQ 18.359375 34.515625 30.609375 34.515625 \nL 43.21875 34.515625 \nL 43.21875 35.40625 \nQ 43.21875 41.609375 39.140625 45 \nQ 35.0625 48.390625 27.6875 48.390625 \nQ 23 48.390625 18.546875 47.265625 \nQ 14.109375 46.140625 10.015625 43.890625 \nL 10.015625 52.203125 \nQ 14.9375 54.109375 19.578125 55.046875 \nQ 24.21875 56 28.609375 56 \nQ 40.484375 56 46.34375 49.84375 \nQ 52.203125 43.703125 52.203125 31.203125 \nz\n\" id=\"DejaVuSans-97\"/>\n     <path d=\"M 8.5 21.578125 \nL 8.5 54.6875 \nL 17.484375 54.6875 \nL 17.484375 21.921875 \nQ 17.484375 14.15625 20.5 10.265625 \nQ 23.53125 6.390625 29.59375 6.390625 \nQ 36.859375 6.390625 41.078125 11.03125 \nQ 45.3125 15.671875 45.3125 23.6875 \nL 45.3125 54.6875 \nL 54.296875 54.6875 \nL 54.296875 0 \nL 45.3125 0 \nL 45.3125 8.40625 \nQ 42.046875 3.421875 37.71875 1 \nQ 33.40625 -1.421875 27.6875 -1.421875 \nQ 18.265625 -1.421875 13.375 4.4375 \nQ 8.5 10.296875 8.5 21.578125 \nz\nM 31.109375 56 \nz\n\" id=\"DejaVuSans-117\"/>\n     <path d=\"M 9.421875 54.6875 \nL 18.40625 54.6875 \nL 18.40625 -0.984375 \nQ 18.40625 -11.421875 14.421875 -16.109375 \nQ 10.453125 -20.796875 1.609375 -20.796875 \nL -1.8125 -20.796875 \nL -1.8125 -13.1875 \nL 0.59375 -13.1875 \nQ 5.71875 -13.1875 7.5625 -10.8125 \nQ 9.421875 -8.453125 9.421875 -0.984375 \nz\nM 9.421875 75.984375 \nL 18.40625 75.984375 \nL 18.40625 64.59375 \nL 9.421875 64.59375 \nz\n\" id=\"DejaVuSans-106\"/>\n    </defs>\n    <g transform=\"translate(61.81125 16.798125)scale(0.12 -0.12)\">\n     <use xlink:href=\"#DejaVuSans-80\"/>\n     <use x=\"58.552734\" xlink:href=\"#DejaVuSans-114\"/>\n     <use x=\"97.416016\" xlink:href=\"#DejaVuSans-233\"/>\n     <use x=\"158.939453\" xlink:href=\"#DejaVuSans-100\"/>\n     <use x=\"222.416016\" xlink:href=\"#DejaVuSans-105\"/>\n     <use x=\"250.199219\" xlink:href=\"#DejaVuSans-99\"/>\n     <use x=\"305.179688\" xlink:href=\"#DejaVuSans-116\"/>\n     <use x=\"344.388672\" xlink:href=\"#DejaVuSans-105\"/>\n     <use x=\"372.171875\" xlink:href=\"#DejaVuSans-111\"/>\n     <use x=\"433.353516\" xlink:href=\"#DejaVuSans-110\"/>\n     <use x=\"496.732422\" xlink:href=\"#DejaVuSans-115\"/>\n     <use x=\"548.832031\" xlink:href=\"#DejaVuSans-32\"/>\n     <use x=\"580.619141\" xlink:href=\"#DejaVuSans-100\"/>\n     <use x=\"644.095703\" xlink:href=\"#DejaVuSans-101\"/>\n     <use x=\"705.619141\" xlink:href=\"#DejaVuSans-32\"/>\n     <use x=\"737.40625\" xlink:href=\"#DejaVuSans-108\"/>\n     <use x=\"765.189453\" xlink:href=\"#DejaVuSans-97\"/>\n     <use x=\"826.46875\" xlink:href=\"#DejaVuSans-32\"/>\n     <use x=\"858.255859\" xlink:href=\"#DejaVuSans-114\"/>\n     <use x=\"897.119141\" xlink:href=\"#DejaVuSans-233\"/>\n     <use x=\"958.642578\" xlink:href=\"#DejaVuSans-103\"/>\n     <use x=\"1022.119141\" xlink:href=\"#DejaVuSans-114\"/>\n     <use x=\"1060.982422\" xlink:href=\"#DejaVuSans-101\"/>\n     <use x=\"1122.505859\" xlink:href=\"#DejaVuSans-115\"/>\n     <use x=\"1174.605469\" xlink:href=\"#DejaVuSans-115\"/>\n     <use x=\"1226.705078\" xlink:href=\"#DejaVuSans-105\"/>\n     <use x=\"1254.488281\" xlink:href=\"#DejaVuSans-111\"/>\n     <use x=\"1315.669922\" xlink:href=\"#DejaVuSans-110\"/>\n     <use x=\"1379.048828\" xlink:href=\"#DejaVuSans-32\"/>\n     <use x=\"1410.835938\" xlink:href=\"#DejaVuSans-108\"/>\n     <use x=\"1438.619141\" xlink:href=\"#DejaVuSans-105\"/>\n     <use x=\"1466.402344\" xlink:href=\"#DejaVuSans-110\"/>\n     <use x=\"1529.78125\" xlink:href=\"#DejaVuSans-233\"/>\n     <use x=\"1591.304688\" xlink:href=\"#DejaVuSans-97\"/>\n     <use x=\"1652.583984\" xlink:href=\"#DejaVuSans-105\"/>\n     <use x=\"1680.367188\" xlink:href=\"#DejaVuSans-114\"/>\n     <use x=\"1719.230469\" xlink:href=\"#DejaVuSans-101\"/>\n     <use x=\"1780.753906\" xlink:href=\"#DejaVuSans-32\"/>\n     <use x=\"1812.541016\" xlink:href=\"#DejaVuSans-115\"/>\n     <use x=\"1864.640625\" xlink:href=\"#DejaVuSans-117\"/>\n     <use x=\"1928.019531\" xlink:href=\"#DejaVuSans-114\"/>\n     <use x=\"1969.132812\" xlink:href=\"#DejaVuSans-32\"/>\n     <use x=\"2000.919922\" xlink:href=\"#DejaVuSans-108\"/>\n     <use x=\"2028.703125\" xlink:href=\"#DejaVuSans-101\"/>\n     <use x=\"2090.226562\" xlink:href=\"#DejaVuSans-32\"/>\n     <use x=\"2122.013672\" xlink:href=\"#DejaVuSans-106\"/>\n     <use x=\"2149.796875\" xlink:href=\"#DejaVuSans-101\"/>\n     <use x=\"2211.320312\" xlink:href=\"#DejaVuSans-117\"/>\n     <use x=\"2274.699219\" xlink:href=\"#DejaVuSans-32\"/>\n     <use x=\"2306.486328\" xlink:href=\"#DejaVuSans-100\"/>\n     <use x=\"2369.962891\" xlink:href=\"#DejaVuSans-101\"/>\n     <use x=\"2431.486328\" xlink:href=\"#DejaVuSans-32\"/>\n     <use x=\"2463.273438\" xlink:href=\"#DejaVuSans-116\"/>\n     <use x=\"2502.482422\" xlink:href=\"#DejaVuSans-101\"/>\n     <use x=\"2564.005859\" xlink:href=\"#DejaVuSans-115\"/>\n     <use x=\"2616.105469\" xlink:href=\"#DejaVuSans-116\"/>\n    </g>\n   </g>\n  </g>\n </g>\n <defs>\n  <clipPath id=\"p9730d41946\">\n   <rect height=\"217.44\" width=\"334.8\" x=\"53.728125\" y=\"22.798125\"/>\n  </clipPath>\n </defs>\n</svg>\n"
          },
          "metadata": {
            "tags": [],
            "needs_background": "light"
          }
        }
      ]
    },
    {
      "cell_type": "code",
      "metadata": {
        "colab": {
          "base_uri": "https://localhost:8080/"
        },
        "id": "cJJ94ymKcKFS",
        "outputId": "ef5c24d2-fb73-4e38-bf61-f5d0e1b582c1"
      },
      "source": [
        "print(\"La RMSE de notre modèle est %.2f g\" % (metrics.mean_squared_error(y_test, y_test_pred, squared=False)))"
      ],
      "execution_count": null,
      "outputs": [
        {
          "output_type": "stream",
          "text": [
            "La RMSE de notre modèle est 411.80 g\n"
          ],
          "name": "stdout"
        }
      ]
    },
    {
      "cell_type": "code",
      "metadata": {
        "colab": {
          "base_uri": "https://localhost:8080/"
        },
        "id": "EFTbLdbfcKFS",
        "outputId": "dd2cc22d-6a0d-4b6a-f666-69fe4c339733"
      },
      "source": [
        "print(\"Le coefficient de détermination de notre modèle est R2 = %.2f\" % (metrics.r2_score(y_test, y_test_pred)))"
      ],
      "execution_count": null,
      "outputs": [
        {
          "output_type": "stream",
          "text": [
            "Le coefficient de détermination de notre modèle est R2 = 0.74\n"
          ],
          "name": "stdout"
        }
      ]
    },
    {
      "cell_type": "markdown",
      "metadata": {
        "id": "4IHiHejRcKFS"
      },
      "source": [
        "Ces valeurs sont très proches de celles obtenues sur le jeu d'entraînement ; nous pouvons en conclure qu'il n'y a vraisemblablement pas de sur-apprentissage."
      ]
    },
    {
      "cell_type": "markdown",
      "metadata": {
        "id": "FfG3XDbscKFT"
      },
      "source": [
        "## 3. Régression logistique"
      ]
    },
    {
      "cell_type": "markdown",
      "metadata": {
        "id": "1rNS00lHcKFT"
      },
      "source": [
        "### Chargement des données"
      ]
    },
    {
      "cell_type": "markdown",
      "metadata": {
        "id": "BBNXGBIDcKFT"
      },
      "source": [
        "Nous allons maintenant travailler sur le Problème 2 défini dans le notebook `0-Donnees.ipynb`. Il s'agit d'un problème de __classification__ sur la même matrice de données $X$ que précédement, mais avec des étiquettes _binaires_, que nous chargeons comme dans le notebook `0`."
      ]
    },
    {
      "cell_type": "code",
      "metadata": {
        "id": "ZXF-4198cKFT"
      },
      "source": [
        "y_classif = pd.Categorical(penguins[\"sex\"]).astype('category').codes"
      ],
      "execution_count": null,
      "outputs": []
    },
    {
      "cell_type": "markdown",
      "metadata": {
        "id": "xZ_tW0gtcKFT"
      },
      "source": [
        "### Séparation des données en jeu d'entraînement et jeu de test"
      ]
    },
    {
      "cell_type": "markdown",
      "metadata": {
        "id": "D9CN7y-RcKFT"
      },
      "source": [
        "Nous séparons dès maintenant ce jeu de données en un jeu d'entraînement et un jeu de test.\n",
        "\n",
        "Dans le cas d'un problème de classification, nous allons __stratifier__ les données : cela signifie que nous allons faire en sorte de respecter les proportions relatives d'observations de chacune des classes dans chacun de nos jeux de données."
      ]
    },
    {
      "cell_type": "code",
      "metadata": {
        "id": "prMibUCzcKFU"
      },
      "source": [
        "(X_train, X_test, y_train, y_test) = model_selection.train_test_split(X, y_classif, test_size=0.3, random_state=25, \n",
        "                                                                      stratify=y_classif)"
      ],
      "execution_count": null,
      "outputs": []
    },
    {
      "cell_type": "markdown",
      "metadata": {
        "id": "KqEJz-VKcKFU"
      },
      "source": [
        "### Formalisme "
      ]
    },
    {
      "cell_type": "markdown",
      "metadata": {
        "id": "ALpIf5n4cKFU"
      },
      "source": [
        "Nous disposons toujours de $n$ observations en $p$ dimensions, représentés par une matrice $X \\in \\mathbb{R}^{nxp}$ (ici, $p=3$), et d'un vecteur d'étiquettes $\\boldsymbol{y}$. Maintenant $\\boldsymbol{y} \\in \\{0, 1\\}^{n}$. \n",
        "\n",
        "Dans une régression logistique, on modélise la probabilité qu'une observation appartienne à la classe positive, autrement dit ait l'étiquette 1, par une transformation logistique d'une fonction linéaire des variables. Plus précisément, en notant $X$ un vecteur alétaoire réel $p$-dimensionnel qui modélise un manchot et $Y$ une variable aléatoire discrète à valeurs dans $\\{0, 1\\}$ qui modélise son étiquette, on modélise\n",
        "$\\mathbb{P}(Y = 1|X = \\boldsymbol{x})$ par $f(\\boldsymbol{x}),$ avec\n",
        "\n",
        "$$f: \\boldsymbol{x} \\in \\mathbb{R}^p \\mapsto \\sigma\\left(\\beta_0 + \\boldsymbol{\\beta}^\\top \\boldsymbol{x}\\right),$$\n",
        "\n",
        "où $\\beta_0 \\in \\mathbb{R}$ et $\\boldsymbol\\beta \\in \\mathbb{R}^p$.\n",
        "\n",
        "Pour trouver $\\beta_0$ et $\\boldsymbol\\beta$, on a de nouveau recours à la __minimiation du risque empirique__, calculé avec la __perte logistique__ $(y, f(\\boldsymbol{x})) \\mapsto - y \\log(f(\\boldsymbol{x})- (1-y) \\log(1-f(\\boldsymbol{x}))$ comme fonction de perte. \n",
        "\n",
        "Il s'agit donc de trouver $\\beta_0, \\boldsymbol{\\beta}$ qui minimisent\n",
        "$$ J(\\beta_0, \\boldsymbol{\\beta}) = \\frac1n \\sum_{i=1}^n - y_i \\log(\\sigma\\left(\\beta_0 + \\boldsymbol{\\beta}^\\top \\boldsymbol{x}_i\\right)) - \n",
        "(1-y_i) \\log(1-\\sigma\\left(\\beta_0 + \\boldsymbol{\\beta}^\\top \\boldsymbol{x}_i\\right)).$$ "
      ]
    },
    {
      "cell_type": "markdown",
      "metadata": {
        "id": "7pcnbEgPcKFU"
      },
      "source": [
        "### Régression logistique avec scikit-learn"
      ]
    },
    {
      "cell_type": "markdown",
      "metadata": {
        "id": "fDtzUEHCcKFU"
      },
      "source": [
        "La régression logistique est implémentée dans la classe [`LogisticRegression` du module `linear_model`](https://scikit-learn.org/dev/modules/generated/sklearn.linear_model.LogisticRegression.html?highlight=logisticregression#sklearn.linear_model.LogisticRegression) de `scikit-learn`.\n",
        "\n",
        "Nous utilisons une régression logistique « classique », sans pénalisation/régularisation. Il nous faut donc fixer l'argument `penalty` à `none`.\n",
        "\n",
        "Nous suivons exactement les mêmes étapes que pour la régression linéaire :"
      ]
    },
    {
      "cell_type": "markdown",
      "metadata": {
        "id": "_e5L3r6EcKFV"
      },
      "source": [
        "1. Instancions un objet de la classe de modèle qui nous intéresse, ici `LogisticRegression`"
      ]
    },
    {
      "cell_type": "code",
      "metadata": {
        "id": "asc78IvAcKFV"
      },
      "source": [
        "logreg = linear_model.LogisticRegression(penalty='none')"
      ],
      "execution_count": null,
      "outputs": []
    },
    {
      "cell_type": "markdown",
      "metadata": {
        "id": "wHP-9gSQcKFV"
      },
      "source": [
        "2. Entraînons cet objet sur les données d'entraînement avec la méthode `fit` :"
      ]
    },
    {
      "cell_type": "code",
      "metadata": {
        "colab": {
          "base_uri": "https://localhost:8080/"
        },
        "id": "jjLYpUI9cKFV",
        "outputId": "f47c2298-2b5c-4bb4-9ce0-8257f13a3bfe"
      },
      "source": [
        "logreg.fit(X_train, y_train)"
      ],
      "execution_count": null,
      "outputs": [
        {
          "output_type": "execute_result",
          "data": {
            "text/plain": [
              "LogisticRegression(C=1.0, class_weight=None, dual=False, fit_intercept=True,\n",
              "                   intercept_scaling=1, l1_ratio=None, max_iter=100,\n",
              "                   multi_class='auto', n_jobs=None, penalty='none',\n",
              "                   random_state=None, solver='lbfgs', tol=0.0001, verbose=0,\n",
              "                   warm_start=False)"
            ]
          },
          "metadata": {
            "tags": []
          },
          "execution_count": 182
        }
      ]
    },
    {
      "cell_type": "markdown",
      "metadata": {
        "id": "dZbHlDJTcKFV"
      },
      "source": [
        "print(\"La probabilité qu'un manchot soit mâle est prédite par sigma (%.2f \" % logreg.intercept_[0], end='')\n",
        "print(\"+ %.2f x bill_length_mm + %.2f x bill_depth_mm + %.2f x flipper_length_mm)\" % (tuple(logreg.coef_[0])))"
      ]
    },
    {
      "cell_type": "markdown",
      "metadata": {
        "id": "BYyUELbTcKFV"
      },
      "source": [
        "4. Enfin, prédisons les étiquettes des données du jeu de test en utilisant la méthode `predict` :"
      ]
    },
    {
      "cell_type": "code",
      "metadata": {
        "id": "t777n1qRcKFV"
      },
      "source": [
        "y_test_pred = logreg.predict(X_test)"
      ],
      "execution_count": null,
      "outputs": []
    },
    {
      "cell_type": "markdown",
      "metadata": {
        "id": "N8UDeEZ3cKFW"
      },
      "source": [
        "### Performance"
      ]
    },
    {
      "cell_type": "markdown",
      "metadata": {
        "id": "VQ4OtGYdcKFW"
      },
      "source": [
        "Pour évaluer la performance d'un algorithme de classification, on peut regarder la __matrice de confusion__ des prédictions :"
      ]
    },
    {
      "cell_type": "code",
      "metadata": {
        "colab": {
          "base_uri": "https://localhost:8080/",
          "height": 393
        },
        "id": "CTWn2LyccKFW",
        "outputId": "134c8cbb-d97b-4806-96c1-bc7720eb71fe"
      },
      "source": [
        "metrics.plot_confusion_matrix(logreg, X_test, y_test)"
      ],
      "execution_count": null,
      "outputs": [
        {
          "output_type": "execute_result",
          "data": {
            "text/plain": [
              "<sklearn.metrics._plot.confusion_matrix.ConfusionMatrixDisplay at 0x7fcc54e7ac90>"
            ]
          },
          "metadata": {
            "tags": []
          },
          "execution_count": 184
        },
        {
          "output_type": "display_data",
          "data": {
            "text/plain": [
              "<Figure size 432x288 with 2 Axes>"
            ],
            "image/svg+xml": "<?xml version=\"1.0\" encoding=\"utf-8\" standalone=\"no\"?>\n<!DOCTYPE svg PUBLIC \"-//W3C//DTD SVG 1.1//EN\"\n  \"http://www.w3.org/Graphics/SVG/1.1/DTD/svg11.dtd\">\n<!-- Created with matplotlib (https://matplotlib.org/) -->\n<svg height=\"265.995469pt\" version=\"1.1\" viewBox=\"0 0 306.217625 265.995469\" width=\"306.217625pt\" xmlns=\"http://www.w3.org/2000/svg\" xmlns:xlink=\"http://www.w3.org/1999/xlink\">\n <defs>\n  <style type=\"text/css\">\n*{stroke-linecap:butt;stroke-linejoin:round;}\n  </style>\n </defs>\n <g id=\"figure_1\">\n  <g id=\"patch_1\">\n   <path d=\"M 0 265.995469 \nL 306.217625 265.995469 \nL 306.217625 0 \nL 0 0 \nz\n\" style=\"fill:none;\"/>\n  </g>\n  <g id=\"axes_1\">\n   <g id=\"patch_2\">\n    <path d=\"M 34.240625 228.439219 \nL 251.680625 228.439219 \nL 251.680625 10.999219 \nL 34.240625 10.999219 \nz\n\" style=\"fill:#ffffff;\"/>\n   </g>\n   <g clip-path=\"url(#p1261727051)\">\n    <image height=\"218\" id=\"imagee2c776b85e\" transform=\"scale(1 -1)translate(0 -218)\" width=\"218\" x=\"34.240625\" xlink:href=\"data:image/png;base64,\niVBORw0KGgoAAAANSUhEUgAAANoAAADaCAYAAADAHVzbAAAABHNCSVQICAgIfAhkiAAAAppJREFUeJzt1UERwkAABEGCDN78QUWQESM4QgGKUEElGu4zVxTdCvYztct6e+4nfsr2es+ewKDz7AHwD4QGAaFBQGgQEBoEhAYBoUFAaBAQGgSEBgGhQUBoEBAaBIQGAaFBQGgQEBoEhAYBoUFAaBAQGgSEBgGhQUBoEBAaBIQGAaFBQGgQEBoEhAYBoUFAaBAQGgSEBgGhQUBoEBAaBIQGAaFBQGgQEBoEhAYBoUFAaBAQGgSEBgGhQUBoEBAaBIQGAaFBQGgQEBoEhAYBoUFAaBAQGgSEBgGhQUBoEBAaBIQGAaFBQGgQEBoEhAYBoUFAaBAQGgSEBgGhQUBoEBAaBIQGAaFBQGgQEBoEhAYBoUFAaBAQGgSEBgGhQUBoEBAaBIQGAaFBQGgQEBoEhAYBoUFAaBAQGgSEBgGhQUBoEBAaBIQGAaFBQGgQEBoEhAYBoUFAaBAQGgSEBgGhQUBoEFi+n+s+ewRjHpf77AkM8mgQEBoEhAYBoUFAaBAQGgSEBgGhQUBoEBAaBIQGAaFBQGgQEBoEhAYBoUFAaBAQGgSEBgGhQUBoEBAaBIQGAaFBQGgQEBoEhAYBoUFAaBAQGgSEBgGhQUBoEBAaBIQGAaFBQGgQEBoEhAYBoUFAaBAQGgSEBgGhQUBoEBAaBIQGAaFBQGgQEBoEhAYBoUFAaBAQGgSEBgGhQUBoEBAaBIQGAaFBQGgQEBoEhAYBoUFAaBAQGgSEBgGhQUBoEBAaBIQGAaFBQGgQEBoEhAYBoUFAaBAQGgSEBgGhQUBoEBAaBIQGAaFBQGgQEBoEhAYBoUFAaBAQGgSEBgGhQUBoEBAaBIQGAaFBQGgQEBoEhAYBoUFAaBAQGgSEBgGhQUBoEBAaBIQGAaFB4ABusAj+owu0awAAAABJRU5ErkJggg==\" y=\"-10.439219\"/>\n   </g>\n   <g id=\"matplotlib.axis_1\">\n    <g id=\"xtick_1\">\n     <g id=\"line2d_1\">\n      <defs>\n       <path d=\"M 0 0 \nL 0 3.5 \n\" id=\"m8cc64a808c\" style=\"stroke:#000000;stroke-width:0.8;\"/>\n      </defs>\n      <g>\n       <use style=\"stroke:#000000;stroke-width:0.8;\" x=\"88.600625\" xlink:href=\"#m8cc64a808c\" y=\"228.439219\"/>\n      </g>\n     </g>\n     <g id=\"text_1\">\n      <!-- 0 -->\n      <defs>\n       <path d=\"M 31.78125 66.40625 \nQ 24.171875 66.40625 20.328125 58.90625 \nQ 16.5 51.421875 16.5 36.375 \nQ 16.5 21.390625 20.328125 13.890625 \nQ 24.171875 6.390625 31.78125 6.390625 \nQ 39.453125 6.390625 43.28125 13.890625 \nQ 47.125 21.390625 47.125 36.375 \nQ 47.125 51.421875 43.28125 58.90625 \nQ 39.453125 66.40625 31.78125 66.40625 \nz\nM 31.78125 74.21875 \nQ 44.046875 74.21875 50.515625 64.515625 \nQ 56.984375 54.828125 56.984375 36.375 \nQ 56.984375 17.96875 50.515625 8.265625 \nQ 44.046875 -1.421875 31.78125 -1.421875 \nQ 19.53125 -1.421875 13.0625 8.265625 \nQ 6.59375 17.96875 6.59375 36.375 \nQ 6.59375 54.828125 13.0625 64.515625 \nQ 19.53125 74.21875 31.78125 74.21875 \nz\n\" id=\"DejaVuSans-48\"/>\n      </defs>\n      <g transform=\"translate(85.419375 243.037656)scale(0.1 -0.1)\">\n       <use xlink:href=\"#DejaVuSans-48\"/>\n      </g>\n     </g>\n    </g>\n    <g id=\"xtick_2\">\n     <g id=\"line2d_2\">\n      <g>\n       <use style=\"stroke:#000000;stroke-width:0.8;\" x=\"197.320625\" xlink:href=\"#m8cc64a808c\" y=\"228.439219\"/>\n      </g>\n     </g>\n     <g id=\"text_2\">\n      <!-- 1 -->\n      <defs>\n       <path d=\"M 12.40625 8.296875 \nL 28.515625 8.296875 \nL 28.515625 63.921875 \nL 10.984375 60.40625 \nL 10.984375 69.390625 \nL 28.421875 72.90625 \nL 38.28125 72.90625 \nL 38.28125 8.296875 \nL 54.390625 8.296875 \nL 54.390625 0 \nL 12.40625 0 \nz\n\" id=\"DejaVuSans-49\"/>\n      </defs>\n      <g transform=\"translate(194.139375 243.037656)scale(0.1 -0.1)\">\n       <use xlink:href=\"#DejaVuSans-49\"/>\n      </g>\n     </g>\n    </g>\n    <g id=\"text_3\">\n     <!-- Predicted label -->\n     <defs>\n      <path d=\"M 19.671875 64.796875 \nL 19.671875 37.40625 \nL 32.078125 37.40625 \nQ 38.96875 37.40625 42.71875 40.96875 \nQ 46.484375 44.53125 46.484375 51.125 \nQ 46.484375 57.671875 42.71875 61.234375 \nQ 38.96875 64.796875 32.078125 64.796875 \nz\nM 9.8125 72.90625 \nL 32.078125 72.90625 \nQ 44.34375 72.90625 50.609375 67.359375 \nQ 56.890625 61.8125 56.890625 51.125 \nQ 56.890625 40.328125 50.609375 34.8125 \nQ 44.34375 29.296875 32.078125 29.296875 \nL 19.671875 29.296875 \nL 19.671875 0 \nL 9.8125 0 \nz\n\" id=\"DejaVuSans-80\"/>\n      <path d=\"M 41.109375 46.296875 \nQ 39.59375 47.171875 37.8125 47.578125 \nQ 36.03125 48 33.890625 48 \nQ 26.265625 48 22.1875 43.046875 \nQ 18.109375 38.09375 18.109375 28.8125 \nL 18.109375 0 \nL 9.078125 0 \nL 9.078125 54.6875 \nL 18.109375 54.6875 \nL 18.109375 46.1875 \nQ 20.953125 51.171875 25.484375 53.578125 \nQ 30.03125 56 36.53125 56 \nQ 37.453125 56 38.578125 55.875 \nQ 39.703125 55.765625 41.0625 55.515625 \nz\n\" id=\"DejaVuSans-114\"/>\n      <path d=\"M 56.203125 29.59375 \nL 56.203125 25.203125 \nL 14.890625 25.203125 \nQ 15.484375 15.921875 20.484375 11.0625 \nQ 25.484375 6.203125 34.421875 6.203125 \nQ 39.59375 6.203125 44.453125 7.46875 \nQ 49.3125 8.734375 54.109375 11.28125 \nL 54.109375 2.78125 \nQ 49.265625 0.734375 44.1875 -0.34375 \nQ 39.109375 -1.421875 33.890625 -1.421875 \nQ 20.796875 -1.421875 13.15625 6.1875 \nQ 5.515625 13.8125 5.515625 26.8125 \nQ 5.515625 40.234375 12.765625 48.109375 \nQ 20.015625 56 32.328125 56 \nQ 43.359375 56 49.78125 48.890625 \nQ 56.203125 41.796875 56.203125 29.59375 \nz\nM 47.21875 32.234375 \nQ 47.125 39.59375 43.09375 43.984375 \nQ 39.0625 48.390625 32.421875 48.390625 \nQ 24.90625 48.390625 20.390625 44.140625 \nQ 15.875 39.890625 15.1875 32.171875 \nz\n\" id=\"DejaVuSans-101\"/>\n      <path d=\"M 45.40625 46.390625 \nL 45.40625 75.984375 \nL 54.390625 75.984375 \nL 54.390625 0 \nL 45.40625 0 \nL 45.40625 8.203125 \nQ 42.578125 3.328125 38.25 0.953125 \nQ 33.9375 -1.421875 27.875 -1.421875 \nQ 17.96875 -1.421875 11.734375 6.484375 \nQ 5.515625 14.40625 5.515625 27.296875 \nQ 5.515625 40.1875 11.734375 48.09375 \nQ 17.96875 56 27.875 56 \nQ 33.9375 56 38.25 53.625 \nQ 42.578125 51.265625 45.40625 46.390625 \nz\nM 14.796875 27.296875 \nQ 14.796875 17.390625 18.875 11.75 \nQ 22.953125 6.109375 30.078125 6.109375 \nQ 37.203125 6.109375 41.296875 11.75 \nQ 45.40625 17.390625 45.40625 27.296875 \nQ 45.40625 37.203125 41.296875 42.84375 \nQ 37.203125 48.484375 30.078125 48.484375 \nQ 22.953125 48.484375 18.875 42.84375 \nQ 14.796875 37.203125 14.796875 27.296875 \nz\n\" id=\"DejaVuSans-100\"/>\n      <path d=\"M 9.421875 54.6875 \nL 18.40625 54.6875 \nL 18.40625 0 \nL 9.421875 0 \nz\nM 9.421875 75.984375 \nL 18.40625 75.984375 \nL 18.40625 64.59375 \nL 9.421875 64.59375 \nz\n\" id=\"DejaVuSans-105\"/>\n      <path d=\"M 48.78125 52.59375 \nL 48.78125 44.1875 \nQ 44.96875 46.296875 41.140625 47.34375 \nQ 37.3125 48.390625 33.40625 48.390625 \nQ 24.65625 48.390625 19.8125 42.84375 \nQ 14.984375 37.3125 14.984375 27.296875 \nQ 14.984375 17.28125 19.8125 11.734375 \nQ 24.65625 6.203125 33.40625 6.203125 \nQ 37.3125 6.203125 41.140625 7.25 \nQ 44.96875 8.296875 48.78125 10.40625 \nL 48.78125 2.09375 \nQ 45.015625 0.34375 40.984375 -0.53125 \nQ 36.96875 -1.421875 32.421875 -1.421875 \nQ 20.0625 -1.421875 12.78125 6.34375 \nQ 5.515625 14.109375 5.515625 27.296875 \nQ 5.515625 40.671875 12.859375 48.328125 \nQ 20.21875 56 33.015625 56 \nQ 37.15625 56 41.109375 55.140625 \nQ 45.0625 54.296875 48.78125 52.59375 \nz\n\" id=\"DejaVuSans-99\"/>\n      <path d=\"M 18.3125 70.21875 \nL 18.3125 54.6875 \nL 36.8125 54.6875 \nL 36.8125 47.703125 \nL 18.3125 47.703125 \nL 18.3125 18.015625 \nQ 18.3125 11.328125 20.140625 9.421875 \nQ 21.96875 7.515625 27.59375 7.515625 \nL 36.8125 7.515625 \nL 36.8125 0 \nL 27.59375 0 \nQ 17.1875 0 13.234375 3.875 \nQ 9.28125 7.765625 9.28125 18.015625 \nL 9.28125 47.703125 \nL 2.6875 47.703125 \nL 2.6875 54.6875 \nL 9.28125 54.6875 \nL 9.28125 70.21875 \nz\n\" id=\"DejaVuSans-116\"/>\n      <path id=\"DejaVuSans-32\"/>\n      <path d=\"M 9.421875 75.984375 \nL 18.40625 75.984375 \nL 18.40625 0 \nL 9.421875 0 \nz\n\" id=\"DejaVuSans-108\"/>\n      <path d=\"M 34.28125 27.484375 \nQ 23.390625 27.484375 19.1875 25 \nQ 14.984375 22.515625 14.984375 16.5 \nQ 14.984375 11.71875 18.140625 8.90625 \nQ 21.296875 6.109375 26.703125 6.109375 \nQ 34.1875 6.109375 38.703125 11.40625 \nQ 43.21875 16.703125 43.21875 25.484375 \nL 43.21875 27.484375 \nz\nM 52.203125 31.203125 \nL 52.203125 0 \nL 43.21875 0 \nL 43.21875 8.296875 \nQ 40.140625 3.328125 35.546875 0.953125 \nQ 30.953125 -1.421875 24.3125 -1.421875 \nQ 15.921875 -1.421875 10.953125 3.296875 \nQ 6 8.015625 6 15.921875 \nQ 6 25.140625 12.171875 29.828125 \nQ 18.359375 34.515625 30.609375 34.515625 \nL 43.21875 34.515625 \nL 43.21875 35.40625 \nQ 43.21875 41.609375 39.140625 45 \nQ 35.0625 48.390625 27.6875 48.390625 \nQ 23 48.390625 18.546875 47.265625 \nQ 14.109375 46.140625 10.015625 43.890625 \nL 10.015625 52.203125 \nQ 14.9375 54.109375 19.578125 55.046875 \nQ 24.21875 56 28.609375 56 \nQ 40.484375 56 46.34375 49.84375 \nQ 52.203125 43.703125 52.203125 31.203125 \nz\n\" id=\"DejaVuSans-97\"/>\n      <path d=\"M 48.6875 27.296875 \nQ 48.6875 37.203125 44.609375 42.84375 \nQ 40.53125 48.484375 33.40625 48.484375 \nQ 26.265625 48.484375 22.1875 42.84375 \nQ 18.109375 37.203125 18.109375 27.296875 \nQ 18.109375 17.390625 22.1875 11.75 \nQ 26.265625 6.109375 33.40625 6.109375 \nQ 40.53125 6.109375 44.609375 11.75 \nQ 48.6875 17.390625 48.6875 27.296875 \nz\nM 18.109375 46.390625 \nQ 20.953125 51.265625 25.265625 53.625 \nQ 29.59375 56 35.59375 56 \nQ 45.5625 56 51.78125 48.09375 \nQ 58.015625 40.1875 58.015625 27.296875 \nQ 58.015625 14.40625 51.78125 6.484375 \nQ 45.5625 -1.421875 35.59375 -1.421875 \nQ 29.59375 -1.421875 25.265625 0.953125 \nQ 20.953125 3.328125 18.109375 8.203125 \nL 18.109375 0 \nL 9.078125 0 \nL 9.078125 75.984375 \nL 18.109375 75.984375 \nz\n\" id=\"DejaVuSans-98\"/>\n     </defs>\n     <g transform=\"translate(105.808281 256.715781)scale(0.1 -0.1)\">\n      <use xlink:href=\"#DejaVuSans-80\"/>\n      <use x=\"58.552734\" xlink:href=\"#DejaVuSans-114\"/>\n      <use x=\"97.416016\" xlink:href=\"#DejaVuSans-101\"/>\n      <use x=\"158.939453\" xlink:href=\"#DejaVuSans-100\"/>\n      <use x=\"222.416016\" xlink:href=\"#DejaVuSans-105\"/>\n      <use x=\"250.199219\" xlink:href=\"#DejaVuSans-99\"/>\n      <use x=\"305.179688\" xlink:href=\"#DejaVuSans-116\"/>\n      <use x=\"344.388672\" xlink:href=\"#DejaVuSans-101\"/>\n      <use x=\"405.912109\" xlink:href=\"#DejaVuSans-100\"/>\n      <use x=\"469.388672\" xlink:href=\"#DejaVuSans-32\"/>\n      <use x=\"501.175781\" xlink:href=\"#DejaVuSans-108\"/>\n      <use x=\"528.958984\" xlink:href=\"#DejaVuSans-97\"/>\n      <use x=\"590.238281\" xlink:href=\"#DejaVuSans-98\"/>\n      <use x=\"653.714844\" xlink:href=\"#DejaVuSans-101\"/>\n      <use x=\"715.238281\" xlink:href=\"#DejaVuSans-108\"/>\n     </g>\n    </g>\n   </g>\n   <g id=\"matplotlib.axis_2\">\n    <g id=\"ytick_1\">\n     <g id=\"line2d_3\">\n      <defs>\n       <path d=\"M 0 0 \nL -3.5 0 \n\" id=\"mb71d0a6daf\" style=\"stroke:#000000;stroke-width:0.8;\"/>\n      </defs>\n      <g>\n       <use style=\"stroke:#000000;stroke-width:0.8;\" x=\"34.240625\" xlink:href=\"#mb71d0a6daf\" y=\"65.359219\"/>\n      </g>\n     </g>\n     <g id=\"text_4\">\n      <!-- 0 -->\n      <g transform=\"translate(20.878125 69.158437)scale(0.1 -0.1)\">\n       <use xlink:href=\"#DejaVuSans-48\"/>\n      </g>\n     </g>\n    </g>\n    <g id=\"ytick_2\">\n     <g id=\"line2d_4\">\n      <g>\n       <use style=\"stroke:#000000;stroke-width:0.8;\" x=\"34.240625\" xlink:href=\"#mb71d0a6daf\" y=\"174.079219\"/>\n      </g>\n     </g>\n     <g id=\"text_5\">\n      <!-- 1 -->\n      <g transform=\"translate(20.878125 177.878437)scale(0.1 -0.1)\">\n       <use xlink:href=\"#DejaVuSans-49\"/>\n      </g>\n     </g>\n    </g>\n    <g id=\"text_6\">\n     <!-- True label -->\n     <defs>\n      <path d=\"M -0.296875 72.90625 \nL 61.375 72.90625 \nL 61.375 64.59375 \nL 35.5 64.59375 \nL 35.5 0 \nL 25.59375 0 \nL 25.59375 64.59375 \nL -0.296875 64.59375 \nz\n\" id=\"DejaVuSans-84\"/>\n      <path d=\"M 8.5 21.578125 \nL 8.5 54.6875 \nL 17.484375 54.6875 \nL 17.484375 21.921875 \nQ 17.484375 14.15625 20.5 10.265625 \nQ 23.53125 6.390625 29.59375 6.390625 \nQ 36.859375 6.390625 41.078125 11.03125 \nQ 45.3125 15.671875 45.3125 23.6875 \nL 45.3125 54.6875 \nL 54.296875 54.6875 \nL 54.296875 0 \nL 45.3125 0 \nL 45.3125 8.40625 \nQ 42.046875 3.421875 37.71875 1 \nQ 33.40625 -1.421875 27.6875 -1.421875 \nQ 18.265625 -1.421875 13.375 4.4375 \nQ 8.5 10.296875 8.5 21.578125 \nz\nM 31.109375 56 \nz\n\" id=\"DejaVuSans-117\"/>\n     </defs>\n     <g transform=\"translate(14.798437 144.018437)rotate(-90)scale(0.1 -0.1)\">\n      <use xlink:href=\"#DejaVuSans-84\"/>\n      <use x=\"46.333984\" xlink:href=\"#DejaVuSans-114\"/>\n      <use x=\"87.447266\" xlink:href=\"#DejaVuSans-117\"/>\n      <use x=\"150.826172\" xlink:href=\"#DejaVuSans-101\"/>\n      <use x=\"212.349609\" xlink:href=\"#DejaVuSans-32\"/>\n      <use x=\"244.136719\" xlink:href=\"#DejaVuSans-108\"/>\n      <use x=\"271.919922\" xlink:href=\"#DejaVuSans-97\"/>\n      <use x=\"333.199219\" xlink:href=\"#DejaVuSans-98\"/>\n      <use x=\"396.675781\" xlink:href=\"#DejaVuSans-101\"/>\n      <use x=\"458.199219\" xlink:href=\"#DejaVuSans-108\"/>\n     </g>\n    </g>\n   </g>\n   <g id=\"patch_3\">\n    <path d=\"M 34.240625 228.439219 \nL 34.240625 10.999219 \n\" style=\"fill:none;stroke:#000000;stroke-linecap:square;stroke-linejoin:miter;stroke-width:0.8;\"/>\n   </g>\n   <g id=\"patch_4\">\n    <path d=\"M 251.680625 228.439219 \nL 251.680625 10.999219 \n\" style=\"fill:none;stroke:#000000;stroke-linecap:square;stroke-linejoin:miter;stroke-width:0.8;\"/>\n   </g>\n   <g id=\"patch_5\">\n    <path d=\"M 34.240625 228.439219 \nL 251.680625 228.439219 \n\" style=\"fill:none;stroke:#000000;stroke-linecap:square;stroke-linejoin:miter;stroke-width:0.8;\"/>\n   </g>\n   <g id=\"patch_6\">\n    <path d=\"M 34.240625 10.999219 \nL 251.680625 10.999219 \n\" style=\"fill:none;stroke:#000000;stroke-linecap:square;stroke-linejoin:miter;stroke-width:0.8;\"/>\n   </g>\n   <g id=\"text_7\">\n    <!-- 40 -->\n    <defs>\n     <path d=\"M 37.796875 64.3125 \nL 12.890625 25.390625 \nL 37.796875 25.390625 \nz\nM 35.203125 72.90625 \nL 47.609375 72.90625 \nL 47.609375 25.390625 \nL 58.015625 25.390625 \nL 58.015625 17.1875 \nL 47.609375 17.1875 \nL 47.609375 0 \nL 37.796875 0 \nL 37.796875 17.1875 \nL 4.890625 17.1875 \nL 4.890625 26.703125 \nz\n\" id=\"DejaVuSans-52\"/>\n    </defs>\n    <g style=\"fill:#440154;\" transform=\"translate(82.238125 68.118594)scale(0.1 -0.1)\">\n     <use xlink:href=\"#DejaVuSans-52\"/>\n     <use x=\"63.623047\" xlink:href=\"#DejaVuSans-48\"/>\n    </g>\n   </g>\n   <g id=\"text_8\">\n    <!-- 10 -->\n    <g style=\"fill:#fde725;\" transform=\"translate(190.958125 68.118594)scale(0.1 -0.1)\">\n     <use xlink:href=\"#DejaVuSans-49\"/>\n     <use x=\"63.623047\" xlink:href=\"#DejaVuSans-48\"/>\n    </g>\n   </g>\n   <g id=\"text_9\">\n    <!-- 14 -->\n    <g style=\"fill:#fde725;\" transform=\"translate(82.238125 176.838594)scale(0.1 -0.1)\">\n     <use xlink:href=\"#DejaVuSans-49\"/>\n     <use x=\"63.623047\" xlink:href=\"#DejaVuSans-52\"/>\n    </g>\n   </g>\n   <g id=\"text_10\">\n    <!-- 36 -->\n    <defs>\n     <path d=\"M 40.578125 39.3125 \nQ 47.65625 37.796875 51.625 33 \nQ 55.609375 28.21875 55.609375 21.1875 \nQ 55.609375 10.40625 48.1875 4.484375 \nQ 40.765625 -1.421875 27.09375 -1.421875 \nQ 22.515625 -1.421875 17.65625 -0.515625 \nQ 12.796875 0.390625 7.625 2.203125 \nL 7.625 11.71875 \nQ 11.71875 9.328125 16.59375 8.109375 \nQ 21.484375 6.890625 26.8125 6.890625 \nQ 36.078125 6.890625 40.9375 10.546875 \nQ 45.796875 14.203125 45.796875 21.1875 \nQ 45.796875 27.640625 41.28125 31.265625 \nQ 36.765625 34.90625 28.71875 34.90625 \nL 20.21875 34.90625 \nL 20.21875 43.015625 \nL 29.109375 43.015625 \nQ 36.375 43.015625 40.234375 45.921875 \nQ 44.09375 48.828125 44.09375 54.296875 \nQ 44.09375 59.90625 40.109375 62.90625 \nQ 36.140625 65.921875 28.71875 65.921875 \nQ 24.65625 65.921875 20.015625 65.03125 \nQ 15.375 64.15625 9.8125 62.3125 \nL 9.8125 71.09375 \nQ 15.4375 72.65625 20.34375 73.4375 \nQ 25.25 74.21875 29.59375 74.21875 \nQ 40.828125 74.21875 47.359375 69.109375 \nQ 53.90625 64.015625 53.90625 55.328125 \nQ 53.90625 49.265625 50.4375 45.09375 \nQ 46.96875 40.921875 40.578125 39.3125 \nz\n\" id=\"DejaVuSans-51\"/>\n     <path d=\"M 33.015625 40.375 \nQ 26.375 40.375 22.484375 35.828125 \nQ 18.609375 31.296875 18.609375 23.390625 \nQ 18.609375 15.53125 22.484375 10.953125 \nQ 26.375 6.390625 33.015625 6.390625 \nQ 39.65625 6.390625 43.53125 10.953125 \nQ 47.40625 15.53125 47.40625 23.390625 \nQ 47.40625 31.296875 43.53125 35.828125 \nQ 39.65625 40.375 33.015625 40.375 \nz\nM 52.59375 71.296875 \nL 52.59375 62.3125 \nQ 48.875 64.0625 45.09375 64.984375 \nQ 41.3125 65.921875 37.59375 65.921875 \nQ 27.828125 65.921875 22.671875 59.328125 \nQ 17.53125 52.734375 16.796875 39.40625 \nQ 19.671875 43.65625 24.015625 45.921875 \nQ 28.375 48.1875 33.59375 48.1875 \nQ 44.578125 48.1875 50.953125 41.515625 \nQ 57.328125 34.859375 57.328125 23.390625 \nQ 57.328125 12.15625 50.6875 5.359375 \nQ 44.046875 -1.421875 33.015625 -1.421875 \nQ 20.359375 -1.421875 13.671875 8.265625 \nQ 6.984375 17.96875 6.984375 36.375 \nQ 6.984375 53.65625 15.1875 63.9375 \nQ 23.390625 74.21875 37.203125 74.21875 \nQ 40.921875 74.21875 44.703125 73.484375 \nQ 48.484375 72.75 52.59375 71.296875 \nz\n\" id=\"DejaVuSans-54\"/>\n    </defs>\n    <g style=\"fill:#440154;\" transform=\"translate(190.958125 176.838594)scale(0.1 -0.1)\">\n     <use xlink:href=\"#DejaVuSans-51\"/>\n     <use x=\"63.623047\" xlink:href=\"#DejaVuSans-54\"/>\n    </g>\n   </g>\n  </g>\n  <g id=\"axes_2\">\n   <g id=\"patch_7\">\n    <path clip-path=\"url(#pfb1fb62687)\" d=\"M 268.420625 228.439219 \nL 268.420625 227.589844 \nL 268.420625 11.848594 \nL 268.420625 10.999219 \nL 279.292625 10.999219 \nL 279.292625 11.848594 \nL 279.292625 227.589844 \nL 279.292625 228.439219 \nz\n\" style=\"fill:#ffffff;stroke:#ffffff;stroke-linejoin:miter;stroke-width:0.01;\"/>\n   </g>\n   <image height=\"217\" id=\"image892131167f\" transform=\"scale(1 -1)translate(0 -217)\" width=\"11\" x=\"268\" xlink:href=\"data:image/png;base64,\niVBORw0KGgoAAAANSUhEUgAAAAsAAADZCAYAAAD2WsoCAAAABHNCSVQICAgIfAhkiAAAAWFJREFUaIHt2kFuwzAQQ1FpJOdkPUPvf5C26bZANnoLAuMiWRPEJ2dkO07mR30+x+Fnz5qn2rHnWufiMQvEgjGmMJdgiPOgNqjnHtVZQHLOid9t/BXH2niuHgGJ2cbdA+P8SpDFEOcgc8p5iDMtv/VMGLE2bIK0G8YM4iZtBDFy1VHALqcbxOSMAVMY6By7yNyyjZjzHds41+Lzxh0n+P/HTc4txg0Q79P9Ij4/33fcjTZtBMcNzMHqKoXRpA14REq2MUYuIDjPWEDrmZhNDBjUhmGcU3DAVBurfjpgVKyNJeIcRhPnNWHc5NxEvO8YUG4T1kZ9d8AoGYodWGGmNpa1kdo6amNPCphjFmfpmZwvacNWNLYbuaE85hc4x4ZSEpCW/5KA1DNekcg5tRu0/LbPwYCpG9Bj0KVAlp9OigU81o592YEF5wVfCLe83dtLfsgowbjgfZZigDMxL/kjkGD8AgQsgWhMNMxTAAAAAElFTkSuQmCC\" y=\"-10\"/>\n   <g id=\"matplotlib.axis_3\"/>\n   <g id=\"matplotlib.axis_4\">\n    <g id=\"ytick_3\">\n     <g id=\"line2d_5\">\n      <defs>\n       <path d=\"M 0 0 \nL 3.5 0 \n\" id=\"mded1ef4d3a\" style=\"stroke:#000000;stroke-width:0.8;\"/>\n      </defs>\n      <g>\n       <use style=\"stroke:#000000;stroke-width:0.8;\" x=\"279.292625\" xlink:href=\"#mded1ef4d3a\" y=\"228.439219\"/>\n      </g>\n     </g>\n     <g id=\"text_11\">\n      <!-- 10 -->\n      <g transform=\"translate(286.292625 232.238437)scale(0.1 -0.1)\">\n       <use xlink:href=\"#DejaVuSans-49\"/>\n       <use x=\"63.623047\" xlink:href=\"#DejaVuSans-48\"/>\n      </g>\n     </g>\n    </g>\n    <g id=\"ytick_4\">\n     <g id=\"line2d_6\">\n      <g>\n       <use style=\"stroke:#000000;stroke-width:0.8;\" x=\"279.292625\" xlink:href=\"#mded1ef4d3a\" y=\"192.199219\"/>\n      </g>\n     </g>\n     <g id=\"text_12\">\n      <!-- 15 -->\n      <defs>\n       <path d=\"M 10.796875 72.90625 \nL 49.515625 72.90625 \nL 49.515625 64.59375 \nL 19.828125 64.59375 \nL 19.828125 46.734375 \nQ 21.96875 47.46875 24.109375 47.828125 \nQ 26.265625 48.1875 28.421875 48.1875 \nQ 40.625 48.1875 47.75 41.5 \nQ 54.890625 34.8125 54.890625 23.390625 \nQ 54.890625 11.625 47.5625 5.09375 \nQ 40.234375 -1.421875 26.90625 -1.421875 \nQ 22.3125 -1.421875 17.546875 -0.640625 \nQ 12.796875 0.140625 7.71875 1.703125 \nL 7.71875 11.625 \nQ 12.109375 9.234375 16.796875 8.0625 \nQ 21.484375 6.890625 26.703125 6.890625 \nQ 35.15625 6.890625 40.078125 11.328125 \nQ 45.015625 15.765625 45.015625 23.390625 \nQ 45.015625 31 40.078125 35.4375 \nQ 35.15625 39.890625 26.703125 39.890625 \nQ 22.75 39.890625 18.8125 39.015625 \nQ 14.890625 38.140625 10.796875 36.28125 \nz\n\" id=\"DejaVuSans-53\"/>\n      </defs>\n      <g transform=\"translate(286.292625 195.998437)scale(0.1 -0.1)\">\n       <use xlink:href=\"#DejaVuSans-49\"/>\n       <use x=\"63.623047\" xlink:href=\"#DejaVuSans-53\"/>\n      </g>\n     </g>\n    </g>\n    <g id=\"ytick_5\">\n     <g id=\"line2d_7\">\n      <g>\n       <use style=\"stroke:#000000;stroke-width:0.8;\" x=\"279.292625\" xlink:href=\"#mded1ef4d3a\" y=\"155.959219\"/>\n      </g>\n     </g>\n     <g id=\"text_13\">\n      <!-- 20 -->\n      <defs>\n       <path d=\"M 19.1875 8.296875 \nL 53.609375 8.296875 \nL 53.609375 0 \nL 7.328125 0 \nL 7.328125 8.296875 \nQ 12.9375 14.109375 22.625 23.890625 \nQ 32.328125 33.6875 34.8125 36.53125 \nQ 39.546875 41.84375 41.421875 45.53125 \nQ 43.3125 49.21875 43.3125 52.78125 \nQ 43.3125 58.59375 39.234375 62.25 \nQ 35.15625 65.921875 28.609375 65.921875 \nQ 23.96875 65.921875 18.8125 64.3125 \nQ 13.671875 62.703125 7.8125 59.421875 \nL 7.8125 69.390625 \nQ 13.765625 71.78125 18.9375 73 \nQ 24.125 74.21875 28.421875 74.21875 \nQ 39.75 74.21875 46.484375 68.546875 \nQ 53.21875 62.890625 53.21875 53.421875 \nQ 53.21875 48.921875 51.53125 44.890625 \nQ 49.859375 40.875 45.40625 35.40625 \nQ 44.1875 33.984375 37.640625 27.21875 \nQ 31.109375 20.453125 19.1875 8.296875 \nz\n\" id=\"DejaVuSans-50\"/>\n      </defs>\n      <g transform=\"translate(286.292625 159.758437)scale(0.1 -0.1)\">\n       <use xlink:href=\"#DejaVuSans-50\"/>\n       <use x=\"63.623047\" xlink:href=\"#DejaVuSans-48\"/>\n      </g>\n     </g>\n    </g>\n    <g id=\"ytick_6\">\n     <g id=\"line2d_8\">\n      <g>\n       <use style=\"stroke:#000000;stroke-width:0.8;\" x=\"279.292625\" xlink:href=\"#mded1ef4d3a\" y=\"119.719219\"/>\n      </g>\n     </g>\n     <g id=\"text_14\">\n      <!-- 25 -->\n      <g transform=\"translate(286.292625 123.518437)scale(0.1 -0.1)\">\n       <use xlink:href=\"#DejaVuSans-50\"/>\n       <use x=\"63.623047\" xlink:href=\"#DejaVuSans-53\"/>\n      </g>\n     </g>\n    </g>\n    <g id=\"ytick_7\">\n     <g id=\"line2d_9\">\n      <g>\n       <use style=\"stroke:#000000;stroke-width:0.8;\" x=\"279.292625\" xlink:href=\"#mded1ef4d3a\" y=\"83.479219\"/>\n      </g>\n     </g>\n     <g id=\"text_15\">\n      <!-- 30 -->\n      <g transform=\"translate(286.292625 87.278437)scale(0.1 -0.1)\">\n       <use xlink:href=\"#DejaVuSans-51\"/>\n       <use x=\"63.623047\" xlink:href=\"#DejaVuSans-48\"/>\n      </g>\n     </g>\n    </g>\n    <g id=\"ytick_8\">\n     <g id=\"line2d_10\">\n      <g>\n       <use style=\"stroke:#000000;stroke-width:0.8;\" x=\"279.292625\" xlink:href=\"#mded1ef4d3a\" y=\"47.239219\"/>\n      </g>\n     </g>\n     <g id=\"text_16\">\n      <!-- 35 -->\n      <g transform=\"translate(286.292625 51.038437)scale(0.1 -0.1)\">\n       <use xlink:href=\"#DejaVuSans-51\"/>\n       <use x=\"63.623047\" xlink:href=\"#DejaVuSans-53\"/>\n      </g>\n     </g>\n    </g>\n    <g id=\"ytick_9\">\n     <g id=\"line2d_11\">\n      <g>\n       <use style=\"stroke:#000000;stroke-width:0.8;\" x=\"279.292625\" xlink:href=\"#mded1ef4d3a\" y=\"10.999219\"/>\n      </g>\n     </g>\n     <g id=\"text_17\">\n      <!-- 40 -->\n      <g transform=\"translate(286.292625 14.798437)scale(0.1 -0.1)\">\n       <use xlink:href=\"#DejaVuSans-52\"/>\n       <use x=\"63.623047\" xlink:href=\"#DejaVuSans-48\"/>\n      </g>\n     </g>\n    </g>\n   </g>\n   <g id=\"patch_8\">\n    <path d=\"M 268.420625 228.439219 \nL 268.420625 227.589844 \nL 268.420625 11.848594 \nL 268.420625 10.999219 \nL 279.292625 10.999219 \nL 279.292625 11.848594 \nL 279.292625 227.589844 \nL 279.292625 228.439219 \nz\n\" style=\"fill:none;stroke:#000000;stroke-linejoin:miter;stroke-width:0.8;\"/>\n   </g>\n  </g>\n </g>\n <defs>\n  <clipPath id=\"p1261727051\">\n   <rect height=\"217.44\" width=\"217.44\" x=\"34.240625\" y=\"10.999219\"/>\n  </clipPath>\n  <clipPath id=\"pfb1fb62687\">\n   <rect height=\"217.44\" width=\"10.872\" x=\"268.420625\" y=\"10.999219\"/>\n  </clipPath>\n </defs>\n</svg>\n"
          },
          "metadata": {
            "tags": [],
            "needs_background": "light"
          }
        }
      ]
    },
    {
      "cell_type": "code",
      "metadata": {
        "colab": {
          "base_uri": "https://localhost:8080/"
        },
        "id": "sjMvfgL8cKFW",
        "outputId": "47c5148f-65b4-4925-e5fa-7d86067c108c"
      },
      "source": [
        "print(\"%d manchots mâles ont été incorrectement prédits femelle.\" % metrics.confusion_matrix(y_test, y_test_pred)[1, 0])\n",
        "print(\"%d manchots femelles ont été incorrectement prédits mâles.\" % metrics.confusion_matrix(y_test, y_test_pred)[0, 1])"
      ],
      "execution_count": null,
      "outputs": [
        {
          "output_type": "stream",
          "text": [
            "14 manchots mâles ont été incorrectement prédits femelle.\n",
            "10 manchots femelles ont été incorrectement prédits mâles.\n"
          ],
          "name": "stdout"
        }
      ]
    },
    {
      "cell_type": "markdown",
      "metadata": {
        "id": "kWs3B_sccKFW"
      },
      "source": [
        "La performance globale du modèle peut aussi être mesurée par son __accuracy__, qui est la proportion de prédictions correctes.\n",
        "\n",
        "Le terme _accuracy_ est généralement traduit par « précision », mais « précision » est aussi la traduction de _precision_, qui est le ratio de prédictions correctes parmi les prédictions positives, c'est-à-dire ici la proportion de manchots mâles parmi les manchots que le modèle a prédit être mâles."
      ]
    },
    {
      "cell_type": "code",
      "metadata": {
        "colab": {
          "base_uri": "https://localhost:8080/"
        },
        "id": "1RvMK5rAcKFW",
        "outputId": "31078698-67d5-4ce0-c0fc-e5c32c4a5c5a"
      },
      "source": [
        "print(\"%.f%% des prédictions du modèle sur le jeu de test sont correctes.\" % (100*metrics.accuracy_score(y_test, y_test_pred)))"
      ],
      "execution_count": null,
      "outputs": [
        {
          "output_type": "stream",
          "text": [
            "76% des prédictions du modèle sur le jeu de test sont correctes.\n"
          ],
          "name": "stdout"
        }
      ]
    },
    {
      "cell_type": "markdown",
      "metadata": {
        "id": "lqbvq2AmcKFW"
      },
      "source": [
        "__Attention !__ Si le nombre d'observations n'est pas le même dans chacune des classes, ce nombre peut être trompeur. Par exemple, si seulement 1% des observations appartiennent à la classe négative, un modèle naïf qui assigne toutes les observations à la classe positive aura une _accuracy_ de 99%."
      ]
    },
    {
      "cell_type": "markdown",
      "metadata": {
        "id": "jWk5djnfcKFX"
      },
      "source": [
        "## 4. Pour aller plus loin"
      ]
    },
    {
      "cell_type": "markdown",
      "metadata": {
        "id": "WN18JcXacKFX"
      },
      "source": [
        "### Annexe 1 : Régression linéaire univariée sans scikit-learn"
      ]
    },
    {
      "cell_type": "markdown",
      "metadata": {
        "id": "eBeDbrwFcKFX"
      },
      "source": [
        "Notre but ici va être d'inférer le poids d'un manchot à partir de la longueur de sa palette natatoire. Nous sommes donc dans le cas particulier où $p=1$."
      ]
    },
    {
      "cell_type": "code",
      "metadata": {
        "id": "A9A2jPl7cKFX"
      },
      "source": [
        "(X_train, X_test, y_train, y_test) = model_selection.train_test_split(X, y_regress, \n",
        "                                                                      test_size=0.3, random_state=25)"
      ],
      "execution_count": null,
      "outputs": []
    },
    {
      "cell_type": "code",
      "metadata": {
        "id": "61omQ-ZFcKFX"
      },
      "source": [
        "x_3 = X_train[:, -1] # on ne garde que la dernière colonne/variable de X"
      ],
      "execution_count": null,
      "outputs": []
    },
    {
      "cell_type": "code",
      "metadata": {
        "colab": {
          "base_uri": "https://localhost:8080/",
          "height": 387
        },
        "id": "sACiSDTUcKFX",
        "outputId": "09e98f13-87b1-4a9a-b8ed-736ad3335d35"
      },
      "source": [
        "plt.scatter(x_3, y_train)\n",
        "plt.xlabel(\"Longueur de la palette natatoire (mm)\")\n",
        "plt.ylabel(\"Poids (g)\")"
      ],
      "execution_count": null,
      "outputs": [
        {
          "output_type": "execute_result",
          "data": {
            "text/plain": [
              "Text(0, 0.5, 'Poids (g)')"
            ]
          },
          "metadata": {
            "tags": []
          },
          "execution_count": 189
        },
        {
          "output_type": "display_data",
          "data": {
            "text/plain": [
              "<Figure size 432x288 with 1 Axes>"
            ],
            "image/svg+xml": "<?xml version=\"1.0\" encoding=\"utf-8\" standalone=\"no\"?>\n<!DOCTYPE svg PUBLIC \"-//W3C//DTD SVG 1.1//EN\"\n  \"http://www.w3.org/Graphics/SVG/1.1/DTD/svg11.dtd\">\n<!-- Created with matplotlib (https://matplotlib.org/) -->\n<svg height=\"262.19625pt\" version=\"1.1\" viewBox=\"0 0 395.328125 262.19625\" width=\"395.328125pt\" xmlns=\"http://www.w3.org/2000/svg\" xmlns:xlink=\"http://www.w3.org/1999/xlink\">\n <defs>\n  <style type=\"text/css\">\n*{stroke-linecap:butt;stroke-linejoin:round;}\n  </style>\n </defs>\n <g id=\"figure_1\">\n  <g id=\"patch_1\">\n   <path d=\"M 0 262.19625 \nL 395.328125 262.19625 \nL 395.328125 0 \nL 0 0 \nz\n\" style=\"fill:none;\"/>\n  </g>\n  <g id=\"axes_1\">\n   <g id=\"patch_2\">\n    <path d=\"M 53.328125 224.64 \nL 388.128125 224.64 \nL 388.128125 7.2 \nL 53.328125 7.2 \nz\n\" style=\"fill:#ffffff;\"/>\n   </g>\n   <g id=\"PathCollection_1\">\n    <defs>\n     <path d=\"M 0 3 \nC 0.795609 3 1.55874 2.683901 2.12132 2.12132 \nC 2.683901 1.55874 3 0.795609 3 0 \nC 3 -0.795609 2.683901 -1.55874 2.12132 -2.12132 \nC 1.55874 -2.683901 0.795609 -3 0 -3 \nC -0.795609 -3 -1.55874 -2.683901 -2.12132 -2.12132 \nC -2.683901 -1.55874 -3 -0.795609 -3 0 \nC -3 0.795609 -2.683901 1.55874 -2.12132 2.12132 \nC -1.55874 2.683901 -0.795609 3 0 3 \nz\n\" id=\"m4f42767087\" style=\"stroke:#1f77b4;\"/>\n    </defs>\n    <g clip-path=\"url(#p5371e54abf)\">\n     <use style=\"fill:#1f77b4;stroke:#1f77b4;\" x=\"159.321426\" xlink:href=\"#m4f42767087\" y=\"159.847273\"/>\n     <use style=\"fill:#1f77b4;stroke:#1f77b4;\" x=\"191.359704\" xlink:href=\"#m4f42767087\" y=\"181.810909\"/>\n     <use style=\"fill:#1f77b4;stroke:#1f77b4;\" x=\"132.622862\" xlink:href=\"#m4f42767087\" y=\"195.538182\"/>\n     <use style=\"fill:#1f77b4;stroke:#1f77b4;\" x=\"340.871666\" xlink:href=\"#m4f42767087\" y=\"50.029091\"/>\n     <use style=\"fill:#1f77b4;stroke:#1f77b4;\" x=\"314.173101\" xlink:href=\"#m4f42767087\" y=\"71.992727\"/>\n     <use style=\"fill:#1f77b4;stroke:#1f77b4;\" x=\"132.622862\" xlink:href=\"#m4f42767087\" y=\"118.665455\"/>\n     <use style=\"fill:#1f77b4;stroke:#1f77b4;\" x=\"170.000852\" xlink:href=\"#m4f42767087\" y=\"173.574545\"/>\n     <use style=\"fill:#1f77b4;stroke:#1f77b4;\" x=\"271.455398\" xlink:href=\"#m4f42767087\" y=\"77.483636\"/>\n     <use style=\"fill:#1f77b4;stroke:#1f77b4;\" x=\"324.852527\" xlink:href=\"#m4f42767087\" y=\"95.329091\"/>\n     <use style=\"fill:#1f77b4;stroke:#1f77b4;\" x=\"308.833388\" xlink:href=\"#m4f42767087\" y=\"77.483636\"/>\n     <use style=\"fill:#1f77b4;stroke:#1f77b4;\" x=\"308.833388\" xlink:href=\"#m4f42767087\" y=\"96.701818\"/>\n     <use style=\"fill:#1f77b4;stroke:#1f77b4;\" x=\"234.077407\" xlink:href=\"#m4f42767087\" y=\"113.174545\"/>\n     <use style=\"fill:#1f77b4;stroke:#1f77b4;\" x=\"372.909943\" xlink:href=\"#m4f42767087\" y=\"52.774545\"/>\n     <use style=\"fill:#1f77b4;stroke:#1f77b4;\" x=\"298.153962\" xlink:href=\"#m4f42767087\" y=\"93.956364\"/>\n     <use style=\"fill:#1f77b4;stroke:#1f77b4;\" x=\"287.474536\" xlink:href=\"#m4f42767087\" y=\"80.229091\"/>\n     <use style=\"fill:#1f77b4;stroke:#1f77b4;\" x=\"153.981714\" xlink:href=\"#m4f42767087\" y=\"129.647273\"/>\n     <use style=\"fill:#1f77b4;stroke:#1f77b4;\" x=\"260.775972\" xlink:href=\"#m4f42767087\" y=\"146.12\"/>\n     <use style=\"fill:#1f77b4;stroke:#1f77b4;\" x=\"271.455398\" xlink:href=\"#m4f42767087\" y=\"102.192727\"/>\n     <use style=\"fill:#1f77b4;stroke:#1f77b4;\" x=\"287.474536\" xlink:href=\"#m4f42767087\" y=\"88.465455\"/>\n     <use style=\"fill:#1f77b4;stroke:#1f77b4;\" x=\"186.019991\" xlink:href=\"#m4f42767087\" y=\"135.138182\"/>\n     <use style=\"fill:#1f77b4;stroke:#1f77b4;\" x=\"170.000852\" xlink:href=\"#m4f42767087\" y=\"155.729091\"/>\n     <use style=\"fill:#1f77b4;stroke:#1f77b4;\" x=\"159.321426\" xlink:href=\"#m4f42767087\" y=\"179.065455\"/>\n     <use style=\"fill:#1f77b4;stroke:#1f77b4;\" x=\"159.321426\" xlink:href=\"#m4f42767087\" y=\"183.183636\"/>\n     <use style=\"fill:#1f77b4;stroke:#1f77b4;\" x=\"362.230517\" xlink:href=\"#m4f42767087\" y=\"36.301818\"/>\n     <use style=\"fill:#1f77b4;stroke:#1f77b4;\" x=\"105.924297\" xlink:href=\"#m4f42767087\" y=\"157.101818\"/>\n     <use style=\"fill:#1f77b4;stroke:#1f77b4;\" x=\"255.436259\" xlink:href=\"#m4f42767087\" y=\"110.429091\"/>\n     <use style=\"fill:#1f77b4;stroke:#1f77b4;\" x=\"287.474536\" xlink:href=\"#m4f42767087\" y=\"66.501818\"/>\n     <use style=\"fill:#1f77b4;stroke:#1f77b4;\" x=\"196.699417\" xlink:href=\"#m4f42767087\" y=\"152.983636\"/>\n     <use style=\"fill:#1f77b4;stroke:#1f77b4;\" x=\"250.096546\" xlink:href=\"#m4f42767087\" y=\"146.12\"/>\n     <use style=\"fill:#1f77b4;stroke:#1f77b4;\" x=\"180.680278\" xlink:href=\"#m4f42767087\" y=\"173.574545\"/>\n     <use style=\"fill:#1f77b4;stroke:#1f77b4;\" x=\"153.981714\" xlink:href=\"#m4f42767087\" y=\"166.710909\"/>\n     <use style=\"fill:#1f77b4;stroke:#1f77b4;\" x=\"340.871666\" xlink:href=\"#m4f42767087\" y=\"88.465455\"/>\n     <use style=\"fill:#1f77b4;stroke:#1f77b4;\" x=\"260.775972\" xlink:href=\"#m4f42767087\" y=\"118.665455\"/>\n     <use style=\"fill:#1f77b4;stroke:#1f77b4;\" x=\"170.000852\" xlink:href=\"#m4f42767087\" y=\"132.392727\"/>\n     <use style=\"fill:#1f77b4;stroke:#1f77b4;\" x=\"260.775972\" xlink:href=\"#m4f42767087\" y=\"135.138182\"/>\n     <use style=\"fill:#1f77b4;stroke:#1f77b4;\" x=\"276.795111\" xlink:href=\"#m4f42767087\" y=\"41.792727\"/>\n     <use style=\"fill:#1f77b4;stroke:#1f77b4;\" x=\"121.943436\" xlink:href=\"#m4f42767087\" y=\"107.683636\"/>\n     <use style=\"fill:#1f77b4;stroke:#1f77b4;\" x=\"127.283149\" xlink:href=\"#m4f42767087\" y=\"159.847273\"/>\n     <use style=\"fill:#1f77b4;stroke:#1f77b4;\" x=\"234.077407\" xlink:href=\"#m4f42767087\" y=\"126.901818\"/>\n     <use style=\"fill:#1f77b4;stroke:#1f77b4;\" x=\"287.474536\" xlink:href=\"#m4f42767087\" y=\"85.72\"/>\n     <use style=\"fill:#1f77b4;stroke:#1f77b4;\" x=\"255.436259\" xlink:href=\"#m4f42767087\" y=\"61.010909\"/>\n     <use style=\"fill:#1f77b4;stroke:#1f77b4;\" x=\"180.680278\" xlink:href=\"#m4f42767087\" y=\"135.138182\"/>\n     <use style=\"fill:#1f77b4;stroke:#1f77b4;\" x=\"223.397981\" xlink:href=\"#m4f42767087\" y=\"137.883636\"/>\n     <use style=\"fill:#1f77b4;stroke:#1f77b4;\" x=\"100.584584\" xlink:href=\"#m4f42767087\" y=\"168.083636\"/>\n     <use style=\"fill:#1f77b4;stroke:#1f77b4;\" x=\"105.924297\" xlink:href=\"#m4f42767087\" y=\"159.847273\"/>\n     <use style=\"fill:#1f77b4;stroke:#1f77b4;\" x=\"260.775972\" xlink:href=\"#m4f42767087\" y=\"121.410909\"/>\n     <use style=\"fill:#1f77b4;stroke:#1f77b4;\" x=\"271.455398\" xlink:href=\"#m4f42767087\" y=\"102.192727\"/>\n     <use style=\"fill:#1f77b4;stroke:#1f77b4;\" x=\"292.814249\" xlink:href=\"#m4f42767087\" y=\"104.938182\"/>\n     <use style=\"fill:#1f77b4;stroke:#1f77b4;\" x=\"319.512814\" xlink:href=\"#m4f42767087\" y=\"17.083636\"/>\n     <use style=\"fill:#1f77b4;stroke:#1f77b4;\" x=\"180.680278\" xlink:href=\"#m4f42767087\" y=\"165.338182\"/>\n     <use style=\"fill:#1f77b4;stroke:#1f77b4;\" x=\"314.173101\" xlink:href=\"#m4f42767087\" y=\"85.72\"/>\n     <use style=\"fill:#1f77b4;stroke:#1f77b4;\" x=\"121.943436\" xlink:href=\"#m4f42767087\" y=\"148.865455\"/>\n     <use style=\"fill:#1f77b4;stroke:#1f77b4;\" x=\"111.26401\" xlink:href=\"#m4f42767087\" y=\"174.947273\"/>\n     <use style=\"fill:#1f77b4;stroke:#1f77b4;\" x=\"159.321426\" xlink:href=\"#m4f42767087\" y=\"159.847273\"/>\n     <use style=\"fill:#1f77b4;stroke:#1f77b4;\" x=\"191.359704\" xlink:href=\"#m4f42767087\" y=\"128.274545\"/>\n     <use style=\"fill:#1f77b4;stroke:#1f77b4;\" x=\"111.26401\" xlink:href=\"#m4f42767087\" y=\"187.301818\"/>\n     <use style=\"fill:#1f77b4;stroke:#1f77b4;\" x=\"159.321426\" xlink:href=\"#m4f42767087\" y=\"195.538182\"/>\n     <use style=\"fill:#1f77b4;stroke:#1f77b4;\" x=\"319.512814\" xlink:href=\"#m4f42767087\" y=\"82.974545\"/>\n     <use style=\"fill:#1f77b4;stroke:#1f77b4;\" x=\"255.436259\" xlink:href=\"#m4f42767087\" y=\"104.938182\"/>\n     <use style=\"fill:#1f77b4;stroke:#1f77b4;\" x=\"340.871666\" xlink:href=\"#m4f42767087\" y=\"66.501818\"/>\n     <use style=\"fill:#1f77b4;stroke:#1f77b4;\" x=\"170.000852\" xlink:href=\"#m4f42767087\" y=\"154.356364\"/>\n     <use style=\"fill:#1f77b4;stroke:#1f77b4;\" x=\"111.26401\" xlink:href=\"#m4f42767087\" y=\"190.047273\"/>\n     <use style=\"fill:#1f77b4;stroke:#1f77b4;\" x=\"223.397981\" xlink:href=\"#m4f42767087\" y=\"103.565455\"/>\n     <use style=\"fill:#1f77b4;stroke:#1f77b4;\" x=\"137.962575\" xlink:href=\"#m4f42767087\" y=\"187.301818\"/>\n     <use style=\"fill:#1f77b4;stroke:#1f77b4;\" x=\"175.340565\" xlink:href=\"#m4f42767087\" y=\"169.456364\"/>\n     <use style=\"fill:#1f77b4;stroke:#1f77b4;\" x=\"196.699417\" xlink:href=\"#m4f42767087\" y=\"118.665455\"/>\n     <use style=\"fill:#1f77b4;stroke:#1f77b4;\" x=\"212.718556\" xlink:href=\"#m4f42767087\" y=\"140.629091\"/>\n     <use style=\"fill:#1f77b4;stroke:#1f77b4;\" x=\"367.57023\" xlink:href=\"#m4f42767087\" y=\"50.029091\"/>\n     <use style=\"fill:#1f77b4;stroke:#1f77b4;\" x=\"116.603723\" xlink:href=\"#m4f42767087\" y=\"168.083636\"/>\n     <use style=\"fill:#1f77b4;stroke:#1f77b4;\" x=\"148.642001\" xlink:href=\"#m4f42767087\" y=\"146.12\"/>\n     <use style=\"fill:#1f77b4;stroke:#1f77b4;\" x=\"170.000852\" xlink:href=\"#m4f42767087\" y=\"202.401818\"/>\n     <use style=\"fill:#1f77b4;stroke:#1f77b4;\" x=\"153.981714\" xlink:href=\"#m4f42767087\" y=\"173.574545\"/>\n     <use style=\"fill:#1f77b4;stroke:#1f77b4;\" x=\"164.661139\" xlink:href=\"#m4f42767087\" y=\"137.883636\"/>\n     <use style=\"fill:#1f77b4;stroke:#1f77b4;\" x=\"143.302288\" xlink:href=\"#m4f42767087\" y=\"137.883636\"/>\n     <use style=\"fill:#1f77b4;stroke:#1f77b4;\" x=\"244.756833\" xlink:href=\"#m4f42767087\" y=\"143.374545\"/>\n     <use style=\"fill:#1f77b4;stroke:#1f77b4;\" x=\"164.661139\" xlink:href=\"#m4f42767087\" y=\"146.12\"/>\n     <use style=\"fill:#1f77b4;stroke:#1f77b4;\" x=\"186.019991\" xlink:href=\"#m4f42767087\" y=\"121.410909\"/>\n     <use style=\"fill:#1f77b4;stroke:#1f77b4;\" x=\"164.661139\" xlink:href=\"#m4f42767087\" y=\"158.474545\"/>\n     <use style=\"fill:#1f77b4;stroke:#1f77b4;\" x=\"260.775972\" xlink:href=\"#m4f42767087\" y=\"96.701818\"/>\n     <use style=\"fill:#1f77b4;stroke:#1f77b4;\" x=\"116.603723\" xlink:href=\"#m4f42767087\" y=\"194.165455\"/>\n     <use style=\"fill:#1f77b4;stroke:#1f77b4;\" x=\"121.943436\" xlink:href=\"#m4f42767087\" y=\"172.201818\"/>\n     <use style=\"fill:#1f77b4;stroke:#1f77b4;\" x=\"186.019991\" xlink:href=\"#m4f42767087\" y=\"161.22\"/>\n     <use style=\"fill:#1f77b4;stroke:#1f77b4;\" x=\"191.359704\" xlink:href=\"#m4f42767087\" y=\"157.101818\"/>\n     <use style=\"fill:#1f77b4;stroke:#1f77b4;\" x=\"137.962575\" xlink:href=\"#m4f42767087\" y=\"172.201818\"/>\n     <use style=\"fill:#1f77b4;stroke:#1f77b4;\" x=\"260.775972\" xlink:href=\"#m4f42767087\" y=\"137.883636\"/>\n     <use style=\"fill:#1f77b4;stroke:#1f77b4;\" x=\"319.512814\" xlink:href=\"#m4f42767087\" y=\"63.756364\"/>\n     <use style=\"fill:#1f77b4;stroke:#1f77b4;\" x=\"202.03913\" xlink:href=\"#m4f42767087\" y=\"143.374545\"/>\n     <use style=\"fill:#1f77b4;stroke:#1f77b4;\" x=\"250.096546\" xlink:href=\"#m4f42767087\" y=\"126.901818\"/>\n     <use style=\"fill:#1f77b4;stroke:#1f77b4;\" x=\"212.718556\" xlink:href=\"#m4f42767087\" y=\"118.665455\"/>\n     <use style=\"fill:#1f77b4;stroke:#1f77b4;\" x=\"308.833388\" xlink:href=\"#m4f42767087\" y=\"104.938182\"/>\n     <use style=\"fill:#1f77b4;stroke:#1f77b4;\" x=\"148.642001\" xlink:href=\"#m4f42767087\" y=\"187.301818\"/>\n     <use style=\"fill:#1f77b4;stroke:#1f77b4;\" x=\"276.795111\" xlink:href=\"#m4f42767087\" y=\"66.501818\"/>\n     <use style=\"fill:#1f77b4;stroke:#1f77b4;\" x=\"159.321426\" xlink:href=\"#m4f42767087\" y=\"154.356364\"/>\n     <use style=\"fill:#1f77b4;stroke:#1f77b4;\" x=\"127.283149\" xlink:href=\"#m4f42767087\" y=\"159.847273\"/>\n     <use style=\"fill:#1f77b4;stroke:#1f77b4;\" x=\"223.397981\" xlink:href=\"#m4f42767087\" y=\"109.056364\"/>\n     <use style=\"fill:#1f77b4;stroke:#1f77b4;\" x=\"159.321426\" xlink:href=\"#m4f42767087\" y=\"148.865455\"/>\n     <use style=\"fill:#1f77b4;stroke:#1f77b4;\" x=\"153.981714\" xlink:href=\"#m4f42767087\" y=\"148.865455\"/>\n     <use style=\"fill:#1f77b4;stroke:#1f77b4;\" x=\"180.680278\" xlink:href=\"#m4f42767087\" y=\"121.410909\"/>\n     <use style=\"fill:#1f77b4;stroke:#1f77b4;\" x=\"287.474536\" xlink:href=\"#m4f42767087\" y=\"52.774545\"/>\n     <use style=\"fill:#1f77b4;stroke:#1f77b4;\" x=\"127.283149\" xlink:href=\"#m4f42767087\" y=\"190.047273\"/>\n     <use style=\"fill:#1f77b4;stroke:#1f77b4;\" x=\"212.718556\" xlink:href=\"#m4f42767087\" y=\"146.12\"/>\n     <use style=\"fill:#1f77b4;stroke:#1f77b4;\" x=\"308.833388\" xlink:href=\"#m4f42767087\" y=\"61.010909\"/>\n     <use style=\"fill:#1f77b4;stroke:#1f77b4;\" x=\"159.321426\" xlink:href=\"#m4f42767087\" y=\"176.32\"/>\n     <use style=\"fill:#1f77b4;stroke:#1f77b4;\" x=\"250.096546\" xlink:href=\"#m4f42767087\" y=\"132.392727\"/>\n     <use style=\"fill:#1f77b4;stroke:#1f77b4;\" x=\"186.019991\" xlink:href=\"#m4f42767087\" y=\"148.865455\"/>\n     <use style=\"fill:#1f77b4;stroke:#1f77b4;\" x=\"276.795111\" xlink:href=\"#m4f42767087\" y=\"82.974545\"/>\n     <use style=\"fill:#1f77b4;stroke:#1f77b4;\" x=\"68.546307\" xlink:href=\"#m4f42767087\" y=\"176.32\"/>\n     <use style=\"fill:#1f77b4;stroke:#1f77b4;\" x=\"148.642001\" xlink:href=\"#m4f42767087\" y=\"179.065455\"/>\n     <use style=\"fill:#1f77b4;stroke:#1f77b4;\" x=\"346.211379\" xlink:href=\"#m4f42767087\" y=\"77.483636\"/>\n     <use style=\"fill:#1f77b4;stroke:#1f77b4;\" x=\"314.173101\" xlink:href=\"#m4f42767087\" y=\"33.556364\"/>\n     <use style=\"fill:#1f77b4;stroke:#1f77b4;\" x=\"287.474536\" xlink:href=\"#m4f42767087\" y=\"61.010909\"/>\n     <use style=\"fill:#1f77b4;stroke:#1f77b4;\" x=\"121.943436\" xlink:href=\"#m4f42767087\" y=\"168.083636\"/>\n     <use style=\"fill:#1f77b4;stroke:#1f77b4;\" x=\"153.981714\" xlink:href=\"#m4f42767087\" y=\"148.865455\"/>\n     <use style=\"fill:#1f77b4;stroke:#1f77b4;\" x=\"137.962575\" xlink:href=\"#m4f42767087\" y=\"154.356364\"/>\n     <use style=\"fill:#1f77b4;stroke:#1f77b4;\" x=\"271.455398\" xlink:href=\"#m4f42767087\" y=\"95.329091\"/>\n     <use style=\"fill:#1f77b4;stroke:#1f77b4;\" x=\"218.058269\" xlink:href=\"#m4f42767087\" y=\"176.32\"/>\n     <use style=\"fill:#1f77b4;stroke:#1f77b4;\" x=\"207.378843\" xlink:href=\"#m4f42767087\" y=\"176.32\"/>\n     <use style=\"fill:#1f77b4;stroke:#1f77b4;\" x=\"367.57023\" xlink:href=\"#m4f42767087\" y=\"30.810909\"/>\n     <use style=\"fill:#1f77b4;stroke:#1f77b4;\" x=\"191.359704\" xlink:href=\"#m4f42767087\" y=\"100.82\"/>\n     <use style=\"fill:#1f77b4;stroke:#1f77b4;\" x=\"153.981714\" xlink:href=\"#m4f42767087\" y=\"165.338182\"/>\n     <use style=\"fill:#1f77b4;stroke:#1f77b4;\" x=\"292.814249\" xlink:href=\"#m4f42767087\" y=\"58.265455\"/>\n     <use style=\"fill:#1f77b4;stroke:#1f77b4;\" x=\"319.512814\" xlink:href=\"#m4f42767087\" y=\"88.465455\"/>\n     <use style=\"fill:#1f77b4;stroke:#1f77b4;\" x=\"127.283149\" xlink:href=\"#m4f42767087\" y=\"176.32\"/>\n     <use style=\"fill:#1f77b4;stroke:#1f77b4;\" x=\"196.699417\" xlink:href=\"#m4f42767087\" y=\"155.729091\"/>\n     <use style=\"fill:#1f77b4;stroke:#1f77b4;\" x=\"105.924297\" xlink:href=\"#m4f42767087\" y=\"206.52\"/>\n     <use style=\"fill:#1f77b4;stroke:#1f77b4;\" x=\"89.905158\" xlink:href=\"#m4f42767087\" y=\"184.556364\"/>\n     <use style=\"fill:#1f77b4;stroke:#1f77b4;\" x=\"175.340565\" xlink:href=\"#m4f42767087\" y=\"155.729091\"/>\n     <use style=\"fill:#1f77b4;stroke:#1f77b4;\" x=\"303.493675\" xlink:href=\"#m4f42767087\" y=\"71.992727\"/>\n     <use style=\"fill:#1f77b4;stroke:#1f77b4;\" x=\"153.981714\" xlink:href=\"#m4f42767087\" y=\"154.356364\"/>\n     <use style=\"fill:#1f77b4;stroke:#1f77b4;\" x=\"180.680278\" xlink:href=\"#m4f42767087\" y=\"162.592727\"/>\n     <use style=\"fill:#1f77b4;stroke:#1f77b4;\" x=\"335.531953\" xlink:href=\"#m4f42767087\" y=\"69.247273\"/>\n     <use style=\"fill:#1f77b4;stroke:#1f77b4;\" x=\"100.584584\" xlink:href=\"#m4f42767087\" y=\"165.338182\"/>\n     <use style=\"fill:#1f77b4;stroke:#1f77b4;\" x=\"137.962575\" xlink:href=\"#m4f42767087\" y=\"174.947273\"/>\n     <use style=\"fill:#1f77b4;stroke:#1f77b4;\" x=\"137.962575\" xlink:href=\"#m4f42767087\" y=\"168.083636\"/>\n     <use style=\"fill:#1f77b4;stroke:#1f77b4;\" x=\"298.153962\" xlink:href=\"#m4f42767087\" y=\"77.483636\"/>\n     <use style=\"fill:#1f77b4;stroke:#1f77b4;\" x=\"191.359704\" xlink:href=\"#m4f42767087\" y=\"135.138182\"/>\n     <use style=\"fill:#1f77b4;stroke:#1f77b4;\" x=\"314.173101\" xlink:href=\"#m4f42767087\" y=\"88.465455\"/>\n     <use style=\"fill:#1f77b4;stroke:#1f77b4;\" x=\"180.680278\" xlink:href=\"#m4f42767087\" y=\"121.410909\"/>\n     <use style=\"fill:#1f77b4;stroke:#1f77b4;\" x=\"105.924297\" xlink:href=\"#m4f42767087\" y=\"181.810909\"/>\n     <use style=\"fill:#1f77b4;stroke:#1f77b4;\" x=\"196.699417\" xlink:href=\"#m4f42767087\" y=\"159.847273\"/>\n     <use style=\"fill:#1f77b4;stroke:#1f77b4;\" x=\"143.302288\" xlink:href=\"#m4f42767087\" y=\"181.810909\"/>\n     <use style=\"fill:#1f77b4;stroke:#1f77b4;\" x=\"143.302288\" xlink:href=\"#m4f42767087\" y=\"169.456364\"/>\n     <use style=\"fill:#1f77b4;stroke:#1f77b4;\" x=\"266.115685\" xlink:href=\"#m4f42767087\" y=\"115.92\"/>\n     <use style=\"fill:#1f77b4;stroke:#1f77b4;\" x=\"153.981714\" xlink:href=\"#m4f42767087\" y=\"165.338182\"/>\n     <use style=\"fill:#1f77b4;stroke:#1f77b4;\" x=\"121.943436\" xlink:href=\"#m4f42767087\" y=\"148.865455\"/>\n     <use style=\"fill:#1f77b4;stroke:#1f77b4;\" x=\"153.981714\" xlink:href=\"#m4f42767087\" y=\"129.647273\"/>\n     <use style=\"fill:#1f77b4;stroke:#1f77b4;\" x=\"266.115685\" xlink:href=\"#m4f42767087\" y=\"99.447273\"/>\n     <use style=\"fill:#1f77b4;stroke:#1f77b4;\" x=\"202.03913\" xlink:href=\"#m4f42767087\" y=\"117.292727\"/>\n     <use style=\"fill:#1f77b4;stroke:#1f77b4;\" x=\"356.890804\" xlink:href=\"#m4f42767087\" y=\"61.010909\"/>\n     <use style=\"fill:#1f77b4;stroke:#1f77b4;\" x=\"180.680278\" xlink:href=\"#m4f42767087\" y=\"180.438182\"/>\n     <use style=\"fill:#1f77b4;stroke:#1f77b4;\" x=\"292.814249\" xlink:href=\"#m4f42767087\" y=\"102.192727\"/>\n     <use style=\"fill:#1f77b4;stroke:#1f77b4;\" x=\"148.642001\" xlink:href=\"#m4f42767087\" y=\"154.356364\"/>\n     <use style=\"fill:#1f77b4;stroke:#1f77b4;\" x=\"250.096546\" xlink:href=\"#m4f42767087\" y=\"124.156364\"/>\n     <use style=\"fill:#1f77b4;stroke:#1f77b4;\" x=\"287.474536\" xlink:href=\"#m4f42767087\" y=\"71.992727\"/>\n     <use style=\"fill:#1f77b4;stroke:#1f77b4;\" x=\"324.852527\" xlink:href=\"#m4f42767087\" y=\"69.247273\"/>\n     <use style=\"fill:#1f77b4;stroke:#1f77b4;\" x=\"127.283149\" xlink:href=\"#m4f42767087\" y=\"162.592727\"/>\n     <use style=\"fill:#1f77b4;stroke:#1f77b4;\" x=\"367.57023\" xlink:href=\"#m4f42767087\" y=\"50.029091\"/>\n     <use style=\"fill:#1f77b4;stroke:#1f77b4;\" x=\"143.302288\" xlink:href=\"#m4f42767087\" y=\"203.774545\"/>\n     <use style=\"fill:#1f77b4;stroke:#1f77b4;\" x=\"105.924297\" xlink:href=\"#m4f42767087\" y=\"165.338182\"/>\n     <use style=\"fill:#1f77b4;stroke:#1f77b4;\" x=\"105.924297\" xlink:href=\"#m4f42767087\" y=\"163.965455\"/>\n     <use style=\"fill:#1f77b4;stroke:#1f77b4;\" x=\"137.962575\" xlink:href=\"#m4f42767087\" y=\"162.592727\"/>\n     <use style=\"fill:#1f77b4;stroke:#1f77b4;\" x=\"175.340565\" xlink:href=\"#m4f42767087\" y=\"168.083636\"/>\n     <use style=\"fill:#1f77b4;stroke:#1f77b4;\" x=\"260.775972\" xlink:href=\"#m4f42767087\" y=\"126.901818\"/>\n     <use style=\"fill:#1f77b4;stroke:#1f77b4;\" x=\"250.096546\" xlink:href=\"#m4f42767087\" y=\"111.801818\"/>\n     <use style=\"fill:#1f77b4;stroke:#1f77b4;\" x=\"260.775972\" xlink:href=\"#m4f42767087\" y=\"132.392727\"/>\n     <use style=\"fill:#1f77b4;stroke:#1f77b4;\" x=\"132.622862\" xlink:href=\"#m4f42767087\" y=\"170.829091\"/>\n     <use style=\"fill:#1f77b4;stroke:#1f77b4;\" x=\"180.680278\" xlink:href=\"#m4f42767087\" y=\"181.810909\"/>\n     <use style=\"fill:#1f77b4;stroke:#1f77b4;\" x=\"191.359704\" xlink:href=\"#m4f42767087\" y=\"135.138182\"/>\n     <use style=\"fill:#1f77b4;stroke:#1f77b4;\" x=\"153.981714\" xlink:href=\"#m4f42767087\" y=\"195.538182\"/>\n     <use style=\"fill:#1f77b4;stroke:#1f77b4;\" x=\"175.340565\" xlink:href=\"#m4f42767087\" y=\"157.101818\"/>\n     <use style=\"fill:#1f77b4;stroke:#1f77b4;\" x=\"153.981714\" xlink:href=\"#m4f42767087\" y=\"173.574545\"/>\n     <use style=\"fill:#1f77b4;stroke:#1f77b4;\" x=\"191.359704\" xlink:href=\"#m4f42767087\" y=\"158.474545\"/>\n     <use style=\"fill:#1f77b4;stroke:#1f77b4;\" x=\"356.890804\" xlink:href=\"#m4f42767087\" y=\"55.52\"/>\n     <use style=\"fill:#1f77b4;stroke:#1f77b4;\" x=\"276.795111\" xlink:href=\"#m4f42767087\" y=\"91.210909\"/>\n     <use style=\"fill:#1f77b4;stroke:#1f77b4;\" x=\"314.173101\" xlink:href=\"#m4f42767087\" y=\"58.265455\"/>\n     <use style=\"fill:#1f77b4;stroke:#1f77b4;\" x=\"137.962575\" xlink:href=\"#m4f42767087\" y=\"179.065455\"/>\n     <use style=\"fill:#1f77b4;stroke:#1f77b4;\" x=\"137.962575\" xlink:href=\"#m4f42767087\" y=\"154.356364\"/>\n     <use style=\"fill:#1f77b4;stroke:#1f77b4;\" x=\"153.981714\" xlink:href=\"#m4f42767087\" y=\"173.574545\"/>\n     <use style=\"fill:#1f77b4;stroke:#1f77b4;\" x=\"89.905158\" xlink:href=\"#m4f42767087\" y=\"184.556364\"/>\n     <use style=\"fill:#1f77b4;stroke:#1f77b4;\" x=\"298.153962\" xlink:href=\"#m4f42767087\" y=\"93.956364\"/>\n     <use style=\"fill:#1f77b4;stroke:#1f77b4;\" x=\"196.699417\" xlink:href=\"#m4f42767087\" y=\"146.12\"/>\n     <use style=\"fill:#1f77b4;stroke:#1f77b4;\" x=\"170.000852\" xlink:href=\"#m4f42767087\" y=\"154.356364\"/>\n     <use style=\"fill:#1f77b4;stroke:#1f77b4;\" x=\"196.699417\" xlink:href=\"#m4f42767087\" y=\"161.22\"/>\n     <use style=\"fill:#1f77b4;stroke:#1f77b4;\" x=\"175.340565\" xlink:href=\"#m4f42767087\" y=\"132.392727\"/>\n     <use style=\"fill:#1f77b4;stroke:#1f77b4;\" x=\"212.718556\" xlink:href=\"#m4f42767087\" y=\"143.374545\"/>\n     <use style=\"fill:#1f77b4;stroke:#1f77b4;\" x=\"362.230517\" xlink:href=\"#m4f42767087\" y=\"44.538182\"/>\n     <use style=\"fill:#1f77b4;stroke:#1f77b4;\" x=\"314.173101\" xlink:href=\"#m4f42767087\" y=\"104.938182\"/>\n     <use style=\"fill:#1f77b4;stroke:#1f77b4;\" x=\"153.981714\" xlink:href=\"#m4f42767087\" y=\"159.847273\"/>\n     <use style=\"fill:#1f77b4;stroke:#1f77b4;\" x=\"287.474536\" xlink:href=\"#m4f42767087\" y=\"82.974545\"/>\n     <use style=\"fill:#1f77b4;stroke:#1f77b4;\" x=\"180.680278\" xlink:href=\"#m4f42767087\" y=\"184.556364\"/>\n     <use style=\"fill:#1f77b4;stroke:#1f77b4;\" x=\"170.000852\" xlink:href=\"#m4f42767087\" y=\"162.592727\"/>\n     <use style=\"fill:#1f77b4;stroke:#1f77b4;\" x=\"137.962575\" xlink:href=\"#m4f42767087\" y=\"187.301818\"/>\n     <use style=\"fill:#1f77b4;stroke:#1f77b4;\" x=\"164.661139\" xlink:href=\"#m4f42767087\" y=\"140.629091\"/>\n     <use style=\"fill:#1f77b4;stroke:#1f77b4;\" x=\"287.474536\" xlink:href=\"#m4f42767087\" y=\"96.701818\"/>\n     <use style=\"fill:#1f77b4;stroke:#1f77b4;\" x=\"159.321426\" xlink:href=\"#m4f42767087\" y=\"188.674545\"/>\n     <use style=\"fill:#1f77b4;stroke:#1f77b4;\" x=\"79.225733\" xlink:href=\"#m4f42767087\" y=\"173.574545\"/>\n     <use style=\"fill:#1f77b4;stroke:#1f77b4;\" x=\"303.493675\" xlink:href=\"#m4f42767087\" y=\"50.029091\"/>\n     <use style=\"fill:#1f77b4;stroke:#1f77b4;\" x=\"292.814249\" xlink:href=\"#m4f42767087\" y=\"92.583636\"/>\n     <use style=\"fill:#1f77b4;stroke:#1f77b4;\" x=\"356.890804\" xlink:href=\"#m4f42767087\" y=\"66.501818\"/>\n     <use style=\"fill:#1f77b4;stroke:#1f77b4;\" x=\"207.378843\" xlink:href=\"#m4f42767087\" y=\"154.356364\"/>\n     <use style=\"fill:#1f77b4;stroke:#1f77b4;\" x=\"89.905158\" xlink:href=\"#m4f42767087\" y=\"203.774545\"/>\n     <use style=\"fill:#1f77b4;stroke:#1f77b4;\" x=\"367.57023\" xlink:href=\"#m4f42767087\" y=\"44.538182\"/>\n     <use style=\"fill:#1f77b4;stroke:#1f77b4;\" x=\"202.03913\" xlink:href=\"#m4f42767087\" y=\"180.438182\"/>\n     <use style=\"fill:#1f77b4;stroke:#1f77b4;\" x=\"170.000852\" xlink:href=\"#m4f42767087\" y=\"187.301818\"/>\n     <use style=\"fill:#1f77b4;stroke:#1f77b4;\" x=\"164.661139\" xlink:href=\"#m4f42767087\" y=\"214.756364\"/>\n     <use style=\"fill:#1f77b4;stroke:#1f77b4;\" x=\"164.661139\" xlink:href=\"#m4f42767087\" y=\"198.283636\"/>\n     <use style=\"fill:#1f77b4;stroke:#1f77b4;\" x=\"260.775972\" xlink:href=\"#m4f42767087\" y=\"132.392727\"/>\n     <use style=\"fill:#1f77b4;stroke:#1f77b4;\" x=\"153.981714\" xlink:href=\"#m4f42767087\" y=\"158.474545\"/>\n     <use style=\"fill:#1f77b4;stroke:#1f77b4;\" x=\"180.680278\" xlink:href=\"#m4f42767087\" y=\"148.865455\"/>\n     <use style=\"fill:#1f77b4;stroke:#1f77b4;\" x=\"132.622862\" xlink:href=\"#m4f42767087\" y=\"168.083636\"/>\n     <use style=\"fill:#1f77b4;stroke:#1f77b4;\" x=\"186.019991\" xlink:href=\"#m4f42767087\" y=\"139.256364\"/>\n     <use style=\"fill:#1f77b4;stroke:#1f77b4;\" x=\"137.962575\" xlink:href=\"#m4f42767087\" y=\"159.847273\"/>\n     <use style=\"fill:#1f77b4;stroke:#1f77b4;\" x=\"250.096546\" xlink:href=\"#m4f42767087\" y=\"126.901818\"/>\n     <use style=\"fill:#1f77b4;stroke:#1f77b4;\" x=\"207.378843\" xlink:href=\"#m4f42767087\" y=\"140.629091\"/>\n     <use style=\"fill:#1f77b4;stroke:#1f77b4;\" x=\"234.077407\" xlink:href=\"#m4f42767087\" y=\"115.92\"/>\n     <use style=\"fill:#1f77b4;stroke:#1f77b4;\" x=\"298.153962\" xlink:href=\"#m4f42767087\" y=\"122.783636\"/>\n     <use style=\"fill:#1f77b4;stroke:#1f77b4;\" x=\"207.378843\" xlink:href=\"#m4f42767087\" y=\"144.747273\"/>\n     <use style=\"fill:#1f77b4;stroke:#1f77b4;\" x=\"180.680278\" xlink:href=\"#m4f42767087\" y=\"151.610909\"/>\n     <use style=\"fill:#1f77b4;stroke:#1f77b4;\" x=\"191.359704\" xlink:href=\"#m4f42767087\" y=\"173.574545\"/>\n     <use style=\"fill:#1f77b4;stroke:#1f77b4;\" x=\"137.962575\" xlink:href=\"#m4f42767087\" y=\"181.810909\"/>\n     <use style=\"fill:#1f77b4;stroke:#1f77b4;\" x=\"324.852527\" xlink:href=\"#m4f42767087\" y=\"33.556364\"/>\n     <use style=\"fill:#1f77b4;stroke:#1f77b4;\" x=\"287.474536\" xlink:href=\"#m4f42767087\" y=\"88.465455\"/>\n     <use style=\"fill:#1f77b4;stroke:#1f77b4;\" x=\"153.981714\" xlink:href=\"#m4f42767087\" y=\"148.865455\"/>\n     <use style=\"fill:#1f77b4;stroke:#1f77b4;\" x=\"148.642001\" xlink:href=\"#m4f42767087\" y=\"162.592727\"/>\n     <use style=\"fill:#1f77b4;stroke:#1f77b4;\" x=\"282.134824\" xlink:href=\"#m4f42767087\" y=\"107.683636\"/>\n     <use style=\"fill:#1f77b4;stroke:#1f77b4;\" x=\"143.302288\" xlink:href=\"#m4f42767087\" y=\"195.538182\"/>\n     <use style=\"fill:#1f77b4;stroke:#1f77b4;\" x=\"292.814249\" xlink:href=\"#m4f42767087\" y=\"88.465455\"/>\n     <use style=\"fill:#1f77b4;stroke:#1f77b4;\" x=\"260.775972\" xlink:href=\"#m4f42767087\" y=\"113.174545\"/>\n     <use style=\"fill:#1f77b4;stroke:#1f77b4;\" x=\"276.795111\" xlink:href=\"#m4f42767087\" y=\"107.683636\"/>\n     <use style=\"fill:#1f77b4;stroke:#1f77b4;\" x=\"170.000852\" xlink:href=\"#m4f42767087\" y=\"165.338182\"/>\n     <use style=\"fill:#1f77b4;stroke:#1f77b4;\" x=\"170.000852\" xlink:href=\"#m4f42767087\" y=\"157.101818\"/>\n     <use style=\"fill:#1f77b4;stroke:#1f77b4;\" x=\"223.397981\" xlink:href=\"#m4f42767087\" y=\"140.629091\"/>\n     <use style=\"fill:#1f77b4;stroke:#1f77b4;\" x=\"127.283149\" xlink:href=\"#m4f42767087\" y=\"176.32\"/>\n    </g>\n   </g>\n   <g id=\"matplotlib.axis_1\">\n    <g id=\"xtick_1\">\n     <g id=\"line2d_1\">\n      <defs>\n       <path d=\"M 0 0 \nL 0 3.5 \n\" id=\"m2b359f8251\" style=\"stroke:#000000;stroke-width:0.8;\"/>\n      </defs>\n      <g>\n       <use style=\"stroke:#000000;stroke-width:0.8;\" x=\"100.584584\" xlink:href=\"#m2b359f8251\" y=\"224.64\"/>\n      </g>\n     </g>\n     <g id=\"text_1\">\n      <!-- 180 -->\n      <defs>\n       <path d=\"M 12.40625 8.296875 \nL 28.515625 8.296875 \nL 28.515625 63.921875 \nL 10.984375 60.40625 \nL 10.984375 69.390625 \nL 28.421875 72.90625 \nL 38.28125 72.90625 \nL 38.28125 8.296875 \nL 54.390625 8.296875 \nL 54.390625 0 \nL 12.40625 0 \nz\n\" id=\"DejaVuSans-49\"/>\n       <path d=\"M 31.78125 34.625 \nQ 24.75 34.625 20.71875 30.859375 \nQ 16.703125 27.09375 16.703125 20.515625 \nQ 16.703125 13.921875 20.71875 10.15625 \nQ 24.75 6.390625 31.78125 6.390625 \nQ 38.8125 6.390625 42.859375 10.171875 \nQ 46.921875 13.96875 46.921875 20.515625 \nQ 46.921875 27.09375 42.890625 30.859375 \nQ 38.875 34.625 31.78125 34.625 \nz\nM 21.921875 38.8125 \nQ 15.578125 40.375 12.03125 44.71875 \nQ 8.5 49.078125 8.5 55.328125 \nQ 8.5 64.0625 14.71875 69.140625 \nQ 20.953125 74.21875 31.78125 74.21875 \nQ 42.671875 74.21875 48.875 69.140625 \nQ 55.078125 64.0625 55.078125 55.328125 \nQ 55.078125 49.078125 51.53125 44.71875 \nQ 48 40.375 41.703125 38.8125 \nQ 48.828125 37.15625 52.796875 32.3125 \nQ 56.78125 27.484375 56.78125 20.515625 \nQ 56.78125 9.90625 50.3125 4.234375 \nQ 43.84375 -1.421875 31.78125 -1.421875 \nQ 19.734375 -1.421875 13.25 4.234375 \nQ 6.78125 9.90625 6.78125 20.515625 \nQ 6.78125 27.484375 10.78125 32.3125 \nQ 14.796875 37.15625 21.921875 38.8125 \nz\nM 18.3125 54.390625 \nQ 18.3125 48.734375 21.84375 45.5625 \nQ 25.390625 42.390625 31.78125 42.390625 \nQ 38.140625 42.390625 41.71875 45.5625 \nQ 45.3125 48.734375 45.3125 54.390625 \nQ 45.3125 60.0625 41.71875 63.234375 \nQ 38.140625 66.40625 31.78125 66.40625 \nQ 25.390625 66.40625 21.84375 63.234375 \nQ 18.3125 60.0625 18.3125 54.390625 \nz\n\" id=\"DejaVuSans-56\"/>\n       <path d=\"M 31.78125 66.40625 \nQ 24.171875 66.40625 20.328125 58.90625 \nQ 16.5 51.421875 16.5 36.375 \nQ 16.5 21.390625 20.328125 13.890625 \nQ 24.171875 6.390625 31.78125 6.390625 \nQ 39.453125 6.390625 43.28125 13.890625 \nQ 47.125 21.390625 47.125 36.375 \nQ 47.125 51.421875 43.28125 58.90625 \nQ 39.453125 66.40625 31.78125 66.40625 \nz\nM 31.78125 74.21875 \nQ 44.046875 74.21875 50.515625 64.515625 \nQ 56.984375 54.828125 56.984375 36.375 \nQ 56.984375 17.96875 50.515625 8.265625 \nQ 44.046875 -1.421875 31.78125 -1.421875 \nQ 19.53125 -1.421875 13.0625 8.265625 \nQ 6.59375 17.96875 6.59375 36.375 \nQ 6.59375 54.828125 13.0625 64.515625 \nQ 19.53125 74.21875 31.78125 74.21875 \nz\n\" id=\"DejaVuSans-48\"/>\n      </defs>\n      <g transform=\"translate(91.040834 239.238437)scale(0.1 -0.1)\">\n       <use xlink:href=\"#DejaVuSans-49\"/>\n       <use x=\"63.623047\" xlink:href=\"#DejaVuSans-56\"/>\n       <use x=\"127.246094\" xlink:href=\"#DejaVuSans-48\"/>\n      </g>\n     </g>\n    </g>\n    <g id=\"xtick_2\">\n     <g id=\"line2d_2\">\n      <g>\n       <use style=\"stroke:#000000;stroke-width:0.8;\" x=\"153.981714\" xlink:href=\"#m2b359f8251\" y=\"224.64\"/>\n      </g>\n     </g>\n     <g id=\"text_2\">\n      <!-- 190 -->\n      <defs>\n       <path d=\"M 10.984375 1.515625 \nL 10.984375 10.5 \nQ 14.703125 8.734375 18.5 7.8125 \nQ 22.3125 6.890625 25.984375 6.890625 \nQ 35.75 6.890625 40.890625 13.453125 \nQ 46.046875 20.015625 46.78125 33.40625 \nQ 43.953125 29.203125 39.59375 26.953125 \nQ 35.25 24.703125 29.984375 24.703125 \nQ 19.046875 24.703125 12.671875 31.3125 \nQ 6.296875 37.9375 6.296875 49.421875 \nQ 6.296875 60.640625 12.9375 67.421875 \nQ 19.578125 74.21875 30.609375 74.21875 \nQ 43.265625 74.21875 49.921875 64.515625 \nQ 56.59375 54.828125 56.59375 36.375 \nQ 56.59375 19.140625 48.40625 8.859375 \nQ 40.234375 -1.421875 26.421875 -1.421875 \nQ 22.703125 -1.421875 18.890625 -0.6875 \nQ 15.09375 0.046875 10.984375 1.515625 \nz\nM 30.609375 32.421875 \nQ 37.25 32.421875 41.125 36.953125 \nQ 45.015625 41.5 45.015625 49.421875 \nQ 45.015625 57.28125 41.125 61.84375 \nQ 37.25 66.40625 30.609375 66.40625 \nQ 23.96875 66.40625 20.09375 61.84375 \nQ 16.21875 57.28125 16.21875 49.421875 \nQ 16.21875 41.5 20.09375 36.953125 \nQ 23.96875 32.421875 30.609375 32.421875 \nz\n\" id=\"DejaVuSans-57\"/>\n      </defs>\n      <g transform=\"translate(144.437964 239.238437)scale(0.1 -0.1)\">\n       <use xlink:href=\"#DejaVuSans-49\"/>\n       <use x=\"63.623047\" xlink:href=\"#DejaVuSans-57\"/>\n       <use x=\"127.246094\" xlink:href=\"#DejaVuSans-48\"/>\n      </g>\n     </g>\n    </g>\n    <g id=\"xtick_3\">\n     <g id=\"line2d_3\">\n      <g>\n       <use style=\"stroke:#000000;stroke-width:0.8;\" x=\"207.378843\" xlink:href=\"#m2b359f8251\" y=\"224.64\"/>\n      </g>\n     </g>\n     <g id=\"text_3\">\n      <!-- 200 -->\n      <defs>\n       <path d=\"M 19.1875 8.296875 \nL 53.609375 8.296875 \nL 53.609375 0 \nL 7.328125 0 \nL 7.328125 8.296875 \nQ 12.9375 14.109375 22.625 23.890625 \nQ 32.328125 33.6875 34.8125 36.53125 \nQ 39.546875 41.84375 41.421875 45.53125 \nQ 43.3125 49.21875 43.3125 52.78125 \nQ 43.3125 58.59375 39.234375 62.25 \nQ 35.15625 65.921875 28.609375 65.921875 \nQ 23.96875 65.921875 18.8125 64.3125 \nQ 13.671875 62.703125 7.8125 59.421875 \nL 7.8125 69.390625 \nQ 13.765625 71.78125 18.9375 73 \nQ 24.125 74.21875 28.421875 74.21875 \nQ 39.75 74.21875 46.484375 68.546875 \nQ 53.21875 62.890625 53.21875 53.421875 \nQ 53.21875 48.921875 51.53125 44.890625 \nQ 49.859375 40.875 45.40625 35.40625 \nQ 44.1875 33.984375 37.640625 27.21875 \nQ 31.109375 20.453125 19.1875 8.296875 \nz\n\" id=\"DejaVuSans-50\"/>\n      </defs>\n      <g transform=\"translate(197.835093 239.238437)scale(0.1 -0.1)\">\n       <use xlink:href=\"#DejaVuSans-50\"/>\n       <use x=\"63.623047\" xlink:href=\"#DejaVuSans-48\"/>\n       <use x=\"127.246094\" xlink:href=\"#DejaVuSans-48\"/>\n      </g>\n     </g>\n    </g>\n    <g id=\"xtick_4\">\n     <g id=\"line2d_4\">\n      <g>\n       <use style=\"stroke:#000000;stroke-width:0.8;\" x=\"260.775972\" xlink:href=\"#m2b359f8251\" y=\"224.64\"/>\n      </g>\n     </g>\n     <g id=\"text_4\">\n      <!-- 210 -->\n      <g transform=\"translate(251.232222 239.238437)scale(0.1 -0.1)\">\n       <use xlink:href=\"#DejaVuSans-50\"/>\n       <use x=\"63.623047\" xlink:href=\"#DejaVuSans-49\"/>\n       <use x=\"127.246094\" xlink:href=\"#DejaVuSans-48\"/>\n      </g>\n     </g>\n    </g>\n    <g id=\"xtick_5\">\n     <g id=\"line2d_5\">\n      <g>\n       <use style=\"stroke:#000000;stroke-width:0.8;\" x=\"314.173101\" xlink:href=\"#m2b359f8251\" y=\"224.64\"/>\n      </g>\n     </g>\n     <g id=\"text_5\">\n      <!-- 220 -->\n      <g transform=\"translate(304.629351 239.238437)scale(0.1 -0.1)\">\n       <use xlink:href=\"#DejaVuSans-50\"/>\n       <use x=\"63.623047\" xlink:href=\"#DejaVuSans-50\"/>\n       <use x=\"127.246094\" xlink:href=\"#DejaVuSans-48\"/>\n      </g>\n     </g>\n    </g>\n    <g id=\"xtick_6\">\n     <g id=\"line2d_6\">\n      <g>\n       <use style=\"stroke:#000000;stroke-width:0.8;\" x=\"367.57023\" xlink:href=\"#m2b359f8251\" y=\"224.64\"/>\n      </g>\n     </g>\n     <g id=\"text_6\">\n      <!-- 230 -->\n      <defs>\n       <path d=\"M 40.578125 39.3125 \nQ 47.65625 37.796875 51.625 33 \nQ 55.609375 28.21875 55.609375 21.1875 \nQ 55.609375 10.40625 48.1875 4.484375 \nQ 40.765625 -1.421875 27.09375 -1.421875 \nQ 22.515625 -1.421875 17.65625 -0.515625 \nQ 12.796875 0.390625 7.625 2.203125 \nL 7.625 11.71875 \nQ 11.71875 9.328125 16.59375 8.109375 \nQ 21.484375 6.890625 26.8125 6.890625 \nQ 36.078125 6.890625 40.9375 10.546875 \nQ 45.796875 14.203125 45.796875 21.1875 \nQ 45.796875 27.640625 41.28125 31.265625 \nQ 36.765625 34.90625 28.71875 34.90625 \nL 20.21875 34.90625 \nL 20.21875 43.015625 \nL 29.109375 43.015625 \nQ 36.375 43.015625 40.234375 45.921875 \nQ 44.09375 48.828125 44.09375 54.296875 \nQ 44.09375 59.90625 40.109375 62.90625 \nQ 36.140625 65.921875 28.71875 65.921875 \nQ 24.65625 65.921875 20.015625 65.03125 \nQ 15.375 64.15625 9.8125 62.3125 \nL 9.8125 71.09375 \nQ 15.4375 72.65625 20.34375 73.4375 \nQ 25.25 74.21875 29.59375 74.21875 \nQ 40.828125 74.21875 47.359375 69.109375 \nQ 53.90625 64.015625 53.90625 55.328125 \nQ 53.90625 49.265625 50.4375 45.09375 \nQ 46.96875 40.921875 40.578125 39.3125 \nz\n\" id=\"DejaVuSans-51\"/>\n      </defs>\n      <g transform=\"translate(358.02648 239.238437)scale(0.1 -0.1)\">\n       <use xlink:href=\"#DejaVuSans-50\"/>\n       <use x=\"63.623047\" xlink:href=\"#DejaVuSans-51\"/>\n       <use x=\"127.246094\" xlink:href=\"#DejaVuSans-48\"/>\n      </g>\n     </g>\n    </g>\n    <g id=\"text_7\">\n     <!-- Longueur de la palette natatoire (mm) -->\n     <defs>\n      <path d=\"M 9.8125 72.90625 \nL 19.671875 72.90625 \nL 19.671875 8.296875 \nL 55.171875 8.296875 \nL 55.171875 0 \nL 9.8125 0 \nz\n\" id=\"DejaVuSans-76\"/>\n      <path d=\"M 30.609375 48.390625 \nQ 23.390625 48.390625 19.1875 42.75 \nQ 14.984375 37.109375 14.984375 27.296875 \nQ 14.984375 17.484375 19.15625 11.84375 \nQ 23.34375 6.203125 30.609375 6.203125 \nQ 37.796875 6.203125 41.984375 11.859375 \nQ 46.1875 17.53125 46.1875 27.296875 \nQ 46.1875 37.015625 41.984375 42.703125 \nQ 37.796875 48.390625 30.609375 48.390625 \nz\nM 30.609375 56 \nQ 42.328125 56 49.015625 48.375 \nQ 55.71875 40.765625 55.71875 27.296875 \nQ 55.71875 13.875 49.015625 6.21875 \nQ 42.328125 -1.421875 30.609375 -1.421875 \nQ 18.84375 -1.421875 12.171875 6.21875 \nQ 5.515625 13.875 5.515625 27.296875 \nQ 5.515625 40.765625 12.171875 48.375 \nQ 18.84375 56 30.609375 56 \nz\n\" id=\"DejaVuSans-111\"/>\n      <path d=\"M 54.890625 33.015625 \nL 54.890625 0 \nL 45.90625 0 \nL 45.90625 32.71875 \nQ 45.90625 40.484375 42.875 44.328125 \nQ 39.84375 48.1875 33.796875 48.1875 \nQ 26.515625 48.1875 22.3125 43.546875 \nQ 18.109375 38.921875 18.109375 30.90625 \nL 18.109375 0 \nL 9.078125 0 \nL 9.078125 54.6875 \nL 18.109375 54.6875 \nL 18.109375 46.1875 \nQ 21.34375 51.125 25.703125 53.5625 \nQ 30.078125 56 35.796875 56 \nQ 45.21875 56 50.046875 50.171875 \nQ 54.890625 44.34375 54.890625 33.015625 \nz\n\" id=\"DejaVuSans-110\"/>\n      <path d=\"M 45.40625 27.984375 \nQ 45.40625 37.75 41.375 43.109375 \nQ 37.359375 48.484375 30.078125 48.484375 \nQ 22.859375 48.484375 18.828125 43.109375 \nQ 14.796875 37.75 14.796875 27.984375 \nQ 14.796875 18.265625 18.828125 12.890625 \nQ 22.859375 7.515625 30.078125 7.515625 \nQ 37.359375 7.515625 41.375 12.890625 \nQ 45.40625 18.265625 45.40625 27.984375 \nz\nM 54.390625 6.78125 \nQ 54.390625 -7.171875 48.1875 -13.984375 \nQ 42 -20.796875 29.203125 -20.796875 \nQ 24.46875 -20.796875 20.265625 -20.09375 \nQ 16.0625 -19.390625 12.109375 -17.921875 \nL 12.109375 -9.1875 \nQ 16.0625 -11.328125 19.921875 -12.34375 \nQ 23.78125 -13.375 27.78125 -13.375 \nQ 36.625 -13.375 41.015625 -8.765625 \nQ 45.40625 -4.15625 45.40625 5.171875 \nL 45.40625 9.625 \nQ 42.625 4.78125 38.28125 2.390625 \nQ 33.9375 0 27.875 0 \nQ 17.828125 0 11.671875 7.65625 \nQ 5.515625 15.328125 5.515625 27.984375 \nQ 5.515625 40.671875 11.671875 48.328125 \nQ 17.828125 56 27.875 56 \nQ 33.9375 56 38.28125 53.609375 \nQ 42.625 51.21875 45.40625 46.390625 \nL 45.40625 54.6875 \nL 54.390625 54.6875 \nz\n\" id=\"DejaVuSans-103\"/>\n      <path d=\"M 8.5 21.578125 \nL 8.5 54.6875 \nL 17.484375 54.6875 \nL 17.484375 21.921875 \nQ 17.484375 14.15625 20.5 10.265625 \nQ 23.53125 6.390625 29.59375 6.390625 \nQ 36.859375 6.390625 41.078125 11.03125 \nQ 45.3125 15.671875 45.3125 23.6875 \nL 45.3125 54.6875 \nL 54.296875 54.6875 \nL 54.296875 0 \nL 45.3125 0 \nL 45.3125 8.40625 \nQ 42.046875 3.421875 37.71875 1 \nQ 33.40625 -1.421875 27.6875 -1.421875 \nQ 18.265625 -1.421875 13.375 4.4375 \nQ 8.5 10.296875 8.5 21.578125 \nz\nM 31.109375 56 \nz\n\" id=\"DejaVuSans-117\"/>\n      <path d=\"M 56.203125 29.59375 \nL 56.203125 25.203125 \nL 14.890625 25.203125 \nQ 15.484375 15.921875 20.484375 11.0625 \nQ 25.484375 6.203125 34.421875 6.203125 \nQ 39.59375 6.203125 44.453125 7.46875 \nQ 49.3125 8.734375 54.109375 11.28125 \nL 54.109375 2.78125 \nQ 49.265625 0.734375 44.1875 -0.34375 \nQ 39.109375 -1.421875 33.890625 -1.421875 \nQ 20.796875 -1.421875 13.15625 6.1875 \nQ 5.515625 13.8125 5.515625 26.8125 \nQ 5.515625 40.234375 12.765625 48.109375 \nQ 20.015625 56 32.328125 56 \nQ 43.359375 56 49.78125 48.890625 \nQ 56.203125 41.796875 56.203125 29.59375 \nz\nM 47.21875 32.234375 \nQ 47.125 39.59375 43.09375 43.984375 \nQ 39.0625 48.390625 32.421875 48.390625 \nQ 24.90625 48.390625 20.390625 44.140625 \nQ 15.875 39.890625 15.1875 32.171875 \nz\n\" id=\"DejaVuSans-101\"/>\n      <path d=\"M 41.109375 46.296875 \nQ 39.59375 47.171875 37.8125 47.578125 \nQ 36.03125 48 33.890625 48 \nQ 26.265625 48 22.1875 43.046875 \nQ 18.109375 38.09375 18.109375 28.8125 \nL 18.109375 0 \nL 9.078125 0 \nL 9.078125 54.6875 \nL 18.109375 54.6875 \nL 18.109375 46.1875 \nQ 20.953125 51.171875 25.484375 53.578125 \nQ 30.03125 56 36.53125 56 \nQ 37.453125 56 38.578125 55.875 \nQ 39.703125 55.765625 41.0625 55.515625 \nz\n\" id=\"DejaVuSans-114\"/>\n      <path id=\"DejaVuSans-32\"/>\n      <path d=\"M 45.40625 46.390625 \nL 45.40625 75.984375 \nL 54.390625 75.984375 \nL 54.390625 0 \nL 45.40625 0 \nL 45.40625 8.203125 \nQ 42.578125 3.328125 38.25 0.953125 \nQ 33.9375 -1.421875 27.875 -1.421875 \nQ 17.96875 -1.421875 11.734375 6.484375 \nQ 5.515625 14.40625 5.515625 27.296875 \nQ 5.515625 40.1875 11.734375 48.09375 \nQ 17.96875 56 27.875 56 \nQ 33.9375 56 38.25 53.625 \nQ 42.578125 51.265625 45.40625 46.390625 \nz\nM 14.796875 27.296875 \nQ 14.796875 17.390625 18.875 11.75 \nQ 22.953125 6.109375 30.078125 6.109375 \nQ 37.203125 6.109375 41.296875 11.75 \nQ 45.40625 17.390625 45.40625 27.296875 \nQ 45.40625 37.203125 41.296875 42.84375 \nQ 37.203125 48.484375 30.078125 48.484375 \nQ 22.953125 48.484375 18.875 42.84375 \nQ 14.796875 37.203125 14.796875 27.296875 \nz\n\" id=\"DejaVuSans-100\"/>\n      <path d=\"M 9.421875 75.984375 \nL 18.40625 75.984375 \nL 18.40625 0 \nL 9.421875 0 \nz\n\" id=\"DejaVuSans-108\"/>\n      <path d=\"M 34.28125 27.484375 \nQ 23.390625 27.484375 19.1875 25 \nQ 14.984375 22.515625 14.984375 16.5 \nQ 14.984375 11.71875 18.140625 8.90625 \nQ 21.296875 6.109375 26.703125 6.109375 \nQ 34.1875 6.109375 38.703125 11.40625 \nQ 43.21875 16.703125 43.21875 25.484375 \nL 43.21875 27.484375 \nz\nM 52.203125 31.203125 \nL 52.203125 0 \nL 43.21875 0 \nL 43.21875 8.296875 \nQ 40.140625 3.328125 35.546875 0.953125 \nQ 30.953125 -1.421875 24.3125 -1.421875 \nQ 15.921875 -1.421875 10.953125 3.296875 \nQ 6 8.015625 6 15.921875 \nQ 6 25.140625 12.171875 29.828125 \nQ 18.359375 34.515625 30.609375 34.515625 \nL 43.21875 34.515625 \nL 43.21875 35.40625 \nQ 43.21875 41.609375 39.140625 45 \nQ 35.0625 48.390625 27.6875 48.390625 \nQ 23 48.390625 18.546875 47.265625 \nQ 14.109375 46.140625 10.015625 43.890625 \nL 10.015625 52.203125 \nQ 14.9375 54.109375 19.578125 55.046875 \nQ 24.21875 56 28.609375 56 \nQ 40.484375 56 46.34375 49.84375 \nQ 52.203125 43.703125 52.203125 31.203125 \nz\n\" id=\"DejaVuSans-97\"/>\n      <path d=\"M 18.109375 8.203125 \nL 18.109375 -20.796875 \nL 9.078125 -20.796875 \nL 9.078125 54.6875 \nL 18.109375 54.6875 \nL 18.109375 46.390625 \nQ 20.953125 51.265625 25.265625 53.625 \nQ 29.59375 56 35.59375 56 \nQ 45.5625 56 51.78125 48.09375 \nQ 58.015625 40.1875 58.015625 27.296875 \nQ 58.015625 14.40625 51.78125 6.484375 \nQ 45.5625 -1.421875 35.59375 -1.421875 \nQ 29.59375 -1.421875 25.265625 0.953125 \nQ 20.953125 3.328125 18.109375 8.203125 \nz\nM 48.6875 27.296875 \nQ 48.6875 37.203125 44.609375 42.84375 \nQ 40.53125 48.484375 33.40625 48.484375 \nQ 26.265625 48.484375 22.1875 42.84375 \nQ 18.109375 37.203125 18.109375 27.296875 \nQ 18.109375 17.390625 22.1875 11.75 \nQ 26.265625 6.109375 33.40625 6.109375 \nQ 40.53125 6.109375 44.609375 11.75 \nQ 48.6875 17.390625 48.6875 27.296875 \nz\n\" id=\"DejaVuSans-112\"/>\n      <path d=\"M 18.3125 70.21875 \nL 18.3125 54.6875 \nL 36.8125 54.6875 \nL 36.8125 47.703125 \nL 18.3125 47.703125 \nL 18.3125 18.015625 \nQ 18.3125 11.328125 20.140625 9.421875 \nQ 21.96875 7.515625 27.59375 7.515625 \nL 36.8125 7.515625 \nL 36.8125 0 \nL 27.59375 0 \nQ 17.1875 0 13.234375 3.875 \nQ 9.28125 7.765625 9.28125 18.015625 \nL 9.28125 47.703125 \nL 2.6875 47.703125 \nL 2.6875 54.6875 \nL 9.28125 54.6875 \nL 9.28125 70.21875 \nz\n\" id=\"DejaVuSans-116\"/>\n      <path d=\"M 9.421875 54.6875 \nL 18.40625 54.6875 \nL 18.40625 0 \nL 9.421875 0 \nz\nM 9.421875 75.984375 \nL 18.40625 75.984375 \nL 18.40625 64.59375 \nL 9.421875 64.59375 \nz\n\" id=\"DejaVuSans-105\"/>\n      <path d=\"M 31 75.875 \nQ 24.46875 64.65625 21.28125 53.65625 \nQ 18.109375 42.671875 18.109375 31.390625 \nQ 18.109375 20.125 21.3125 9.0625 \nQ 24.515625 -2 31 -13.1875 \nL 23.1875 -13.1875 \nQ 15.875 -1.703125 12.234375 9.375 \nQ 8.59375 20.453125 8.59375 31.390625 \nQ 8.59375 42.28125 12.203125 53.3125 \nQ 15.828125 64.359375 23.1875 75.875 \nz\n\" id=\"DejaVuSans-40\"/>\n      <path d=\"M 52 44.1875 \nQ 55.375 50.25 60.0625 53.125 \nQ 64.75 56 71.09375 56 \nQ 79.640625 56 84.28125 50.015625 \nQ 88.921875 44.046875 88.921875 33.015625 \nL 88.921875 0 \nL 79.890625 0 \nL 79.890625 32.71875 \nQ 79.890625 40.578125 77.09375 44.375 \nQ 74.3125 48.1875 68.609375 48.1875 \nQ 61.625 48.1875 57.5625 43.546875 \nQ 53.515625 38.921875 53.515625 30.90625 \nL 53.515625 0 \nL 44.484375 0 \nL 44.484375 32.71875 \nQ 44.484375 40.625 41.703125 44.40625 \nQ 38.921875 48.1875 33.109375 48.1875 \nQ 26.21875 48.1875 22.15625 43.53125 \nQ 18.109375 38.875 18.109375 30.90625 \nL 18.109375 0 \nL 9.078125 0 \nL 9.078125 54.6875 \nL 18.109375 54.6875 \nL 18.109375 46.1875 \nQ 21.1875 51.21875 25.484375 53.609375 \nQ 29.78125 56 35.6875 56 \nQ 41.65625 56 45.828125 52.96875 \nQ 50 49.953125 52 44.1875 \nz\n\" id=\"DejaVuSans-109\"/>\n      <path d=\"M 8.015625 75.875 \nL 15.828125 75.875 \nQ 23.140625 64.359375 26.78125 53.3125 \nQ 30.421875 42.28125 30.421875 31.390625 \nQ 30.421875 20.453125 26.78125 9.375 \nQ 23.140625 -1.703125 15.828125 -13.1875 \nL 8.015625 -13.1875 \nQ 14.5 -2 17.703125 9.0625 \nQ 20.90625 20.125 20.90625 31.390625 \nQ 20.90625 42.671875 17.703125 53.65625 \nQ 14.5 64.65625 8.015625 75.875 \nz\n\" id=\"DejaVuSans-41\"/>\n     </defs>\n     <g transform=\"translate(124.480469 252.916562)scale(0.1 -0.1)\">\n      <use xlink:href=\"#DejaVuSans-76\"/>\n      <use x=\"53.962891\" xlink:href=\"#DejaVuSans-111\"/>\n      <use x=\"115.144531\" xlink:href=\"#DejaVuSans-110\"/>\n      <use x=\"178.523438\" xlink:href=\"#DejaVuSans-103\"/>\n      <use x=\"242\" xlink:href=\"#DejaVuSans-117\"/>\n      <use x=\"305.378906\" xlink:href=\"#DejaVuSans-101\"/>\n      <use x=\"366.902344\" xlink:href=\"#DejaVuSans-117\"/>\n      <use x=\"430.28125\" xlink:href=\"#DejaVuSans-114\"/>\n      <use x=\"471.394531\" xlink:href=\"#DejaVuSans-32\"/>\n      <use x=\"503.181641\" xlink:href=\"#DejaVuSans-100\"/>\n      <use x=\"566.658203\" xlink:href=\"#DejaVuSans-101\"/>\n      <use x=\"628.181641\" xlink:href=\"#DejaVuSans-32\"/>\n      <use x=\"659.96875\" xlink:href=\"#DejaVuSans-108\"/>\n      <use x=\"687.751953\" xlink:href=\"#DejaVuSans-97\"/>\n      <use x=\"749.03125\" xlink:href=\"#DejaVuSans-32\"/>\n      <use x=\"780.818359\" xlink:href=\"#DejaVuSans-112\"/>\n      <use x=\"844.294922\" xlink:href=\"#DejaVuSans-97\"/>\n      <use x=\"905.574219\" xlink:href=\"#DejaVuSans-108\"/>\n      <use x=\"933.357422\" xlink:href=\"#DejaVuSans-101\"/>\n      <use x=\"994.880859\" xlink:href=\"#DejaVuSans-116\"/>\n      <use x=\"1034.089844\" xlink:href=\"#DejaVuSans-116\"/>\n      <use x=\"1073.298828\" xlink:href=\"#DejaVuSans-101\"/>\n      <use x=\"1134.822266\" xlink:href=\"#DejaVuSans-32\"/>\n      <use x=\"1166.609375\" xlink:href=\"#DejaVuSans-110\"/>\n      <use x=\"1229.988281\" xlink:href=\"#DejaVuSans-97\"/>\n      <use x=\"1291.267578\" xlink:href=\"#DejaVuSans-116\"/>\n      <use x=\"1330.476562\" xlink:href=\"#DejaVuSans-97\"/>\n      <use x=\"1391.755859\" xlink:href=\"#DejaVuSans-116\"/>\n      <use x=\"1430.964844\" xlink:href=\"#DejaVuSans-111\"/>\n      <use x=\"1492.146484\" xlink:href=\"#DejaVuSans-105\"/>\n      <use x=\"1519.929688\" xlink:href=\"#DejaVuSans-114\"/>\n      <use x=\"1558.792969\" xlink:href=\"#DejaVuSans-101\"/>\n      <use x=\"1620.316406\" xlink:href=\"#DejaVuSans-32\"/>\n      <use x=\"1652.103516\" xlink:href=\"#DejaVuSans-40\"/>\n      <use x=\"1691.117188\" xlink:href=\"#DejaVuSans-109\"/>\n      <use x=\"1788.529297\" xlink:href=\"#DejaVuSans-109\"/>\n      <use x=\"1885.941406\" xlink:href=\"#DejaVuSans-41\"/>\n     </g>\n    </g>\n   </g>\n   <g id=\"matplotlib.axis_2\">\n    <g id=\"ytick_1\">\n     <g id=\"line2d_7\">\n      <defs>\n       <path d=\"M 0 0 \nL -3.5 0 \n\" id=\"m97eab041d3\" style=\"stroke:#000000;stroke-width:0.8;\"/>\n      </defs>\n      <g>\n       <use style=\"stroke:#000000;stroke-width:0.8;\" x=\"53.328125\" xlink:href=\"#m97eab041d3\" y=\"198.283636\"/>\n      </g>\n     </g>\n     <g id=\"text_8\">\n      <!-- 3000 -->\n      <g transform=\"translate(20.878125 202.082855)scale(0.1 -0.1)\">\n       <use xlink:href=\"#DejaVuSans-51\"/>\n       <use x=\"63.623047\" xlink:href=\"#DejaVuSans-48\"/>\n       <use x=\"127.246094\" xlink:href=\"#DejaVuSans-48\"/>\n       <use x=\"190.869141\" xlink:href=\"#DejaVuSans-48\"/>\n      </g>\n     </g>\n    </g>\n    <g id=\"ytick_2\">\n     <g id=\"line2d_8\">\n      <g>\n       <use style=\"stroke:#000000;stroke-width:0.8;\" x=\"53.328125\" xlink:href=\"#m97eab041d3\" y=\"170.829091\"/>\n      </g>\n     </g>\n     <g id=\"text_9\">\n      <!-- 3500 -->\n      <defs>\n       <path d=\"M 10.796875 72.90625 \nL 49.515625 72.90625 \nL 49.515625 64.59375 \nL 19.828125 64.59375 \nL 19.828125 46.734375 \nQ 21.96875 47.46875 24.109375 47.828125 \nQ 26.265625 48.1875 28.421875 48.1875 \nQ 40.625 48.1875 47.75 41.5 \nQ 54.890625 34.8125 54.890625 23.390625 \nQ 54.890625 11.625 47.5625 5.09375 \nQ 40.234375 -1.421875 26.90625 -1.421875 \nQ 22.3125 -1.421875 17.546875 -0.640625 \nQ 12.796875 0.140625 7.71875 1.703125 \nL 7.71875 11.625 \nQ 12.109375 9.234375 16.796875 8.0625 \nQ 21.484375 6.890625 26.703125 6.890625 \nQ 35.15625 6.890625 40.078125 11.328125 \nQ 45.015625 15.765625 45.015625 23.390625 \nQ 45.015625 31 40.078125 35.4375 \nQ 35.15625 39.890625 26.703125 39.890625 \nQ 22.75 39.890625 18.8125 39.015625 \nQ 14.890625 38.140625 10.796875 36.28125 \nz\n\" id=\"DejaVuSans-53\"/>\n      </defs>\n      <g transform=\"translate(20.878125 174.62831)scale(0.1 -0.1)\">\n       <use xlink:href=\"#DejaVuSans-51\"/>\n       <use x=\"63.623047\" xlink:href=\"#DejaVuSans-53\"/>\n       <use x=\"127.246094\" xlink:href=\"#DejaVuSans-48\"/>\n       <use x=\"190.869141\" xlink:href=\"#DejaVuSans-48\"/>\n      </g>\n     </g>\n    </g>\n    <g id=\"ytick_3\">\n     <g id=\"line2d_9\">\n      <g>\n       <use style=\"stroke:#000000;stroke-width:0.8;\" x=\"53.328125\" xlink:href=\"#m97eab041d3\" y=\"143.374545\"/>\n      </g>\n     </g>\n     <g id=\"text_10\">\n      <!-- 4000 -->\n      <defs>\n       <path d=\"M 37.796875 64.3125 \nL 12.890625 25.390625 \nL 37.796875 25.390625 \nz\nM 35.203125 72.90625 \nL 47.609375 72.90625 \nL 47.609375 25.390625 \nL 58.015625 25.390625 \nL 58.015625 17.1875 \nL 47.609375 17.1875 \nL 47.609375 0 \nL 37.796875 0 \nL 37.796875 17.1875 \nL 4.890625 17.1875 \nL 4.890625 26.703125 \nz\n\" id=\"DejaVuSans-52\"/>\n      </defs>\n      <g transform=\"translate(20.878125 147.173764)scale(0.1 -0.1)\">\n       <use xlink:href=\"#DejaVuSans-52\"/>\n       <use x=\"63.623047\" xlink:href=\"#DejaVuSans-48\"/>\n       <use x=\"127.246094\" xlink:href=\"#DejaVuSans-48\"/>\n       <use x=\"190.869141\" xlink:href=\"#DejaVuSans-48\"/>\n      </g>\n     </g>\n    </g>\n    <g id=\"ytick_4\">\n     <g id=\"line2d_10\">\n      <g>\n       <use style=\"stroke:#000000;stroke-width:0.8;\" x=\"53.328125\" xlink:href=\"#m97eab041d3\" y=\"115.92\"/>\n      </g>\n     </g>\n     <g id=\"text_11\">\n      <!-- 4500 -->\n      <g transform=\"translate(20.878125 119.719219)scale(0.1 -0.1)\">\n       <use xlink:href=\"#DejaVuSans-52\"/>\n       <use x=\"63.623047\" xlink:href=\"#DejaVuSans-53\"/>\n       <use x=\"127.246094\" xlink:href=\"#DejaVuSans-48\"/>\n       <use x=\"190.869141\" xlink:href=\"#DejaVuSans-48\"/>\n      </g>\n     </g>\n    </g>\n    <g id=\"ytick_5\">\n     <g id=\"line2d_11\">\n      <g>\n       <use style=\"stroke:#000000;stroke-width:0.8;\" x=\"53.328125\" xlink:href=\"#m97eab041d3\" y=\"88.465455\"/>\n      </g>\n     </g>\n     <g id=\"text_12\">\n      <!-- 5000 -->\n      <g transform=\"translate(20.878125 92.264673)scale(0.1 -0.1)\">\n       <use xlink:href=\"#DejaVuSans-53\"/>\n       <use x=\"63.623047\" xlink:href=\"#DejaVuSans-48\"/>\n       <use x=\"127.246094\" xlink:href=\"#DejaVuSans-48\"/>\n       <use x=\"190.869141\" xlink:href=\"#DejaVuSans-48\"/>\n      </g>\n     </g>\n    </g>\n    <g id=\"ytick_6\">\n     <g id=\"line2d_12\">\n      <g>\n       <use style=\"stroke:#000000;stroke-width:0.8;\" x=\"53.328125\" xlink:href=\"#m97eab041d3\" y=\"61.010909\"/>\n      </g>\n     </g>\n     <g id=\"text_13\">\n      <!-- 5500 -->\n      <g transform=\"translate(20.878125 64.810128)scale(0.1 -0.1)\">\n       <use xlink:href=\"#DejaVuSans-53\"/>\n       <use x=\"63.623047\" xlink:href=\"#DejaVuSans-53\"/>\n       <use x=\"127.246094\" xlink:href=\"#DejaVuSans-48\"/>\n       <use x=\"190.869141\" xlink:href=\"#DejaVuSans-48\"/>\n      </g>\n     </g>\n    </g>\n    <g id=\"ytick_7\">\n     <g id=\"line2d_13\">\n      <g>\n       <use style=\"stroke:#000000;stroke-width:0.8;\" x=\"53.328125\" xlink:href=\"#m97eab041d3\" y=\"33.556364\"/>\n      </g>\n     </g>\n     <g id=\"text_14\">\n      <!-- 6000 -->\n      <defs>\n       <path d=\"M 33.015625 40.375 \nQ 26.375 40.375 22.484375 35.828125 \nQ 18.609375 31.296875 18.609375 23.390625 \nQ 18.609375 15.53125 22.484375 10.953125 \nQ 26.375 6.390625 33.015625 6.390625 \nQ 39.65625 6.390625 43.53125 10.953125 \nQ 47.40625 15.53125 47.40625 23.390625 \nQ 47.40625 31.296875 43.53125 35.828125 \nQ 39.65625 40.375 33.015625 40.375 \nz\nM 52.59375 71.296875 \nL 52.59375 62.3125 \nQ 48.875 64.0625 45.09375 64.984375 \nQ 41.3125 65.921875 37.59375 65.921875 \nQ 27.828125 65.921875 22.671875 59.328125 \nQ 17.53125 52.734375 16.796875 39.40625 \nQ 19.671875 43.65625 24.015625 45.921875 \nQ 28.375 48.1875 33.59375 48.1875 \nQ 44.578125 48.1875 50.953125 41.515625 \nQ 57.328125 34.859375 57.328125 23.390625 \nQ 57.328125 12.15625 50.6875 5.359375 \nQ 44.046875 -1.421875 33.015625 -1.421875 \nQ 20.359375 -1.421875 13.671875 8.265625 \nQ 6.984375 17.96875 6.984375 36.375 \nQ 6.984375 53.65625 15.1875 63.9375 \nQ 23.390625 74.21875 37.203125 74.21875 \nQ 40.921875 74.21875 44.703125 73.484375 \nQ 48.484375 72.75 52.59375 71.296875 \nz\n\" id=\"DejaVuSans-54\"/>\n      </defs>\n      <g transform=\"translate(20.878125 37.355582)scale(0.1 -0.1)\">\n       <use xlink:href=\"#DejaVuSans-54\"/>\n       <use x=\"63.623047\" xlink:href=\"#DejaVuSans-48\"/>\n       <use x=\"127.246094\" xlink:href=\"#DejaVuSans-48\"/>\n       <use x=\"190.869141\" xlink:href=\"#DejaVuSans-48\"/>\n      </g>\n     </g>\n    </g>\n    <g id=\"text_15\">\n     <!-- Poids (g) -->\n     <defs>\n      <path d=\"M 19.671875 64.796875 \nL 19.671875 37.40625 \nL 32.078125 37.40625 \nQ 38.96875 37.40625 42.71875 40.96875 \nQ 46.484375 44.53125 46.484375 51.125 \nQ 46.484375 57.671875 42.71875 61.234375 \nQ 38.96875 64.796875 32.078125 64.796875 \nz\nM 9.8125 72.90625 \nL 32.078125 72.90625 \nQ 44.34375 72.90625 50.609375 67.359375 \nQ 56.890625 61.8125 56.890625 51.125 \nQ 56.890625 40.328125 50.609375 34.8125 \nQ 44.34375 29.296875 32.078125 29.296875 \nL 19.671875 29.296875 \nL 19.671875 0 \nL 9.8125 0 \nz\n\" id=\"DejaVuSans-80\"/>\n      <path d=\"M 44.28125 53.078125 \nL 44.28125 44.578125 \nQ 40.484375 46.53125 36.375 47.5 \nQ 32.28125 48.484375 27.875 48.484375 \nQ 21.1875 48.484375 17.84375 46.4375 \nQ 14.5 44.390625 14.5 40.28125 \nQ 14.5 37.15625 16.890625 35.375 \nQ 19.28125 33.59375 26.515625 31.984375 \nL 29.59375 31.296875 \nQ 39.15625 29.25 43.1875 25.515625 \nQ 47.21875 21.78125 47.21875 15.09375 \nQ 47.21875 7.46875 41.1875 3.015625 \nQ 35.15625 -1.421875 24.609375 -1.421875 \nQ 20.21875 -1.421875 15.453125 -0.5625 \nQ 10.6875 0.296875 5.421875 2 \nL 5.421875 11.28125 \nQ 10.40625 8.6875 15.234375 7.390625 \nQ 20.0625 6.109375 24.8125 6.109375 \nQ 31.15625 6.109375 34.5625 8.28125 \nQ 37.984375 10.453125 37.984375 14.40625 \nQ 37.984375 18.0625 35.515625 20.015625 \nQ 33.0625 21.96875 24.703125 23.78125 \nL 21.578125 24.515625 \nQ 13.234375 26.265625 9.515625 29.90625 \nQ 5.8125 33.546875 5.8125 39.890625 \nQ 5.8125 47.609375 11.28125 51.796875 \nQ 16.75 56 26.8125 56 \nQ 31.78125 56 36.171875 55.265625 \nQ 40.578125 54.546875 44.28125 53.078125 \nz\n\" id=\"DejaVuSans-115\"/>\n     </defs>\n     <g transform=\"translate(14.798438 137.645781)rotate(-90)scale(0.1 -0.1)\">\n      <use xlink:href=\"#DejaVuSans-80\"/>\n      <use x=\"56.677734\" xlink:href=\"#DejaVuSans-111\"/>\n      <use x=\"117.859375\" xlink:href=\"#DejaVuSans-105\"/>\n      <use x=\"145.642578\" xlink:href=\"#DejaVuSans-100\"/>\n      <use x=\"209.119141\" xlink:href=\"#DejaVuSans-115\"/>\n      <use x=\"261.21875\" xlink:href=\"#DejaVuSans-32\"/>\n      <use x=\"293.005859\" xlink:href=\"#DejaVuSans-40\"/>\n      <use x=\"332.019531\" xlink:href=\"#DejaVuSans-103\"/>\n      <use x=\"395.496094\" xlink:href=\"#DejaVuSans-41\"/>\n     </g>\n    </g>\n   </g>\n   <g id=\"patch_3\">\n    <path d=\"M 53.328125 224.64 \nL 53.328125 7.2 \n\" style=\"fill:none;stroke:#000000;stroke-linecap:square;stroke-linejoin:miter;stroke-width:0.8;\"/>\n   </g>\n   <g id=\"patch_4\">\n    <path d=\"M 388.128125 224.64 \nL 388.128125 7.2 \n\" style=\"fill:none;stroke:#000000;stroke-linecap:square;stroke-linejoin:miter;stroke-width:0.8;\"/>\n   </g>\n   <g id=\"patch_5\">\n    <path d=\"M 53.328125 224.64 \nL 388.128125 224.64 \n\" style=\"fill:none;stroke:#000000;stroke-linecap:square;stroke-linejoin:miter;stroke-width:0.8;\"/>\n   </g>\n   <g id=\"patch_6\">\n    <path d=\"M 53.328125 7.2 \nL 388.128125 7.2 \n\" style=\"fill:none;stroke:#000000;stroke-linecap:square;stroke-linejoin:miter;stroke-width:0.8;\"/>\n   </g>\n  </g>\n </g>\n <defs>\n  <clipPath id=\"p5371e54abf\">\n   <rect height=\"217.44\" width=\"334.8\" x=\"53.328125\" y=\"7.2\"/>\n  </clipPath>\n </defs>\n</svg>\n"
          },
          "metadata": {
            "tags": [],
            "needs_background": "light"
          }
        }
      ]
    },
    {
      "cell_type": "markdown",
      "metadata": {
        "id": "mCeayJ59cKFY"
      },
      "source": [
        "Il s'agit donc d'apprendre une fonction $f: x \\mapsto a x + b$ telle que $y \\approx f(x_3)$.\n",
        "\n",
        "Ce problème se résout grâce à la méthode des moindres carrés : il s'agit de trouver $a, b$ qui minimisent $J(a, b) = \\frac{1}{n} \\sum_{i=1}^n ((a x_i + b) - y_i)^2$. \n",
        "\n",
        "Il s'agit d'une forme quadratique, convexe, dont on trouve le minimum en annulant sa dérivée en $a$ et en $b$.\n",
        "\n",
        "$\\frac{\\partial J}{\\partial a} (a, b)= \\frac2n \\sum_{i=1}^n x_i^2 a + \\frac2n \\sum_{i=1}^n x_i b - \\frac2n \\sum_{i=1}^n x_i y_i$\n",
        "\n",
        "et\n",
        "\n",
        "$\\frac{\\partial J}{\\partial b} (a, b)= b + \\frac2n \\sum_{i=1}^n x_i a - \\frac2n \\sum_{i=1}^n y_i$\n",
        "\n",
        "Ce dont on déduit, à condition que $\\frac1n \\sum_{i=1}^n x_i^2 \\neq \\left(\\frac1n \\sum_{i=1}^n x_i\\right)^2$,\n",
        "\n",
        "$a = \\frac{\\frac1n \\sum_{i=1}^n x_i y_i - \\frac1n \\sum_{i=1}^n x_i \\frac1n \\sum_{i=1}^n y_i}{\\frac1n \\sum_{i=1}^n x_i^2 - \\left(\\frac1n \\sum_{i=1}^n x_i\\right)^2}$ \n",
        "\n",
        "et\n",
        "\n",
        "$b =  \\frac1n \\sum_{i=1}^n y_i - \\frac1n \\sum_{i=1}^n x_i a$.\n",
        "\n"
      ]
    },
    {
      "cell_type": "markdown",
      "metadata": {
        "id": "BLq42U9PcKFY"
      },
      "source": [
        "Calculons les termes $\\frac1n \\sum_{i=1}^n x_i$, $\\frac1n \\sum_{i=1}^n x_i^2$, $\\frac1n \\sum_{i=1}^n y_i$, $\\frac1n \\sum_{i=1}^n x_i y_i$ :"
      ]
    },
    {
      "cell_type": "code",
      "metadata": {
        "id": "F_31YOVhcKFY"
      },
      "source": [
        "x_mean = np.mean(x_3)\n",
        "x2_mean = np.mean(x_3**2)\n",
        "y_mean = np.mean(y_train)\n",
        "xy_mean = np.mean(x_3 * y_train)"
      ],
      "execution_count": null,
      "outputs": []
    },
    {
      "cell_type": "markdown",
      "metadata": {
        "id": "qQwn9lTDcKFY"
      },
      "source": [
        "Vérifions l'unicité de la solution : "
      ]
    },
    {
      "cell_type": "code",
      "metadata": {
        "colab": {
          "base_uri": "https://localhost:8080/"
        },
        "id": "CKbidmsGcKFY",
        "outputId": "3aad77ef-1a38-4b6a-8df7-5719a72284ba"
      },
      "source": [
        "x2_mean - x_mean**2"
      ],
      "execution_count": null,
      "outputs": [
        {
          "output_type": "execute_result",
          "data": {
            "text/plain": [
              "194.23080181989644"
            ]
          },
          "metadata": {
            "tags": []
          },
          "execution_count": 191
        }
      ]
    },
    {
      "cell_type": "markdown",
      "metadata": {
        "id": "Qu2nYCmRcKFZ"
      },
      "source": [
        "Calculons les coefficients de notre droite : "
      ]
    },
    {
      "cell_type": "code",
      "metadata": {
        "id": "b_YoRTfBcKFZ"
      },
      "source": [
        "a = (xy_mean - x_mean * y_mean) / (x2_mean - x_mean**2)"
      ],
      "execution_count": null,
      "outputs": []
    },
    {
      "cell_type": "code",
      "metadata": {
        "id": "3IhzQIpHcKFZ"
      },
      "source": [
        "b = y_mean - a * x_mean"
      ],
      "execution_count": null,
      "outputs": []
    },
    {
      "cell_type": "markdown",
      "metadata": {
        "id": "aDvGLeGHcKFZ"
      },
      "source": [
        "Nous pouvons maintenant ajouter notre droite de régression au graphique précédent :"
      ]
    },
    {
      "cell_type": "code",
      "metadata": {
        "colab": {
          "base_uri": "https://localhost:8080/",
          "height": 387
        },
        "id": "m1RK_8ILcKFZ",
        "outputId": "9b3807c4-7e8f-42a8-c7c5-4792b7f74dec"
      },
      "source": [
        "plt.scatter(x_3, y_train, label=\"Données\")\n",
        "\n",
        "x_3_min = np.min(x_3) - 5\n",
        "x_3_max = np.max(x_3) + 5\n",
        "plt.plot([x_3_min, x_3_max], [(a * x_3_min + b), (a * x_3_max + b)], lw=2, c='orange', label=\"Modèle\")\n",
        "\n",
        "plt.xlabel(\"Longueur de la palette natatoire (mm)\")\n",
        "plt.ylabel(\"Poids (g)\")\n",
        "plt.legend()"
      ],
      "execution_count": null,
      "outputs": [
        {
          "output_type": "execute_result",
          "data": {
            "text/plain": [
              "<matplotlib.legend.Legend at 0x7fcc54cd8cd0>"
            ]
          },
          "metadata": {
            "tags": []
          },
          "execution_count": 194
        },
        {
          "output_type": "display_data",
          "data": {
            "text/plain": [
              "<Figure size 432x288 with 1 Axes>"
            ],
            "image/svg+xml": "<?xml version=\"1.0\" encoding=\"utf-8\" standalone=\"no\"?>\n<!DOCTYPE svg PUBLIC \"-//W3C//DTD SVG 1.1//EN\"\n  \"http://www.w3.org/Graphics/SVG/1.1/DTD/svg11.dtd\">\n<!-- Created with matplotlib (https://matplotlib.org/) -->\n<svg height=\"262.19625pt\" version=\"1.1\" viewBox=\"0 0 395.328125 262.19625\" width=\"395.328125pt\" xmlns=\"http://www.w3.org/2000/svg\" xmlns:xlink=\"http://www.w3.org/1999/xlink\">\n <defs>\n  <style type=\"text/css\">\n*{stroke-linecap:butt;stroke-linejoin:round;}\n  </style>\n </defs>\n <g id=\"figure_1\">\n  <g id=\"patch_1\">\n   <path d=\"M 0 262.19625 \nL 395.328125 262.19625 \nL 395.328125 0 \nL 0 0 \nz\n\" style=\"fill:none;\"/>\n  </g>\n  <g id=\"axes_1\">\n   <g id=\"patch_2\">\n    <path d=\"M 53.328125 224.64 \nL 388.128125 224.64 \nL 388.128125 7.2 \nL 53.328125 7.2 \nz\n\" style=\"fill:#ffffff;\"/>\n   </g>\n   <g id=\"PathCollection_1\">\n    <defs>\n     <path d=\"M 0 3 \nC 0.795609 3 1.55874 2.683901 2.12132 2.12132 \nC 2.683901 1.55874 3 0.795609 3 0 \nC 3 -0.795609 2.683901 -1.55874 2.12132 -2.12132 \nC 1.55874 -2.683901 0.795609 -3 0 -3 \nC -0.795609 -3 -1.55874 -2.683901 -2.12132 -2.12132 \nC -2.683901 -1.55874 -3 -0.795609 -3 0 \nC -3 0.795609 -2.683901 1.55874 -2.12132 2.12132 \nC -1.55874 2.683901 -0.795609 3 0 3 \nz\n\" id=\"m1b4bc62dca\" style=\"stroke:#1f77b4;\"/>\n    </defs>\n    <g clip-path=\"url(#pe369c74d82)\">\n     <use style=\"fill:#1f77b4;stroke:#1f77b4;\" x=\"168.486605\" xlink:href=\"#m1b4bc62dca\" y=\"155.824277\"/>\n     <use style=\"fill:#1f77b4;stroke:#1f77b4;\" x=\"195.74305\" xlink:href=\"#m1b4bc62dca\" y=\"177.168991\"/>\n     <use style=\"fill:#1f77b4;stroke:#1f77b4;\" x=\"145.772901\" xlink:href=\"#m1b4bc62dca\" y=\"190.509437\"/>\n     <use style=\"fill:#1f77b4;stroke:#1f77b4;\" x=\"322.939794\" xlink:href=\"#m1b4bc62dca\" y=\"49.100707\"/>\n     <use style=\"fill:#1f77b4;stroke:#1f77b4;\" x=\"300.22609\" xlink:href=\"#m1b4bc62dca\" y=\"70.445421\"/>\n     <use style=\"fill:#1f77b4;stroke:#1f77b4;\" x=\"145.772901\" xlink:href=\"#m1b4bc62dca\" y=\"115.802938\"/>\n     <use style=\"fill:#1f77b4;stroke:#1f77b4;\" x=\"177.572087\" xlink:href=\"#m1b4bc62dca\" y=\"169.164723\"/>\n     <use style=\"fill:#1f77b4;stroke:#1f77b4;\" x=\"263.884163\" xlink:href=\"#m1b4bc62dca\" y=\"75.7816\"/>\n     <use style=\"fill:#1f77b4;stroke:#1f77b4;\" x=\"309.311571\" xlink:href=\"#m1b4bc62dca\" y=\"93.12418\"/>\n     <use style=\"fill:#1f77b4;stroke:#1f77b4;\" x=\"295.683349\" xlink:href=\"#m1b4bc62dca\" y=\"75.7816\"/>\n     <use style=\"fill:#1f77b4;stroke:#1f77b4;\" x=\"295.683349\" xlink:href=\"#m1b4bc62dca\" y=\"94.458224\"/>\n     <use style=\"fill:#1f77b4;stroke:#1f77b4;\" x=\"232.084977\" xlink:href=\"#m1b4bc62dca\" y=\"110.46676\"/>\n     <use style=\"fill:#1f77b4;stroke:#1f77b4;\" x=\"350.196239\" xlink:href=\"#m1b4bc62dca\" y=\"51.768797\"/>\n     <use style=\"fill:#1f77b4;stroke:#1f77b4;\" x=\"286.597867\" xlink:href=\"#m1b4bc62dca\" y=\"91.790135\"/>\n     <use style=\"fill:#1f77b4;stroke:#1f77b4;\" x=\"277.512386\" xlink:href=\"#m1b4bc62dca\" y=\"78.449689\"/>\n     <use style=\"fill:#1f77b4;stroke:#1f77b4;\" x=\"163.943864\" xlink:href=\"#m1b4bc62dca\" y=\"126.475295\"/>\n     <use style=\"fill:#1f77b4;stroke:#1f77b4;\" x=\"254.798681\" xlink:href=\"#m1b4bc62dca\" y=\"142.483831\"/>\n     <use style=\"fill:#1f77b4;stroke:#1f77b4;\" x=\"263.884163\" xlink:href=\"#m1b4bc62dca\" y=\"99.794403\"/>\n     <use style=\"fill:#1f77b4;stroke:#1f77b4;\" x=\"277.512386\" xlink:href=\"#m1b4bc62dca\" y=\"86.453957\"/>\n     <use style=\"fill:#1f77b4;stroke:#1f77b4;\" x=\"191.20031\" xlink:href=\"#m1b4bc62dca\" y=\"131.811474\"/>\n     <use style=\"fill:#1f77b4;stroke:#1f77b4;\" x=\"177.572087\" xlink:href=\"#m1b4bc62dca\" y=\"151.822143\"/>\n     <use style=\"fill:#1f77b4;stroke:#1f77b4;\" x=\"168.486605\" xlink:href=\"#m1b4bc62dca\" y=\"174.500902\"/>\n     <use style=\"fill:#1f77b4;stroke:#1f77b4;\" x=\"168.486605\" xlink:href=\"#m1b4bc62dca\" y=\"178.503036\"/>\n     <use style=\"fill:#1f77b4;stroke:#1f77b4;\" x=\"341.110757\" xlink:href=\"#m1b4bc62dca\" y=\"35.760261\"/>\n     <use style=\"fill:#1f77b4;stroke:#1f77b4;\" x=\"123.059197\" xlink:href=\"#m1b4bc62dca\" y=\"153.156188\"/>\n     <use style=\"fill:#1f77b4;stroke:#1f77b4;\" x=\"250.25594\" xlink:href=\"#m1b4bc62dca\" y=\"107.798671\"/>\n     <use style=\"fill:#1f77b4;stroke:#1f77b4;\" x=\"277.512386\" xlink:href=\"#m1b4bc62dca\" y=\"65.109243\"/>\n     <use style=\"fill:#1f77b4;stroke:#1f77b4;\" x=\"200.285791\" xlink:href=\"#m1b4bc62dca\" y=\"149.154054\"/>\n     <use style=\"fill:#1f77b4;stroke:#1f77b4;\" x=\"245.7132\" xlink:href=\"#m1b4bc62dca\" y=\"142.483831\"/>\n     <use style=\"fill:#1f77b4;stroke:#1f77b4;\" x=\"186.657569\" xlink:href=\"#m1b4bc62dca\" y=\"169.164723\"/>\n     <use style=\"fill:#1f77b4;stroke:#1f77b4;\" x=\"163.943864\" xlink:href=\"#m1b4bc62dca\" y=\"162.4945\"/>\n     <use style=\"fill:#1f77b4;stroke:#1f77b4;\" x=\"322.939794\" xlink:href=\"#m1b4bc62dca\" y=\"86.453957\"/>\n     <use style=\"fill:#1f77b4;stroke:#1f77b4;\" x=\"254.798681\" xlink:href=\"#m1b4bc62dca\" y=\"115.802938\"/>\n     <use style=\"fill:#1f77b4;stroke:#1f77b4;\" x=\"177.572087\" xlink:href=\"#m1b4bc62dca\" y=\"129.143385\"/>\n     <use style=\"fill:#1f77b4;stroke:#1f77b4;\" x=\"254.798681\" xlink:href=\"#m1b4bc62dca\" y=\"131.811474\"/>\n     <use style=\"fill:#1f77b4;stroke:#1f77b4;\" x=\"268.426904\" xlink:href=\"#m1b4bc62dca\" y=\"41.09644\"/>\n     <use style=\"fill:#1f77b4;stroke:#1f77b4;\" x=\"136.687419\" xlink:href=\"#m1b4bc62dca\" y=\"105.130581\"/>\n     <use style=\"fill:#1f77b4;stroke:#1f77b4;\" x=\"141.23016\" xlink:href=\"#m1b4bc62dca\" y=\"155.824277\"/>\n     <use style=\"fill:#1f77b4;stroke:#1f77b4;\" x=\"232.084977\" xlink:href=\"#m1b4bc62dca\" y=\"123.807206\"/>\n     <use style=\"fill:#1f77b4;stroke:#1f77b4;\" x=\"277.512386\" xlink:href=\"#m1b4bc62dca\" y=\"83.785867\"/>\n     <use style=\"fill:#1f77b4;stroke:#1f77b4;\" x=\"250.25594\" xlink:href=\"#m1b4bc62dca\" y=\"59.773064\"/>\n     <use style=\"fill:#1f77b4;stroke:#1f77b4;\" x=\"186.657569\" xlink:href=\"#m1b4bc62dca\" y=\"131.811474\"/>\n     <use style=\"fill:#1f77b4;stroke:#1f77b4;\" x=\"222.999495\" xlink:href=\"#m1b4bc62dca\" y=\"134.479563\"/>\n     <use style=\"fill:#1f77b4;stroke:#1f77b4;\" x=\"118.516456\" xlink:href=\"#m1b4bc62dca\" y=\"163.828545\"/>\n     <use style=\"fill:#1f77b4;stroke:#1f77b4;\" x=\"123.059197\" xlink:href=\"#m1b4bc62dca\" y=\"155.824277\"/>\n     <use style=\"fill:#1f77b4;stroke:#1f77b4;\" x=\"254.798681\" xlink:href=\"#m1b4bc62dca\" y=\"118.471028\"/>\n     <use style=\"fill:#1f77b4;stroke:#1f77b4;\" x=\"263.884163\" xlink:href=\"#m1b4bc62dca\" y=\"99.794403\"/>\n     <use style=\"fill:#1f77b4;stroke:#1f77b4;\" x=\"282.055126\" xlink:href=\"#m1b4bc62dca\" y=\"102.462492\"/>\n     <use style=\"fill:#1f77b4;stroke:#1f77b4;\" x=\"304.768831\" xlink:href=\"#m1b4bc62dca\" y=\"17.083636\"/>\n     <use style=\"fill:#1f77b4;stroke:#1f77b4;\" x=\"186.657569\" xlink:href=\"#m1b4bc62dca\" y=\"161.160456\"/>\n     <use style=\"fill:#1f77b4;stroke:#1f77b4;\" x=\"300.22609\" xlink:href=\"#m1b4bc62dca\" y=\"83.785867\"/>\n     <use style=\"fill:#1f77b4;stroke:#1f77b4;\" x=\"136.687419\" xlink:href=\"#m1b4bc62dca\" y=\"145.15192\"/>\n     <use style=\"fill:#1f77b4;stroke:#1f77b4;\" x=\"127.601938\" xlink:href=\"#m1b4bc62dca\" y=\"170.498768\"/>\n     <use style=\"fill:#1f77b4;stroke:#1f77b4;\" x=\"168.486605\" xlink:href=\"#m1b4bc62dca\" y=\"155.824277\"/>\n     <use style=\"fill:#1f77b4;stroke:#1f77b4;\" x=\"195.74305\" xlink:href=\"#m1b4bc62dca\" y=\"125.141251\"/>\n     <use style=\"fill:#1f77b4;stroke:#1f77b4;\" x=\"127.601938\" xlink:href=\"#m1b4bc62dca\" y=\"182.505169\"/>\n     <use style=\"fill:#1f77b4;stroke:#1f77b4;\" x=\"168.486605\" xlink:href=\"#m1b4bc62dca\" y=\"190.509437\"/>\n     <use style=\"fill:#1f77b4;stroke:#1f77b4;\" x=\"304.768831\" xlink:href=\"#m1b4bc62dca\" y=\"81.117778\"/>\n     <use style=\"fill:#1f77b4;stroke:#1f77b4;\" x=\"250.25594\" xlink:href=\"#m1b4bc62dca\" y=\"102.462492\"/>\n     <use style=\"fill:#1f77b4;stroke:#1f77b4;\" x=\"322.939794\" xlink:href=\"#m1b4bc62dca\" y=\"65.109243\"/>\n     <use style=\"fill:#1f77b4;stroke:#1f77b4;\" x=\"177.572087\" xlink:href=\"#m1b4bc62dca\" y=\"150.488099\"/>\n     <use style=\"fill:#1f77b4;stroke:#1f77b4;\" x=\"127.601938\" xlink:href=\"#m1b4bc62dca\" y=\"185.173259\"/>\n     <use style=\"fill:#1f77b4;stroke:#1f77b4;\" x=\"222.999495\" xlink:href=\"#m1b4bc62dca\" y=\"101.128448\"/>\n     <use style=\"fill:#1f77b4;stroke:#1f77b4;\" x=\"150.315642\" xlink:href=\"#m1b4bc62dca\" y=\"182.505169\"/>\n     <use style=\"fill:#1f77b4;stroke:#1f77b4;\" x=\"182.114828\" xlink:href=\"#m1b4bc62dca\" y=\"165.162589\"/>\n     <use style=\"fill:#1f77b4;stroke:#1f77b4;\" x=\"200.285791\" xlink:href=\"#m1b4bc62dca\" y=\"115.802938\"/>\n     <use style=\"fill:#1f77b4;stroke:#1f77b4;\" x=\"213.914014\" xlink:href=\"#m1b4bc62dca\" y=\"137.147652\"/>\n     <use style=\"fill:#1f77b4;stroke:#1f77b4;\" x=\"345.653498\" xlink:href=\"#m1b4bc62dca\" y=\"49.100707\"/>\n     <use style=\"fill:#1f77b4;stroke:#1f77b4;\" x=\"132.144679\" xlink:href=\"#m1b4bc62dca\" y=\"163.828545\"/>\n     <use style=\"fill:#1f77b4;stroke:#1f77b4;\" x=\"159.401124\" xlink:href=\"#m1b4bc62dca\" y=\"142.483831\"/>\n     <use style=\"fill:#1f77b4;stroke:#1f77b4;\" x=\"177.572087\" xlink:href=\"#m1b4bc62dca\" y=\"197.17966\"/>\n     <use style=\"fill:#1f77b4;stroke:#1f77b4;\" x=\"163.943864\" xlink:href=\"#m1b4bc62dca\" y=\"169.164723\"/>\n     <use style=\"fill:#1f77b4;stroke:#1f77b4;\" x=\"173.029346\" xlink:href=\"#m1b4bc62dca\" y=\"134.479563\"/>\n     <use style=\"fill:#1f77b4;stroke:#1f77b4;\" x=\"154.858383\" xlink:href=\"#m1b4bc62dca\" y=\"134.479563\"/>\n     <use style=\"fill:#1f77b4;stroke:#1f77b4;\" x=\"241.170459\" xlink:href=\"#m1b4bc62dca\" y=\"139.815742\"/>\n     <use style=\"fill:#1f77b4;stroke:#1f77b4;\" x=\"173.029346\" xlink:href=\"#m1b4bc62dca\" y=\"142.483831\"/>\n     <use style=\"fill:#1f77b4;stroke:#1f77b4;\" x=\"191.20031\" xlink:href=\"#m1b4bc62dca\" y=\"118.471028\"/>\n     <use style=\"fill:#1f77b4;stroke:#1f77b4;\" x=\"173.029346\" xlink:href=\"#m1b4bc62dca\" y=\"154.490232\"/>\n     <use style=\"fill:#1f77b4;stroke:#1f77b4;\" x=\"254.798681\" xlink:href=\"#m1b4bc62dca\" y=\"94.458224\"/>\n     <use style=\"fill:#1f77b4;stroke:#1f77b4;\" x=\"132.144679\" xlink:href=\"#m1b4bc62dca\" y=\"189.175393\"/>\n     <use style=\"fill:#1f77b4;stroke:#1f77b4;\" x=\"136.687419\" xlink:href=\"#m1b4bc62dca\" y=\"167.830679\"/>\n     <use style=\"fill:#1f77b4;stroke:#1f77b4;\" x=\"191.20031\" xlink:href=\"#m1b4bc62dca\" y=\"157.158322\"/>\n     <use style=\"fill:#1f77b4;stroke:#1f77b4;\" x=\"195.74305\" xlink:href=\"#m1b4bc62dca\" y=\"153.156188\"/>\n     <use style=\"fill:#1f77b4;stroke:#1f77b4;\" x=\"150.315642\" xlink:href=\"#m1b4bc62dca\" y=\"167.830679\"/>\n     <use style=\"fill:#1f77b4;stroke:#1f77b4;\" x=\"254.798681\" xlink:href=\"#m1b4bc62dca\" y=\"134.479563\"/>\n     <use style=\"fill:#1f77b4;stroke:#1f77b4;\" x=\"304.768831\" xlink:href=\"#m1b4bc62dca\" y=\"62.441154\"/>\n     <use style=\"fill:#1f77b4;stroke:#1f77b4;\" x=\"204.828532\" xlink:href=\"#m1b4bc62dca\" y=\"139.815742\"/>\n     <use style=\"fill:#1f77b4;stroke:#1f77b4;\" x=\"245.7132\" xlink:href=\"#m1b4bc62dca\" y=\"123.807206\"/>\n     <use style=\"fill:#1f77b4;stroke:#1f77b4;\" x=\"213.914014\" xlink:href=\"#m1b4bc62dca\" y=\"115.802938\"/>\n     <use style=\"fill:#1f77b4;stroke:#1f77b4;\" x=\"295.683349\" xlink:href=\"#m1b4bc62dca\" y=\"102.462492\"/>\n     <use style=\"fill:#1f77b4;stroke:#1f77b4;\" x=\"159.401124\" xlink:href=\"#m1b4bc62dca\" y=\"182.505169\"/>\n     <use style=\"fill:#1f77b4;stroke:#1f77b4;\" x=\"268.426904\" xlink:href=\"#m1b4bc62dca\" y=\"65.109243\"/>\n     <use style=\"fill:#1f77b4;stroke:#1f77b4;\" x=\"168.486605\" xlink:href=\"#m1b4bc62dca\" y=\"150.488099\"/>\n     <use style=\"fill:#1f77b4;stroke:#1f77b4;\" x=\"141.23016\" xlink:href=\"#m1b4bc62dca\" y=\"155.824277\"/>\n     <use style=\"fill:#1f77b4;stroke:#1f77b4;\" x=\"222.999495\" xlink:href=\"#m1b4bc62dca\" y=\"106.464626\"/>\n     <use style=\"fill:#1f77b4;stroke:#1f77b4;\" x=\"168.486605\" xlink:href=\"#m1b4bc62dca\" y=\"145.15192\"/>\n     <use style=\"fill:#1f77b4;stroke:#1f77b4;\" x=\"163.943864\" xlink:href=\"#m1b4bc62dca\" y=\"145.15192\"/>\n     <use style=\"fill:#1f77b4;stroke:#1f77b4;\" x=\"186.657569\" xlink:href=\"#m1b4bc62dca\" y=\"118.471028\"/>\n     <use style=\"fill:#1f77b4;stroke:#1f77b4;\" x=\"277.512386\" xlink:href=\"#m1b4bc62dca\" y=\"51.768797\"/>\n     <use style=\"fill:#1f77b4;stroke:#1f77b4;\" x=\"141.23016\" xlink:href=\"#m1b4bc62dca\" y=\"185.173259\"/>\n     <use style=\"fill:#1f77b4;stroke:#1f77b4;\" x=\"213.914014\" xlink:href=\"#m1b4bc62dca\" y=\"142.483831\"/>\n     <use style=\"fill:#1f77b4;stroke:#1f77b4;\" x=\"295.683349\" xlink:href=\"#m1b4bc62dca\" y=\"59.773064\"/>\n     <use style=\"fill:#1f77b4;stroke:#1f77b4;\" x=\"168.486605\" xlink:href=\"#m1b4bc62dca\" y=\"171.832812\"/>\n     <use style=\"fill:#1f77b4;stroke:#1f77b4;\" x=\"245.7132\" xlink:href=\"#m1b4bc62dca\" y=\"129.143385\"/>\n     <use style=\"fill:#1f77b4;stroke:#1f77b4;\" x=\"191.20031\" xlink:href=\"#m1b4bc62dca\" y=\"145.15192\"/>\n     <use style=\"fill:#1f77b4;stroke:#1f77b4;\" x=\"268.426904\" xlink:href=\"#m1b4bc62dca\" y=\"81.117778\"/>\n     <use style=\"fill:#1f77b4;stroke:#1f77b4;\" x=\"91.260011\" xlink:href=\"#m1b4bc62dca\" y=\"171.832812\"/>\n     <use style=\"fill:#1f77b4;stroke:#1f77b4;\" x=\"159.401124\" xlink:href=\"#m1b4bc62dca\" y=\"174.500902\"/>\n     <use style=\"fill:#1f77b4;stroke:#1f77b4;\" x=\"327.482535\" xlink:href=\"#m1b4bc62dca\" y=\"75.7816\"/>\n     <use style=\"fill:#1f77b4;stroke:#1f77b4;\" x=\"300.22609\" xlink:href=\"#m1b4bc62dca\" y=\"33.092172\"/>\n     <use style=\"fill:#1f77b4;stroke:#1f77b4;\" x=\"277.512386\" xlink:href=\"#m1b4bc62dca\" y=\"59.773064\"/>\n     <use style=\"fill:#1f77b4;stroke:#1f77b4;\" x=\"136.687419\" xlink:href=\"#m1b4bc62dca\" y=\"163.828545\"/>\n     <use style=\"fill:#1f77b4;stroke:#1f77b4;\" x=\"163.943864\" xlink:href=\"#m1b4bc62dca\" y=\"145.15192\"/>\n     <use style=\"fill:#1f77b4;stroke:#1f77b4;\" x=\"150.315642\" xlink:href=\"#m1b4bc62dca\" y=\"150.488099\"/>\n     <use style=\"fill:#1f77b4;stroke:#1f77b4;\" x=\"263.884163\" xlink:href=\"#m1b4bc62dca\" y=\"93.12418\"/>\n     <use style=\"fill:#1f77b4;stroke:#1f77b4;\" x=\"218.456755\" xlink:href=\"#m1b4bc62dca\" y=\"171.832812\"/>\n     <use style=\"fill:#1f77b4;stroke:#1f77b4;\" x=\"209.371273\" xlink:href=\"#m1b4bc62dca\" y=\"171.832812\"/>\n     <use style=\"fill:#1f77b4;stroke:#1f77b4;\" x=\"345.653498\" xlink:href=\"#m1b4bc62dca\" y=\"30.424083\"/>\n     <use style=\"fill:#1f77b4;stroke:#1f77b4;\" x=\"195.74305\" xlink:href=\"#m1b4bc62dca\" y=\"98.460358\"/>\n     <use style=\"fill:#1f77b4;stroke:#1f77b4;\" x=\"163.943864\" xlink:href=\"#m1b4bc62dca\" y=\"161.160456\"/>\n     <use style=\"fill:#1f77b4;stroke:#1f77b4;\" x=\"282.055126\" xlink:href=\"#m1b4bc62dca\" y=\"57.104975\"/>\n     <use style=\"fill:#1f77b4;stroke:#1f77b4;\" x=\"304.768831\" xlink:href=\"#m1b4bc62dca\" y=\"86.453957\"/>\n     <use style=\"fill:#1f77b4;stroke:#1f77b4;\" x=\"141.23016\" xlink:href=\"#m1b4bc62dca\" y=\"171.832812\"/>\n     <use style=\"fill:#1f77b4;stroke:#1f77b4;\" x=\"200.285791\" xlink:href=\"#m1b4bc62dca\" y=\"151.822143\"/>\n     <use style=\"fill:#1f77b4;stroke:#1f77b4;\" x=\"123.059197\" xlink:href=\"#m1b4bc62dca\" y=\"201.181794\"/>\n     <use style=\"fill:#1f77b4;stroke:#1f77b4;\" x=\"109.430974\" xlink:href=\"#m1b4bc62dca\" y=\"179.83708\"/>\n     <use style=\"fill:#1f77b4;stroke:#1f77b4;\" x=\"182.114828\" xlink:href=\"#m1b4bc62dca\" y=\"151.822143\"/>\n     <use style=\"fill:#1f77b4;stroke:#1f77b4;\" x=\"291.140608\" xlink:href=\"#m1b4bc62dca\" y=\"70.445421\"/>\n     <use style=\"fill:#1f77b4;stroke:#1f77b4;\" x=\"163.943864\" xlink:href=\"#m1b4bc62dca\" y=\"150.488099\"/>\n     <use style=\"fill:#1f77b4;stroke:#1f77b4;\" x=\"186.657569\" xlink:href=\"#m1b4bc62dca\" y=\"158.492366\"/>\n     <use style=\"fill:#1f77b4;stroke:#1f77b4;\" x=\"318.397053\" xlink:href=\"#m1b4bc62dca\" y=\"67.777332\"/>\n     <use style=\"fill:#1f77b4;stroke:#1f77b4;\" x=\"118.516456\" xlink:href=\"#m1b4bc62dca\" y=\"161.160456\"/>\n     <use style=\"fill:#1f77b4;stroke:#1f77b4;\" x=\"150.315642\" xlink:href=\"#m1b4bc62dca\" y=\"170.498768\"/>\n     <use style=\"fill:#1f77b4;stroke:#1f77b4;\" x=\"150.315642\" xlink:href=\"#m1b4bc62dca\" y=\"163.828545\"/>\n     <use style=\"fill:#1f77b4;stroke:#1f77b4;\" x=\"286.597867\" xlink:href=\"#m1b4bc62dca\" y=\"75.7816\"/>\n     <use style=\"fill:#1f77b4;stroke:#1f77b4;\" x=\"195.74305\" xlink:href=\"#m1b4bc62dca\" y=\"131.811474\"/>\n     <use style=\"fill:#1f77b4;stroke:#1f77b4;\" x=\"300.22609\" xlink:href=\"#m1b4bc62dca\" y=\"86.453957\"/>\n     <use style=\"fill:#1f77b4;stroke:#1f77b4;\" x=\"186.657569\" xlink:href=\"#m1b4bc62dca\" y=\"118.471028\"/>\n     <use style=\"fill:#1f77b4;stroke:#1f77b4;\" x=\"123.059197\" xlink:href=\"#m1b4bc62dca\" y=\"177.168991\"/>\n     <use style=\"fill:#1f77b4;stroke:#1f77b4;\" x=\"200.285791\" xlink:href=\"#m1b4bc62dca\" y=\"155.824277\"/>\n     <use style=\"fill:#1f77b4;stroke:#1f77b4;\" x=\"154.858383\" xlink:href=\"#m1b4bc62dca\" y=\"177.168991\"/>\n     <use style=\"fill:#1f77b4;stroke:#1f77b4;\" x=\"154.858383\" xlink:href=\"#m1b4bc62dca\" y=\"165.162589\"/>\n     <use style=\"fill:#1f77b4;stroke:#1f77b4;\" x=\"259.341422\" xlink:href=\"#m1b4bc62dca\" y=\"113.134849\"/>\n     <use style=\"fill:#1f77b4;stroke:#1f77b4;\" x=\"163.943864\" xlink:href=\"#m1b4bc62dca\" y=\"161.160456\"/>\n     <use style=\"fill:#1f77b4;stroke:#1f77b4;\" x=\"136.687419\" xlink:href=\"#m1b4bc62dca\" y=\"145.15192\"/>\n     <use style=\"fill:#1f77b4;stroke:#1f77b4;\" x=\"163.943864\" xlink:href=\"#m1b4bc62dca\" y=\"126.475295\"/>\n     <use style=\"fill:#1f77b4;stroke:#1f77b4;\" x=\"259.341422\" xlink:href=\"#m1b4bc62dca\" y=\"97.126314\"/>\n     <use style=\"fill:#1f77b4;stroke:#1f77b4;\" x=\"204.828532\" xlink:href=\"#m1b4bc62dca\" y=\"114.468894\"/>\n     <use style=\"fill:#1f77b4;stroke:#1f77b4;\" x=\"336.568016\" xlink:href=\"#m1b4bc62dca\" y=\"59.773064\"/>\n     <use style=\"fill:#1f77b4;stroke:#1f77b4;\" x=\"186.657569\" xlink:href=\"#m1b4bc62dca\" y=\"175.834946\"/>\n     <use style=\"fill:#1f77b4;stroke:#1f77b4;\" x=\"282.055126\" xlink:href=\"#m1b4bc62dca\" y=\"99.794403\"/>\n     <use style=\"fill:#1f77b4;stroke:#1f77b4;\" x=\"159.401124\" xlink:href=\"#m1b4bc62dca\" y=\"150.488099\"/>\n     <use style=\"fill:#1f77b4;stroke:#1f77b4;\" x=\"245.7132\" xlink:href=\"#m1b4bc62dca\" y=\"121.139117\"/>\n     <use style=\"fill:#1f77b4;stroke:#1f77b4;\" x=\"277.512386\" xlink:href=\"#m1b4bc62dca\" y=\"70.445421\"/>\n     <use style=\"fill:#1f77b4;stroke:#1f77b4;\" x=\"309.311571\" xlink:href=\"#m1b4bc62dca\" y=\"67.777332\"/>\n     <use style=\"fill:#1f77b4;stroke:#1f77b4;\" x=\"141.23016\" xlink:href=\"#m1b4bc62dca\" y=\"158.492366\"/>\n     <use style=\"fill:#1f77b4;stroke:#1f77b4;\" x=\"345.653498\" xlink:href=\"#m1b4bc62dca\" y=\"49.100707\"/>\n     <use style=\"fill:#1f77b4;stroke:#1f77b4;\" x=\"154.858383\" xlink:href=\"#m1b4bc62dca\" y=\"198.513705\"/>\n     <use style=\"fill:#1f77b4;stroke:#1f77b4;\" x=\"123.059197\" xlink:href=\"#m1b4bc62dca\" y=\"161.160456\"/>\n     <use style=\"fill:#1f77b4;stroke:#1f77b4;\" x=\"123.059197\" xlink:href=\"#m1b4bc62dca\" y=\"159.826411\"/>\n     <use style=\"fill:#1f77b4;stroke:#1f77b4;\" x=\"150.315642\" xlink:href=\"#m1b4bc62dca\" y=\"158.492366\"/>\n     <use style=\"fill:#1f77b4;stroke:#1f77b4;\" x=\"182.114828\" xlink:href=\"#m1b4bc62dca\" y=\"163.828545\"/>\n     <use style=\"fill:#1f77b4;stroke:#1f77b4;\" x=\"254.798681\" xlink:href=\"#m1b4bc62dca\" y=\"123.807206\"/>\n     <use style=\"fill:#1f77b4;stroke:#1f77b4;\" x=\"245.7132\" xlink:href=\"#m1b4bc62dca\" y=\"109.132715\"/>\n     <use style=\"fill:#1f77b4;stroke:#1f77b4;\" x=\"254.798681\" xlink:href=\"#m1b4bc62dca\" y=\"129.143385\"/>\n     <use style=\"fill:#1f77b4;stroke:#1f77b4;\" x=\"145.772901\" xlink:href=\"#m1b4bc62dca\" y=\"166.496634\"/>\n     <use style=\"fill:#1f77b4;stroke:#1f77b4;\" x=\"186.657569\" xlink:href=\"#m1b4bc62dca\" y=\"177.168991\"/>\n     <use style=\"fill:#1f77b4;stroke:#1f77b4;\" x=\"195.74305\" xlink:href=\"#m1b4bc62dca\" y=\"131.811474\"/>\n     <use style=\"fill:#1f77b4;stroke:#1f77b4;\" x=\"163.943864\" xlink:href=\"#m1b4bc62dca\" y=\"190.509437\"/>\n     <use style=\"fill:#1f77b4;stroke:#1f77b4;\" x=\"182.114828\" xlink:href=\"#m1b4bc62dca\" y=\"153.156188\"/>\n     <use style=\"fill:#1f77b4;stroke:#1f77b4;\" x=\"163.943864\" xlink:href=\"#m1b4bc62dca\" y=\"169.164723\"/>\n     <use style=\"fill:#1f77b4;stroke:#1f77b4;\" x=\"195.74305\" xlink:href=\"#m1b4bc62dca\" y=\"154.490232\"/>\n     <use style=\"fill:#1f77b4;stroke:#1f77b4;\" x=\"336.568016\" xlink:href=\"#m1b4bc62dca\" y=\"54.436886\"/>\n     <use style=\"fill:#1f77b4;stroke:#1f77b4;\" x=\"268.426904\" xlink:href=\"#m1b4bc62dca\" y=\"89.122046\"/>\n     <use style=\"fill:#1f77b4;stroke:#1f77b4;\" x=\"300.22609\" xlink:href=\"#m1b4bc62dca\" y=\"57.104975\"/>\n     <use style=\"fill:#1f77b4;stroke:#1f77b4;\" x=\"150.315642\" xlink:href=\"#m1b4bc62dca\" y=\"174.500902\"/>\n     <use style=\"fill:#1f77b4;stroke:#1f77b4;\" x=\"150.315642\" xlink:href=\"#m1b4bc62dca\" y=\"150.488099\"/>\n     <use style=\"fill:#1f77b4;stroke:#1f77b4;\" x=\"163.943864\" xlink:href=\"#m1b4bc62dca\" y=\"169.164723\"/>\n     <use style=\"fill:#1f77b4;stroke:#1f77b4;\" x=\"109.430974\" xlink:href=\"#m1b4bc62dca\" y=\"179.83708\"/>\n     <use style=\"fill:#1f77b4;stroke:#1f77b4;\" x=\"286.597867\" xlink:href=\"#m1b4bc62dca\" y=\"91.790135\"/>\n     <use style=\"fill:#1f77b4;stroke:#1f77b4;\" x=\"200.285791\" xlink:href=\"#m1b4bc62dca\" y=\"142.483831\"/>\n     <use style=\"fill:#1f77b4;stroke:#1f77b4;\" x=\"177.572087\" xlink:href=\"#m1b4bc62dca\" y=\"150.488099\"/>\n     <use style=\"fill:#1f77b4;stroke:#1f77b4;\" x=\"200.285791\" xlink:href=\"#m1b4bc62dca\" y=\"157.158322\"/>\n     <use style=\"fill:#1f77b4;stroke:#1f77b4;\" x=\"182.114828\" xlink:href=\"#m1b4bc62dca\" y=\"129.143385\"/>\n     <use style=\"fill:#1f77b4;stroke:#1f77b4;\" x=\"213.914014\" xlink:href=\"#m1b4bc62dca\" y=\"139.815742\"/>\n     <use style=\"fill:#1f77b4;stroke:#1f77b4;\" x=\"341.110757\" xlink:href=\"#m1b4bc62dca\" y=\"43.764529\"/>\n     <use style=\"fill:#1f77b4;stroke:#1f77b4;\" x=\"300.22609\" xlink:href=\"#m1b4bc62dca\" y=\"102.462492\"/>\n     <use style=\"fill:#1f77b4;stroke:#1f77b4;\" x=\"163.943864\" xlink:href=\"#m1b4bc62dca\" y=\"155.824277\"/>\n     <use style=\"fill:#1f77b4;stroke:#1f77b4;\" x=\"277.512386\" xlink:href=\"#m1b4bc62dca\" y=\"81.117778\"/>\n     <use style=\"fill:#1f77b4;stroke:#1f77b4;\" x=\"186.657569\" xlink:href=\"#m1b4bc62dca\" y=\"179.83708\"/>\n     <use style=\"fill:#1f77b4;stroke:#1f77b4;\" x=\"177.572087\" xlink:href=\"#m1b4bc62dca\" y=\"158.492366\"/>\n     <use style=\"fill:#1f77b4;stroke:#1f77b4;\" x=\"150.315642\" xlink:href=\"#m1b4bc62dca\" y=\"182.505169\"/>\n     <use style=\"fill:#1f77b4;stroke:#1f77b4;\" x=\"173.029346\" xlink:href=\"#m1b4bc62dca\" y=\"137.147652\"/>\n     <use style=\"fill:#1f77b4;stroke:#1f77b4;\" x=\"277.512386\" xlink:href=\"#m1b4bc62dca\" y=\"94.458224\"/>\n     <use style=\"fill:#1f77b4;stroke:#1f77b4;\" x=\"168.486605\" xlink:href=\"#m1b4bc62dca\" y=\"183.839214\"/>\n     <use style=\"fill:#1f77b4;stroke:#1f77b4;\" x=\"100.345493\" xlink:href=\"#m1b4bc62dca\" y=\"169.164723\"/>\n     <use style=\"fill:#1f77b4;stroke:#1f77b4;\" x=\"291.140608\" xlink:href=\"#m1b4bc62dca\" y=\"49.100707\"/>\n     <use style=\"fill:#1f77b4;stroke:#1f77b4;\" x=\"282.055126\" xlink:href=\"#m1b4bc62dca\" y=\"90.456091\"/>\n     <use style=\"fill:#1f77b4;stroke:#1f77b4;\" x=\"336.568016\" xlink:href=\"#m1b4bc62dca\" y=\"65.109243\"/>\n     <use style=\"fill:#1f77b4;stroke:#1f77b4;\" x=\"209.371273\" xlink:href=\"#m1b4bc62dca\" y=\"150.488099\"/>\n     <use style=\"fill:#1f77b4;stroke:#1f77b4;\" x=\"109.430974\" xlink:href=\"#m1b4bc62dca\" y=\"198.513705\"/>\n     <use style=\"fill:#1f77b4;stroke:#1f77b4;\" x=\"345.653498\" xlink:href=\"#m1b4bc62dca\" y=\"43.764529\"/>\n     <use style=\"fill:#1f77b4;stroke:#1f77b4;\" x=\"204.828532\" xlink:href=\"#m1b4bc62dca\" y=\"175.834946\"/>\n     <use style=\"fill:#1f77b4;stroke:#1f77b4;\" x=\"177.572087\" xlink:href=\"#m1b4bc62dca\" y=\"182.505169\"/>\n     <use style=\"fill:#1f77b4;stroke:#1f77b4;\" x=\"173.029346\" xlink:href=\"#m1b4bc62dca\" y=\"209.186062\"/>\n     <use style=\"fill:#1f77b4;stroke:#1f77b4;\" x=\"173.029346\" xlink:href=\"#m1b4bc62dca\" y=\"193.177526\"/>\n     <use style=\"fill:#1f77b4;stroke:#1f77b4;\" x=\"254.798681\" xlink:href=\"#m1b4bc62dca\" y=\"129.143385\"/>\n     <use style=\"fill:#1f77b4;stroke:#1f77b4;\" x=\"163.943864\" xlink:href=\"#m1b4bc62dca\" y=\"154.490232\"/>\n     <use style=\"fill:#1f77b4;stroke:#1f77b4;\" x=\"186.657569\" xlink:href=\"#m1b4bc62dca\" y=\"145.15192\"/>\n     <use style=\"fill:#1f77b4;stroke:#1f77b4;\" x=\"145.772901\" xlink:href=\"#m1b4bc62dca\" y=\"163.828545\"/>\n     <use style=\"fill:#1f77b4;stroke:#1f77b4;\" x=\"191.20031\" xlink:href=\"#m1b4bc62dca\" y=\"135.813608\"/>\n     <use style=\"fill:#1f77b4;stroke:#1f77b4;\" x=\"150.315642\" xlink:href=\"#m1b4bc62dca\" y=\"155.824277\"/>\n     <use style=\"fill:#1f77b4;stroke:#1f77b4;\" x=\"245.7132\" xlink:href=\"#m1b4bc62dca\" y=\"123.807206\"/>\n     <use style=\"fill:#1f77b4;stroke:#1f77b4;\" x=\"209.371273\" xlink:href=\"#m1b4bc62dca\" y=\"137.147652\"/>\n     <use style=\"fill:#1f77b4;stroke:#1f77b4;\" x=\"232.084977\" xlink:href=\"#m1b4bc62dca\" y=\"113.134849\"/>\n     <use style=\"fill:#1f77b4;stroke:#1f77b4;\" x=\"286.597867\" xlink:href=\"#m1b4bc62dca\" y=\"119.805072\"/>\n     <use style=\"fill:#1f77b4;stroke:#1f77b4;\" x=\"209.371273\" xlink:href=\"#m1b4bc62dca\" y=\"141.149786\"/>\n     <use style=\"fill:#1f77b4;stroke:#1f77b4;\" x=\"186.657569\" xlink:href=\"#m1b4bc62dca\" y=\"147.820009\"/>\n     <use style=\"fill:#1f77b4;stroke:#1f77b4;\" x=\"195.74305\" xlink:href=\"#m1b4bc62dca\" y=\"169.164723\"/>\n     <use style=\"fill:#1f77b4;stroke:#1f77b4;\" x=\"150.315642\" xlink:href=\"#m1b4bc62dca\" y=\"177.168991\"/>\n     <use style=\"fill:#1f77b4;stroke:#1f77b4;\" x=\"309.311571\" xlink:href=\"#m1b4bc62dca\" y=\"33.092172\"/>\n     <use style=\"fill:#1f77b4;stroke:#1f77b4;\" x=\"277.512386\" xlink:href=\"#m1b4bc62dca\" y=\"86.453957\"/>\n     <use style=\"fill:#1f77b4;stroke:#1f77b4;\" x=\"163.943864\" xlink:href=\"#m1b4bc62dca\" y=\"145.15192\"/>\n     <use style=\"fill:#1f77b4;stroke:#1f77b4;\" x=\"159.401124\" xlink:href=\"#m1b4bc62dca\" y=\"158.492366\"/>\n     <use style=\"fill:#1f77b4;stroke:#1f77b4;\" x=\"272.969645\" xlink:href=\"#m1b4bc62dca\" y=\"105.130581\"/>\n     <use style=\"fill:#1f77b4;stroke:#1f77b4;\" x=\"154.858383\" xlink:href=\"#m1b4bc62dca\" y=\"190.509437\"/>\n     <use style=\"fill:#1f77b4;stroke:#1f77b4;\" x=\"282.055126\" xlink:href=\"#m1b4bc62dca\" y=\"86.453957\"/>\n     <use style=\"fill:#1f77b4;stroke:#1f77b4;\" x=\"254.798681\" xlink:href=\"#m1b4bc62dca\" y=\"110.46676\"/>\n     <use style=\"fill:#1f77b4;stroke:#1f77b4;\" x=\"268.426904\" xlink:href=\"#m1b4bc62dca\" y=\"105.130581\"/>\n     <use style=\"fill:#1f77b4;stroke:#1f77b4;\" x=\"177.572087\" xlink:href=\"#m1b4bc62dca\" y=\"161.160456\"/>\n     <use style=\"fill:#1f77b4;stroke:#1f77b4;\" x=\"177.572087\" xlink:href=\"#m1b4bc62dca\" y=\"153.156188\"/>\n     <use style=\"fill:#1f77b4;stroke:#1f77b4;\" x=\"222.999495\" xlink:href=\"#m1b4bc62dca\" y=\"137.147652\"/>\n     <use style=\"fill:#1f77b4;stroke:#1f77b4;\" x=\"141.23016\" xlink:href=\"#m1b4bc62dca\" y=\"171.832812\"/>\n    </g>\n   </g>\n   <g id=\"matplotlib.axis_1\">\n    <g id=\"xtick_1\">\n     <g id=\"line2d_1\">\n      <defs>\n       <path d=\"M 0 0 \nL 0 3.5 \n\" id=\"m5093633d9c\" style=\"stroke:#000000;stroke-width:0.8;\"/>\n      </defs>\n      <g>\n       <use style=\"stroke:#000000;stroke-width:0.8;\" x=\"73.089048\" xlink:href=\"#m5093633d9c\" y=\"224.64\"/>\n      </g>\n     </g>\n     <g id=\"text_1\">\n      <!-- 170 -->\n      <defs>\n       <path d=\"M 12.40625 8.296875 \nL 28.515625 8.296875 \nL 28.515625 63.921875 \nL 10.984375 60.40625 \nL 10.984375 69.390625 \nL 28.421875 72.90625 \nL 38.28125 72.90625 \nL 38.28125 8.296875 \nL 54.390625 8.296875 \nL 54.390625 0 \nL 12.40625 0 \nz\n\" id=\"DejaVuSans-49\"/>\n       <path d=\"M 8.203125 72.90625 \nL 55.078125 72.90625 \nL 55.078125 68.703125 \nL 28.609375 0 \nL 18.3125 0 \nL 43.21875 64.59375 \nL 8.203125 64.59375 \nz\n\" id=\"DejaVuSans-55\"/>\n       <path d=\"M 31.78125 66.40625 \nQ 24.171875 66.40625 20.328125 58.90625 \nQ 16.5 51.421875 16.5 36.375 \nQ 16.5 21.390625 20.328125 13.890625 \nQ 24.171875 6.390625 31.78125 6.390625 \nQ 39.453125 6.390625 43.28125 13.890625 \nQ 47.125 21.390625 47.125 36.375 \nQ 47.125 51.421875 43.28125 58.90625 \nQ 39.453125 66.40625 31.78125 66.40625 \nz\nM 31.78125 74.21875 \nQ 44.046875 74.21875 50.515625 64.515625 \nQ 56.984375 54.828125 56.984375 36.375 \nQ 56.984375 17.96875 50.515625 8.265625 \nQ 44.046875 -1.421875 31.78125 -1.421875 \nQ 19.53125 -1.421875 13.0625 8.265625 \nQ 6.59375 17.96875 6.59375 36.375 \nQ 6.59375 54.828125 13.0625 64.515625 \nQ 19.53125 74.21875 31.78125 74.21875 \nz\n\" id=\"DejaVuSans-48\"/>\n      </defs>\n      <g transform=\"translate(63.545298 239.238437)scale(0.1 -0.1)\">\n       <use xlink:href=\"#DejaVuSans-49\"/>\n       <use x=\"63.623047\" xlink:href=\"#DejaVuSans-55\"/>\n       <use x=\"127.246094\" xlink:href=\"#DejaVuSans-48\"/>\n      </g>\n     </g>\n    </g>\n    <g id=\"xtick_2\">\n     <g id=\"line2d_2\">\n      <g>\n       <use style=\"stroke:#000000;stroke-width:0.8;\" x=\"118.516456\" xlink:href=\"#m5093633d9c\" y=\"224.64\"/>\n      </g>\n     </g>\n     <g id=\"text_2\">\n      <!-- 180 -->\n      <defs>\n       <path d=\"M 31.78125 34.625 \nQ 24.75 34.625 20.71875 30.859375 \nQ 16.703125 27.09375 16.703125 20.515625 \nQ 16.703125 13.921875 20.71875 10.15625 \nQ 24.75 6.390625 31.78125 6.390625 \nQ 38.8125 6.390625 42.859375 10.171875 \nQ 46.921875 13.96875 46.921875 20.515625 \nQ 46.921875 27.09375 42.890625 30.859375 \nQ 38.875 34.625 31.78125 34.625 \nz\nM 21.921875 38.8125 \nQ 15.578125 40.375 12.03125 44.71875 \nQ 8.5 49.078125 8.5 55.328125 \nQ 8.5 64.0625 14.71875 69.140625 \nQ 20.953125 74.21875 31.78125 74.21875 \nQ 42.671875 74.21875 48.875 69.140625 \nQ 55.078125 64.0625 55.078125 55.328125 \nQ 55.078125 49.078125 51.53125 44.71875 \nQ 48 40.375 41.703125 38.8125 \nQ 48.828125 37.15625 52.796875 32.3125 \nQ 56.78125 27.484375 56.78125 20.515625 \nQ 56.78125 9.90625 50.3125 4.234375 \nQ 43.84375 -1.421875 31.78125 -1.421875 \nQ 19.734375 -1.421875 13.25 4.234375 \nQ 6.78125 9.90625 6.78125 20.515625 \nQ 6.78125 27.484375 10.78125 32.3125 \nQ 14.796875 37.15625 21.921875 38.8125 \nz\nM 18.3125 54.390625 \nQ 18.3125 48.734375 21.84375 45.5625 \nQ 25.390625 42.390625 31.78125 42.390625 \nQ 38.140625 42.390625 41.71875 45.5625 \nQ 45.3125 48.734375 45.3125 54.390625 \nQ 45.3125 60.0625 41.71875 63.234375 \nQ 38.140625 66.40625 31.78125 66.40625 \nQ 25.390625 66.40625 21.84375 63.234375 \nQ 18.3125 60.0625 18.3125 54.390625 \nz\n\" id=\"DejaVuSans-56\"/>\n      </defs>\n      <g transform=\"translate(108.972706 239.238437)scale(0.1 -0.1)\">\n       <use xlink:href=\"#DejaVuSans-49\"/>\n       <use x=\"63.623047\" xlink:href=\"#DejaVuSans-56\"/>\n       <use x=\"127.246094\" xlink:href=\"#DejaVuSans-48\"/>\n      </g>\n     </g>\n    </g>\n    <g id=\"xtick_3\">\n     <g id=\"line2d_3\">\n      <g>\n       <use style=\"stroke:#000000;stroke-width:0.8;\" x=\"163.943864\" xlink:href=\"#m5093633d9c\" y=\"224.64\"/>\n      </g>\n     </g>\n     <g id=\"text_3\">\n      <!-- 190 -->\n      <defs>\n       <path d=\"M 10.984375 1.515625 \nL 10.984375 10.5 \nQ 14.703125 8.734375 18.5 7.8125 \nQ 22.3125 6.890625 25.984375 6.890625 \nQ 35.75 6.890625 40.890625 13.453125 \nQ 46.046875 20.015625 46.78125 33.40625 \nQ 43.953125 29.203125 39.59375 26.953125 \nQ 35.25 24.703125 29.984375 24.703125 \nQ 19.046875 24.703125 12.671875 31.3125 \nQ 6.296875 37.9375 6.296875 49.421875 \nQ 6.296875 60.640625 12.9375 67.421875 \nQ 19.578125 74.21875 30.609375 74.21875 \nQ 43.265625 74.21875 49.921875 64.515625 \nQ 56.59375 54.828125 56.59375 36.375 \nQ 56.59375 19.140625 48.40625 8.859375 \nQ 40.234375 -1.421875 26.421875 -1.421875 \nQ 22.703125 -1.421875 18.890625 -0.6875 \nQ 15.09375 0.046875 10.984375 1.515625 \nz\nM 30.609375 32.421875 \nQ 37.25 32.421875 41.125 36.953125 \nQ 45.015625 41.5 45.015625 49.421875 \nQ 45.015625 57.28125 41.125 61.84375 \nQ 37.25 66.40625 30.609375 66.40625 \nQ 23.96875 66.40625 20.09375 61.84375 \nQ 16.21875 57.28125 16.21875 49.421875 \nQ 16.21875 41.5 20.09375 36.953125 \nQ 23.96875 32.421875 30.609375 32.421875 \nz\n\" id=\"DejaVuSans-57\"/>\n      </defs>\n      <g transform=\"translate(154.400114 239.238437)scale(0.1 -0.1)\">\n       <use xlink:href=\"#DejaVuSans-49\"/>\n       <use x=\"63.623047\" xlink:href=\"#DejaVuSans-57\"/>\n       <use x=\"127.246094\" xlink:href=\"#DejaVuSans-48\"/>\n      </g>\n     </g>\n    </g>\n    <g id=\"xtick_4\">\n     <g id=\"line2d_4\">\n      <g>\n       <use style=\"stroke:#000000;stroke-width:0.8;\" x=\"209.371273\" xlink:href=\"#m5093633d9c\" y=\"224.64\"/>\n      </g>\n     </g>\n     <g id=\"text_4\">\n      <!-- 200 -->\n      <defs>\n       <path d=\"M 19.1875 8.296875 \nL 53.609375 8.296875 \nL 53.609375 0 \nL 7.328125 0 \nL 7.328125 8.296875 \nQ 12.9375 14.109375 22.625 23.890625 \nQ 32.328125 33.6875 34.8125 36.53125 \nQ 39.546875 41.84375 41.421875 45.53125 \nQ 43.3125 49.21875 43.3125 52.78125 \nQ 43.3125 58.59375 39.234375 62.25 \nQ 35.15625 65.921875 28.609375 65.921875 \nQ 23.96875 65.921875 18.8125 64.3125 \nQ 13.671875 62.703125 7.8125 59.421875 \nL 7.8125 69.390625 \nQ 13.765625 71.78125 18.9375 73 \nQ 24.125 74.21875 28.421875 74.21875 \nQ 39.75 74.21875 46.484375 68.546875 \nQ 53.21875 62.890625 53.21875 53.421875 \nQ 53.21875 48.921875 51.53125 44.890625 \nQ 49.859375 40.875 45.40625 35.40625 \nQ 44.1875 33.984375 37.640625 27.21875 \nQ 31.109375 20.453125 19.1875 8.296875 \nz\n\" id=\"DejaVuSans-50\"/>\n      </defs>\n      <g transform=\"translate(199.827523 239.238437)scale(0.1 -0.1)\">\n       <use xlink:href=\"#DejaVuSans-50\"/>\n       <use x=\"63.623047\" xlink:href=\"#DejaVuSans-48\"/>\n       <use x=\"127.246094\" xlink:href=\"#DejaVuSans-48\"/>\n      </g>\n     </g>\n    </g>\n    <g id=\"xtick_5\">\n     <g id=\"line2d_5\">\n      <g>\n       <use style=\"stroke:#000000;stroke-width:0.8;\" x=\"254.798681\" xlink:href=\"#m5093633d9c\" y=\"224.64\"/>\n      </g>\n     </g>\n     <g id=\"text_5\">\n      <!-- 210 -->\n      <g transform=\"translate(245.254931 239.238437)scale(0.1 -0.1)\">\n       <use xlink:href=\"#DejaVuSans-50\"/>\n       <use x=\"63.623047\" xlink:href=\"#DejaVuSans-49\"/>\n       <use x=\"127.246094\" xlink:href=\"#DejaVuSans-48\"/>\n      </g>\n     </g>\n    </g>\n    <g id=\"xtick_6\">\n     <g id=\"line2d_6\">\n      <g>\n       <use style=\"stroke:#000000;stroke-width:0.8;\" x=\"300.22609\" xlink:href=\"#m5093633d9c\" y=\"224.64\"/>\n      </g>\n     </g>\n     <g id=\"text_6\">\n      <!-- 220 -->\n      <g transform=\"translate(290.68234 239.238437)scale(0.1 -0.1)\">\n       <use xlink:href=\"#DejaVuSans-50\"/>\n       <use x=\"63.623047\" xlink:href=\"#DejaVuSans-50\"/>\n       <use x=\"127.246094\" xlink:href=\"#DejaVuSans-48\"/>\n      </g>\n     </g>\n    </g>\n    <g id=\"xtick_7\">\n     <g id=\"line2d_7\">\n      <g>\n       <use style=\"stroke:#000000;stroke-width:0.8;\" x=\"345.653498\" xlink:href=\"#m5093633d9c\" y=\"224.64\"/>\n      </g>\n     </g>\n     <g id=\"text_7\">\n      <!-- 230 -->\n      <defs>\n       <path d=\"M 40.578125 39.3125 \nQ 47.65625 37.796875 51.625 33 \nQ 55.609375 28.21875 55.609375 21.1875 \nQ 55.609375 10.40625 48.1875 4.484375 \nQ 40.765625 -1.421875 27.09375 -1.421875 \nQ 22.515625 -1.421875 17.65625 -0.515625 \nQ 12.796875 0.390625 7.625 2.203125 \nL 7.625 11.71875 \nQ 11.71875 9.328125 16.59375 8.109375 \nQ 21.484375 6.890625 26.8125 6.890625 \nQ 36.078125 6.890625 40.9375 10.546875 \nQ 45.796875 14.203125 45.796875 21.1875 \nQ 45.796875 27.640625 41.28125 31.265625 \nQ 36.765625 34.90625 28.71875 34.90625 \nL 20.21875 34.90625 \nL 20.21875 43.015625 \nL 29.109375 43.015625 \nQ 36.375 43.015625 40.234375 45.921875 \nQ 44.09375 48.828125 44.09375 54.296875 \nQ 44.09375 59.90625 40.109375 62.90625 \nQ 36.140625 65.921875 28.71875 65.921875 \nQ 24.65625 65.921875 20.015625 65.03125 \nQ 15.375 64.15625 9.8125 62.3125 \nL 9.8125 71.09375 \nQ 15.4375 72.65625 20.34375 73.4375 \nQ 25.25 74.21875 29.59375 74.21875 \nQ 40.828125 74.21875 47.359375 69.109375 \nQ 53.90625 64.015625 53.90625 55.328125 \nQ 53.90625 49.265625 50.4375 45.09375 \nQ 46.96875 40.921875 40.578125 39.3125 \nz\n\" id=\"DejaVuSans-51\"/>\n      </defs>\n      <g transform=\"translate(336.109748 239.238437)scale(0.1 -0.1)\">\n       <use xlink:href=\"#DejaVuSans-50\"/>\n       <use x=\"63.623047\" xlink:href=\"#DejaVuSans-51\"/>\n       <use x=\"127.246094\" xlink:href=\"#DejaVuSans-48\"/>\n      </g>\n     </g>\n    </g>\n    <g id=\"text_8\">\n     <!-- Longueur de la palette natatoire (mm) -->\n     <defs>\n      <path d=\"M 9.8125 72.90625 \nL 19.671875 72.90625 \nL 19.671875 8.296875 \nL 55.171875 8.296875 \nL 55.171875 0 \nL 9.8125 0 \nz\n\" id=\"DejaVuSans-76\"/>\n      <path d=\"M 30.609375 48.390625 \nQ 23.390625 48.390625 19.1875 42.75 \nQ 14.984375 37.109375 14.984375 27.296875 \nQ 14.984375 17.484375 19.15625 11.84375 \nQ 23.34375 6.203125 30.609375 6.203125 \nQ 37.796875 6.203125 41.984375 11.859375 \nQ 46.1875 17.53125 46.1875 27.296875 \nQ 46.1875 37.015625 41.984375 42.703125 \nQ 37.796875 48.390625 30.609375 48.390625 \nz\nM 30.609375 56 \nQ 42.328125 56 49.015625 48.375 \nQ 55.71875 40.765625 55.71875 27.296875 \nQ 55.71875 13.875 49.015625 6.21875 \nQ 42.328125 -1.421875 30.609375 -1.421875 \nQ 18.84375 -1.421875 12.171875 6.21875 \nQ 5.515625 13.875 5.515625 27.296875 \nQ 5.515625 40.765625 12.171875 48.375 \nQ 18.84375 56 30.609375 56 \nz\n\" id=\"DejaVuSans-111\"/>\n      <path d=\"M 54.890625 33.015625 \nL 54.890625 0 \nL 45.90625 0 \nL 45.90625 32.71875 \nQ 45.90625 40.484375 42.875 44.328125 \nQ 39.84375 48.1875 33.796875 48.1875 \nQ 26.515625 48.1875 22.3125 43.546875 \nQ 18.109375 38.921875 18.109375 30.90625 \nL 18.109375 0 \nL 9.078125 0 \nL 9.078125 54.6875 \nL 18.109375 54.6875 \nL 18.109375 46.1875 \nQ 21.34375 51.125 25.703125 53.5625 \nQ 30.078125 56 35.796875 56 \nQ 45.21875 56 50.046875 50.171875 \nQ 54.890625 44.34375 54.890625 33.015625 \nz\n\" id=\"DejaVuSans-110\"/>\n      <path d=\"M 45.40625 27.984375 \nQ 45.40625 37.75 41.375 43.109375 \nQ 37.359375 48.484375 30.078125 48.484375 \nQ 22.859375 48.484375 18.828125 43.109375 \nQ 14.796875 37.75 14.796875 27.984375 \nQ 14.796875 18.265625 18.828125 12.890625 \nQ 22.859375 7.515625 30.078125 7.515625 \nQ 37.359375 7.515625 41.375 12.890625 \nQ 45.40625 18.265625 45.40625 27.984375 \nz\nM 54.390625 6.78125 \nQ 54.390625 -7.171875 48.1875 -13.984375 \nQ 42 -20.796875 29.203125 -20.796875 \nQ 24.46875 -20.796875 20.265625 -20.09375 \nQ 16.0625 -19.390625 12.109375 -17.921875 \nL 12.109375 -9.1875 \nQ 16.0625 -11.328125 19.921875 -12.34375 \nQ 23.78125 -13.375 27.78125 -13.375 \nQ 36.625 -13.375 41.015625 -8.765625 \nQ 45.40625 -4.15625 45.40625 5.171875 \nL 45.40625 9.625 \nQ 42.625 4.78125 38.28125 2.390625 \nQ 33.9375 0 27.875 0 \nQ 17.828125 0 11.671875 7.65625 \nQ 5.515625 15.328125 5.515625 27.984375 \nQ 5.515625 40.671875 11.671875 48.328125 \nQ 17.828125 56 27.875 56 \nQ 33.9375 56 38.28125 53.609375 \nQ 42.625 51.21875 45.40625 46.390625 \nL 45.40625 54.6875 \nL 54.390625 54.6875 \nz\n\" id=\"DejaVuSans-103\"/>\n      <path d=\"M 8.5 21.578125 \nL 8.5 54.6875 \nL 17.484375 54.6875 \nL 17.484375 21.921875 \nQ 17.484375 14.15625 20.5 10.265625 \nQ 23.53125 6.390625 29.59375 6.390625 \nQ 36.859375 6.390625 41.078125 11.03125 \nQ 45.3125 15.671875 45.3125 23.6875 \nL 45.3125 54.6875 \nL 54.296875 54.6875 \nL 54.296875 0 \nL 45.3125 0 \nL 45.3125 8.40625 \nQ 42.046875 3.421875 37.71875 1 \nQ 33.40625 -1.421875 27.6875 -1.421875 \nQ 18.265625 -1.421875 13.375 4.4375 \nQ 8.5 10.296875 8.5 21.578125 \nz\nM 31.109375 56 \nz\n\" id=\"DejaVuSans-117\"/>\n      <path d=\"M 56.203125 29.59375 \nL 56.203125 25.203125 \nL 14.890625 25.203125 \nQ 15.484375 15.921875 20.484375 11.0625 \nQ 25.484375 6.203125 34.421875 6.203125 \nQ 39.59375 6.203125 44.453125 7.46875 \nQ 49.3125 8.734375 54.109375 11.28125 \nL 54.109375 2.78125 \nQ 49.265625 0.734375 44.1875 -0.34375 \nQ 39.109375 -1.421875 33.890625 -1.421875 \nQ 20.796875 -1.421875 13.15625 6.1875 \nQ 5.515625 13.8125 5.515625 26.8125 \nQ 5.515625 40.234375 12.765625 48.109375 \nQ 20.015625 56 32.328125 56 \nQ 43.359375 56 49.78125 48.890625 \nQ 56.203125 41.796875 56.203125 29.59375 \nz\nM 47.21875 32.234375 \nQ 47.125 39.59375 43.09375 43.984375 \nQ 39.0625 48.390625 32.421875 48.390625 \nQ 24.90625 48.390625 20.390625 44.140625 \nQ 15.875 39.890625 15.1875 32.171875 \nz\n\" id=\"DejaVuSans-101\"/>\n      <path d=\"M 41.109375 46.296875 \nQ 39.59375 47.171875 37.8125 47.578125 \nQ 36.03125 48 33.890625 48 \nQ 26.265625 48 22.1875 43.046875 \nQ 18.109375 38.09375 18.109375 28.8125 \nL 18.109375 0 \nL 9.078125 0 \nL 9.078125 54.6875 \nL 18.109375 54.6875 \nL 18.109375 46.1875 \nQ 20.953125 51.171875 25.484375 53.578125 \nQ 30.03125 56 36.53125 56 \nQ 37.453125 56 38.578125 55.875 \nQ 39.703125 55.765625 41.0625 55.515625 \nz\n\" id=\"DejaVuSans-114\"/>\n      <path id=\"DejaVuSans-32\"/>\n      <path d=\"M 45.40625 46.390625 \nL 45.40625 75.984375 \nL 54.390625 75.984375 \nL 54.390625 0 \nL 45.40625 0 \nL 45.40625 8.203125 \nQ 42.578125 3.328125 38.25 0.953125 \nQ 33.9375 -1.421875 27.875 -1.421875 \nQ 17.96875 -1.421875 11.734375 6.484375 \nQ 5.515625 14.40625 5.515625 27.296875 \nQ 5.515625 40.1875 11.734375 48.09375 \nQ 17.96875 56 27.875 56 \nQ 33.9375 56 38.25 53.625 \nQ 42.578125 51.265625 45.40625 46.390625 \nz\nM 14.796875 27.296875 \nQ 14.796875 17.390625 18.875 11.75 \nQ 22.953125 6.109375 30.078125 6.109375 \nQ 37.203125 6.109375 41.296875 11.75 \nQ 45.40625 17.390625 45.40625 27.296875 \nQ 45.40625 37.203125 41.296875 42.84375 \nQ 37.203125 48.484375 30.078125 48.484375 \nQ 22.953125 48.484375 18.875 42.84375 \nQ 14.796875 37.203125 14.796875 27.296875 \nz\n\" id=\"DejaVuSans-100\"/>\n      <path d=\"M 9.421875 75.984375 \nL 18.40625 75.984375 \nL 18.40625 0 \nL 9.421875 0 \nz\n\" id=\"DejaVuSans-108\"/>\n      <path d=\"M 34.28125 27.484375 \nQ 23.390625 27.484375 19.1875 25 \nQ 14.984375 22.515625 14.984375 16.5 \nQ 14.984375 11.71875 18.140625 8.90625 \nQ 21.296875 6.109375 26.703125 6.109375 \nQ 34.1875 6.109375 38.703125 11.40625 \nQ 43.21875 16.703125 43.21875 25.484375 \nL 43.21875 27.484375 \nz\nM 52.203125 31.203125 \nL 52.203125 0 \nL 43.21875 0 \nL 43.21875 8.296875 \nQ 40.140625 3.328125 35.546875 0.953125 \nQ 30.953125 -1.421875 24.3125 -1.421875 \nQ 15.921875 -1.421875 10.953125 3.296875 \nQ 6 8.015625 6 15.921875 \nQ 6 25.140625 12.171875 29.828125 \nQ 18.359375 34.515625 30.609375 34.515625 \nL 43.21875 34.515625 \nL 43.21875 35.40625 \nQ 43.21875 41.609375 39.140625 45 \nQ 35.0625 48.390625 27.6875 48.390625 \nQ 23 48.390625 18.546875 47.265625 \nQ 14.109375 46.140625 10.015625 43.890625 \nL 10.015625 52.203125 \nQ 14.9375 54.109375 19.578125 55.046875 \nQ 24.21875 56 28.609375 56 \nQ 40.484375 56 46.34375 49.84375 \nQ 52.203125 43.703125 52.203125 31.203125 \nz\n\" id=\"DejaVuSans-97\"/>\n      <path d=\"M 18.109375 8.203125 \nL 18.109375 -20.796875 \nL 9.078125 -20.796875 \nL 9.078125 54.6875 \nL 18.109375 54.6875 \nL 18.109375 46.390625 \nQ 20.953125 51.265625 25.265625 53.625 \nQ 29.59375 56 35.59375 56 \nQ 45.5625 56 51.78125 48.09375 \nQ 58.015625 40.1875 58.015625 27.296875 \nQ 58.015625 14.40625 51.78125 6.484375 \nQ 45.5625 -1.421875 35.59375 -1.421875 \nQ 29.59375 -1.421875 25.265625 0.953125 \nQ 20.953125 3.328125 18.109375 8.203125 \nz\nM 48.6875 27.296875 \nQ 48.6875 37.203125 44.609375 42.84375 \nQ 40.53125 48.484375 33.40625 48.484375 \nQ 26.265625 48.484375 22.1875 42.84375 \nQ 18.109375 37.203125 18.109375 27.296875 \nQ 18.109375 17.390625 22.1875 11.75 \nQ 26.265625 6.109375 33.40625 6.109375 \nQ 40.53125 6.109375 44.609375 11.75 \nQ 48.6875 17.390625 48.6875 27.296875 \nz\n\" id=\"DejaVuSans-112\"/>\n      <path d=\"M 18.3125 70.21875 \nL 18.3125 54.6875 \nL 36.8125 54.6875 \nL 36.8125 47.703125 \nL 18.3125 47.703125 \nL 18.3125 18.015625 \nQ 18.3125 11.328125 20.140625 9.421875 \nQ 21.96875 7.515625 27.59375 7.515625 \nL 36.8125 7.515625 \nL 36.8125 0 \nL 27.59375 0 \nQ 17.1875 0 13.234375 3.875 \nQ 9.28125 7.765625 9.28125 18.015625 \nL 9.28125 47.703125 \nL 2.6875 47.703125 \nL 2.6875 54.6875 \nL 9.28125 54.6875 \nL 9.28125 70.21875 \nz\n\" id=\"DejaVuSans-116\"/>\n      <path d=\"M 9.421875 54.6875 \nL 18.40625 54.6875 \nL 18.40625 0 \nL 9.421875 0 \nz\nM 9.421875 75.984375 \nL 18.40625 75.984375 \nL 18.40625 64.59375 \nL 9.421875 64.59375 \nz\n\" id=\"DejaVuSans-105\"/>\n      <path d=\"M 31 75.875 \nQ 24.46875 64.65625 21.28125 53.65625 \nQ 18.109375 42.671875 18.109375 31.390625 \nQ 18.109375 20.125 21.3125 9.0625 \nQ 24.515625 -2 31 -13.1875 \nL 23.1875 -13.1875 \nQ 15.875 -1.703125 12.234375 9.375 \nQ 8.59375 20.453125 8.59375 31.390625 \nQ 8.59375 42.28125 12.203125 53.3125 \nQ 15.828125 64.359375 23.1875 75.875 \nz\n\" id=\"DejaVuSans-40\"/>\n      <path d=\"M 52 44.1875 \nQ 55.375 50.25 60.0625 53.125 \nQ 64.75 56 71.09375 56 \nQ 79.640625 56 84.28125 50.015625 \nQ 88.921875 44.046875 88.921875 33.015625 \nL 88.921875 0 \nL 79.890625 0 \nL 79.890625 32.71875 \nQ 79.890625 40.578125 77.09375 44.375 \nQ 74.3125 48.1875 68.609375 48.1875 \nQ 61.625 48.1875 57.5625 43.546875 \nQ 53.515625 38.921875 53.515625 30.90625 \nL 53.515625 0 \nL 44.484375 0 \nL 44.484375 32.71875 \nQ 44.484375 40.625 41.703125 44.40625 \nQ 38.921875 48.1875 33.109375 48.1875 \nQ 26.21875 48.1875 22.15625 43.53125 \nQ 18.109375 38.875 18.109375 30.90625 \nL 18.109375 0 \nL 9.078125 0 \nL 9.078125 54.6875 \nL 18.109375 54.6875 \nL 18.109375 46.1875 \nQ 21.1875 51.21875 25.484375 53.609375 \nQ 29.78125 56 35.6875 56 \nQ 41.65625 56 45.828125 52.96875 \nQ 50 49.953125 52 44.1875 \nz\n\" id=\"DejaVuSans-109\"/>\n      <path d=\"M 8.015625 75.875 \nL 15.828125 75.875 \nQ 23.140625 64.359375 26.78125 53.3125 \nQ 30.421875 42.28125 30.421875 31.390625 \nQ 30.421875 20.453125 26.78125 9.375 \nQ 23.140625 -1.703125 15.828125 -13.1875 \nL 8.015625 -13.1875 \nQ 14.5 -2 17.703125 9.0625 \nQ 20.90625 20.125 20.90625 31.390625 \nQ 20.90625 42.671875 17.703125 53.65625 \nQ 14.5 64.65625 8.015625 75.875 \nz\n\" id=\"DejaVuSans-41\"/>\n     </defs>\n     <g transform=\"translate(124.480469 252.916562)scale(0.1 -0.1)\">\n      <use xlink:href=\"#DejaVuSans-76\"/>\n      <use x=\"53.962891\" xlink:href=\"#DejaVuSans-111\"/>\n      <use x=\"115.144531\" xlink:href=\"#DejaVuSans-110\"/>\n      <use x=\"178.523438\" xlink:href=\"#DejaVuSans-103\"/>\n      <use x=\"242\" xlink:href=\"#DejaVuSans-117\"/>\n      <use x=\"305.378906\" xlink:href=\"#DejaVuSans-101\"/>\n      <use x=\"366.902344\" xlink:href=\"#DejaVuSans-117\"/>\n      <use x=\"430.28125\" xlink:href=\"#DejaVuSans-114\"/>\n      <use x=\"471.394531\" xlink:href=\"#DejaVuSans-32\"/>\n      <use x=\"503.181641\" xlink:href=\"#DejaVuSans-100\"/>\n      <use x=\"566.658203\" xlink:href=\"#DejaVuSans-101\"/>\n      <use x=\"628.181641\" xlink:href=\"#DejaVuSans-32\"/>\n      <use x=\"659.96875\" xlink:href=\"#DejaVuSans-108\"/>\n      <use x=\"687.751953\" xlink:href=\"#DejaVuSans-97\"/>\n      <use x=\"749.03125\" xlink:href=\"#DejaVuSans-32\"/>\n      <use x=\"780.818359\" xlink:href=\"#DejaVuSans-112\"/>\n      <use x=\"844.294922\" xlink:href=\"#DejaVuSans-97\"/>\n      <use x=\"905.574219\" xlink:href=\"#DejaVuSans-108\"/>\n      <use x=\"933.357422\" xlink:href=\"#DejaVuSans-101\"/>\n      <use x=\"994.880859\" xlink:href=\"#DejaVuSans-116\"/>\n      <use x=\"1034.089844\" xlink:href=\"#DejaVuSans-116\"/>\n      <use x=\"1073.298828\" xlink:href=\"#DejaVuSans-101\"/>\n      <use x=\"1134.822266\" xlink:href=\"#DejaVuSans-32\"/>\n      <use x=\"1166.609375\" xlink:href=\"#DejaVuSans-110\"/>\n      <use x=\"1229.988281\" xlink:href=\"#DejaVuSans-97\"/>\n      <use x=\"1291.267578\" xlink:href=\"#DejaVuSans-116\"/>\n      <use x=\"1330.476562\" xlink:href=\"#DejaVuSans-97\"/>\n      <use x=\"1391.755859\" xlink:href=\"#DejaVuSans-116\"/>\n      <use x=\"1430.964844\" xlink:href=\"#DejaVuSans-111\"/>\n      <use x=\"1492.146484\" xlink:href=\"#DejaVuSans-105\"/>\n      <use x=\"1519.929688\" xlink:href=\"#DejaVuSans-114\"/>\n      <use x=\"1558.792969\" xlink:href=\"#DejaVuSans-101\"/>\n      <use x=\"1620.316406\" xlink:href=\"#DejaVuSans-32\"/>\n      <use x=\"1652.103516\" xlink:href=\"#DejaVuSans-40\"/>\n      <use x=\"1691.117188\" xlink:href=\"#DejaVuSans-109\"/>\n      <use x=\"1788.529297\" xlink:href=\"#DejaVuSans-109\"/>\n      <use x=\"1885.941406\" xlink:href=\"#DejaVuSans-41\"/>\n     </g>\n    </g>\n   </g>\n   <g id=\"matplotlib.axis_2\">\n    <g id=\"ytick_1\">\n     <g id=\"line2d_8\">\n      <defs>\n       <path d=\"M 0 0 \nL -3.5 0 \n\" id=\"m019c56ad9d\" style=\"stroke:#000000;stroke-width:0.8;\"/>\n      </defs>\n      <g>\n       <use style=\"stroke:#000000;stroke-width:0.8;\" x=\"53.328125\" xlink:href=\"#m019c56ad9d\" y=\"219.858419\"/>\n      </g>\n     </g>\n     <g id=\"text_9\">\n      <!-- 2500 -->\n      <defs>\n       <path d=\"M 10.796875 72.90625 \nL 49.515625 72.90625 \nL 49.515625 64.59375 \nL 19.828125 64.59375 \nL 19.828125 46.734375 \nQ 21.96875 47.46875 24.109375 47.828125 \nQ 26.265625 48.1875 28.421875 48.1875 \nQ 40.625 48.1875 47.75 41.5 \nQ 54.890625 34.8125 54.890625 23.390625 \nQ 54.890625 11.625 47.5625 5.09375 \nQ 40.234375 -1.421875 26.90625 -1.421875 \nQ 22.3125 -1.421875 17.546875 -0.640625 \nQ 12.796875 0.140625 7.71875 1.703125 \nL 7.71875 11.625 \nQ 12.109375 9.234375 16.796875 8.0625 \nQ 21.484375 6.890625 26.703125 6.890625 \nQ 35.15625 6.890625 40.078125 11.328125 \nQ 45.015625 15.765625 45.015625 23.390625 \nQ 45.015625 31 40.078125 35.4375 \nQ 35.15625 39.890625 26.703125 39.890625 \nQ 22.75 39.890625 18.8125 39.015625 \nQ 14.890625 38.140625 10.796875 36.28125 \nz\n\" id=\"DejaVuSans-53\"/>\n      </defs>\n      <g transform=\"translate(20.878125 223.657638)scale(0.1 -0.1)\">\n       <use xlink:href=\"#DejaVuSans-50\"/>\n       <use x=\"63.623047\" xlink:href=\"#DejaVuSans-53\"/>\n       <use x=\"127.246094\" xlink:href=\"#DejaVuSans-48\"/>\n       <use x=\"190.869141\" xlink:href=\"#DejaVuSans-48\"/>\n      </g>\n     </g>\n    </g>\n    <g id=\"ytick_2\">\n     <g id=\"line2d_9\">\n      <g>\n       <use style=\"stroke:#000000;stroke-width:0.8;\" x=\"53.328125\" xlink:href=\"#m019c56ad9d\" y=\"193.177526\"/>\n      </g>\n     </g>\n     <g id=\"text_10\">\n      <!-- 3000 -->\n      <g transform=\"translate(20.878125 196.976745)scale(0.1 -0.1)\">\n       <use xlink:href=\"#DejaVuSans-51\"/>\n       <use x=\"63.623047\" xlink:href=\"#DejaVuSans-48\"/>\n       <use x=\"127.246094\" xlink:href=\"#DejaVuSans-48\"/>\n       <use x=\"190.869141\" xlink:href=\"#DejaVuSans-48\"/>\n      </g>\n     </g>\n    </g>\n    <g id=\"ytick_3\">\n     <g id=\"line2d_10\">\n      <g>\n       <use style=\"stroke:#000000;stroke-width:0.8;\" x=\"53.328125\" xlink:href=\"#m019c56ad9d\" y=\"166.496634\"/>\n      </g>\n     </g>\n     <g id=\"text_11\">\n      <!-- 3500 -->\n      <g transform=\"translate(20.878125 170.295853)scale(0.1 -0.1)\">\n       <use xlink:href=\"#DejaVuSans-51\"/>\n       <use x=\"63.623047\" xlink:href=\"#DejaVuSans-53\"/>\n       <use x=\"127.246094\" xlink:href=\"#DejaVuSans-48\"/>\n       <use x=\"190.869141\" xlink:href=\"#DejaVuSans-48\"/>\n      </g>\n     </g>\n    </g>\n    <g id=\"ytick_4\">\n     <g id=\"line2d_11\">\n      <g>\n       <use style=\"stroke:#000000;stroke-width:0.8;\" x=\"53.328125\" xlink:href=\"#m019c56ad9d\" y=\"139.815742\"/>\n      </g>\n     </g>\n     <g id=\"text_12\">\n      <!-- 4000 -->\n      <defs>\n       <path d=\"M 37.796875 64.3125 \nL 12.890625 25.390625 \nL 37.796875 25.390625 \nz\nM 35.203125 72.90625 \nL 47.609375 72.90625 \nL 47.609375 25.390625 \nL 58.015625 25.390625 \nL 58.015625 17.1875 \nL 47.609375 17.1875 \nL 47.609375 0 \nL 37.796875 0 \nL 37.796875 17.1875 \nL 4.890625 17.1875 \nL 4.890625 26.703125 \nz\n\" id=\"DejaVuSans-52\"/>\n      </defs>\n      <g transform=\"translate(20.878125 143.61496)scale(0.1 -0.1)\">\n       <use xlink:href=\"#DejaVuSans-52\"/>\n       <use x=\"63.623047\" xlink:href=\"#DejaVuSans-48\"/>\n       <use x=\"127.246094\" xlink:href=\"#DejaVuSans-48\"/>\n       <use x=\"190.869141\" xlink:href=\"#DejaVuSans-48\"/>\n      </g>\n     </g>\n    </g>\n    <g id=\"ytick_5\">\n     <g id=\"line2d_12\">\n      <g>\n       <use style=\"stroke:#000000;stroke-width:0.8;\" x=\"53.328125\" xlink:href=\"#m019c56ad9d\" y=\"113.134849\"/>\n      </g>\n     </g>\n     <g id=\"text_13\">\n      <!-- 4500 -->\n      <g transform=\"translate(20.878125 116.934068)scale(0.1 -0.1)\">\n       <use xlink:href=\"#DejaVuSans-52\"/>\n       <use x=\"63.623047\" xlink:href=\"#DejaVuSans-53\"/>\n       <use x=\"127.246094\" xlink:href=\"#DejaVuSans-48\"/>\n       <use x=\"190.869141\" xlink:href=\"#DejaVuSans-48\"/>\n      </g>\n     </g>\n    </g>\n    <g id=\"ytick_6\">\n     <g id=\"line2d_13\">\n      <g>\n       <use style=\"stroke:#000000;stroke-width:0.8;\" x=\"53.328125\" xlink:href=\"#m019c56ad9d\" y=\"86.453957\"/>\n      </g>\n     </g>\n     <g id=\"text_14\">\n      <!-- 5000 -->\n      <g transform=\"translate(20.878125 90.253175)scale(0.1 -0.1)\">\n       <use xlink:href=\"#DejaVuSans-53\"/>\n       <use x=\"63.623047\" xlink:href=\"#DejaVuSans-48\"/>\n       <use x=\"127.246094\" xlink:href=\"#DejaVuSans-48\"/>\n       <use x=\"190.869141\" xlink:href=\"#DejaVuSans-48\"/>\n      </g>\n     </g>\n    </g>\n    <g id=\"ytick_7\">\n     <g id=\"line2d_14\">\n      <g>\n       <use style=\"stroke:#000000;stroke-width:0.8;\" x=\"53.328125\" xlink:href=\"#m019c56ad9d\" y=\"59.773064\"/>\n      </g>\n     </g>\n     <g id=\"text_15\">\n      <!-- 5500 -->\n      <g transform=\"translate(20.878125 63.572283)scale(0.1 -0.1)\">\n       <use xlink:href=\"#DejaVuSans-53\"/>\n       <use x=\"63.623047\" xlink:href=\"#DejaVuSans-53\"/>\n       <use x=\"127.246094\" xlink:href=\"#DejaVuSans-48\"/>\n       <use x=\"190.869141\" xlink:href=\"#DejaVuSans-48\"/>\n      </g>\n     </g>\n    </g>\n    <g id=\"ytick_8\">\n     <g id=\"line2d_15\">\n      <g>\n       <use style=\"stroke:#000000;stroke-width:0.8;\" x=\"53.328125\" xlink:href=\"#m019c56ad9d\" y=\"33.092172\"/>\n      </g>\n     </g>\n     <g id=\"text_16\">\n      <!-- 6000 -->\n      <defs>\n       <path d=\"M 33.015625 40.375 \nQ 26.375 40.375 22.484375 35.828125 \nQ 18.609375 31.296875 18.609375 23.390625 \nQ 18.609375 15.53125 22.484375 10.953125 \nQ 26.375 6.390625 33.015625 6.390625 \nQ 39.65625 6.390625 43.53125 10.953125 \nQ 47.40625 15.53125 47.40625 23.390625 \nQ 47.40625 31.296875 43.53125 35.828125 \nQ 39.65625 40.375 33.015625 40.375 \nz\nM 52.59375 71.296875 \nL 52.59375 62.3125 \nQ 48.875 64.0625 45.09375 64.984375 \nQ 41.3125 65.921875 37.59375 65.921875 \nQ 27.828125 65.921875 22.671875 59.328125 \nQ 17.53125 52.734375 16.796875 39.40625 \nQ 19.671875 43.65625 24.015625 45.921875 \nQ 28.375 48.1875 33.59375 48.1875 \nQ 44.578125 48.1875 50.953125 41.515625 \nQ 57.328125 34.859375 57.328125 23.390625 \nQ 57.328125 12.15625 50.6875 5.359375 \nQ 44.046875 -1.421875 33.015625 -1.421875 \nQ 20.359375 -1.421875 13.671875 8.265625 \nQ 6.984375 17.96875 6.984375 36.375 \nQ 6.984375 53.65625 15.1875 63.9375 \nQ 23.390625 74.21875 37.203125 74.21875 \nQ 40.921875 74.21875 44.703125 73.484375 \nQ 48.484375 72.75 52.59375 71.296875 \nz\n\" id=\"DejaVuSans-54\"/>\n      </defs>\n      <g transform=\"translate(20.878125 36.891391)scale(0.1 -0.1)\">\n       <use xlink:href=\"#DejaVuSans-54\"/>\n       <use x=\"63.623047\" xlink:href=\"#DejaVuSans-48\"/>\n       <use x=\"127.246094\" xlink:href=\"#DejaVuSans-48\"/>\n       <use x=\"190.869141\" xlink:href=\"#DejaVuSans-48\"/>\n      </g>\n     </g>\n    </g>\n    <g id=\"text_17\">\n     <!-- Poids (g) -->\n     <defs>\n      <path d=\"M 19.671875 64.796875 \nL 19.671875 37.40625 \nL 32.078125 37.40625 \nQ 38.96875 37.40625 42.71875 40.96875 \nQ 46.484375 44.53125 46.484375 51.125 \nQ 46.484375 57.671875 42.71875 61.234375 \nQ 38.96875 64.796875 32.078125 64.796875 \nz\nM 9.8125 72.90625 \nL 32.078125 72.90625 \nQ 44.34375 72.90625 50.609375 67.359375 \nQ 56.890625 61.8125 56.890625 51.125 \nQ 56.890625 40.328125 50.609375 34.8125 \nQ 44.34375 29.296875 32.078125 29.296875 \nL 19.671875 29.296875 \nL 19.671875 0 \nL 9.8125 0 \nz\n\" id=\"DejaVuSans-80\"/>\n      <path d=\"M 44.28125 53.078125 \nL 44.28125 44.578125 \nQ 40.484375 46.53125 36.375 47.5 \nQ 32.28125 48.484375 27.875 48.484375 \nQ 21.1875 48.484375 17.84375 46.4375 \nQ 14.5 44.390625 14.5 40.28125 \nQ 14.5 37.15625 16.890625 35.375 \nQ 19.28125 33.59375 26.515625 31.984375 \nL 29.59375 31.296875 \nQ 39.15625 29.25 43.1875 25.515625 \nQ 47.21875 21.78125 47.21875 15.09375 \nQ 47.21875 7.46875 41.1875 3.015625 \nQ 35.15625 -1.421875 24.609375 -1.421875 \nQ 20.21875 -1.421875 15.453125 -0.5625 \nQ 10.6875 0.296875 5.421875 2 \nL 5.421875 11.28125 \nQ 10.40625 8.6875 15.234375 7.390625 \nQ 20.0625 6.109375 24.8125 6.109375 \nQ 31.15625 6.109375 34.5625 8.28125 \nQ 37.984375 10.453125 37.984375 14.40625 \nQ 37.984375 18.0625 35.515625 20.015625 \nQ 33.0625 21.96875 24.703125 23.78125 \nL 21.578125 24.515625 \nQ 13.234375 26.265625 9.515625 29.90625 \nQ 5.8125 33.546875 5.8125 39.890625 \nQ 5.8125 47.609375 11.28125 51.796875 \nQ 16.75 56 26.8125 56 \nQ 31.78125 56 36.171875 55.265625 \nQ 40.578125 54.546875 44.28125 53.078125 \nz\n\" id=\"DejaVuSans-115\"/>\n     </defs>\n     <g transform=\"translate(14.798438 137.645781)rotate(-90)scale(0.1 -0.1)\">\n      <use xlink:href=\"#DejaVuSans-80\"/>\n      <use x=\"56.677734\" xlink:href=\"#DejaVuSans-111\"/>\n      <use x=\"117.859375\" xlink:href=\"#DejaVuSans-105\"/>\n      <use x=\"145.642578\" xlink:href=\"#DejaVuSans-100\"/>\n      <use x=\"209.119141\" xlink:href=\"#DejaVuSans-115\"/>\n      <use x=\"261.21875\" xlink:href=\"#DejaVuSans-32\"/>\n      <use x=\"293.005859\" xlink:href=\"#DejaVuSans-40\"/>\n      <use x=\"332.019531\" xlink:href=\"#DejaVuSans-103\"/>\n      <use x=\"395.496094\" xlink:href=\"#DejaVuSans-41\"/>\n     </g>\n    </g>\n   </g>\n   <g id=\"line2d_16\">\n    <path clip-path=\"url(#pe369c74d82)\" d=\"M 68.546307 214.756364 \nL 372.909943 34.852603 \n\" style=\"fill:none;stroke:#ffa500;stroke-linecap:square;stroke-width:2;\"/>\n   </g>\n   <g id=\"patch_3\">\n    <path d=\"M 53.328125 224.64 \nL 53.328125 7.2 \n\" style=\"fill:none;stroke:#000000;stroke-linecap:square;stroke-linejoin:miter;stroke-width:0.8;\"/>\n   </g>\n   <g id=\"patch_4\">\n    <path d=\"M 388.128125 224.64 \nL 388.128125 7.2 \n\" style=\"fill:none;stroke:#000000;stroke-linecap:square;stroke-linejoin:miter;stroke-width:0.8;\"/>\n   </g>\n   <g id=\"patch_5\">\n    <path d=\"M 53.328125 224.64 \nL 388.128125 224.64 \n\" style=\"fill:none;stroke:#000000;stroke-linecap:square;stroke-linejoin:miter;stroke-width:0.8;\"/>\n   </g>\n   <g id=\"patch_6\">\n    <path d=\"M 53.328125 7.2 \nL 388.128125 7.2 \n\" style=\"fill:none;stroke:#000000;stroke-linecap:square;stroke-linejoin:miter;stroke-width:0.8;\"/>\n   </g>\n   <g id=\"legend_1\">\n    <g id=\"patch_7\">\n     <path d=\"M 60.328125 44.55625 \nL 136.3375 44.55625 \nQ 138.3375 44.55625 138.3375 42.55625 \nL 138.3375 14.2 \nQ 138.3375 12.2 136.3375 12.2 \nL 60.328125 12.2 \nQ 58.328125 12.2 58.328125 14.2 \nL 58.328125 42.55625 \nQ 58.328125 44.55625 60.328125 44.55625 \nz\n\" style=\"fill:#ffffff;opacity:0.8;stroke:#cccccc;stroke-linejoin:miter;\"/>\n    </g>\n    <g id=\"line2d_17\">\n     <path d=\"M 62.328125 20.298437 \nL 82.328125 20.298437 \n\" style=\"fill:none;stroke:#ffa500;stroke-linecap:square;stroke-width:2;\"/>\n    </g>\n    <g id=\"line2d_18\"/>\n    <g id=\"text_18\">\n     <!-- Modèle -->\n     <defs>\n      <path d=\"M 9.8125 72.90625 \nL 24.515625 72.90625 \nL 43.109375 23.296875 \nL 61.8125 72.90625 \nL 76.515625 72.90625 \nL 76.515625 0 \nL 66.890625 0 \nL 66.890625 64.015625 \nL 48.09375 14.015625 \nL 38.1875 14.015625 \nL 19.390625 64.015625 \nL 19.390625 0 \nL 9.8125 0 \nz\n\" id=\"DejaVuSans-77\"/>\n      <path d=\"M 56.203125 29.59375 \nL 56.203125 25.203125 \nL 14.890625 25.203125 \nQ 15.484375 15.921875 20.484375 11.0625 \nQ 25.484375 6.203125 34.421875 6.203125 \nQ 39.59375 6.203125 44.453125 7.46875 \nQ 49.3125 8.734375 54.109375 11.28125 \nL 54.109375 2.78125 \nQ 49.265625 0.734375 44.1875 -0.34375 \nQ 39.109375 -1.421875 33.890625 -1.421875 \nQ 20.796875 -1.421875 13.15625 6.1875 \nQ 5.515625 13.8125 5.515625 26.8125 \nQ 5.515625 40.234375 12.765625 48.109375 \nQ 20.015625 56 32.328125 56 \nQ 43.359375 56 49.78125 48.890625 \nQ 56.203125 41.796875 56.203125 29.59375 \nz\nM 47.21875 32.234375 \nQ 47.125 39.59375 43.09375 43.984375 \nQ 39.0625 48.390625 32.421875 48.390625 \nQ 24.90625 48.390625 20.390625 44.140625 \nQ 15.875 39.890625 15.1875 32.171875 \nz\nM 24.671875 79.984375 \nL 38.4375 61.71875 \nL 30.96875 61.71875 \nL 15.046875 79.984375 \nz\n\" id=\"DejaVuSans-232\"/>\n     </defs>\n     <g transform=\"translate(90.328125 23.798437)scale(0.1 -0.1)\">\n      <use xlink:href=\"#DejaVuSans-77\"/>\n      <use x=\"86.279297\" xlink:href=\"#DejaVuSans-111\"/>\n      <use x=\"147.460938\" xlink:href=\"#DejaVuSans-100\"/>\n      <use x=\"210.9375\" xlink:href=\"#DejaVuSans-232\"/>\n      <use x=\"272.460938\" xlink:href=\"#DejaVuSans-108\"/>\n      <use x=\"300.244141\" xlink:href=\"#DejaVuSans-101\"/>\n     </g>\n    </g>\n    <g id=\"PathCollection_2\">\n     <g>\n      <use style=\"fill:#1f77b4;stroke:#1f77b4;\" x=\"72.328125\" xlink:href=\"#m1b4bc62dca\" y=\"35.851562\"/>\n     </g>\n    </g>\n    <g id=\"text_19\">\n     <!-- Données -->\n     <defs>\n      <path d=\"M 19.671875 64.796875 \nL 19.671875 8.109375 \nL 31.59375 8.109375 \nQ 46.6875 8.109375 53.6875 14.9375 \nQ 60.6875 21.78125 60.6875 36.53125 \nQ 60.6875 51.171875 53.6875 57.984375 \nQ 46.6875 64.796875 31.59375 64.796875 \nz\nM 9.8125 72.90625 \nL 30.078125 72.90625 \nQ 51.265625 72.90625 61.171875 64.09375 \nQ 71.09375 55.28125 71.09375 36.53125 \nQ 71.09375 17.671875 61.125 8.828125 \nQ 51.171875 0 30.078125 0 \nL 9.8125 0 \nz\n\" id=\"DejaVuSans-68\"/>\n      <path d=\"M 56.203125 29.59375 \nL 56.203125 25.203125 \nL 14.890625 25.203125 \nQ 15.484375 15.921875 20.484375 11.0625 \nQ 25.484375 6.203125 34.421875 6.203125 \nQ 39.59375 6.203125 44.453125 7.46875 \nQ 49.3125 8.734375 54.109375 11.28125 \nL 54.109375 2.78125 \nQ 49.265625 0.734375 44.1875 -0.34375 \nQ 39.109375 -1.421875 33.890625 -1.421875 \nQ 20.796875 -1.421875 13.15625 6.1875 \nQ 5.515625 13.8125 5.515625 26.8125 \nQ 5.515625 40.234375 12.765625 48.109375 \nQ 20.015625 56 32.328125 56 \nQ 43.359375 56 49.78125 48.890625 \nQ 56.203125 41.796875 56.203125 29.59375 \nz\nM 47.21875 32.234375 \nQ 47.125 39.59375 43.09375 43.984375 \nQ 39.0625 48.390625 32.421875 48.390625 \nQ 24.90625 48.390625 20.390625 44.140625 \nQ 15.875 39.890625 15.1875 32.171875 \nz\nM 38.53125 79.984375 \nL 48.25 79.984375 \nL 32.34375 61.625 \nL 24.859375 61.625 \nz\n\" id=\"DejaVuSans-233\"/>\n     </defs>\n     <g transform=\"translate(90.328125 38.476562)scale(0.1 -0.1)\">\n      <use xlink:href=\"#DejaVuSans-68\"/>\n      <use x=\"77.001953\" xlink:href=\"#DejaVuSans-111\"/>\n      <use x=\"138.183594\" xlink:href=\"#DejaVuSans-110\"/>\n      <use x=\"201.5625\" xlink:href=\"#DejaVuSans-110\"/>\n      <use x=\"264.941406\" xlink:href=\"#DejaVuSans-233\"/>\n      <use x=\"326.464844\" xlink:href=\"#DejaVuSans-101\"/>\n      <use x=\"387.988281\" xlink:href=\"#DejaVuSans-115\"/>\n     </g>\n    </g>\n   </g>\n  </g>\n </g>\n <defs>\n  <clipPath id=\"pe369c74d82\">\n   <rect height=\"217.44\" width=\"334.8\" x=\"53.328125\" y=\"7.2\"/>\n  </clipPath>\n </defs>\n</svg>\n"
          },
          "metadata": {
            "tags": [],
            "needs_background": "light"
          }
        }
      ]
    },
    {
      "cell_type": "markdown",
      "metadata": {
        "id": "exIj7kLKcKFa"
      },
      "source": [
        "### Annexe 2 : Régression linéaire multivariée sans scikit-learn (forme close)"
      ]
    },
    {
      "cell_type": "markdown",
      "metadata": {
        "id": "PPw9KwXPcKFa"
      },
      "source": [
        "Nous allons maintenant utiliser nos trois variables.\n",
        "\n",
        "Pour simplifier les notations, nous allons ajouter une colonnes de 1 à notre matrice $X$ :\n",
        "\n",
        "$$\n",
        "\\underbrace{\n",
        "\\begin{bmatrix}\n",
        "    x_{11} & x_{12} & \\dots & x_{1p} \\\\\n",
        "    x_{21} & x_{22} & \\dots & x_{2p} \\\\\n",
        "    \\vdots & \\vdots & \\ddots & \\vdots \\\\\n",
        "    x_{n1} & x_{n2} & \\dots & x_{np}\n",
        "\\end{bmatrix}}_{X} \\to\n",
        "\\underbrace{\n",
        "\\begin{bmatrix}\n",
        "    1 & x_{11} & x_{12} & \\dots & x_{1p} \\\\\n",
        "    1 & x_{21} & x_{22} & \\dots & x_{2p} \\\\\n",
        "    \\vdots & \\vdots & \\vdots & \\ddots & \\vdots \\\\\n",
        "    1 & x_{n1} & x_{n2} & \\dots & x_{np}\n",
        "\\end{bmatrix}}_{\\text{$X$ with bias variable}}\n",
        "$$\n",
        "\n",
        "Ce qui nous permet de noter le modèle de la façon suivante :\n",
        "$f: \\boldsymbol{x} \\in \\mathbb{R}^{p+1} \\mapsto \\boldsymbol{\\beta}^\\top \\boldsymbol{x}$ with $\\boldsymbol{\\beta} \\in \\mathbb{R}^{p+1}$."
      ]
    },
    {
      "cell_type": "code",
      "metadata": {
        "id": "k_rc6OJfcKFa"
      },
      "source": [
        "X_ones = np.hstack((np.ones((X_train.shape[0], 1)), X_train))"
      ],
      "execution_count": null,
      "outputs": []
    },
    {
      "cell_type": "markdown",
      "metadata": {
        "id": "h699VXwjcKFa"
      },
      "source": [
        "La minimisation du risque empirique s'écrit alors\n",
        "$$\\boldsymbol{\\beta}^* \\in \\arg\\min \\frac{1}{n}\\sum_{i=1}^n \\left(y_i - \\boldsymbol{\\beta}^\\top \\boldsymbol{x}_i \\right)^2 = \\frac{1}{n}\\left(\\boldsymbol{y} - X \\boldsymbol\\beta\\right)^\\top(\\boldsymbol{y} - X\\boldsymbol\\beta)$$\n",
        "\n",
        "C'est un problème d'optimisation convexe, que l'on résout en annulant le gradient de la fonction à minimiser.\n",
        "\n",
        "On obtient alors que la solution $\\boldsymbol\\beta^*$ vérifie\n",
        "$(X^\\top X) \\boldsymbol\\beta^* =  X^\\top \\boldsymbol{y}.$\n",
        "\n",
        "__Si $X^\\top X$ est inversible__, on obtient une unique solution\n",
        "$\\boldsymbol\\beta^* = (X^\\top X)^{-1} X^\\top \\boldsymbol{y}.$"
      ]
    },
    {
      "cell_type": "code",
      "metadata": {
        "id": "zLIP5K1NcKFa"
      },
      "source": [
        "beta_star = np.dot(np.linalg.inv(np.dot(X_ones.T, X_ones)), np.dot(X_ones.T, y_train))"
      ],
      "execution_count": null,
      "outputs": []
    },
    {
      "cell_type": "code",
      "metadata": {
        "colab": {
          "base_uri": "https://localhost:8080/"
        },
        "id": "z09RjycScKFa",
        "outputId": "a3b5329f-3fa3-4623-e4d5-78d862a78ce4"
      },
      "source": [
        "print(\"Le poids (g) d'un manchot est prédit par %.2f + %.2f x bill_length_mm + %.2f x bill_depth_mm + %.2f x flipper_length_mm\" % (tuple(beta_star)))"
      ],
      "execution_count": null,
      "outputs": [
        {
          "output_type": "stream",
          "text": [
            "Le poids (g) d'un manchot est prédit par -6525.36 + 1.94 x bill_length_mm + 18.56 x bill_depth_mm + 51.39 x flipper_length_mm\n"
          ],
          "name": "stdout"
        }
      ]
    },
    {
      "cell_type": "markdown",
      "metadata": {
        "id": "Deb_RwKocKFb"
      },
      "source": [
        "### Annexe 3 : Régression logistique sans scikit-learn"
      ]
    },
    {
      "cell_type": "markdown",
      "metadata": {
        "id": "kgF93dhYcKFb"
      },
      "source": [
        "Dans le cas de la régression logistique, la minimisation du risque empirique revient à minimiser\n",
        "\n",
        "$$J(\\boldsymbol\\beta) = \\frac1n \\sum_{i=1}^n - y_i \\log(\\sigma(\\boldsymbol\\beta^\\top \\boldsymbol{x}_i))- (1-y_i) \\log(1-\\sigma(\\boldsymbol\\beta^\\top \\boldsymbol{x}_i))  $$\n",
        "\n",
        "Comme $\\sigma^\\prime(u) = \\sigma(u) (1-\\sigma(u))$, on obtient comme gradient pour $J$ :\n",
        "$$\\nabla J(\\boldsymbol\\beta) = - \\frac1n \\sum_{i=1}^n \\left(y_i - \\sigma(\\boldsymbol\\beta^\\top \\boldsymbol{x}_i) \\right) \\boldsymbol{x}_i$$\n",
        "\n",
        "Cependant, il n'existe pas de solution explcite à \n",
        "$$\\frac1n \\sum_{i=1}^n \\left(y_i - \\sigma(\\boldsymbol\\beta^\\top \\boldsymbol{x}_i) \\right) \\boldsymbol{x}_i = 0,$$\n",
        "we do not have a closed-form solution.\n",
        "\n",
        "Nous avons donc recours à la méthode du gradient.\n",
        "\n",
        "La __méthode du gradient__ permet d'obtenir une solution en progressant itérativement dans la direction opposée au gradient de la fonction à minimiser. Plus précisément, à chaque itération $t$, le vecteur $\\boldsymbol\\beta$ est mis à jour par :\n",
        "$$\\boldsymbol\\beta^{(t+1)} = \\boldsymbol\\beta^{(t)} - \\alpha \\nabla_{\\boldsymbol\\beta} J(\\boldsymbol\\beta^{(t)}).$$\n",
        "où $J: \\mathbb{R}^d \\rightarrow \\mathbb{R} $ est la fonction à minimiser.\n",
        "\n",
        "Dans le cas de la régression linéaire, $d=p+1$ et $J(\\boldsymbol\\beta) = \\frac{1}{n}\\left(\\boldsymbol{y} - X \\boldsymbol\\beta\\right)^\\top(\\boldsymbol{y} - X\\boldsymbol\\beta).$\n",
        "\n",
        "$\\alpha$ est le __pas__ de la descente de gradient ; en apprentissage, on parle de __vitesse d'apprentissage__ (_learning rate_ en anglais).\n",
        "\n",
        "On arrête d'itérer :\n",
        "* soit quand un nombre prescrit d'itérations est atteint ;\n",
        "* soit quand la norme du gradient est moins qu'un seuil prescrit, appelé __tolérance__."
      ]
    },
    {
      "cell_type": "markdown",
      "metadata": {
        "id": "UrnoK9o3cKFb"
      },
      "source": [
        "C'est la méthode que nous allons mettre en œuvre."
      ]
    },
    {
      "cell_type": "markdown",
      "metadata": {
        "id": "CHIIl9fHcKFb"
      },
      "source": [
        "#### Calcul du gradient"
      ]
    },
    {
      "cell_type": "code",
      "metadata": {
        "id": "WdiQ4qU6cKFb"
      },
      "source": [
        "def sigmoid(u):\n",
        "    \"\"\"\n",
        "    Fonction sigmoide.\n",
        "    \n",
        "    Paramètres :\n",
        "    ------------\n",
        "    u: float\n",
        "       Nombre réel.\n",
        "    \"\"\"\n",
        "    return (1./(1+np.exp(-u)))"
      ],
      "execution_count": null,
      "outputs": []
    },
    {
      "cell_type": "code",
      "metadata": {
        "id": "oYvWUAkrcKFc"
      },
      "source": [
        "def logistic_loss(X, y, b_vector):\n",
        "    \"\"\"\n",
        "    Risque empirique pour une régression logistique.\n",
        "    \n",
        "    Paramètres\n",
        "    ----------    \n",
        "    X: (n_samples, n_features+1) numpy array\n",
        "        La matrice de données.\n",
        "        \n",
        "    y: (n_samples, ) numpy array \n",
        "        Le vecteur d'étiquettes\n",
        "        \n",
        "    b_vector: (n_features+1, ) numpy array\n",
        "        Le vecteurs de coefficients de la régression logistique\n",
        "    \"\"\"\n",
        "    # Partie du risque correspondant aux étiquettes positives\n",
        "    where_y_pos = np.where(y==1)[0]\n",
        "    loss_pos = - np.sum(np.log(sigmoid(X[where_y_pos, :].dot(b_vector))))\n",
        "\n",
        "    # Partie du risque correspondant aux étiquettes négatives    \n",
        "    where_y_neg = np.where(y==0)[0]\n",
        "    loss_neg = - np.sum(np.log(1 - sigmoid(X[where_y_neg, :].dot(b_vector))))\n",
        "    \n",
        "    return (loss_pos + loss_neg)/np.size(y)"
      ],
      "execution_count": null,
      "outputs": []
    },
    {
      "cell_type": "code",
      "metadata": {
        "id": "Meu7XEl0cKFc"
      },
      "source": [
        "def evaluate_gradient_logistic(X, y, b_vector):\n",
        "    \"\"\" \n",
        "    Gradient du risque empirique de la régression logistique\n",
        "    \n",
        "    Paramètres\n",
        "    ----------    \n",
        "    X: (n_samples, n_features+1) numpy array\n",
        "        La matrice de données.\n",
        "        \n",
        "    y: (n_samples, ) numpy array \n",
        "        Le vecteur d'étiquettes\n",
        "        \n",
        "    b_vector: (n_features+1, ) numpy array\n",
        "        Le vecteurs de coefficients de la régression logistique\n",
        "    \"\"\"\n",
        "    num_samples = X.shape[0]\n",
        "    diff = sigmoid(X.dot(b_vector)) - y \n",
        "    return np.sum(np.multiply(diff, X.T), axis=1)/num_samples"
      ],
      "execution_count": null,
      "outputs": []
    },
    {
      "cell_type": "markdown",
      "metadata": {
        "id": "rOkmxxZ5cKFc"
      },
      "source": [
        "#### Méthode du gradient"
      ]
    },
    {
      "cell_type": "code",
      "metadata": {
        "id": "yOglAbHtcKFc"
      },
      "source": [
        "def gradient_descent_logistic(X, y, learning_rate=1e-1, max_iters=30, tol=1e-2):\n",
        "    \"\"\"\n",
        "    Méthode du gradient pour la régression logistique.    \n",
        "    \n",
        "    Paramètres\n",
        "    ----------    \n",
        "    X: (n_samples, n_features+1) numpy array\n",
        "        La matrice de données.\n",
        "        \n",
        "    y: (n_samples, ) numpy array \n",
        "        Le vecteur d'étiquettes\n",
        "        \n",
        "    learning_rate: float\n",
        "        La vitesse d'apprentissage\n",
        "        \n",
        "    max_iters: int\n",
        "        Le nombre maximal d'itérations\n",
        "        \n",
        "    tol: float\n",
        "        La tolérance\n",
        "    \"\"\"\n",
        "    # Initialisation aléatoire des coefficients de régression\n",
        "    beta_current = np.random.rand(X.shape[1])\n",
        "    #beta_current = np.hstack((10*np.random.rand(1), np.random.rand(X.shape[1]-1)))\n",
        "    \n",
        "    # Liste pour stocker les valeurs de la fonction de perte\n",
        "    # à chaque itération\n",
        "    losses = [logistic_loss(X, y, beta_current)]    \n",
        "    # Liste pour stocker les valeurs des coefficients de régression\n",
        "    # à chaque itération\n",
        "    betas = [beta_current.copy()]\n",
        "\n",
        "    for i in range(max_iters):            \n",
        "        # Mise à jour de beta_current\n",
        "        gradient = evaluate_gradient_logistic(X, y, beta_current) \n",
        "        beta_current = beta_current - learning_rate * gradient\n",
        "        \n",
        "        # Ajouter la fonction de perte à la liste losses\n",
        "        losses.append(logistic_loss(X, y, beta_current))\n",
        "        \n",
        "        # Ajouter la valeur des coefficients de régression à la liste betas\n",
        "        betas.append(beta_current.copy())\n",
        "\n",
        "        # Vérifier si la tolérance est atteinte\n",
        "        if np.linalg.norm(gradient) < tol: \n",
        "            break\n",
        "\n",
        "    return(np.array(losses), betas)"
      ],
      "execution_count": null,
      "outputs": []
    },
    {
      "cell_type": "markdown",
      "metadata": {
        "id": "Dt8sPLHtcKFd"
      },
      "source": [
        "#### Application aux données"
      ]
    },
    {
      "cell_type": "code",
      "metadata": {
        "id": "PyZvG2NqcKFd"
      },
      "source": [
        "(X_train, X_test, y_train, y_test) = model_selection.train_test_split(X, y_classif, test_size=0.3, random_state=25, \n",
        "                                                                      stratify=y_classif)"
      ],
      "execution_count": null,
      "outputs": []
    },
    {
      "cell_type": "code",
      "metadata": {
        "id": "2bPcizcGcKFd"
      },
      "source": [
        "X_ones = np.hstack((np.ones((X_train.shape[0], 1)), X_train))"
      ],
      "execution_count": null,
      "outputs": []
    },
    {
      "cell_type": "code",
      "metadata": {
        "colab": {
          "base_uri": "https://localhost:8080/"
        },
        "id": "gCOR2swlcKFd",
        "outputId": "91508dbc-35bf-4b54-b887-b7f35fb83950"
      },
      "source": [
        "tolerance = 1e-4\n",
        "iterations = 35\n",
        "lr = 2e-4\n",
        "losses, betas = gradient_descent_logistic(X_ones, y_train, learning_rate=lr, max_iters=iterations, tol=tolerance)"
      ],
      "execution_count": null,
      "outputs": [
        {
          "output_type": "stream",
          "text": [
            "/usr/local/lib/python3.7/dist-packages/ipykernel_launcher.py:22: RuntimeWarning: divide by zero encountered in log\n"
          ],
          "name": "stderr"
        }
      ]
    },
    {
      "cell_type": "code",
      "metadata": {
        "colab": {
          "base_uri": "https://localhost:8080/"
        },
        "id": "GiqafOTOcKFd",
        "outputId": "d2c48809-33eb-4c42-c8da-116b916f3d2f"
      },
      "source": [
        "plt.plot(np.arange(len(losses)), losses, 'o-')\n",
        "\n",
        "plt.xlabel(\"number of iterations\")\n",
        "plt.ylabel(\"value of the loss\")\n",
        "plt.title(\"Batch gradient descent\")"
      ],
      "execution_count": null,
      "outputs": [
        {
          "output_type": "execute_result",
          "data": {
            "text/plain": [
              "Text(0.5, 1.0, 'Batch gradient descent')"
            ]
          },
          "metadata": {
            "tags": []
          },
          "execution_count": 205
        },
        {
          "output_type": "display_data",
          "data": {
            "text/plain": [
              "<Figure size 432x288 with 1 Axes>"
            ],
            "image/svg+xml": "<?xml version=\"1.0\" encoding=\"utf-8\" standalone=\"no\"?>\n<!DOCTYPE svg PUBLIC \"-//W3C//DTD SVG 1.1//EN\"\n  \"http://www.w3.org/Graphics/SVG/1.1/DTD/svg11.dtd\">\n<!-- Created with matplotlib (https://matplotlib.org/) -->\n<svg height=\"277.314375pt\" version=\"1.1\" viewBox=\"0 0 376.240625 277.314375\" width=\"376.240625pt\" xmlns=\"http://www.w3.org/2000/svg\" xmlns:xlink=\"http://www.w3.org/1999/xlink\">\n <defs>\n  <style type=\"text/css\">\n*{stroke-linecap:butt;stroke-linejoin:round;}\n  </style>\n </defs>\n <g id=\"figure_1\">\n  <g id=\"patch_1\">\n   <path d=\"M 0 277.314375 \nL 376.240625 277.314375 \nL 376.240625 0 \nL 0 0 \nz\n\" style=\"fill:none;\"/>\n  </g>\n  <g id=\"axes_1\">\n   <g id=\"patch_2\">\n    <path d=\"M 34.240625 239.758125 \nL 369.040625 239.758125 \nL 369.040625 22.318125 \nL 34.240625 22.318125 \nz\n\" style=\"fill:#ffffff;\"/>\n   </g>\n   <g id=\"matplotlib.axis_1\">\n    <g id=\"xtick_1\">\n     <g id=\"line2d_1\">\n      <defs>\n       <path d=\"M 0 0 \nL 0 3.5 \n\" id=\"m23690c205f\" style=\"stroke:#000000;stroke-width:0.8;\"/>\n      </defs>\n      <g>\n       <use style=\"stroke:#000000;stroke-width:0.8;\" x=\"73.487515\" xlink:href=\"#m23690c205f\" y=\"239.758125\"/>\n      </g>\n     </g>\n     <g id=\"text_1\">\n      <!-- 17.5 -->\n      <defs>\n       <path d=\"M 12.40625 8.296875 \nL 28.515625 8.296875 \nL 28.515625 63.921875 \nL 10.984375 60.40625 \nL 10.984375 69.390625 \nL 28.421875 72.90625 \nL 38.28125 72.90625 \nL 38.28125 8.296875 \nL 54.390625 8.296875 \nL 54.390625 0 \nL 12.40625 0 \nz\n\" id=\"DejaVuSans-49\"/>\n       <path d=\"M 8.203125 72.90625 \nL 55.078125 72.90625 \nL 55.078125 68.703125 \nL 28.609375 0 \nL 18.3125 0 \nL 43.21875 64.59375 \nL 8.203125 64.59375 \nz\n\" id=\"DejaVuSans-55\"/>\n       <path d=\"M 10.6875 12.40625 \nL 21 12.40625 \nL 21 0 \nL 10.6875 0 \nz\n\" id=\"DejaVuSans-46\"/>\n       <path d=\"M 10.796875 72.90625 \nL 49.515625 72.90625 \nL 49.515625 64.59375 \nL 19.828125 64.59375 \nL 19.828125 46.734375 \nQ 21.96875 47.46875 24.109375 47.828125 \nQ 26.265625 48.1875 28.421875 48.1875 \nQ 40.625 48.1875 47.75 41.5 \nQ 54.890625 34.8125 54.890625 23.390625 \nQ 54.890625 11.625 47.5625 5.09375 \nQ 40.234375 -1.421875 26.90625 -1.421875 \nQ 22.3125 -1.421875 17.546875 -0.640625 \nQ 12.796875 0.140625 7.71875 1.703125 \nL 7.71875 11.625 \nQ 12.109375 9.234375 16.796875 8.0625 \nQ 21.484375 6.890625 26.703125 6.890625 \nQ 35.15625 6.890625 40.078125 11.328125 \nQ 45.015625 15.765625 45.015625 23.390625 \nQ 45.015625 31 40.078125 35.4375 \nQ 35.15625 39.890625 26.703125 39.890625 \nQ 22.75 39.890625 18.8125 39.015625 \nQ 14.890625 38.140625 10.796875 36.28125 \nz\n\" id=\"DejaVuSans-53\"/>\n      </defs>\n      <g transform=\"translate(62.354702 254.356562)scale(0.1 -0.1)\">\n       <use xlink:href=\"#DejaVuSans-49\"/>\n       <use x=\"63.623047\" xlink:href=\"#DejaVuSans-55\"/>\n       <use x=\"127.246094\" xlink:href=\"#DejaVuSans-46\"/>\n       <use x=\"159.033203\" xlink:href=\"#DejaVuSans-53\"/>\n      </g>\n     </g>\n    </g>\n    <g id=\"xtick_2\">\n     <g id=\"line2d_2\">\n      <g>\n       <use style=\"stroke:#000000;stroke-width:0.8;\" x=\"113.535362\" xlink:href=\"#m23690c205f\" y=\"239.758125\"/>\n      </g>\n     </g>\n     <g id=\"text_2\">\n      <!-- 20.0 -->\n      <defs>\n       <path d=\"M 19.1875 8.296875 \nL 53.609375 8.296875 \nL 53.609375 0 \nL 7.328125 0 \nL 7.328125 8.296875 \nQ 12.9375 14.109375 22.625 23.890625 \nQ 32.328125 33.6875 34.8125 36.53125 \nQ 39.546875 41.84375 41.421875 45.53125 \nQ 43.3125 49.21875 43.3125 52.78125 \nQ 43.3125 58.59375 39.234375 62.25 \nQ 35.15625 65.921875 28.609375 65.921875 \nQ 23.96875 65.921875 18.8125 64.3125 \nQ 13.671875 62.703125 7.8125 59.421875 \nL 7.8125 69.390625 \nQ 13.765625 71.78125 18.9375 73 \nQ 24.125 74.21875 28.421875 74.21875 \nQ 39.75 74.21875 46.484375 68.546875 \nQ 53.21875 62.890625 53.21875 53.421875 \nQ 53.21875 48.921875 51.53125 44.890625 \nQ 49.859375 40.875 45.40625 35.40625 \nQ 44.1875 33.984375 37.640625 27.21875 \nQ 31.109375 20.453125 19.1875 8.296875 \nz\n\" id=\"DejaVuSans-50\"/>\n       <path d=\"M 31.78125 66.40625 \nQ 24.171875 66.40625 20.328125 58.90625 \nQ 16.5 51.421875 16.5 36.375 \nQ 16.5 21.390625 20.328125 13.890625 \nQ 24.171875 6.390625 31.78125 6.390625 \nQ 39.453125 6.390625 43.28125 13.890625 \nQ 47.125 21.390625 47.125 36.375 \nQ 47.125 51.421875 43.28125 58.90625 \nQ 39.453125 66.40625 31.78125 66.40625 \nz\nM 31.78125 74.21875 \nQ 44.046875 74.21875 50.515625 64.515625 \nQ 56.984375 54.828125 56.984375 36.375 \nQ 56.984375 17.96875 50.515625 8.265625 \nQ 44.046875 -1.421875 31.78125 -1.421875 \nQ 19.53125 -1.421875 13.0625 8.265625 \nQ 6.59375 17.96875 6.59375 36.375 \nQ 6.59375 54.828125 13.0625 64.515625 \nQ 19.53125 74.21875 31.78125 74.21875 \nz\n\" id=\"DejaVuSans-48\"/>\n      </defs>\n      <g transform=\"translate(102.402549 254.356562)scale(0.1 -0.1)\">\n       <use xlink:href=\"#DejaVuSans-50\"/>\n       <use x=\"63.623047\" xlink:href=\"#DejaVuSans-48\"/>\n       <use x=\"127.246094\" xlink:href=\"#DejaVuSans-46\"/>\n       <use x=\"159.033203\" xlink:href=\"#DejaVuSans-48\"/>\n      </g>\n     </g>\n    </g>\n    <g id=\"xtick_3\">\n     <g id=\"line2d_3\">\n      <g>\n       <use style=\"stroke:#000000;stroke-width:0.8;\" x=\"153.583209\" xlink:href=\"#m23690c205f\" y=\"239.758125\"/>\n      </g>\n     </g>\n     <g id=\"text_3\">\n      <!-- 22.5 -->\n      <g transform=\"translate(142.450396 254.356562)scale(0.1 -0.1)\">\n       <use xlink:href=\"#DejaVuSans-50\"/>\n       <use x=\"63.623047\" xlink:href=\"#DejaVuSans-50\"/>\n       <use x=\"127.246094\" xlink:href=\"#DejaVuSans-46\"/>\n       <use x=\"159.033203\" xlink:href=\"#DejaVuSans-53\"/>\n      </g>\n     </g>\n    </g>\n    <g id=\"xtick_4\">\n     <g id=\"line2d_4\">\n      <g>\n       <use style=\"stroke:#000000;stroke-width:0.8;\" x=\"193.631056\" xlink:href=\"#m23690c205f\" y=\"239.758125\"/>\n      </g>\n     </g>\n     <g id=\"text_4\">\n      <!-- 25.0 -->\n      <g transform=\"translate(182.498243 254.356562)scale(0.1 -0.1)\">\n       <use xlink:href=\"#DejaVuSans-50\"/>\n       <use x=\"63.623047\" xlink:href=\"#DejaVuSans-53\"/>\n       <use x=\"127.246094\" xlink:href=\"#DejaVuSans-46\"/>\n       <use x=\"159.033203\" xlink:href=\"#DejaVuSans-48\"/>\n      </g>\n     </g>\n    </g>\n    <g id=\"xtick_5\">\n     <g id=\"line2d_5\">\n      <g>\n       <use style=\"stroke:#000000;stroke-width:0.8;\" x=\"233.678903\" xlink:href=\"#m23690c205f\" y=\"239.758125\"/>\n      </g>\n     </g>\n     <g id=\"text_5\">\n      <!-- 27.5 -->\n      <g transform=\"translate(222.54609 254.356562)scale(0.1 -0.1)\">\n       <use xlink:href=\"#DejaVuSans-50\"/>\n       <use x=\"63.623047\" xlink:href=\"#DejaVuSans-55\"/>\n       <use x=\"127.246094\" xlink:href=\"#DejaVuSans-46\"/>\n       <use x=\"159.033203\" xlink:href=\"#DejaVuSans-53\"/>\n      </g>\n     </g>\n    </g>\n    <g id=\"xtick_6\">\n     <g id=\"line2d_6\">\n      <g>\n       <use style=\"stroke:#000000;stroke-width:0.8;\" x=\"273.726749\" xlink:href=\"#m23690c205f\" y=\"239.758125\"/>\n      </g>\n     </g>\n     <g id=\"text_6\">\n      <!-- 30.0 -->\n      <defs>\n       <path d=\"M 40.578125 39.3125 \nQ 47.65625 37.796875 51.625 33 \nQ 55.609375 28.21875 55.609375 21.1875 \nQ 55.609375 10.40625 48.1875 4.484375 \nQ 40.765625 -1.421875 27.09375 -1.421875 \nQ 22.515625 -1.421875 17.65625 -0.515625 \nQ 12.796875 0.390625 7.625 2.203125 \nL 7.625 11.71875 \nQ 11.71875 9.328125 16.59375 8.109375 \nQ 21.484375 6.890625 26.8125 6.890625 \nQ 36.078125 6.890625 40.9375 10.546875 \nQ 45.796875 14.203125 45.796875 21.1875 \nQ 45.796875 27.640625 41.28125 31.265625 \nQ 36.765625 34.90625 28.71875 34.90625 \nL 20.21875 34.90625 \nL 20.21875 43.015625 \nL 29.109375 43.015625 \nQ 36.375 43.015625 40.234375 45.921875 \nQ 44.09375 48.828125 44.09375 54.296875 \nQ 44.09375 59.90625 40.109375 62.90625 \nQ 36.140625 65.921875 28.71875 65.921875 \nQ 24.65625 65.921875 20.015625 65.03125 \nQ 15.375 64.15625 9.8125 62.3125 \nL 9.8125 71.09375 \nQ 15.4375 72.65625 20.34375 73.4375 \nQ 25.25 74.21875 29.59375 74.21875 \nQ 40.828125 74.21875 47.359375 69.109375 \nQ 53.90625 64.015625 53.90625 55.328125 \nQ 53.90625 49.265625 50.4375 45.09375 \nQ 46.96875 40.921875 40.578125 39.3125 \nz\n\" id=\"DejaVuSans-51\"/>\n      </defs>\n      <g transform=\"translate(262.593937 254.356562)scale(0.1 -0.1)\">\n       <use xlink:href=\"#DejaVuSans-51\"/>\n       <use x=\"63.623047\" xlink:href=\"#DejaVuSans-48\"/>\n       <use x=\"127.246094\" xlink:href=\"#DejaVuSans-46\"/>\n       <use x=\"159.033203\" xlink:href=\"#DejaVuSans-48\"/>\n      </g>\n     </g>\n    </g>\n    <g id=\"xtick_7\">\n     <g id=\"line2d_7\">\n      <g>\n       <use style=\"stroke:#000000;stroke-width:0.8;\" x=\"313.774596\" xlink:href=\"#m23690c205f\" y=\"239.758125\"/>\n      </g>\n     </g>\n     <g id=\"text_7\">\n      <!-- 32.5 -->\n      <g transform=\"translate(302.641784 254.356562)scale(0.1 -0.1)\">\n       <use xlink:href=\"#DejaVuSans-51\"/>\n       <use x=\"63.623047\" xlink:href=\"#DejaVuSans-50\"/>\n       <use x=\"127.246094\" xlink:href=\"#DejaVuSans-46\"/>\n       <use x=\"159.033203\" xlink:href=\"#DejaVuSans-53\"/>\n      </g>\n     </g>\n    </g>\n    <g id=\"xtick_8\">\n     <g id=\"line2d_8\">\n      <g>\n       <use style=\"stroke:#000000;stroke-width:0.8;\" x=\"353.822443\" xlink:href=\"#m23690c205f\" y=\"239.758125\"/>\n      </g>\n     </g>\n     <g id=\"text_8\">\n      <!-- 35.0 -->\n      <g transform=\"translate(342.689631 254.356562)scale(0.1 -0.1)\">\n       <use xlink:href=\"#DejaVuSans-51\"/>\n       <use x=\"63.623047\" xlink:href=\"#DejaVuSans-53\"/>\n       <use x=\"127.246094\" xlink:href=\"#DejaVuSans-46\"/>\n       <use x=\"159.033203\" xlink:href=\"#DejaVuSans-48\"/>\n      </g>\n     </g>\n    </g>\n    <g id=\"text_9\">\n     <!-- number of iterations -->\n     <defs>\n      <path d=\"M 54.890625 33.015625 \nL 54.890625 0 \nL 45.90625 0 \nL 45.90625 32.71875 \nQ 45.90625 40.484375 42.875 44.328125 \nQ 39.84375 48.1875 33.796875 48.1875 \nQ 26.515625 48.1875 22.3125 43.546875 \nQ 18.109375 38.921875 18.109375 30.90625 \nL 18.109375 0 \nL 9.078125 0 \nL 9.078125 54.6875 \nL 18.109375 54.6875 \nL 18.109375 46.1875 \nQ 21.34375 51.125 25.703125 53.5625 \nQ 30.078125 56 35.796875 56 \nQ 45.21875 56 50.046875 50.171875 \nQ 54.890625 44.34375 54.890625 33.015625 \nz\n\" id=\"DejaVuSans-110\"/>\n      <path d=\"M 8.5 21.578125 \nL 8.5 54.6875 \nL 17.484375 54.6875 \nL 17.484375 21.921875 \nQ 17.484375 14.15625 20.5 10.265625 \nQ 23.53125 6.390625 29.59375 6.390625 \nQ 36.859375 6.390625 41.078125 11.03125 \nQ 45.3125 15.671875 45.3125 23.6875 \nL 45.3125 54.6875 \nL 54.296875 54.6875 \nL 54.296875 0 \nL 45.3125 0 \nL 45.3125 8.40625 \nQ 42.046875 3.421875 37.71875 1 \nQ 33.40625 -1.421875 27.6875 -1.421875 \nQ 18.265625 -1.421875 13.375 4.4375 \nQ 8.5 10.296875 8.5 21.578125 \nz\nM 31.109375 56 \nz\n\" id=\"DejaVuSans-117\"/>\n      <path d=\"M 52 44.1875 \nQ 55.375 50.25 60.0625 53.125 \nQ 64.75 56 71.09375 56 \nQ 79.640625 56 84.28125 50.015625 \nQ 88.921875 44.046875 88.921875 33.015625 \nL 88.921875 0 \nL 79.890625 0 \nL 79.890625 32.71875 \nQ 79.890625 40.578125 77.09375 44.375 \nQ 74.3125 48.1875 68.609375 48.1875 \nQ 61.625 48.1875 57.5625 43.546875 \nQ 53.515625 38.921875 53.515625 30.90625 \nL 53.515625 0 \nL 44.484375 0 \nL 44.484375 32.71875 \nQ 44.484375 40.625 41.703125 44.40625 \nQ 38.921875 48.1875 33.109375 48.1875 \nQ 26.21875 48.1875 22.15625 43.53125 \nQ 18.109375 38.875 18.109375 30.90625 \nL 18.109375 0 \nL 9.078125 0 \nL 9.078125 54.6875 \nL 18.109375 54.6875 \nL 18.109375 46.1875 \nQ 21.1875 51.21875 25.484375 53.609375 \nQ 29.78125 56 35.6875 56 \nQ 41.65625 56 45.828125 52.96875 \nQ 50 49.953125 52 44.1875 \nz\n\" id=\"DejaVuSans-109\"/>\n      <path d=\"M 48.6875 27.296875 \nQ 48.6875 37.203125 44.609375 42.84375 \nQ 40.53125 48.484375 33.40625 48.484375 \nQ 26.265625 48.484375 22.1875 42.84375 \nQ 18.109375 37.203125 18.109375 27.296875 \nQ 18.109375 17.390625 22.1875 11.75 \nQ 26.265625 6.109375 33.40625 6.109375 \nQ 40.53125 6.109375 44.609375 11.75 \nQ 48.6875 17.390625 48.6875 27.296875 \nz\nM 18.109375 46.390625 \nQ 20.953125 51.265625 25.265625 53.625 \nQ 29.59375 56 35.59375 56 \nQ 45.5625 56 51.78125 48.09375 \nQ 58.015625 40.1875 58.015625 27.296875 \nQ 58.015625 14.40625 51.78125 6.484375 \nQ 45.5625 -1.421875 35.59375 -1.421875 \nQ 29.59375 -1.421875 25.265625 0.953125 \nQ 20.953125 3.328125 18.109375 8.203125 \nL 18.109375 0 \nL 9.078125 0 \nL 9.078125 75.984375 \nL 18.109375 75.984375 \nz\n\" id=\"DejaVuSans-98\"/>\n      <path d=\"M 56.203125 29.59375 \nL 56.203125 25.203125 \nL 14.890625 25.203125 \nQ 15.484375 15.921875 20.484375 11.0625 \nQ 25.484375 6.203125 34.421875 6.203125 \nQ 39.59375 6.203125 44.453125 7.46875 \nQ 49.3125 8.734375 54.109375 11.28125 \nL 54.109375 2.78125 \nQ 49.265625 0.734375 44.1875 -0.34375 \nQ 39.109375 -1.421875 33.890625 -1.421875 \nQ 20.796875 -1.421875 13.15625 6.1875 \nQ 5.515625 13.8125 5.515625 26.8125 \nQ 5.515625 40.234375 12.765625 48.109375 \nQ 20.015625 56 32.328125 56 \nQ 43.359375 56 49.78125 48.890625 \nQ 56.203125 41.796875 56.203125 29.59375 \nz\nM 47.21875 32.234375 \nQ 47.125 39.59375 43.09375 43.984375 \nQ 39.0625 48.390625 32.421875 48.390625 \nQ 24.90625 48.390625 20.390625 44.140625 \nQ 15.875 39.890625 15.1875 32.171875 \nz\n\" id=\"DejaVuSans-101\"/>\n      <path d=\"M 41.109375 46.296875 \nQ 39.59375 47.171875 37.8125 47.578125 \nQ 36.03125 48 33.890625 48 \nQ 26.265625 48 22.1875 43.046875 \nQ 18.109375 38.09375 18.109375 28.8125 \nL 18.109375 0 \nL 9.078125 0 \nL 9.078125 54.6875 \nL 18.109375 54.6875 \nL 18.109375 46.1875 \nQ 20.953125 51.171875 25.484375 53.578125 \nQ 30.03125 56 36.53125 56 \nQ 37.453125 56 38.578125 55.875 \nQ 39.703125 55.765625 41.0625 55.515625 \nz\n\" id=\"DejaVuSans-114\"/>\n      <path id=\"DejaVuSans-32\"/>\n      <path d=\"M 30.609375 48.390625 \nQ 23.390625 48.390625 19.1875 42.75 \nQ 14.984375 37.109375 14.984375 27.296875 \nQ 14.984375 17.484375 19.15625 11.84375 \nQ 23.34375 6.203125 30.609375 6.203125 \nQ 37.796875 6.203125 41.984375 11.859375 \nQ 46.1875 17.53125 46.1875 27.296875 \nQ 46.1875 37.015625 41.984375 42.703125 \nQ 37.796875 48.390625 30.609375 48.390625 \nz\nM 30.609375 56 \nQ 42.328125 56 49.015625 48.375 \nQ 55.71875 40.765625 55.71875 27.296875 \nQ 55.71875 13.875 49.015625 6.21875 \nQ 42.328125 -1.421875 30.609375 -1.421875 \nQ 18.84375 -1.421875 12.171875 6.21875 \nQ 5.515625 13.875 5.515625 27.296875 \nQ 5.515625 40.765625 12.171875 48.375 \nQ 18.84375 56 30.609375 56 \nz\n\" id=\"DejaVuSans-111\"/>\n      <path d=\"M 37.109375 75.984375 \nL 37.109375 68.5 \nL 28.515625 68.5 \nQ 23.6875 68.5 21.796875 66.546875 \nQ 19.921875 64.59375 19.921875 59.515625 \nL 19.921875 54.6875 \nL 34.71875 54.6875 \nL 34.71875 47.703125 \nL 19.921875 47.703125 \nL 19.921875 0 \nL 10.890625 0 \nL 10.890625 47.703125 \nL 2.296875 47.703125 \nL 2.296875 54.6875 \nL 10.890625 54.6875 \nL 10.890625 58.5 \nQ 10.890625 67.625 15.140625 71.796875 \nQ 19.390625 75.984375 28.609375 75.984375 \nz\n\" id=\"DejaVuSans-102\"/>\n      <path d=\"M 9.421875 54.6875 \nL 18.40625 54.6875 \nL 18.40625 0 \nL 9.421875 0 \nz\nM 9.421875 75.984375 \nL 18.40625 75.984375 \nL 18.40625 64.59375 \nL 9.421875 64.59375 \nz\n\" id=\"DejaVuSans-105\"/>\n      <path d=\"M 18.3125 70.21875 \nL 18.3125 54.6875 \nL 36.8125 54.6875 \nL 36.8125 47.703125 \nL 18.3125 47.703125 \nL 18.3125 18.015625 \nQ 18.3125 11.328125 20.140625 9.421875 \nQ 21.96875 7.515625 27.59375 7.515625 \nL 36.8125 7.515625 \nL 36.8125 0 \nL 27.59375 0 \nQ 17.1875 0 13.234375 3.875 \nQ 9.28125 7.765625 9.28125 18.015625 \nL 9.28125 47.703125 \nL 2.6875 47.703125 \nL 2.6875 54.6875 \nL 9.28125 54.6875 \nL 9.28125 70.21875 \nz\n\" id=\"DejaVuSans-116\"/>\n      <path d=\"M 34.28125 27.484375 \nQ 23.390625 27.484375 19.1875 25 \nQ 14.984375 22.515625 14.984375 16.5 \nQ 14.984375 11.71875 18.140625 8.90625 \nQ 21.296875 6.109375 26.703125 6.109375 \nQ 34.1875 6.109375 38.703125 11.40625 \nQ 43.21875 16.703125 43.21875 25.484375 \nL 43.21875 27.484375 \nz\nM 52.203125 31.203125 \nL 52.203125 0 \nL 43.21875 0 \nL 43.21875 8.296875 \nQ 40.140625 3.328125 35.546875 0.953125 \nQ 30.953125 -1.421875 24.3125 -1.421875 \nQ 15.921875 -1.421875 10.953125 3.296875 \nQ 6 8.015625 6 15.921875 \nQ 6 25.140625 12.171875 29.828125 \nQ 18.359375 34.515625 30.609375 34.515625 \nL 43.21875 34.515625 \nL 43.21875 35.40625 \nQ 43.21875 41.609375 39.140625 45 \nQ 35.0625 48.390625 27.6875 48.390625 \nQ 23 48.390625 18.546875 47.265625 \nQ 14.109375 46.140625 10.015625 43.890625 \nL 10.015625 52.203125 \nQ 14.9375 54.109375 19.578125 55.046875 \nQ 24.21875 56 28.609375 56 \nQ 40.484375 56 46.34375 49.84375 \nQ 52.203125 43.703125 52.203125 31.203125 \nz\n\" id=\"DejaVuSans-97\"/>\n      <path d=\"M 44.28125 53.078125 \nL 44.28125 44.578125 \nQ 40.484375 46.53125 36.375 47.5 \nQ 32.28125 48.484375 27.875 48.484375 \nQ 21.1875 48.484375 17.84375 46.4375 \nQ 14.5 44.390625 14.5 40.28125 \nQ 14.5 37.15625 16.890625 35.375 \nQ 19.28125 33.59375 26.515625 31.984375 \nL 29.59375 31.296875 \nQ 39.15625 29.25 43.1875 25.515625 \nQ 47.21875 21.78125 47.21875 15.09375 \nQ 47.21875 7.46875 41.1875 3.015625 \nQ 35.15625 -1.421875 24.609375 -1.421875 \nQ 20.21875 -1.421875 15.453125 -0.5625 \nQ 10.6875 0.296875 5.421875 2 \nL 5.421875 11.28125 \nQ 10.40625 8.6875 15.234375 7.390625 \nQ 20.0625 6.109375 24.8125 6.109375 \nQ 31.15625 6.109375 34.5625 8.28125 \nQ 37.984375 10.453125 37.984375 14.40625 \nQ 37.984375 18.0625 35.515625 20.015625 \nQ 33.0625 21.96875 24.703125 23.78125 \nL 21.578125 24.515625 \nQ 13.234375 26.265625 9.515625 29.90625 \nQ 5.8125 33.546875 5.8125 39.890625 \nQ 5.8125 47.609375 11.28125 51.796875 \nQ 16.75 56 26.8125 56 \nQ 31.78125 56 36.171875 55.265625 \nQ 40.578125 54.546875 44.28125 53.078125 \nz\n\" id=\"DejaVuSans-115\"/>\n     </defs>\n     <g transform=\"translate(150.401563 268.034687)scale(0.1 -0.1)\">\n      <use xlink:href=\"#DejaVuSans-110\"/>\n      <use x=\"63.378906\" xlink:href=\"#DejaVuSans-117\"/>\n      <use x=\"126.757812\" xlink:href=\"#DejaVuSans-109\"/>\n      <use x=\"224.169922\" xlink:href=\"#DejaVuSans-98\"/>\n      <use x=\"287.646484\" xlink:href=\"#DejaVuSans-101\"/>\n      <use x=\"349.169922\" xlink:href=\"#DejaVuSans-114\"/>\n      <use x=\"390.283203\" xlink:href=\"#DejaVuSans-32\"/>\n      <use x=\"422.070312\" xlink:href=\"#DejaVuSans-111\"/>\n      <use x=\"483.251953\" xlink:href=\"#DejaVuSans-102\"/>\n      <use x=\"518.457031\" xlink:href=\"#DejaVuSans-32\"/>\n      <use x=\"550.244141\" xlink:href=\"#DejaVuSans-105\"/>\n      <use x=\"578.027344\" xlink:href=\"#DejaVuSans-116\"/>\n      <use x=\"617.236328\" xlink:href=\"#DejaVuSans-101\"/>\n      <use x=\"678.759766\" xlink:href=\"#DejaVuSans-114\"/>\n      <use x=\"719.873047\" xlink:href=\"#DejaVuSans-97\"/>\n      <use x=\"781.152344\" xlink:href=\"#DejaVuSans-116\"/>\n      <use x=\"820.361328\" xlink:href=\"#DejaVuSans-105\"/>\n      <use x=\"848.144531\" xlink:href=\"#DejaVuSans-111\"/>\n      <use x=\"909.326172\" xlink:href=\"#DejaVuSans-110\"/>\n      <use x=\"972.705078\" xlink:href=\"#DejaVuSans-115\"/>\n     </g>\n    </g>\n   </g>\n   <g id=\"matplotlib.axis_2\">\n    <g id=\"ytick_1\">\n     <g id=\"line2d_9\">\n      <defs>\n       <path d=\"M 0 0 \nL -3.5 0 \n\" id=\"m4fc31fc716\" style=\"stroke:#000000;stroke-width:0.8;\"/>\n      </defs>\n      <g>\n       <use style=\"stroke:#000000;stroke-width:0.8;\" x=\"34.240625\" xlink:href=\"#m4fc31fc716\" y=\"226.429324\"/>\n      </g>\n     </g>\n     <g id=\"text_10\">\n      <!-- 1 -->\n      <g transform=\"translate(20.878125 230.228543)scale(0.1 -0.1)\">\n       <use xlink:href=\"#DejaVuSans-49\"/>\n      </g>\n     </g>\n    </g>\n    <g id=\"ytick_2\">\n     <g id=\"line2d_10\">\n      <g>\n       <use style=\"stroke:#000000;stroke-width:0.8;\" x=\"34.240625\" xlink:href=\"#m4fc31fc716\" y=\"201.458634\"/>\n      </g>\n     </g>\n     <g id=\"text_11\">\n      <!-- 2 -->\n      <g transform=\"translate(20.878125 205.257853)scale(0.1 -0.1)\">\n       <use xlink:href=\"#DejaVuSans-50\"/>\n      </g>\n     </g>\n    </g>\n    <g id=\"ytick_3\">\n     <g id=\"line2d_11\">\n      <g>\n       <use style=\"stroke:#000000;stroke-width:0.8;\" x=\"34.240625\" xlink:href=\"#m4fc31fc716\" y=\"176.487945\"/>\n      </g>\n     </g>\n     <g id=\"text_12\">\n      <!-- 3 -->\n      <g transform=\"translate(20.878125 180.287163)scale(0.1 -0.1)\">\n       <use xlink:href=\"#DejaVuSans-51\"/>\n      </g>\n     </g>\n    </g>\n    <g id=\"ytick_4\">\n     <g id=\"line2d_12\">\n      <g>\n       <use style=\"stroke:#000000;stroke-width:0.8;\" x=\"34.240625\" xlink:href=\"#m4fc31fc716\" y=\"151.517255\"/>\n      </g>\n     </g>\n     <g id=\"text_13\">\n      <!-- 4 -->\n      <defs>\n       <path d=\"M 37.796875 64.3125 \nL 12.890625 25.390625 \nL 37.796875 25.390625 \nz\nM 35.203125 72.90625 \nL 47.609375 72.90625 \nL 47.609375 25.390625 \nL 58.015625 25.390625 \nL 58.015625 17.1875 \nL 47.609375 17.1875 \nL 47.609375 0 \nL 37.796875 0 \nL 37.796875 17.1875 \nL 4.890625 17.1875 \nL 4.890625 26.703125 \nz\n\" id=\"DejaVuSans-52\"/>\n      </defs>\n      <g transform=\"translate(20.878125 155.316474)scale(0.1 -0.1)\">\n       <use xlink:href=\"#DejaVuSans-52\"/>\n      </g>\n     </g>\n    </g>\n    <g id=\"ytick_5\">\n     <g id=\"line2d_13\">\n      <g>\n       <use style=\"stroke:#000000;stroke-width:0.8;\" x=\"34.240625\" xlink:href=\"#m4fc31fc716\" y=\"126.546565\"/>\n      </g>\n     </g>\n     <g id=\"text_14\">\n      <!-- 5 -->\n      <g transform=\"translate(20.878125 130.345784)scale(0.1 -0.1)\">\n       <use xlink:href=\"#DejaVuSans-53\"/>\n      </g>\n     </g>\n    </g>\n    <g id=\"ytick_6\">\n     <g id=\"line2d_14\">\n      <g>\n       <use style=\"stroke:#000000;stroke-width:0.8;\" x=\"34.240625\" xlink:href=\"#m4fc31fc716\" y=\"101.575875\"/>\n      </g>\n     </g>\n     <g id=\"text_15\">\n      <!-- 6 -->\n      <defs>\n       <path d=\"M 33.015625 40.375 \nQ 26.375 40.375 22.484375 35.828125 \nQ 18.609375 31.296875 18.609375 23.390625 \nQ 18.609375 15.53125 22.484375 10.953125 \nQ 26.375 6.390625 33.015625 6.390625 \nQ 39.65625 6.390625 43.53125 10.953125 \nQ 47.40625 15.53125 47.40625 23.390625 \nQ 47.40625 31.296875 43.53125 35.828125 \nQ 39.65625 40.375 33.015625 40.375 \nz\nM 52.59375 71.296875 \nL 52.59375 62.3125 \nQ 48.875 64.0625 45.09375 64.984375 \nQ 41.3125 65.921875 37.59375 65.921875 \nQ 27.828125 65.921875 22.671875 59.328125 \nQ 17.53125 52.734375 16.796875 39.40625 \nQ 19.671875 43.65625 24.015625 45.921875 \nQ 28.375 48.1875 33.59375 48.1875 \nQ 44.578125 48.1875 50.953125 41.515625 \nQ 57.328125 34.859375 57.328125 23.390625 \nQ 57.328125 12.15625 50.6875 5.359375 \nQ 44.046875 -1.421875 33.015625 -1.421875 \nQ 20.359375 -1.421875 13.671875 8.265625 \nQ 6.984375 17.96875 6.984375 36.375 \nQ 6.984375 53.65625 15.1875 63.9375 \nQ 23.390625 74.21875 37.203125 74.21875 \nQ 40.921875 74.21875 44.703125 73.484375 \nQ 48.484375 72.75 52.59375 71.296875 \nz\n\" id=\"DejaVuSans-54\"/>\n      </defs>\n      <g transform=\"translate(20.878125 105.375094)scale(0.1 -0.1)\">\n       <use xlink:href=\"#DejaVuSans-54\"/>\n      </g>\n     </g>\n    </g>\n    <g id=\"ytick_7\">\n     <g id=\"line2d_15\">\n      <g>\n       <use style=\"stroke:#000000;stroke-width:0.8;\" x=\"34.240625\" xlink:href=\"#m4fc31fc716\" y=\"76.605185\"/>\n      </g>\n     </g>\n     <g id=\"text_16\">\n      <!-- 7 -->\n      <g transform=\"translate(20.878125 80.404404)scale(0.1 -0.1)\">\n       <use xlink:href=\"#DejaVuSans-55\"/>\n      </g>\n     </g>\n    </g>\n    <g id=\"ytick_8\">\n     <g id=\"line2d_16\">\n      <g>\n       <use style=\"stroke:#000000;stroke-width:0.8;\" x=\"34.240625\" xlink:href=\"#m4fc31fc716\" y=\"51.634496\"/>\n      </g>\n     </g>\n     <g id=\"text_17\">\n      <!-- 8 -->\n      <defs>\n       <path d=\"M 31.78125 34.625 \nQ 24.75 34.625 20.71875 30.859375 \nQ 16.703125 27.09375 16.703125 20.515625 \nQ 16.703125 13.921875 20.71875 10.15625 \nQ 24.75 6.390625 31.78125 6.390625 \nQ 38.8125 6.390625 42.859375 10.171875 \nQ 46.921875 13.96875 46.921875 20.515625 \nQ 46.921875 27.09375 42.890625 30.859375 \nQ 38.875 34.625 31.78125 34.625 \nz\nM 21.921875 38.8125 \nQ 15.578125 40.375 12.03125 44.71875 \nQ 8.5 49.078125 8.5 55.328125 \nQ 8.5 64.0625 14.71875 69.140625 \nQ 20.953125 74.21875 31.78125 74.21875 \nQ 42.671875 74.21875 48.875 69.140625 \nQ 55.078125 64.0625 55.078125 55.328125 \nQ 55.078125 49.078125 51.53125 44.71875 \nQ 48 40.375 41.703125 38.8125 \nQ 48.828125 37.15625 52.796875 32.3125 \nQ 56.78125 27.484375 56.78125 20.515625 \nQ 56.78125 9.90625 50.3125 4.234375 \nQ 43.84375 -1.421875 31.78125 -1.421875 \nQ 19.734375 -1.421875 13.25 4.234375 \nQ 6.78125 9.90625 6.78125 20.515625 \nQ 6.78125 27.484375 10.78125 32.3125 \nQ 14.796875 37.15625 21.921875 38.8125 \nz\nM 18.3125 54.390625 \nQ 18.3125 48.734375 21.84375 45.5625 \nQ 25.390625 42.390625 31.78125 42.390625 \nQ 38.140625 42.390625 41.71875 45.5625 \nQ 45.3125 48.734375 45.3125 54.390625 \nQ 45.3125 60.0625 41.71875 63.234375 \nQ 38.140625 66.40625 31.78125 66.40625 \nQ 25.390625 66.40625 21.84375 63.234375 \nQ 18.3125 60.0625 18.3125 54.390625 \nz\n\" id=\"DejaVuSans-56\"/>\n      </defs>\n      <g transform=\"translate(20.878125 55.433714)scale(0.1 -0.1)\">\n       <use xlink:href=\"#DejaVuSans-56\"/>\n      </g>\n     </g>\n    </g>\n    <g id=\"ytick_9\">\n     <g id=\"line2d_17\">\n      <g>\n       <use style=\"stroke:#000000;stroke-width:0.8;\" x=\"34.240625\" xlink:href=\"#m4fc31fc716\" y=\"26.663806\"/>\n      </g>\n     </g>\n     <g id=\"text_18\">\n      <!-- 9 -->\n      <defs>\n       <path d=\"M 10.984375 1.515625 \nL 10.984375 10.5 \nQ 14.703125 8.734375 18.5 7.8125 \nQ 22.3125 6.890625 25.984375 6.890625 \nQ 35.75 6.890625 40.890625 13.453125 \nQ 46.046875 20.015625 46.78125 33.40625 \nQ 43.953125 29.203125 39.59375 26.953125 \nQ 35.25 24.703125 29.984375 24.703125 \nQ 19.046875 24.703125 12.671875 31.3125 \nQ 6.296875 37.9375 6.296875 49.421875 \nQ 6.296875 60.640625 12.9375 67.421875 \nQ 19.578125 74.21875 30.609375 74.21875 \nQ 43.265625 74.21875 49.921875 64.515625 \nQ 56.59375 54.828125 56.59375 36.375 \nQ 56.59375 19.140625 48.40625 8.859375 \nQ 40.234375 -1.421875 26.421875 -1.421875 \nQ 22.703125 -1.421875 18.890625 -0.6875 \nQ 15.09375 0.046875 10.984375 1.515625 \nz\nM 30.609375 32.421875 \nQ 37.25 32.421875 41.125 36.953125 \nQ 45.015625 41.5 45.015625 49.421875 \nQ 45.015625 57.28125 41.125 61.84375 \nQ 37.25 66.40625 30.609375 66.40625 \nQ 23.96875 66.40625 20.09375 61.84375 \nQ 16.21875 57.28125 16.21875 49.421875 \nQ 16.21875 41.5 20.09375 36.953125 \nQ 23.96875 32.421875 30.609375 32.421875 \nz\n\" id=\"DejaVuSans-57\"/>\n      </defs>\n      <g transform=\"translate(20.878125 30.463025)scale(0.1 -0.1)\">\n       <use xlink:href=\"#DejaVuSans-57\"/>\n      </g>\n     </g>\n    </g>\n    <g id=\"text_19\">\n     <!-- value of the loss -->\n     <defs>\n      <path d=\"M 2.984375 54.6875 \nL 12.5 54.6875 \nL 29.59375 8.796875 \nL 46.6875 54.6875 \nL 56.203125 54.6875 \nL 35.6875 0 \nL 23.484375 0 \nz\n\" id=\"DejaVuSans-118\"/>\n      <path d=\"M 9.421875 75.984375 \nL 18.40625 75.984375 \nL 18.40625 0 \nL 9.421875 0 \nz\n\" id=\"DejaVuSans-108\"/>\n      <path d=\"M 54.890625 33.015625 \nL 54.890625 0 \nL 45.90625 0 \nL 45.90625 32.71875 \nQ 45.90625 40.484375 42.875 44.328125 \nQ 39.84375 48.1875 33.796875 48.1875 \nQ 26.515625 48.1875 22.3125 43.546875 \nQ 18.109375 38.921875 18.109375 30.90625 \nL 18.109375 0 \nL 9.078125 0 \nL 9.078125 75.984375 \nL 18.109375 75.984375 \nL 18.109375 46.1875 \nQ 21.34375 51.125 25.703125 53.5625 \nQ 30.078125 56 35.796875 56 \nQ 45.21875 56 50.046875 50.171875 \nQ 54.890625 44.34375 54.890625 33.015625 \nz\n\" id=\"DejaVuSans-104\"/>\n     </defs>\n     <g transform=\"translate(14.798437 172.145937)rotate(-90)scale(0.1 -0.1)\">\n      <use xlink:href=\"#DejaVuSans-118\"/>\n      <use x=\"59.179688\" xlink:href=\"#DejaVuSans-97\"/>\n      <use x=\"120.458984\" xlink:href=\"#DejaVuSans-108\"/>\n      <use x=\"148.242188\" xlink:href=\"#DejaVuSans-117\"/>\n      <use x=\"211.621094\" xlink:href=\"#DejaVuSans-101\"/>\n      <use x=\"273.144531\" xlink:href=\"#DejaVuSans-32\"/>\n      <use x=\"304.931641\" xlink:href=\"#DejaVuSans-111\"/>\n      <use x=\"366.113281\" xlink:href=\"#DejaVuSans-102\"/>\n      <use x=\"401.318359\" xlink:href=\"#DejaVuSans-32\"/>\n      <use x=\"433.105469\" xlink:href=\"#DejaVuSans-116\"/>\n      <use x=\"472.314453\" xlink:href=\"#DejaVuSans-104\"/>\n      <use x=\"535.693359\" xlink:href=\"#DejaVuSans-101\"/>\n      <use x=\"597.216797\" xlink:href=\"#DejaVuSans-32\"/>\n      <use x=\"629.003906\" xlink:href=\"#DejaVuSans-108\"/>\n      <use x=\"656.787109\" xlink:href=\"#DejaVuSans-111\"/>\n      <use x=\"717.96875\" xlink:href=\"#DejaVuSans-115\"/>\n      <use x=\"770.068359\" xlink:href=\"#DejaVuSans-115\"/>\n     </g>\n    </g>\n   </g>\n   <g id=\"line2d_18\">\n    <path clip-path=\"url(#pdd4fc2c1e7)\" d=\"M 49.458807 32.201761 \nL 65.477946 82.035477 \nL 81.497084 131.853666 \nL 97.516223 181.080975 \nL 113.535362 220.443387 \nL 129.554501 229.799964 \nL 145.573639 229.850483 \nL 161.592778 229.852332 \nL 177.611917 229.85418 \nL 193.631056 229.856028 \nL 209.650194 229.857876 \nL 225.669333 229.859723 \nL 241.688472 229.86157 \nL 257.707611 229.863416 \nL 273.726749 229.865263 \nL 289.745888 229.867108 \nL 305.765027 229.868954 \nL 321.784166 229.870799 \nL 337.803304 229.872644 \nL 353.822443 229.874489 \n\" style=\"fill:none;stroke:#1f77b4;stroke-linecap:square;stroke-width:1.5;\"/>\n    <defs>\n     <path d=\"M 0 3 \nC 0.795609 3 1.55874 2.683901 2.12132 2.12132 \nC 2.683901 1.55874 3 0.795609 3 0 \nC 3 -0.795609 2.683901 -1.55874 2.12132 -2.12132 \nC 1.55874 -2.683901 0.795609 -3 0 -3 \nC -0.795609 -3 -1.55874 -2.683901 -2.12132 -2.12132 \nC -2.683901 -1.55874 -3 -0.795609 -3 0 \nC -3 0.795609 -2.683901 1.55874 -2.12132 2.12132 \nC -1.55874 2.683901 -0.795609 3 0 3 \nz\n\" id=\"m5c2940dde2\" style=\"stroke:#1f77b4;\"/>\n    </defs>\n    <g clip-path=\"url(#pdd4fc2c1e7)\">\n     <use style=\"fill:#1f77b4;stroke:#1f77b4;\" x=\"49.458807\" xlink:href=\"#m5c2940dde2\" y=\"32.201761\"/>\n     <use style=\"fill:#1f77b4;stroke:#1f77b4;\" x=\"65.477946\" xlink:href=\"#m5c2940dde2\" y=\"82.035477\"/>\n     <use style=\"fill:#1f77b4;stroke:#1f77b4;\" x=\"81.497084\" xlink:href=\"#m5c2940dde2\" y=\"131.853666\"/>\n     <use style=\"fill:#1f77b4;stroke:#1f77b4;\" x=\"97.516223\" xlink:href=\"#m5c2940dde2\" y=\"181.080975\"/>\n     <use style=\"fill:#1f77b4;stroke:#1f77b4;\" x=\"113.535362\" xlink:href=\"#m5c2940dde2\" y=\"220.443387\"/>\n     <use style=\"fill:#1f77b4;stroke:#1f77b4;\" x=\"129.554501\" xlink:href=\"#m5c2940dde2\" y=\"229.799964\"/>\n     <use style=\"fill:#1f77b4;stroke:#1f77b4;\" x=\"145.573639\" xlink:href=\"#m5c2940dde2\" y=\"229.850483\"/>\n     <use style=\"fill:#1f77b4;stroke:#1f77b4;\" x=\"161.592778\" xlink:href=\"#m5c2940dde2\" y=\"229.852332\"/>\n     <use style=\"fill:#1f77b4;stroke:#1f77b4;\" x=\"177.611917\" xlink:href=\"#m5c2940dde2\" y=\"229.85418\"/>\n     <use style=\"fill:#1f77b4;stroke:#1f77b4;\" x=\"193.631056\" xlink:href=\"#m5c2940dde2\" y=\"229.856028\"/>\n     <use style=\"fill:#1f77b4;stroke:#1f77b4;\" x=\"209.650194\" xlink:href=\"#m5c2940dde2\" y=\"229.857876\"/>\n     <use style=\"fill:#1f77b4;stroke:#1f77b4;\" x=\"225.669333\" xlink:href=\"#m5c2940dde2\" y=\"229.859723\"/>\n     <use style=\"fill:#1f77b4;stroke:#1f77b4;\" x=\"241.688472\" xlink:href=\"#m5c2940dde2\" y=\"229.86157\"/>\n     <use style=\"fill:#1f77b4;stroke:#1f77b4;\" x=\"257.707611\" xlink:href=\"#m5c2940dde2\" y=\"229.863416\"/>\n     <use style=\"fill:#1f77b4;stroke:#1f77b4;\" x=\"273.726749\" xlink:href=\"#m5c2940dde2\" y=\"229.865263\"/>\n     <use style=\"fill:#1f77b4;stroke:#1f77b4;\" x=\"289.745888\" xlink:href=\"#m5c2940dde2\" y=\"229.867108\"/>\n     <use style=\"fill:#1f77b4;stroke:#1f77b4;\" x=\"305.765027\" xlink:href=\"#m5c2940dde2\" y=\"229.868954\"/>\n     <use style=\"fill:#1f77b4;stroke:#1f77b4;\" x=\"321.784166\" xlink:href=\"#m5c2940dde2\" y=\"229.870799\"/>\n     <use style=\"fill:#1f77b4;stroke:#1f77b4;\" x=\"337.803304\" xlink:href=\"#m5c2940dde2\" y=\"229.872644\"/>\n     <use style=\"fill:#1f77b4;stroke:#1f77b4;\" x=\"353.822443\" xlink:href=\"#m5c2940dde2\" y=\"229.874489\"/>\n    </g>\n   </g>\n   <g id=\"patch_3\">\n    <path d=\"M 34.240625 239.758125 \nL 34.240625 22.318125 \n\" style=\"fill:none;stroke:#000000;stroke-linecap:square;stroke-linejoin:miter;stroke-width:0.8;\"/>\n   </g>\n   <g id=\"patch_4\">\n    <path d=\"M 369.040625 239.758125 \nL 369.040625 22.318125 \n\" style=\"fill:none;stroke:#000000;stroke-linecap:square;stroke-linejoin:miter;stroke-width:0.8;\"/>\n   </g>\n   <g id=\"patch_5\">\n    <path d=\"M 34.240625 239.758125 \nL 369.040625 239.758125 \n\" style=\"fill:none;stroke:#000000;stroke-linecap:square;stroke-linejoin:miter;stroke-width:0.8;\"/>\n   </g>\n   <g id=\"patch_6\">\n    <path d=\"M 34.240625 22.318125 \nL 369.040625 22.318125 \n\" style=\"fill:none;stroke:#000000;stroke-linecap:square;stroke-linejoin:miter;stroke-width:0.8;\"/>\n   </g>\n   <g id=\"text_20\">\n    <!-- Batch gradient descent -->\n    <defs>\n     <path d=\"M 19.671875 34.8125 \nL 19.671875 8.109375 \nL 35.5 8.109375 \nQ 43.453125 8.109375 47.28125 11.40625 \nQ 51.125 14.703125 51.125 21.484375 \nQ 51.125 28.328125 47.28125 31.5625 \nQ 43.453125 34.8125 35.5 34.8125 \nz\nM 19.671875 64.796875 \nL 19.671875 42.828125 \nL 34.28125 42.828125 \nQ 41.5 42.828125 45.03125 45.53125 \nQ 48.578125 48.25 48.578125 53.8125 \nQ 48.578125 59.328125 45.03125 62.0625 \nQ 41.5 64.796875 34.28125 64.796875 \nz\nM 9.8125 72.90625 \nL 35.015625 72.90625 \nQ 46.296875 72.90625 52.390625 68.21875 \nQ 58.5 63.53125 58.5 54.890625 \nQ 58.5 48.1875 55.375 44.234375 \nQ 52.25 40.28125 46.1875 39.3125 \nQ 53.46875 37.75 57.5 32.78125 \nQ 61.53125 27.828125 61.53125 20.40625 \nQ 61.53125 10.640625 54.890625 5.3125 \nQ 48.25 0 35.984375 0 \nL 9.8125 0 \nz\n\" id=\"DejaVuSans-66\"/>\n     <path d=\"M 48.78125 52.59375 \nL 48.78125 44.1875 \nQ 44.96875 46.296875 41.140625 47.34375 \nQ 37.3125 48.390625 33.40625 48.390625 \nQ 24.65625 48.390625 19.8125 42.84375 \nQ 14.984375 37.3125 14.984375 27.296875 \nQ 14.984375 17.28125 19.8125 11.734375 \nQ 24.65625 6.203125 33.40625 6.203125 \nQ 37.3125 6.203125 41.140625 7.25 \nQ 44.96875 8.296875 48.78125 10.40625 \nL 48.78125 2.09375 \nQ 45.015625 0.34375 40.984375 -0.53125 \nQ 36.96875 -1.421875 32.421875 -1.421875 \nQ 20.0625 -1.421875 12.78125 6.34375 \nQ 5.515625 14.109375 5.515625 27.296875 \nQ 5.515625 40.671875 12.859375 48.328125 \nQ 20.21875 56 33.015625 56 \nQ 37.15625 56 41.109375 55.140625 \nQ 45.0625 54.296875 48.78125 52.59375 \nz\n\" id=\"DejaVuSans-99\"/>\n     <path d=\"M 45.40625 27.984375 \nQ 45.40625 37.75 41.375 43.109375 \nQ 37.359375 48.484375 30.078125 48.484375 \nQ 22.859375 48.484375 18.828125 43.109375 \nQ 14.796875 37.75 14.796875 27.984375 \nQ 14.796875 18.265625 18.828125 12.890625 \nQ 22.859375 7.515625 30.078125 7.515625 \nQ 37.359375 7.515625 41.375 12.890625 \nQ 45.40625 18.265625 45.40625 27.984375 \nz\nM 54.390625 6.78125 \nQ 54.390625 -7.171875 48.1875 -13.984375 \nQ 42 -20.796875 29.203125 -20.796875 \nQ 24.46875 -20.796875 20.265625 -20.09375 \nQ 16.0625 -19.390625 12.109375 -17.921875 \nL 12.109375 -9.1875 \nQ 16.0625 -11.328125 19.921875 -12.34375 \nQ 23.78125 -13.375 27.78125 -13.375 \nQ 36.625 -13.375 41.015625 -8.765625 \nQ 45.40625 -4.15625 45.40625 5.171875 \nL 45.40625 9.625 \nQ 42.625 4.78125 38.28125 2.390625 \nQ 33.9375 0 27.875 0 \nQ 17.828125 0 11.671875 7.65625 \nQ 5.515625 15.328125 5.515625 27.984375 \nQ 5.515625 40.671875 11.671875 48.328125 \nQ 17.828125 56 27.875 56 \nQ 33.9375 56 38.28125 53.609375 \nQ 42.625 51.21875 45.40625 46.390625 \nL 45.40625 54.6875 \nL 54.390625 54.6875 \nz\n\" id=\"DejaVuSans-103\"/>\n     <path d=\"M 45.40625 46.390625 \nL 45.40625 75.984375 \nL 54.390625 75.984375 \nL 54.390625 0 \nL 45.40625 0 \nL 45.40625 8.203125 \nQ 42.578125 3.328125 38.25 0.953125 \nQ 33.9375 -1.421875 27.875 -1.421875 \nQ 17.96875 -1.421875 11.734375 6.484375 \nQ 5.515625 14.40625 5.515625 27.296875 \nQ 5.515625 40.1875 11.734375 48.09375 \nQ 17.96875 56 27.875 56 \nQ 33.9375 56 38.25 53.625 \nQ 42.578125 51.265625 45.40625 46.390625 \nz\nM 14.796875 27.296875 \nQ 14.796875 17.390625 18.875 11.75 \nQ 22.953125 6.109375 30.078125 6.109375 \nQ 37.203125 6.109375 41.296875 11.75 \nQ 45.40625 17.390625 45.40625 27.296875 \nQ 45.40625 37.203125 41.296875 42.84375 \nQ 37.203125 48.484375 30.078125 48.484375 \nQ 22.953125 48.484375 18.875 42.84375 \nQ 14.796875 37.203125 14.796875 27.296875 \nz\n\" id=\"DejaVuSans-100\"/>\n    </defs>\n    <g transform=\"translate(131.5325 16.318125)scale(0.12 -0.12)\">\n     <use xlink:href=\"#DejaVuSans-66\"/>\n     <use x=\"68.603516\" xlink:href=\"#DejaVuSans-97\"/>\n     <use x=\"129.882812\" xlink:href=\"#DejaVuSans-116\"/>\n     <use x=\"169.091797\" xlink:href=\"#DejaVuSans-99\"/>\n     <use x=\"224.072266\" xlink:href=\"#DejaVuSans-104\"/>\n     <use x=\"287.451172\" xlink:href=\"#DejaVuSans-32\"/>\n     <use x=\"319.238281\" xlink:href=\"#DejaVuSans-103\"/>\n     <use x=\"382.714844\" xlink:href=\"#DejaVuSans-114\"/>\n     <use x=\"423.828125\" xlink:href=\"#DejaVuSans-97\"/>\n     <use x=\"485.107422\" xlink:href=\"#DejaVuSans-100\"/>\n     <use x=\"548.583984\" xlink:href=\"#DejaVuSans-105\"/>\n     <use x=\"576.367188\" xlink:href=\"#DejaVuSans-101\"/>\n     <use x=\"637.890625\" xlink:href=\"#DejaVuSans-110\"/>\n     <use x=\"701.269531\" xlink:href=\"#DejaVuSans-116\"/>\n     <use x=\"740.478516\" xlink:href=\"#DejaVuSans-32\"/>\n     <use x=\"772.265625\" xlink:href=\"#DejaVuSans-100\"/>\n     <use x=\"835.742188\" xlink:href=\"#DejaVuSans-101\"/>\n     <use x=\"897.265625\" xlink:href=\"#DejaVuSans-115\"/>\n     <use x=\"949.365234\" xlink:href=\"#DejaVuSans-99\"/>\n     <use x=\"1004.345703\" xlink:href=\"#DejaVuSans-101\"/>\n     <use x=\"1065.869141\" xlink:href=\"#DejaVuSans-110\"/>\n     <use x=\"1129.248047\" xlink:href=\"#DejaVuSans-116\"/>\n    </g>\n   </g>\n  </g>\n </g>\n <defs>\n  <clipPath id=\"pdd4fc2c1e7\">\n   <rect height=\"217.44\" width=\"334.8\" x=\"34.240625\" y=\"22.318125\"/>\n  </clipPath>\n </defs>\n</svg>\n"
          },
          "metadata": {
            "tags": [],
            "needs_background": "light"
          }
        }
      ]
    },
    {
      "cell_type": "code",
      "metadata": {
        "colab": {
          "base_uri": "https://localhost:8080/"
        },
        "id": "fdJ43-NJcKFd",
        "outputId": "583a5781-c449-4b52-e436-876d5805198e"
      },
      "source": [
        "print(\"La probabilité qu'un manchot soit mâle est prédite par sigma(\", end='')\n",
        "print(\"%.2f + %.2f x bill_length_mm + %.2f x bill_depth_mm + %.2f x flipper_length_mm)\" % (tuple(betas[-1])))"
      ],
      "execution_count": null,
      "outputs": [
        {
          "output_type": "stream",
          "text": [
            "La probabilité qu'un manchot soit mâle est prédite par sigma(0.85 + 0.81 x bill_length_mm + 0.28 x bill_depth_mm + -0.20 x flipper_length_mm)\n"
          ],
          "name": "stdout"
        }
      ]
    },
    {
      "cell_type": "markdown",
      "metadata": {
        "id": "bOHOV1_jcKFd"
      },
      "source": [
        "__Remarque :__ Le risque empirique est infini à l'initialisation, d'où un `RuntimeWarning: divide by zero encountered in log`. En pratique, cette approche pourrait être améliorée par :\n",
        "* un pré-traitement des données consistant à centrer-réduire chaque variable ;\n",
        "* l'utilisation d'un taux d'apprentissage variable (élevé au début, plus faible à la fin)."
      ]
    },
    {
      "cell_type": "markdown",
      "metadata": {
        "id": "WahUzfoYcKFe"
      },
      "source": [
        "#### Performance"
      ]
    },
    {
      "cell_type": "code",
      "metadata": {
        "id": "7LscLzM1cKFe"
      },
      "source": [
        "X_test_ones = np.hstack((np.ones((X_test.shape[0], 1)), X_test))"
      ],
      "execution_count": null,
      "outputs": []
    },
    {
      "cell_type": "code",
      "metadata": {
        "id": "bKlty_S6cKFe"
      },
      "source": [
        "y_test_pred = np.where(sigmoid(X_test_ones.dot(betas[-1])) > 0.5, 1, 0)"
      ],
      "execution_count": null,
      "outputs": []
    },
    {
      "cell_type": "code",
      "metadata": {
        "colab": {
          "base_uri": "https://localhost:8080/",
          "height": 393
        },
        "id": "2vrnMe32cKFe",
        "outputId": "5b71ead1-fb7d-46e5-e40d-70356e160b9d"
      },
      "source": [
        "conf = metrics.confusion_matrix(y_test, y_test_pred)\n",
        "confusion_matrix_display = metrics.ConfusionMatrixDisplay(conf,display_labels=unique(y_test))\n",
        "confusion_matrix_display.plot()"
      ],
      "execution_count": null,
      "outputs": [
        {
          "output_type": "execute_result",
          "data": {
            "text/plain": [
              "<sklearn.metrics._plot.confusion_matrix.ConfusionMatrixDisplay at 0x7fcc54c2eed0>"
            ]
          },
          "metadata": {
            "tags": []
          },
          "execution_count": 209
        },
        {
          "output_type": "display_data",
          "data": {
            "text/plain": [
              "<Figure size 432x288 with 2 Axes>"
            ],
            "image/svg+xml": "<?xml version=\"1.0\" encoding=\"utf-8\" standalone=\"no\"?>\n<!DOCTYPE svg PUBLIC \"-//W3C//DTD SVG 1.1//EN\"\n  \"http://www.w3.org/Graphics/SVG/1.1/DTD/svg11.dtd\">\n<!-- Created with matplotlib (https://matplotlib.org/) -->\n<svg height=\"265.995469pt\" version=\"1.1\" viewBox=\"0 0 306.217625 265.995469\" width=\"306.217625pt\" xmlns=\"http://www.w3.org/2000/svg\" xmlns:xlink=\"http://www.w3.org/1999/xlink\">\n <defs>\n  <style type=\"text/css\">\n*{stroke-linecap:butt;stroke-linejoin:round;}\n  </style>\n </defs>\n <g id=\"figure_1\">\n  <g id=\"patch_1\">\n   <path d=\"M 0 265.995469 \nL 306.217625 265.995469 \nL 306.217625 0 \nL 0 0 \nz\n\" style=\"fill:none;\"/>\n  </g>\n  <g id=\"axes_1\">\n   <g id=\"patch_2\">\n    <path d=\"M 34.240625 228.439219 \nL 251.680625 228.439219 \nL 251.680625 10.999219 \nL 34.240625 10.999219 \nz\n\" style=\"fill:#ffffff;\"/>\n   </g>\n   <g clip-path=\"url(#pa5143e3f94)\">\n    <image height=\"218\" id=\"image6da73d5711\" transform=\"scale(1 -1)translate(0 -218)\" width=\"218\" x=\"34.240625\" xlink:href=\"data:image/png;base64,\niVBORw0KGgoAAAANSUhEUgAAANoAAADaCAYAAADAHVzbAAAABHNCSVQICAgIfAhkiAAAApFJREFUeJzt1UERg0AABEEOJRETCcjKAztxgQpsEA35zBVJt4L9TO14ju1auJX3ecyewJfW2QPgHwgNAkKDgNAgIDQICA0CQoOA0CAgNAgIDQJCg4DQICA0CAgNAkKDgNAgIDQICA0CQoOA0CAgNAgIDQJCg4DQICA0CAgNAkKDgNAgIDQICA0CQoOA0CAgNAgIDQJCg4DQICA0CAgNAkKDgNAgIDQICA0CQoOA0CAgNAgIDQJCg4DQICA0CAgNAkKDgNAgIDQICA0CQoOA0CAgNAgIDQJCg4DQICA0CAgNAkKDgNAgIDQICA0CQoOA0CAgNAgIDQJCg4DQICA0CAgNAkKDgNAgIDQICA0CQoOA0CAgNAgIDQJCg4DQICA0CAgNAkKDgNAgIDQICA0CQoOA0CAgNAgIDQJCg4DQICA0CAgNAkKDgNAgIDQICA0CQoOA0CAgNAgIDQJCg4DQIDAe++uaPQJ+nUeDgNAgIDQICA0CQoOA0CAgNAgIDQJCg4DQICA0CAgNAkKDgNAgIDQICA0CQoOA0CAgNAgIDQJCg4DQICA0CAgNAkKDgNAgIDQICA0CQoOA0CAgNAgIDQJCg4DQICA0CAgNAkKDgNAgIDQICA0CQoOA0CAgNAgIDQJCg4DQICA0CAgNAkKDgNAgIDQICA0CQoOA0CAgNAgIDQJCg4DQICA0CAgNAkKDgNAgIDQICA0CQoOA0CAgNAgIDQJCg4DQICA0CAgNAkKDgNAgIDQICA0CQoOA0CAgNAgIDQJCg4DQICA0CAgNAkKDgNAgIDQICA0CQoOA0CAgNAgIDQJCg4DQICA0CAgNAkKDgNAgIDQICA0CQoOA0CAgNAgIDQJCg4DQICA0CAgNAh9jcQf1N3nZLwAAAABJRU5ErkJggg==\" y=\"-10.439219\"/>\n   </g>\n   <g id=\"matplotlib.axis_1\">\n    <g id=\"xtick_1\">\n     <g id=\"line2d_1\">\n      <defs>\n       <path d=\"M 0 0 \nL 0 3.5 \n\" id=\"m7889af7e9b\" style=\"stroke:#000000;stroke-width:0.8;\"/>\n      </defs>\n      <g>\n       <use style=\"stroke:#000000;stroke-width:0.8;\" x=\"88.600625\" xlink:href=\"#m7889af7e9b\" y=\"228.439219\"/>\n      </g>\n     </g>\n     <g id=\"text_1\">\n      <!-- 0 -->\n      <defs>\n       <path d=\"M 31.78125 66.40625 \nQ 24.171875 66.40625 20.328125 58.90625 \nQ 16.5 51.421875 16.5 36.375 \nQ 16.5 21.390625 20.328125 13.890625 \nQ 24.171875 6.390625 31.78125 6.390625 \nQ 39.453125 6.390625 43.28125 13.890625 \nQ 47.125 21.390625 47.125 36.375 \nQ 47.125 51.421875 43.28125 58.90625 \nQ 39.453125 66.40625 31.78125 66.40625 \nz\nM 31.78125 74.21875 \nQ 44.046875 74.21875 50.515625 64.515625 \nQ 56.984375 54.828125 56.984375 36.375 \nQ 56.984375 17.96875 50.515625 8.265625 \nQ 44.046875 -1.421875 31.78125 -1.421875 \nQ 19.53125 -1.421875 13.0625 8.265625 \nQ 6.59375 17.96875 6.59375 36.375 \nQ 6.59375 54.828125 13.0625 64.515625 \nQ 19.53125 74.21875 31.78125 74.21875 \nz\n\" id=\"DejaVuSans-48\"/>\n      </defs>\n      <g transform=\"translate(85.419375 243.037656)scale(0.1 -0.1)\">\n       <use xlink:href=\"#DejaVuSans-48\"/>\n      </g>\n     </g>\n    </g>\n    <g id=\"xtick_2\">\n     <g id=\"line2d_2\">\n      <g>\n       <use style=\"stroke:#000000;stroke-width:0.8;\" x=\"197.320625\" xlink:href=\"#m7889af7e9b\" y=\"228.439219\"/>\n      </g>\n     </g>\n     <g id=\"text_2\">\n      <!-- 1 -->\n      <defs>\n       <path d=\"M 12.40625 8.296875 \nL 28.515625 8.296875 \nL 28.515625 63.921875 \nL 10.984375 60.40625 \nL 10.984375 69.390625 \nL 28.421875 72.90625 \nL 38.28125 72.90625 \nL 38.28125 8.296875 \nL 54.390625 8.296875 \nL 54.390625 0 \nL 12.40625 0 \nz\n\" id=\"DejaVuSans-49\"/>\n      </defs>\n      <g transform=\"translate(194.139375 243.037656)scale(0.1 -0.1)\">\n       <use xlink:href=\"#DejaVuSans-49\"/>\n      </g>\n     </g>\n    </g>\n    <g id=\"text_3\">\n     <!-- Predicted label -->\n     <defs>\n      <path d=\"M 19.671875 64.796875 \nL 19.671875 37.40625 \nL 32.078125 37.40625 \nQ 38.96875 37.40625 42.71875 40.96875 \nQ 46.484375 44.53125 46.484375 51.125 \nQ 46.484375 57.671875 42.71875 61.234375 \nQ 38.96875 64.796875 32.078125 64.796875 \nz\nM 9.8125 72.90625 \nL 32.078125 72.90625 \nQ 44.34375 72.90625 50.609375 67.359375 \nQ 56.890625 61.8125 56.890625 51.125 \nQ 56.890625 40.328125 50.609375 34.8125 \nQ 44.34375 29.296875 32.078125 29.296875 \nL 19.671875 29.296875 \nL 19.671875 0 \nL 9.8125 0 \nz\n\" id=\"DejaVuSans-80\"/>\n      <path d=\"M 41.109375 46.296875 \nQ 39.59375 47.171875 37.8125 47.578125 \nQ 36.03125 48 33.890625 48 \nQ 26.265625 48 22.1875 43.046875 \nQ 18.109375 38.09375 18.109375 28.8125 \nL 18.109375 0 \nL 9.078125 0 \nL 9.078125 54.6875 \nL 18.109375 54.6875 \nL 18.109375 46.1875 \nQ 20.953125 51.171875 25.484375 53.578125 \nQ 30.03125 56 36.53125 56 \nQ 37.453125 56 38.578125 55.875 \nQ 39.703125 55.765625 41.0625 55.515625 \nz\n\" id=\"DejaVuSans-114\"/>\n      <path d=\"M 56.203125 29.59375 \nL 56.203125 25.203125 \nL 14.890625 25.203125 \nQ 15.484375 15.921875 20.484375 11.0625 \nQ 25.484375 6.203125 34.421875 6.203125 \nQ 39.59375 6.203125 44.453125 7.46875 \nQ 49.3125 8.734375 54.109375 11.28125 \nL 54.109375 2.78125 \nQ 49.265625 0.734375 44.1875 -0.34375 \nQ 39.109375 -1.421875 33.890625 -1.421875 \nQ 20.796875 -1.421875 13.15625 6.1875 \nQ 5.515625 13.8125 5.515625 26.8125 \nQ 5.515625 40.234375 12.765625 48.109375 \nQ 20.015625 56 32.328125 56 \nQ 43.359375 56 49.78125 48.890625 \nQ 56.203125 41.796875 56.203125 29.59375 \nz\nM 47.21875 32.234375 \nQ 47.125 39.59375 43.09375 43.984375 \nQ 39.0625 48.390625 32.421875 48.390625 \nQ 24.90625 48.390625 20.390625 44.140625 \nQ 15.875 39.890625 15.1875 32.171875 \nz\n\" id=\"DejaVuSans-101\"/>\n      <path d=\"M 45.40625 46.390625 \nL 45.40625 75.984375 \nL 54.390625 75.984375 \nL 54.390625 0 \nL 45.40625 0 \nL 45.40625 8.203125 \nQ 42.578125 3.328125 38.25 0.953125 \nQ 33.9375 -1.421875 27.875 -1.421875 \nQ 17.96875 -1.421875 11.734375 6.484375 \nQ 5.515625 14.40625 5.515625 27.296875 \nQ 5.515625 40.1875 11.734375 48.09375 \nQ 17.96875 56 27.875 56 \nQ 33.9375 56 38.25 53.625 \nQ 42.578125 51.265625 45.40625 46.390625 \nz\nM 14.796875 27.296875 \nQ 14.796875 17.390625 18.875 11.75 \nQ 22.953125 6.109375 30.078125 6.109375 \nQ 37.203125 6.109375 41.296875 11.75 \nQ 45.40625 17.390625 45.40625 27.296875 \nQ 45.40625 37.203125 41.296875 42.84375 \nQ 37.203125 48.484375 30.078125 48.484375 \nQ 22.953125 48.484375 18.875 42.84375 \nQ 14.796875 37.203125 14.796875 27.296875 \nz\n\" id=\"DejaVuSans-100\"/>\n      <path d=\"M 9.421875 54.6875 \nL 18.40625 54.6875 \nL 18.40625 0 \nL 9.421875 0 \nz\nM 9.421875 75.984375 \nL 18.40625 75.984375 \nL 18.40625 64.59375 \nL 9.421875 64.59375 \nz\n\" id=\"DejaVuSans-105\"/>\n      <path d=\"M 48.78125 52.59375 \nL 48.78125 44.1875 \nQ 44.96875 46.296875 41.140625 47.34375 \nQ 37.3125 48.390625 33.40625 48.390625 \nQ 24.65625 48.390625 19.8125 42.84375 \nQ 14.984375 37.3125 14.984375 27.296875 \nQ 14.984375 17.28125 19.8125 11.734375 \nQ 24.65625 6.203125 33.40625 6.203125 \nQ 37.3125 6.203125 41.140625 7.25 \nQ 44.96875 8.296875 48.78125 10.40625 \nL 48.78125 2.09375 \nQ 45.015625 0.34375 40.984375 -0.53125 \nQ 36.96875 -1.421875 32.421875 -1.421875 \nQ 20.0625 -1.421875 12.78125 6.34375 \nQ 5.515625 14.109375 5.515625 27.296875 \nQ 5.515625 40.671875 12.859375 48.328125 \nQ 20.21875 56 33.015625 56 \nQ 37.15625 56 41.109375 55.140625 \nQ 45.0625 54.296875 48.78125 52.59375 \nz\n\" id=\"DejaVuSans-99\"/>\n      <path d=\"M 18.3125 70.21875 \nL 18.3125 54.6875 \nL 36.8125 54.6875 \nL 36.8125 47.703125 \nL 18.3125 47.703125 \nL 18.3125 18.015625 \nQ 18.3125 11.328125 20.140625 9.421875 \nQ 21.96875 7.515625 27.59375 7.515625 \nL 36.8125 7.515625 \nL 36.8125 0 \nL 27.59375 0 \nQ 17.1875 0 13.234375 3.875 \nQ 9.28125 7.765625 9.28125 18.015625 \nL 9.28125 47.703125 \nL 2.6875 47.703125 \nL 2.6875 54.6875 \nL 9.28125 54.6875 \nL 9.28125 70.21875 \nz\n\" id=\"DejaVuSans-116\"/>\n      <path id=\"DejaVuSans-32\"/>\n      <path d=\"M 9.421875 75.984375 \nL 18.40625 75.984375 \nL 18.40625 0 \nL 9.421875 0 \nz\n\" id=\"DejaVuSans-108\"/>\n      <path d=\"M 34.28125 27.484375 \nQ 23.390625 27.484375 19.1875 25 \nQ 14.984375 22.515625 14.984375 16.5 \nQ 14.984375 11.71875 18.140625 8.90625 \nQ 21.296875 6.109375 26.703125 6.109375 \nQ 34.1875 6.109375 38.703125 11.40625 \nQ 43.21875 16.703125 43.21875 25.484375 \nL 43.21875 27.484375 \nz\nM 52.203125 31.203125 \nL 52.203125 0 \nL 43.21875 0 \nL 43.21875 8.296875 \nQ 40.140625 3.328125 35.546875 0.953125 \nQ 30.953125 -1.421875 24.3125 -1.421875 \nQ 15.921875 -1.421875 10.953125 3.296875 \nQ 6 8.015625 6 15.921875 \nQ 6 25.140625 12.171875 29.828125 \nQ 18.359375 34.515625 30.609375 34.515625 \nL 43.21875 34.515625 \nL 43.21875 35.40625 \nQ 43.21875 41.609375 39.140625 45 \nQ 35.0625 48.390625 27.6875 48.390625 \nQ 23 48.390625 18.546875 47.265625 \nQ 14.109375 46.140625 10.015625 43.890625 \nL 10.015625 52.203125 \nQ 14.9375 54.109375 19.578125 55.046875 \nQ 24.21875 56 28.609375 56 \nQ 40.484375 56 46.34375 49.84375 \nQ 52.203125 43.703125 52.203125 31.203125 \nz\n\" id=\"DejaVuSans-97\"/>\n      <path d=\"M 48.6875 27.296875 \nQ 48.6875 37.203125 44.609375 42.84375 \nQ 40.53125 48.484375 33.40625 48.484375 \nQ 26.265625 48.484375 22.1875 42.84375 \nQ 18.109375 37.203125 18.109375 27.296875 \nQ 18.109375 17.390625 22.1875 11.75 \nQ 26.265625 6.109375 33.40625 6.109375 \nQ 40.53125 6.109375 44.609375 11.75 \nQ 48.6875 17.390625 48.6875 27.296875 \nz\nM 18.109375 46.390625 \nQ 20.953125 51.265625 25.265625 53.625 \nQ 29.59375 56 35.59375 56 \nQ 45.5625 56 51.78125 48.09375 \nQ 58.015625 40.1875 58.015625 27.296875 \nQ 58.015625 14.40625 51.78125 6.484375 \nQ 45.5625 -1.421875 35.59375 -1.421875 \nQ 29.59375 -1.421875 25.265625 0.953125 \nQ 20.953125 3.328125 18.109375 8.203125 \nL 18.109375 0 \nL 9.078125 0 \nL 9.078125 75.984375 \nL 18.109375 75.984375 \nz\n\" id=\"DejaVuSans-98\"/>\n     </defs>\n     <g transform=\"translate(105.808281 256.715781)scale(0.1 -0.1)\">\n      <use xlink:href=\"#DejaVuSans-80\"/>\n      <use x=\"58.552734\" xlink:href=\"#DejaVuSans-114\"/>\n      <use x=\"97.416016\" xlink:href=\"#DejaVuSans-101\"/>\n      <use x=\"158.939453\" xlink:href=\"#DejaVuSans-100\"/>\n      <use x=\"222.416016\" xlink:href=\"#DejaVuSans-105\"/>\n      <use x=\"250.199219\" xlink:href=\"#DejaVuSans-99\"/>\n      <use x=\"305.179688\" xlink:href=\"#DejaVuSans-116\"/>\n      <use x=\"344.388672\" xlink:href=\"#DejaVuSans-101\"/>\n      <use x=\"405.912109\" xlink:href=\"#DejaVuSans-100\"/>\n      <use x=\"469.388672\" xlink:href=\"#DejaVuSans-32\"/>\n      <use x=\"501.175781\" xlink:href=\"#DejaVuSans-108\"/>\n      <use x=\"528.958984\" xlink:href=\"#DejaVuSans-97\"/>\n      <use x=\"590.238281\" xlink:href=\"#DejaVuSans-98\"/>\n      <use x=\"653.714844\" xlink:href=\"#DejaVuSans-101\"/>\n      <use x=\"715.238281\" xlink:href=\"#DejaVuSans-108\"/>\n     </g>\n    </g>\n   </g>\n   <g id=\"matplotlib.axis_2\">\n    <g id=\"ytick_1\">\n     <g id=\"line2d_3\">\n      <defs>\n       <path d=\"M 0 0 \nL -3.5 0 \n\" id=\"m4a430b8112\" style=\"stroke:#000000;stroke-width:0.8;\"/>\n      </defs>\n      <g>\n       <use style=\"stroke:#000000;stroke-width:0.8;\" x=\"34.240625\" xlink:href=\"#m4a430b8112\" y=\"65.359219\"/>\n      </g>\n     </g>\n     <g id=\"text_4\">\n      <!-- 0 -->\n      <g transform=\"translate(20.878125 69.158438)scale(0.1 -0.1)\">\n       <use xlink:href=\"#DejaVuSans-48\"/>\n      </g>\n     </g>\n    </g>\n    <g id=\"ytick_2\">\n     <g id=\"line2d_4\">\n      <g>\n       <use style=\"stroke:#000000;stroke-width:0.8;\" x=\"34.240625\" xlink:href=\"#m4a430b8112\" y=\"174.079219\"/>\n      </g>\n     </g>\n     <g id=\"text_5\">\n      <!-- 1 -->\n      <g transform=\"translate(20.878125 177.878438)scale(0.1 -0.1)\">\n       <use xlink:href=\"#DejaVuSans-49\"/>\n      </g>\n     </g>\n    </g>\n    <g id=\"text_6\">\n     <!-- True label -->\n     <defs>\n      <path d=\"M -0.296875 72.90625 \nL 61.375 72.90625 \nL 61.375 64.59375 \nL 35.5 64.59375 \nL 35.5 0 \nL 25.59375 0 \nL 25.59375 64.59375 \nL -0.296875 64.59375 \nz\n\" id=\"DejaVuSans-84\"/>\n      <path d=\"M 8.5 21.578125 \nL 8.5 54.6875 \nL 17.484375 54.6875 \nL 17.484375 21.921875 \nQ 17.484375 14.15625 20.5 10.265625 \nQ 23.53125 6.390625 29.59375 6.390625 \nQ 36.859375 6.390625 41.078125 11.03125 \nQ 45.3125 15.671875 45.3125 23.6875 \nL 45.3125 54.6875 \nL 54.296875 54.6875 \nL 54.296875 0 \nL 45.3125 0 \nL 45.3125 8.40625 \nQ 42.046875 3.421875 37.71875 1 \nQ 33.40625 -1.421875 27.6875 -1.421875 \nQ 18.265625 -1.421875 13.375 4.4375 \nQ 8.5 10.296875 8.5 21.578125 \nz\nM 31.109375 56 \nz\n\" id=\"DejaVuSans-117\"/>\n     </defs>\n     <g transform=\"translate(14.798437 144.018438)rotate(-90)scale(0.1 -0.1)\">\n      <use xlink:href=\"#DejaVuSans-84\"/>\n      <use x=\"46.333984\" xlink:href=\"#DejaVuSans-114\"/>\n      <use x=\"87.447266\" xlink:href=\"#DejaVuSans-117\"/>\n      <use x=\"150.826172\" xlink:href=\"#DejaVuSans-101\"/>\n      <use x=\"212.349609\" xlink:href=\"#DejaVuSans-32\"/>\n      <use x=\"244.136719\" xlink:href=\"#DejaVuSans-108\"/>\n      <use x=\"271.919922\" xlink:href=\"#DejaVuSans-97\"/>\n      <use x=\"333.199219\" xlink:href=\"#DejaVuSans-98\"/>\n      <use x=\"396.675781\" xlink:href=\"#DejaVuSans-101\"/>\n      <use x=\"458.199219\" xlink:href=\"#DejaVuSans-108\"/>\n     </g>\n    </g>\n   </g>\n   <g id=\"patch_3\">\n    <path d=\"M 34.240625 228.439219 \nL 34.240625 10.999219 \n\" style=\"fill:none;stroke:#000000;stroke-linecap:square;stroke-linejoin:miter;stroke-width:0.8;\"/>\n   </g>\n   <g id=\"patch_4\">\n    <path d=\"M 251.680625 228.439219 \nL 251.680625 10.999219 \n\" style=\"fill:none;stroke:#000000;stroke-linecap:square;stroke-linejoin:miter;stroke-width:0.8;\"/>\n   </g>\n   <g id=\"patch_5\">\n    <path d=\"M 34.240625 228.439219 \nL 251.680625 228.439219 \n\" style=\"fill:none;stroke:#000000;stroke-linecap:square;stroke-linejoin:miter;stroke-width:0.8;\"/>\n   </g>\n   <g id=\"patch_6\">\n    <path d=\"M 34.240625 10.999219 \nL 251.680625 10.999219 \n\" style=\"fill:none;stroke:#000000;stroke-linecap:square;stroke-linejoin:miter;stroke-width:0.8;\"/>\n   </g>\n   <g id=\"text_7\">\n    <!-- 25 -->\n    <defs>\n     <path d=\"M 19.1875 8.296875 \nL 53.609375 8.296875 \nL 53.609375 0 \nL 7.328125 0 \nL 7.328125 8.296875 \nQ 12.9375 14.109375 22.625 23.890625 \nQ 32.328125 33.6875 34.8125 36.53125 \nQ 39.546875 41.84375 41.421875 45.53125 \nQ 43.3125 49.21875 43.3125 52.78125 \nQ 43.3125 58.59375 39.234375 62.25 \nQ 35.15625 65.921875 28.609375 65.921875 \nQ 23.96875 65.921875 18.8125 64.3125 \nQ 13.671875 62.703125 7.8125 59.421875 \nL 7.8125 69.390625 \nQ 13.765625 71.78125 18.9375 73 \nQ 24.125 74.21875 28.421875 74.21875 \nQ 39.75 74.21875 46.484375 68.546875 \nQ 53.21875 62.890625 53.21875 53.421875 \nQ 53.21875 48.921875 51.53125 44.890625 \nQ 49.859375 40.875 45.40625 35.40625 \nQ 44.1875 33.984375 37.640625 27.21875 \nQ 31.109375 20.453125 19.1875 8.296875 \nz\n\" id=\"DejaVuSans-50\"/>\n     <path d=\"M 10.796875 72.90625 \nL 49.515625 72.90625 \nL 49.515625 64.59375 \nL 19.828125 64.59375 \nL 19.828125 46.734375 \nQ 21.96875 47.46875 24.109375 47.828125 \nQ 26.265625 48.1875 28.421875 48.1875 \nQ 40.625 48.1875 47.75 41.5 \nQ 54.890625 34.8125 54.890625 23.390625 \nQ 54.890625 11.625 47.5625 5.09375 \nQ 40.234375 -1.421875 26.90625 -1.421875 \nQ 22.3125 -1.421875 17.546875 -0.640625 \nQ 12.796875 0.140625 7.71875 1.703125 \nL 7.71875 11.625 \nQ 12.109375 9.234375 16.796875 8.0625 \nQ 21.484375 6.890625 26.703125 6.890625 \nQ 35.15625 6.890625 40.078125 11.328125 \nQ 45.015625 15.765625 45.015625 23.390625 \nQ 45.015625 31 40.078125 35.4375 \nQ 35.15625 39.890625 26.703125 39.890625 \nQ 22.75 39.890625 18.8125 39.015625 \nQ 14.890625 38.140625 10.796875 36.28125 \nz\n\" id=\"DejaVuSans-53\"/>\n    </defs>\n    <g style=\"fill:#440154;\" transform=\"translate(82.238125 68.118594)scale(0.1 -0.1)\">\n     <use xlink:href=\"#DejaVuSans-50\"/>\n     <use x=\"63.623047\" xlink:href=\"#DejaVuSans-53\"/>\n    </g>\n   </g>\n   <g id=\"text_8\">\n    <!-- 25 -->\n    <g style=\"fill:#440154;\" transform=\"translate(190.958125 68.118594)scale(0.1 -0.1)\">\n     <use xlink:href=\"#DejaVuSans-50\"/>\n     <use x=\"63.623047\" xlink:href=\"#DejaVuSans-53\"/>\n    </g>\n   </g>\n   <g id=\"text_9\">\n    <!-- 20 -->\n    <g style=\"fill:#fde725;\" transform=\"translate(82.238125 176.838594)scale(0.1 -0.1)\">\n     <use xlink:href=\"#DejaVuSans-50\"/>\n     <use x=\"63.623047\" xlink:href=\"#DejaVuSans-48\"/>\n    </g>\n   </g>\n   <g id=\"text_10\">\n    <!-- 30 -->\n    <defs>\n     <path d=\"M 40.578125 39.3125 \nQ 47.65625 37.796875 51.625 33 \nQ 55.609375 28.21875 55.609375 21.1875 \nQ 55.609375 10.40625 48.1875 4.484375 \nQ 40.765625 -1.421875 27.09375 -1.421875 \nQ 22.515625 -1.421875 17.65625 -0.515625 \nQ 12.796875 0.390625 7.625 2.203125 \nL 7.625 11.71875 \nQ 11.71875 9.328125 16.59375 8.109375 \nQ 21.484375 6.890625 26.8125 6.890625 \nQ 36.078125 6.890625 40.9375 10.546875 \nQ 45.796875 14.203125 45.796875 21.1875 \nQ 45.796875 27.640625 41.28125 31.265625 \nQ 36.765625 34.90625 28.71875 34.90625 \nL 20.21875 34.90625 \nL 20.21875 43.015625 \nL 29.109375 43.015625 \nQ 36.375 43.015625 40.234375 45.921875 \nQ 44.09375 48.828125 44.09375 54.296875 \nQ 44.09375 59.90625 40.109375 62.90625 \nQ 36.140625 65.921875 28.71875 65.921875 \nQ 24.65625 65.921875 20.015625 65.03125 \nQ 15.375 64.15625 9.8125 62.3125 \nL 9.8125 71.09375 \nQ 15.4375 72.65625 20.34375 73.4375 \nQ 25.25 74.21875 29.59375 74.21875 \nQ 40.828125 74.21875 47.359375 69.109375 \nQ 53.90625 64.015625 53.90625 55.328125 \nQ 53.90625 49.265625 50.4375 45.09375 \nQ 46.96875 40.921875 40.578125 39.3125 \nz\n\" id=\"DejaVuSans-51\"/>\n    </defs>\n    <g style=\"fill:#440154;\" transform=\"translate(190.958125 176.838594)scale(0.1 -0.1)\">\n     <use xlink:href=\"#DejaVuSans-51\"/>\n     <use x=\"63.623047\" xlink:href=\"#DejaVuSans-48\"/>\n    </g>\n   </g>\n  </g>\n  <g id=\"axes_2\">\n   <g id=\"patch_7\">\n    <path clip-path=\"url(#pfbd908cbc8)\" d=\"M 268.420625 228.439219 \nL 268.420625 227.589844 \nL 268.420625 11.848594 \nL 268.420625 10.999219 \nL 279.292625 10.999219 \nL 279.292625 11.848594 \nL 279.292625 227.589844 \nL 279.292625 228.439219 \nz\n\" style=\"fill:#ffffff;stroke:#ffffff;stroke-linejoin:miter;stroke-width:0.01;\"/>\n   </g>\n   <image height=\"217\" id=\"image54354fe53d\" transform=\"scale(1 -1)translate(0 -217)\" width=\"11\" x=\"268\" xlink:href=\"data:image/png;base64,\niVBORw0KGgoAAAANSUhEUgAAAAsAAADZCAYAAAD2WsoCAAAABHNCSVQICAgIfAhkiAAAAWFJREFUaIHt2kFuwzAQQ1FpJOdkPUPvf5C26bZANnoLAuMiWRPEJ2dkO07mR30+x+Fnz5qn2rHnWufiMQvEgjGmMJdgiPOgNqjnHtVZQHLOid9t/BXH2niuHgGJ2cbdA+P8SpDFEOcgc8p5iDMtv/VMGLE2bIK0G8YM4iZtBDFy1VHALqcbxOSMAVMY6By7yNyyjZjzHds41+Lzxh0n+P/HTc4txg0Q79P9Ij4/33fcjTZtBMcNzMHqKoXRpA14REq2MUYuIDjPWEDrmZhNDBjUhmGcU3DAVBurfjpgVKyNJeIcRhPnNWHc5NxEvO8YUG4T1kZ9d8AoGYodWGGmNpa1kdo6amNPCphjFmfpmZwvacNWNLYbuaE85hc4x4ZSEpCW/5KA1DNekcg5tRu0/LbPwYCpG9Bj0KVAlp9OigU81o592YEF5wVfCLe83dtLfsgowbjgfZZigDMxL/kjkGD8AgQsgWhMNMxTAAAAAElFTkSuQmCC\" y=\"-10\"/>\n   <g id=\"matplotlib.axis_3\"/>\n   <g id=\"matplotlib.axis_4\">\n    <g id=\"ytick_3\">\n     <g id=\"line2d_5\">\n      <defs>\n       <path d=\"M 0 0 \nL 3.5 0 \n\" id=\"m78ecb6e144\" style=\"stroke:#000000;stroke-width:0.8;\"/>\n      </defs>\n      <g>\n       <use style=\"stroke:#000000;stroke-width:0.8;\" x=\"279.292625\" xlink:href=\"#m78ecb6e144\" y=\"228.439219\"/>\n      </g>\n     </g>\n     <g id=\"text_11\">\n      <!-- 20 -->\n      <g transform=\"translate(286.292625 232.238437)scale(0.1 -0.1)\">\n       <use xlink:href=\"#DejaVuSans-50\"/>\n       <use x=\"63.623047\" xlink:href=\"#DejaVuSans-48\"/>\n      </g>\n     </g>\n    </g>\n    <g id=\"ytick_4\">\n     <g id=\"line2d_6\">\n      <g>\n       <use style=\"stroke:#000000;stroke-width:0.8;\" x=\"279.292625\" xlink:href=\"#m78ecb6e144\" y=\"184.951219\"/>\n      </g>\n     </g>\n     <g id=\"text_12\">\n      <!-- 22 -->\n      <g transform=\"translate(286.292625 188.750437)scale(0.1 -0.1)\">\n       <use xlink:href=\"#DejaVuSans-50\"/>\n       <use x=\"63.623047\" xlink:href=\"#DejaVuSans-50\"/>\n      </g>\n     </g>\n    </g>\n    <g id=\"ytick_5\">\n     <g id=\"line2d_7\">\n      <g>\n       <use style=\"stroke:#000000;stroke-width:0.8;\" x=\"279.292625\" xlink:href=\"#m78ecb6e144\" y=\"141.463219\"/>\n      </g>\n     </g>\n     <g id=\"text_13\">\n      <!-- 24 -->\n      <defs>\n       <path d=\"M 37.796875 64.3125 \nL 12.890625 25.390625 \nL 37.796875 25.390625 \nz\nM 35.203125 72.90625 \nL 47.609375 72.90625 \nL 47.609375 25.390625 \nL 58.015625 25.390625 \nL 58.015625 17.1875 \nL 47.609375 17.1875 \nL 47.609375 0 \nL 37.796875 0 \nL 37.796875 17.1875 \nL 4.890625 17.1875 \nL 4.890625 26.703125 \nz\n\" id=\"DejaVuSans-52\"/>\n      </defs>\n      <g transform=\"translate(286.292625 145.262437)scale(0.1 -0.1)\">\n       <use xlink:href=\"#DejaVuSans-50\"/>\n       <use x=\"63.623047\" xlink:href=\"#DejaVuSans-52\"/>\n      </g>\n     </g>\n    </g>\n    <g id=\"ytick_6\">\n     <g id=\"line2d_8\">\n      <g>\n       <use style=\"stroke:#000000;stroke-width:0.8;\" x=\"279.292625\" xlink:href=\"#m78ecb6e144\" y=\"97.975219\"/>\n      </g>\n     </g>\n     <g id=\"text_14\">\n      <!-- 26 -->\n      <defs>\n       <path d=\"M 33.015625 40.375 \nQ 26.375 40.375 22.484375 35.828125 \nQ 18.609375 31.296875 18.609375 23.390625 \nQ 18.609375 15.53125 22.484375 10.953125 \nQ 26.375 6.390625 33.015625 6.390625 \nQ 39.65625 6.390625 43.53125 10.953125 \nQ 47.40625 15.53125 47.40625 23.390625 \nQ 47.40625 31.296875 43.53125 35.828125 \nQ 39.65625 40.375 33.015625 40.375 \nz\nM 52.59375 71.296875 \nL 52.59375 62.3125 \nQ 48.875 64.0625 45.09375 64.984375 \nQ 41.3125 65.921875 37.59375 65.921875 \nQ 27.828125 65.921875 22.671875 59.328125 \nQ 17.53125 52.734375 16.796875 39.40625 \nQ 19.671875 43.65625 24.015625 45.921875 \nQ 28.375 48.1875 33.59375 48.1875 \nQ 44.578125 48.1875 50.953125 41.515625 \nQ 57.328125 34.859375 57.328125 23.390625 \nQ 57.328125 12.15625 50.6875 5.359375 \nQ 44.046875 -1.421875 33.015625 -1.421875 \nQ 20.359375 -1.421875 13.671875 8.265625 \nQ 6.984375 17.96875 6.984375 36.375 \nQ 6.984375 53.65625 15.1875 63.9375 \nQ 23.390625 74.21875 37.203125 74.21875 \nQ 40.921875 74.21875 44.703125 73.484375 \nQ 48.484375 72.75 52.59375 71.296875 \nz\n\" id=\"DejaVuSans-54\"/>\n      </defs>\n      <g transform=\"translate(286.292625 101.774437)scale(0.1 -0.1)\">\n       <use xlink:href=\"#DejaVuSans-50\"/>\n       <use x=\"63.623047\" xlink:href=\"#DejaVuSans-54\"/>\n      </g>\n     </g>\n    </g>\n    <g id=\"ytick_7\">\n     <g id=\"line2d_9\">\n      <g>\n       <use style=\"stroke:#000000;stroke-width:0.8;\" x=\"279.292625\" xlink:href=\"#m78ecb6e144\" y=\"54.487219\"/>\n      </g>\n     </g>\n     <g id=\"text_15\">\n      <!-- 28 -->\n      <defs>\n       <path d=\"M 31.78125 34.625 \nQ 24.75 34.625 20.71875 30.859375 \nQ 16.703125 27.09375 16.703125 20.515625 \nQ 16.703125 13.921875 20.71875 10.15625 \nQ 24.75 6.390625 31.78125 6.390625 \nQ 38.8125 6.390625 42.859375 10.171875 \nQ 46.921875 13.96875 46.921875 20.515625 \nQ 46.921875 27.09375 42.890625 30.859375 \nQ 38.875 34.625 31.78125 34.625 \nz\nM 21.921875 38.8125 \nQ 15.578125 40.375 12.03125 44.71875 \nQ 8.5 49.078125 8.5 55.328125 \nQ 8.5 64.0625 14.71875 69.140625 \nQ 20.953125 74.21875 31.78125 74.21875 \nQ 42.671875 74.21875 48.875 69.140625 \nQ 55.078125 64.0625 55.078125 55.328125 \nQ 55.078125 49.078125 51.53125 44.71875 \nQ 48 40.375 41.703125 38.8125 \nQ 48.828125 37.15625 52.796875 32.3125 \nQ 56.78125 27.484375 56.78125 20.515625 \nQ 56.78125 9.90625 50.3125 4.234375 \nQ 43.84375 -1.421875 31.78125 -1.421875 \nQ 19.734375 -1.421875 13.25 4.234375 \nQ 6.78125 9.90625 6.78125 20.515625 \nQ 6.78125 27.484375 10.78125 32.3125 \nQ 14.796875 37.15625 21.921875 38.8125 \nz\nM 18.3125 54.390625 \nQ 18.3125 48.734375 21.84375 45.5625 \nQ 25.390625 42.390625 31.78125 42.390625 \nQ 38.140625 42.390625 41.71875 45.5625 \nQ 45.3125 48.734375 45.3125 54.390625 \nQ 45.3125 60.0625 41.71875 63.234375 \nQ 38.140625 66.40625 31.78125 66.40625 \nQ 25.390625 66.40625 21.84375 63.234375 \nQ 18.3125 60.0625 18.3125 54.390625 \nz\n\" id=\"DejaVuSans-56\"/>\n      </defs>\n      <g transform=\"translate(286.292625 58.286437)scale(0.1 -0.1)\">\n       <use xlink:href=\"#DejaVuSans-50\"/>\n       <use x=\"63.623047\" xlink:href=\"#DejaVuSans-56\"/>\n      </g>\n     </g>\n    </g>\n    <g id=\"ytick_8\">\n     <g id=\"line2d_10\">\n      <g>\n       <use style=\"stroke:#000000;stroke-width:0.8;\" x=\"279.292625\" xlink:href=\"#m78ecb6e144\" y=\"10.999219\"/>\n      </g>\n     </g>\n     <g id=\"text_16\">\n      <!-- 30 -->\n      <g transform=\"translate(286.292625 14.798438)scale(0.1 -0.1)\">\n       <use xlink:href=\"#DejaVuSans-51\"/>\n       <use x=\"63.623047\" xlink:href=\"#DejaVuSans-48\"/>\n      </g>\n     </g>\n    </g>\n   </g>\n   <g id=\"patch_8\">\n    <path d=\"M 268.420625 228.439219 \nL 268.420625 227.589844 \nL 268.420625 11.848594 \nL 268.420625 10.999219 \nL 279.292625 10.999219 \nL 279.292625 11.848594 \nL 279.292625 227.589844 \nL 279.292625 228.439219 \nz\n\" style=\"fill:none;stroke:#000000;stroke-linejoin:miter;stroke-width:0.8;\"/>\n   </g>\n  </g>\n </g>\n <defs>\n  <clipPath id=\"pa5143e3f94\">\n   <rect height=\"217.44\" width=\"217.44\" x=\"34.240625\" y=\"10.999219\"/>\n  </clipPath>\n  <clipPath id=\"pfbd908cbc8\">\n   <rect height=\"217.44\" width=\"10.872\" x=\"268.420625\" y=\"10.999219\"/>\n  </clipPath>\n </defs>\n</svg>\n"
          },
          "metadata": {
            "tags": [],
            "needs_background": "light"
          }
        }
      ]
    },
    {
      "cell_type": "code",
      "metadata": {
        "colab": {
          "base_uri": "https://localhost:8080/"
        },
        "id": "69iod5sNcKFe",
        "outputId": "17dcb571-3b7c-4e02-bde6-40f0265ab26e"
      },
      "source": [
        "print(\"%d manchots mâles ont été incorrectement prédits femelle.\" % metrics.confusion_matrix(y_test, y_test_pred)[1, 0])\n",
        "print(\"%d manchots femelles ont été incorrectement prédits mâles.\" % metrics.confusion_matrix(y_test, y_test_pred)[0, 1])"
      ],
      "execution_count": null,
      "outputs": [
        {
          "output_type": "stream",
          "text": [
            "20 manchots mâles ont été incorrectement prédits femelle.\n",
            "25 manchots femelles ont été incorrectement prédits mâles.\n"
          ],
          "name": "stdout"
        }
      ]
    },
    {
      "cell_type": "code",
      "metadata": {
        "colab": {
          "base_uri": "https://localhost:8080/"
        },
        "id": "w8UvA96ucKFe",
        "outputId": "b09f0ce5-637e-4c87-c3fc-13471e7c5d8e"
      },
      "source": [
        "print(\"%.f%% des prédictions du modèle sur le jeu de test sont correctes.\" % (100*metrics.accuracy_score(y_test, y_test_pred)))"
      ],
      "execution_count": null,
      "outputs": [
        {
          "output_type": "stream",
          "text": [
            "55% des prédictions du modèle sur le jeu de test sont correctes.\n"
          ],
          "name": "stdout"
        }
      ]
    },
    {
      "cell_type": "markdown",
      "metadata": {
        "id": "JEq7gpdpcKFf"
      },
      "source": [
        "__Remarque :__ On confirme ici que la procédure de descente de gradient que nous avons implémentée n'est pas optimale."
      ]
    },
    {
      "cell_type": "markdown",
      "metadata": {
        "id": "E0eH_KJYcKFf"
      },
      "source": [
        "#### Méthode du gradient avec données centrées et réduites"
      ]
    },
    {
      "cell_type": "markdown",
      "metadata": {
        "id": "z-1Ph8cLcKFf"
      },
      "source": [
        "Nous allons prétraiter les données de manière à ce que chaque variable de notre matrice $\\boldsymbol X$ soit centrée et réduite, c'est à dire que chaque colonne de $\\boldsymbol X$ (à part la première, qui sert de constante) a une moyenne de 0 et un écart-type de 1.\n",
        "\n",
        "Ainsi, l'initialisation de la méthode de gradient fournit des estimées qui sont autour de $0$, c'est-à-dire dans la région où la fonction $\\sigma$ ne sature pas (i.e., son gradient n'est proche de zéro)."
      ]
    },
    {
      "cell_type": "code",
      "metadata": {
        "id": "BPHrGFEPcKFf"
      },
      "source": [
        "from sklearn import preprocessing"
      ],
      "execution_count": null,
      "outputs": []
    },
    {
      "cell_type": "code",
      "metadata": {
        "id": "1KaeRXO9cKFf"
      },
      "source": [
        "scaler = preprocessing.StandardScaler().fit(X_train)\n",
        "X_scaled = scaler.transform(X_train)"
      ],
      "execution_count": null,
      "outputs": []
    },
    {
      "cell_type": "code",
      "metadata": {
        "colab": {
          "base_uri": "https://localhost:8080/"
        },
        "id": "NlKPp7COcKFf",
        "outputId": "59c12711-dcde-429e-9968-2f605a797b76"
      },
      "source": [
        "print('means: [%.3f, %.3f, %.3f]' % (tuple(X_scaled.mean(axis = 0))))\n",
        "print('standard deviations: [%.3f, %.3f, %.3f]' % tuple(X_scaled.std(axis = 0)))"
      ],
      "execution_count": null,
      "outputs": [
        {
          "output_type": "stream",
          "text": [
            "means: [-0.000, 0.000, -0.000]\n",
            "standard deviations: [1.000, 1.000, 1.000]\n"
          ],
          "name": "stdout"
        }
      ]
    },
    {
      "cell_type": "code",
      "metadata": {
        "id": "9EZJDqiEcKFf"
      },
      "source": [
        "X_ones = np.hstack((np.ones((X_scaled.shape[0], 1)), X_scaled))"
      ],
      "execution_count": null,
      "outputs": []
    },
    {
      "cell_type": "code",
      "metadata": {
        "id": "FJ_cMdAzcKFg"
      },
      "source": [
        "tolerance = 1e-4\n",
        "iterations = 35\n",
        "lr = 2\n",
        "losses, betas = gradient_descent_logistic(X_ones, y_train, learning_rate=lr, max_iters=iterations, tol=tolerance)"
      ],
      "execution_count": null,
      "outputs": []
    },
    {
      "cell_type": "code",
      "metadata": {
        "colab": {
          "base_uri": "https://localhost:8080/",
          "height": 407
        },
        "id": "Ys9c_FJccKFg",
        "outputId": "09f307be-6a27-4291-b4ed-eef73be344a6"
      },
      "source": [
        "plt.plot(np.arange(len(losses)), losses, 'o-')\n",
        "\n",
        "plt.xlabel(\"number of iterations\")\n",
        "plt.ylabel(\"value of the loss\")\n",
        "plt.title(\"Batch gradient descent\")"
      ],
      "execution_count": null,
      "outputs": [
        {
          "output_type": "execute_result",
          "data": {
            "text/plain": [
              "Text(0.5, 1.0, 'Batch gradient descent')"
            ]
          },
          "metadata": {
            "tags": []
          },
          "execution_count": 217
        },
        {
          "output_type": "display_data",
          "data": {
            "text/plain": [
              "<Figure size 432x288 with 1 Axes>"
            ],
            "image/svg+xml": "<?xml version=\"1.0\" encoding=\"utf-8\" standalone=\"no\"?>\n<!DOCTYPE svg PUBLIC \"-//W3C//DTD SVG 1.1//EN\"\n  \"http://www.w3.org/Graphics/SVG/1.1/DTD/svg11.dtd\">\n<!-- Created with matplotlib (https://matplotlib.org/) -->\n<svg height=\"277.314375pt\" version=\"1.1\" viewBox=\"0 0 392.14375 277.314375\" width=\"392.14375pt\" xmlns=\"http://www.w3.org/2000/svg\" xmlns:xlink=\"http://www.w3.org/1999/xlink\">\n <defs>\n  <style type=\"text/css\">\n*{stroke-linecap:butt;stroke-linejoin:round;}\n  </style>\n </defs>\n <g id=\"figure_1\">\n  <g id=\"patch_1\">\n   <path d=\"M 0 277.314375 \nL 392.14375 277.314375 \nL 392.14375 0 \nL 0 0 \nz\n\" style=\"fill:none;\"/>\n  </g>\n  <g id=\"axes_1\">\n   <g id=\"patch_2\">\n    <path d=\"M 50.14375 239.758125 \nL 384.94375 239.758125 \nL 384.94375 22.318125 \nL 50.14375 22.318125 \nz\n\" style=\"fill:#ffffff;\"/>\n   </g>\n   <g id=\"matplotlib.axis_1\">\n    <g id=\"xtick_1\">\n     <g id=\"line2d_1\">\n      <defs>\n       <path d=\"M 0 0 \nL 0 3.5 \n\" id=\"m6dfce6ebc2\" style=\"stroke:#000000;stroke-width:0.8;\"/>\n      </defs>\n      <g>\n       <use style=\"stroke:#000000;stroke-width:0.8;\" x=\"65.361932\" xlink:href=\"#m6dfce6ebc2\" y=\"239.758125\"/>\n      </g>\n     </g>\n     <g id=\"text_1\">\n      <!-- 0 -->\n      <defs>\n       <path d=\"M 31.78125 66.40625 \nQ 24.171875 66.40625 20.328125 58.90625 \nQ 16.5 51.421875 16.5 36.375 \nQ 16.5 21.390625 20.328125 13.890625 \nQ 24.171875 6.390625 31.78125 6.390625 \nQ 39.453125 6.390625 43.28125 13.890625 \nQ 47.125 21.390625 47.125 36.375 \nQ 47.125 51.421875 43.28125 58.90625 \nQ 39.453125 66.40625 31.78125 66.40625 \nz\nM 31.78125 74.21875 \nQ 44.046875 74.21875 50.515625 64.515625 \nQ 56.984375 54.828125 56.984375 36.375 \nQ 56.984375 17.96875 50.515625 8.265625 \nQ 44.046875 -1.421875 31.78125 -1.421875 \nQ 19.53125 -1.421875 13.0625 8.265625 \nQ 6.59375 17.96875 6.59375 36.375 \nQ 6.59375 54.828125 13.0625 64.515625 \nQ 19.53125 74.21875 31.78125 74.21875 \nz\n\" id=\"DejaVuSans-48\"/>\n      </defs>\n      <g transform=\"translate(62.180682 254.356562)scale(0.1 -0.1)\">\n       <use xlink:href=\"#DejaVuSans-48\"/>\n      </g>\n     </g>\n    </g>\n    <g id=\"xtick_2\">\n     <g id=\"line2d_2\">\n      <g>\n       <use style=\"stroke:#000000;stroke-width:0.8;\" x=\"108.842451\" xlink:href=\"#m6dfce6ebc2\" y=\"239.758125\"/>\n      </g>\n     </g>\n     <g id=\"text_2\">\n      <!-- 5 -->\n      <defs>\n       <path d=\"M 10.796875 72.90625 \nL 49.515625 72.90625 \nL 49.515625 64.59375 \nL 19.828125 64.59375 \nL 19.828125 46.734375 \nQ 21.96875 47.46875 24.109375 47.828125 \nQ 26.265625 48.1875 28.421875 48.1875 \nQ 40.625 48.1875 47.75 41.5 \nQ 54.890625 34.8125 54.890625 23.390625 \nQ 54.890625 11.625 47.5625 5.09375 \nQ 40.234375 -1.421875 26.90625 -1.421875 \nQ 22.3125 -1.421875 17.546875 -0.640625 \nQ 12.796875 0.140625 7.71875 1.703125 \nL 7.71875 11.625 \nQ 12.109375 9.234375 16.796875 8.0625 \nQ 21.484375 6.890625 26.703125 6.890625 \nQ 35.15625 6.890625 40.078125 11.328125 \nQ 45.015625 15.765625 45.015625 23.390625 \nQ 45.015625 31 40.078125 35.4375 \nQ 35.15625 39.890625 26.703125 39.890625 \nQ 22.75 39.890625 18.8125 39.015625 \nQ 14.890625 38.140625 10.796875 36.28125 \nz\n\" id=\"DejaVuSans-53\"/>\n      </defs>\n      <g transform=\"translate(105.661201 254.356562)scale(0.1 -0.1)\">\n       <use xlink:href=\"#DejaVuSans-53\"/>\n      </g>\n     </g>\n    </g>\n    <g id=\"xtick_3\">\n     <g id=\"line2d_3\">\n      <g>\n       <use style=\"stroke:#000000;stroke-width:0.8;\" x=\"152.322971\" xlink:href=\"#m6dfce6ebc2\" y=\"239.758125\"/>\n      </g>\n     </g>\n     <g id=\"text_3\">\n      <!-- 10 -->\n      <defs>\n       <path d=\"M 12.40625 8.296875 \nL 28.515625 8.296875 \nL 28.515625 63.921875 \nL 10.984375 60.40625 \nL 10.984375 69.390625 \nL 28.421875 72.90625 \nL 38.28125 72.90625 \nL 38.28125 8.296875 \nL 54.390625 8.296875 \nL 54.390625 0 \nL 12.40625 0 \nz\n\" id=\"DejaVuSans-49\"/>\n      </defs>\n      <g transform=\"translate(145.960471 254.356562)scale(0.1 -0.1)\">\n       <use xlink:href=\"#DejaVuSans-49\"/>\n       <use x=\"63.623047\" xlink:href=\"#DejaVuSans-48\"/>\n      </g>\n     </g>\n    </g>\n    <g id=\"xtick_4\">\n     <g id=\"line2d_4\">\n      <g>\n       <use style=\"stroke:#000000;stroke-width:0.8;\" x=\"195.80349\" xlink:href=\"#m6dfce6ebc2\" y=\"239.758125\"/>\n      </g>\n     </g>\n     <g id=\"text_4\">\n      <!-- 15 -->\n      <g transform=\"translate(189.44099 254.356562)scale(0.1 -0.1)\">\n       <use xlink:href=\"#DejaVuSans-49\"/>\n       <use x=\"63.623047\" xlink:href=\"#DejaVuSans-53\"/>\n      </g>\n     </g>\n    </g>\n    <g id=\"xtick_5\">\n     <g id=\"line2d_5\">\n      <g>\n       <use style=\"stroke:#000000;stroke-width:0.8;\" x=\"239.28401\" xlink:href=\"#m6dfce6ebc2\" y=\"239.758125\"/>\n      </g>\n     </g>\n     <g id=\"text_5\">\n      <!-- 20 -->\n      <defs>\n       <path d=\"M 19.1875 8.296875 \nL 53.609375 8.296875 \nL 53.609375 0 \nL 7.328125 0 \nL 7.328125 8.296875 \nQ 12.9375 14.109375 22.625 23.890625 \nQ 32.328125 33.6875 34.8125 36.53125 \nQ 39.546875 41.84375 41.421875 45.53125 \nQ 43.3125 49.21875 43.3125 52.78125 \nQ 43.3125 58.59375 39.234375 62.25 \nQ 35.15625 65.921875 28.609375 65.921875 \nQ 23.96875 65.921875 18.8125 64.3125 \nQ 13.671875 62.703125 7.8125 59.421875 \nL 7.8125 69.390625 \nQ 13.765625 71.78125 18.9375 73 \nQ 24.125 74.21875 28.421875 74.21875 \nQ 39.75 74.21875 46.484375 68.546875 \nQ 53.21875 62.890625 53.21875 53.421875 \nQ 53.21875 48.921875 51.53125 44.890625 \nQ 49.859375 40.875 45.40625 35.40625 \nQ 44.1875 33.984375 37.640625 27.21875 \nQ 31.109375 20.453125 19.1875 8.296875 \nz\n\" id=\"DejaVuSans-50\"/>\n      </defs>\n      <g transform=\"translate(232.92151 254.356562)scale(0.1 -0.1)\">\n       <use xlink:href=\"#DejaVuSans-50\"/>\n       <use x=\"63.623047\" xlink:href=\"#DejaVuSans-48\"/>\n      </g>\n     </g>\n    </g>\n    <g id=\"xtick_6\">\n     <g id=\"line2d_6\">\n      <g>\n       <use style=\"stroke:#000000;stroke-width:0.8;\" x=\"282.764529\" xlink:href=\"#m6dfce6ebc2\" y=\"239.758125\"/>\n      </g>\n     </g>\n     <g id=\"text_6\">\n      <!-- 25 -->\n      <g transform=\"translate(276.402029 254.356562)scale(0.1 -0.1)\">\n       <use xlink:href=\"#DejaVuSans-50\"/>\n       <use x=\"63.623047\" xlink:href=\"#DejaVuSans-53\"/>\n      </g>\n     </g>\n    </g>\n    <g id=\"xtick_7\">\n     <g id=\"line2d_7\">\n      <g>\n       <use style=\"stroke:#000000;stroke-width:0.8;\" x=\"326.245049\" xlink:href=\"#m6dfce6ebc2\" y=\"239.758125\"/>\n      </g>\n     </g>\n     <g id=\"text_7\">\n      <!-- 30 -->\n      <defs>\n       <path d=\"M 40.578125 39.3125 \nQ 47.65625 37.796875 51.625 33 \nQ 55.609375 28.21875 55.609375 21.1875 \nQ 55.609375 10.40625 48.1875 4.484375 \nQ 40.765625 -1.421875 27.09375 -1.421875 \nQ 22.515625 -1.421875 17.65625 -0.515625 \nQ 12.796875 0.390625 7.625 2.203125 \nL 7.625 11.71875 \nQ 11.71875 9.328125 16.59375 8.109375 \nQ 21.484375 6.890625 26.8125 6.890625 \nQ 36.078125 6.890625 40.9375 10.546875 \nQ 45.796875 14.203125 45.796875 21.1875 \nQ 45.796875 27.640625 41.28125 31.265625 \nQ 36.765625 34.90625 28.71875 34.90625 \nL 20.21875 34.90625 \nL 20.21875 43.015625 \nL 29.109375 43.015625 \nQ 36.375 43.015625 40.234375 45.921875 \nQ 44.09375 48.828125 44.09375 54.296875 \nQ 44.09375 59.90625 40.109375 62.90625 \nQ 36.140625 65.921875 28.71875 65.921875 \nQ 24.65625 65.921875 20.015625 65.03125 \nQ 15.375 64.15625 9.8125 62.3125 \nL 9.8125 71.09375 \nQ 15.4375 72.65625 20.34375 73.4375 \nQ 25.25 74.21875 29.59375 74.21875 \nQ 40.828125 74.21875 47.359375 69.109375 \nQ 53.90625 64.015625 53.90625 55.328125 \nQ 53.90625 49.265625 50.4375 45.09375 \nQ 46.96875 40.921875 40.578125 39.3125 \nz\n\" id=\"DejaVuSans-51\"/>\n      </defs>\n      <g transform=\"translate(319.882549 254.356562)scale(0.1 -0.1)\">\n       <use xlink:href=\"#DejaVuSans-51\"/>\n       <use x=\"63.623047\" xlink:href=\"#DejaVuSans-48\"/>\n      </g>\n     </g>\n    </g>\n    <g id=\"xtick_8\">\n     <g id=\"line2d_8\">\n      <g>\n       <use style=\"stroke:#000000;stroke-width:0.8;\" x=\"369.725568\" xlink:href=\"#m6dfce6ebc2\" y=\"239.758125\"/>\n      </g>\n     </g>\n     <g id=\"text_8\">\n      <!-- 35 -->\n      <g transform=\"translate(363.363068 254.356562)scale(0.1 -0.1)\">\n       <use xlink:href=\"#DejaVuSans-51\"/>\n       <use x=\"63.623047\" xlink:href=\"#DejaVuSans-53\"/>\n      </g>\n     </g>\n    </g>\n    <g id=\"text_9\">\n     <!-- number of iterations -->\n     <defs>\n      <path d=\"M 54.890625 33.015625 \nL 54.890625 0 \nL 45.90625 0 \nL 45.90625 32.71875 \nQ 45.90625 40.484375 42.875 44.328125 \nQ 39.84375 48.1875 33.796875 48.1875 \nQ 26.515625 48.1875 22.3125 43.546875 \nQ 18.109375 38.921875 18.109375 30.90625 \nL 18.109375 0 \nL 9.078125 0 \nL 9.078125 54.6875 \nL 18.109375 54.6875 \nL 18.109375 46.1875 \nQ 21.34375 51.125 25.703125 53.5625 \nQ 30.078125 56 35.796875 56 \nQ 45.21875 56 50.046875 50.171875 \nQ 54.890625 44.34375 54.890625 33.015625 \nz\n\" id=\"DejaVuSans-110\"/>\n      <path d=\"M 8.5 21.578125 \nL 8.5 54.6875 \nL 17.484375 54.6875 \nL 17.484375 21.921875 \nQ 17.484375 14.15625 20.5 10.265625 \nQ 23.53125 6.390625 29.59375 6.390625 \nQ 36.859375 6.390625 41.078125 11.03125 \nQ 45.3125 15.671875 45.3125 23.6875 \nL 45.3125 54.6875 \nL 54.296875 54.6875 \nL 54.296875 0 \nL 45.3125 0 \nL 45.3125 8.40625 \nQ 42.046875 3.421875 37.71875 1 \nQ 33.40625 -1.421875 27.6875 -1.421875 \nQ 18.265625 -1.421875 13.375 4.4375 \nQ 8.5 10.296875 8.5 21.578125 \nz\nM 31.109375 56 \nz\n\" id=\"DejaVuSans-117\"/>\n      <path d=\"M 52 44.1875 \nQ 55.375 50.25 60.0625 53.125 \nQ 64.75 56 71.09375 56 \nQ 79.640625 56 84.28125 50.015625 \nQ 88.921875 44.046875 88.921875 33.015625 \nL 88.921875 0 \nL 79.890625 0 \nL 79.890625 32.71875 \nQ 79.890625 40.578125 77.09375 44.375 \nQ 74.3125 48.1875 68.609375 48.1875 \nQ 61.625 48.1875 57.5625 43.546875 \nQ 53.515625 38.921875 53.515625 30.90625 \nL 53.515625 0 \nL 44.484375 0 \nL 44.484375 32.71875 \nQ 44.484375 40.625 41.703125 44.40625 \nQ 38.921875 48.1875 33.109375 48.1875 \nQ 26.21875 48.1875 22.15625 43.53125 \nQ 18.109375 38.875 18.109375 30.90625 \nL 18.109375 0 \nL 9.078125 0 \nL 9.078125 54.6875 \nL 18.109375 54.6875 \nL 18.109375 46.1875 \nQ 21.1875 51.21875 25.484375 53.609375 \nQ 29.78125 56 35.6875 56 \nQ 41.65625 56 45.828125 52.96875 \nQ 50 49.953125 52 44.1875 \nz\n\" id=\"DejaVuSans-109\"/>\n      <path d=\"M 48.6875 27.296875 \nQ 48.6875 37.203125 44.609375 42.84375 \nQ 40.53125 48.484375 33.40625 48.484375 \nQ 26.265625 48.484375 22.1875 42.84375 \nQ 18.109375 37.203125 18.109375 27.296875 \nQ 18.109375 17.390625 22.1875 11.75 \nQ 26.265625 6.109375 33.40625 6.109375 \nQ 40.53125 6.109375 44.609375 11.75 \nQ 48.6875 17.390625 48.6875 27.296875 \nz\nM 18.109375 46.390625 \nQ 20.953125 51.265625 25.265625 53.625 \nQ 29.59375 56 35.59375 56 \nQ 45.5625 56 51.78125 48.09375 \nQ 58.015625 40.1875 58.015625 27.296875 \nQ 58.015625 14.40625 51.78125 6.484375 \nQ 45.5625 -1.421875 35.59375 -1.421875 \nQ 29.59375 -1.421875 25.265625 0.953125 \nQ 20.953125 3.328125 18.109375 8.203125 \nL 18.109375 0 \nL 9.078125 0 \nL 9.078125 75.984375 \nL 18.109375 75.984375 \nz\n\" id=\"DejaVuSans-98\"/>\n      <path d=\"M 56.203125 29.59375 \nL 56.203125 25.203125 \nL 14.890625 25.203125 \nQ 15.484375 15.921875 20.484375 11.0625 \nQ 25.484375 6.203125 34.421875 6.203125 \nQ 39.59375 6.203125 44.453125 7.46875 \nQ 49.3125 8.734375 54.109375 11.28125 \nL 54.109375 2.78125 \nQ 49.265625 0.734375 44.1875 -0.34375 \nQ 39.109375 -1.421875 33.890625 -1.421875 \nQ 20.796875 -1.421875 13.15625 6.1875 \nQ 5.515625 13.8125 5.515625 26.8125 \nQ 5.515625 40.234375 12.765625 48.109375 \nQ 20.015625 56 32.328125 56 \nQ 43.359375 56 49.78125 48.890625 \nQ 56.203125 41.796875 56.203125 29.59375 \nz\nM 47.21875 32.234375 \nQ 47.125 39.59375 43.09375 43.984375 \nQ 39.0625 48.390625 32.421875 48.390625 \nQ 24.90625 48.390625 20.390625 44.140625 \nQ 15.875 39.890625 15.1875 32.171875 \nz\n\" id=\"DejaVuSans-101\"/>\n      <path d=\"M 41.109375 46.296875 \nQ 39.59375 47.171875 37.8125 47.578125 \nQ 36.03125 48 33.890625 48 \nQ 26.265625 48 22.1875 43.046875 \nQ 18.109375 38.09375 18.109375 28.8125 \nL 18.109375 0 \nL 9.078125 0 \nL 9.078125 54.6875 \nL 18.109375 54.6875 \nL 18.109375 46.1875 \nQ 20.953125 51.171875 25.484375 53.578125 \nQ 30.03125 56 36.53125 56 \nQ 37.453125 56 38.578125 55.875 \nQ 39.703125 55.765625 41.0625 55.515625 \nz\n\" id=\"DejaVuSans-114\"/>\n      <path id=\"DejaVuSans-32\"/>\n      <path d=\"M 30.609375 48.390625 \nQ 23.390625 48.390625 19.1875 42.75 \nQ 14.984375 37.109375 14.984375 27.296875 \nQ 14.984375 17.484375 19.15625 11.84375 \nQ 23.34375 6.203125 30.609375 6.203125 \nQ 37.796875 6.203125 41.984375 11.859375 \nQ 46.1875 17.53125 46.1875 27.296875 \nQ 46.1875 37.015625 41.984375 42.703125 \nQ 37.796875 48.390625 30.609375 48.390625 \nz\nM 30.609375 56 \nQ 42.328125 56 49.015625 48.375 \nQ 55.71875 40.765625 55.71875 27.296875 \nQ 55.71875 13.875 49.015625 6.21875 \nQ 42.328125 -1.421875 30.609375 -1.421875 \nQ 18.84375 -1.421875 12.171875 6.21875 \nQ 5.515625 13.875 5.515625 27.296875 \nQ 5.515625 40.765625 12.171875 48.375 \nQ 18.84375 56 30.609375 56 \nz\n\" id=\"DejaVuSans-111\"/>\n      <path d=\"M 37.109375 75.984375 \nL 37.109375 68.5 \nL 28.515625 68.5 \nQ 23.6875 68.5 21.796875 66.546875 \nQ 19.921875 64.59375 19.921875 59.515625 \nL 19.921875 54.6875 \nL 34.71875 54.6875 \nL 34.71875 47.703125 \nL 19.921875 47.703125 \nL 19.921875 0 \nL 10.890625 0 \nL 10.890625 47.703125 \nL 2.296875 47.703125 \nL 2.296875 54.6875 \nL 10.890625 54.6875 \nL 10.890625 58.5 \nQ 10.890625 67.625 15.140625 71.796875 \nQ 19.390625 75.984375 28.609375 75.984375 \nz\n\" id=\"DejaVuSans-102\"/>\n      <path d=\"M 9.421875 54.6875 \nL 18.40625 54.6875 \nL 18.40625 0 \nL 9.421875 0 \nz\nM 9.421875 75.984375 \nL 18.40625 75.984375 \nL 18.40625 64.59375 \nL 9.421875 64.59375 \nz\n\" id=\"DejaVuSans-105\"/>\n      <path d=\"M 18.3125 70.21875 \nL 18.3125 54.6875 \nL 36.8125 54.6875 \nL 36.8125 47.703125 \nL 18.3125 47.703125 \nL 18.3125 18.015625 \nQ 18.3125 11.328125 20.140625 9.421875 \nQ 21.96875 7.515625 27.59375 7.515625 \nL 36.8125 7.515625 \nL 36.8125 0 \nL 27.59375 0 \nQ 17.1875 0 13.234375 3.875 \nQ 9.28125 7.765625 9.28125 18.015625 \nL 9.28125 47.703125 \nL 2.6875 47.703125 \nL 2.6875 54.6875 \nL 9.28125 54.6875 \nL 9.28125 70.21875 \nz\n\" id=\"DejaVuSans-116\"/>\n      <path d=\"M 34.28125 27.484375 \nQ 23.390625 27.484375 19.1875 25 \nQ 14.984375 22.515625 14.984375 16.5 \nQ 14.984375 11.71875 18.140625 8.90625 \nQ 21.296875 6.109375 26.703125 6.109375 \nQ 34.1875 6.109375 38.703125 11.40625 \nQ 43.21875 16.703125 43.21875 25.484375 \nL 43.21875 27.484375 \nz\nM 52.203125 31.203125 \nL 52.203125 0 \nL 43.21875 0 \nL 43.21875 8.296875 \nQ 40.140625 3.328125 35.546875 0.953125 \nQ 30.953125 -1.421875 24.3125 -1.421875 \nQ 15.921875 -1.421875 10.953125 3.296875 \nQ 6 8.015625 6 15.921875 \nQ 6 25.140625 12.171875 29.828125 \nQ 18.359375 34.515625 30.609375 34.515625 \nL 43.21875 34.515625 \nL 43.21875 35.40625 \nQ 43.21875 41.609375 39.140625 45 \nQ 35.0625 48.390625 27.6875 48.390625 \nQ 23 48.390625 18.546875 47.265625 \nQ 14.109375 46.140625 10.015625 43.890625 \nL 10.015625 52.203125 \nQ 14.9375 54.109375 19.578125 55.046875 \nQ 24.21875 56 28.609375 56 \nQ 40.484375 56 46.34375 49.84375 \nQ 52.203125 43.703125 52.203125 31.203125 \nz\n\" id=\"DejaVuSans-97\"/>\n      <path d=\"M 44.28125 53.078125 \nL 44.28125 44.578125 \nQ 40.484375 46.53125 36.375 47.5 \nQ 32.28125 48.484375 27.875 48.484375 \nQ 21.1875 48.484375 17.84375 46.4375 \nQ 14.5 44.390625 14.5 40.28125 \nQ 14.5 37.15625 16.890625 35.375 \nQ 19.28125 33.59375 26.515625 31.984375 \nL 29.59375 31.296875 \nQ 39.15625 29.25 43.1875 25.515625 \nQ 47.21875 21.78125 47.21875 15.09375 \nQ 47.21875 7.46875 41.1875 3.015625 \nQ 35.15625 -1.421875 24.609375 -1.421875 \nQ 20.21875 -1.421875 15.453125 -0.5625 \nQ 10.6875 0.296875 5.421875 2 \nL 5.421875 11.28125 \nQ 10.40625 8.6875 15.234375 7.390625 \nQ 20.0625 6.109375 24.8125 6.109375 \nQ 31.15625 6.109375 34.5625 8.28125 \nQ 37.984375 10.453125 37.984375 14.40625 \nQ 37.984375 18.0625 35.515625 20.015625 \nQ 33.0625 21.96875 24.703125 23.78125 \nL 21.578125 24.515625 \nQ 13.234375 26.265625 9.515625 29.90625 \nQ 5.8125 33.546875 5.8125 39.890625 \nQ 5.8125 47.609375 11.28125 51.796875 \nQ 16.75 56 26.8125 56 \nQ 31.78125 56 36.171875 55.265625 \nQ 40.578125 54.546875 44.28125 53.078125 \nz\n\" id=\"DejaVuSans-115\"/>\n     </defs>\n     <g transform=\"translate(166.304688 268.034687)scale(0.1 -0.1)\">\n      <use xlink:href=\"#DejaVuSans-110\"/>\n      <use x=\"63.378906\" xlink:href=\"#DejaVuSans-117\"/>\n      <use x=\"126.757812\" xlink:href=\"#DejaVuSans-109\"/>\n      <use x=\"224.169922\" xlink:href=\"#DejaVuSans-98\"/>\n      <use x=\"287.646484\" xlink:href=\"#DejaVuSans-101\"/>\n      <use x=\"349.169922\" xlink:href=\"#DejaVuSans-114\"/>\n      <use x=\"390.283203\" xlink:href=\"#DejaVuSans-32\"/>\n      <use x=\"422.070312\" xlink:href=\"#DejaVuSans-111\"/>\n      <use x=\"483.251953\" xlink:href=\"#DejaVuSans-102\"/>\n      <use x=\"518.457031\" xlink:href=\"#DejaVuSans-32\"/>\n      <use x=\"550.244141\" xlink:href=\"#DejaVuSans-105\"/>\n      <use x=\"578.027344\" xlink:href=\"#DejaVuSans-116\"/>\n      <use x=\"617.236328\" xlink:href=\"#DejaVuSans-101\"/>\n      <use x=\"678.759766\" xlink:href=\"#DejaVuSans-114\"/>\n      <use x=\"719.873047\" xlink:href=\"#DejaVuSans-97\"/>\n      <use x=\"781.152344\" xlink:href=\"#DejaVuSans-116\"/>\n      <use x=\"820.361328\" xlink:href=\"#DejaVuSans-105\"/>\n      <use x=\"848.144531\" xlink:href=\"#DejaVuSans-111\"/>\n      <use x=\"909.326172\" xlink:href=\"#DejaVuSans-110\"/>\n      <use x=\"972.705078\" xlink:href=\"#DejaVuSans-115\"/>\n     </g>\n    </g>\n   </g>\n   <g id=\"matplotlib.axis_2\">\n    <g id=\"ytick_1\">\n     <g id=\"line2d_9\">\n      <defs>\n       <path d=\"M 0 0 \nL -3.5 0 \n\" id=\"maf9a595faa\" style=\"stroke:#000000;stroke-width:0.8;\"/>\n      </defs>\n      <g>\n       <use style=\"stroke:#000000;stroke-width:0.8;\" x=\"50.14375\" xlink:href=\"#maf9a595faa\" y=\"229.328684\"/>\n      </g>\n     </g>\n     <g id=\"text_10\">\n      <!-- 0.34 -->\n      <defs>\n       <path d=\"M 10.6875 12.40625 \nL 21 12.40625 \nL 21 0 \nL 10.6875 0 \nz\n\" id=\"DejaVuSans-46\"/>\n       <path d=\"M 37.796875 64.3125 \nL 12.890625 25.390625 \nL 37.796875 25.390625 \nz\nM 35.203125 72.90625 \nL 47.609375 72.90625 \nL 47.609375 25.390625 \nL 58.015625 25.390625 \nL 58.015625 17.1875 \nL 47.609375 17.1875 \nL 47.609375 0 \nL 37.796875 0 \nL 37.796875 17.1875 \nL 4.890625 17.1875 \nL 4.890625 26.703125 \nz\n\" id=\"DejaVuSans-52\"/>\n      </defs>\n      <g transform=\"translate(20.878125 233.127903)scale(0.1 -0.1)\">\n       <use xlink:href=\"#DejaVuSans-48\"/>\n       <use x=\"63.623047\" xlink:href=\"#DejaVuSans-46\"/>\n       <use x=\"95.410156\" xlink:href=\"#DejaVuSans-51\"/>\n       <use x=\"159.033203\" xlink:href=\"#DejaVuSans-52\"/>\n      </g>\n     </g>\n    </g>\n    <g id=\"ytick_2\">\n     <g id=\"line2d_10\">\n      <g>\n       <use style=\"stroke:#000000;stroke-width:0.8;\" x=\"50.14375\" xlink:href=\"#maf9a595faa\" y=\"199.596811\"/>\n      </g>\n     </g>\n     <g id=\"text_11\">\n      <!-- 0.36 -->\n      <defs>\n       <path d=\"M 33.015625 40.375 \nQ 26.375 40.375 22.484375 35.828125 \nQ 18.609375 31.296875 18.609375 23.390625 \nQ 18.609375 15.53125 22.484375 10.953125 \nQ 26.375 6.390625 33.015625 6.390625 \nQ 39.65625 6.390625 43.53125 10.953125 \nQ 47.40625 15.53125 47.40625 23.390625 \nQ 47.40625 31.296875 43.53125 35.828125 \nQ 39.65625 40.375 33.015625 40.375 \nz\nM 52.59375 71.296875 \nL 52.59375 62.3125 \nQ 48.875 64.0625 45.09375 64.984375 \nQ 41.3125 65.921875 37.59375 65.921875 \nQ 27.828125 65.921875 22.671875 59.328125 \nQ 17.53125 52.734375 16.796875 39.40625 \nQ 19.671875 43.65625 24.015625 45.921875 \nQ 28.375 48.1875 33.59375 48.1875 \nQ 44.578125 48.1875 50.953125 41.515625 \nQ 57.328125 34.859375 57.328125 23.390625 \nQ 57.328125 12.15625 50.6875 5.359375 \nQ 44.046875 -1.421875 33.015625 -1.421875 \nQ 20.359375 -1.421875 13.671875 8.265625 \nQ 6.984375 17.96875 6.984375 36.375 \nQ 6.984375 53.65625 15.1875 63.9375 \nQ 23.390625 74.21875 37.203125 74.21875 \nQ 40.921875 74.21875 44.703125 73.484375 \nQ 48.484375 72.75 52.59375 71.296875 \nz\n\" id=\"DejaVuSans-54\"/>\n      </defs>\n      <g transform=\"translate(20.878125 203.39603)scale(0.1 -0.1)\">\n       <use xlink:href=\"#DejaVuSans-48\"/>\n       <use x=\"63.623047\" xlink:href=\"#DejaVuSans-46\"/>\n       <use x=\"95.410156\" xlink:href=\"#DejaVuSans-51\"/>\n       <use x=\"159.033203\" xlink:href=\"#DejaVuSans-54\"/>\n      </g>\n     </g>\n    </g>\n    <g id=\"ytick_3\">\n     <g id=\"line2d_11\">\n      <g>\n       <use style=\"stroke:#000000;stroke-width:0.8;\" x=\"50.14375\" xlink:href=\"#maf9a595faa\" y=\"169.864938\"/>\n      </g>\n     </g>\n     <g id=\"text_12\">\n      <!-- 0.38 -->\n      <defs>\n       <path d=\"M 31.78125 34.625 \nQ 24.75 34.625 20.71875 30.859375 \nQ 16.703125 27.09375 16.703125 20.515625 \nQ 16.703125 13.921875 20.71875 10.15625 \nQ 24.75 6.390625 31.78125 6.390625 \nQ 38.8125 6.390625 42.859375 10.171875 \nQ 46.921875 13.96875 46.921875 20.515625 \nQ 46.921875 27.09375 42.890625 30.859375 \nQ 38.875 34.625 31.78125 34.625 \nz\nM 21.921875 38.8125 \nQ 15.578125 40.375 12.03125 44.71875 \nQ 8.5 49.078125 8.5 55.328125 \nQ 8.5 64.0625 14.71875 69.140625 \nQ 20.953125 74.21875 31.78125 74.21875 \nQ 42.671875 74.21875 48.875 69.140625 \nQ 55.078125 64.0625 55.078125 55.328125 \nQ 55.078125 49.078125 51.53125 44.71875 \nQ 48 40.375 41.703125 38.8125 \nQ 48.828125 37.15625 52.796875 32.3125 \nQ 56.78125 27.484375 56.78125 20.515625 \nQ 56.78125 9.90625 50.3125 4.234375 \nQ 43.84375 -1.421875 31.78125 -1.421875 \nQ 19.734375 -1.421875 13.25 4.234375 \nQ 6.78125 9.90625 6.78125 20.515625 \nQ 6.78125 27.484375 10.78125 32.3125 \nQ 14.796875 37.15625 21.921875 38.8125 \nz\nM 18.3125 54.390625 \nQ 18.3125 48.734375 21.84375 45.5625 \nQ 25.390625 42.390625 31.78125 42.390625 \nQ 38.140625 42.390625 41.71875 45.5625 \nQ 45.3125 48.734375 45.3125 54.390625 \nQ 45.3125 60.0625 41.71875 63.234375 \nQ 38.140625 66.40625 31.78125 66.40625 \nQ 25.390625 66.40625 21.84375 63.234375 \nQ 18.3125 60.0625 18.3125 54.390625 \nz\n\" id=\"DejaVuSans-56\"/>\n      </defs>\n      <g transform=\"translate(20.878125 173.664157)scale(0.1 -0.1)\">\n       <use xlink:href=\"#DejaVuSans-48\"/>\n       <use x=\"63.623047\" xlink:href=\"#DejaVuSans-46\"/>\n       <use x=\"95.410156\" xlink:href=\"#DejaVuSans-51\"/>\n       <use x=\"159.033203\" xlink:href=\"#DejaVuSans-56\"/>\n      </g>\n     </g>\n    </g>\n    <g id=\"ytick_4\">\n     <g id=\"line2d_12\">\n      <g>\n       <use style=\"stroke:#000000;stroke-width:0.8;\" x=\"50.14375\" xlink:href=\"#maf9a595faa\" y=\"140.133065\"/>\n      </g>\n     </g>\n     <g id=\"text_13\">\n      <!-- 0.40 -->\n      <g transform=\"translate(20.878125 143.932284)scale(0.1 -0.1)\">\n       <use xlink:href=\"#DejaVuSans-48\"/>\n       <use x=\"63.623047\" xlink:href=\"#DejaVuSans-46\"/>\n       <use x=\"95.410156\" xlink:href=\"#DejaVuSans-52\"/>\n       <use x=\"159.033203\" xlink:href=\"#DejaVuSans-48\"/>\n      </g>\n     </g>\n    </g>\n    <g id=\"ytick_5\">\n     <g id=\"line2d_13\">\n      <g>\n       <use style=\"stroke:#000000;stroke-width:0.8;\" x=\"50.14375\" xlink:href=\"#maf9a595faa\" y=\"110.401192\"/>\n      </g>\n     </g>\n     <g id=\"text_14\">\n      <!-- 0.42 -->\n      <g transform=\"translate(20.878125 114.200411)scale(0.1 -0.1)\">\n       <use xlink:href=\"#DejaVuSans-48\"/>\n       <use x=\"63.623047\" xlink:href=\"#DejaVuSans-46\"/>\n       <use x=\"95.410156\" xlink:href=\"#DejaVuSans-52\"/>\n       <use x=\"159.033203\" xlink:href=\"#DejaVuSans-50\"/>\n      </g>\n     </g>\n    </g>\n    <g id=\"ytick_6\">\n     <g id=\"line2d_14\">\n      <g>\n       <use style=\"stroke:#000000;stroke-width:0.8;\" x=\"50.14375\" xlink:href=\"#maf9a595faa\" y=\"80.669319\"/>\n      </g>\n     </g>\n     <g id=\"text_15\">\n      <!-- 0.44 -->\n      <g transform=\"translate(20.878125 84.468538)scale(0.1 -0.1)\">\n       <use xlink:href=\"#DejaVuSans-48\"/>\n       <use x=\"63.623047\" xlink:href=\"#DejaVuSans-46\"/>\n       <use x=\"95.410156\" xlink:href=\"#DejaVuSans-52\"/>\n       <use x=\"159.033203\" xlink:href=\"#DejaVuSans-52\"/>\n      </g>\n     </g>\n    </g>\n    <g id=\"ytick_7\">\n     <g id=\"line2d_15\">\n      <g>\n       <use style=\"stroke:#000000;stroke-width:0.8;\" x=\"50.14375\" xlink:href=\"#maf9a595faa\" y=\"50.937446\"/>\n      </g>\n     </g>\n     <g id=\"text_16\">\n      <!-- 0.46 -->\n      <g transform=\"translate(20.878125 54.736664)scale(0.1 -0.1)\">\n       <use xlink:href=\"#DejaVuSans-48\"/>\n       <use x=\"63.623047\" xlink:href=\"#DejaVuSans-46\"/>\n       <use x=\"95.410156\" xlink:href=\"#DejaVuSans-52\"/>\n       <use x=\"159.033203\" xlink:href=\"#DejaVuSans-54\"/>\n      </g>\n     </g>\n    </g>\n    <g id=\"text_17\">\n     <!-- value of the loss -->\n     <defs>\n      <path d=\"M 2.984375 54.6875 \nL 12.5 54.6875 \nL 29.59375 8.796875 \nL 46.6875 54.6875 \nL 56.203125 54.6875 \nL 35.6875 0 \nL 23.484375 0 \nz\n\" id=\"DejaVuSans-118\"/>\n      <path d=\"M 9.421875 75.984375 \nL 18.40625 75.984375 \nL 18.40625 0 \nL 9.421875 0 \nz\n\" id=\"DejaVuSans-108\"/>\n      <path d=\"M 54.890625 33.015625 \nL 54.890625 0 \nL 45.90625 0 \nL 45.90625 32.71875 \nQ 45.90625 40.484375 42.875 44.328125 \nQ 39.84375 48.1875 33.796875 48.1875 \nQ 26.515625 48.1875 22.3125 43.546875 \nQ 18.109375 38.921875 18.109375 30.90625 \nL 18.109375 0 \nL 9.078125 0 \nL 9.078125 75.984375 \nL 18.109375 75.984375 \nL 18.109375 46.1875 \nQ 21.34375 51.125 25.703125 53.5625 \nQ 30.078125 56 35.796875 56 \nQ 45.21875 56 50.046875 50.171875 \nQ 54.890625 44.34375 54.890625 33.015625 \nz\n\" id=\"DejaVuSans-104\"/>\n     </defs>\n     <g transform=\"translate(14.798438 172.145937)rotate(-90)scale(0.1 -0.1)\">\n      <use xlink:href=\"#DejaVuSans-118\"/>\n      <use x=\"59.179688\" xlink:href=\"#DejaVuSans-97\"/>\n      <use x=\"120.458984\" xlink:href=\"#DejaVuSans-108\"/>\n      <use x=\"148.242188\" xlink:href=\"#DejaVuSans-117\"/>\n      <use x=\"211.621094\" xlink:href=\"#DejaVuSans-101\"/>\n      <use x=\"273.144531\" xlink:href=\"#DejaVuSans-32\"/>\n      <use x=\"304.931641\" xlink:href=\"#DejaVuSans-111\"/>\n      <use x=\"366.113281\" xlink:href=\"#DejaVuSans-102\"/>\n      <use x=\"401.318359\" xlink:href=\"#DejaVuSans-32\"/>\n      <use x=\"433.105469\" xlink:href=\"#DejaVuSans-116\"/>\n      <use x=\"472.314453\" xlink:href=\"#DejaVuSans-104\"/>\n      <use x=\"535.693359\" xlink:href=\"#DejaVuSans-101\"/>\n      <use x=\"597.216797\" xlink:href=\"#DejaVuSans-32\"/>\n      <use x=\"629.003906\" xlink:href=\"#DejaVuSans-108\"/>\n      <use x=\"656.787109\" xlink:href=\"#DejaVuSans-111\"/>\n      <use x=\"717.96875\" xlink:href=\"#DejaVuSans-115\"/>\n      <use x=\"770.068359\" xlink:href=\"#DejaVuSans-115\"/>\n     </g>\n    </g>\n   </g>\n   <g id=\"line2d_16\">\n    <path clip-path=\"url(#p06eecca2ee)\" d=\"M 65.361932 32.201761 \nL 74.058036 87.534258 \nL 82.75414 115.481941 \nL 91.450244 135.011373 \nL 100.146347 149.719014 \nL 108.842451 161.261055 \nL 117.538555 170.576621 \nL 126.234659 178.252608 \nL 134.930763 184.680028 \nL 143.626867 190.13176 \nL 152.322971 194.805096 \nL 161.019075 198.846738 \nL 169.715179 202.368318 \nL 178.411282 205.456445 \nL 187.107386 208.179449 \nL 195.80349 210.592032 \nL 204.499594 212.738555 \nL 213.195698 214.655413 \nL 221.891802 216.372768 \nL 230.587906 217.915854 \nL 239.28401 219.305958 \nL 247.980114 220.56117 \nL 256.676218 221.696973 \nL 265.372321 222.726695 \nL 274.068425 223.661877 \nL 282.764529 224.51256 \nL 291.460633 225.287523 \nL 300.156737 225.994468 \nL 308.852841 226.640185 \nL 317.548945 227.230673 \nL 326.245049 227.771253 \nL 334.941153 228.266657 \nL 343.637256 228.721104 \nL 352.33336 229.138365 \nL 361.029464 229.521816 \nL 369.725568 229.874489 \n\" style=\"fill:none;stroke:#1f77b4;stroke-linecap:square;stroke-width:1.5;\"/>\n    <defs>\n     <path d=\"M 0 3 \nC 0.795609 3 1.55874 2.683901 2.12132 2.12132 \nC 2.683901 1.55874 3 0.795609 3 0 \nC 3 -0.795609 2.683901 -1.55874 2.12132 -2.12132 \nC 1.55874 -2.683901 0.795609 -3 0 -3 \nC -0.795609 -3 -1.55874 -2.683901 -2.12132 -2.12132 \nC -2.683901 -1.55874 -3 -0.795609 -3 0 \nC -3 0.795609 -2.683901 1.55874 -2.12132 2.12132 \nC -1.55874 2.683901 -0.795609 3 0 3 \nz\n\" id=\"m8a95f907c6\" style=\"stroke:#1f77b4;\"/>\n    </defs>\n    <g clip-path=\"url(#p06eecca2ee)\">\n     <use style=\"fill:#1f77b4;stroke:#1f77b4;\" x=\"65.361932\" xlink:href=\"#m8a95f907c6\" y=\"32.201761\"/>\n     <use style=\"fill:#1f77b4;stroke:#1f77b4;\" x=\"74.058036\" xlink:href=\"#m8a95f907c6\" y=\"87.534258\"/>\n     <use style=\"fill:#1f77b4;stroke:#1f77b4;\" x=\"82.75414\" xlink:href=\"#m8a95f907c6\" y=\"115.481941\"/>\n     <use style=\"fill:#1f77b4;stroke:#1f77b4;\" x=\"91.450244\" xlink:href=\"#m8a95f907c6\" y=\"135.011373\"/>\n     <use style=\"fill:#1f77b4;stroke:#1f77b4;\" x=\"100.146347\" xlink:href=\"#m8a95f907c6\" y=\"149.719014\"/>\n     <use style=\"fill:#1f77b4;stroke:#1f77b4;\" x=\"108.842451\" xlink:href=\"#m8a95f907c6\" y=\"161.261055\"/>\n     <use style=\"fill:#1f77b4;stroke:#1f77b4;\" x=\"117.538555\" xlink:href=\"#m8a95f907c6\" y=\"170.576621\"/>\n     <use style=\"fill:#1f77b4;stroke:#1f77b4;\" x=\"126.234659\" xlink:href=\"#m8a95f907c6\" y=\"178.252608\"/>\n     <use style=\"fill:#1f77b4;stroke:#1f77b4;\" x=\"134.930763\" xlink:href=\"#m8a95f907c6\" y=\"184.680028\"/>\n     <use style=\"fill:#1f77b4;stroke:#1f77b4;\" x=\"143.626867\" xlink:href=\"#m8a95f907c6\" y=\"190.13176\"/>\n     <use style=\"fill:#1f77b4;stroke:#1f77b4;\" x=\"152.322971\" xlink:href=\"#m8a95f907c6\" y=\"194.805096\"/>\n     <use style=\"fill:#1f77b4;stroke:#1f77b4;\" x=\"161.019075\" xlink:href=\"#m8a95f907c6\" y=\"198.846738\"/>\n     <use style=\"fill:#1f77b4;stroke:#1f77b4;\" x=\"169.715179\" xlink:href=\"#m8a95f907c6\" y=\"202.368318\"/>\n     <use style=\"fill:#1f77b4;stroke:#1f77b4;\" x=\"178.411282\" xlink:href=\"#m8a95f907c6\" y=\"205.456445\"/>\n     <use style=\"fill:#1f77b4;stroke:#1f77b4;\" x=\"187.107386\" xlink:href=\"#m8a95f907c6\" y=\"208.179449\"/>\n     <use style=\"fill:#1f77b4;stroke:#1f77b4;\" x=\"195.80349\" xlink:href=\"#m8a95f907c6\" y=\"210.592032\"/>\n     <use style=\"fill:#1f77b4;stroke:#1f77b4;\" x=\"204.499594\" xlink:href=\"#m8a95f907c6\" y=\"212.738555\"/>\n     <use style=\"fill:#1f77b4;stroke:#1f77b4;\" x=\"213.195698\" xlink:href=\"#m8a95f907c6\" y=\"214.655413\"/>\n     <use style=\"fill:#1f77b4;stroke:#1f77b4;\" x=\"221.891802\" xlink:href=\"#m8a95f907c6\" y=\"216.372768\"/>\n     <use style=\"fill:#1f77b4;stroke:#1f77b4;\" x=\"230.587906\" xlink:href=\"#m8a95f907c6\" y=\"217.915854\"/>\n     <use style=\"fill:#1f77b4;stroke:#1f77b4;\" x=\"239.28401\" xlink:href=\"#m8a95f907c6\" y=\"219.305958\"/>\n     <use style=\"fill:#1f77b4;stroke:#1f77b4;\" x=\"247.980114\" xlink:href=\"#m8a95f907c6\" y=\"220.56117\"/>\n     <use style=\"fill:#1f77b4;stroke:#1f77b4;\" x=\"256.676218\" xlink:href=\"#m8a95f907c6\" y=\"221.696973\"/>\n     <use style=\"fill:#1f77b4;stroke:#1f77b4;\" x=\"265.372321\" xlink:href=\"#m8a95f907c6\" y=\"222.726695\"/>\n     <use style=\"fill:#1f77b4;stroke:#1f77b4;\" x=\"274.068425\" xlink:href=\"#m8a95f907c6\" y=\"223.661877\"/>\n     <use style=\"fill:#1f77b4;stroke:#1f77b4;\" x=\"282.764529\" xlink:href=\"#m8a95f907c6\" y=\"224.51256\"/>\n     <use style=\"fill:#1f77b4;stroke:#1f77b4;\" x=\"291.460633\" xlink:href=\"#m8a95f907c6\" y=\"225.287523\"/>\n     <use style=\"fill:#1f77b4;stroke:#1f77b4;\" x=\"300.156737\" xlink:href=\"#m8a95f907c6\" y=\"225.994468\"/>\n     <use style=\"fill:#1f77b4;stroke:#1f77b4;\" x=\"308.852841\" xlink:href=\"#m8a95f907c6\" y=\"226.640185\"/>\n     <use style=\"fill:#1f77b4;stroke:#1f77b4;\" x=\"317.548945\" xlink:href=\"#m8a95f907c6\" y=\"227.230673\"/>\n     <use style=\"fill:#1f77b4;stroke:#1f77b4;\" x=\"326.245049\" xlink:href=\"#m8a95f907c6\" y=\"227.771253\"/>\n     <use style=\"fill:#1f77b4;stroke:#1f77b4;\" x=\"334.941153\" xlink:href=\"#m8a95f907c6\" y=\"228.266657\"/>\n     <use style=\"fill:#1f77b4;stroke:#1f77b4;\" x=\"343.637256\" xlink:href=\"#m8a95f907c6\" y=\"228.721104\"/>\n     <use style=\"fill:#1f77b4;stroke:#1f77b4;\" x=\"352.33336\" xlink:href=\"#m8a95f907c6\" y=\"229.138365\"/>\n     <use style=\"fill:#1f77b4;stroke:#1f77b4;\" x=\"361.029464\" xlink:href=\"#m8a95f907c6\" y=\"229.521816\"/>\n     <use style=\"fill:#1f77b4;stroke:#1f77b4;\" x=\"369.725568\" xlink:href=\"#m8a95f907c6\" y=\"229.874489\"/>\n    </g>\n   </g>\n   <g id=\"patch_3\">\n    <path d=\"M 50.14375 239.758125 \nL 50.14375 22.318125 \n\" style=\"fill:none;stroke:#000000;stroke-linecap:square;stroke-linejoin:miter;stroke-width:0.8;\"/>\n   </g>\n   <g id=\"patch_4\">\n    <path d=\"M 384.94375 239.758125 \nL 384.94375 22.318125 \n\" style=\"fill:none;stroke:#000000;stroke-linecap:square;stroke-linejoin:miter;stroke-width:0.8;\"/>\n   </g>\n   <g id=\"patch_5\">\n    <path d=\"M 50.14375 239.758125 \nL 384.94375 239.758125 \n\" style=\"fill:none;stroke:#000000;stroke-linecap:square;stroke-linejoin:miter;stroke-width:0.8;\"/>\n   </g>\n   <g id=\"patch_6\">\n    <path d=\"M 50.14375 22.318125 \nL 384.94375 22.318125 \n\" style=\"fill:none;stroke:#000000;stroke-linecap:square;stroke-linejoin:miter;stroke-width:0.8;\"/>\n   </g>\n   <g id=\"text_18\">\n    <!-- Batch gradient descent -->\n    <defs>\n     <path d=\"M 19.671875 34.8125 \nL 19.671875 8.109375 \nL 35.5 8.109375 \nQ 43.453125 8.109375 47.28125 11.40625 \nQ 51.125 14.703125 51.125 21.484375 \nQ 51.125 28.328125 47.28125 31.5625 \nQ 43.453125 34.8125 35.5 34.8125 \nz\nM 19.671875 64.796875 \nL 19.671875 42.828125 \nL 34.28125 42.828125 \nQ 41.5 42.828125 45.03125 45.53125 \nQ 48.578125 48.25 48.578125 53.8125 \nQ 48.578125 59.328125 45.03125 62.0625 \nQ 41.5 64.796875 34.28125 64.796875 \nz\nM 9.8125 72.90625 \nL 35.015625 72.90625 \nQ 46.296875 72.90625 52.390625 68.21875 \nQ 58.5 63.53125 58.5 54.890625 \nQ 58.5 48.1875 55.375 44.234375 \nQ 52.25 40.28125 46.1875 39.3125 \nQ 53.46875 37.75 57.5 32.78125 \nQ 61.53125 27.828125 61.53125 20.40625 \nQ 61.53125 10.640625 54.890625 5.3125 \nQ 48.25 0 35.984375 0 \nL 9.8125 0 \nz\n\" id=\"DejaVuSans-66\"/>\n     <path d=\"M 48.78125 52.59375 \nL 48.78125 44.1875 \nQ 44.96875 46.296875 41.140625 47.34375 \nQ 37.3125 48.390625 33.40625 48.390625 \nQ 24.65625 48.390625 19.8125 42.84375 \nQ 14.984375 37.3125 14.984375 27.296875 \nQ 14.984375 17.28125 19.8125 11.734375 \nQ 24.65625 6.203125 33.40625 6.203125 \nQ 37.3125 6.203125 41.140625 7.25 \nQ 44.96875 8.296875 48.78125 10.40625 \nL 48.78125 2.09375 \nQ 45.015625 0.34375 40.984375 -0.53125 \nQ 36.96875 -1.421875 32.421875 -1.421875 \nQ 20.0625 -1.421875 12.78125 6.34375 \nQ 5.515625 14.109375 5.515625 27.296875 \nQ 5.515625 40.671875 12.859375 48.328125 \nQ 20.21875 56 33.015625 56 \nQ 37.15625 56 41.109375 55.140625 \nQ 45.0625 54.296875 48.78125 52.59375 \nz\n\" id=\"DejaVuSans-99\"/>\n     <path d=\"M 45.40625 27.984375 \nQ 45.40625 37.75 41.375 43.109375 \nQ 37.359375 48.484375 30.078125 48.484375 \nQ 22.859375 48.484375 18.828125 43.109375 \nQ 14.796875 37.75 14.796875 27.984375 \nQ 14.796875 18.265625 18.828125 12.890625 \nQ 22.859375 7.515625 30.078125 7.515625 \nQ 37.359375 7.515625 41.375 12.890625 \nQ 45.40625 18.265625 45.40625 27.984375 \nz\nM 54.390625 6.78125 \nQ 54.390625 -7.171875 48.1875 -13.984375 \nQ 42 -20.796875 29.203125 -20.796875 \nQ 24.46875 -20.796875 20.265625 -20.09375 \nQ 16.0625 -19.390625 12.109375 -17.921875 \nL 12.109375 -9.1875 \nQ 16.0625 -11.328125 19.921875 -12.34375 \nQ 23.78125 -13.375 27.78125 -13.375 \nQ 36.625 -13.375 41.015625 -8.765625 \nQ 45.40625 -4.15625 45.40625 5.171875 \nL 45.40625 9.625 \nQ 42.625 4.78125 38.28125 2.390625 \nQ 33.9375 0 27.875 0 \nQ 17.828125 0 11.671875 7.65625 \nQ 5.515625 15.328125 5.515625 27.984375 \nQ 5.515625 40.671875 11.671875 48.328125 \nQ 17.828125 56 27.875 56 \nQ 33.9375 56 38.28125 53.609375 \nQ 42.625 51.21875 45.40625 46.390625 \nL 45.40625 54.6875 \nL 54.390625 54.6875 \nz\n\" id=\"DejaVuSans-103\"/>\n     <path d=\"M 45.40625 46.390625 \nL 45.40625 75.984375 \nL 54.390625 75.984375 \nL 54.390625 0 \nL 45.40625 0 \nL 45.40625 8.203125 \nQ 42.578125 3.328125 38.25 0.953125 \nQ 33.9375 -1.421875 27.875 -1.421875 \nQ 17.96875 -1.421875 11.734375 6.484375 \nQ 5.515625 14.40625 5.515625 27.296875 \nQ 5.515625 40.1875 11.734375 48.09375 \nQ 17.96875 56 27.875 56 \nQ 33.9375 56 38.25 53.625 \nQ 42.578125 51.265625 45.40625 46.390625 \nz\nM 14.796875 27.296875 \nQ 14.796875 17.390625 18.875 11.75 \nQ 22.953125 6.109375 30.078125 6.109375 \nQ 37.203125 6.109375 41.296875 11.75 \nQ 45.40625 17.390625 45.40625 27.296875 \nQ 45.40625 37.203125 41.296875 42.84375 \nQ 37.203125 48.484375 30.078125 48.484375 \nQ 22.953125 48.484375 18.875 42.84375 \nQ 14.796875 37.203125 14.796875 27.296875 \nz\n\" id=\"DejaVuSans-100\"/>\n    </defs>\n    <g transform=\"translate(147.435625 16.318125)scale(0.12 -0.12)\">\n     <use xlink:href=\"#DejaVuSans-66\"/>\n     <use x=\"68.603516\" xlink:href=\"#DejaVuSans-97\"/>\n     <use x=\"129.882812\" xlink:href=\"#DejaVuSans-116\"/>\n     <use x=\"169.091797\" xlink:href=\"#DejaVuSans-99\"/>\n     <use x=\"224.072266\" xlink:href=\"#DejaVuSans-104\"/>\n     <use x=\"287.451172\" xlink:href=\"#DejaVuSans-32\"/>\n     <use x=\"319.238281\" xlink:href=\"#DejaVuSans-103\"/>\n     <use x=\"382.714844\" xlink:href=\"#DejaVuSans-114\"/>\n     <use x=\"423.828125\" xlink:href=\"#DejaVuSans-97\"/>\n     <use x=\"485.107422\" xlink:href=\"#DejaVuSans-100\"/>\n     <use x=\"548.583984\" xlink:href=\"#DejaVuSans-105\"/>\n     <use x=\"576.367188\" xlink:href=\"#DejaVuSans-101\"/>\n     <use x=\"637.890625\" xlink:href=\"#DejaVuSans-110\"/>\n     <use x=\"701.269531\" xlink:href=\"#DejaVuSans-116\"/>\n     <use x=\"740.478516\" xlink:href=\"#DejaVuSans-32\"/>\n     <use x=\"772.265625\" xlink:href=\"#DejaVuSans-100\"/>\n     <use x=\"835.742188\" xlink:href=\"#DejaVuSans-101\"/>\n     <use x=\"897.265625\" xlink:href=\"#DejaVuSans-115\"/>\n     <use x=\"949.365234\" xlink:href=\"#DejaVuSans-99\"/>\n     <use x=\"1004.345703\" xlink:href=\"#DejaVuSans-101\"/>\n     <use x=\"1065.869141\" xlink:href=\"#DejaVuSans-110\"/>\n     <use x=\"1129.248047\" xlink:href=\"#DejaVuSans-116\"/>\n    </g>\n   </g>\n  </g>\n </g>\n <defs>\n  <clipPath id=\"p06eecca2ee\">\n   <rect height=\"217.44\" width=\"334.8\" x=\"50.14375\" y=\"22.318125\"/>\n  </clipPath>\n </defs>\n</svg>\n"
          },
          "metadata": {
            "tags": [],
            "needs_background": "light"
          }
        }
      ]
    },
    {
      "cell_type": "markdown",
      "metadata": {
        "id": "vxaTWxPNcKFg"
      },
      "source": [
        "On veut estimer le modèle suivant : $y \\sim \\sigma(\\beta_0 + x_1 \\beta_1 + x_2 \\beta_2 + x_3 \\beta_3)$. Or, puisque nous avons effecuté un changement de variable, nous avons à la place estimé le modèle suivant : $$y \\sim \\sigma(\\tilde{\\beta_0} + u_1 \\tilde{\\beta_1} + u_2 \\tilde{\\beta_2} + u_3 \\tilde{\\beta_3}),$$ où $u_i = \\frac{x_i - \\mu_i}{\\sigma_i}$ sont les nouvelles variables, et $\\mu_i$ et $\\sigma_i$ sont les moyennes et écart-types respectifs de $x_i$.\n",
        "\n",
        "Par conséquent, il faut effectuer le changement de variable suivant sur les coefficients obtenus :\n",
        "$$\\beta_0 = \\tilde{\\beta_0} - \\tilde{\\beta_1}\\frac{\\mu_1}{\\sigma_1} - \\tilde{\\beta_2}\\frac{\\mu_2}{\\sigma_2} - \\tilde{\\beta_3}\\frac{\\mu_3}{\\sigma_3},$$\n",
        "$$\\beta_i = \\tilde{\\beta_i} / \\sigma_i, 1\\leq i \\leq 3$$"
      ]
    },
    {
      "cell_type": "code",
      "metadata": {
        "id": "46S0sbsCcKFg"
      },
      "source": [
        "beta_scaled = betas[-1]"
      ],
      "execution_count": null,
      "outputs": []
    },
    {
      "cell_type": "code",
      "metadata": {
        "id": "e8_4eQJJcKFg"
      },
      "source": [
        "beta0 = beta_scaled[0] - np.sum(beta_scaled[1:4] * scaler.mean_ / scaler.scale_)"
      ],
      "execution_count": null,
      "outputs": []
    },
    {
      "cell_type": "code",
      "metadata": {
        "id": "X9GgeXT0cKFg"
      },
      "source": [
        "beta_original = np.insert(beta_scaled[1:4] / scaler.scale_, 0, beta0)"
      ],
      "execution_count": null,
      "outputs": []
    },
    {
      "cell_type": "code",
      "metadata": {
        "colab": {
          "base_uri": "https://localhost:8080/"
        },
        "id": "WPa1Dot3cKFg",
        "outputId": "aadd0166-311b-4e3d-91b5-439bd2e004d3"
      },
      "source": [
        "print(\"La probabilité qu'un manchot soit mâle est prédite par sigma(\", end='')\n",
        "print(\"%.2f + %.2f x bill_length_mm + %.2f x bill_depth_mm + %.2f x flipper_length_mm)\" % (tuple(beta_original)))"
      ],
      "execution_count": null,
      "outputs": [
        {
          "output_type": "stream",
          "text": [
            "La probabilité qu'un manchot soit mâle est prédite par sigma(-53.85 + 0.17 x bill_length_mm + 1.30 x bill_depth_mm + 0.12 x flipper_length_mm)\n"
          ],
          "name": "stdout"
        }
      ]
    },
    {
      "cell_type": "markdown",
      "metadata": {
        "id": "NcJR3BU4cKFh"
      },
      "source": [
        "__Remarque__: Les coefficients sont très éloignés de ceux qu'on avait obtenus sans prétraitement des données."
      ]
    },
    {
      "cell_type": "markdown",
      "metadata": {
        "id": "_QLnj5g_cKFh"
      },
      "source": [
        "#### Performance après avoir centré-réduit les données"
      ]
    },
    {
      "cell_type": "code",
      "metadata": {
        "id": "QFIb5DuZcKFh"
      },
      "source": [
        "X_test_scaled = np.hstack((np.ones((X_test.shape[0], 1)), X_test))"
      ],
      "execution_count": null,
      "outputs": []
    },
    {
      "cell_type": "code",
      "metadata": {
        "id": "c1Cjru6IcKFh"
      },
      "source": [
        "y_test_pred = np.where(sigmoid(X_test_scaled.dot(beta_original)) > 0.5, 1, 0)"
      ],
      "execution_count": null,
      "outputs": []
    },
    {
      "cell_type": "code",
      "metadata": {
        "id": "EX_bfOhdcKFh",
        "colab": {
          "base_uri": "https://localhost:8080/",
          "height": 393
        },
        "outputId": "e668362a-b6e5-4b05-ff87-20147824a7bf"
      },
      "source": [
        "confusion_matrix_display = metrics.ConfusionMatrixDisplay(metrics.confusion_matrix(y_test, y_test_pred),display_labels=unique(y_test))\n",
        "confusion_matrix_display.plot()"
      ],
      "execution_count": null,
      "outputs": [
        {
          "output_type": "execute_result",
          "data": {
            "text/plain": [
              "<sklearn.metrics._plot.confusion_matrix.ConfusionMatrixDisplay at 0x7fcc55029710>"
            ]
          },
          "metadata": {
            "tags": []
          },
          "execution_count": 224
        },
        {
          "output_type": "display_data",
          "data": {
            "text/plain": [
              "<Figure size 432x288 with 2 Axes>"
            ],
            "image/svg+xml": "<?xml version=\"1.0\" encoding=\"utf-8\" standalone=\"no\"?>\n<!DOCTYPE svg PUBLIC \"-//W3C//DTD SVG 1.1//EN\"\n  \"http://www.w3.org/Graphics/SVG/1.1/DTD/svg11.dtd\">\n<!-- Created with matplotlib (https://matplotlib.org/) -->\n<svg height=\"265.995469pt\" version=\"1.1\" viewBox=\"0 0 306.217625 265.995469\" width=\"306.217625pt\" xmlns=\"http://www.w3.org/2000/svg\" xmlns:xlink=\"http://www.w3.org/1999/xlink\">\n <defs>\n  <style type=\"text/css\">\n*{stroke-linecap:butt;stroke-linejoin:round;}\n  </style>\n </defs>\n <g id=\"figure_1\">\n  <g id=\"patch_1\">\n   <path d=\"M 0 265.995469 \nL 306.217625 265.995469 \nL 306.217625 0 \nL 0 0 \nz\n\" style=\"fill:none;\"/>\n  </g>\n  <g id=\"axes_1\">\n   <g id=\"patch_2\">\n    <path d=\"M 34.240625 228.439219 \nL 251.680625 228.439219 \nL 251.680625 10.999219 \nL 34.240625 10.999219 \nz\n\" style=\"fill:#ffffff;\"/>\n   </g>\n   <g clip-path=\"url(#p88eb4c3235)\">\n    <image height=\"218\" id=\"imageee08387beb\" transform=\"scale(1 -1)translate(0 -218)\" width=\"218\" x=\"34.240625\" xlink:href=\"data:image/png;base64,\niVBORw0KGgoAAAANSUhEUgAAANoAAADaCAYAAADAHVzbAAAABHNCSVQICAgIfAhkiAAAAptJREFUeJzt1bENwkAABEFMGcQUQEpmicClkVEYjVAFsmv4ZF+ImQouWd2yPp77iZ9yf71nT2DQefYA+AdCg4DQICA0CAgNAkKDgNAgIDQICA0CQoOA0CAgNAgIDQJCg4DQICA0CAgNAkKDgNAgIDQICA0CQoOA0CAgNAgIDQJCg4DQICA0CAgNAkKDgNAgIDQICA0CQoOA0CAgNAgIDQJCg4DQICA0CAgNAkKDgNAgIDQICA0CQoOA0CAgNAgIDQJCg4DQICA0CAgNAkKDgNAgIDQICA0CQoOA0CAgNAgIDQJCg4DQICA0CAgNAkKDgNAgIDQICA0CQoOA0CAgNAgIDQJCg4DQICA0CAgNAkKDgNAgIDQICA0CQoOA0CAgNAgIDQJCg4DQICA0CAgNAkKDgNAgIDQICA0CQoOA0CAgNAgIDQJCg4DQICA0CAgNAkKDgNAgIDQICA0CQoOA0CAgNAgs3891nz2CMdvlNnsCgzwaBIQGAaFBQGgQEBoEhAYBoUFAaBAQGgSEBgGhQUBoEBAaBIQGAaFBQGgQEBoEhAYBoUFAaBAQGgSEBgGhQUBoEBAaBIQGAaFBQGgQEBoEhAYBoUFAaBAQGgSEBgGhQUBoEBAaBIQGAaFBQGgQEBoEhAYBoUFAaBAQGgSEBgGhQUBoEBAaBIQGAaFBQGgQEBoEhAYBoUFAaBAQGgSEBgGhQUBoEBAaBIQGAaFBQGgQEBoEhAYBoUFAaBAQGgSEBgGhQUBoEBAaBIQGAaFBQGgQEBoEhAYBoUFAaBAQGgSEBgGhQUBoEBAaBIQGAaFBQGgQEBoEhAYBoUFAaBAQGgSEBgGhQUBoEBAaBIQGAaFBQGgQEBoEhAYBoUFAaBAQGgSEBgGhQUBoEDgAJjAI5UQnOykAAAAASUVORK5CYII=\" y=\"-10.439219\"/>\n   </g>\n   <g id=\"matplotlib.axis_1\">\n    <g id=\"xtick_1\">\n     <g id=\"line2d_1\">\n      <defs>\n       <path d=\"M 0 0 \nL 0 3.5 \n\" id=\"mb3fef9b8eb\" style=\"stroke:#000000;stroke-width:0.8;\"/>\n      </defs>\n      <g>\n       <use style=\"stroke:#000000;stroke-width:0.8;\" x=\"88.600625\" xlink:href=\"#mb3fef9b8eb\" y=\"228.439219\"/>\n      </g>\n     </g>\n     <g id=\"text_1\">\n      <!-- 0 -->\n      <defs>\n       <path d=\"M 31.78125 66.40625 \nQ 24.171875 66.40625 20.328125 58.90625 \nQ 16.5 51.421875 16.5 36.375 \nQ 16.5 21.390625 20.328125 13.890625 \nQ 24.171875 6.390625 31.78125 6.390625 \nQ 39.453125 6.390625 43.28125 13.890625 \nQ 47.125 21.390625 47.125 36.375 \nQ 47.125 51.421875 43.28125 58.90625 \nQ 39.453125 66.40625 31.78125 66.40625 \nz\nM 31.78125 74.21875 \nQ 44.046875 74.21875 50.515625 64.515625 \nQ 56.984375 54.828125 56.984375 36.375 \nQ 56.984375 17.96875 50.515625 8.265625 \nQ 44.046875 -1.421875 31.78125 -1.421875 \nQ 19.53125 -1.421875 13.0625 8.265625 \nQ 6.59375 17.96875 6.59375 36.375 \nQ 6.59375 54.828125 13.0625 64.515625 \nQ 19.53125 74.21875 31.78125 74.21875 \nz\n\" id=\"DejaVuSans-48\"/>\n      </defs>\n      <g transform=\"translate(85.419375 243.037656)scale(0.1 -0.1)\">\n       <use xlink:href=\"#DejaVuSans-48\"/>\n      </g>\n     </g>\n    </g>\n    <g id=\"xtick_2\">\n     <g id=\"line2d_2\">\n      <g>\n       <use style=\"stroke:#000000;stroke-width:0.8;\" x=\"197.320625\" xlink:href=\"#mb3fef9b8eb\" y=\"228.439219\"/>\n      </g>\n     </g>\n     <g id=\"text_2\">\n      <!-- 1 -->\n      <defs>\n       <path d=\"M 12.40625 8.296875 \nL 28.515625 8.296875 \nL 28.515625 63.921875 \nL 10.984375 60.40625 \nL 10.984375 69.390625 \nL 28.421875 72.90625 \nL 38.28125 72.90625 \nL 38.28125 8.296875 \nL 54.390625 8.296875 \nL 54.390625 0 \nL 12.40625 0 \nz\n\" id=\"DejaVuSans-49\"/>\n      </defs>\n      <g transform=\"translate(194.139375 243.037656)scale(0.1 -0.1)\">\n       <use xlink:href=\"#DejaVuSans-49\"/>\n      </g>\n     </g>\n    </g>\n    <g id=\"text_3\">\n     <!-- Predicted label -->\n     <defs>\n      <path d=\"M 19.671875 64.796875 \nL 19.671875 37.40625 \nL 32.078125 37.40625 \nQ 38.96875 37.40625 42.71875 40.96875 \nQ 46.484375 44.53125 46.484375 51.125 \nQ 46.484375 57.671875 42.71875 61.234375 \nQ 38.96875 64.796875 32.078125 64.796875 \nz\nM 9.8125 72.90625 \nL 32.078125 72.90625 \nQ 44.34375 72.90625 50.609375 67.359375 \nQ 56.890625 61.8125 56.890625 51.125 \nQ 56.890625 40.328125 50.609375 34.8125 \nQ 44.34375 29.296875 32.078125 29.296875 \nL 19.671875 29.296875 \nL 19.671875 0 \nL 9.8125 0 \nz\n\" id=\"DejaVuSans-80\"/>\n      <path d=\"M 41.109375 46.296875 \nQ 39.59375 47.171875 37.8125 47.578125 \nQ 36.03125 48 33.890625 48 \nQ 26.265625 48 22.1875 43.046875 \nQ 18.109375 38.09375 18.109375 28.8125 \nL 18.109375 0 \nL 9.078125 0 \nL 9.078125 54.6875 \nL 18.109375 54.6875 \nL 18.109375 46.1875 \nQ 20.953125 51.171875 25.484375 53.578125 \nQ 30.03125 56 36.53125 56 \nQ 37.453125 56 38.578125 55.875 \nQ 39.703125 55.765625 41.0625 55.515625 \nz\n\" id=\"DejaVuSans-114\"/>\n      <path d=\"M 56.203125 29.59375 \nL 56.203125 25.203125 \nL 14.890625 25.203125 \nQ 15.484375 15.921875 20.484375 11.0625 \nQ 25.484375 6.203125 34.421875 6.203125 \nQ 39.59375 6.203125 44.453125 7.46875 \nQ 49.3125 8.734375 54.109375 11.28125 \nL 54.109375 2.78125 \nQ 49.265625 0.734375 44.1875 -0.34375 \nQ 39.109375 -1.421875 33.890625 -1.421875 \nQ 20.796875 -1.421875 13.15625 6.1875 \nQ 5.515625 13.8125 5.515625 26.8125 \nQ 5.515625 40.234375 12.765625 48.109375 \nQ 20.015625 56 32.328125 56 \nQ 43.359375 56 49.78125 48.890625 \nQ 56.203125 41.796875 56.203125 29.59375 \nz\nM 47.21875 32.234375 \nQ 47.125 39.59375 43.09375 43.984375 \nQ 39.0625 48.390625 32.421875 48.390625 \nQ 24.90625 48.390625 20.390625 44.140625 \nQ 15.875 39.890625 15.1875 32.171875 \nz\n\" id=\"DejaVuSans-101\"/>\n      <path d=\"M 45.40625 46.390625 \nL 45.40625 75.984375 \nL 54.390625 75.984375 \nL 54.390625 0 \nL 45.40625 0 \nL 45.40625 8.203125 \nQ 42.578125 3.328125 38.25 0.953125 \nQ 33.9375 -1.421875 27.875 -1.421875 \nQ 17.96875 -1.421875 11.734375 6.484375 \nQ 5.515625 14.40625 5.515625 27.296875 \nQ 5.515625 40.1875 11.734375 48.09375 \nQ 17.96875 56 27.875 56 \nQ 33.9375 56 38.25 53.625 \nQ 42.578125 51.265625 45.40625 46.390625 \nz\nM 14.796875 27.296875 \nQ 14.796875 17.390625 18.875 11.75 \nQ 22.953125 6.109375 30.078125 6.109375 \nQ 37.203125 6.109375 41.296875 11.75 \nQ 45.40625 17.390625 45.40625 27.296875 \nQ 45.40625 37.203125 41.296875 42.84375 \nQ 37.203125 48.484375 30.078125 48.484375 \nQ 22.953125 48.484375 18.875 42.84375 \nQ 14.796875 37.203125 14.796875 27.296875 \nz\n\" id=\"DejaVuSans-100\"/>\n      <path d=\"M 9.421875 54.6875 \nL 18.40625 54.6875 \nL 18.40625 0 \nL 9.421875 0 \nz\nM 9.421875 75.984375 \nL 18.40625 75.984375 \nL 18.40625 64.59375 \nL 9.421875 64.59375 \nz\n\" id=\"DejaVuSans-105\"/>\n      <path d=\"M 48.78125 52.59375 \nL 48.78125 44.1875 \nQ 44.96875 46.296875 41.140625 47.34375 \nQ 37.3125 48.390625 33.40625 48.390625 \nQ 24.65625 48.390625 19.8125 42.84375 \nQ 14.984375 37.3125 14.984375 27.296875 \nQ 14.984375 17.28125 19.8125 11.734375 \nQ 24.65625 6.203125 33.40625 6.203125 \nQ 37.3125 6.203125 41.140625 7.25 \nQ 44.96875 8.296875 48.78125 10.40625 \nL 48.78125 2.09375 \nQ 45.015625 0.34375 40.984375 -0.53125 \nQ 36.96875 -1.421875 32.421875 -1.421875 \nQ 20.0625 -1.421875 12.78125 6.34375 \nQ 5.515625 14.109375 5.515625 27.296875 \nQ 5.515625 40.671875 12.859375 48.328125 \nQ 20.21875 56 33.015625 56 \nQ 37.15625 56 41.109375 55.140625 \nQ 45.0625 54.296875 48.78125 52.59375 \nz\n\" id=\"DejaVuSans-99\"/>\n      <path d=\"M 18.3125 70.21875 \nL 18.3125 54.6875 \nL 36.8125 54.6875 \nL 36.8125 47.703125 \nL 18.3125 47.703125 \nL 18.3125 18.015625 \nQ 18.3125 11.328125 20.140625 9.421875 \nQ 21.96875 7.515625 27.59375 7.515625 \nL 36.8125 7.515625 \nL 36.8125 0 \nL 27.59375 0 \nQ 17.1875 0 13.234375 3.875 \nQ 9.28125 7.765625 9.28125 18.015625 \nL 9.28125 47.703125 \nL 2.6875 47.703125 \nL 2.6875 54.6875 \nL 9.28125 54.6875 \nL 9.28125 70.21875 \nz\n\" id=\"DejaVuSans-116\"/>\n      <path id=\"DejaVuSans-32\"/>\n      <path d=\"M 9.421875 75.984375 \nL 18.40625 75.984375 \nL 18.40625 0 \nL 9.421875 0 \nz\n\" id=\"DejaVuSans-108\"/>\n      <path d=\"M 34.28125 27.484375 \nQ 23.390625 27.484375 19.1875 25 \nQ 14.984375 22.515625 14.984375 16.5 \nQ 14.984375 11.71875 18.140625 8.90625 \nQ 21.296875 6.109375 26.703125 6.109375 \nQ 34.1875 6.109375 38.703125 11.40625 \nQ 43.21875 16.703125 43.21875 25.484375 \nL 43.21875 27.484375 \nz\nM 52.203125 31.203125 \nL 52.203125 0 \nL 43.21875 0 \nL 43.21875 8.296875 \nQ 40.140625 3.328125 35.546875 0.953125 \nQ 30.953125 -1.421875 24.3125 -1.421875 \nQ 15.921875 -1.421875 10.953125 3.296875 \nQ 6 8.015625 6 15.921875 \nQ 6 25.140625 12.171875 29.828125 \nQ 18.359375 34.515625 30.609375 34.515625 \nL 43.21875 34.515625 \nL 43.21875 35.40625 \nQ 43.21875 41.609375 39.140625 45 \nQ 35.0625 48.390625 27.6875 48.390625 \nQ 23 48.390625 18.546875 47.265625 \nQ 14.109375 46.140625 10.015625 43.890625 \nL 10.015625 52.203125 \nQ 14.9375 54.109375 19.578125 55.046875 \nQ 24.21875 56 28.609375 56 \nQ 40.484375 56 46.34375 49.84375 \nQ 52.203125 43.703125 52.203125 31.203125 \nz\n\" id=\"DejaVuSans-97\"/>\n      <path d=\"M 48.6875 27.296875 \nQ 48.6875 37.203125 44.609375 42.84375 \nQ 40.53125 48.484375 33.40625 48.484375 \nQ 26.265625 48.484375 22.1875 42.84375 \nQ 18.109375 37.203125 18.109375 27.296875 \nQ 18.109375 17.390625 22.1875 11.75 \nQ 26.265625 6.109375 33.40625 6.109375 \nQ 40.53125 6.109375 44.609375 11.75 \nQ 48.6875 17.390625 48.6875 27.296875 \nz\nM 18.109375 46.390625 \nQ 20.953125 51.265625 25.265625 53.625 \nQ 29.59375 56 35.59375 56 \nQ 45.5625 56 51.78125 48.09375 \nQ 58.015625 40.1875 58.015625 27.296875 \nQ 58.015625 14.40625 51.78125 6.484375 \nQ 45.5625 -1.421875 35.59375 -1.421875 \nQ 29.59375 -1.421875 25.265625 0.953125 \nQ 20.953125 3.328125 18.109375 8.203125 \nL 18.109375 0 \nL 9.078125 0 \nL 9.078125 75.984375 \nL 18.109375 75.984375 \nz\n\" id=\"DejaVuSans-98\"/>\n     </defs>\n     <g transform=\"translate(105.808281 256.715781)scale(0.1 -0.1)\">\n      <use xlink:href=\"#DejaVuSans-80\"/>\n      <use x=\"58.552734\" xlink:href=\"#DejaVuSans-114\"/>\n      <use x=\"97.416016\" xlink:href=\"#DejaVuSans-101\"/>\n      <use x=\"158.939453\" xlink:href=\"#DejaVuSans-100\"/>\n      <use x=\"222.416016\" xlink:href=\"#DejaVuSans-105\"/>\n      <use x=\"250.199219\" xlink:href=\"#DejaVuSans-99\"/>\n      <use x=\"305.179688\" xlink:href=\"#DejaVuSans-116\"/>\n      <use x=\"344.388672\" xlink:href=\"#DejaVuSans-101\"/>\n      <use x=\"405.912109\" xlink:href=\"#DejaVuSans-100\"/>\n      <use x=\"469.388672\" xlink:href=\"#DejaVuSans-32\"/>\n      <use x=\"501.175781\" xlink:href=\"#DejaVuSans-108\"/>\n      <use x=\"528.958984\" xlink:href=\"#DejaVuSans-97\"/>\n      <use x=\"590.238281\" xlink:href=\"#DejaVuSans-98\"/>\n      <use x=\"653.714844\" xlink:href=\"#DejaVuSans-101\"/>\n      <use x=\"715.238281\" xlink:href=\"#DejaVuSans-108\"/>\n     </g>\n    </g>\n   </g>\n   <g id=\"matplotlib.axis_2\">\n    <g id=\"ytick_1\">\n     <g id=\"line2d_3\">\n      <defs>\n       <path d=\"M 0 0 \nL -3.5 0 \n\" id=\"m436111395b\" style=\"stroke:#000000;stroke-width:0.8;\"/>\n      </defs>\n      <g>\n       <use style=\"stroke:#000000;stroke-width:0.8;\" x=\"34.240625\" xlink:href=\"#m436111395b\" y=\"65.359219\"/>\n      </g>\n     </g>\n     <g id=\"text_4\">\n      <!-- 0 -->\n      <g transform=\"translate(20.878125 69.158437)scale(0.1 -0.1)\">\n       <use xlink:href=\"#DejaVuSans-48\"/>\n      </g>\n     </g>\n    </g>\n    <g id=\"ytick_2\">\n     <g id=\"line2d_4\">\n      <g>\n       <use style=\"stroke:#000000;stroke-width:0.8;\" x=\"34.240625\" xlink:href=\"#m436111395b\" y=\"174.079219\"/>\n      </g>\n     </g>\n     <g id=\"text_5\">\n      <!-- 1 -->\n      <g transform=\"translate(20.878125 177.878437)scale(0.1 -0.1)\">\n       <use xlink:href=\"#DejaVuSans-49\"/>\n      </g>\n     </g>\n    </g>\n    <g id=\"text_6\">\n     <!-- True label -->\n     <defs>\n      <path d=\"M -0.296875 72.90625 \nL 61.375 72.90625 \nL 61.375 64.59375 \nL 35.5 64.59375 \nL 35.5 0 \nL 25.59375 0 \nL 25.59375 64.59375 \nL -0.296875 64.59375 \nz\n\" id=\"DejaVuSans-84\"/>\n      <path d=\"M 8.5 21.578125 \nL 8.5 54.6875 \nL 17.484375 54.6875 \nL 17.484375 21.921875 \nQ 17.484375 14.15625 20.5 10.265625 \nQ 23.53125 6.390625 29.59375 6.390625 \nQ 36.859375 6.390625 41.078125 11.03125 \nQ 45.3125 15.671875 45.3125 23.6875 \nL 45.3125 54.6875 \nL 54.296875 54.6875 \nL 54.296875 0 \nL 45.3125 0 \nL 45.3125 8.40625 \nQ 42.046875 3.421875 37.71875 1 \nQ 33.40625 -1.421875 27.6875 -1.421875 \nQ 18.265625 -1.421875 13.375 4.4375 \nQ 8.5 10.296875 8.5 21.578125 \nz\nM 31.109375 56 \nz\n\" id=\"DejaVuSans-117\"/>\n     </defs>\n     <g transform=\"translate(14.798437 144.018437)rotate(-90)scale(0.1 -0.1)\">\n      <use xlink:href=\"#DejaVuSans-84\"/>\n      <use x=\"46.333984\" xlink:href=\"#DejaVuSans-114\"/>\n      <use x=\"87.447266\" xlink:href=\"#DejaVuSans-117\"/>\n      <use x=\"150.826172\" xlink:href=\"#DejaVuSans-101\"/>\n      <use x=\"212.349609\" xlink:href=\"#DejaVuSans-32\"/>\n      <use x=\"244.136719\" xlink:href=\"#DejaVuSans-108\"/>\n      <use x=\"271.919922\" xlink:href=\"#DejaVuSans-97\"/>\n      <use x=\"333.199219\" xlink:href=\"#DejaVuSans-98\"/>\n      <use x=\"396.675781\" xlink:href=\"#DejaVuSans-101\"/>\n      <use x=\"458.199219\" xlink:href=\"#DejaVuSans-108\"/>\n     </g>\n    </g>\n   </g>\n   <g id=\"patch_3\">\n    <path d=\"M 34.240625 228.439219 \nL 34.240625 10.999219 \n\" style=\"fill:none;stroke:#000000;stroke-linecap:square;stroke-linejoin:miter;stroke-width:0.8;\"/>\n   </g>\n   <g id=\"patch_4\">\n    <path d=\"M 251.680625 228.439219 \nL 251.680625 10.999219 \n\" style=\"fill:none;stroke:#000000;stroke-linecap:square;stroke-linejoin:miter;stroke-width:0.8;\"/>\n   </g>\n   <g id=\"patch_5\">\n    <path d=\"M 34.240625 228.439219 \nL 251.680625 228.439219 \n\" style=\"fill:none;stroke:#000000;stroke-linecap:square;stroke-linejoin:miter;stroke-width:0.8;\"/>\n   </g>\n   <g id=\"patch_6\">\n    <path d=\"M 34.240625 10.999219 \nL 251.680625 10.999219 \n\" style=\"fill:none;stroke:#000000;stroke-linecap:square;stroke-linejoin:miter;stroke-width:0.8;\"/>\n   </g>\n   <g id=\"text_7\">\n    <!-- 40 -->\n    <defs>\n     <path d=\"M 37.796875 64.3125 \nL 12.890625 25.390625 \nL 37.796875 25.390625 \nz\nM 35.203125 72.90625 \nL 47.609375 72.90625 \nL 47.609375 25.390625 \nL 58.015625 25.390625 \nL 58.015625 17.1875 \nL 47.609375 17.1875 \nL 47.609375 0 \nL 37.796875 0 \nL 37.796875 17.1875 \nL 4.890625 17.1875 \nL 4.890625 26.703125 \nz\n\" id=\"DejaVuSans-52\"/>\n    </defs>\n    <g style=\"fill:#440154;\" transform=\"translate(82.238125 68.118594)scale(0.1 -0.1)\">\n     <use xlink:href=\"#DejaVuSans-52\"/>\n     <use x=\"63.623047\" xlink:href=\"#DejaVuSans-48\"/>\n    </g>\n   </g>\n   <g id=\"text_8\">\n    <!-- 10 -->\n    <g style=\"fill:#fde725;\" transform=\"translate(190.958125 68.118594)scale(0.1 -0.1)\">\n     <use xlink:href=\"#DejaVuSans-49\"/>\n     <use x=\"63.623047\" xlink:href=\"#DejaVuSans-48\"/>\n    </g>\n   </g>\n   <g id=\"text_9\">\n    <!-- 16 -->\n    <defs>\n     <path d=\"M 33.015625 40.375 \nQ 26.375 40.375 22.484375 35.828125 \nQ 18.609375 31.296875 18.609375 23.390625 \nQ 18.609375 15.53125 22.484375 10.953125 \nQ 26.375 6.390625 33.015625 6.390625 \nQ 39.65625 6.390625 43.53125 10.953125 \nQ 47.40625 15.53125 47.40625 23.390625 \nQ 47.40625 31.296875 43.53125 35.828125 \nQ 39.65625 40.375 33.015625 40.375 \nz\nM 52.59375 71.296875 \nL 52.59375 62.3125 \nQ 48.875 64.0625 45.09375 64.984375 \nQ 41.3125 65.921875 37.59375 65.921875 \nQ 27.828125 65.921875 22.671875 59.328125 \nQ 17.53125 52.734375 16.796875 39.40625 \nQ 19.671875 43.65625 24.015625 45.921875 \nQ 28.375 48.1875 33.59375 48.1875 \nQ 44.578125 48.1875 50.953125 41.515625 \nQ 57.328125 34.859375 57.328125 23.390625 \nQ 57.328125 12.15625 50.6875 5.359375 \nQ 44.046875 -1.421875 33.015625 -1.421875 \nQ 20.359375 -1.421875 13.671875 8.265625 \nQ 6.984375 17.96875 6.984375 36.375 \nQ 6.984375 53.65625 15.1875 63.9375 \nQ 23.390625 74.21875 37.203125 74.21875 \nQ 40.921875 74.21875 44.703125 73.484375 \nQ 48.484375 72.75 52.59375 71.296875 \nz\n\" id=\"DejaVuSans-54\"/>\n    </defs>\n    <g style=\"fill:#fde725;\" transform=\"translate(82.238125 176.838594)scale(0.1 -0.1)\">\n     <use xlink:href=\"#DejaVuSans-49\"/>\n     <use x=\"63.623047\" xlink:href=\"#DejaVuSans-54\"/>\n    </g>\n   </g>\n   <g id=\"text_10\">\n    <!-- 34 -->\n    <defs>\n     <path d=\"M 40.578125 39.3125 \nQ 47.65625 37.796875 51.625 33 \nQ 55.609375 28.21875 55.609375 21.1875 \nQ 55.609375 10.40625 48.1875 4.484375 \nQ 40.765625 -1.421875 27.09375 -1.421875 \nQ 22.515625 -1.421875 17.65625 -0.515625 \nQ 12.796875 0.390625 7.625 2.203125 \nL 7.625 11.71875 \nQ 11.71875 9.328125 16.59375 8.109375 \nQ 21.484375 6.890625 26.8125 6.890625 \nQ 36.078125 6.890625 40.9375 10.546875 \nQ 45.796875 14.203125 45.796875 21.1875 \nQ 45.796875 27.640625 41.28125 31.265625 \nQ 36.765625 34.90625 28.71875 34.90625 \nL 20.21875 34.90625 \nL 20.21875 43.015625 \nL 29.109375 43.015625 \nQ 36.375 43.015625 40.234375 45.921875 \nQ 44.09375 48.828125 44.09375 54.296875 \nQ 44.09375 59.90625 40.109375 62.90625 \nQ 36.140625 65.921875 28.71875 65.921875 \nQ 24.65625 65.921875 20.015625 65.03125 \nQ 15.375 64.15625 9.8125 62.3125 \nL 9.8125 71.09375 \nQ 15.4375 72.65625 20.34375 73.4375 \nQ 25.25 74.21875 29.59375 74.21875 \nQ 40.828125 74.21875 47.359375 69.109375 \nQ 53.90625 64.015625 53.90625 55.328125 \nQ 53.90625 49.265625 50.4375 45.09375 \nQ 46.96875 40.921875 40.578125 39.3125 \nz\n\" id=\"DejaVuSans-51\"/>\n    </defs>\n    <g style=\"fill:#440154;\" transform=\"translate(190.958125 176.838594)scale(0.1 -0.1)\">\n     <use xlink:href=\"#DejaVuSans-51\"/>\n     <use x=\"63.623047\" xlink:href=\"#DejaVuSans-52\"/>\n    </g>\n   </g>\n  </g>\n  <g id=\"axes_2\">\n   <g id=\"patch_7\">\n    <path clip-path=\"url(#pd0bf5470e3)\" d=\"M 268.420625 228.439219 \nL 268.420625 227.589844 \nL 268.420625 11.848594 \nL 268.420625 10.999219 \nL 279.292625 10.999219 \nL 279.292625 11.848594 \nL 279.292625 227.589844 \nL 279.292625 228.439219 \nz\n\" style=\"fill:#ffffff;stroke:#ffffff;stroke-linejoin:miter;stroke-width:0.01;\"/>\n   </g>\n   <image height=\"217\" id=\"imaged3249569fb\" transform=\"scale(1 -1)translate(0 -217)\" width=\"11\" x=\"268\" xlink:href=\"data:image/png;base64,\niVBORw0KGgoAAAANSUhEUgAAAAsAAADZCAYAAAD2WsoCAAAABHNCSVQICAgIfAhkiAAAAWFJREFUaIHt2kFuwzAQQ1FpJOdkPUPvf5C26bZANnoLAuMiWRPEJ2dkO07mR30+x+Fnz5qn2rHnWufiMQvEgjGmMJdgiPOgNqjnHtVZQHLOid9t/BXH2niuHgGJ2cbdA+P8SpDFEOcgc8p5iDMtv/VMGLE2bIK0G8YM4iZtBDFy1VHALqcbxOSMAVMY6By7yNyyjZjzHds41+Lzxh0n+P/HTc4txg0Q79P9Ij4/33fcjTZtBMcNzMHqKoXRpA14REq2MUYuIDjPWEDrmZhNDBjUhmGcU3DAVBurfjpgVKyNJeIcRhPnNWHc5NxEvO8YUG4T1kZ9d8AoGYodWGGmNpa1kdo6amNPCphjFmfpmZwvacNWNLYbuaE85hc4x4ZSEpCW/5KA1DNekcg5tRu0/LbPwYCpG9Bj0KVAlp9OigU81o592YEF5wVfCLe83dtLfsgowbjgfZZigDMxL/kjkGD8AgQsgWhMNMxTAAAAAElFTkSuQmCC\" y=\"-10\"/>\n   <g id=\"matplotlib.axis_3\"/>\n   <g id=\"matplotlib.axis_4\">\n    <g id=\"ytick_3\">\n     <g id=\"line2d_5\">\n      <defs>\n       <path d=\"M 0 0 \nL 3.5 0 \n\" id=\"m1b1fcf8587\" style=\"stroke:#000000;stroke-width:0.8;\"/>\n      </defs>\n      <g>\n       <use style=\"stroke:#000000;stroke-width:0.8;\" x=\"279.292625\" xlink:href=\"#m1b1fcf8587\" y=\"228.439219\"/>\n      </g>\n     </g>\n     <g id=\"text_11\">\n      <!-- 10 -->\n      <g transform=\"translate(286.292625 232.238437)scale(0.1 -0.1)\">\n       <use xlink:href=\"#DejaVuSans-49\"/>\n       <use x=\"63.623047\" xlink:href=\"#DejaVuSans-48\"/>\n      </g>\n     </g>\n    </g>\n    <g id=\"ytick_4\">\n     <g id=\"line2d_6\">\n      <g>\n       <use style=\"stroke:#000000;stroke-width:0.8;\" x=\"279.292625\" xlink:href=\"#m1b1fcf8587\" y=\"192.199219\"/>\n      </g>\n     </g>\n     <g id=\"text_12\">\n      <!-- 15 -->\n      <defs>\n       <path d=\"M 10.796875 72.90625 \nL 49.515625 72.90625 \nL 49.515625 64.59375 \nL 19.828125 64.59375 \nL 19.828125 46.734375 \nQ 21.96875 47.46875 24.109375 47.828125 \nQ 26.265625 48.1875 28.421875 48.1875 \nQ 40.625 48.1875 47.75 41.5 \nQ 54.890625 34.8125 54.890625 23.390625 \nQ 54.890625 11.625 47.5625 5.09375 \nQ 40.234375 -1.421875 26.90625 -1.421875 \nQ 22.3125 -1.421875 17.546875 -0.640625 \nQ 12.796875 0.140625 7.71875 1.703125 \nL 7.71875 11.625 \nQ 12.109375 9.234375 16.796875 8.0625 \nQ 21.484375 6.890625 26.703125 6.890625 \nQ 35.15625 6.890625 40.078125 11.328125 \nQ 45.015625 15.765625 45.015625 23.390625 \nQ 45.015625 31 40.078125 35.4375 \nQ 35.15625 39.890625 26.703125 39.890625 \nQ 22.75 39.890625 18.8125 39.015625 \nQ 14.890625 38.140625 10.796875 36.28125 \nz\n\" id=\"DejaVuSans-53\"/>\n      </defs>\n      <g transform=\"translate(286.292625 195.998437)scale(0.1 -0.1)\">\n       <use xlink:href=\"#DejaVuSans-49\"/>\n       <use x=\"63.623047\" xlink:href=\"#DejaVuSans-53\"/>\n      </g>\n     </g>\n    </g>\n    <g id=\"ytick_5\">\n     <g id=\"line2d_7\">\n      <g>\n       <use style=\"stroke:#000000;stroke-width:0.8;\" x=\"279.292625\" xlink:href=\"#m1b1fcf8587\" y=\"155.959219\"/>\n      </g>\n     </g>\n     <g id=\"text_13\">\n      <!-- 20 -->\n      <defs>\n       <path d=\"M 19.1875 8.296875 \nL 53.609375 8.296875 \nL 53.609375 0 \nL 7.328125 0 \nL 7.328125 8.296875 \nQ 12.9375 14.109375 22.625 23.890625 \nQ 32.328125 33.6875 34.8125 36.53125 \nQ 39.546875 41.84375 41.421875 45.53125 \nQ 43.3125 49.21875 43.3125 52.78125 \nQ 43.3125 58.59375 39.234375 62.25 \nQ 35.15625 65.921875 28.609375 65.921875 \nQ 23.96875 65.921875 18.8125 64.3125 \nQ 13.671875 62.703125 7.8125 59.421875 \nL 7.8125 69.390625 \nQ 13.765625 71.78125 18.9375 73 \nQ 24.125 74.21875 28.421875 74.21875 \nQ 39.75 74.21875 46.484375 68.546875 \nQ 53.21875 62.890625 53.21875 53.421875 \nQ 53.21875 48.921875 51.53125 44.890625 \nQ 49.859375 40.875 45.40625 35.40625 \nQ 44.1875 33.984375 37.640625 27.21875 \nQ 31.109375 20.453125 19.1875 8.296875 \nz\n\" id=\"DejaVuSans-50\"/>\n      </defs>\n      <g transform=\"translate(286.292625 159.758437)scale(0.1 -0.1)\">\n       <use xlink:href=\"#DejaVuSans-50\"/>\n       <use x=\"63.623047\" xlink:href=\"#DejaVuSans-48\"/>\n      </g>\n     </g>\n    </g>\n    <g id=\"ytick_6\">\n     <g id=\"line2d_8\">\n      <g>\n       <use style=\"stroke:#000000;stroke-width:0.8;\" x=\"279.292625\" xlink:href=\"#m1b1fcf8587\" y=\"119.719219\"/>\n      </g>\n     </g>\n     <g id=\"text_14\">\n      <!-- 25 -->\n      <g transform=\"translate(286.292625 123.518437)scale(0.1 -0.1)\">\n       <use xlink:href=\"#DejaVuSans-50\"/>\n       <use x=\"63.623047\" xlink:href=\"#DejaVuSans-53\"/>\n      </g>\n     </g>\n    </g>\n    <g id=\"ytick_7\">\n     <g id=\"line2d_9\">\n      <g>\n       <use style=\"stroke:#000000;stroke-width:0.8;\" x=\"279.292625\" xlink:href=\"#m1b1fcf8587\" y=\"83.479219\"/>\n      </g>\n     </g>\n     <g id=\"text_15\">\n      <!-- 30 -->\n      <g transform=\"translate(286.292625 87.278437)scale(0.1 -0.1)\">\n       <use xlink:href=\"#DejaVuSans-51\"/>\n       <use x=\"63.623047\" xlink:href=\"#DejaVuSans-48\"/>\n      </g>\n     </g>\n    </g>\n    <g id=\"ytick_8\">\n     <g id=\"line2d_10\">\n      <g>\n       <use style=\"stroke:#000000;stroke-width:0.8;\" x=\"279.292625\" xlink:href=\"#m1b1fcf8587\" y=\"47.239219\"/>\n      </g>\n     </g>\n     <g id=\"text_16\">\n      <!-- 35 -->\n      <g transform=\"translate(286.292625 51.038437)scale(0.1 -0.1)\">\n       <use xlink:href=\"#DejaVuSans-51\"/>\n       <use x=\"63.623047\" xlink:href=\"#DejaVuSans-53\"/>\n      </g>\n     </g>\n    </g>\n    <g id=\"ytick_9\">\n     <g id=\"line2d_11\">\n      <g>\n       <use style=\"stroke:#000000;stroke-width:0.8;\" x=\"279.292625\" xlink:href=\"#m1b1fcf8587\" y=\"10.999219\"/>\n      </g>\n     </g>\n     <g id=\"text_17\">\n      <!-- 40 -->\n      <g transform=\"translate(286.292625 14.798437)scale(0.1 -0.1)\">\n       <use xlink:href=\"#DejaVuSans-52\"/>\n       <use x=\"63.623047\" xlink:href=\"#DejaVuSans-48\"/>\n      </g>\n     </g>\n    </g>\n   </g>\n   <g id=\"patch_8\">\n    <path d=\"M 268.420625 228.439219 \nL 268.420625 227.589844 \nL 268.420625 11.848594 \nL 268.420625 10.999219 \nL 279.292625 10.999219 \nL 279.292625 11.848594 \nL 279.292625 227.589844 \nL 279.292625 228.439219 \nz\n\" style=\"fill:none;stroke:#000000;stroke-linejoin:miter;stroke-width:0.8;\"/>\n   </g>\n  </g>\n </g>\n <defs>\n  <clipPath id=\"p88eb4c3235\">\n   <rect height=\"217.44\" width=\"217.44\" x=\"34.240625\" y=\"10.999219\"/>\n  </clipPath>\n  <clipPath id=\"pd0bf5470e3\">\n   <rect height=\"217.44\" width=\"10.872\" x=\"268.420625\" y=\"10.999219\"/>\n  </clipPath>\n </defs>\n</svg>\n"
          },
          "metadata": {
            "tags": [],
            "needs_background": "light"
          }
        }
      ]
    },
    {
      "cell_type": "code",
      "metadata": {
        "id": "DFZAZQhmcKFh",
        "colab": {
          "base_uri": "https://localhost:8080/"
        },
        "outputId": "8bcbe2ac-38ad-436a-ff2f-d1f589f29f7e"
      },
      "source": [
        "print(\"%d manchots mâles ont été incorrectement prédits femelle.\" % metrics.confusion_matrix(y_test, y_test_pred)[1, 0])\n",
        "print(\"%d manchots femelles ont été incorrectement prédits mâles.\" % metrics.confusion_matrix(y_test, y_test_pred)[0, 1])"
      ],
      "execution_count": null,
      "outputs": [
        {
          "output_type": "stream",
          "text": [
            "16 manchots mâles ont été incorrectement prédits femelle.\n",
            "10 manchots femelles ont été incorrectement prédits mâles.\n"
          ],
          "name": "stdout"
        }
      ]
    },
    {
      "cell_type": "code",
      "metadata": {
        "id": "8jJvNBrccKFi",
        "colab": {
          "base_uri": "https://localhost:8080/"
        },
        "outputId": "ae31eded-edcb-45c0-f18d-b88358111397"
      },
      "source": [
        "print(\"%.f%% des prédictions du modèle sur le jeu de test sont correctes.\" % (100*metrics.accuracy_score(y_test, y_test_pred)))"
      ],
      "execution_count": null,
      "outputs": [
        {
          "output_type": "stream",
          "text": [
            "74% des prédictions du modèle sur le jeu de test sont correctes.\n"
          ],
          "name": "stdout"
        }
      ]
    },
    {
      "cell_type": "markdown",
      "metadata": {
        "id": "Uhk7PrvRcKFi"
      },
      "source": [
        "Nous obtenons un bien meilleur modèle avec un preprocessing des données, qui permet, comme nous l'avons vu, d'éviter les problèmes de convergences que peut rencontrer la méthode de descente de gradient."
      ]
    }
  ]
}