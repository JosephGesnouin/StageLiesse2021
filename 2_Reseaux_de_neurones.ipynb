{
  "nbformat": 4,
  "nbformat_minor": 0,
  "metadata": {
    "kernelspec": {
      "display_name": "Python 3",
      "language": "python",
      "name": "python3"
    },
    "language_info": {
      "codemirror_mode": {
        "name": "ipython",
        "version": 3
      },
      "file_extension": ".py",
      "mimetype": "text/x-python",
      "name": "python",
      "nbconvert_exporter": "python",
      "pygments_lexer": "ipython3",
      "version": "3.8.8"
    },
    "colab": {
      "name": "2-Reseaux_de_neurones.ipynb",
      "provenance": [],
      "collapsed_sections": [],
      "include_colab_link": true
    }
  },
  "cells": [
    {
      "cell_type": "markdown",
      "metadata": {
        "id": "view-in-github",
        "colab_type": "text"
      },
      "source": [
        "<a href=\"https://colab.research.google.com/github/JosephGesnouin/StageLiesse2021/blob/main/2_Reseaux_de_neurones.ipynb\" target=\"_parent\"><img src=\"https://colab.research.google.com/assets/colab-badge.svg\" alt=\"Open In Colab\"/></a>"
      ]
    },
    {
      "cell_type": "markdown",
      "metadata": {
        "id": "SQdGHD7HcrBk"
      },
      "source": [
        "# Stage LIESSE – TP 2 – Réseaux de neurones "
      ]
    },
    {
      "cell_type": "markdown",
      "metadata": {
        "id": "-Rl4pjfOcrBp"
      },
      "source": [
        "Le but de ce notebook est de présenter les réseaux de neurones multi-couches à propagation avant, aussi appelés perceptrons multi-couches, ou _MLP_ pour _multi-layer perceptrons_."
      ]
    },
    {
      "cell_type": "markdown",
      "metadata": {
        "id": "DIHoU4RicrBq"
      },
      "source": [
        "## Chargement des librairies"
      ]
    },
    {
      "cell_type": "code",
      "metadata": {
        "colab": {
          "base_uri": "https://localhost:8080/"
        },
        "id": "w1MkW8LNcrBq",
        "outputId": "078a2119-05e5-49be-9bcd-4a6de37787b7"
      },
      "source": [
        "%pylab inline "
      ],
      "execution_count": null,
      "outputs": [
        {
          "output_type": "stream",
          "text": [
            "Populating the interactive namespace from numpy and matplotlib\n"
          ],
          "name": "stdout"
        }
      ]
    },
    {
      "cell_type": "code",
      "metadata": {
        "id": "p_Ws3IJKcrBq"
      },
      "source": [
        "from IPython.display import set_matplotlib_formats\n",
        "set_matplotlib_formats('svg')"
      ],
      "execution_count": null,
      "outputs": []
    },
    {
      "cell_type": "code",
      "metadata": {
        "id": "GmqxdDWQcrBr"
      },
      "source": [
        "import pandas as pd"
      ],
      "execution_count": null,
      "outputs": []
    },
    {
      "cell_type": "code",
      "metadata": {
        "id": "9NTLxi_bcrBr"
      },
      "source": [
        "import sklearn"
      ],
      "execution_count": null,
      "outputs": []
    },
    {
      "cell_type": "markdown",
      "metadata": {
        "id": "pJS3JWE1crBr"
      },
      "source": [
        "## 1. Réseaux de neurones pour la régression "
      ]
    },
    {
      "cell_type": "markdown",
      "metadata": {
        "id": "9cD4mwXhcrBr"
      },
      "source": [
        "Reprenons le Problème 1 défini dans le notebook `0-Donnees.ipynb`. Peut-on améliorer la performance de la régression linéaire en utilisant un modèle non linéaire ?"
      ]
    },
    {
      "cell_type": "markdown",
      "metadata": {
        "id": "R79v-_x6crBs"
      },
      "source": [
        "### Chargement des données"
      ]
    },
    {
      "cell_type": "code",
      "metadata": {
        "colab": {
          "base_uri": "https://localhost:8080/"
        },
        "id": "U-FucRrscrBs",
        "outputId": "033f309a-2d29-4cd0-b348-61d2f824d109"
      },
      "source": [
        "import pandas as pd\n",
        "!wget https://raw.githubusercontent.com/chagaz/ml-notebooks/master/liesse/data/penguins.csv\n",
        "\n",
        "penguins = pd.read_csv(\"/content/penguins.csv\")"
      ],
      "execution_count": null,
      "outputs": [
        {
          "output_type": "stream",
          "text": [
            "--2021-04-29 07:13:26--  https://raw.githubusercontent.com/chagaz/ml-notebooks/master/liesse/data/penguins.csv\n",
            "Resolving raw.githubusercontent.com (raw.githubusercontent.com)... 185.199.108.133, 185.199.109.133, 185.199.110.133, ...\n",
            "Connecting to raw.githubusercontent.com (raw.githubusercontent.com)|185.199.108.133|:443... connected.\n",
            "HTTP request sent, awaiting response... 200 OK\n",
            "Length: 16286 (16K) [text/plain]\n",
            "Saving to: ‘penguins.csv.1’\n",
            "\n",
            "penguins.csv.1      100%[===================>]  15.90K  --.-KB/s    in 0s      \n",
            "\n",
            "2021-04-29 07:13:26 (35.0 MB/s) - ‘penguins.csv.1’ saved [16286/16286]\n",
            "\n"
          ],
          "name": "stdout"
        }
      ]
    },
    {
      "cell_type": "code",
      "metadata": {
        "id": "oqcSD-wbcrBs"
      },
      "source": [
        "X = penguins[[\"bill_length_mm\", \"bill_depth_mm\", \"flipper_length_mm\"]].to_numpy()\n",
        "y_regress = penguins[\"body_mass_g\"]"
      ],
      "execution_count": null,
      "outputs": []
    },
    {
      "cell_type": "markdown",
      "metadata": {
        "id": "mFJ1lh0scrBs"
      },
      "source": [
        "### Séparation des données en jeu d'entraînement et jeu de test"
      ]
    },
    {
      "cell_type": "code",
      "metadata": {
        "id": "HkHI26MZcrBt"
      },
      "source": [
        "from sklearn import model_selection"
      ],
      "execution_count": null,
      "outputs": []
    },
    {
      "cell_type": "code",
      "metadata": {
        "id": "1Qhu1PQpcrBt"
      },
      "source": [
        "(X_train, X_test, y_train, y_test) = model_selection.train_test_split(X, y_regress, test_size=0.3, random_state=25)"
      ],
      "execution_count": null,
      "outputs": []
    },
    {
      "cell_type": "markdown",
      "metadata": {
        "id": "uknEOI29crBt"
      },
      "source": [
        "### Formalisme"
      ]
    },
    {
      "cell_type": "markdown",
      "metadata": {
        "id": "9BkBj8lJcrBt"
      },
      "source": [
        "Nous disposons toujours d'un jeu d'entraînement de $n$ observations en $p$ dimensions, représentés par une matrice $X \\in \\mathbb{R}^{nxp}$ (ici, $p=3$), et d'un vecteur d'étiquettes $\\boldsymbol{y} \\in \\mathbb{R}^{n}$. \n",
        "\n",
        "Un réseau de neurones multi-couches permet d'apprendre un modèle différent de celui de la régression linéaire. Là où nous avions précédemment un modèle de la forme \n",
        "$f: \\boldsymbol{x} \\in \\mathbb{R}^p \\mapsto \\beta_0 + \\boldsymbol{\\beta}^\\top \\boldsymbol{x},$\n",
        "avec $\\beta_0 \\in \\mathbb{R}$ et $\\boldsymbol\\beta \\in \\mathbb{R}^p$,\n",
        "la forme du modèle est maintenant donnée par l'architecture du réseau.\n",
        "\n",
        "Si nous utilisons une __couche intermédiaire__ contenant $m$ neurones, le modèle devient \n",
        "$f: \\boldsymbol{x} \\in \\mathbb{R}^p \\mapsto \\beta_0^1 + \\sum_{k=1}^m \\beta_k^1 a \\left( \\beta^0_{0k} + \\boldsymbol{\\beta}_k^{0\\top} \\boldsymbol{x} \\right),$\n",
        "\n",
        "avec :\n",
        " * $a$ une __fonction d'activation__ non-linéaire, par exemple logistique ou ReLU ;\n",
        " * $\\beta_0^1 \\in \\mathbb{R}$ le biais de la couche intermédiaire et $\\boldsymbol\\beta^1 \\in \\mathbb{R}^m$ les coefficients de la couche intermédiaire vers le neurone de sortie ;\n",
        " * pour $k=1, \\dots, m$, $\\beta_0^{0k} \\in \\mathbb{R}$ le biais du $k$-ème neurone de la couche intermédiaire et $\\boldsymbol\\beta_k^0 \\in \\mathbb{R}^p$ les coefficients de la couche d'entrée vers le  $k$-ème neurone de la couche intermédiaire. \n",
        "\n",
        "Il s'agit par contre toujours de __minimiser le risque empirique__, qui est toujours calculé avec l'__erreur quadratique__ $(y, f(\\boldsymbol{x})) \\mapsto \\left(y - f(\\boldsymbol{x}) \\right)^2 $ comme fonction de perte. \n",
        "\n",
        "Attention, ce problème d'optimisation n'est en général pas convexe. On risque d'obtenir un minimum local."
      ]
    },
    {
      "cell_type": "markdown",
      "metadata": {
        "id": "haNP6Gx9crBu"
      },
      "source": [
        "### Entraînement d'un réseau de neurones avec scikit-learn"
      ]
    },
    {
      "cell_type": "markdown",
      "metadata": {
        "id": "Iu0WUOOtcrBu"
      },
      "source": [
        "Nous allons utiliser un réseau de neurones avec une seule couche intermédiaire contenant $m=10$ neurones.\n",
        "\n",
        "Là où il s'agissait, pour une régression linéaire, d'apprendre $p+1=4$ paramètres, nous avons maintenant $m \\times (p+1) + (m+1) = 51$ paramètres à apprendre."
      ]
    },
    {
      "cell_type": "markdown",
      "metadata": {
        "id": "411s9SK3crBu"
      },
      "source": [
        "Les réseaux de neurones sont implémentés dans [le module `neural_network`](https://scikit-learn.org/dev/modules/classes.html?highlight=neural_network#module-sklearn.neural_network) de `scikit-learn`. Pour la régression, nous utilisons [la classe `MLPRegressor`](https://scikit-learn.org/dev/modules/generated/sklearn.neural_network.MLPRegressor.html#sklearn.neural_network.MLPRegressor). "
      ]
    },
    {
      "cell_type": "code",
      "metadata": {
        "id": "7XwH06IacrBu"
      },
      "source": [
        "from sklearn import neural_network"
      ],
      "execution_count": null,
      "outputs": []
    },
    {
      "cell_type": "markdown",
      "metadata": {
        "id": "5ss-gN2icrBv"
      },
      "source": [
        "Nous suivons exactement les étapes habituelles :"
      ]
    },
    {
      "cell_type": "markdown",
      "metadata": {
        "id": "iMkjfsXtcrBv"
      },
      "source": [
        "1. Instancions un objet de la classe de modèle qui nous intéresse, ici `MLPRegressor`.\n",
        "\n",
        "Comme le nombre d'observation est faible (seulement quelques centaines), nous utilisons le solveur LBFGS qui, selon la documentation, est plus approprié. Pour faciliter la convergence, nous augmentons aussi le nombre d'itérations en le fixant à 1000. Nous conservons par ailleurs les paramètres par défaut ; en particulier, nous utilisons une fonction d'activation ReLU.\n",
        "\n",
        "ReLU signifie _Rectified Linear Unit_ et retourne simplement la partie postive du nombre qu'on lui passe."
      ]
    },
    {
      "cell_type": "code",
      "metadata": {
        "id": "P0l3w22YcrBv"
      },
      "source": [
        "mlpreg = neural_network.MLPRegressor(hidden_layer_sizes=10, solver='lbfgs', max_iter=1000, random_state=47)"
      ],
      "execution_count": null,
      "outputs": []
    },
    {
      "cell_type": "markdown",
      "metadata": {
        "id": "gS1zo7YJcrBv"
      },
      "source": [
        "2. Entraînons cet objet sur les données d'entraînement avec la méthode `fit` :"
      ]
    },
    {
      "cell_type": "code",
      "metadata": {
        "colab": {
          "base_uri": "https://localhost:8080/"
        },
        "id": "Esbw19fFcrBv",
        "outputId": "e525c03e-84a1-4497-83fd-07a278816025"
      },
      "source": [
        "mlpreg.fit(X_train, y_train)"
      ],
      "execution_count": null,
      "outputs": [
        {
          "output_type": "execute_result",
          "data": {
            "text/plain": [
              "MLPRegressor(activation='relu', alpha=0.0001, batch_size='auto', beta_1=0.9,\n",
              "             beta_2=0.999, early_stopping=False, epsilon=1e-08,\n",
              "             hidden_layer_sizes=10, learning_rate='constant',\n",
              "             learning_rate_init=0.001, max_fun=15000, max_iter=1000,\n",
              "             momentum=0.9, n_iter_no_change=10, nesterovs_momentum=True,\n",
              "             power_t=0.5, random_state=47, shuffle=True, solver='lbfgs',\n",
              "             tol=0.0001, validation_fraction=0.1, verbose=False,\n",
              "             warm_start=False)"
            ]
          },
          "metadata": {
            "tags": []
          },
          "execution_count": 39
        }
      ]
    },
    {
      "cell_type": "markdown",
      "metadata": {
        "id": "YhxQd1gOcrBv"
      },
      "source": [
        "Il se peut ici que vous receviez un message d'erreur car le solveur ne converge pas. Vous pouvez relancer plusieurs fois l'appel à `fit` (la convergence dépendant de l'initialisation, qui est aléatoire). Si cela ne suffit pas, augmentez le nombre d'itérations en augmentant la valeur du paramètre `max_iter` ou relâchez la tolérance en augmentant la valeur du paramètre `tol`."
      ]
    },
    {
      "cell_type": "markdown",
      "metadata": {
        "id": "GJjqtLHEcrBw"
      },
      "source": [
        "3. Enfin, prédisons les étiquettes des données du jeu de test en utilisant la méthode `predict` :"
      ]
    },
    {
      "cell_type": "code",
      "metadata": {
        "id": "U6tAwSkNcrBw"
      },
      "source": [
        "y_test_pred = mlpreg.predict(X_test)"
      ],
      "execution_count": null,
      "outputs": []
    },
    {
      "cell_type": "markdown",
      "metadata": {
        "id": "OE2DEorscrBw"
      },
      "source": [
        "### Performance du modèle"
      ]
    },
    {
      "cell_type": "markdown",
      "metadata": {
        "id": "KtjeQn4RcrBw"
      },
      "source": [
        "On peut maintenant s'intéresser à la qualité du modèle. Commençons par visualiser la corrélation entre les valeurs réelles et les valeurs prédites :"
      ]
    },
    {
      "cell_type": "code",
      "metadata": {
        "colab": {
          "base_uri": "https://localhost:8080/",
          "height": 388
        },
        "id": "T5mpgo3UcrBx",
        "outputId": "86173f5f-8b8d-43bf-b07b-bdccafe945d3"
      },
      "source": [
        "plt.scatter(y_test, y_test_pred)\n",
        "\n",
        "plt.xlabel(\"Poids réel (g)\")\n",
        "plt.ylabel(\"Poids prédit (g)\")"
      ],
      "execution_count": null,
      "outputs": [
        {
          "output_type": "execute_result",
          "data": {
            "text/plain": [
              "Text(0, 0.5, 'Poids prédit (g)')"
            ]
          },
          "metadata": {
            "tags": []
          },
          "execution_count": 41
        },
        {
          "output_type": "display_data",
          "data": {
            "text/plain": [
              "<Figure size 432x288 with 1 Axes>"
            ],
            "image/svg+xml": "<?xml version=\"1.0\" encoding=\"utf-8\" standalone=\"no\"?>\n<!DOCTYPE svg PUBLIC \"-//W3C//DTD SVG 1.1//EN\"\n  \"http://www.w3.org/Graphics/SVG/1.1/DTD/svg11.dtd\">\n<!-- Created with matplotlib (https://matplotlib.org/) -->\n<svg height=\"262.59625pt\" version=\"1.1\" viewBox=\"0 0 398.144034 262.59625\" width=\"398.144034pt\" xmlns=\"http://www.w3.org/2000/svg\" xmlns:xlink=\"http://www.w3.org/1999/xlink\">\n <defs>\n  <style type=\"text/css\">\n*{stroke-linecap:butt;stroke-linejoin:round;}\n  </style>\n </defs>\n <g id=\"figure_1\">\n  <g id=\"patch_1\">\n   <path d=\"M 0 262.59625 \nL 398.144034 262.59625 \nL 398.144034 0 \nL 0 0 \nz\n\" style=\"fill:none;\"/>\n  </g>\n  <g id=\"axes_1\">\n   <g id=\"patch_2\">\n    <path d=\"M 53.728125 224.64 \nL 388.528125 224.64 \nL 388.528125 7.2 \nL 53.728125 7.2 \nz\n\" style=\"fill:#ffffff;\"/>\n   </g>\n   <g id=\"PathCollection_1\">\n    <defs>\n     <path d=\"M 0 3 \nC 0.795609 3 1.55874 2.683901 2.12132 2.12132 \nC 2.683901 1.55874 3 0.795609 3 0 \nC 3 -0.795609 2.683901 -1.55874 2.12132 -2.12132 \nC 1.55874 -2.683901 0.795609 -3 0 -3 \nC -0.795609 -3 -1.55874 -2.683901 -2.12132 -2.12132 \nC -2.683901 -1.55874 -3 -0.795609 -3 0 \nC -3 0.795609 -2.683901 1.55874 -2.12132 2.12132 \nC -1.55874 2.683901 -0.795609 3 0 3 \nz\n\" id=\"m6c78276c57\" style=\"stroke:#1f77b4;\"/>\n    </defs>\n    <g clip-path=\"url(#pb651329758)\">\n     <use style=\"fill:#1f77b4;stroke:#1f77b4;\" x=\"248.128125\" xlink:href=\"#m6c78276c57\" y=\"168.843281\"/>\n     <use style=\"fill:#1f77b4;stroke:#1f77b4;\" x=\"343.855398\" xlink:href=\"#m6c78276c57\" y=\"60.204866\"/>\n     <use style=\"fill:#1f77b4;stroke:#1f77b4;\" x=\"118.037216\" xlink:href=\"#m6c78276c57\" y=\"210.892809\"/>\n     <use style=\"fill:#1f77b4;stroke:#1f77b4;\" x=\"115.58267\" xlink:href=\"#m6c78276c57\" y=\"194.143064\"/>\n     <use style=\"fill:#1f77b4;stroke:#1f77b4;\" x=\"240.764489\" xlink:href=\"#m6c78276c57\" y=\"164.617324\"/>\n     <use style=\"fill:#1f77b4;stroke:#1f77b4;\" x=\"338.946307\" xlink:href=\"#m6c78276c57\" y=\"28.133916\"/>\n     <use style=\"fill:#1f77b4;stroke:#1f77b4;\" x=\"98.400852\" xlink:href=\"#m6c78276c57\" y=\"205.856876\"/>\n     <use style=\"fill:#1f77b4;stroke:#1f77b4;\" x=\"284.946307\" xlink:href=\"#m6c78276c57\" y=\"137.434791\"/>\n     <use style=\"fill:#1f77b4;stroke:#1f77b4;\" x=\"108.219034\" xlink:href=\"#m6c78276c57\" y=\"207.193961\"/>\n     <use style=\"fill:#1f77b4;stroke:#1f77b4;\" x=\"255.491761\" xlink:href=\"#m6c78276c57\" y=\"88.088068\"/>\n     <use style=\"fill:#1f77b4;stroke:#1f77b4;\" x=\"260.400852\" xlink:href=\"#m6c78276c57\" y=\"125.596292\"/>\n     <use style=\"fill:#1f77b4;stroke:#1f77b4;\" x=\"137.67358\" xlink:href=\"#m6c78276c57\" y=\"179.67964\"/>\n     <use style=\"fill:#1f77b4;stroke:#1f77b4;\" x=\"275.128125\" xlink:href=\"#m6c78276c57\" y=\"86.125301\"/>\n     <use style=\"fill:#1f77b4;stroke:#1f77b4;\" x=\"152.400852\" xlink:href=\"#m6c78276c57\" y=\"199.079898\"/>\n     <use style=\"fill:#1f77b4;stroke:#1f77b4;\" x=\"221.128125\" xlink:href=\"#m6c78276c57\" y=\"128.963128\"/>\n     <use style=\"fill:#1f77b4;stroke:#1f77b4;\" x=\"211.309943\" xlink:href=\"#m6c78276c57\" y=\"130.174483\"/>\n     <use style=\"fill:#1f77b4;stroke:#1f77b4;\" x=\"73.855398\" xlink:href=\"#m6c78276c57\" y=\"211.963245\"/>\n     <use style=\"fill:#1f77b4;stroke:#1f77b4;\" x=\"250.58267\" xlink:href=\"#m6c78276c57\" y=\"136.277282\"/>\n     <use style=\"fill:#1f77b4;stroke:#1f77b4;\" x=\"108.219034\" xlink:href=\"#m6c78276c57\" y=\"186.886314\"/>\n     <use style=\"fill:#1f77b4;stroke:#1f77b4;\" x=\"122.946307\" xlink:href=\"#m6c78276c57\" y=\"192.832887\"/>\n     <use style=\"fill:#1f77b4;stroke:#1f77b4;\" x=\"363.491761\" xlink:href=\"#m6c78276c57\" y=\"88.344907\"/>\n     <use style=\"fill:#1f77b4;stroke:#1f77b4;\" x=\"176.946307\" xlink:href=\"#m6c78276c57\" y=\"197.55719\"/>\n     <use style=\"fill:#1f77b4;stroke:#1f77b4;\" x=\"186.764489\" xlink:href=\"#m6c78276c57\" y=\"160.7519\"/>\n     <use style=\"fill:#1f77b4;stroke:#1f77b4;\" x=\"142.58267\" xlink:href=\"#m6c78276c57\" y=\"210.269445\"/>\n     <use style=\"fill:#1f77b4;stroke:#1f77b4;\" x=\"186.764489\" xlink:href=\"#m6c78276c57\" y=\"155.167243\"/>\n     <use style=\"fill:#1f77b4;stroke:#1f77b4;\" x=\"265.309943\" xlink:href=\"#m6c78276c57\" y=\"110.748584\"/>\n     <use style=\"fill:#1f77b4;stroke:#1f77b4;\" x=\"309.491761\" xlink:href=\"#m6c78276c57\" y=\"76.964194\"/>\n     <use style=\"fill:#1f77b4;stroke:#1f77b4;\" x=\"115.58267\" xlink:href=\"#m6c78276c57\" y=\"186.938759\"/>\n     <use style=\"fill:#1f77b4;stroke:#1f77b4;\" x=\"176.946307\" xlink:href=\"#m6c78276c57\" y=\"146.048199\"/>\n     <use style=\"fill:#1f77b4;stroke:#1f77b4;\" x=\"245.67358\" xlink:href=\"#m6c78276c57\" y=\"102.586921\"/>\n     <use style=\"fill:#1f77b4;stroke:#1f77b4;\" x=\"334.037216\" xlink:href=\"#m6c78276c57\" y=\"64.547316\"/>\n     <use style=\"fill:#1f77b4;stroke:#1f77b4;\" x=\"334.037216\" xlink:href=\"#m6c78276c57\" y=\"55.140278\"/>\n     <use style=\"fill:#1f77b4;stroke:#1f77b4;\" x=\"211.309943\" xlink:href=\"#m6c78276c57\" y=\"146.540012\"/>\n     <use style=\"fill:#1f77b4;stroke:#1f77b4;\" x=\"83.67358\" xlink:href=\"#m6c78276c57\" y=\"211.486712\"/>\n     <use style=\"fill:#1f77b4;stroke:#1f77b4;\" x=\"137.67358\" xlink:href=\"#m6c78276c57\" y=\"172.133455\"/>\n     <use style=\"fill:#1f77b4;stroke:#1f77b4;\" x=\"240.764489\" xlink:href=\"#m6c78276c57\" y=\"114.187002\"/>\n     <use style=\"fill:#1f77b4;stroke:#1f77b4;\" x=\"132.764489\" xlink:href=\"#m6c78276c57\" y=\"170.72909\"/>\n     <use style=\"fill:#1f77b4;stroke:#1f77b4;\" x=\"221.128125\" xlink:href=\"#m6c78276c57\" y=\"148.712807\"/>\n     <use style=\"fill:#1f77b4;stroke:#1f77b4;\" x=\"255.491761\" xlink:href=\"#m6c78276c57\" y=\"99.798462\"/>\n     <use style=\"fill:#1f77b4;stroke:#1f77b4;\" x=\"176.946307\" xlink:href=\"#m6c78276c57\" y=\"169.969703\"/>\n     <use style=\"fill:#1f77b4;stroke:#1f77b4;\" x=\"319.309943\" xlink:href=\"#m6c78276c57\" y=\"81.50218\"/>\n     <use style=\"fill:#1f77b4;stroke:#1f77b4;\" x=\"159.764489\" xlink:href=\"#m6c78276c57\" y=\"154.168997\"/>\n     <use style=\"fill:#1f77b4;stroke:#1f77b4;\" x=\"250.58267\" xlink:href=\"#m6c78276c57\" y=\"190.279509\"/>\n     <use style=\"fill:#1f77b4;stroke:#1f77b4;\" x=\"230.946307\" xlink:href=\"#m6c78276c57\" y=\"153.554374\"/>\n     <use style=\"fill:#1f77b4;stroke:#1f77b4;\" x=\"73.855398\" xlink:href=\"#m6c78276c57\" y=\"195.703395\"/>\n     <use style=\"fill:#1f77b4;stroke:#1f77b4;\" x=\"172.037216\" xlink:href=\"#m6c78276c57\" y=\"205.621071\"/>\n     <use style=\"fill:#1f77b4;stroke:#1f77b4;\" x=\"132.764489\" xlink:href=\"#m6c78276c57\" y=\"195.329504\"/>\n     <use style=\"fill:#1f77b4;stroke:#1f77b4;\" x=\"147.491761\" xlink:href=\"#m6c78276c57\" y=\"163.016237\"/>\n     <use style=\"fill:#1f77b4;stroke:#1f77b4;\" x=\"100.855398\" xlink:href=\"#m6c78276c57\" y=\"214.756364\"/>\n     <use style=\"fill:#1f77b4;stroke:#1f77b4;\" x=\"329.128125\" xlink:href=\"#m6c78276c57\" y=\"29.716484\"/>\n     <use style=\"fill:#1f77b4;stroke:#1f77b4;\" x=\"162.219034\" xlink:href=\"#m6c78276c57\" y=\"213.514151\"/>\n     <use style=\"fill:#1f77b4;stroke:#1f77b4;\" x=\"152.400852\" xlink:href=\"#m6c78276c57\" y=\"193.264439\"/>\n     <use style=\"fill:#1f77b4;stroke:#1f77b4;\" x=\"122.946307\" xlink:href=\"#m6c78276c57\" y=\"199.739503\"/>\n     <use style=\"fill:#1f77b4;stroke:#1f77b4;\" x=\"172.037216\" xlink:href=\"#m6c78276c57\" y=\"175.476497\"/>\n     <use style=\"fill:#1f77b4;stroke:#1f77b4;\" x=\"277.58267\" xlink:href=\"#m6c78276c57\" y=\"102.254473\"/>\n     <use style=\"fill:#1f77b4;stroke:#1f77b4;\" x=\"211.309943\" xlink:href=\"#m6c78276c57\" y=\"184.739057\"/>\n     <use style=\"fill:#1f77b4;stroke:#1f77b4;\" x=\"68.946307\" xlink:href=\"#m6c78276c57\" y=\"210.39133\"/>\n     <use style=\"fill:#1f77b4;stroke:#1f77b4;\" x=\"211.309943\" xlink:href=\"#m6c78276c57\" y=\"183.52699\"/>\n     <use style=\"fill:#1f77b4;stroke:#1f77b4;\" x=\"353.67358\" xlink:href=\"#m6c78276c57\" y=\"63.840834\"/>\n     <use style=\"fill:#1f77b4;stroke:#1f77b4;\" x=\"260.400852\" xlink:href=\"#m6c78276c57\" y=\"134.942745\"/>\n     <use style=\"fill:#1f77b4;stroke:#1f77b4;\" x=\"334.037216\" xlink:href=\"#m6c78276c57\" y=\"31.417632\"/>\n     <use style=\"fill:#1f77b4;stroke:#1f77b4;\" x=\"253.037216\" xlink:href=\"#m6c78276c57\" y=\"109.734868\"/>\n     <use style=\"fill:#1f77b4;stroke:#1f77b4;\" x=\"181.855398\" xlink:href=\"#m6c78276c57\" y=\"174.263231\"/>\n     <use style=\"fill:#1f77b4;stroke:#1f77b4;\" x=\"304.58267\" xlink:href=\"#m6c78276c57\" y=\"103.1442\"/>\n     <use style=\"fill:#1f77b4;stroke:#1f77b4;\" x=\"206.400852\" xlink:href=\"#m6c78276c57\" y=\"190.599985\"/>\n     <use style=\"fill:#1f77b4;stroke:#1f77b4;\" x=\"115.58267\" xlink:href=\"#m6c78276c57\" y=\"195.673737\"/>\n     <use style=\"fill:#1f77b4;stroke:#1f77b4;\" x=\"216.219034\" xlink:href=\"#m6c78276c57\" y=\"180.22768\"/>\n     <use style=\"fill:#1f77b4;stroke:#1f77b4;\" x=\"334.037216\" xlink:href=\"#m6c78276c57\" y=\"53.366919\"/>\n     <use style=\"fill:#1f77b4;stroke:#1f77b4;\" x=\"240.764489\" xlink:href=\"#m6c78276c57\" y=\"183.673333\"/>\n     <use style=\"fill:#1f77b4;stroke:#1f77b4;\" x=\"98.400852\" xlink:href=\"#m6c78276c57\" y=\"206.609602\"/>\n     <use style=\"fill:#1f77b4;stroke:#1f77b4;\" x=\"157.309943\" xlink:href=\"#m6c78276c57\" y=\"191.95563\"/>\n     <use style=\"fill:#1f77b4;stroke:#1f77b4;\" x=\"132.764489\" xlink:href=\"#m6c78276c57\" y=\"184.030536\"/>\n     <use style=\"fill:#1f77b4;stroke:#1f77b4;\" x=\"294.764489\" xlink:href=\"#m6c78276c57\" y=\"71.72862\"/>\n     <use style=\"fill:#1f77b4;stroke:#1f77b4;\" x=\"304.58267\" xlink:href=\"#m6c78276c57\" y=\"53.07534\"/>\n     <use style=\"fill:#1f77b4;stroke:#1f77b4;\" x=\"169.58267\" xlink:href=\"#m6c78276c57\" y=\"173.288351\"/>\n     <use style=\"fill:#1f77b4;stroke:#1f77b4;\" x=\"373.309943\" xlink:href=\"#m6c78276c57\" y=\"79.219888\"/>\n     <use style=\"fill:#1f77b4;stroke:#1f77b4;\" x=\"137.67358\" xlink:href=\"#m6c78276c57\" y=\"195.250228\"/>\n     <use style=\"fill:#1f77b4;stroke:#1f77b4;\" x=\"304.58267\" xlink:href=\"#m6c78276c57\" y=\"71.377751\"/>\n     <use style=\"fill:#1f77b4;stroke:#1f77b4;\" x=\"226.037216\" xlink:href=\"#m6c78276c57\" y=\"139.076649\"/>\n     <use style=\"fill:#1f77b4;stroke:#1f77b4;\" x=\"132.764489\" xlink:href=\"#m6c78276c57\" y=\"163.306159\"/>\n     <use style=\"fill:#1f77b4;stroke:#1f77b4;\" x=\"221.128125\" xlink:href=\"#m6c78276c57\" y=\"102.984787\"/>\n     <use style=\"fill:#1f77b4;stroke:#1f77b4;\" x=\"314.400852\" xlink:href=\"#m6c78276c57\" y=\"128.193329\"/>\n     <use style=\"fill:#1f77b4;stroke:#1f77b4;\" x=\"221.128125\" xlink:href=\"#m6c78276c57\" y=\"107.78301\"/>\n     <use style=\"fill:#1f77b4;stroke:#1f77b4;\" x=\"132.764489\" xlink:href=\"#m6c78276c57\" y=\"187.413134\"/>\n     <use style=\"fill:#1f77b4;stroke:#1f77b4;\" x=\"243.219034\" xlink:href=\"#m6c78276c57\" y=\"103.980835\"/>\n     <use style=\"fill:#1f77b4;stroke:#1f77b4;\" x=\"162.219034\" xlink:href=\"#m6c78276c57\" y=\"164.629267\"/>\n     <use style=\"fill:#1f77b4;stroke:#1f77b4;\" x=\"162.219034\" xlink:href=\"#m6c78276c57\" y=\"204.321004\"/>\n     <use style=\"fill:#1f77b4;stroke:#1f77b4;\" x=\"162.219034\" xlink:href=\"#m6c78276c57\" y=\"172.126386\"/>\n     <use style=\"fill:#1f77b4;stroke:#1f77b4;\" x=\"93.491761\" xlink:href=\"#m6c78276c57\" y=\"192.071828\"/>\n     <use style=\"fill:#1f77b4;stroke:#1f77b4;\" x=\"181.855398\" xlink:href=\"#m6c78276c57\" y=\"145.61962\"/>\n     <use style=\"fill:#1f77b4;stroke:#1f77b4;\" x=\"272.67358\" xlink:href=\"#m6c78276c57\" y=\"97.340438\"/>\n     <use style=\"fill:#1f77b4;stroke:#1f77b4;\" x=\"127.855398\" xlink:href=\"#m6c78276c57\" y=\"189.895689\"/>\n     <use style=\"fill:#1f77b4;stroke:#1f77b4;\" x=\"240.764489\" xlink:href=\"#m6c78276c57\" y=\"95.733285\"/>\n     <use style=\"fill:#1f77b4;stroke:#1f77b4;\" x=\"132.764489\" xlink:href=\"#m6c78276c57\" y=\"190.967798\"/>\n     <use style=\"fill:#1f77b4;stroke:#1f77b4;\" x=\"176.946307\" xlink:href=\"#m6c78276c57\" y=\"193.780662\"/>\n     <use style=\"fill:#1f77b4;stroke:#1f77b4;\" x=\"206.400852\" xlink:href=\"#m6c78276c57\" y=\"181.081162\"/>\n     <use style=\"fill:#1f77b4;stroke:#1f77b4;\" x=\"363.491761\" xlink:href=\"#m6c78276c57\" y=\"17.083636\"/>\n     <use style=\"fill:#1f77b4;stroke:#1f77b4;\" x=\"196.58267\" xlink:href=\"#m6c78276c57\" y=\"154.644557\"/>\n     <use style=\"fill:#1f77b4;stroke:#1f77b4;\" x=\"118.037216\" xlink:href=\"#m6c78276c57\" y=\"208.344144\"/>\n     <use style=\"fill:#1f77b4;stroke:#1f77b4;\" x=\"348.764489\" xlink:href=\"#m6c78276c57\" y=\"79.424984\"/>\n    </g>\n   </g>\n   <g id=\"matplotlib.axis_1\">\n    <g id=\"xtick_1\">\n     <g id=\"line2d_1\">\n      <defs>\n       <path d=\"M 0 0 \nL 0 3.5 \n\" id=\"mc2675ebb15\" style=\"stroke:#000000;stroke-width:0.8;\"/>\n      </defs>\n      <g>\n       <use style=\"stroke:#000000;stroke-width:0.8;\" x=\"83.67358\" xlink:href=\"#mc2675ebb15\" y=\"224.64\"/>\n      </g>\n     </g>\n     <g id=\"text_1\">\n      <!-- 3000 -->\n      <defs>\n       <path d=\"M 40.578125 39.3125 \nQ 47.65625 37.796875 51.625 33 \nQ 55.609375 28.21875 55.609375 21.1875 \nQ 55.609375 10.40625 48.1875 4.484375 \nQ 40.765625 -1.421875 27.09375 -1.421875 \nQ 22.515625 -1.421875 17.65625 -0.515625 \nQ 12.796875 0.390625 7.625 2.203125 \nL 7.625 11.71875 \nQ 11.71875 9.328125 16.59375 8.109375 \nQ 21.484375 6.890625 26.8125 6.890625 \nQ 36.078125 6.890625 40.9375 10.546875 \nQ 45.796875 14.203125 45.796875 21.1875 \nQ 45.796875 27.640625 41.28125 31.265625 \nQ 36.765625 34.90625 28.71875 34.90625 \nL 20.21875 34.90625 \nL 20.21875 43.015625 \nL 29.109375 43.015625 \nQ 36.375 43.015625 40.234375 45.921875 \nQ 44.09375 48.828125 44.09375 54.296875 \nQ 44.09375 59.90625 40.109375 62.90625 \nQ 36.140625 65.921875 28.71875 65.921875 \nQ 24.65625 65.921875 20.015625 65.03125 \nQ 15.375 64.15625 9.8125 62.3125 \nL 9.8125 71.09375 \nQ 15.4375 72.65625 20.34375 73.4375 \nQ 25.25 74.21875 29.59375 74.21875 \nQ 40.828125 74.21875 47.359375 69.109375 \nQ 53.90625 64.015625 53.90625 55.328125 \nQ 53.90625 49.265625 50.4375 45.09375 \nQ 46.96875 40.921875 40.578125 39.3125 \nz\n\" id=\"DejaVuSans-51\"/>\n       <path d=\"M 31.78125 66.40625 \nQ 24.171875 66.40625 20.328125 58.90625 \nQ 16.5 51.421875 16.5 36.375 \nQ 16.5 21.390625 20.328125 13.890625 \nQ 24.171875 6.390625 31.78125 6.390625 \nQ 39.453125 6.390625 43.28125 13.890625 \nQ 47.125 21.390625 47.125 36.375 \nQ 47.125 51.421875 43.28125 58.90625 \nQ 39.453125 66.40625 31.78125 66.40625 \nz\nM 31.78125 74.21875 \nQ 44.046875 74.21875 50.515625 64.515625 \nQ 56.984375 54.828125 56.984375 36.375 \nQ 56.984375 17.96875 50.515625 8.265625 \nQ 44.046875 -1.421875 31.78125 -1.421875 \nQ 19.53125 -1.421875 13.0625 8.265625 \nQ 6.59375 17.96875 6.59375 36.375 \nQ 6.59375 54.828125 13.0625 64.515625 \nQ 19.53125 74.21875 31.78125 74.21875 \nz\n\" id=\"DejaVuSans-48\"/>\n      </defs>\n      <g transform=\"translate(70.94858 239.238438)scale(0.1 -0.1)\">\n       <use xlink:href=\"#DejaVuSans-51\"/>\n       <use x=\"63.623047\" xlink:href=\"#DejaVuSans-48\"/>\n       <use x=\"127.246094\" xlink:href=\"#DejaVuSans-48\"/>\n       <use x=\"190.869141\" xlink:href=\"#DejaVuSans-48\"/>\n      </g>\n     </g>\n    </g>\n    <g id=\"xtick_2\">\n     <g id=\"line2d_2\">\n      <g>\n       <use style=\"stroke:#000000;stroke-width:0.8;\" x=\"132.764489\" xlink:href=\"#mc2675ebb15\" y=\"224.64\"/>\n      </g>\n     </g>\n     <g id=\"text_2\">\n      <!-- 3500 -->\n      <defs>\n       <path d=\"M 10.796875 72.90625 \nL 49.515625 72.90625 \nL 49.515625 64.59375 \nL 19.828125 64.59375 \nL 19.828125 46.734375 \nQ 21.96875 47.46875 24.109375 47.828125 \nQ 26.265625 48.1875 28.421875 48.1875 \nQ 40.625 48.1875 47.75 41.5 \nQ 54.890625 34.8125 54.890625 23.390625 \nQ 54.890625 11.625 47.5625 5.09375 \nQ 40.234375 -1.421875 26.90625 -1.421875 \nQ 22.3125 -1.421875 17.546875 -0.640625 \nQ 12.796875 0.140625 7.71875 1.703125 \nL 7.71875 11.625 \nQ 12.109375 9.234375 16.796875 8.0625 \nQ 21.484375 6.890625 26.703125 6.890625 \nQ 35.15625 6.890625 40.078125 11.328125 \nQ 45.015625 15.765625 45.015625 23.390625 \nQ 45.015625 31 40.078125 35.4375 \nQ 35.15625 39.890625 26.703125 39.890625 \nQ 22.75 39.890625 18.8125 39.015625 \nQ 14.890625 38.140625 10.796875 36.28125 \nz\n\" id=\"DejaVuSans-53\"/>\n      </defs>\n      <g transform=\"translate(120.039489 239.238438)scale(0.1 -0.1)\">\n       <use xlink:href=\"#DejaVuSans-51\"/>\n       <use x=\"63.623047\" xlink:href=\"#DejaVuSans-53\"/>\n       <use x=\"127.246094\" xlink:href=\"#DejaVuSans-48\"/>\n       <use x=\"190.869141\" xlink:href=\"#DejaVuSans-48\"/>\n      </g>\n     </g>\n    </g>\n    <g id=\"xtick_3\">\n     <g id=\"line2d_3\">\n      <g>\n       <use style=\"stroke:#000000;stroke-width:0.8;\" x=\"181.855398\" xlink:href=\"#mc2675ebb15\" y=\"224.64\"/>\n      </g>\n     </g>\n     <g id=\"text_3\">\n      <!-- 4000 -->\n      <defs>\n       <path d=\"M 37.796875 64.3125 \nL 12.890625 25.390625 \nL 37.796875 25.390625 \nz\nM 35.203125 72.90625 \nL 47.609375 72.90625 \nL 47.609375 25.390625 \nL 58.015625 25.390625 \nL 58.015625 17.1875 \nL 47.609375 17.1875 \nL 47.609375 0 \nL 37.796875 0 \nL 37.796875 17.1875 \nL 4.890625 17.1875 \nL 4.890625 26.703125 \nz\n\" id=\"DejaVuSans-52\"/>\n      </defs>\n      <g transform=\"translate(169.130398 239.238438)scale(0.1 -0.1)\">\n       <use xlink:href=\"#DejaVuSans-52\"/>\n       <use x=\"63.623047\" xlink:href=\"#DejaVuSans-48\"/>\n       <use x=\"127.246094\" xlink:href=\"#DejaVuSans-48\"/>\n       <use x=\"190.869141\" xlink:href=\"#DejaVuSans-48\"/>\n      </g>\n     </g>\n    </g>\n    <g id=\"xtick_4\">\n     <g id=\"line2d_4\">\n      <g>\n       <use style=\"stroke:#000000;stroke-width:0.8;\" x=\"230.946307\" xlink:href=\"#mc2675ebb15\" y=\"224.64\"/>\n      </g>\n     </g>\n     <g id=\"text_4\">\n      <!-- 4500 -->\n      <g transform=\"translate(218.221307 239.238438)scale(0.1 -0.1)\">\n       <use xlink:href=\"#DejaVuSans-52\"/>\n       <use x=\"63.623047\" xlink:href=\"#DejaVuSans-53\"/>\n       <use x=\"127.246094\" xlink:href=\"#DejaVuSans-48\"/>\n       <use x=\"190.869141\" xlink:href=\"#DejaVuSans-48\"/>\n      </g>\n     </g>\n    </g>\n    <g id=\"xtick_5\">\n     <g id=\"line2d_5\">\n      <g>\n       <use style=\"stroke:#000000;stroke-width:0.8;\" x=\"280.037216\" xlink:href=\"#mc2675ebb15\" y=\"224.64\"/>\n      </g>\n     </g>\n     <g id=\"text_5\">\n      <!-- 5000 -->\n      <g transform=\"translate(267.312216 239.238438)scale(0.1 -0.1)\">\n       <use xlink:href=\"#DejaVuSans-53\"/>\n       <use x=\"63.623047\" xlink:href=\"#DejaVuSans-48\"/>\n       <use x=\"127.246094\" xlink:href=\"#DejaVuSans-48\"/>\n       <use x=\"190.869141\" xlink:href=\"#DejaVuSans-48\"/>\n      </g>\n     </g>\n    </g>\n    <g id=\"xtick_6\">\n     <g id=\"line2d_6\">\n      <g>\n       <use style=\"stroke:#000000;stroke-width:0.8;\" x=\"329.128125\" xlink:href=\"#mc2675ebb15\" y=\"224.64\"/>\n      </g>\n     </g>\n     <g id=\"text_6\">\n      <!-- 5500 -->\n      <g transform=\"translate(316.403125 239.238438)scale(0.1 -0.1)\">\n       <use xlink:href=\"#DejaVuSans-53\"/>\n       <use x=\"63.623047\" xlink:href=\"#DejaVuSans-53\"/>\n       <use x=\"127.246094\" xlink:href=\"#DejaVuSans-48\"/>\n       <use x=\"190.869141\" xlink:href=\"#DejaVuSans-48\"/>\n      </g>\n     </g>\n    </g>\n    <g id=\"xtick_7\">\n     <g id=\"line2d_7\">\n      <g>\n       <use style=\"stroke:#000000;stroke-width:0.8;\" x=\"378.219034\" xlink:href=\"#mc2675ebb15\" y=\"224.64\"/>\n      </g>\n     </g>\n     <g id=\"text_7\">\n      <!-- 6000 -->\n      <defs>\n       <path d=\"M 33.015625 40.375 \nQ 26.375 40.375 22.484375 35.828125 \nQ 18.609375 31.296875 18.609375 23.390625 \nQ 18.609375 15.53125 22.484375 10.953125 \nQ 26.375 6.390625 33.015625 6.390625 \nQ 39.65625 6.390625 43.53125 10.953125 \nQ 47.40625 15.53125 47.40625 23.390625 \nQ 47.40625 31.296875 43.53125 35.828125 \nQ 39.65625 40.375 33.015625 40.375 \nz\nM 52.59375 71.296875 \nL 52.59375 62.3125 \nQ 48.875 64.0625 45.09375 64.984375 \nQ 41.3125 65.921875 37.59375 65.921875 \nQ 27.828125 65.921875 22.671875 59.328125 \nQ 17.53125 52.734375 16.796875 39.40625 \nQ 19.671875 43.65625 24.015625 45.921875 \nQ 28.375 48.1875 33.59375 48.1875 \nQ 44.578125 48.1875 50.953125 41.515625 \nQ 57.328125 34.859375 57.328125 23.390625 \nQ 57.328125 12.15625 50.6875 5.359375 \nQ 44.046875 -1.421875 33.015625 -1.421875 \nQ 20.359375 -1.421875 13.671875 8.265625 \nQ 6.984375 17.96875 6.984375 36.375 \nQ 6.984375 53.65625 15.1875 63.9375 \nQ 23.390625 74.21875 37.203125 74.21875 \nQ 40.921875 74.21875 44.703125 73.484375 \nQ 48.484375 72.75 52.59375 71.296875 \nz\n\" id=\"DejaVuSans-54\"/>\n      </defs>\n      <g transform=\"translate(365.494034 239.238438)scale(0.1 -0.1)\">\n       <use xlink:href=\"#DejaVuSans-54\"/>\n       <use x=\"63.623047\" xlink:href=\"#DejaVuSans-48\"/>\n       <use x=\"127.246094\" xlink:href=\"#DejaVuSans-48\"/>\n       <use x=\"190.869141\" xlink:href=\"#DejaVuSans-48\"/>\n      </g>\n     </g>\n    </g>\n    <g id=\"text_8\">\n     <!-- Poids réel (g) -->\n     <defs>\n      <path d=\"M 19.671875 64.796875 \nL 19.671875 37.40625 \nL 32.078125 37.40625 \nQ 38.96875 37.40625 42.71875 40.96875 \nQ 46.484375 44.53125 46.484375 51.125 \nQ 46.484375 57.671875 42.71875 61.234375 \nQ 38.96875 64.796875 32.078125 64.796875 \nz\nM 9.8125 72.90625 \nL 32.078125 72.90625 \nQ 44.34375 72.90625 50.609375 67.359375 \nQ 56.890625 61.8125 56.890625 51.125 \nQ 56.890625 40.328125 50.609375 34.8125 \nQ 44.34375 29.296875 32.078125 29.296875 \nL 19.671875 29.296875 \nL 19.671875 0 \nL 9.8125 0 \nz\n\" id=\"DejaVuSans-80\"/>\n      <path d=\"M 30.609375 48.390625 \nQ 23.390625 48.390625 19.1875 42.75 \nQ 14.984375 37.109375 14.984375 27.296875 \nQ 14.984375 17.484375 19.15625 11.84375 \nQ 23.34375 6.203125 30.609375 6.203125 \nQ 37.796875 6.203125 41.984375 11.859375 \nQ 46.1875 17.53125 46.1875 27.296875 \nQ 46.1875 37.015625 41.984375 42.703125 \nQ 37.796875 48.390625 30.609375 48.390625 \nz\nM 30.609375 56 \nQ 42.328125 56 49.015625 48.375 \nQ 55.71875 40.765625 55.71875 27.296875 \nQ 55.71875 13.875 49.015625 6.21875 \nQ 42.328125 -1.421875 30.609375 -1.421875 \nQ 18.84375 -1.421875 12.171875 6.21875 \nQ 5.515625 13.875 5.515625 27.296875 \nQ 5.515625 40.765625 12.171875 48.375 \nQ 18.84375 56 30.609375 56 \nz\n\" id=\"DejaVuSans-111\"/>\n      <path d=\"M 9.421875 54.6875 \nL 18.40625 54.6875 \nL 18.40625 0 \nL 9.421875 0 \nz\nM 9.421875 75.984375 \nL 18.40625 75.984375 \nL 18.40625 64.59375 \nL 9.421875 64.59375 \nz\n\" id=\"DejaVuSans-105\"/>\n      <path d=\"M 45.40625 46.390625 \nL 45.40625 75.984375 \nL 54.390625 75.984375 \nL 54.390625 0 \nL 45.40625 0 \nL 45.40625 8.203125 \nQ 42.578125 3.328125 38.25 0.953125 \nQ 33.9375 -1.421875 27.875 -1.421875 \nQ 17.96875 -1.421875 11.734375 6.484375 \nQ 5.515625 14.40625 5.515625 27.296875 \nQ 5.515625 40.1875 11.734375 48.09375 \nQ 17.96875 56 27.875 56 \nQ 33.9375 56 38.25 53.625 \nQ 42.578125 51.265625 45.40625 46.390625 \nz\nM 14.796875 27.296875 \nQ 14.796875 17.390625 18.875 11.75 \nQ 22.953125 6.109375 30.078125 6.109375 \nQ 37.203125 6.109375 41.296875 11.75 \nQ 45.40625 17.390625 45.40625 27.296875 \nQ 45.40625 37.203125 41.296875 42.84375 \nQ 37.203125 48.484375 30.078125 48.484375 \nQ 22.953125 48.484375 18.875 42.84375 \nQ 14.796875 37.203125 14.796875 27.296875 \nz\n\" id=\"DejaVuSans-100\"/>\n      <path d=\"M 44.28125 53.078125 \nL 44.28125 44.578125 \nQ 40.484375 46.53125 36.375 47.5 \nQ 32.28125 48.484375 27.875 48.484375 \nQ 21.1875 48.484375 17.84375 46.4375 \nQ 14.5 44.390625 14.5 40.28125 \nQ 14.5 37.15625 16.890625 35.375 \nQ 19.28125 33.59375 26.515625 31.984375 \nL 29.59375 31.296875 \nQ 39.15625 29.25 43.1875 25.515625 \nQ 47.21875 21.78125 47.21875 15.09375 \nQ 47.21875 7.46875 41.1875 3.015625 \nQ 35.15625 -1.421875 24.609375 -1.421875 \nQ 20.21875 -1.421875 15.453125 -0.5625 \nQ 10.6875 0.296875 5.421875 2 \nL 5.421875 11.28125 \nQ 10.40625 8.6875 15.234375 7.390625 \nQ 20.0625 6.109375 24.8125 6.109375 \nQ 31.15625 6.109375 34.5625 8.28125 \nQ 37.984375 10.453125 37.984375 14.40625 \nQ 37.984375 18.0625 35.515625 20.015625 \nQ 33.0625 21.96875 24.703125 23.78125 \nL 21.578125 24.515625 \nQ 13.234375 26.265625 9.515625 29.90625 \nQ 5.8125 33.546875 5.8125 39.890625 \nQ 5.8125 47.609375 11.28125 51.796875 \nQ 16.75 56 26.8125 56 \nQ 31.78125 56 36.171875 55.265625 \nQ 40.578125 54.546875 44.28125 53.078125 \nz\n\" id=\"DejaVuSans-115\"/>\n      <path id=\"DejaVuSans-32\"/>\n      <path d=\"M 41.109375 46.296875 \nQ 39.59375 47.171875 37.8125 47.578125 \nQ 36.03125 48 33.890625 48 \nQ 26.265625 48 22.1875 43.046875 \nQ 18.109375 38.09375 18.109375 28.8125 \nL 18.109375 0 \nL 9.078125 0 \nL 9.078125 54.6875 \nL 18.109375 54.6875 \nL 18.109375 46.1875 \nQ 20.953125 51.171875 25.484375 53.578125 \nQ 30.03125 56 36.53125 56 \nQ 37.453125 56 38.578125 55.875 \nQ 39.703125 55.765625 41.0625 55.515625 \nz\n\" id=\"DejaVuSans-114\"/>\n      <path d=\"M 56.203125 29.59375 \nL 56.203125 25.203125 \nL 14.890625 25.203125 \nQ 15.484375 15.921875 20.484375 11.0625 \nQ 25.484375 6.203125 34.421875 6.203125 \nQ 39.59375 6.203125 44.453125 7.46875 \nQ 49.3125 8.734375 54.109375 11.28125 \nL 54.109375 2.78125 \nQ 49.265625 0.734375 44.1875 -0.34375 \nQ 39.109375 -1.421875 33.890625 -1.421875 \nQ 20.796875 -1.421875 13.15625 6.1875 \nQ 5.515625 13.8125 5.515625 26.8125 \nQ 5.515625 40.234375 12.765625 48.109375 \nQ 20.015625 56 32.328125 56 \nQ 43.359375 56 49.78125 48.890625 \nQ 56.203125 41.796875 56.203125 29.59375 \nz\nM 47.21875 32.234375 \nQ 47.125 39.59375 43.09375 43.984375 \nQ 39.0625 48.390625 32.421875 48.390625 \nQ 24.90625 48.390625 20.390625 44.140625 \nQ 15.875 39.890625 15.1875 32.171875 \nz\nM 38.53125 79.984375 \nL 48.25 79.984375 \nL 32.34375 61.625 \nL 24.859375 61.625 \nz\n\" id=\"DejaVuSans-233\"/>\n      <path d=\"M 56.203125 29.59375 \nL 56.203125 25.203125 \nL 14.890625 25.203125 \nQ 15.484375 15.921875 20.484375 11.0625 \nQ 25.484375 6.203125 34.421875 6.203125 \nQ 39.59375 6.203125 44.453125 7.46875 \nQ 49.3125 8.734375 54.109375 11.28125 \nL 54.109375 2.78125 \nQ 49.265625 0.734375 44.1875 -0.34375 \nQ 39.109375 -1.421875 33.890625 -1.421875 \nQ 20.796875 -1.421875 13.15625 6.1875 \nQ 5.515625 13.8125 5.515625 26.8125 \nQ 5.515625 40.234375 12.765625 48.109375 \nQ 20.015625 56 32.328125 56 \nQ 43.359375 56 49.78125 48.890625 \nQ 56.203125 41.796875 56.203125 29.59375 \nz\nM 47.21875 32.234375 \nQ 47.125 39.59375 43.09375 43.984375 \nQ 39.0625 48.390625 32.421875 48.390625 \nQ 24.90625 48.390625 20.390625 44.140625 \nQ 15.875 39.890625 15.1875 32.171875 \nz\n\" id=\"DejaVuSans-101\"/>\n      <path d=\"M 9.421875 75.984375 \nL 18.40625 75.984375 \nL 18.40625 0 \nL 9.421875 0 \nz\n\" id=\"DejaVuSans-108\"/>\n      <path d=\"M 31 75.875 \nQ 24.46875 64.65625 21.28125 53.65625 \nQ 18.109375 42.671875 18.109375 31.390625 \nQ 18.109375 20.125 21.3125 9.0625 \nQ 24.515625 -2 31 -13.1875 \nL 23.1875 -13.1875 \nQ 15.875 -1.703125 12.234375 9.375 \nQ 8.59375 20.453125 8.59375 31.390625 \nQ 8.59375 42.28125 12.203125 53.3125 \nQ 15.828125 64.359375 23.1875 75.875 \nz\n\" id=\"DejaVuSans-40\"/>\n      <path d=\"M 45.40625 27.984375 \nQ 45.40625 37.75 41.375 43.109375 \nQ 37.359375 48.484375 30.078125 48.484375 \nQ 22.859375 48.484375 18.828125 43.109375 \nQ 14.796875 37.75 14.796875 27.984375 \nQ 14.796875 18.265625 18.828125 12.890625 \nQ 22.859375 7.515625 30.078125 7.515625 \nQ 37.359375 7.515625 41.375 12.890625 \nQ 45.40625 18.265625 45.40625 27.984375 \nz\nM 54.390625 6.78125 \nQ 54.390625 -7.171875 48.1875 -13.984375 \nQ 42 -20.796875 29.203125 -20.796875 \nQ 24.46875 -20.796875 20.265625 -20.09375 \nQ 16.0625 -19.390625 12.109375 -17.921875 \nL 12.109375 -9.1875 \nQ 16.0625 -11.328125 19.921875 -12.34375 \nQ 23.78125 -13.375 27.78125 -13.375 \nQ 36.625 -13.375 41.015625 -8.765625 \nQ 45.40625 -4.15625 45.40625 5.171875 \nL 45.40625 9.625 \nQ 42.625 4.78125 38.28125 2.390625 \nQ 33.9375 0 27.875 0 \nQ 17.828125 0 11.671875 7.65625 \nQ 5.515625 15.328125 5.515625 27.984375 \nQ 5.515625 40.671875 11.671875 48.328125 \nQ 17.828125 56 27.875 56 \nQ 33.9375 56 38.28125 53.609375 \nQ 42.625 51.21875 45.40625 46.390625 \nL 45.40625 54.6875 \nL 54.390625 54.6875 \nz\n\" id=\"DejaVuSans-103\"/>\n      <path d=\"M 8.015625 75.875 \nL 15.828125 75.875 \nQ 23.140625 64.359375 26.78125 53.3125 \nQ 30.421875 42.28125 30.421875 31.390625 \nQ 30.421875 20.453125 26.78125 9.375 \nQ 23.140625 -1.703125 15.828125 -13.1875 \nL 8.015625 -13.1875 \nQ 14.5 -2 17.703125 9.0625 \nQ 20.90625 20.125 20.90625 31.390625 \nQ 20.90625 42.671875 17.703125 53.65625 \nQ 14.5 64.65625 8.015625 75.875 \nz\n\" id=\"DejaVuSans-41\"/>\n     </defs>\n     <g transform=\"translate(188.328125 253.316563)scale(0.1 -0.1)\">\n      <use xlink:href=\"#DejaVuSans-80\"/>\n      <use x=\"56.677734\" xlink:href=\"#DejaVuSans-111\"/>\n      <use x=\"117.859375\" xlink:href=\"#DejaVuSans-105\"/>\n      <use x=\"145.642578\" xlink:href=\"#DejaVuSans-100\"/>\n      <use x=\"209.119141\" xlink:href=\"#DejaVuSans-115\"/>\n      <use x=\"261.21875\" xlink:href=\"#DejaVuSans-32\"/>\n      <use x=\"293.005859\" xlink:href=\"#DejaVuSans-114\"/>\n      <use x=\"331.869141\" xlink:href=\"#DejaVuSans-233\"/>\n      <use x=\"393.392578\" xlink:href=\"#DejaVuSans-101\"/>\n      <use x=\"454.916016\" xlink:href=\"#DejaVuSans-108\"/>\n      <use x=\"482.699219\" xlink:href=\"#DejaVuSans-32\"/>\n      <use x=\"514.486328\" xlink:href=\"#DejaVuSans-40\"/>\n      <use x=\"553.5\" xlink:href=\"#DejaVuSans-103\"/>\n      <use x=\"616.976562\" xlink:href=\"#DejaVuSans-41\"/>\n     </g>\n    </g>\n   </g>\n   <g id=\"matplotlib.axis_2\">\n    <g id=\"ytick_1\">\n     <g id=\"line2d_8\">\n      <defs>\n       <path d=\"M 0 0 \nL -3.5 0 \n\" id=\"m54c129d5c3\" style=\"stroke:#000000;stroke-width:0.8;\"/>\n      </defs>\n      <g>\n       <use style=\"stroke:#000000;stroke-width:0.8;\" x=\"53.728125\" xlink:href=\"#m54c129d5c3\" y=\"201.006587\"/>\n      </g>\n     </g>\n     <g id=\"text_9\">\n      <!-- 3500 -->\n      <g transform=\"translate(21.278125 204.805805)scale(0.1 -0.1)\">\n       <use xlink:href=\"#DejaVuSans-51\"/>\n       <use x=\"63.623047\" xlink:href=\"#DejaVuSans-53\"/>\n       <use x=\"127.246094\" xlink:href=\"#DejaVuSans-48\"/>\n       <use x=\"190.869141\" xlink:href=\"#DejaVuSans-48\"/>\n      </g>\n     </g>\n    </g>\n    <g id=\"ytick_2\">\n     <g id=\"line2d_9\">\n      <g>\n       <use style=\"stroke:#000000;stroke-width:0.8;\" x=\"53.728125\" xlink:href=\"#m54c129d5c3\" y=\"165.273774\"/>\n      </g>\n     </g>\n     <g id=\"text_10\">\n      <!-- 4000 -->\n      <g transform=\"translate(21.278125 169.072993)scale(0.1 -0.1)\">\n       <use xlink:href=\"#DejaVuSans-52\"/>\n       <use x=\"63.623047\" xlink:href=\"#DejaVuSans-48\"/>\n       <use x=\"127.246094\" xlink:href=\"#DejaVuSans-48\"/>\n       <use x=\"190.869141\" xlink:href=\"#DejaVuSans-48\"/>\n      </g>\n     </g>\n    </g>\n    <g id=\"ytick_3\">\n     <g id=\"line2d_10\">\n      <g>\n       <use style=\"stroke:#000000;stroke-width:0.8;\" x=\"53.728125\" xlink:href=\"#m54c129d5c3\" y=\"129.540962\"/>\n      </g>\n     </g>\n     <g id=\"text_11\">\n      <!-- 4500 -->\n      <g transform=\"translate(21.278125 133.340181)scale(0.1 -0.1)\">\n       <use xlink:href=\"#DejaVuSans-52\"/>\n       <use x=\"63.623047\" xlink:href=\"#DejaVuSans-53\"/>\n       <use x=\"127.246094\" xlink:href=\"#DejaVuSans-48\"/>\n       <use x=\"190.869141\" xlink:href=\"#DejaVuSans-48\"/>\n      </g>\n     </g>\n    </g>\n    <g id=\"ytick_4\">\n     <g id=\"line2d_11\">\n      <g>\n       <use style=\"stroke:#000000;stroke-width:0.8;\" x=\"53.728125\" xlink:href=\"#m54c129d5c3\" y=\"93.80815\"/>\n      </g>\n     </g>\n     <g id=\"text_12\">\n      <!-- 5000 -->\n      <g transform=\"translate(21.278125 97.607368)scale(0.1 -0.1)\">\n       <use xlink:href=\"#DejaVuSans-53\"/>\n       <use x=\"63.623047\" xlink:href=\"#DejaVuSans-48\"/>\n       <use x=\"127.246094\" xlink:href=\"#DejaVuSans-48\"/>\n       <use x=\"190.869141\" xlink:href=\"#DejaVuSans-48\"/>\n      </g>\n     </g>\n    </g>\n    <g id=\"ytick_5\">\n     <g id=\"line2d_12\">\n      <g>\n       <use style=\"stroke:#000000;stroke-width:0.8;\" x=\"53.728125\" xlink:href=\"#m54c129d5c3\" y=\"58.075337\"/>\n      </g>\n     </g>\n     <g id=\"text_13\">\n      <!-- 5500 -->\n      <g transform=\"translate(21.278125 61.874556)scale(0.1 -0.1)\">\n       <use xlink:href=\"#DejaVuSans-53\"/>\n       <use x=\"63.623047\" xlink:href=\"#DejaVuSans-53\"/>\n       <use x=\"127.246094\" xlink:href=\"#DejaVuSans-48\"/>\n       <use x=\"190.869141\" xlink:href=\"#DejaVuSans-48\"/>\n      </g>\n     </g>\n    </g>\n    <g id=\"ytick_6\">\n     <g id=\"line2d_13\">\n      <g>\n       <use style=\"stroke:#000000;stroke-width:0.8;\" x=\"53.728125\" xlink:href=\"#m54c129d5c3\" y=\"22.342525\"/>\n      </g>\n     </g>\n     <g id=\"text_14\">\n      <!-- 6000 -->\n      <g transform=\"translate(21.278125 26.141744)scale(0.1 -0.1)\">\n       <use xlink:href=\"#DejaVuSans-54\"/>\n       <use x=\"63.623047\" xlink:href=\"#DejaVuSans-48\"/>\n       <use x=\"127.246094\" xlink:href=\"#DejaVuSans-48\"/>\n       <use x=\"190.869141\" xlink:href=\"#DejaVuSans-48\"/>\n      </g>\n     </g>\n    </g>\n    <g id=\"text_15\">\n     <!-- Poids prédit (g) -->\n     <defs>\n      <path d=\"M 18.109375 8.203125 \nL 18.109375 -20.796875 \nL 9.078125 -20.796875 \nL 9.078125 54.6875 \nL 18.109375 54.6875 \nL 18.109375 46.390625 \nQ 20.953125 51.265625 25.265625 53.625 \nQ 29.59375 56 35.59375 56 \nQ 45.5625 56 51.78125 48.09375 \nQ 58.015625 40.1875 58.015625 27.296875 \nQ 58.015625 14.40625 51.78125 6.484375 \nQ 45.5625 -1.421875 35.59375 -1.421875 \nQ 29.59375 -1.421875 25.265625 0.953125 \nQ 20.953125 3.328125 18.109375 8.203125 \nz\nM 48.6875 27.296875 \nQ 48.6875 37.203125 44.609375 42.84375 \nQ 40.53125 48.484375 33.40625 48.484375 \nQ 26.265625 48.484375 22.1875 42.84375 \nQ 18.109375 37.203125 18.109375 27.296875 \nQ 18.109375 17.390625 22.1875 11.75 \nQ 26.265625 6.109375 33.40625 6.109375 \nQ 40.53125 6.109375 44.609375 11.75 \nQ 48.6875 17.390625 48.6875 27.296875 \nz\n\" id=\"DejaVuSans-112\"/>\n      <path d=\"M 18.3125 70.21875 \nL 18.3125 54.6875 \nL 36.8125 54.6875 \nL 36.8125 47.703125 \nL 18.3125 47.703125 \nL 18.3125 18.015625 \nQ 18.3125 11.328125 20.140625 9.421875 \nQ 21.96875 7.515625 27.59375 7.515625 \nL 36.8125 7.515625 \nL 36.8125 0 \nL 27.59375 0 \nQ 17.1875 0 13.234375 3.875 \nQ 9.28125 7.765625 9.28125 18.015625 \nL 9.28125 47.703125 \nL 2.6875 47.703125 \nL 2.6875 54.6875 \nL 9.28125 54.6875 \nL 9.28125 70.21875 \nz\n\" id=\"DejaVuSans-116\"/>\n     </defs>\n     <g transform=\"translate(15.198438 153.952031)rotate(-90)scale(0.1 -0.1)\">\n      <use xlink:href=\"#DejaVuSans-80\"/>\n      <use x=\"56.677734\" xlink:href=\"#DejaVuSans-111\"/>\n      <use x=\"117.859375\" xlink:href=\"#DejaVuSans-105\"/>\n      <use x=\"145.642578\" xlink:href=\"#DejaVuSans-100\"/>\n      <use x=\"209.119141\" xlink:href=\"#DejaVuSans-115\"/>\n      <use x=\"261.21875\" xlink:href=\"#DejaVuSans-32\"/>\n      <use x=\"293.005859\" xlink:href=\"#DejaVuSans-112\"/>\n      <use x=\"356.482422\" xlink:href=\"#DejaVuSans-114\"/>\n      <use x=\"395.345703\" xlink:href=\"#DejaVuSans-233\"/>\n      <use x=\"456.869141\" xlink:href=\"#DejaVuSans-100\"/>\n      <use x=\"520.345703\" xlink:href=\"#DejaVuSans-105\"/>\n      <use x=\"548.128906\" xlink:href=\"#DejaVuSans-116\"/>\n      <use x=\"587.337891\" xlink:href=\"#DejaVuSans-32\"/>\n      <use x=\"619.125\" xlink:href=\"#DejaVuSans-40\"/>\n      <use x=\"658.138672\" xlink:href=\"#DejaVuSans-103\"/>\n      <use x=\"721.615234\" xlink:href=\"#DejaVuSans-41\"/>\n     </g>\n    </g>\n   </g>\n   <g id=\"patch_3\">\n    <path d=\"M 53.728125 224.64 \nL 53.728125 7.2 \n\" style=\"fill:none;stroke:#000000;stroke-linecap:square;stroke-linejoin:miter;stroke-width:0.8;\"/>\n   </g>\n   <g id=\"patch_4\">\n    <path d=\"M 388.528125 224.64 \nL 388.528125 7.2 \n\" style=\"fill:none;stroke:#000000;stroke-linecap:square;stroke-linejoin:miter;stroke-width:0.8;\"/>\n   </g>\n   <g id=\"patch_5\">\n    <path d=\"M 53.728125 224.64 \nL 388.528125 224.64 \n\" style=\"fill:none;stroke:#000000;stroke-linecap:square;stroke-linejoin:miter;stroke-width:0.8;\"/>\n   </g>\n   <g id=\"patch_6\">\n    <path d=\"M 53.728125 7.2 \nL 388.528125 7.2 \n\" style=\"fill:none;stroke:#000000;stroke-linecap:square;stroke-linejoin:miter;stroke-width:0.8;\"/>\n   </g>\n  </g>\n </g>\n <defs>\n  <clipPath id=\"pb651329758\">\n   <rect height=\"217.44\" width=\"334.8\" x=\"53.728125\" y=\"7.2\"/>\n  </clipPath>\n </defs>\n</svg>\n"
          },
          "metadata": {
            "tags": [],
            "needs_background": "light"
          }
        }
      ]
    },
    {
      "cell_type": "code",
      "metadata": {
        "id": "ilF9icmucrBx"
      },
      "source": [
        "from sklearn import metrics"
      ],
      "execution_count": null,
      "outputs": []
    },
    {
      "cell_type": "code",
      "metadata": {
        "colab": {
          "base_uri": "https://localhost:8080/"
        },
        "id": "u4lI6I_VcrBx",
        "outputId": "9e711ac6-cf71-48a3-f79d-e01d4a4e77a8"
      },
      "source": [
        "print(\"La RMSE de notre modèle est %.2f g\" % (metrics.mean_squared_error(y_test, y_test_pred, squared=False)))"
      ],
      "execution_count": null,
      "outputs": [
        {
          "output_type": "stream",
          "text": [
            "La RMSE de notre modèle est 365.53 g\n"
          ],
          "name": "stdout"
        }
      ]
    },
    {
      "cell_type": "code",
      "metadata": {
        "colab": {
          "base_uri": "https://localhost:8080/"
        },
        "id": "KgbJzpyucrBx",
        "outputId": "641f1a8f-3d03-4f42-e592-abf5de244540"
      },
      "source": [
        "print(\"Le coefficient de détermination de notre modèle est R2 = %.2f\" % (metrics.r2_score(y_test, y_test_pred)))"
      ],
      "execution_count": null,
      "outputs": [
        {
          "output_type": "stream",
          "text": [
            "Le coefficient de détermination de notre modèle est R2 = 0.80\n"
          ],
          "name": "stdout"
        }
      ]
    },
    {
      "cell_type": "markdown",
      "metadata": {
        "id": "Ua1dPZx3crBx"
      },
      "source": [
        "### Difficulté de l'apprentissage avec un réseau de neurones"
      ]
    },
    {
      "cell_type": "markdown",
      "metadata": {
        "id": "OM55WwQocrBx"
      },
      "source": [
        "Utiliser ce réseau de neurones a légèrement amélioré la performance, par rapport à la régression linéaire. Cependant, cela dépend énormément des _hyperparamètres_ du modèle, c'est-à-dire du nombre de couches intermédiaires, du nombre de neurones par couches, du choix de la fonction d'activation, ainsi que de l'initialisation aléatoire. \n",
        "\n",
        "Vous pouvez le vérifier en modifiant ces choix :"
      ]
    },
    {
      "cell_type": "code",
      "metadata": {
        "id": "6O8kNZPPcrBy"
      },
      "source": [
        "mlpreg = neural_network.MLPRegressor(hidden_layer_sizes=20, solver='lbfgs', max_iter=1000, random_state=47)"
      ],
      "execution_count": null,
      "outputs": []
    },
    {
      "cell_type": "code",
      "metadata": {
        "colab": {
          "base_uri": "https://localhost:8080/"
        },
        "id": "QhDHZL0fcrBy",
        "outputId": "dc41a2dc-8a07-45ab-f1c6-712c53bf23c9"
      },
      "source": [
        "mlpreg.fit(X_train, y_train)"
      ],
      "execution_count": null,
      "outputs": [
        {
          "output_type": "execute_result",
          "data": {
            "text/plain": [
              "MLPRegressor(activation='relu', alpha=0.0001, batch_size='auto', beta_1=0.9,\n",
              "             beta_2=0.999, early_stopping=False, epsilon=1e-08,\n",
              "             hidden_layer_sizes=20, learning_rate='constant',\n",
              "             learning_rate_init=0.001, max_fun=15000, max_iter=1000,\n",
              "             momentum=0.9, n_iter_no_change=10, nesterovs_momentum=True,\n",
              "             power_t=0.5, random_state=47, shuffle=True, solver='lbfgs',\n",
              "             tol=0.0001, validation_fraction=0.1, verbose=False,\n",
              "             warm_start=False)"
            ]
          },
          "metadata": {
            "tags": []
          },
          "execution_count": 46
        }
      ]
    },
    {
      "cell_type": "code",
      "metadata": {
        "id": "Bu1YQ8dNcrBy"
      },
      "source": [
        "y_test_pred = mlpreg.predict(X_test)"
      ],
      "execution_count": null,
      "outputs": []
    },
    {
      "cell_type": "code",
      "metadata": {
        "colab": {
          "base_uri": "https://localhost:8080/",
          "height": 388
        },
        "id": "WPvH_Zk_crBy",
        "outputId": "c0c58ef1-94be-4a63-f712-3975a1bc89f7"
      },
      "source": [
        "plt.scatter(y_test, y_test_pred)\n",
        "\n",
        "plt.xlabel(\"Poids réel (g)\")\n",
        "plt.ylabel(\"Poids prédit (g)\")\n",
        "\n",
        "plt.text(3000, 5500, (\"RMSE = %.2f g\" % (metrics.mean_squared_error(y_test, y_test_pred, squared=False))))\n",
        "plt.text(3000, 5200, (\"R2 = %.2f\" % (metrics.r2_score(y_test, y_test_pred))))"
      ],
      "execution_count": null,
      "outputs": [
        {
          "output_type": "execute_result",
          "data": {
            "text/plain": [
              "Text(3000, 5200, 'R2 = 0.72')"
            ]
          },
          "metadata": {
            "tags": []
          },
          "execution_count": 48
        },
        {
          "output_type": "display_data",
          "data": {
            "text/plain": [
              "<Figure size 432x288 with 1 Axes>"
            ],
            "image/svg+xml": "<?xml version=\"1.0\" encoding=\"utf-8\" standalone=\"no\"?>\n<!DOCTYPE svg PUBLIC \"-//W3C//DTD SVG 1.1//EN\"\n  \"http://www.w3.org/Graphics/SVG/1.1/DTD/svg11.dtd\">\n<!-- Created with matplotlib (https://matplotlib.org/) -->\n<svg height=\"262.59625pt\" version=\"1.1\" viewBox=\"0 0 398.144034 262.59625\" width=\"398.144034pt\" xmlns=\"http://www.w3.org/2000/svg\" xmlns:xlink=\"http://www.w3.org/1999/xlink\">\n <defs>\n  <style type=\"text/css\">\n*{stroke-linecap:butt;stroke-linejoin:round;}\n  </style>\n </defs>\n <g id=\"figure_1\">\n  <g id=\"patch_1\">\n   <path d=\"M 0 262.59625 \nL 398.144034 262.59625 \nL 398.144034 0 \nL 0 0 \nz\n\" style=\"fill:none;\"/>\n  </g>\n  <g id=\"axes_1\">\n   <g id=\"patch_2\">\n    <path d=\"M 53.728125 224.64 \nL 388.528125 224.64 \nL 388.528125 7.2 \nL 53.728125 7.2 \nz\n\" style=\"fill:#ffffff;\"/>\n   </g>\n   <g id=\"PathCollection_1\">\n    <defs>\n     <path d=\"M 0 3 \nC 0.795609 3 1.55874 2.683901 2.12132 2.12132 \nC 2.683901 1.55874 3 0.795609 3 0 \nC 3 -0.795609 2.683901 -1.55874 2.12132 -2.12132 \nC 1.55874 -2.683901 0.795609 -3 0 -3 \nC -0.795609 -3 -1.55874 -2.683901 -2.12132 -2.12132 \nC -2.683901 -1.55874 -3 -0.795609 -3 0 \nC -3 0.795609 -2.683901 1.55874 -2.12132 2.12132 \nC -1.55874 2.683901 -0.795609 3 0 3 \nz\n\" id=\"mc6a42a2c4e\" style=\"stroke:#1f77b4;\"/>\n    </defs>\n    <g clip-path=\"url(#p8494bfa53c)\">\n     <use style=\"fill:#1f77b4;stroke:#1f77b4;\" x=\"248.128125\" xlink:href=\"#mc6a42a2c4e\" y=\"171.721911\"/>\n     <use style=\"fill:#1f77b4;stroke:#1f77b4;\" x=\"343.855398\" xlink:href=\"#mc6a42a2c4e\" y=\"62.616534\"/>\n     <use style=\"fill:#1f77b4;stroke:#1f77b4;\" x=\"118.037216\" xlink:href=\"#mc6a42a2c4e\" y=\"202.745288\"/>\n     <use style=\"fill:#1f77b4;stroke:#1f77b4;\" x=\"115.58267\" xlink:href=\"#mc6a42a2c4e\" y=\"198.153823\"/>\n     <use style=\"fill:#1f77b4;stroke:#1f77b4;\" x=\"240.764489\" xlink:href=\"#mc6a42a2c4e\" y=\"160.65844\"/>\n     <use style=\"fill:#1f77b4;stroke:#1f77b4;\" x=\"338.946307\" xlink:href=\"#mc6a42a2c4e\" y=\"38.844118\"/>\n     <use style=\"fill:#1f77b4;stroke:#1f77b4;\" x=\"98.400852\" xlink:href=\"#mc6a42a2c4e\" y=\"210.053212\"/>\n     <use style=\"fill:#1f77b4;stroke:#1f77b4;\" x=\"284.946307\" xlink:href=\"#mc6a42a2c4e\" y=\"93.891432\"/>\n     <use style=\"fill:#1f77b4;stroke:#1f77b4;\" x=\"108.219034\" xlink:href=\"#mc6a42a2c4e\" y=\"176.96029\"/>\n     <use style=\"fill:#1f77b4;stroke:#1f77b4;\" x=\"255.491761\" xlink:href=\"#mc6a42a2c4e\" y=\"59.030494\"/>\n     <use style=\"fill:#1f77b4;stroke:#1f77b4;\" x=\"260.400852\" xlink:href=\"#mc6a42a2c4e\" y=\"83.316318\"/>\n     <use style=\"fill:#1f77b4;stroke:#1f77b4;\" x=\"137.67358\" xlink:href=\"#mc6a42a2c4e\" y=\"193.786104\"/>\n     <use style=\"fill:#1f77b4;stroke:#1f77b4;\" x=\"275.128125\" xlink:href=\"#mc6a42a2c4e\" y=\"64.762556\"/>\n     <use style=\"fill:#1f77b4;stroke:#1f77b4;\" x=\"152.400852\" xlink:href=\"#mc6a42a2c4e\" y=\"204.988982\"/>\n     <use style=\"fill:#1f77b4;stroke:#1f77b4;\" x=\"221.128125\" xlink:href=\"#mc6a42a2c4e\" y=\"75.140167\"/>\n     <use style=\"fill:#1f77b4;stroke:#1f77b4;\" x=\"211.309943\" xlink:href=\"#mc6a42a2c4e\" y=\"162.72896\"/>\n     <use style=\"fill:#1f77b4;stroke:#1f77b4;\" x=\"73.855398\" xlink:href=\"#mc6a42a2c4e\" y=\"197.091318\"/>\n     <use style=\"fill:#1f77b4;stroke:#1f77b4;\" x=\"250.58267\" xlink:href=\"#mc6a42a2c4e\" y=\"107.937073\"/>\n     <use style=\"fill:#1f77b4;stroke:#1f77b4;\" x=\"108.219034\" xlink:href=\"#mc6a42a2c4e\" y=\"182.994054\"/>\n     <use style=\"fill:#1f77b4;stroke:#1f77b4;\" x=\"122.946307\" xlink:href=\"#mc6a42a2c4e\" y=\"181.602768\"/>\n     <use style=\"fill:#1f77b4;stroke:#1f77b4;\" x=\"363.491761\" xlink:href=\"#mc6a42a2c4e\" y=\"72.681958\"/>\n     <use style=\"fill:#1f77b4;stroke:#1f77b4;\" x=\"176.946307\" xlink:href=\"#mc6a42a2c4e\" y=\"196.999783\"/>\n     <use style=\"fill:#1f77b4;stroke:#1f77b4;\" x=\"186.764489\" xlink:href=\"#mc6a42a2c4e\" y=\"165.78452\"/>\n     <use style=\"fill:#1f77b4;stroke:#1f77b4;\" x=\"142.58267\" xlink:href=\"#mc6a42a2c4e\" y=\"213.100437\"/>\n     <use style=\"fill:#1f77b4;stroke:#1f77b4;\" x=\"186.764489\" xlink:href=\"#mc6a42a2c4e\" y=\"161.222337\"/>\n     <use style=\"fill:#1f77b4;stroke:#1f77b4;\" x=\"265.309943\" xlink:href=\"#mc6a42a2c4e\" y=\"83.729251\"/>\n     <use style=\"fill:#1f77b4;stroke:#1f77b4;\" x=\"309.491761\" xlink:href=\"#mc6a42a2c4e\" y=\"61.846287\"/>\n     <use style=\"fill:#1f77b4;stroke:#1f77b4;\" x=\"115.58267\" xlink:href=\"#mc6a42a2c4e\" y=\"187.452051\"/>\n     <use style=\"fill:#1f77b4;stroke:#1f77b4;\" x=\"176.946307\" xlink:href=\"#mc6a42a2c4e\" y=\"165.106422\"/>\n     <use style=\"fill:#1f77b4;stroke:#1f77b4;\" x=\"245.67358\" xlink:href=\"#mc6a42a2c4e\" y=\"57.765505\"/>\n     <use style=\"fill:#1f77b4;stroke:#1f77b4;\" x=\"334.037216\" xlink:href=\"#mc6a42a2c4e\" y=\"58.316513\"/>\n     <use style=\"fill:#1f77b4;stroke:#1f77b4;\" x=\"334.037216\" xlink:href=\"#mc6a42a2c4e\" y=\"36.031576\"/>\n     <use style=\"fill:#1f77b4;stroke:#1f77b4;\" x=\"211.309943\" xlink:href=\"#mc6a42a2c4e\" y=\"147.146883\"/>\n     <use style=\"fill:#1f77b4;stroke:#1f77b4;\" x=\"83.67358\" xlink:href=\"#mc6a42a2c4e\" y=\"214.756364\"/>\n     <use style=\"fill:#1f77b4;stroke:#1f77b4;\" x=\"137.67358\" xlink:href=\"#mc6a42a2c4e\" y=\"174.495094\"/>\n     <use style=\"fill:#1f77b4;stroke:#1f77b4;\" x=\"240.764489\" xlink:href=\"#mc6a42a2c4e\" y=\"66.466022\"/>\n     <use style=\"fill:#1f77b4;stroke:#1f77b4;\" x=\"132.764489\" xlink:href=\"#mc6a42a2c4e\" y=\"175.473682\"/>\n     <use style=\"fill:#1f77b4;stroke:#1f77b4;\" x=\"221.128125\" xlink:href=\"#mc6a42a2c4e\" y=\"150.698456\"/>\n     <use style=\"fill:#1f77b4;stroke:#1f77b4;\" x=\"255.491761\" xlink:href=\"#mc6a42a2c4e\" y=\"58.896317\"/>\n     <use style=\"fill:#1f77b4;stroke:#1f77b4;\" x=\"176.946307\" xlink:href=\"#mc6a42a2c4e\" y=\"167.714168\"/>\n     <use style=\"fill:#1f77b4;stroke:#1f77b4;\" x=\"319.309943\" xlink:href=\"#mc6a42a2c4e\" y=\"82.33472\"/>\n     <use style=\"fill:#1f77b4;stroke:#1f77b4;\" x=\"159.764489\" xlink:href=\"#mc6a42a2c4e\" y=\"158.087916\"/>\n     <use style=\"fill:#1f77b4;stroke:#1f77b4;\" x=\"250.58267\" xlink:href=\"#mc6a42a2c4e\" y=\"197.12502\"/>\n     <use style=\"fill:#1f77b4;stroke:#1f77b4;\" x=\"230.946307\" xlink:href=\"#mc6a42a2c4e\" y=\"154.018044\"/>\n     <use style=\"fill:#1f77b4;stroke:#1f77b4;\" x=\"73.855398\" xlink:href=\"#mc6a42a2c4e\" y=\"197.652075\"/>\n     <use style=\"fill:#1f77b4;stroke:#1f77b4;\" x=\"172.037216\" xlink:href=\"#mc6a42a2c4e\" y=\"199.633057\"/>\n     <use style=\"fill:#1f77b4;stroke:#1f77b4;\" x=\"132.764489\" xlink:href=\"#mc6a42a2c4e\" y=\"171.354788\"/>\n     <use style=\"fill:#1f77b4;stroke:#1f77b4;\" x=\"147.491761\" xlink:href=\"#mc6a42a2c4e\" y=\"158.87112\"/>\n     <use style=\"fill:#1f77b4;stroke:#1f77b4;\" x=\"100.855398\" xlink:href=\"#mc6a42a2c4e\" y=\"214.227569\"/>\n     <use style=\"fill:#1f77b4;stroke:#1f77b4;\" x=\"329.128125\" xlink:href=\"#mc6a42a2c4e\" y=\"41.689534\"/>\n     <use style=\"fill:#1f77b4;stroke:#1f77b4;\" x=\"162.219034\" xlink:href=\"#mc6a42a2c4e\" y=\"211.417764\"/>\n     <use style=\"fill:#1f77b4;stroke:#1f77b4;\" x=\"152.400852\" xlink:href=\"#mc6a42a2c4e\" y=\"195.886402\"/>\n     <use style=\"fill:#1f77b4;stroke:#1f77b4;\" x=\"122.946307\" xlink:href=\"#mc6a42a2c4e\" y=\"207.904605\"/>\n     <use style=\"fill:#1f77b4;stroke:#1f77b4;\" x=\"172.037216\" xlink:href=\"#mc6a42a2c4e\" y=\"149.53497\"/>\n     <use style=\"fill:#1f77b4;stroke:#1f77b4;\" x=\"277.58267\" xlink:href=\"#mc6a42a2c4e\" y=\"84.179513\"/>\n     <use style=\"fill:#1f77b4;stroke:#1f77b4;\" x=\"211.309943\" xlink:href=\"#mc6a42a2c4e\" y=\"183.796891\"/>\n     <use style=\"fill:#1f77b4;stroke:#1f77b4;\" x=\"68.946307\" xlink:href=\"#mc6a42a2c4e\" y=\"212.404708\"/>\n     <use style=\"fill:#1f77b4;stroke:#1f77b4;\" x=\"211.309943\" xlink:href=\"#mc6a42a2c4e\" y=\"189.689485\"/>\n     <use style=\"fill:#1f77b4;stroke:#1f77b4;\" x=\"353.67358\" xlink:href=\"#mc6a42a2c4e\" y=\"54.652562\"/>\n     <use style=\"fill:#1f77b4;stroke:#1f77b4;\" x=\"260.400852\" xlink:href=\"#mc6a42a2c4e\" y=\"146.434164\"/>\n     <use style=\"fill:#1f77b4;stroke:#1f77b4;\" x=\"334.037216\" xlink:href=\"#mc6a42a2c4e\" y=\"53.239366\"/>\n     <use style=\"fill:#1f77b4;stroke:#1f77b4;\" x=\"253.037216\" xlink:href=\"#mc6a42a2c4e\" y=\"71.83362\"/>\n     <use style=\"fill:#1f77b4;stroke:#1f77b4;\" x=\"181.855398\" xlink:href=\"#mc6a42a2c4e\" y=\"177.922249\"/>\n     <use style=\"fill:#1f77b4;stroke:#1f77b4;\" x=\"304.58267\" xlink:href=\"#mc6a42a2c4e\" y=\"126.071202\"/>\n     <use style=\"fill:#1f77b4;stroke:#1f77b4;\" x=\"206.400852\" xlink:href=\"#mc6a42a2c4e\" y=\"196.753408\"/>\n     <use style=\"fill:#1f77b4;stroke:#1f77b4;\" x=\"115.58267\" xlink:href=\"#mc6a42a2c4e\" y=\"194.331407\"/>\n     <use style=\"fill:#1f77b4;stroke:#1f77b4;\" x=\"216.219034\" xlink:href=\"#mc6a42a2c4e\" y=\"186.897611\"/>\n     <use style=\"fill:#1f77b4;stroke:#1f77b4;\" x=\"334.037216\" xlink:href=\"#mc6a42a2c4e\" y=\"41.335939\"/>\n     <use style=\"fill:#1f77b4;stroke:#1f77b4;\" x=\"240.764489\" xlink:href=\"#mc6a42a2c4e\" y=\"184.765903\"/>\n     <use style=\"fill:#1f77b4;stroke:#1f77b4;\" x=\"98.400852\" xlink:href=\"#mc6a42a2c4e\" y=\"194.119012\"/>\n     <use style=\"fill:#1f77b4;stroke:#1f77b4;\" x=\"157.309943\" xlink:href=\"#mc6a42a2c4e\" y=\"203.236402\"/>\n     <use style=\"fill:#1f77b4;stroke:#1f77b4;\" x=\"132.764489\" xlink:href=\"#mc6a42a2c4e\" y=\"189.108597\"/>\n     <use style=\"fill:#1f77b4;stroke:#1f77b4;\" x=\"294.764489\" xlink:href=\"#mc6a42a2c4e\" y=\"47.465896\"/>\n     <use style=\"fill:#1f77b4;stroke:#1f77b4;\" x=\"304.58267\" xlink:href=\"#mc6a42a2c4e\" y=\"60.325287\"/>\n     <use style=\"fill:#1f77b4;stroke:#1f77b4;\" x=\"169.58267\" xlink:href=\"#mc6a42a2c4e\" y=\"184.554931\"/>\n     <use style=\"fill:#1f77b4;stroke:#1f77b4;\" x=\"373.309943\" xlink:href=\"#mc6a42a2c4e\" y=\"93.274387\"/>\n     <use style=\"fill:#1f77b4;stroke:#1f77b4;\" x=\"137.67358\" xlink:href=\"#mc6a42a2c4e\" y=\"205.594693\"/>\n     <use style=\"fill:#1f77b4;stroke:#1f77b4;\" x=\"304.58267\" xlink:href=\"#mc6a42a2c4e\" y=\"62.103036\"/>\n     <use style=\"fill:#1f77b4;stroke:#1f77b4;\" x=\"226.037216\" xlink:href=\"#mc6a42a2c4e\" y=\"101.089056\"/>\n     <use style=\"fill:#1f77b4;stroke:#1f77b4;\" x=\"132.764489\" xlink:href=\"#mc6a42a2c4e\" y=\"168.384092\"/>\n     <use style=\"fill:#1f77b4;stroke:#1f77b4;\" x=\"221.128125\" xlink:href=\"#mc6a42a2c4e\" y=\"60.919858\"/>\n     <use style=\"fill:#1f77b4;stroke:#1f77b4;\" x=\"314.400852\" xlink:href=\"#mc6a42a2c4e\" y=\"98.102402\"/>\n     <use style=\"fill:#1f77b4;stroke:#1f77b4;\" x=\"221.128125\" xlink:href=\"#mc6a42a2c4e\" y=\"71.848477\"/>\n     <use style=\"fill:#1f77b4;stroke:#1f77b4;\" x=\"132.764489\" xlink:href=\"#mc6a42a2c4e\" y=\"188.932226\"/>\n     <use style=\"fill:#1f77b4;stroke:#1f77b4;\" x=\"243.219034\" xlink:href=\"#mc6a42a2c4e\" y=\"61.083658\"/>\n     <use style=\"fill:#1f77b4;stroke:#1f77b4;\" x=\"162.219034\" xlink:href=\"#mc6a42a2c4e\" y=\"170.057014\"/>\n     <use style=\"fill:#1f77b4;stroke:#1f77b4;\" x=\"162.219034\" xlink:href=\"#mc6a42a2c4e\" y=\"206.327107\"/>\n     <use style=\"fill:#1f77b4;stroke:#1f77b4;\" x=\"162.219034\" xlink:href=\"#mc6a42a2c4e\" y=\"171.24491\"/>\n     <use style=\"fill:#1f77b4;stroke:#1f77b4;\" x=\"93.491761\" xlink:href=\"#mc6a42a2c4e\" y=\"191.671386\"/>\n     <use style=\"fill:#1f77b4;stroke:#1f77b4;\" x=\"181.855398\" xlink:href=\"#mc6a42a2c4e\" y=\"164.570276\"/>\n     <use style=\"fill:#1f77b4;stroke:#1f77b4;\" x=\"272.67358\" xlink:href=\"#mc6a42a2c4e\" y=\"49.102319\"/>\n     <use style=\"fill:#1f77b4;stroke:#1f77b4;\" x=\"127.855398\" xlink:href=\"#mc6a42a2c4e\" y=\"198.850173\"/>\n     <use style=\"fill:#1f77b4;stroke:#1f77b4;\" x=\"240.764489\" xlink:href=\"#mc6a42a2c4e\" y=\"73.135472\"/>\n     <use style=\"fill:#1f77b4;stroke:#1f77b4;\" x=\"132.764489\" xlink:href=\"#mc6a42a2c4e\" y=\"194.68277\"/>\n     <use style=\"fill:#1f77b4;stroke:#1f77b4;\" x=\"176.946307\" xlink:href=\"#mc6a42a2c4e\" y=\"186.262608\"/>\n     <use style=\"fill:#1f77b4;stroke:#1f77b4;\" x=\"206.400852\" xlink:href=\"#mc6a42a2c4e\" y=\"186.34239\"/>\n     <use style=\"fill:#1f77b4;stroke:#1f77b4;\" x=\"363.491761\" xlink:href=\"#mc6a42a2c4e\" y=\"17.083636\"/>\n     <use style=\"fill:#1f77b4;stroke:#1f77b4;\" x=\"196.58267\" xlink:href=\"#mc6a42a2c4e\" y=\"148.82118\"/>\n     <use style=\"fill:#1f77b4;stroke:#1f77b4;\" x=\"118.037216\" xlink:href=\"#mc6a42a2c4e\" y=\"208.105268\"/>\n     <use style=\"fill:#1f77b4;stroke:#1f77b4;\" x=\"348.764489\" xlink:href=\"#mc6a42a2c4e\" y=\"56.196126\"/>\n    </g>\n   </g>\n   <g id=\"matplotlib.axis_1\">\n    <g id=\"xtick_1\">\n     <g id=\"line2d_1\">\n      <defs>\n       <path d=\"M 0 0 \nL 0 3.5 \n\" id=\"m0af348719b\" style=\"stroke:#000000;stroke-width:0.8;\"/>\n      </defs>\n      <g>\n       <use style=\"stroke:#000000;stroke-width:0.8;\" x=\"83.67358\" xlink:href=\"#m0af348719b\" y=\"224.64\"/>\n      </g>\n     </g>\n     <g id=\"text_1\">\n      <!-- 3000 -->\n      <defs>\n       <path d=\"M 40.578125 39.3125 \nQ 47.65625 37.796875 51.625 33 \nQ 55.609375 28.21875 55.609375 21.1875 \nQ 55.609375 10.40625 48.1875 4.484375 \nQ 40.765625 -1.421875 27.09375 -1.421875 \nQ 22.515625 -1.421875 17.65625 -0.515625 \nQ 12.796875 0.390625 7.625 2.203125 \nL 7.625 11.71875 \nQ 11.71875 9.328125 16.59375 8.109375 \nQ 21.484375 6.890625 26.8125 6.890625 \nQ 36.078125 6.890625 40.9375 10.546875 \nQ 45.796875 14.203125 45.796875 21.1875 \nQ 45.796875 27.640625 41.28125 31.265625 \nQ 36.765625 34.90625 28.71875 34.90625 \nL 20.21875 34.90625 \nL 20.21875 43.015625 \nL 29.109375 43.015625 \nQ 36.375 43.015625 40.234375 45.921875 \nQ 44.09375 48.828125 44.09375 54.296875 \nQ 44.09375 59.90625 40.109375 62.90625 \nQ 36.140625 65.921875 28.71875 65.921875 \nQ 24.65625 65.921875 20.015625 65.03125 \nQ 15.375 64.15625 9.8125 62.3125 \nL 9.8125 71.09375 \nQ 15.4375 72.65625 20.34375 73.4375 \nQ 25.25 74.21875 29.59375 74.21875 \nQ 40.828125 74.21875 47.359375 69.109375 \nQ 53.90625 64.015625 53.90625 55.328125 \nQ 53.90625 49.265625 50.4375 45.09375 \nQ 46.96875 40.921875 40.578125 39.3125 \nz\n\" id=\"DejaVuSans-51\"/>\n       <path d=\"M 31.78125 66.40625 \nQ 24.171875 66.40625 20.328125 58.90625 \nQ 16.5 51.421875 16.5 36.375 \nQ 16.5 21.390625 20.328125 13.890625 \nQ 24.171875 6.390625 31.78125 6.390625 \nQ 39.453125 6.390625 43.28125 13.890625 \nQ 47.125 21.390625 47.125 36.375 \nQ 47.125 51.421875 43.28125 58.90625 \nQ 39.453125 66.40625 31.78125 66.40625 \nz\nM 31.78125 74.21875 \nQ 44.046875 74.21875 50.515625 64.515625 \nQ 56.984375 54.828125 56.984375 36.375 \nQ 56.984375 17.96875 50.515625 8.265625 \nQ 44.046875 -1.421875 31.78125 -1.421875 \nQ 19.53125 -1.421875 13.0625 8.265625 \nQ 6.59375 17.96875 6.59375 36.375 \nQ 6.59375 54.828125 13.0625 64.515625 \nQ 19.53125 74.21875 31.78125 74.21875 \nz\n\" id=\"DejaVuSans-48\"/>\n      </defs>\n      <g transform=\"translate(70.94858 239.238438)scale(0.1 -0.1)\">\n       <use xlink:href=\"#DejaVuSans-51\"/>\n       <use x=\"63.623047\" xlink:href=\"#DejaVuSans-48\"/>\n       <use x=\"127.246094\" xlink:href=\"#DejaVuSans-48\"/>\n       <use x=\"190.869141\" xlink:href=\"#DejaVuSans-48\"/>\n      </g>\n     </g>\n    </g>\n    <g id=\"xtick_2\">\n     <g id=\"line2d_2\">\n      <g>\n       <use style=\"stroke:#000000;stroke-width:0.8;\" x=\"132.764489\" xlink:href=\"#m0af348719b\" y=\"224.64\"/>\n      </g>\n     </g>\n     <g id=\"text_2\">\n      <!-- 3500 -->\n      <defs>\n       <path d=\"M 10.796875 72.90625 \nL 49.515625 72.90625 \nL 49.515625 64.59375 \nL 19.828125 64.59375 \nL 19.828125 46.734375 \nQ 21.96875 47.46875 24.109375 47.828125 \nQ 26.265625 48.1875 28.421875 48.1875 \nQ 40.625 48.1875 47.75 41.5 \nQ 54.890625 34.8125 54.890625 23.390625 \nQ 54.890625 11.625 47.5625 5.09375 \nQ 40.234375 -1.421875 26.90625 -1.421875 \nQ 22.3125 -1.421875 17.546875 -0.640625 \nQ 12.796875 0.140625 7.71875 1.703125 \nL 7.71875 11.625 \nQ 12.109375 9.234375 16.796875 8.0625 \nQ 21.484375 6.890625 26.703125 6.890625 \nQ 35.15625 6.890625 40.078125 11.328125 \nQ 45.015625 15.765625 45.015625 23.390625 \nQ 45.015625 31 40.078125 35.4375 \nQ 35.15625 39.890625 26.703125 39.890625 \nQ 22.75 39.890625 18.8125 39.015625 \nQ 14.890625 38.140625 10.796875 36.28125 \nz\n\" id=\"DejaVuSans-53\"/>\n      </defs>\n      <g transform=\"translate(120.039489 239.238438)scale(0.1 -0.1)\">\n       <use xlink:href=\"#DejaVuSans-51\"/>\n       <use x=\"63.623047\" xlink:href=\"#DejaVuSans-53\"/>\n       <use x=\"127.246094\" xlink:href=\"#DejaVuSans-48\"/>\n       <use x=\"190.869141\" xlink:href=\"#DejaVuSans-48\"/>\n      </g>\n     </g>\n    </g>\n    <g id=\"xtick_3\">\n     <g id=\"line2d_3\">\n      <g>\n       <use style=\"stroke:#000000;stroke-width:0.8;\" x=\"181.855398\" xlink:href=\"#m0af348719b\" y=\"224.64\"/>\n      </g>\n     </g>\n     <g id=\"text_3\">\n      <!-- 4000 -->\n      <defs>\n       <path d=\"M 37.796875 64.3125 \nL 12.890625 25.390625 \nL 37.796875 25.390625 \nz\nM 35.203125 72.90625 \nL 47.609375 72.90625 \nL 47.609375 25.390625 \nL 58.015625 25.390625 \nL 58.015625 17.1875 \nL 47.609375 17.1875 \nL 47.609375 0 \nL 37.796875 0 \nL 37.796875 17.1875 \nL 4.890625 17.1875 \nL 4.890625 26.703125 \nz\n\" id=\"DejaVuSans-52\"/>\n      </defs>\n      <g transform=\"translate(169.130398 239.238438)scale(0.1 -0.1)\">\n       <use xlink:href=\"#DejaVuSans-52\"/>\n       <use x=\"63.623047\" xlink:href=\"#DejaVuSans-48\"/>\n       <use x=\"127.246094\" xlink:href=\"#DejaVuSans-48\"/>\n       <use x=\"190.869141\" xlink:href=\"#DejaVuSans-48\"/>\n      </g>\n     </g>\n    </g>\n    <g id=\"xtick_4\">\n     <g id=\"line2d_4\">\n      <g>\n       <use style=\"stroke:#000000;stroke-width:0.8;\" x=\"230.946307\" xlink:href=\"#m0af348719b\" y=\"224.64\"/>\n      </g>\n     </g>\n     <g id=\"text_4\">\n      <!-- 4500 -->\n      <g transform=\"translate(218.221307 239.238438)scale(0.1 -0.1)\">\n       <use xlink:href=\"#DejaVuSans-52\"/>\n       <use x=\"63.623047\" xlink:href=\"#DejaVuSans-53\"/>\n       <use x=\"127.246094\" xlink:href=\"#DejaVuSans-48\"/>\n       <use x=\"190.869141\" xlink:href=\"#DejaVuSans-48\"/>\n      </g>\n     </g>\n    </g>\n    <g id=\"xtick_5\">\n     <g id=\"line2d_5\">\n      <g>\n       <use style=\"stroke:#000000;stroke-width:0.8;\" x=\"280.037216\" xlink:href=\"#m0af348719b\" y=\"224.64\"/>\n      </g>\n     </g>\n     <g id=\"text_5\">\n      <!-- 5000 -->\n      <g transform=\"translate(267.312216 239.238438)scale(0.1 -0.1)\">\n       <use xlink:href=\"#DejaVuSans-53\"/>\n       <use x=\"63.623047\" xlink:href=\"#DejaVuSans-48\"/>\n       <use x=\"127.246094\" xlink:href=\"#DejaVuSans-48\"/>\n       <use x=\"190.869141\" xlink:href=\"#DejaVuSans-48\"/>\n      </g>\n     </g>\n    </g>\n    <g id=\"xtick_6\">\n     <g id=\"line2d_6\">\n      <g>\n       <use style=\"stroke:#000000;stroke-width:0.8;\" x=\"329.128125\" xlink:href=\"#m0af348719b\" y=\"224.64\"/>\n      </g>\n     </g>\n     <g id=\"text_6\">\n      <!-- 5500 -->\n      <g transform=\"translate(316.403125 239.238438)scale(0.1 -0.1)\">\n       <use xlink:href=\"#DejaVuSans-53\"/>\n       <use x=\"63.623047\" xlink:href=\"#DejaVuSans-53\"/>\n       <use x=\"127.246094\" xlink:href=\"#DejaVuSans-48\"/>\n       <use x=\"190.869141\" xlink:href=\"#DejaVuSans-48\"/>\n      </g>\n     </g>\n    </g>\n    <g id=\"xtick_7\">\n     <g id=\"line2d_7\">\n      <g>\n       <use style=\"stroke:#000000;stroke-width:0.8;\" x=\"378.219034\" xlink:href=\"#m0af348719b\" y=\"224.64\"/>\n      </g>\n     </g>\n     <g id=\"text_7\">\n      <!-- 6000 -->\n      <defs>\n       <path d=\"M 33.015625 40.375 \nQ 26.375 40.375 22.484375 35.828125 \nQ 18.609375 31.296875 18.609375 23.390625 \nQ 18.609375 15.53125 22.484375 10.953125 \nQ 26.375 6.390625 33.015625 6.390625 \nQ 39.65625 6.390625 43.53125 10.953125 \nQ 47.40625 15.53125 47.40625 23.390625 \nQ 47.40625 31.296875 43.53125 35.828125 \nQ 39.65625 40.375 33.015625 40.375 \nz\nM 52.59375 71.296875 \nL 52.59375 62.3125 \nQ 48.875 64.0625 45.09375 64.984375 \nQ 41.3125 65.921875 37.59375 65.921875 \nQ 27.828125 65.921875 22.671875 59.328125 \nQ 17.53125 52.734375 16.796875 39.40625 \nQ 19.671875 43.65625 24.015625 45.921875 \nQ 28.375 48.1875 33.59375 48.1875 \nQ 44.578125 48.1875 50.953125 41.515625 \nQ 57.328125 34.859375 57.328125 23.390625 \nQ 57.328125 12.15625 50.6875 5.359375 \nQ 44.046875 -1.421875 33.015625 -1.421875 \nQ 20.359375 -1.421875 13.671875 8.265625 \nQ 6.984375 17.96875 6.984375 36.375 \nQ 6.984375 53.65625 15.1875 63.9375 \nQ 23.390625 74.21875 37.203125 74.21875 \nQ 40.921875 74.21875 44.703125 73.484375 \nQ 48.484375 72.75 52.59375 71.296875 \nz\n\" id=\"DejaVuSans-54\"/>\n      </defs>\n      <g transform=\"translate(365.494034 239.238438)scale(0.1 -0.1)\">\n       <use xlink:href=\"#DejaVuSans-54\"/>\n       <use x=\"63.623047\" xlink:href=\"#DejaVuSans-48\"/>\n       <use x=\"127.246094\" xlink:href=\"#DejaVuSans-48\"/>\n       <use x=\"190.869141\" xlink:href=\"#DejaVuSans-48\"/>\n      </g>\n     </g>\n    </g>\n    <g id=\"text_8\">\n     <!-- Poids réel (g) -->\n     <defs>\n      <path d=\"M 19.671875 64.796875 \nL 19.671875 37.40625 \nL 32.078125 37.40625 \nQ 38.96875 37.40625 42.71875 40.96875 \nQ 46.484375 44.53125 46.484375 51.125 \nQ 46.484375 57.671875 42.71875 61.234375 \nQ 38.96875 64.796875 32.078125 64.796875 \nz\nM 9.8125 72.90625 \nL 32.078125 72.90625 \nQ 44.34375 72.90625 50.609375 67.359375 \nQ 56.890625 61.8125 56.890625 51.125 \nQ 56.890625 40.328125 50.609375 34.8125 \nQ 44.34375 29.296875 32.078125 29.296875 \nL 19.671875 29.296875 \nL 19.671875 0 \nL 9.8125 0 \nz\n\" id=\"DejaVuSans-80\"/>\n      <path d=\"M 30.609375 48.390625 \nQ 23.390625 48.390625 19.1875 42.75 \nQ 14.984375 37.109375 14.984375 27.296875 \nQ 14.984375 17.484375 19.15625 11.84375 \nQ 23.34375 6.203125 30.609375 6.203125 \nQ 37.796875 6.203125 41.984375 11.859375 \nQ 46.1875 17.53125 46.1875 27.296875 \nQ 46.1875 37.015625 41.984375 42.703125 \nQ 37.796875 48.390625 30.609375 48.390625 \nz\nM 30.609375 56 \nQ 42.328125 56 49.015625 48.375 \nQ 55.71875 40.765625 55.71875 27.296875 \nQ 55.71875 13.875 49.015625 6.21875 \nQ 42.328125 -1.421875 30.609375 -1.421875 \nQ 18.84375 -1.421875 12.171875 6.21875 \nQ 5.515625 13.875 5.515625 27.296875 \nQ 5.515625 40.765625 12.171875 48.375 \nQ 18.84375 56 30.609375 56 \nz\n\" id=\"DejaVuSans-111\"/>\n      <path d=\"M 9.421875 54.6875 \nL 18.40625 54.6875 \nL 18.40625 0 \nL 9.421875 0 \nz\nM 9.421875 75.984375 \nL 18.40625 75.984375 \nL 18.40625 64.59375 \nL 9.421875 64.59375 \nz\n\" id=\"DejaVuSans-105\"/>\n      <path d=\"M 45.40625 46.390625 \nL 45.40625 75.984375 \nL 54.390625 75.984375 \nL 54.390625 0 \nL 45.40625 0 \nL 45.40625 8.203125 \nQ 42.578125 3.328125 38.25 0.953125 \nQ 33.9375 -1.421875 27.875 -1.421875 \nQ 17.96875 -1.421875 11.734375 6.484375 \nQ 5.515625 14.40625 5.515625 27.296875 \nQ 5.515625 40.1875 11.734375 48.09375 \nQ 17.96875 56 27.875 56 \nQ 33.9375 56 38.25 53.625 \nQ 42.578125 51.265625 45.40625 46.390625 \nz\nM 14.796875 27.296875 \nQ 14.796875 17.390625 18.875 11.75 \nQ 22.953125 6.109375 30.078125 6.109375 \nQ 37.203125 6.109375 41.296875 11.75 \nQ 45.40625 17.390625 45.40625 27.296875 \nQ 45.40625 37.203125 41.296875 42.84375 \nQ 37.203125 48.484375 30.078125 48.484375 \nQ 22.953125 48.484375 18.875 42.84375 \nQ 14.796875 37.203125 14.796875 27.296875 \nz\n\" id=\"DejaVuSans-100\"/>\n      <path d=\"M 44.28125 53.078125 \nL 44.28125 44.578125 \nQ 40.484375 46.53125 36.375 47.5 \nQ 32.28125 48.484375 27.875 48.484375 \nQ 21.1875 48.484375 17.84375 46.4375 \nQ 14.5 44.390625 14.5 40.28125 \nQ 14.5 37.15625 16.890625 35.375 \nQ 19.28125 33.59375 26.515625 31.984375 \nL 29.59375 31.296875 \nQ 39.15625 29.25 43.1875 25.515625 \nQ 47.21875 21.78125 47.21875 15.09375 \nQ 47.21875 7.46875 41.1875 3.015625 \nQ 35.15625 -1.421875 24.609375 -1.421875 \nQ 20.21875 -1.421875 15.453125 -0.5625 \nQ 10.6875 0.296875 5.421875 2 \nL 5.421875 11.28125 \nQ 10.40625 8.6875 15.234375 7.390625 \nQ 20.0625 6.109375 24.8125 6.109375 \nQ 31.15625 6.109375 34.5625 8.28125 \nQ 37.984375 10.453125 37.984375 14.40625 \nQ 37.984375 18.0625 35.515625 20.015625 \nQ 33.0625 21.96875 24.703125 23.78125 \nL 21.578125 24.515625 \nQ 13.234375 26.265625 9.515625 29.90625 \nQ 5.8125 33.546875 5.8125 39.890625 \nQ 5.8125 47.609375 11.28125 51.796875 \nQ 16.75 56 26.8125 56 \nQ 31.78125 56 36.171875 55.265625 \nQ 40.578125 54.546875 44.28125 53.078125 \nz\n\" id=\"DejaVuSans-115\"/>\n      <path id=\"DejaVuSans-32\"/>\n      <path d=\"M 41.109375 46.296875 \nQ 39.59375 47.171875 37.8125 47.578125 \nQ 36.03125 48 33.890625 48 \nQ 26.265625 48 22.1875 43.046875 \nQ 18.109375 38.09375 18.109375 28.8125 \nL 18.109375 0 \nL 9.078125 0 \nL 9.078125 54.6875 \nL 18.109375 54.6875 \nL 18.109375 46.1875 \nQ 20.953125 51.171875 25.484375 53.578125 \nQ 30.03125 56 36.53125 56 \nQ 37.453125 56 38.578125 55.875 \nQ 39.703125 55.765625 41.0625 55.515625 \nz\n\" id=\"DejaVuSans-114\"/>\n      <path d=\"M 56.203125 29.59375 \nL 56.203125 25.203125 \nL 14.890625 25.203125 \nQ 15.484375 15.921875 20.484375 11.0625 \nQ 25.484375 6.203125 34.421875 6.203125 \nQ 39.59375 6.203125 44.453125 7.46875 \nQ 49.3125 8.734375 54.109375 11.28125 \nL 54.109375 2.78125 \nQ 49.265625 0.734375 44.1875 -0.34375 \nQ 39.109375 -1.421875 33.890625 -1.421875 \nQ 20.796875 -1.421875 13.15625 6.1875 \nQ 5.515625 13.8125 5.515625 26.8125 \nQ 5.515625 40.234375 12.765625 48.109375 \nQ 20.015625 56 32.328125 56 \nQ 43.359375 56 49.78125 48.890625 \nQ 56.203125 41.796875 56.203125 29.59375 \nz\nM 47.21875 32.234375 \nQ 47.125 39.59375 43.09375 43.984375 \nQ 39.0625 48.390625 32.421875 48.390625 \nQ 24.90625 48.390625 20.390625 44.140625 \nQ 15.875 39.890625 15.1875 32.171875 \nz\nM 38.53125 79.984375 \nL 48.25 79.984375 \nL 32.34375 61.625 \nL 24.859375 61.625 \nz\n\" id=\"DejaVuSans-233\"/>\n      <path d=\"M 56.203125 29.59375 \nL 56.203125 25.203125 \nL 14.890625 25.203125 \nQ 15.484375 15.921875 20.484375 11.0625 \nQ 25.484375 6.203125 34.421875 6.203125 \nQ 39.59375 6.203125 44.453125 7.46875 \nQ 49.3125 8.734375 54.109375 11.28125 \nL 54.109375 2.78125 \nQ 49.265625 0.734375 44.1875 -0.34375 \nQ 39.109375 -1.421875 33.890625 -1.421875 \nQ 20.796875 -1.421875 13.15625 6.1875 \nQ 5.515625 13.8125 5.515625 26.8125 \nQ 5.515625 40.234375 12.765625 48.109375 \nQ 20.015625 56 32.328125 56 \nQ 43.359375 56 49.78125 48.890625 \nQ 56.203125 41.796875 56.203125 29.59375 \nz\nM 47.21875 32.234375 \nQ 47.125 39.59375 43.09375 43.984375 \nQ 39.0625 48.390625 32.421875 48.390625 \nQ 24.90625 48.390625 20.390625 44.140625 \nQ 15.875 39.890625 15.1875 32.171875 \nz\n\" id=\"DejaVuSans-101\"/>\n      <path d=\"M 9.421875 75.984375 \nL 18.40625 75.984375 \nL 18.40625 0 \nL 9.421875 0 \nz\n\" id=\"DejaVuSans-108\"/>\n      <path d=\"M 31 75.875 \nQ 24.46875 64.65625 21.28125 53.65625 \nQ 18.109375 42.671875 18.109375 31.390625 \nQ 18.109375 20.125 21.3125 9.0625 \nQ 24.515625 -2 31 -13.1875 \nL 23.1875 -13.1875 \nQ 15.875 -1.703125 12.234375 9.375 \nQ 8.59375 20.453125 8.59375 31.390625 \nQ 8.59375 42.28125 12.203125 53.3125 \nQ 15.828125 64.359375 23.1875 75.875 \nz\n\" id=\"DejaVuSans-40\"/>\n      <path d=\"M 45.40625 27.984375 \nQ 45.40625 37.75 41.375 43.109375 \nQ 37.359375 48.484375 30.078125 48.484375 \nQ 22.859375 48.484375 18.828125 43.109375 \nQ 14.796875 37.75 14.796875 27.984375 \nQ 14.796875 18.265625 18.828125 12.890625 \nQ 22.859375 7.515625 30.078125 7.515625 \nQ 37.359375 7.515625 41.375 12.890625 \nQ 45.40625 18.265625 45.40625 27.984375 \nz\nM 54.390625 6.78125 \nQ 54.390625 -7.171875 48.1875 -13.984375 \nQ 42 -20.796875 29.203125 -20.796875 \nQ 24.46875 -20.796875 20.265625 -20.09375 \nQ 16.0625 -19.390625 12.109375 -17.921875 \nL 12.109375 -9.1875 \nQ 16.0625 -11.328125 19.921875 -12.34375 \nQ 23.78125 -13.375 27.78125 -13.375 \nQ 36.625 -13.375 41.015625 -8.765625 \nQ 45.40625 -4.15625 45.40625 5.171875 \nL 45.40625 9.625 \nQ 42.625 4.78125 38.28125 2.390625 \nQ 33.9375 0 27.875 0 \nQ 17.828125 0 11.671875 7.65625 \nQ 5.515625 15.328125 5.515625 27.984375 \nQ 5.515625 40.671875 11.671875 48.328125 \nQ 17.828125 56 27.875 56 \nQ 33.9375 56 38.28125 53.609375 \nQ 42.625 51.21875 45.40625 46.390625 \nL 45.40625 54.6875 \nL 54.390625 54.6875 \nz\n\" id=\"DejaVuSans-103\"/>\n      <path d=\"M 8.015625 75.875 \nL 15.828125 75.875 \nQ 23.140625 64.359375 26.78125 53.3125 \nQ 30.421875 42.28125 30.421875 31.390625 \nQ 30.421875 20.453125 26.78125 9.375 \nQ 23.140625 -1.703125 15.828125 -13.1875 \nL 8.015625 -13.1875 \nQ 14.5 -2 17.703125 9.0625 \nQ 20.90625 20.125 20.90625 31.390625 \nQ 20.90625 42.671875 17.703125 53.65625 \nQ 14.5 64.65625 8.015625 75.875 \nz\n\" id=\"DejaVuSans-41\"/>\n     </defs>\n     <g transform=\"translate(188.328125 253.316563)scale(0.1 -0.1)\">\n      <use xlink:href=\"#DejaVuSans-80\"/>\n      <use x=\"56.677734\" xlink:href=\"#DejaVuSans-111\"/>\n      <use x=\"117.859375\" xlink:href=\"#DejaVuSans-105\"/>\n      <use x=\"145.642578\" xlink:href=\"#DejaVuSans-100\"/>\n      <use x=\"209.119141\" xlink:href=\"#DejaVuSans-115\"/>\n      <use x=\"261.21875\" xlink:href=\"#DejaVuSans-32\"/>\n      <use x=\"293.005859\" xlink:href=\"#DejaVuSans-114\"/>\n      <use x=\"331.869141\" xlink:href=\"#DejaVuSans-233\"/>\n      <use x=\"393.392578\" xlink:href=\"#DejaVuSans-101\"/>\n      <use x=\"454.916016\" xlink:href=\"#DejaVuSans-108\"/>\n      <use x=\"482.699219\" xlink:href=\"#DejaVuSans-32\"/>\n      <use x=\"514.486328\" xlink:href=\"#DejaVuSans-40\"/>\n      <use x=\"553.5\" xlink:href=\"#DejaVuSans-103\"/>\n      <use x=\"616.976562\" xlink:href=\"#DejaVuSans-41\"/>\n     </g>\n    </g>\n   </g>\n   <g id=\"matplotlib.axis_2\">\n    <g id=\"ytick_1\">\n     <g id=\"line2d_8\">\n      <defs>\n       <path d=\"M 0 0 \nL -3.5 0 \n\" id=\"m1ec23c219c\" style=\"stroke:#000000;stroke-width:0.8;\"/>\n      </defs>\n      <g>\n       <use style=\"stroke:#000000;stroke-width:0.8;\" x=\"53.728125\" xlink:href=\"#m1ec23c219c\" y=\"207.561713\"/>\n      </g>\n     </g>\n     <g id=\"text_9\">\n      <!-- 3500 -->\n      <g transform=\"translate(21.278125 211.360932)scale(0.1 -0.1)\">\n       <use xlink:href=\"#DejaVuSans-51\"/>\n       <use x=\"63.623047\" xlink:href=\"#DejaVuSans-53\"/>\n       <use x=\"127.246094\" xlink:href=\"#DejaVuSans-48\"/>\n       <use x=\"190.869141\" xlink:href=\"#DejaVuSans-48\"/>\n      </g>\n     </g>\n    </g>\n    <g id=\"ytick_2\">\n     <g id=\"line2d_9\">\n      <g>\n       <use style=\"stroke:#000000;stroke-width:0.8;\" x=\"53.728125\" xlink:href=\"#m1ec23c219c\" y=\"161.219745\"/>\n      </g>\n     </g>\n     <g id=\"text_10\">\n      <!-- 4000 -->\n      <g transform=\"translate(21.278125 165.018963)scale(0.1 -0.1)\">\n       <use xlink:href=\"#DejaVuSans-52\"/>\n       <use x=\"63.623047\" xlink:href=\"#DejaVuSans-48\"/>\n       <use x=\"127.246094\" xlink:href=\"#DejaVuSans-48\"/>\n       <use x=\"190.869141\" xlink:href=\"#DejaVuSans-48\"/>\n      </g>\n     </g>\n    </g>\n    <g id=\"ytick_3\">\n     <g id=\"line2d_10\">\n      <g>\n       <use style=\"stroke:#000000;stroke-width:0.8;\" x=\"53.728125\" xlink:href=\"#m1ec23c219c\" y=\"114.877776\"/>\n      </g>\n     </g>\n     <g id=\"text_11\">\n      <!-- 4500 -->\n      <g transform=\"translate(21.278125 118.676995)scale(0.1 -0.1)\">\n       <use xlink:href=\"#DejaVuSans-52\"/>\n       <use x=\"63.623047\" xlink:href=\"#DejaVuSans-53\"/>\n       <use x=\"127.246094\" xlink:href=\"#DejaVuSans-48\"/>\n       <use x=\"190.869141\" xlink:href=\"#DejaVuSans-48\"/>\n      </g>\n     </g>\n    </g>\n    <g id=\"ytick_4\">\n     <g id=\"line2d_11\">\n      <g>\n       <use style=\"stroke:#000000;stroke-width:0.8;\" x=\"53.728125\" xlink:href=\"#m1ec23c219c\" y=\"68.535807\"/>\n      </g>\n     </g>\n     <g id=\"text_12\">\n      <!-- 5000 -->\n      <g transform=\"translate(21.278125 72.335026)scale(0.1 -0.1)\">\n       <use xlink:href=\"#DejaVuSans-53\"/>\n       <use x=\"63.623047\" xlink:href=\"#DejaVuSans-48\"/>\n       <use x=\"127.246094\" xlink:href=\"#DejaVuSans-48\"/>\n       <use x=\"190.869141\" xlink:href=\"#DejaVuSans-48\"/>\n      </g>\n     </g>\n    </g>\n    <g id=\"ytick_5\">\n     <g id=\"line2d_12\">\n      <g>\n       <use style=\"stroke:#000000;stroke-width:0.8;\" x=\"53.728125\" xlink:href=\"#m1ec23c219c\" y=\"22.193838\"/>\n      </g>\n     </g>\n     <g id=\"text_13\">\n      <!-- 5500 -->\n      <g transform=\"translate(21.278125 25.993057)scale(0.1 -0.1)\">\n       <use xlink:href=\"#DejaVuSans-53\"/>\n       <use x=\"63.623047\" xlink:href=\"#DejaVuSans-53\"/>\n       <use x=\"127.246094\" xlink:href=\"#DejaVuSans-48\"/>\n       <use x=\"190.869141\" xlink:href=\"#DejaVuSans-48\"/>\n      </g>\n     </g>\n    </g>\n    <g id=\"text_14\">\n     <!-- Poids prédit (g) -->\n     <defs>\n      <path d=\"M 18.109375 8.203125 \nL 18.109375 -20.796875 \nL 9.078125 -20.796875 \nL 9.078125 54.6875 \nL 18.109375 54.6875 \nL 18.109375 46.390625 \nQ 20.953125 51.265625 25.265625 53.625 \nQ 29.59375 56 35.59375 56 \nQ 45.5625 56 51.78125 48.09375 \nQ 58.015625 40.1875 58.015625 27.296875 \nQ 58.015625 14.40625 51.78125 6.484375 \nQ 45.5625 -1.421875 35.59375 -1.421875 \nQ 29.59375 -1.421875 25.265625 0.953125 \nQ 20.953125 3.328125 18.109375 8.203125 \nz\nM 48.6875 27.296875 \nQ 48.6875 37.203125 44.609375 42.84375 \nQ 40.53125 48.484375 33.40625 48.484375 \nQ 26.265625 48.484375 22.1875 42.84375 \nQ 18.109375 37.203125 18.109375 27.296875 \nQ 18.109375 17.390625 22.1875 11.75 \nQ 26.265625 6.109375 33.40625 6.109375 \nQ 40.53125 6.109375 44.609375 11.75 \nQ 48.6875 17.390625 48.6875 27.296875 \nz\n\" id=\"DejaVuSans-112\"/>\n      <path d=\"M 18.3125 70.21875 \nL 18.3125 54.6875 \nL 36.8125 54.6875 \nL 36.8125 47.703125 \nL 18.3125 47.703125 \nL 18.3125 18.015625 \nQ 18.3125 11.328125 20.140625 9.421875 \nQ 21.96875 7.515625 27.59375 7.515625 \nL 36.8125 7.515625 \nL 36.8125 0 \nL 27.59375 0 \nQ 17.1875 0 13.234375 3.875 \nQ 9.28125 7.765625 9.28125 18.015625 \nL 9.28125 47.703125 \nL 2.6875 47.703125 \nL 2.6875 54.6875 \nL 9.28125 54.6875 \nL 9.28125 70.21875 \nz\n\" id=\"DejaVuSans-116\"/>\n     </defs>\n     <g transform=\"translate(15.198438 153.952031)rotate(-90)scale(0.1 -0.1)\">\n      <use xlink:href=\"#DejaVuSans-80\"/>\n      <use x=\"56.677734\" xlink:href=\"#DejaVuSans-111\"/>\n      <use x=\"117.859375\" xlink:href=\"#DejaVuSans-105\"/>\n      <use x=\"145.642578\" xlink:href=\"#DejaVuSans-100\"/>\n      <use x=\"209.119141\" xlink:href=\"#DejaVuSans-115\"/>\n      <use x=\"261.21875\" xlink:href=\"#DejaVuSans-32\"/>\n      <use x=\"293.005859\" xlink:href=\"#DejaVuSans-112\"/>\n      <use x=\"356.482422\" xlink:href=\"#DejaVuSans-114\"/>\n      <use x=\"395.345703\" xlink:href=\"#DejaVuSans-233\"/>\n      <use x=\"456.869141\" xlink:href=\"#DejaVuSans-100\"/>\n      <use x=\"520.345703\" xlink:href=\"#DejaVuSans-105\"/>\n      <use x=\"548.128906\" xlink:href=\"#DejaVuSans-116\"/>\n      <use x=\"587.337891\" xlink:href=\"#DejaVuSans-32\"/>\n      <use x=\"619.125\" xlink:href=\"#DejaVuSans-40\"/>\n      <use x=\"658.138672\" xlink:href=\"#DejaVuSans-103\"/>\n      <use x=\"721.615234\" xlink:href=\"#DejaVuSans-41\"/>\n     </g>\n    </g>\n   </g>\n   <g id=\"patch_3\">\n    <path d=\"M 53.728125 224.64 \nL 53.728125 7.2 \n\" style=\"fill:none;stroke:#000000;stroke-linecap:square;stroke-linejoin:miter;stroke-width:0.8;\"/>\n   </g>\n   <g id=\"patch_4\">\n    <path d=\"M 388.528125 224.64 \nL 388.528125 7.2 \n\" style=\"fill:none;stroke:#000000;stroke-linecap:square;stroke-linejoin:miter;stroke-width:0.8;\"/>\n   </g>\n   <g id=\"patch_5\">\n    <path d=\"M 53.728125 224.64 \nL 388.528125 224.64 \n\" style=\"fill:none;stroke:#000000;stroke-linecap:square;stroke-linejoin:miter;stroke-width:0.8;\"/>\n   </g>\n   <g id=\"patch_6\">\n    <path d=\"M 53.728125 7.2 \nL 388.528125 7.2 \n\" style=\"fill:none;stroke:#000000;stroke-linecap:square;stroke-linejoin:miter;stroke-width:0.8;\"/>\n   </g>\n   <g id=\"text_15\">\n    <!-- RMSE = 428.64 g -->\n    <defs>\n     <path d=\"M 44.390625 34.1875 \nQ 47.5625 33.109375 50.5625 29.59375 \nQ 53.5625 26.078125 56.59375 19.921875 \nL 66.609375 0 \nL 56 0 \nL 46.6875 18.703125 \nQ 43.0625 26.03125 39.671875 28.421875 \nQ 36.28125 30.8125 30.421875 30.8125 \nL 19.671875 30.8125 \nL 19.671875 0 \nL 9.8125 0 \nL 9.8125 72.90625 \nL 32.078125 72.90625 \nQ 44.578125 72.90625 50.734375 67.671875 \nQ 56.890625 62.453125 56.890625 51.90625 \nQ 56.890625 45.015625 53.6875 40.46875 \nQ 50.484375 35.9375 44.390625 34.1875 \nz\nM 19.671875 64.796875 \nL 19.671875 38.921875 \nL 32.078125 38.921875 \nQ 39.203125 38.921875 42.84375 42.21875 \nQ 46.484375 45.515625 46.484375 51.90625 \nQ 46.484375 58.296875 42.84375 61.546875 \nQ 39.203125 64.796875 32.078125 64.796875 \nz\n\" id=\"DejaVuSans-82\"/>\n     <path d=\"M 9.8125 72.90625 \nL 24.515625 72.90625 \nL 43.109375 23.296875 \nL 61.8125 72.90625 \nL 76.515625 72.90625 \nL 76.515625 0 \nL 66.890625 0 \nL 66.890625 64.015625 \nL 48.09375 14.015625 \nL 38.1875 14.015625 \nL 19.390625 64.015625 \nL 19.390625 0 \nL 9.8125 0 \nz\n\" id=\"DejaVuSans-77\"/>\n     <path d=\"M 53.515625 70.515625 \nL 53.515625 60.890625 \nQ 47.90625 63.578125 42.921875 64.890625 \nQ 37.9375 66.21875 33.296875 66.21875 \nQ 25.25 66.21875 20.875 63.09375 \nQ 16.5 59.96875 16.5 54.203125 \nQ 16.5 49.359375 19.40625 46.890625 \nQ 22.3125 44.4375 30.421875 42.921875 \nL 36.375 41.703125 \nQ 47.40625 39.59375 52.65625 34.296875 \nQ 57.90625 29 57.90625 20.125 \nQ 57.90625 9.515625 50.796875 4.046875 \nQ 43.703125 -1.421875 29.984375 -1.421875 \nQ 24.8125 -1.421875 18.96875 -0.25 \nQ 13.140625 0.921875 6.890625 3.21875 \nL 6.890625 13.375 \nQ 12.890625 10.015625 18.65625 8.296875 \nQ 24.421875 6.59375 29.984375 6.59375 \nQ 38.421875 6.59375 43.015625 9.90625 \nQ 47.609375 13.234375 47.609375 19.390625 \nQ 47.609375 24.75 44.3125 27.78125 \nQ 41.015625 30.8125 33.5 32.328125 \nL 27.484375 33.5 \nQ 16.453125 35.6875 11.515625 40.375 \nQ 6.59375 45.0625 6.59375 53.421875 \nQ 6.59375 63.09375 13.40625 68.65625 \nQ 20.21875 74.21875 32.171875 74.21875 \nQ 37.3125 74.21875 42.625 73.28125 \nQ 47.953125 72.359375 53.515625 70.515625 \nz\n\" id=\"DejaVuSans-83\"/>\n     <path d=\"M 9.8125 72.90625 \nL 55.90625 72.90625 \nL 55.90625 64.59375 \nL 19.671875 64.59375 \nL 19.671875 43.015625 \nL 54.390625 43.015625 \nL 54.390625 34.71875 \nL 19.671875 34.71875 \nL 19.671875 8.296875 \nL 56.78125 8.296875 \nL 56.78125 0 \nL 9.8125 0 \nz\n\" id=\"DejaVuSans-69\"/>\n     <path d=\"M 10.59375 45.40625 \nL 73.1875 45.40625 \nL 73.1875 37.203125 \nL 10.59375 37.203125 \nz\nM 10.59375 25.484375 \nL 73.1875 25.484375 \nL 73.1875 17.1875 \nL 10.59375 17.1875 \nz\n\" id=\"DejaVuSans-61\"/>\n     <path d=\"M 19.1875 8.296875 \nL 53.609375 8.296875 \nL 53.609375 0 \nL 7.328125 0 \nL 7.328125 8.296875 \nQ 12.9375 14.109375 22.625 23.890625 \nQ 32.328125 33.6875 34.8125 36.53125 \nQ 39.546875 41.84375 41.421875 45.53125 \nQ 43.3125 49.21875 43.3125 52.78125 \nQ 43.3125 58.59375 39.234375 62.25 \nQ 35.15625 65.921875 28.609375 65.921875 \nQ 23.96875 65.921875 18.8125 64.3125 \nQ 13.671875 62.703125 7.8125 59.421875 \nL 7.8125 69.390625 \nQ 13.765625 71.78125 18.9375 73 \nQ 24.125 74.21875 28.421875 74.21875 \nQ 39.75 74.21875 46.484375 68.546875 \nQ 53.21875 62.890625 53.21875 53.421875 \nQ 53.21875 48.921875 51.53125 44.890625 \nQ 49.859375 40.875 45.40625 35.40625 \nQ 44.1875 33.984375 37.640625 27.21875 \nQ 31.109375 20.453125 19.1875 8.296875 \nz\n\" id=\"DejaVuSans-50\"/>\n     <path d=\"M 31.78125 34.625 \nQ 24.75 34.625 20.71875 30.859375 \nQ 16.703125 27.09375 16.703125 20.515625 \nQ 16.703125 13.921875 20.71875 10.15625 \nQ 24.75 6.390625 31.78125 6.390625 \nQ 38.8125 6.390625 42.859375 10.171875 \nQ 46.921875 13.96875 46.921875 20.515625 \nQ 46.921875 27.09375 42.890625 30.859375 \nQ 38.875 34.625 31.78125 34.625 \nz\nM 21.921875 38.8125 \nQ 15.578125 40.375 12.03125 44.71875 \nQ 8.5 49.078125 8.5 55.328125 \nQ 8.5 64.0625 14.71875 69.140625 \nQ 20.953125 74.21875 31.78125 74.21875 \nQ 42.671875 74.21875 48.875 69.140625 \nQ 55.078125 64.0625 55.078125 55.328125 \nQ 55.078125 49.078125 51.53125 44.71875 \nQ 48 40.375 41.703125 38.8125 \nQ 48.828125 37.15625 52.796875 32.3125 \nQ 56.78125 27.484375 56.78125 20.515625 \nQ 56.78125 9.90625 50.3125 4.234375 \nQ 43.84375 -1.421875 31.78125 -1.421875 \nQ 19.734375 -1.421875 13.25 4.234375 \nQ 6.78125 9.90625 6.78125 20.515625 \nQ 6.78125 27.484375 10.78125 32.3125 \nQ 14.796875 37.15625 21.921875 38.8125 \nz\nM 18.3125 54.390625 \nQ 18.3125 48.734375 21.84375 45.5625 \nQ 25.390625 42.390625 31.78125 42.390625 \nQ 38.140625 42.390625 41.71875 45.5625 \nQ 45.3125 48.734375 45.3125 54.390625 \nQ 45.3125 60.0625 41.71875 63.234375 \nQ 38.140625 66.40625 31.78125 66.40625 \nQ 25.390625 66.40625 21.84375 63.234375 \nQ 18.3125 60.0625 18.3125 54.390625 \nz\n\" id=\"DejaVuSans-56\"/>\n     <path d=\"M 10.6875 12.40625 \nL 21 12.40625 \nL 21 0 \nL 10.6875 0 \nz\n\" id=\"DejaVuSans-46\"/>\n    </defs>\n    <g transform=\"translate(83.67358 22.193838)scale(0.1 -0.1)\">\n     <use xlink:href=\"#DejaVuSans-82\"/>\n     <use x=\"69.482422\" xlink:href=\"#DejaVuSans-77\"/>\n     <use x=\"155.761719\" xlink:href=\"#DejaVuSans-83\"/>\n     <use x=\"219.238281\" xlink:href=\"#DejaVuSans-69\"/>\n     <use x=\"282.421875\" xlink:href=\"#DejaVuSans-32\"/>\n     <use x=\"314.208984\" xlink:href=\"#DejaVuSans-61\"/>\n     <use x=\"397.998047\" xlink:href=\"#DejaVuSans-32\"/>\n     <use x=\"429.785156\" xlink:href=\"#DejaVuSans-52\"/>\n     <use x=\"493.408203\" xlink:href=\"#DejaVuSans-50\"/>\n     <use x=\"557.03125\" xlink:href=\"#DejaVuSans-56\"/>\n     <use x=\"620.654297\" xlink:href=\"#DejaVuSans-46\"/>\n     <use x=\"652.441406\" xlink:href=\"#DejaVuSans-54\"/>\n     <use x=\"716.064453\" xlink:href=\"#DejaVuSans-52\"/>\n     <use x=\"779.6875\" xlink:href=\"#DejaVuSans-32\"/>\n     <use x=\"811.474609\" xlink:href=\"#DejaVuSans-103\"/>\n    </g>\n   </g>\n   <g id=\"text_16\">\n    <!-- R2 = 0.72 -->\n    <defs>\n     <path d=\"M 8.203125 72.90625 \nL 55.078125 72.90625 \nL 55.078125 68.703125 \nL 28.609375 0 \nL 18.3125 0 \nL 43.21875 64.59375 \nL 8.203125 64.59375 \nz\n\" id=\"DejaVuSans-55\"/>\n    </defs>\n    <g transform=\"translate(83.67358 49.99902)scale(0.1 -0.1)\">\n     <use xlink:href=\"#DejaVuSans-82\"/>\n     <use x=\"69.482422\" xlink:href=\"#DejaVuSans-50\"/>\n     <use x=\"133.105469\" xlink:href=\"#DejaVuSans-32\"/>\n     <use x=\"164.892578\" xlink:href=\"#DejaVuSans-61\"/>\n     <use x=\"248.681641\" xlink:href=\"#DejaVuSans-32\"/>\n     <use x=\"280.46875\" xlink:href=\"#DejaVuSans-48\"/>\n     <use x=\"344.091797\" xlink:href=\"#DejaVuSans-46\"/>\n     <use x=\"375.878906\" xlink:href=\"#DejaVuSans-55\"/>\n     <use x=\"439.501953\" xlink:href=\"#DejaVuSans-50\"/>\n    </g>\n   </g>\n  </g>\n </g>\n <defs>\n  <clipPath id=\"p8494bfa53c\">\n   <rect height=\"217.44\" width=\"334.8\" x=\"53.728125\" y=\"7.2\"/>\n  </clipPath>\n </defs>\n</svg>\n"
          },
          "metadata": {
            "tags": [],
            "needs_background": "light"
          }
        }
      ]
    },
    {
      "cell_type": "markdown",
      "metadata": {
        "id": "Yd4whbh-crBy"
      },
      "source": [
        "## 2. Réseau de neurones pour la classification"
      ]
    },
    {
      "cell_type": "markdown",
      "metadata": {
        "id": "cWdaP5gHcrBy"
      },
      "source": [
        "Reprenons le Problème 2 défini dans le notebook `0-Donnees.ipynb`. Peut-on améliorer la performance de la régression linéaire en utilisant un modèle non linéaire ?"
      ]
    },
    {
      "cell_type": "markdown",
      "metadata": {
        "id": "sD4mIAg5crBz"
      },
      "source": [
        "### Chargement des données"
      ]
    },
    {
      "cell_type": "code",
      "metadata": {
        "id": "2u6nLszXcrBz"
      },
      "source": [
        "y_classif = pd.Categorical(penguins[\"sex\"]).astype('category').codes"
      ],
      "execution_count": null,
      "outputs": []
    },
    {
      "cell_type": "markdown",
      "metadata": {
        "id": "TO2NRlSRcrBz"
      },
      "source": [
        "### Séparation des données en jeu d'entraînement et jeu de test"
      ]
    },
    {
      "cell_type": "code",
      "metadata": {
        "id": "Fb7ZwVcVcrBz"
      },
      "source": [
        "(X_train, X_test, y_train, y_test) = model_selection.train_test_split(X, y_classif, test_size=0.3, random_state=25, \n",
        "                                                                      stratify=y_classif)"
      ],
      "execution_count": null,
      "outputs": []
    },
    {
      "cell_type": "markdown",
      "metadata": {
        "id": "Irl-WxHGcrBz"
      },
      "source": [
        "### Formalisme "
      ]
    },
    {
      "cell_type": "markdown",
      "metadata": {
        "id": "AOgAlvfCcrBz"
      },
      "source": [
        "Le perceptron multi-couches pour la classification est au perceptron multi-couches pour la régression ce que la régression logistique est à la régression linéaire.\n",
        "\n",
        "Nous disposons de $n$ observations en $p$ dimensions, représentés par une matrice $X \\in \\mathbb{R}^{nxp}$ (ici, $p=3$), et d'un vecteur d'étiquettes $\\boldsymbol{y} \\in \\{0, 1\\}^{n}$. \n",
        "\n",
        "Comme dans la régression logistique, il s'agit de modéliser la probabilité qu'une observation appartienne à la classe positive, autrement dit ait l'étiquette 1, par une transformation logistique d'une fonction $f$, cette fois non-linéaire, des variables. En notant $X$ un vecteur alétaoire réel $p$-dimensionnel qui modélise un manchot et $Y$ une variable aléatoire discrète à valeurs dans $\\{0, 1\\}$ qui modélise son étiquette, on modélise donc toujours\n",
        "$\\mathbb{P}(Y = 1|X = \\boldsymbol{x})$ par $f(\\boldsymbol{x}).$ \n",
        "\n",
        "La forme de $f$ est donnée par l'architecture du réseau de neurones.\n",
        "Pour un réseau de neurones à une couche cachée et $m$ neurones, la forme de $f$ est la même que ci-dessus pour le MPL pour la régression.\n",
        "\n",
        "Pour trouver les paramètres de $f$, on a de nouveau recours à la __minimiation du risque empirique__ ; le risque empirique est calculé avec la __perte logistique__ $(y, f(\\boldsymbol{x})) \\mapsto - y \\log(f(\\boldsymbol{x})- (1-y) \\log(1-f(\\boldsymbol{x}))$ comme fonction de perte. \n",
        "\n",
        "Comme dans le cas du perceptron multi-couches pour la régression, ce problème d'optimisation n'est en général pas convexe. On risque d'obtenir un minimum local."
      ]
    },
    {
      "cell_type": "markdown",
      "metadata": {
        "id": "hln_wBWxcrB0"
      },
      "source": [
        "### Entraînement d'un réseau de neurones avec scikit-learn"
      ]
    },
    {
      "cell_type": "markdown",
      "metadata": {
        "id": "9i0uAIHpcrB0"
      },
      "source": [
        "Pour la classification, nous utilisons [la classe `MLPClassifier`](https://scikit-learn.org/stable/modules/generated/sklearn.neural_network.MLPClassifier.html#sklearn.neural_network.MLPClassifier). "
      ]
    },
    {
      "cell_type": "markdown",
      "metadata": {
        "id": "34QiKl34crB0"
      },
      "source": [
        "1. Instancions un objet de la classe `MLPClassifier`.\n",
        "\n",
        "Nous utilisons cette fois la fonction logistique comme fonction d'activation."
      ]
    },
    {
      "cell_type": "code",
      "metadata": {
        "id": "rNV5efVecrB0"
      },
      "source": [
        "mlpclass = neural_network.MLPClassifier(hidden_layer_sizes=10, activation='logistic', solver='lbfgs', max_iter=1000, random_state=47)"
      ],
      "execution_count": null,
      "outputs": []
    },
    {
      "cell_type": "markdown",
      "metadata": {
        "id": "7G44uqwScrB0"
      },
      "source": [
        "2. Entraînons cet objet sur les données d'entraînement avec la méthode `fit` :"
      ]
    },
    {
      "cell_type": "code",
      "metadata": {
        "colab": {
          "base_uri": "https://localhost:8080/"
        },
        "id": "5n2TEDEjcrB1",
        "outputId": "f79b4d37-43f3-4532-978e-0006fc6fb493"
      },
      "source": [
        "mlpclass.fit(X_train, y_train)"
      ],
      "execution_count": null,
      "outputs": [
        {
          "output_type": "execute_result",
          "data": {
            "text/plain": [
              "MLPClassifier(activation='logistic', alpha=0.0001, batch_size='auto',\n",
              "              beta_1=0.9, beta_2=0.999, early_stopping=False, epsilon=1e-08,\n",
              "              hidden_layer_sizes=10, learning_rate='constant',\n",
              "              learning_rate_init=0.001, max_fun=15000, max_iter=1000,\n",
              "              momentum=0.9, n_iter_no_change=10, nesterovs_momentum=True,\n",
              "              power_t=0.5, random_state=47, shuffle=True, solver='lbfgs',\n",
              "              tol=0.0001, validation_fraction=0.1, verbose=False,\n",
              "              warm_start=False)"
            ]
          },
          "metadata": {
            "tags": []
          },
          "execution_count": 52
        }
      ]
    },
    {
      "cell_type": "markdown",
      "metadata": {
        "id": "VQVHxChCcrB1"
      },
      "source": [
        "Il se peut ici que vous receviez un message d'erreur car le solveur ne converge pas. Vous pouvez relancer plusieurs fois l'appel à `fit` (la convergence dépendant de l'initialisation, qui est aléatoire). Si cela ne suffit pas, augmentez le nombre d'itérations en augmentant la valeur du paramètre `max_iter` ou relâchez la tolérance en augmentant la valeur du paramètre `tol`."
      ]
    },
    {
      "cell_type": "markdown",
      "metadata": {
        "id": "j4UWtm37crB1"
      },
      "source": [
        "3. Enfin, prédisons les étiquettes des données du jeu de test en utilisant la méthode `predict` :"
      ]
    },
    {
      "cell_type": "code",
      "metadata": {
        "id": "2vi__3W4crB1"
      },
      "source": [
        "y_test_pred = mlpclass.predict(X_test)"
      ],
      "execution_count": null,
      "outputs": []
    },
    {
      "cell_type": "markdown",
      "metadata": {
        "id": "-lAYN2vFcrB1"
      },
      "source": [
        "### Performance"
      ]
    },
    {
      "cell_type": "markdown",
      "metadata": {
        "id": "nRObVhsMcrB2"
      },
      "source": [
        "Regardons la __matrice de confusion__ des prédictions :"
      ]
    },
    {
      "cell_type": "code",
      "metadata": {
        "colab": {
          "base_uri": "https://localhost:8080/",
          "height": 387
        },
        "id": "tx5NLhyrcrB2",
        "outputId": "650c2a32-b8d8-42f5-88a4-6b9bf0cf0285"
      },
      "source": [
        "metrics.plot_confusion_matrix(mlpclass, X_test, y_test)"
      ],
      "execution_count": null,
      "outputs": [
        {
          "output_type": "execute_result",
          "data": {
            "text/plain": [
              "<sklearn.metrics._plot.confusion_matrix.ConfusionMatrixDisplay at 0x7f5dee1c7990>"
            ]
          },
          "metadata": {
            "tags": []
          },
          "execution_count": 54
        },
        {
          "output_type": "display_data",
          "data": {
            "text/plain": [
              "<Figure size 432x288 with 2 Axes>"
            ],
            "image/svg+xml": "<?xml version=\"1.0\" encoding=\"utf-8\" standalone=\"no\"?>\n<!DOCTYPE svg PUBLIC \"-//W3C//DTD SVG 1.1//EN\"\n  \"http://www.w3.org/Graphics/SVG/1.1/DTD/svg11.dtd\">\n<!-- Created with matplotlib (https://matplotlib.org/) -->\n<svg height=\"262.19625pt\" version=\"1.1\" viewBox=\"0 0 306.217625 262.19625\" width=\"306.217625pt\" xmlns=\"http://www.w3.org/2000/svg\" xmlns:xlink=\"http://www.w3.org/1999/xlink\">\n <defs>\n  <style type=\"text/css\">\n*{stroke-linecap:butt;stroke-linejoin:round;}\n  </style>\n </defs>\n <g id=\"figure_1\">\n  <g id=\"patch_1\">\n   <path d=\"M 0 262.19625 \nL 306.217625 262.19625 \nL 306.217625 0 \nL 0 0 \nz\n\" style=\"fill:none;\"/>\n  </g>\n  <g id=\"axes_1\">\n   <g id=\"patch_2\">\n    <path d=\"M 34.240625 224.64 \nL 251.680625 224.64 \nL 251.680625 7.2 \nL 34.240625 7.2 \nz\n\" style=\"fill:#ffffff;\"/>\n   </g>\n   <g clip-path=\"url(#pb7c2060870)\">\n    <image height=\"218\" id=\"imageba044701cd\" transform=\"scale(1 -1)translate(0 -218)\" width=\"218\" x=\"34.240625\" xlink:href=\"data:image/png;base64,\niVBORw0KGgoAAAANSUhEUgAAANoAAADaCAYAAADAHVzbAAAABHNCSVQICAgIfAhkiAAAAplJREFUeJzt1bENwkAABEFMGcSImC7cDpEbc0BJVIHsGj7ZF2KmgktWt6yP7bjwU17vffYEBl1nD4B/IDQICA0CQoOA0CAgNAgIDQJCg4DQICA0CAgNAkKDgNAgIDQICA0CQoOA0CAgNAgIDQJCg4DQICA0CAgNAkKDgNAgIDQICA0CQoOA0CAgNAgIDQJCg4DQICA0CAgNAkKDgNAgIDQICA0CQoOA0CAgNAgIDQJCg4DQICA0CAgNAkKDgNAgIDQICA0CQoOA0CAgNAgIDQJCg4DQICA0CAgNAkKDgNAgIDQICA0CQoOA0CAgNAgIDQJCg4DQICA0CAgNAkKDgNAgIDQICA0CQoOA0CAgNAgIDQJCg4DQICA0CAgNAkKDgNAgIDQICA0CQoOA0CAgNAgIDQJCg4DQICA0CAgNAkKDgNAgIDQICA0CQoOA0CAgNAgIDQJCg4DQICA0CAgNAkKDwPL93I/ZIxiz3p6zJzDIo0FAaBAQGgSEBgGhQUBoEBAaBIQGAaFBQGgQEBoEhAYBoUFAaBAQGgSEBgGhQUBoEBAaBIQGAaFBQGgQEBoEhAYBoUFAaBAQGgSEBgGhQUBoEBAaBIQGAaFBQGgQEBoEhAYBoUFAaBAQGgSEBgGhQUBoEBAaBIQGAaFBQGgQEBoEhAYBoUFAaBAQGgSEBgGhQUBoEBAaBIQGAaFBQGgQEBoEhAYBoUFAaBAQGgSEBgGhQUBoEBAaBIQGAaFBQGgQEBoEhAYBoUFAaBAQGgSEBgGhQUBoEBAaBIQGAaFBQGgQEBoEhAYBoUFAaBAQGgSEBgGhQUBoEBAaBIQGAaFBQGgQEBoEhAYBoUFAaBAQGgSEBgGhQUBoEBAaBIQGAaFBQGgQEBoEhAaBE2vQCQdH6TKEAAAAAElFTkSuQmCC\" y=\"-6.64\"/>\n   </g>\n   <g id=\"matplotlib.axis_1\">\n    <g id=\"xtick_1\">\n     <g id=\"line2d_1\">\n      <defs>\n       <path d=\"M 0 0 \nL 0 3.5 \n\" id=\"m02fa86129d\" style=\"stroke:#000000;stroke-width:0.8;\"/>\n      </defs>\n      <g>\n       <use style=\"stroke:#000000;stroke-width:0.8;\" x=\"88.600625\" xlink:href=\"#m02fa86129d\" y=\"224.64\"/>\n      </g>\n     </g>\n     <g id=\"text_1\">\n      <!-- 0 -->\n      <defs>\n       <path d=\"M 31.78125 66.40625 \nQ 24.171875 66.40625 20.328125 58.90625 \nQ 16.5 51.421875 16.5 36.375 \nQ 16.5 21.390625 20.328125 13.890625 \nQ 24.171875 6.390625 31.78125 6.390625 \nQ 39.453125 6.390625 43.28125 13.890625 \nQ 47.125 21.390625 47.125 36.375 \nQ 47.125 51.421875 43.28125 58.90625 \nQ 39.453125 66.40625 31.78125 66.40625 \nz\nM 31.78125 74.21875 \nQ 44.046875 74.21875 50.515625 64.515625 \nQ 56.984375 54.828125 56.984375 36.375 \nQ 56.984375 17.96875 50.515625 8.265625 \nQ 44.046875 -1.421875 31.78125 -1.421875 \nQ 19.53125 -1.421875 13.0625 8.265625 \nQ 6.59375 17.96875 6.59375 36.375 \nQ 6.59375 54.828125 13.0625 64.515625 \nQ 19.53125 74.21875 31.78125 74.21875 \nz\n\" id=\"DejaVuSans-48\"/>\n      </defs>\n      <g transform=\"translate(85.419375 239.238437)scale(0.1 -0.1)\">\n       <use xlink:href=\"#DejaVuSans-48\"/>\n      </g>\n     </g>\n    </g>\n    <g id=\"xtick_2\">\n     <g id=\"line2d_2\">\n      <g>\n       <use style=\"stroke:#000000;stroke-width:0.8;\" x=\"197.320625\" xlink:href=\"#m02fa86129d\" y=\"224.64\"/>\n      </g>\n     </g>\n     <g id=\"text_2\">\n      <!-- 1 -->\n      <defs>\n       <path d=\"M 12.40625 8.296875 \nL 28.515625 8.296875 \nL 28.515625 63.921875 \nL 10.984375 60.40625 \nL 10.984375 69.390625 \nL 28.421875 72.90625 \nL 38.28125 72.90625 \nL 38.28125 8.296875 \nL 54.390625 8.296875 \nL 54.390625 0 \nL 12.40625 0 \nz\n\" id=\"DejaVuSans-49\"/>\n      </defs>\n      <g transform=\"translate(194.139375 239.238437)scale(0.1 -0.1)\">\n       <use xlink:href=\"#DejaVuSans-49\"/>\n      </g>\n     </g>\n    </g>\n    <g id=\"text_3\">\n     <!-- Predicted label -->\n     <defs>\n      <path d=\"M 19.671875 64.796875 \nL 19.671875 37.40625 \nL 32.078125 37.40625 \nQ 38.96875 37.40625 42.71875 40.96875 \nQ 46.484375 44.53125 46.484375 51.125 \nQ 46.484375 57.671875 42.71875 61.234375 \nQ 38.96875 64.796875 32.078125 64.796875 \nz\nM 9.8125 72.90625 \nL 32.078125 72.90625 \nQ 44.34375 72.90625 50.609375 67.359375 \nQ 56.890625 61.8125 56.890625 51.125 \nQ 56.890625 40.328125 50.609375 34.8125 \nQ 44.34375 29.296875 32.078125 29.296875 \nL 19.671875 29.296875 \nL 19.671875 0 \nL 9.8125 0 \nz\n\" id=\"DejaVuSans-80\"/>\n      <path d=\"M 41.109375 46.296875 \nQ 39.59375 47.171875 37.8125 47.578125 \nQ 36.03125 48 33.890625 48 \nQ 26.265625 48 22.1875 43.046875 \nQ 18.109375 38.09375 18.109375 28.8125 \nL 18.109375 0 \nL 9.078125 0 \nL 9.078125 54.6875 \nL 18.109375 54.6875 \nL 18.109375 46.1875 \nQ 20.953125 51.171875 25.484375 53.578125 \nQ 30.03125 56 36.53125 56 \nQ 37.453125 56 38.578125 55.875 \nQ 39.703125 55.765625 41.0625 55.515625 \nz\n\" id=\"DejaVuSans-114\"/>\n      <path d=\"M 56.203125 29.59375 \nL 56.203125 25.203125 \nL 14.890625 25.203125 \nQ 15.484375 15.921875 20.484375 11.0625 \nQ 25.484375 6.203125 34.421875 6.203125 \nQ 39.59375 6.203125 44.453125 7.46875 \nQ 49.3125 8.734375 54.109375 11.28125 \nL 54.109375 2.78125 \nQ 49.265625 0.734375 44.1875 -0.34375 \nQ 39.109375 -1.421875 33.890625 -1.421875 \nQ 20.796875 -1.421875 13.15625 6.1875 \nQ 5.515625 13.8125 5.515625 26.8125 \nQ 5.515625 40.234375 12.765625 48.109375 \nQ 20.015625 56 32.328125 56 \nQ 43.359375 56 49.78125 48.890625 \nQ 56.203125 41.796875 56.203125 29.59375 \nz\nM 47.21875 32.234375 \nQ 47.125 39.59375 43.09375 43.984375 \nQ 39.0625 48.390625 32.421875 48.390625 \nQ 24.90625 48.390625 20.390625 44.140625 \nQ 15.875 39.890625 15.1875 32.171875 \nz\n\" id=\"DejaVuSans-101\"/>\n      <path d=\"M 45.40625 46.390625 \nL 45.40625 75.984375 \nL 54.390625 75.984375 \nL 54.390625 0 \nL 45.40625 0 \nL 45.40625 8.203125 \nQ 42.578125 3.328125 38.25 0.953125 \nQ 33.9375 -1.421875 27.875 -1.421875 \nQ 17.96875 -1.421875 11.734375 6.484375 \nQ 5.515625 14.40625 5.515625 27.296875 \nQ 5.515625 40.1875 11.734375 48.09375 \nQ 17.96875 56 27.875 56 \nQ 33.9375 56 38.25 53.625 \nQ 42.578125 51.265625 45.40625 46.390625 \nz\nM 14.796875 27.296875 \nQ 14.796875 17.390625 18.875 11.75 \nQ 22.953125 6.109375 30.078125 6.109375 \nQ 37.203125 6.109375 41.296875 11.75 \nQ 45.40625 17.390625 45.40625 27.296875 \nQ 45.40625 37.203125 41.296875 42.84375 \nQ 37.203125 48.484375 30.078125 48.484375 \nQ 22.953125 48.484375 18.875 42.84375 \nQ 14.796875 37.203125 14.796875 27.296875 \nz\n\" id=\"DejaVuSans-100\"/>\n      <path d=\"M 9.421875 54.6875 \nL 18.40625 54.6875 \nL 18.40625 0 \nL 9.421875 0 \nz\nM 9.421875 75.984375 \nL 18.40625 75.984375 \nL 18.40625 64.59375 \nL 9.421875 64.59375 \nz\n\" id=\"DejaVuSans-105\"/>\n      <path d=\"M 48.78125 52.59375 \nL 48.78125 44.1875 \nQ 44.96875 46.296875 41.140625 47.34375 \nQ 37.3125 48.390625 33.40625 48.390625 \nQ 24.65625 48.390625 19.8125 42.84375 \nQ 14.984375 37.3125 14.984375 27.296875 \nQ 14.984375 17.28125 19.8125 11.734375 \nQ 24.65625 6.203125 33.40625 6.203125 \nQ 37.3125 6.203125 41.140625 7.25 \nQ 44.96875 8.296875 48.78125 10.40625 \nL 48.78125 2.09375 \nQ 45.015625 0.34375 40.984375 -0.53125 \nQ 36.96875 -1.421875 32.421875 -1.421875 \nQ 20.0625 -1.421875 12.78125 6.34375 \nQ 5.515625 14.109375 5.515625 27.296875 \nQ 5.515625 40.671875 12.859375 48.328125 \nQ 20.21875 56 33.015625 56 \nQ 37.15625 56 41.109375 55.140625 \nQ 45.0625 54.296875 48.78125 52.59375 \nz\n\" id=\"DejaVuSans-99\"/>\n      <path d=\"M 18.3125 70.21875 \nL 18.3125 54.6875 \nL 36.8125 54.6875 \nL 36.8125 47.703125 \nL 18.3125 47.703125 \nL 18.3125 18.015625 \nQ 18.3125 11.328125 20.140625 9.421875 \nQ 21.96875 7.515625 27.59375 7.515625 \nL 36.8125 7.515625 \nL 36.8125 0 \nL 27.59375 0 \nQ 17.1875 0 13.234375 3.875 \nQ 9.28125 7.765625 9.28125 18.015625 \nL 9.28125 47.703125 \nL 2.6875 47.703125 \nL 2.6875 54.6875 \nL 9.28125 54.6875 \nL 9.28125 70.21875 \nz\n\" id=\"DejaVuSans-116\"/>\n      <path id=\"DejaVuSans-32\"/>\n      <path d=\"M 9.421875 75.984375 \nL 18.40625 75.984375 \nL 18.40625 0 \nL 9.421875 0 \nz\n\" id=\"DejaVuSans-108\"/>\n      <path d=\"M 34.28125 27.484375 \nQ 23.390625 27.484375 19.1875 25 \nQ 14.984375 22.515625 14.984375 16.5 \nQ 14.984375 11.71875 18.140625 8.90625 \nQ 21.296875 6.109375 26.703125 6.109375 \nQ 34.1875 6.109375 38.703125 11.40625 \nQ 43.21875 16.703125 43.21875 25.484375 \nL 43.21875 27.484375 \nz\nM 52.203125 31.203125 \nL 52.203125 0 \nL 43.21875 0 \nL 43.21875 8.296875 \nQ 40.140625 3.328125 35.546875 0.953125 \nQ 30.953125 -1.421875 24.3125 -1.421875 \nQ 15.921875 -1.421875 10.953125 3.296875 \nQ 6 8.015625 6 15.921875 \nQ 6 25.140625 12.171875 29.828125 \nQ 18.359375 34.515625 30.609375 34.515625 \nL 43.21875 34.515625 \nL 43.21875 35.40625 \nQ 43.21875 41.609375 39.140625 45 \nQ 35.0625 48.390625 27.6875 48.390625 \nQ 23 48.390625 18.546875 47.265625 \nQ 14.109375 46.140625 10.015625 43.890625 \nL 10.015625 52.203125 \nQ 14.9375 54.109375 19.578125 55.046875 \nQ 24.21875 56 28.609375 56 \nQ 40.484375 56 46.34375 49.84375 \nQ 52.203125 43.703125 52.203125 31.203125 \nz\n\" id=\"DejaVuSans-97\"/>\n      <path d=\"M 48.6875 27.296875 \nQ 48.6875 37.203125 44.609375 42.84375 \nQ 40.53125 48.484375 33.40625 48.484375 \nQ 26.265625 48.484375 22.1875 42.84375 \nQ 18.109375 37.203125 18.109375 27.296875 \nQ 18.109375 17.390625 22.1875 11.75 \nQ 26.265625 6.109375 33.40625 6.109375 \nQ 40.53125 6.109375 44.609375 11.75 \nQ 48.6875 17.390625 48.6875 27.296875 \nz\nM 18.109375 46.390625 \nQ 20.953125 51.265625 25.265625 53.625 \nQ 29.59375 56 35.59375 56 \nQ 45.5625 56 51.78125 48.09375 \nQ 58.015625 40.1875 58.015625 27.296875 \nQ 58.015625 14.40625 51.78125 6.484375 \nQ 45.5625 -1.421875 35.59375 -1.421875 \nQ 29.59375 -1.421875 25.265625 0.953125 \nQ 20.953125 3.328125 18.109375 8.203125 \nL 18.109375 0 \nL 9.078125 0 \nL 9.078125 75.984375 \nL 18.109375 75.984375 \nz\n\" id=\"DejaVuSans-98\"/>\n     </defs>\n     <g transform=\"translate(105.808281 252.916562)scale(0.1 -0.1)\">\n      <use xlink:href=\"#DejaVuSans-80\"/>\n      <use x=\"58.552734\" xlink:href=\"#DejaVuSans-114\"/>\n      <use x=\"97.416016\" xlink:href=\"#DejaVuSans-101\"/>\n      <use x=\"158.939453\" xlink:href=\"#DejaVuSans-100\"/>\n      <use x=\"222.416016\" xlink:href=\"#DejaVuSans-105\"/>\n      <use x=\"250.199219\" xlink:href=\"#DejaVuSans-99\"/>\n      <use x=\"305.179688\" xlink:href=\"#DejaVuSans-116\"/>\n      <use x=\"344.388672\" xlink:href=\"#DejaVuSans-101\"/>\n      <use x=\"405.912109\" xlink:href=\"#DejaVuSans-100\"/>\n      <use x=\"469.388672\" xlink:href=\"#DejaVuSans-32\"/>\n      <use x=\"501.175781\" xlink:href=\"#DejaVuSans-108\"/>\n      <use x=\"528.958984\" xlink:href=\"#DejaVuSans-97\"/>\n      <use x=\"590.238281\" xlink:href=\"#DejaVuSans-98\"/>\n      <use x=\"653.714844\" xlink:href=\"#DejaVuSans-101\"/>\n      <use x=\"715.238281\" xlink:href=\"#DejaVuSans-108\"/>\n     </g>\n    </g>\n   </g>\n   <g id=\"matplotlib.axis_2\">\n    <g id=\"ytick_1\">\n     <g id=\"line2d_3\">\n      <defs>\n       <path d=\"M 0 0 \nL -3.5 0 \n\" id=\"m3e3f5684d5\" style=\"stroke:#000000;stroke-width:0.8;\"/>\n      </defs>\n      <g>\n       <use style=\"stroke:#000000;stroke-width:0.8;\" x=\"34.240625\" xlink:href=\"#m3e3f5684d5\" y=\"61.56\"/>\n      </g>\n     </g>\n     <g id=\"text_4\">\n      <!-- 0 -->\n      <g transform=\"translate(20.878125 65.359219)scale(0.1 -0.1)\">\n       <use xlink:href=\"#DejaVuSans-48\"/>\n      </g>\n     </g>\n    </g>\n    <g id=\"ytick_2\">\n     <g id=\"line2d_4\">\n      <g>\n       <use style=\"stroke:#000000;stroke-width:0.8;\" x=\"34.240625\" xlink:href=\"#m3e3f5684d5\" y=\"170.28\"/>\n      </g>\n     </g>\n     <g id=\"text_5\">\n      <!-- 1 -->\n      <g transform=\"translate(20.878125 174.079219)scale(0.1 -0.1)\">\n       <use xlink:href=\"#DejaVuSans-49\"/>\n      </g>\n     </g>\n    </g>\n    <g id=\"text_6\">\n     <!-- True label -->\n     <defs>\n      <path d=\"M -0.296875 72.90625 \nL 61.375 72.90625 \nL 61.375 64.59375 \nL 35.5 64.59375 \nL 35.5 0 \nL 25.59375 0 \nL 25.59375 64.59375 \nL -0.296875 64.59375 \nz\n\" id=\"DejaVuSans-84\"/>\n      <path d=\"M 8.5 21.578125 \nL 8.5 54.6875 \nL 17.484375 54.6875 \nL 17.484375 21.921875 \nQ 17.484375 14.15625 20.5 10.265625 \nQ 23.53125 6.390625 29.59375 6.390625 \nQ 36.859375 6.390625 41.078125 11.03125 \nQ 45.3125 15.671875 45.3125 23.6875 \nL 45.3125 54.6875 \nL 54.296875 54.6875 \nL 54.296875 0 \nL 45.3125 0 \nL 45.3125 8.40625 \nQ 42.046875 3.421875 37.71875 1 \nQ 33.40625 -1.421875 27.6875 -1.421875 \nQ 18.265625 -1.421875 13.375 4.4375 \nQ 8.5 10.296875 8.5 21.578125 \nz\nM 31.109375 56 \nz\n\" id=\"DejaVuSans-117\"/>\n     </defs>\n     <g transform=\"translate(14.798437 140.219219)rotate(-90)scale(0.1 -0.1)\">\n      <use xlink:href=\"#DejaVuSans-84\"/>\n      <use x=\"46.333984\" xlink:href=\"#DejaVuSans-114\"/>\n      <use x=\"87.447266\" xlink:href=\"#DejaVuSans-117\"/>\n      <use x=\"150.826172\" xlink:href=\"#DejaVuSans-101\"/>\n      <use x=\"212.349609\" xlink:href=\"#DejaVuSans-32\"/>\n      <use x=\"244.136719\" xlink:href=\"#DejaVuSans-108\"/>\n      <use x=\"271.919922\" xlink:href=\"#DejaVuSans-97\"/>\n      <use x=\"333.199219\" xlink:href=\"#DejaVuSans-98\"/>\n      <use x=\"396.675781\" xlink:href=\"#DejaVuSans-101\"/>\n      <use x=\"458.199219\" xlink:href=\"#DejaVuSans-108\"/>\n     </g>\n    </g>\n   </g>\n   <g id=\"patch_3\">\n    <path d=\"M 34.240625 224.64 \nL 34.240625 7.2 \n\" style=\"fill:none;stroke:#000000;stroke-linecap:square;stroke-linejoin:miter;stroke-width:0.8;\"/>\n   </g>\n   <g id=\"patch_4\">\n    <path d=\"M 251.680625 224.64 \nL 251.680625 7.2 \n\" style=\"fill:none;stroke:#000000;stroke-linecap:square;stroke-linejoin:miter;stroke-width:0.8;\"/>\n   </g>\n   <g id=\"patch_5\">\n    <path d=\"M 34.240625 224.64 \nL 251.680625 224.64 \n\" style=\"fill:none;stroke:#000000;stroke-linecap:square;stroke-linejoin:miter;stroke-width:0.8;\"/>\n   </g>\n   <g id=\"patch_6\">\n    <path d=\"M 34.240625 7.2 \nL 251.680625 7.2 \n\" style=\"fill:none;stroke:#000000;stroke-linecap:square;stroke-linejoin:miter;stroke-width:0.8;\"/>\n   </g>\n   <g id=\"text_7\">\n    <!-- 39 -->\n    <defs>\n     <path d=\"M 40.578125 39.3125 \nQ 47.65625 37.796875 51.625 33 \nQ 55.609375 28.21875 55.609375 21.1875 \nQ 55.609375 10.40625 48.1875 4.484375 \nQ 40.765625 -1.421875 27.09375 -1.421875 \nQ 22.515625 -1.421875 17.65625 -0.515625 \nQ 12.796875 0.390625 7.625 2.203125 \nL 7.625 11.71875 \nQ 11.71875 9.328125 16.59375 8.109375 \nQ 21.484375 6.890625 26.8125 6.890625 \nQ 36.078125 6.890625 40.9375 10.546875 \nQ 45.796875 14.203125 45.796875 21.1875 \nQ 45.796875 27.640625 41.28125 31.265625 \nQ 36.765625 34.90625 28.71875 34.90625 \nL 20.21875 34.90625 \nL 20.21875 43.015625 \nL 29.109375 43.015625 \nQ 36.375 43.015625 40.234375 45.921875 \nQ 44.09375 48.828125 44.09375 54.296875 \nQ 44.09375 59.90625 40.109375 62.90625 \nQ 36.140625 65.921875 28.71875 65.921875 \nQ 24.65625 65.921875 20.015625 65.03125 \nQ 15.375 64.15625 9.8125 62.3125 \nL 9.8125 71.09375 \nQ 15.4375 72.65625 20.34375 73.4375 \nQ 25.25 74.21875 29.59375 74.21875 \nQ 40.828125 74.21875 47.359375 69.109375 \nQ 53.90625 64.015625 53.90625 55.328125 \nQ 53.90625 49.265625 50.4375 45.09375 \nQ 46.96875 40.921875 40.578125 39.3125 \nz\n\" id=\"DejaVuSans-51\"/>\n     <path d=\"M 10.984375 1.515625 \nL 10.984375 10.5 \nQ 14.703125 8.734375 18.5 7.8125 \nQ 22.3125 6.890625 25.984375 6.890625 \nQ 35.75 6.890625 40.890625 13.453125 \nQ 46.046875 20.015625 46.78125 33.40625 \nQ 43.953125 29.203125 39.59375 26.953125 \nQ 35.25 24.703125 29.984375 24.703125 \nQ 19.046875 24.703125 12.671875 31.3125 \nQ 6.296875 37.9375 6.296875 49.421875 \nQ 6.296875 60.640625 12.9375 67.421875 \nQ 19.578125 74.21875 30.609375 74.21875 \nQ 43.265625 74.21875 49.921875 64.515625 \nQ 56.59375 54.828125 56.59375 36.375 \nQ 56.59375 19.140625 48.40625 8.859375 \nQ 40.234375 -1.421875 26.421875 -1.421875 \nQ 22.703125 -1.421875 18.890625 -0.6875 \nQ 15.09375 0.046875 10.984375 1.515625 \nz\nM 30.609375 32.421875 \nQ 37.25 32.421875 41.125 36.953125 \nQ 45.015625 41.5 45.015625 49.421875 \nQ 45.015625 57.28125 41.125 61.84375 \nQ 37.25 66.40625 30.609375 66.40625 \nQ 23.96875 66.40625 20.09375 61.84375 \nQ 16.21875 57.28125 16.21875 49.421875 \nQ 16.21875 41.5 20.09375 36.953125 \nQ 23.96875 32.421875 30.609375 32.421875 \nz\n\" id=\"DejaVuSans-57\"/>\n    </defs>\n    <g style=\"fill:#440154;\" transform=\"translate(82.238125 64.319375)scale(0.1 -0.1)\">\n     <use xlink:href=\"#DejaVuSans-51\"/>\n     <use x=\"63.623047\" xlink:href=\"#DejaVuSans-57\"/>\n    </g>\n   </g>\n   <g id=\"text_8\">\n    <!-- 11 -->\n    <g style=\"fill:#fde725;\" transform=\"translate(190.958125 64.319375)scale(0.1 -0.1)\">\n     <use xlink:href=\"#DejaVuSans-49\"/>\n     <use x=\"63.623047\" xlink:href=\"#DejaVuSans-49\"/>\n    </g>\n   </g>\n   <g id=\"text_9\">\n    <!-- 14 -->\n    <defs>\n     <path d=\"M 37.796875 64.3125 \nL 12.890625 25.390625 \nL 37.796875 25.390625 \nz\nM 35.203125 72.90625 \nL 47.609375 72.90625 \nL 47.609375 25.390625 \nL 58.015625 25.390625 \nL 58.015625 17.1875 \nL 47.609375 17.1875 \nL 47.609375 0 \nL 37.796875 0 \nL 37.796875 17.1875 \nL 4.890625 17.1875 \nL 4.890625 26.703125 \nz\n\" id=\"DejaVuSans-52\"/>\n    </defs>\n    <g style=\"fill:#fde725;\" transform=\"translate(82.238125 173.039375)scale(0.1 -0.1)\">\n     <use xlink:href=\"#DejaVuSans-49\"/>\n     <use x=\"63.623047\" xlink:href=\"#DejaVuSans-52\"/>\n    </g>\n   </g>\n   <g id=\"text_10\">\n    <!-- 36 -->\n    <defs>\n     <path d=\"M 33.015625 40.375 \nQ 26.375 40.375 22.484375 35.828125 \nQ 18.609375 31.296875 18.609375 23.390625 \nQ 18.609375 15.53125 22.484375 10.953125 \nQ 26.375 6.390625 33.015625 6.390625 \nQ 39.65625 6.390625 43.53125 10.953125 \nQ 47.40625 15.53125 47.40625 23.390625 \nQ 47.40625 31.296875 43.53125 35.828125 \nQ 39.65625 40.375 33.015625 40.375 \nz\nM 52.59375 71.296875 \nL 52.59375 62.3125 \nQ 48.875 64.0625 45.09375 64.984375 \nQ 41.3125 65.921875 37.59375 65.921875 \nQ 27.828125 65.921875 22.671875 59.328125 \nQ 17.53125 52.734375 16.796875 39.40625 \nQ 19.671875 43.65625 24.015625 45.921875 \nQ 28.375 48.1875 33.59375 48.1875 \nQ 44.578125 48.1875 50.953125 41.515625 \nQ 57.328125 34.859375 57.328125 23.390625 \nQ 57.328125 12.15625 50.6875 5.359375 \nQ 44.046875 -1.421875 33.015625 -1.421875 \nQ 20.359375 -1.421875 13.671875 8.265625 \nQ 6.984375 17.96875 6.984375 36.375 \nQ 6.984375 53.65625 15.1875 63.9375 \nQ 23.390625 74.21875 37.203125 74.21875 \nQ 40.921875 74.21875 44.703125 73.484375 \nQ 48.484375 72.75 52.59375 71.296875 \nz\n\" id=\"DejaVuSans-54\"/>\n    </defs>\n    <g style=\"fill:#440154;\" transform=\"translate(190.958125 173.039375)scale(0.1 -0.1)\">\n     <use xlink:href=\"#DejaVuSans-51\"/>\n     <use x=\"63.623047\" xlink:href=\"#DejaVuSans-54\"/>\n    </g>\n   </g>\n  </g>\n  <g id=\"axes_2\">\n   <g id=\"patch_7\">\n    <path clip-path=\"url(#p8c433947b0)\" d=\"M 268.420625 224.64 \nL 268.420625 223.790625 \nL 268.420625 8.049375 \nL 268.420625 7.2 \nL 279.292625 7.2 \nL 279.292625 8.049375 \nL 279.292625 223.790625 \nL 279.292625 224.64 \nz\n\" style=\"fill:#ffffff;stroke:#ffffff;stroke-linejoin:miter;stroke-width:0.01;\"/>\n   </g>\n   <image height=\"217\" id=\"image077d170148\" transform=\"scale(1 -1)translate(0 -217)\" width=\"11\" x=\"268\" xlink:href=\"data:image/png;base64,\niVBORw0KGgoAAAANSUhEUgAAAAsAAADZCAYAAAD2WsoCAAAABHNCSVQICAgIfAhkiAAAAWFJREFUaIHt2kFuwzAQQ1FpJOdkPUPvf5C26bZANnoLAuMiWRPEJ2dkO07mR30+x+Fnz5qn2rHnWufiMQvEgjGmMJdgiPOgNqjnHtVZQHLOid9t/BXH2niuHgGJ2cbdA+P8SpDFEOcgc8p5iDMtv/VMGLE2bIK0G8YM4iZtBDFy1VHALqcbxOSMAVMY6By7yNyyjZjzHds41+Lzxh0n+P/HTc4txg0Q79P9Ij4/33fcjTZtBMcNzMHqKoXRpA14REq2MUYuIDjPWEDrmZhNDBjUhmGcU3DAVBurfjpgVKyNJeIcRhPnNWHc5NxEvO8YUG4T1kZ9d8AoGYodWGGmNpa1kdo6amNPCphjFmfpmZwvacNWNLYbuaE85hc4x4ZSEpCW/5KA1DNekcg5tRu0/LbPwYCpG9Bj0KVAlp9OigU81o592YEF5wVfCLe83dtLfsgowbjgfZZigDMxL/kjkGD8AgQsgWhMNMxTAAAAAElFTkSuQmCC\" y=\"-7\"/>\n   <g id=\"matplotlib.axis_3\"/>\n   <g id=\"matplotlib.axis_4\">\n    <g id=\"ytick_3\">\n     <g id=\"line2d_5\">\n      <defs>\n       <path d=\"M 0 0 \nL 3.5 0 \n\" id=\"m73a5d233ad\" style=\"stroke:#000000;stroke-width:0.8;\"/>\n      </defs>\n      <g>\n       <use style=\"stroke:#000000;stroke-width:0.8;\" x=\"279.292625\" xlink:href=\"#m73a5d233ad\" y=\"193.577143\"/>\n      </g>\n     </g>\n     <g id=\"text_11\">\n      <!-- 15 -->\n      <defs>\n       <path d=\"M 10.796875 72.90625 \nL 49.515625 72.90625 \nL 49.515625 64.59375 \nL 19.828125 64.59375 \nL 19.828125 46.734375 \nQ 21.96875 47.46875 24.109375 47.828125 \nQ 26.265625 48.1875 28.421875 48.1875 \nQ 40.625 48.1875 47.75 41.5 \nQ 54.890625 34.8125 54.890625 23.390625 \nQ 54.890625 11.625 47.5625 5.09375 \nQ 40.234375 -1.421875 26.90625 -1.421875 \nQ 22.3125 -1.421875 17.546875 -0.640625 \nQ 12.796875 0.140625 7.71875 1.703125 \nL 7.71875 11.625 \nQ 12.109375 9.234375 16.796875 8.0625 \nQ 21.484375 6.890625 26.703125 6.890625 \nQ 35.15625 6.890625 40.078125 11.328125 \nQ 45.015625 15.765625 45.015625 23.390625 \nQ 45.015625 31 40.078125 35.4375 \nQ 35.15625 39.890625 26.703125 39.890625 \nQ 22.75 39.890625 18.8125 39.015625 \nQ 14.890625 38.140625 10.796875 36.28125 \nz\n\" id=\"DejaVuSans-53\"/>\n      </defs>\n      <g transform=\"translate(286.292625 197.376362)scale(0.1 -0.1)\">\n       <use xlink:href=\"#DejaVuSans-49\"/>\n       <use x=\"63.623047\" xlink:href=\"#DejaVuSans-53\"/>\n      </g>\n     </g>\n    </g>\n    <g id=\"ytick_4\">\n     <g id=\"line2d_6\">\n      <g>\n       <use style=\"stroke:#000000;stroke-width:0.8;\" x=\"279.292625\" xlink:href=\"#m73a5d233ad\" y=\"154.748571\"/>\n      </g>\n     </g>\n     <g id=\"text_12\">\n      <!-- 20 -->\n      <defs>\n       <path d=\"M 19.1875 8.296875 \nL 53.609375 8.296875 \nL 53.609375 0 \nL 7.328125 0 \nL 7.328125 8.296875 \nQ 12.9375 14.109375 22.625 23.890625 \nQ 32.328125 33.6875 34.8125 36.53125 \nQ 39.546875 41.84375 41.421875 45.53125 \nQ 43.3125 49.21875 43.3125 52.78125 \nQ 43.3125 58.59375 39.234375 62.25 \nQ 35.15625 65.921875 28.609375 65.921875 \nQ 23.96875 65.921875 18.8125 64.3125 \nQ 13.671875 62.703125 7.8125 59.421875 \nL 7.8125 69.390625 \nQ 13.765625 71.78125 18.9375 73 \nQ 24.125 74.21875 28.421875 74.21875 \nQ 39.75 74.21875 46.484375 68.546875 \nQ 53.21875 62.890625 53.21875 53.421875 \nQ 53.21875 48.921875 51.53125 44.890625 \nQ 49.859375 40.875 45.40625 35.40625 \nQ 44.1875 33.984375 37.640625 27.21875 \nQ 31.109375 20.453125 19.1875 8.296875 \nz\n\" id=\"DejaVuSans-50\"/>\n      </defs>\n      <g transform=\"translate(286.292625 158.54779)scale(0.1 -0.1)\">\n       <use xlink:href=\"#DejaVuSans-50\"/>\n       <use x=\"63.623047\" xlink:href=\"#DejaVuSans-48\"/>\n      </g>\n     </g>\n    </g>\n    <g id=\"ytick_5\">\n     <g id=\"line2d_7\">\n      <g>\n       <use style=\"stroke:#000000;stroke-width:0.8;\" x=\"279.292625\" xlink:href=\"#m73a5d233ad\" y=\"115.92\"/>\n      </g>\n     </g>\n     <g id=\"text_13\">\n      <!-- 25 -->\n      <g transform=\"translate(286.292625 119.719219)scale(0.1 -0.1)\">\n       <use xlink:href=\"#DejaVuSans-50\"/>\n       <use x=\"63.623047\" xlink:href=\"#DejaVuSans-53\"/>\n      </g>\n     </g>\n    </g>\n    <g id=\"ytick_6\">\n     <g id=\"line2d_8\">\n      <g>\n       <use style=\"stroke:#000000;stroke-width:0.8;\" x=\"279.292625\" xlink:href=\"#m73a5d233ad\" y=\"77.091429\"/>\n      </g>\n     </g>\n     <g id=\"text_14\">\n      <!-- 30 -->\n      <g transform=\"translate(286.292625 80.890647)scale(0.1 -0.1)\">\n       <use xlink:href=\"#DejaVuSans-51\"/>\n       <use x=\"63.623047\" xlink:href=\"#DejaVuSans-48\"/>\n      </g>\n     </g>\n    </g>\n    <g id=\"ytick_7\">\n     <g id=\"line2d_9\">\n      <g>\n       <use style=\"stroke:#000000;stroke-width:0.8;\" x=\"279.292625\" xlink:href=\"#m73a5d233ad\" y=\"38.262857\"/>\n      </g>\n     </g>\n     <g id=\"text_15\">\n      <!-- 35 -->\n      <g transform=\"translate(286.292625 42.062076)scale(0.1 -0.1)\">\n       <use xlink:href=\"#DejaVuSans-51\"/>\n       <use x=\"63.623047\" xlink:href=\"#DejaVuSans-53\"/>\n      </g>\n     </g>\n    </g>\n   </g>\n   <g id=\"patch_8\">\n    <path d=\"M 268.420625 224.64 \nL 268.420625 223.790625 \nL 268.420625 8.049375 \nL 268.420625 7.2 \nL 279.292625 7.2 \nL 279.292625 8.049375 \nL 279.292625 223.790625 \nL 279.292625 224.64 \nz\n\" style=\"fill:none;stroke:#000000;stroke-linejoin:miter;stroke-width:0.8;\"/>\n   </g>\n  </g>\n </g>\n <defs>\n  <clipPath id=\"pb7c2060870\">\n   <rect height=\"217.44\" width=\"217.44\" x=\"34.240625\" y=\"7.2\"/>\n  </clipPath>\n  <clipPath id=\"p8c433947b0\">\n   <rect height=\"217.44\" width=\"10.872\" x=\"268.420625\" y=\"7.2\"/>\n  </clipPath>\n </defs>\n</svg>\n"
          },
          "metadata": {
            "tags": [],
            "needs_background": "light"
          }
        }
      ]
    },
    {
      "cell_type": "code",
      "metadata": {
        "colab": {
          "base_uri": "https://localhost:8080/"
        },
        "id": "o0ouJlMecrB2",
        "outputId": "2ef39b0e-de4c-4e4f-bfc6-c06a1bc46b75"
      },
      "source": [
        "print(\"%d manchots mâles ont été incorrectement prédits femelle.\" % metrics.confusion_matrix(y_test, y_test_pred)[1, 0])\n",
        "print(\"%d manchots femelles ont été incorrectement prédits mâles.\" % metrics.confusion_matrix(y_test, y_test_pred)[0, 1])"
      ],
      "execution_count": null,
      "outputs": [
        {
          "output_type": "stream",
          "text": [
            "14 manchots mâles ont été incorrectement prédits femelle.\n",
            "11 manchots femelles ont été incorrectement prédits mâles.\n"
          ],
          "name": "stdout"
        }
      ]
    },
    {
      "cell_type": "code",
      "metadata": {
        "colab": {
          "base_uri": "https://localhost:8080/"
        },
        "id": "KQuG_Fi8crB2",
        "outputId": "39a8f77a-ebf5-471b-a0f3-2482b94fb780"
      },
      "source": [
        "print(\"%.f%% des prédictions du modèle sur le jeu de test sont correctes.\" % (100*metrics.accuracy_score(y_test, y_test_pred)))"
      ],
      "execution_count": null,
      "outputs": [
        {
          "output_type": "stream",
          "text": [
            "75% des prédictions du modèle sur le jeu de test sont correctes.\n"
          ],
          "name": "stdout"
        }
      ]
    }
  ]
}