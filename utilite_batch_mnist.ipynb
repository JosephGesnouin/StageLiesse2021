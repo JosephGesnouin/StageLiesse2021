{
  "nbformat": 4,
  "nbformat_minor": 0,
  "metadata": {
    "colab": {
      "name": "Untitled3.ipynb",
      "provenance": [],
      "authorship_tag": "ABX9TyOLx2/QNXNzPqpM6v3Z5YPE",
      "include_colab_link": true
    },
    "kernelspec": {
      "name": "python3",
      "display_name": "Python 3"
    },
    "language_info": {
      "name": "python"
    }
  },
  "cells": [
    {
      "cell_type": "markdown",
      "metadata": {
        "id": "view-in-github",
        "colab_type": "text"
      },
      "source": [
        "<a href=\"https://colab.research.google.com/github/JosephGesnouin/StageLiesse2021/blob/main/utilite_batch_mnist.ipynb\" target=\"_parent\"><img src=\"https://colab.research.google.com/assets/colab-badge.svg\" alt=\"Open In Colab\"/></a>"
      ]
    },
    {
      "cell_type": "code",
      "metadata": {
        "colab": {
          "base_uri": "https://localhost:8080/"
        },
        "id": "ZSv48pDnNgDq",
        "outputId": "d77c939a-d435-4eae-bef8-a553bb52740c"
      },
      "source": [
        "# Imports\n",
        "import tensorflow\n",
        "from tensorflow.keras.datasets import mnist\n",
        "from tensorflow.keras.models import Sequential\n",
        "from tensorflow.keras.layers import Dense\n",
        "from tensorflow.keras.utils import to_categorical\n",
        "\n",
        "# Configuration options\n",
        "feature_vector_length = 784\n",
        "num_classes = 10\n",
        "\n",
        "# Load the data\n",
        "(X_train, Y_train), (X_test, Y_test) = mnist.load_data()\n",
        "\n",
        "# Reshape the data - MLPs do not understand such things as '2D'.\n",
        "# Reshape to 28 x 28 pixels = 784 features\n",
        "X_train = X_train.reshape(X_train.shape[0], feature_vector_length)\n",
        "X_test = X_test.reshape(X_test.shape[0], feature_vector_length)\n",
        "\n",
        "# Convert into greyscale\n",
        "X_train = X_train.astype('float32')\n",
        "X_test = X_test.astype('float32')\n",
        "X_train /= 255\n",
        "X_test /= 255\n",
        "\n",
        "# Convert target classes to categorical ones\n",
        "Y_train = to_categorical(Y_train, num_classes)\n",
        "Y_test = to_categorical(Y_test, num_classes)\n",
        "\n",
        "# Set the input shape\n",
        "input_shape = (feature_vector_length,)\n",
        "print(f'Feature shape: {input_shape}')\n",
        "\n",
        "# Create the model\n",
        "model = Sequential()\n",
        "model.add(Dense(350, input_shape=input_shape, activation='relu'))\n",
        "model.add(Dense(50, activation='relu'))\n",
        "model.add(Dense(num_classes, activation='softmax'))\n",
        "\n",
        "# Configure the model and start training\n",
        "model.compile(loss='categorical_crossentropy', optimizer='adam', metrics=['accuracy'])\n",
        "model.fit(X_train, Y_train, epochs=10, batch_size=len(Y_train), verbose=1, validation_split=0.2)\n",
        "\n",
        "# Test the model after training\n",
        "test_results = model.evaluate(X_test, Y_test, verbose=1)\n",
        "print(f'Test results - Loss: {test_results[0]} - Accuracy: {test_results[1]}%')"
      ],
      "execution_count": 1,
      "outputs": [
        {
          "output_type": "stream",
          "text": [
            "Downloading data from https://storage.googleapis.com/tensorflow/tf-keras-datasets/mnist.npz\n",
            "11493376/11490434 [==============================] - 0s 0us/step\n",
            "Feature shape: (784,)\n",
            "Epoch 1/10\n",
            "1/1 [==============================] - 3s 3s/step - loss: 2.3166 - accuracy: 0.1606 - val_loss: 2.1070 - val_accuracy: 0.3661\n",
            "Epoch 2/10\n",
            "1/1 [==============================] - 1s 1s/step - loss: 2.1122 - accuracy: 0.3536 - val_loss: 1.9399 - val_accuracy: 0.5514\n",
            "Epoch 3/10\n",
            "1/1 [==============================] - 1s 1s/step - loss: 1.9484 - accuracy: 0.5322 - val_loss: 1.7675 - val_accuracy: 0.6522\n",
            "Epoch 4/10\n",
            "1/1 [==============================] - 1s 1s/step - loss: 1.7795 - accuracy: 0.6328 - val_loss: 1.5919 - val_accuracy: 0.6989\n",
            "Epoch 5/10\n",
            "1/1 [==============================] - 1s 1s/step - loss: 1.6074 - accuracy: 0.6818 - val_loss: 1.4243 - val_accuracy: 0.7266\n",
            "Epoch 6/10\n",
            "1/1 [==============================] - 1s 1s/step - loss: 1.4438 - accuracy: 0.7048 - val_loss: 1.2701 - val_accuracy: 0.7458\n",
            "Epoch 7/10\n",
            "1/1 [==============================] - 1s 1s/step - loss: 1.2938 - accuracy: 0.7234 - val_loss: 1.1284 - val_accuracy: 0.7717\n",
            "Epoch 8/10\n",
            "1/1 [==============================] - 1s 1s/step - loss: 1.1559 - accuracy: 0.7483 - val_loss: 0.9991 - val_accuracy: 0.8012\n",
            "Epoch 9/10\n",
            "1/1 [==============================] - 1s 1s/step - loss: 1.0296 - accuracy: 0.7790 - val_loss: 0.8852 - val_accuracy: 0.8269\n",
            "Epoch 10/10\n",
            "1/1 [==============================] - 1s 1s/step - loss: 0.9178 - accuracy: 0.8059 - val_loss: 0.7886 - val_accuracy: 0.8424\n",
            "313/313 [==============================] - 1s 2ms/step - loss: 0.7936 - accuracy: 0.8331\n",
            "Test results - Loss: 0.7936071753501892 - Accuracy: 0.8331000208854675%\n"
          ],
          "name": "stdout"
        }
      ]
    },
    {
      "cell_type": "code",
      "metadata": {
        "colab": {
          "base_uri": "https://localhost:8080/"
        },
        "id": "NL05Kmt4Ni8G",
        "outputId": "e4173895-6cd8-4cbd-bf8c-9f547efd28f2"
      },
      "source": [
        "# Imports\n",
        "import tensorflow\n",
        "from tensorflow.keras.datasets import mnist\n",
        "from tensorflow.keras.models import Sequential\n",
        "from tensorflow.keras.layers import Dense\n",
        "from tensorflow.keras.utils import to_categorical\n",
        "\n",
        "# Configuration options\n",
        "feature_vector_length = 784\n",
        "num_classes = 10\n",
        "\n",
        "# Load the data\n",
        "(X_train, Y_train), (X_test, Y_test) = mnist.load_data()\n",
        "\n",
        "# Reshape the data - MLPs do not understand such things as '2D'.\n",
        "# Reshape to 28 x 28 pixels = 784 features\n",
        "X_train = X_train.reshape(X_train.shape[0], feature_vector_length)\n",
        "X_test = X_test.reshape(X_test.shape[0], feature_vector_length)\n",
        "\n",
        "# Convert into greyscale\n",
        "X_train = X_train.astype('float32')\n",
        "X_test = X_test.astype('float32')\n",
        "X_train /= 255\n",
        "X_test /= 255\n",
        "\n",
        "# Convert target classes to categorical ones\n",
        "Y_train = to_categorical(Y_train, num_classes)\n",
        "Y_test = to_categorical(Y_test, num_classes)\n",
        "\n",
        "# Set the input shape\n",
        "input_shape = (feature_vector_length,)\n",
        "print(f'Feature shape: {input_shape}')\n",
        "\n",
        "# Create the model\n",
        "model = Sequential()\n",
        "model.add(Dense(350, input_shape=input_shape, activation='relu'))\n",
        "model.add(Dense(50, activation='relu'))\n",
        "model.add(Dense(num_classes, activation='softmax'))\n",
        "\n",
        "# Configure the model and start training\n",
        "model.compile(loss='categorical_crossentropy', optimizer='adam', metrics=['accuracy'])\n",
        "model.fit(X_train, Y_train, epochs=10, batch_size=32, verbose=1, validation_split=0.2)\n",
        "\n",
        "# Test the model after training\n",
        "test_results = model.evaluate(X_test, Y_test, verbose=1)\n",
        "print(f'Test results - Loss: {test_results[0]} - Accuracy: {test_results[1]}%')"
      ],
      "execution_count": 2,
      "outputs": [
        {
          "output_type": "stream",
          "text": [
            "Feature shape: (784,)\n",
            "Epoch 1/10\n",
            "1500/1500 [==============================] - 7s 4ms/step - loss: 0.4316 - accuracy: 0.8719 - val_loss: 0.1271 - val_accuracy: 0.9610\n",
            "Epoch 2/10\n",
            "1500/1500 [==============================] - 6s 4ms/step - loss: 0.0997 - accuracy: 0.9695 - val_loss: 0.0893 - val_accuracy: 0.9715\n",
            "Epoch 3/10\n",
            "1500/1500 [==============================] - 6s 4ms/step - loss: 0.0590 - accuracy: 0.9819 - val_loss: 0.0883 - val_accuracy: 0.9738\n",
            "Epoch 4/10\n",
            "1500/1500 [==============================] - 6s 4ms/step - loss: 0.0438 - accuracy: 0.9862 - val_loss: 0.0776 - val_accuracy: 0.9774\n",
            "Epoch 5/10\n",
            "1500/1500 [==============================] - 6s 4ms/step - loss: 0.0312 - accuracy: 0.9895 - val_loss: 0.0971 - val_accuracy: 0.9733\n",
            "Epoch 6/10\n",
            "1500/1500 [==============================] - 6s 4ms/step - loss: 0.0254 - accuracy: 0.9915 - val_loss: 0.0945 - val_accuracy: 0.9756\n",
            "Epoch 7/10\n",
            "1500/1500 [==============================] - 6s 4ms/step - loss: 0.0241 - accuracy: 0.9918 - val_loss: 0.1033 - val_accuracy: 0.9754\n",
            "Epoch 8/10\n",
            "1500/1500 [==============================] - 6s 4ms/step - loss: 0.0165 - accuracy: 0.9942 - val_loss: 0.1127 - val_accuracy: 0.9767\n",
            "Epoch 9/10\n",
            "1500/1500 [==============================] - 6s 4ms/step - loss: 0.0173 - accuracy: 0.9942 - val_loss: 0.1046 - val_accuracy: 0.9772\n",
            "Epoch 10/10\n",
            "1500/1500 [==============================] - 6s 4ms/step - loss: 0.0117 - accuracy: 0.9961 - val_loss: 0.1042 - val_accuracy: 0.9781\n",
            "313/313 [==============================] - 1s 2ms/step - loss: 0.0944 - accuracy: 0.9780\n",
            "Test results - Loss: 0.0943756178021431 - Accuracy: 0.9779999852180481%\n"
          ],
          "name": "stdout"
        }
      ]
    },
    {
      "cell_type": "code",
      "metadata": {
        "id": "AhXjpr_BNpRk"
      },
      "source": [
        ""
      ],
      "execution_count": null,
      "outputs": []
    }
  ]
}